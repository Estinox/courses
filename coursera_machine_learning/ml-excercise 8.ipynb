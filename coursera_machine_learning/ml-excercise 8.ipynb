{
 "cells": [
  {
   "cell_type": "code",
   "execution_count": null,
   "metadata": {
    "collapsed": true
   },
   "outputs": [],
   "source": [
    "import numpy as np\n",
    "import pandas as pd\n",
    "import matplotlib.pyplot as plt\n",
    "import seaborn as sns\n",
    "import sklearn\n",
    "from sklearn.metrics import confusion_matrix, classification_report\n",
    "from scipy.io import loadmat\n",
    "import scipy\n",
    "import matplotlib.mlab as mlab\n",
    "\n",
    "%matplotlib inline"
   ]
  },
  {
   "cell_type": "code",
   "execution_count": null,
   "metadata": {
    "collapsed": false
   },
   "outputs": [],
   "source": [
    "data = loadmat('data/ex8data1.mat')\n",
    "df = pd.DataFrame(data['X'], columns=['latency', 'throughput'])\n",
    "df.head()"
   ]
  },
  {
   "cell_type": "code",
   "execution_count": null,
   "metadata": {
    "collapsed": false
   },
   "outputs": [],
   "source": [
    "df.plot(kind='scatter', x='latency', y='throughput')"
   ]
  },
  {
   "cell_type": "code",
   "execution_count": null,
   "metadata": {
    "collapsed": false
   },
   "outputs": [],
   "source": [
    "print(df.mean(axis=0), \"\\n\")\n",
    "print(df.var(axis=0))"
   ]
  },
  {
   "cell_type": "code",
   "execution_count": null,
   "metadata": {
    "collapsed": false
   },
   "outputs": [],
   "source": [
    "# Estimate the mean and variance for each of our factors and param that into our scipy.stats.norm() distribution\n",
    "norm_estimations = [scipy.stats.norm(mu, variance) for mu, variance in zip(df.mean(axis=0), df.var(axis=0))]"
   ]
  },
  {
   "cell_type": "code",
   "execution_count": null,
   "metadata": {
    "collapsed": false
   },
   "outputs": [],
   "source": [
    "# Let's take a quick look at latency's gaussian density estimation\n",
    "a = np.linspace(8, 20)\n",
    "plt.plot(a, norm_estimations[0].pdf(a))"
   ]
  },
  {
   "cell_type": "code",
   "execution_count": null,
   "metadata": {
    "collapsed": false
   },
   "outputs": [],
   "source": [
    "df['p'] = norm_estimations[0].pdf(df.latency) * norm_estimations[1].pdf(df.throughput)\n",
    "df.sort_values('p', ascending=True).head()"
   ]
  },
  {
   "cell_type": "code",
   "execution_count": null,
   "metadata": {
    "collapsed": false
   },
   "outputs": [],
   "source": [
    "df.plot(kind='scatter', x='latency', y='throughput')"
   ]
  },
  {
   "cell_type": "code",
   "execution_count": null,
   "metadata": {
    "collapsed": false
   },
   "outputs": [],
   "source": [
    "# Reference code: http://matplotlib.org/examples/pylab_examples/contour_demo.html\n",
    "\n",
    "delta = 0.025\n",
    "#x = np.arange(df.latency.mean()-2*df.latency.std(), df.latency.mean()+2*df.latency.std(), delta)\n",
    "#y = np.arange(df.throughput.mean()-2*df.throughput.std(), df.throughput.mean()+2*df.throughput.std(), delta)\n",
    "\n",
    "x = np.arange(df.latency.min()-1, df.latency.max()+1, delta)\n",
    "y = np.arange(df.throughput.min()-1, df.throughput.max()+1, delta)\n",
    "\n",
    "X, Y = np.meshgrid(x, y)\n",
    "Z = mlab.bivariate_normal(X, Y, df.std(axis=0)[0], df.std(axis=0)[1], df.mean(axis=0)[0], df.mean(axis=0)[1])\n",
    "\n",
    "fig, ax = plt.subplots(figsize=(12,8))\n",
    "CS = plt.contour(X, Y, Z)\n",
    "#plt.clabel(CS, inline=1, fontsize=10)\n",
    "df.plot(kind='scatter', x='latency', y='throughput', ax=ax)\n",
    "plt.title('Bivariate Normal of Latency and Throughput')\n"
   ]
  },
  {
   "cell_type": "markdown",
   "metadata": {},
   "source": [
    "**Thresholding**"
   ]
  },
  {
   "cell_type": "code",
   "execution_count": null,
   "metadata": {
    "collapsed": false
   },
   "outputs": [],
   "source": [
    "x_cv = pd.DataFrame(data['Xval'], columns=['latency', 'throughput'])\n",
    "y_cv = pd.DataFrame(data['yval'], columns=['label'])"
   ]
  },
  {
   "cell_type": "code",
   "execution_count": null,
   "metadata": {
    "collapsed": false
   },
   "outputs": [],
   "source": [
    "x_cv.head()"
   ]
  },
  {
   "cell_type": "code",
   "execution_count": null,
   "metadata": {
    "collapsed": false
   },
   "outputs": [],
   "source": [
    "y_cv.head()"
   ]
  },
  {
   "cell_type": "code",
   "execution_count": null,
   "metadata": {
    "collapsed": false
   },
   "outputs": [],
   "source": [
    "x_cv['p'] = norm_estimations[0].pdf(x_cv.latency) * norm_estimations[1].pdf(x_cv.throughput)\n",
    "x_cv.head()"
   ]
  },
  {
   "cell_type": "code",
   "execution_count": null,
   "metadata": {
    "collapsed": true
   },
   "outputs": [],
   "source": [
    "def precision(y_pred, y_cv):\n",
    "    tp = (y_pred[y_pred==0].reshape(-1,1) == y_cv.values[y_pred==0]).sum()\n",
    "    fp = (y_pred==0).sum() - tp\n",
    "    return tp / (tp + fp)"
   ]
  },
  {
   "cell_type": "code",
   "execution_count": null,
   "metadata": {
    "collapsed": true
   },
   "outputs": [],
   "source": [
    "def recall(y_pred, y_cv):\n",
    "    tp = (y_pred[y_pred==0].reshape(-1,1) == y_cv.values[y_pred==0]).sum()\n",
    "    fn = np.sum((y_pred[y_pred==1].reshape(-1,1) != y_cv[y_pred==1]).values)\n",
    "    return tp / (tp + fn)"
   ]
  },
  {
   "cell_type": "code",
   "execution_count": null,
   "metadata": {
    "collapsed": true
   },
   "outputs": [],
   "source": [
    "def f1(y_pred, y_cv):\n",
    "    prec = precision(y_pred, y_cv)\n",
    "    rec = recall(y_pred, y_cv)\n",
    "    \n",
    "    return (2*prec*rec) / (prec+rec)"
   ]
  },
  {
   "cell_type": "code",
   "execution_count": null,
   "metadata": {
    "collapsed": true
   },
   "outputs": [],
   "source": [
    "epsilon = 8.99e-05\n",
    "#epsilon = 0.05"
   ]
  },
  {
   "cell_type": "code",
   "execution_count": null,
   "metadata": {
    "collapsed": false
   },
   "outputs": [],
   "source": [
    "# calculate our precision, recall, and f1 rates\n",
    "y_pred = (x_cv.p <= epsilon).astype(int).values\n",
    "precision(y_pred, y_cv), recall(y_pred, y_cv), f1(y_pred, y_cv)"
   ]
  },
  {
   "cell_type": "code",
   "execution_count": null,
   "metadata": {
    "collapsed": false
   },
   "outputs": [],
   "source": [
    "# use sklearn's confusion matrix function\n",
    "confusion_matrix(y_pred, y_cv)"
   ]
  },
  {
   "cell_type": "code",
   "execution_count": null,
   "metadata": {
    "collapsed": false
   },
   "outputs": [],
   "source": [
    "# how nice, sklearn even has classification metrics printed for us\n",
    "print(classification_report(y_pred, y_cv))"
   ]
  },
  {
   "cell_type": "code",
   "execution_count": null,
   "metadata": {
    "collapsed": false
   },
   "outputs": [],
   "source": [
    "# For class 1\n",
    "tn = confusion_matrix(y_pred, y_cv)[0,0]\n",
    "fp = confusion_matrix(y_pred, y_cv)[0,1]\n",
    "fn = confusion_matrix(y_pred, y_cv)[1,0]\n",
    "tp = confusion_matrix(y_pred, y_cv)[1,1]\n",
    "\n",
    "print(fn, fp, fn, tp)\n",
    "tp / (tp + fp), tp / (tp + fn)"
   ]
  },
  {
   "cell_type": "code",
   "execution_count": null,
   "metadata": {
    "collapsed": false
   },
   "outputs": [],
   "source": [
    "# For class 0\n",
    "tp = confusion_matrix(y_pred, y_cv)[0,0]\n",
    "fn = confusion_matrix(y_pred, y_cv)[0,1]\n",
    "fp = confusion_matrix(y_pred, y_cv)[1,0]\n",
    "tn = confusion_matrix(y_pred, y_cv)[1,1]\n",
    "\n",
    "tp / (tp + fp), tp / (tp + fn)"
   ]
  },
  {
   "cell_type": "markdown",
   "metadata": {},
   "source": [
    "**Recommender System - Collaborative Filtering**"
   ]
  },
  {
   "cell_type": "code",
   "execution_count": null,
   "metadata": {
    "collapsed": false
   },
   "outputs": [],
   "source": [
    "data = loadmat('data/ex8_movies.mat')\n",
    "df_r = pd.DataFrame(data['R'])\n",
    "df_y = pd.DataFrame(data['Y'])"
   ]
  },
  {
   "cell_type": "code",
   "execution_count": null,
   "metadata": {
    "collapsed": false
   },
   "outputs": [],
   "source": [
    "print(df_r.shape)\n",
    "df_r.head()"
   ]
  },
  {
   "cell_type": "code",
   "execution_count": null,
   "metadata": {
    "collapsed": false
   },
   "outputs": [],
   "source": [
    "print(df_y.shape)\n",
    "df_y.head()"
   ]
  },
  {
   "cell_type": "code",
   "execution_count": null,
   "metadata": {
    "collapsed": false
   },
   "outputs": [],
   "source": [
    "df_y.mean(axis=0)[:10]"
   ]
  },
  {
   "cell_type": "code",
   "execution_count": null,
   "metadata": {
    "collapsed": true
   },
   "outputs": [],
   "source": []
  },
  {
   "cell_type": "code",
   "execution_count": null,
   "metadata": {
    "collapsed": true
   },
   "outputs": [],
   "source": []
  },
  {
   "cell_type": "code",
   "execution_count": null,
   "metadata": {
    "collapsed": true
   },
   "outputs": [],
   "source": []
  }
 ],
 "metadata": {
  "kernelspec": {
   "display_name": "Python 3",
   "language": "python",
   "name": "python3"
  },
  "language_info": {
   "codemirror_mode": {
    "name": "ipython",
    "version": 3
   },
   "file_extension": ".py",
   "mimetype": "text/x-python",
   "name": "python",
   "nbconvert_exporter": "python",
   "pygments_lexer": "ipython3",
   "version": "3.5.1"
  }
 },
 "nbformat": 4,
 "nbformat_minor": 0
}
