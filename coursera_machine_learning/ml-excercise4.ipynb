{
 "cells": [
  {
   "cell_type": "code",
   "execution_count": null,
   "metadata": {
    "collapsed": false
   },
   "outputs": [],
   "source": [
    "import numpy as np\n",
    "import pandas as pd\n",
    "import matplotlib.pyplot as plt\n",
    "from scipy.io import loadmat\n",
    "\n",
    "import sklearn\n",
    "\n",
    "%matplotlib inline"
   ]
  },
  {
   "cell_type": "code",
   "execution_count": null,
   "metadata": {
    "collapsed": false
   },
   "outputs": [],
   "source": [
    "data = loadmat('data/ex4data1.mat')\n",
    "X = data['X']\n",
    "y = data['y']\n",
    "\n",
    "thetas = loadmat('data/ex4weights.mat')\n",
    "theta1 = thetas['Theta1']\n",
    "theta2 = thetas['Theta2']\n",
    "\n",
    "thetas = [theta1, theta2]\n",
    "\n",
    "print(\"X:\", X.shape, '\\n', X[:5])\n",
    "print(\"y:\", y.shape, '\\n', y[:5])\n",
    "print(\"theta1:\", theta1.shape, '\\n', theta1[:5])\n",
    "print(\"theta2:\", theta2.shape, '\\n', theta2[:5])"
   ]
  },
  {
   "cell_type": "code",
   "execution_count": null,
   "metadata": {
    "collapsed": true
   },
   "outputs": [],
   "source": [
    "def sigmoid(x):\n",
    "    return 1 / (1 + np.exp(-x))"
   ]
  },
  {
   "cell_type": "code",
   "execution_count": null,
   "metadata": {
    "collapsed": true
   },
   "outputs": [],
   "source": [
    "def feedForwardOnce(X, theta):\n",
    "    X_one = np.matrix(np.insert(X, 0, values=np.ones(len(X)), axis=1))\n",
    "    theta_matrix = np.matrix(theta)\n",
    "    \n",
    "    z = X_one * theta_matrix.T\n",
    "    a = sigmoid(z)\n",
    "    \n",
    "    return a, z"
   ]
  },
  {
   "cell_type": "code",
   "execution_count": null,
   "metadata": {
    "collapsed": true
   },
   "outputs": [],
   "source": [
    "def feedForward(X, thetas):\n",
    "    X_copy = X.copy()\n",
    "    for theta in thetas:\n",
    "        X_copy, _ = feedForwardOnce(X_copy, theta)\n",
    "    return X_copy"
   ]
  },
  {
   "cell_type": "code",
   "execution_count": null,
   "metadata": {
    "collapsed": true
   },
   "outputs": [],
   "source": [
    "# Tracks all the a's and z's for each node in our NN\n",
    "def feedForwardTrack(X, thetas):\n",
    "    a_s = []\n",
    "    z_s = []\n",
    "\n",
    "    # Track all the a's and z's for all nodes\n",
    "    a = X.copy()\n",
    "    for theta in thetas:\n",
    "        a, z = feedForwardOnce(a,theta)\n",
    "        a_s.append(a)\n",
    "        z_s.append(z)\n",
    "\n",
    "    return a_s, z_s"
   ]
  },
  {
   "cell_type": "code",
   "execution_count": null,
   "metadata": {
    "collapsed": true
   },
   "outputs": [],
   "source": [
    "def feedForwardPredict(X, thetas):\n",
    "    X_copy = feedForward(X, thetas)\n",
    "    return np.argmax(sigmoid(X_copy), axis=1) + 1 # plus one cause of the y's are 1-based"
   ]
  },
  {
   "cell_type": "code",
   "execution_count": null,
   "metadata": {
    "collapsed": false
   },
   "outputs": [],
   "source": [
    "def nnCostFunction(X, y, thetas, lam=0):\n",
    "    from sklearn.preprocessing import OneHotEncoder\n",
    "    encoder = OneHotEncoder(sparse=False)\n",
    "    \n",
    "    y_onehot = encoder.fit_transform(y)\n",
    "    y_predicted = feedForward(X, thetas)\n",
    "    \n",
    "    first_term = np.multiply(-y_onehot, np.log(y_predicted))\n",
    "    second_term = np.multiply((1-y_onehot), np.log(1-y_predicted))\n",
    "    \n",
    "    reg = 0\n",
    "    for theta in thetas:\n",
    "        reg += lam/len(X)/2 * np.sum(np.power(theta,2))\n",
    "    \n",
    "    cost = 1/len(X) * np.sum(first_term - second_term) + reg\n",
    "    \n",
    "    return cost"
   ]
  },
  {
   "cell_type": "code",
   "execution_count": null,
   "metadata": {
    "collapsed": false
   },
   "outputs": [],
   "source": [
    "print(nnCostFunction(X,y,thetas, 0))\n",
    "print(nnCostFunction(X,y,thetas, 1))"
   ]
  },
  {
   "cell_type": "markdown",
   "metadata": {},
   "source": [
    "**2. Backpropagation**"
   ]
  },
  {
   "cell_type": "code",
   "execution_count": null,
   "metadata": {
    "collapsed": false
   },
   "outputs": [],
   "source": [
    "def sigmoidGradient(z):\n",
    "    return np.multiply(sigmoid(z), (1 - sigmoid(z)))\n",
    "\n",
    "sigmoidGradient(0)"
   ]
  },
  {
   "cell_type": "code",
   "execution_count": null,
   "metadata": {
    "collapsed": false
   },
   "outputs": [],
   "source": [
    "def randInitializeWeights(shape):\n",
    "    return np.random.uniform(-0.12, 0.12, size=shape)"
   ]
  },
  {
   "cell_type": "code",
   "execution_count": null,
   "metadata": {
    "collapsed": true
   },
   "outputs": [],
   "source": [
    "def randInitializeLikeThetas(thetas):\n",
    "    thetas_rand = []\n",
    "    for theta in thetas:\n",
    "        thetas_rand.append(randInitializeWeights(theta.shape))\n",
    "    return np.array(thetas_rand)"
   ]
  },
  {
   "cell_type": "code",
   "execution_count": null,
   "metadata": {
    "collapsed": false
   },
   "outputs": [],
   "source": [
    "def backpropagation(X, y, thetas):\n",
    "    from sklearn.preprocessing import OneHotEncoder\n",
    "    encoder = OneHotEncoder(sparse=False)\n",
    "    y_onehot = encoder.fit_transform(y)\n",
    "    \n",
    "    # Feed Forward first\n",
    "    a_s, z_s = feedForwardTrack(X, thetas)\n",
    "    \n",
    "    # Alias the nodes\n",
    "    a1 = np.insert(X, 0, values=np.ones(len(X)), axis=1)\n",
    "    a2 = np.insert(a_s[0], 0, values=np.ones(len(a_s[0])), axis=1)\n",
    "    a3 = a_s[1]\n",
    "    z2 = z_s[0]\n",
    "    z3 = z_s[1]\n",
    "    \n",
    "    # propagate erros back\n",
    "    big_delta = randInitializeLikeThetas(thetas)\n",
    "    \n",
    "    for i in range(len(X)):\n",
    "        delta_3_i = (a3[i] - y_onehot[i])\n",
    "        big_delta[1] = big_delta[1] + delta_3_i.T * a2[i]\n",
    "        \n",
    "        z2_ones = np.insert(z2[0], 0, np.ones(1))\n",
    "        delta_2_i = np.multiply((theta2.T * delta_3_i.T).T, sigmoidGradient(z2_ones))\n",
    "        big_delta[0] = big_delta[0] + delta_2_i[:,1:].T * a1[0]\n",
    "        \n",
    "    D2 = big_delta[1] / len(X)\n",
    "    D3 = big_delta[0] / len(X)\n",
    "    \n",
    "    return np.concatenate((np.ravel(D2), np.ravel(D3)))"
   ]
  },
  {
   "cell_type": "code",
   "execution_count": null,
   "metadata": {
    "collapsed": false,
    "scrolled": true
   },
   "outputs": [],
   "source": [
    "backpropagation(X, y, thetas).shape"
   ]
  },
  {
   "cell_type": "code",
   "execution_count": null,
   "metadata": {
    "collapsed": true
   },
   "outputs": [],
   "source": []
  },
  {
   "cell_type": "code",
   "execution_count": null,
   "metadata": {
    "collapsed": true
   },
   "outputs": [],
   "source": []
  },
  {
   "cell_type": "code",
   "execution_count": null,
   "metadata": {
    "collapsed": true
   },
   "outputs": [],
   "source": []
  },
  {
   "cell_type": "code",
   "execution_count": null,
   "metadata": {
    "collapsed": true
   },
   "outputs": [],
   "source": []
  }
 ],
 "metadata": {
  "kernelspec": {
   "display_name": "Python 3",
   "language": "python",
   "name": "python3"
  },
  "language_info": {
   "codemirror_mode": {
    "name": "ipython",
    "version": 3
   },
   "file_extension": ".py",
   "mimetype": "text/x-python",
   "name": "python",
   "nbconvert_exporter": "python",
   "pygments_lexer": "ipython3",
   "version": "3.5.1"
  }
 },
 "nbformat": 4,
 "nbformat_minor": 0
}
