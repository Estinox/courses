{
 "cells": [
  {
   "cell_type": "markdown",
   "metadata": {},
   "source": [
    "# The many faces of the Reverend Bayes: Face 2.\n",
    "\n",
    "with many parts stolen from labs and lectures for AM207."
   ]
  },
  {
   "cell_type": "code",
   "execution_count": null,
   "metadata": {
    "collapsed": false
   },
   "outputs": [],
   "source": [
    "%matplotlib inline\n",
    "import numpy as np\n",
    "import scipy as sp\n",
    "import matplotlib as mpl\n",
    "import matplotlib.cm as cm\n",
    "import matplotlib.pyplot as plt\n",
    "import pandas as pd\n",
    "pd.set_option('display.width', 500)\n",
    "pd.set_option('display.max_columns', 100)\n",
    "pd.set_option('display.notebook_repr_html', True)\n",
    "import seaborn as sns\n",
    "sns.set_style(\"whitegrid\")\n",
    "sns.set_context(\"poster\")"
   ]
  },
  {
   "cell_type": "markdown",
   "metadata": {},
   "source": [
    "## FREQUENTIST STATISTICS\n",
    "\n",
    "$\\newcommand{\\Lik}{p(D|\\theta)}$\n",
    "\n",
    "\n",
    "In frequentist approach, a parameter estimate is computed by using some function on the data $D$. \n",
    "In the world of frequentist there is a true value of the parameter, which is fixed, however  the data are random. \n",
    "\n",
    "In other words, assuming that a given distribution is a good description of the model, there is a true parameter $\\theta^{\\star}$ that characterizes the population. Given the data set(sample) we have, we can estimate the parameter $\\hat{\\theta}$. If we could replicate the experiment many times we would have the sampling distribution of $\\theta$ which can be used to estimate the error on the parameter estimation. By sampling $M$ Data sets $D_i$, each of size $N$, from some true model characterized by $\\theta^{\\star}$ we are able to calculate  $\\hat{\\theta}_i$, one for each dataset. And as $M\\rightarrow \\infty$ the distribution of $\\hat{\\theta}$'s becomes narrower and narrower and approaches $\\theta^{\\star}$. \n",
    "\n",
    "## Maximum Likelihood\n",
    "A  basic approach to parameter estimation is maximum likelihood (MLE). The goal here\n",
    "is to find the parameter estimates that maximize the likelihood. \n",
    "\n",
    "The likelihood gives us a measure of how likely it is to observe values $D={d_1,...,d_n}$ given the parameters $\\theta$. \n",
    "\n",
    "Assumming iid, the likelihood  is\n",
    "\n",
    "$$L=\\Lik = \\prod_{i=1}^{n} p(d_i|\\theta)$$\n",
    "\n",
    "How likely are the observations if the model is true?\n",
    "This corresponds to maximizing the likelihood as a function of $\\theta$ for a given set of observations. \n",
    "\n",
    "$$ \\theta_{ML} = \\arg \\! \\max_{\\theta} \\Lik $$\n",
    "\n",
    "Notice that this method wants to account for every point in the \"training set\". So it overfits."
   ]
  },
  {
   "cell_type": "markdown",
   "metadata": {
    "variables": {
     "\\rm MAP": {}
    }
   },
   "source": [
    "## The Bayesian Approach\n",
    "\n",
    "\n",
    "A Bayesian approach to parameter estimation is to treat $\\theta$ as a random variable instead, and to fix the data set. So we dont talk anymore about the data set as a sample from a population, but assume that its all we know about the world. KIts fixed.\n",
    "\n",
    "We then associate with the parameter $\\theta$ a\n",
    "prior distribution $p(\\theta)$. The prior distribution represents our belief on the\n",
    "parameter values when we have not observed any data yet. \n",
    "\n",
    "In a Bayesian context, the first\n",
    "goal is to estimate the posterior distribution over parameter values given our data. This is also\n",
    "known as posterior inference. In other words, we would like to know $p(\\theta|D)$ or $p(\\theta|y)$.\n",
    "\n",
    "$$ p(\\theta|y) = \\frac{p(y|\\theta)\\,p(\\theta)}{p(y)} $$\n",
    "\n",
    "with the evidence $p(D)$ or $p(y)$ being given by the prior-predictive:\n",
    "\n",
    "$$p(y) = \\int d\\theta p(y|\\theta) p(\\theta)$$ \n",
    "\n",
    "Remember though at the end of the day, we care about how we are going to make predictions on future data, and not the values of the parameters. Thus what we wish to find is the distribution of a future data point $y^*$, also known as the posterior predictive distribution:\n",
    "\n",
    "$$p(y^* | D=\\{y\\}) = \\int d\\theta p(y^*|\\theta)p(\\theta|\\{y\\})$$.\n",
    "\n",
    "If you think about this, for example, from the perspective of a regression problem, this is the distribution for y at a new x (which in many cases is gaussian). This is not different from the frequentist case. But there the different y's come from the different samples (typically realized in practice as bootstrap samples).\n",
    "\n",
    "## Maximum a posteriori\n",
    "\n",
    "The posterior distribution is specified by a simple product of the likelihood (how\n",
    "likely is the data given the model that uses these parameter estimates) and the prior. \n",
    "In Bayesian data analysis, one way to\n",
    "apply a model to data is to find the maximum a posteriori (MAP) parameter values.\n",
    "The goal in this case is to find the parameter  that maximize the posterior probability of the\n",
    "parameters given the data. In other words, we find the mode of the posterior distribution.\n",
    "This corresponds to:\n",
    "\n",
    "\\begin{eqnarray}\n",
    " \\theta_{{\\rm MAP}} &=& \\arg \\max_{\\theta} \\, p(\\theta | D)  \\nonumber \\\\ \n",
    "                               & =& \\arg \\max_{\\theta}  \\frac{\\Lik \\, p(\\theta)}{p(D)}  \\nonumber \\\\ \n",
    "                               & =& \\arg \\max_{\\theta}  \\, \\Lik \\, p(\\theta) \\nonumber \\\\ \n",
    "\\end{eqnarray}\n",
    "\n",
    "This looks similar to the maximum likelihood estimation procedure. The difference is that\n",
    "the prior we set over the parameters does influence the parameter estimation. \n",
    "Although it seems that the prior should not play a role in parameter\n",
    "estimation, there are some good reasons to prefer the MAP over the ML estimation, especially\n",
    "when only few data points are available or when the data is degenerate in some way (e.g.,\n",
    "the data shows no variation)."
   ]
  },
  {
   "cell_type": "markdown",
   "metadata": {},
   "source": [
    "##Coin tosses: Binomial-Beta\n",
    "\n",
    "code from https://github.com/CamDavidsonPilon/Probabilistic-Programming-and-Bayesian-Methods-for-Hackers/blob/master/Chapter1_Introduction/Chapter1.ipynb\n",
    "\n",
    "This is our first example of a conjugate prior model. Coin tosses are modelled using the Binomial Distribution, which is the distribution of a set of Bernoulli random variables. The Beta distribution is conjugate to the Binomoal distribution, so that if your prior is\n",
    "$p \\sim Beta(\\alpha,\\beta)$ and your data distribution is a set of bernoulli trials, you then have a $L = Binom(n,p)$ likelihood from the multiple ways in which those Bernouuli trials can occur. Then the posterior is, if we observed y heads in n trials:\n",
    "\n",
    "$$ p(p|y) \\propto p(y|p) P(p) = Binom(n,p) \\times Beta(\\alpha, \\beta)$$\n",
    "\n",
    "Because of the conjugacy, this turns out to be:\n",
    "\n",
    "$$Beta(y + \\alpha, n - y + \\beta)$$\n",
    "\n",
    "Here we use a $Beta(1,1)$ prior since it is equivalent to a uniform distribution. This is an **uninformative prior**."
   ]
  },
  {
   "cell_type": "code",
   "execution_count": null,
   "metadata": {
    "collapsed": false
   },
   "outputs": [],
   "source": [
    "plt.figure(figsize=(11, 9))\n",
    "\n",
    "import scipy.stats as stats\n",
    "\n",
    "beta = stats.beta\n",
    "n_trials = [0, 1, 2, 3, 4, 5, 8, 15, 50, 500]\n",
    "data = stats.bernoulli.rvs(0.5, size=n_trials[-1])\n",
    "x = np.linspace(0, 1, 100)\n",
    "\n",
    "# For the already prepared, I'm using Binomial's conj. prior.\n",
    "for k, N in enumerate(n_trials):\n",
    "    sx = plt.subplot(len(n_trials) / 2, 2, k + 1)\n",
    "    plt.xlabel(\"$p$, probability of heads\") \\\n",
    "        if k in [0, len(n_trials) - 1] else None\n",
    "    plt.setp(sx.get_yticklabels(), visible=False)\n",
    "    heads = data[:N].sum()\n",
    "    #posterior distribution.\n",
    "    y = beta.pdf(x, 1 + heads, 1 + N - heads)\n",
    "    plt.plot(x, y, label=\"observe %d tosses,\\n %d heads\" % (N, heads))\n",
    "    plt.fill_between(x, 0, y, color=\"#348ABD\", alpha=0.4)\n",
    "    plt.vlines(0.5, 0, 4, color=\"k\", linestyles=\"--\", lw=1)\n",
    "\n",
    "    leg = plt.legend()\n",
    "    leg.get_frame().set_alpha(0.4)\n",
    "    plt.autoscale(tight=True)\n",
    "\n",
    "\n",
    "plt.suptitle(\"Bayesian updating of posterior probabilities\",\n",
    "             y=1.02,\n",
    "             fontsize=14)\n",
    "\n",
    "plt.tight_layout()"
   ]
  },
  {
   "cell_type": "markdown",
   "metadata": {},
   "source": [
    "## The Normal Model\n",
    "\n",
    " \n",
    " A random variable $Y$ is said to be normally distributed with mean $\\mu$ and variance $\\sigma^2$ if the \n",
    " density of $Y$ is given by \n",
    " $$ p(y|\\mu, \\sigma^2) =  \\frac{1}{ \\sqrt{ 2 \\pi \\sigma^2}} e^{-( \\frac{y-\\mu}{2 \\sigma})^2} $$\n",
    " \n",
    " \n",
    "Suppose our model is $\\{y_1, \\ldots, y_n|\\mu, \\sigma^2 \\} \\sim N(\\mu, \\sigma^2)$ then\n",
    "the likelihood is \n",
    "\n",
    "$$\n",
    "p(y_1, \\ldots, y_n| \\mu, \\sigma^2) = \n",
    "\\prod_{i=1}^{n} p(y_i| \\mu, \\sigma^2)=\\prod_{i=1}^{n}  \\frac{1}{ \\sqrt{ 2 \\pi \\sigma^2}} e^{-( \\frac{(y_i-\\mu)^2}{2\\sigma^2})} = \n",
    "\\frac{1}{ \\sqrt{ 2 \\pi \\sigma^2}}   \\exp \\left\\{  - \\frac{1}{2}  \\sum_i \\frac{(y_i-\\mu)^2}{\\sigma^2} \\right\\} \n",
    "$$\n",
    "\n",
    "Lets see the posterior of $\\mu$ assuming we \n",
    "know $\\sigma^2$.  \n",
    "\n",
    "For any conditional prior the posterior \n",
    "\n",
    "$$ p( \\mu |  y_1, \\ldots, y_n, \\sigma^2)  \\propto p(\\mu| \\sigma^2) \\,e^{ - \\frac{1}{2\\sigma^2} \\sum (y_i - \\mu)^2 }$$\n",
    "\n",
    "\n",
    "The conjugate of the normal is the normal itself. \n",
    "\n",
    "Say we have the prior\n",
    "\n",
    "$$ p(\\mu | \\sigma^2) = \\exp \\left\\{ -\\frac{1}{2 \\tau^2} (\\hat{\\mu}-\\mu)^2 \\right\\} $$\n",
    "\n",
    "then it can be shown that the posterior is \n",
    "\n",
    "$$  p( \\mu |  y_1, \\ldots, y_n, \\sigma^2) \\propto \\exp \\left\\{ -\\frac{a}{2} (\\mu-b/a)^2 \\right\\} $$\n",
    "where \n",
    "$$ a = \\frac{1}{\\tau^2} + \\frac{n}{\\sigma^2} , \\;\\;\\;\\;\\; b = \\frac{\\hat{\\mu}}{\\tau^2} + \\frac{\\sum y_i}{\\sigma^2} $$\n",
    "This is a normal density curve with $1/\\sqrt{a}$ playing the role of the \n",
    "standard deviation and $b/a$ playing the role of the mean. Re-writing this, \n",
    "\n",
    "$$ p( \\mu |  y_1, \\ldots, y_n, \\sigma^2)  \\propto \\exp\\left\\{ -\\frac{1}{2} \\left( \\frac{\\mu-b/a}{1/\\sqrt(a)}\\right)^2 \\right\\} $$\n",
    "\n",
    "\n",
    "Define $\\kappa = \\sigma^2 / \\tau^2 $ to be the variance of the sample model  in units of variance\n",
    "of our prior belief (prior distribution) then the posterior mean  \n",
    "\n",
    "$$\\mu_p = \\frac{ \\kappa}{\\kappa + n }  \\hat{\\mu} + \\frac{n}{\\kappa + n} \\bar{y} $$\n",
    "\n",
    "which is a weighted average of prior mean and sampling mean.\n",
    "The variance is \n",
    "\n",
    "$$ \\tau_p^2 = \\frac{1}{1/\\tau^2+n/\\sigma^2} $$\n",
    "or better \n",
    "\n",
    "$$ \\frac{1}{\\tau_p^2} = \\frac{1}{\\tau^2} + \\frac{n}{\\sigma^2} $$"
   ]
  },
  {
   "cell_type": "markdown",
   "metadata": {},
   "source": [
    "###Gaussian with known $\\sigma$\n",
    "\n",
    "(this is an example from AM207)\n",
    "\n",
    "Define $\\kappa=\\frac{\\sigma^2}{\\tau^2}$ to be the variance of the sample model in units of variance of our prior belief (prior distribution) then the posterior mean\n",
    "\n",
    "$$\\mu_{p} = \\frac{\\kappa}{\\kappa + n} \\mu_{prior} + \\frac{n}{\\kappa + n} \\bar{y}$$\n",
    "\n",
    "which is a weighted average of prior mean and sampling mean. The variance is\n",
    "\n",
    "$$\\frac{1}{\\tau_p^2} = \\frac{1}{\\tau^2} + \\frac{1}{\\sigma^2}$$\n",
    "\n",
    "We have data on the wing length in millimeters of a nine members of a particular species of moth. We wish to make inferences from those measurements on the population mean $\\mu$. Other studies show the wing length to be around 19 mm. We also know that the length must be positive. We can choose a prior that is normal and most of the density is above zero ($\\mu=19.5,\\tau=10$). This is only a **marginally informative** prior.\n",
    "\n",
    "Many bayesians would prefer you choose relatively uninformative priors.\n",
    "\n",
    "The measurements were: 16.4, 17.0, 17.2, 17.4, 18.2, 18.2, 18.2, 19.9, 20.8 giving $\\bar{y}=18.14$. \n",
    "\n",
    "Using the formulas above we have ($\\kappa = \\frac{\\sigma^2}{100}$) and \n",
    "say $\\sigma^2=s^2=1.9928$ then the posterior is $N(18.14,0.47)$. Note this is for a KNOWN $\\sigma$."
   ]
  },
  {
   "cell_type": "code",
   "execution_count": null,
   "metadata": {
    "collapsed": true
   },
   "outputs": [],
   "source": [
    "Y = [16.4, 17.0, 17.2, 17.4, 18.2, 18.2, 18.2, 19.9, 20.8]\n",
    "# Prior mean\n",
    "mu_prior = 19.5\n",
    "# prior std\n",
    "tau = 10 \n",
    "N = 15000"
   ]
  },
  {
   "cell_type": "code",
   "execution_count": null,
   "metadata": {
    "collapsed": true
   },
   "outputs": [],
   "source": [
    "#Data Quantities\n",
    "sig = np.std(Y) # assume that is the value of KNOWN sigma (in the likelihood)\n",
    "mu_data = np.mean(Y)\n",
    "n = len(Y)\n",
    "kappa = sig**2 / tau**2\n",
    "sig_post =np.sqrt(1./( 1./tau**2 + n/sig**2));\n",
    "# posterior mean\n",
    "mu_post = kappa / (kappa + n) *mu_prior + n/(kappa+n)* mu_data\n",
    "\n",
    "#samples\n",
    "theta_prior = np.random.normal(loc=mu_prior, scale=tau, size=N);\n",
    "theta_post = np.random.normal(loc=mu_post, scale=sig_post, size=N);"
   ]
  },
  {
   "cell_type": "code",
   "execution_count": null,
   "metadata": {
    "collapsed": false
   },
   "outputs": [],
   "source": [
    "plt.hist(theta_post, bins=30, alpha=0.9, label=\"posterior\");\n",
    "plt.hist(theta_prior, bins=30, alpha=0.2, label=\"prior\");\n",
    "plt.xlim([10, 30])\n",
    "plt.xlabel(\"wing length (mm)\")\n",
    "plt.ylabel(\"Number of samples\")\n",
    "plt.legend();"
   ]
  },
  {
   "cell_type": "markdown",
   "metadata": {},
   "source": [
    "## Kidney Cancer\n",
    "\n",
    "This is part of a dataset that Joe talked about in class. Its a dataset about counties in the US, and has information about kidney cancer fatalities over 5 years on a per county basis. This is stored in the variable `dc` below. The `pop` is the county population, and the 5 year mortaility is calculated by just dividing one by the other."
   ]
  },
  {
   "cell_type": "code",
   "execution_count": null,
   "metadata": {
    "collapsed": false
   },
   "outputs": [],
   "source": [
    "dfk=pd.read_csv(\"lab9stuff/kcancer.csv\")\n",
    "dfk.head()"
   ]
  },
  {
   "cell_type": "markdown",
   "metadata": {},
   "source": [
    "We've written some code, based on code in https://github.com/dataiap/dataiap/blob/master/resources/util/map_util.py to map what this looks like."
   ]
  },
  {
   "cell_type": "code",
   "execution_count": null,
   "metadata": {
    "collapsed": false
   },
   "outputs": [],
   "source": [
    "import simplejson as json\n",
    "with open('lab9stuff/us_state_map.geojson','r') as fp:\n",
    "    statedata = json.load(fp)\n",
    "with open('lab9stuff/us_county_map.geojson','r') as fp:\n",
    "    data = json.load(fp)"
   ]
  },
  {
   "cell_type": "code",
   "execution_count": null,
   "metadata": {
    "collapsed": false
   },
   "outputs": [],
   "source": [
    "from collections import defaultdict\n",
    "fips2poly = defaultdict(list)\n",
    "blues = ['#FFF7FB', '#ECE7F2', '#D0D1E6', '#A6BDDB', '#74A9CF',\n",
    "         '#3690C0', '#0570B0', '#045A8D', '#023858']\n",
    "_color_idx = 0\n",
    "def draw_polygon(subplot, coords, **kwargs):\n",
    "    xs, ys = zip(*coords)\n",
    "    kwargs['alpha']=0.5\n",
    "    subplot.fill(xs, ys, **kwargs)\n",
    "def draw_county(subplot, fips, **kwargs):\n",
    "    \"\"\"\n",
    "    draw_county(subplot, fips, color=..., **kwargs)\n",
    "    \n",
    "    Automatically draws a filled shape representing the county with id fips in\n",
    "    subplot.  The color keyword argument specifies the fill color.  It accepts keyword\n",
    "    arguments that plot() accepts\n",
    "    The fips id is described at http://en.wikipedia.org/wiki/FIPS_county_code\n",
    "    \"\"\"\n",
    "    global _color_idx\n",
    "    if fips not in fips2poly:\n",
    "        #raise RuntimeError, 'County fips %s not found' % fips\n",
    "        print 'County fips %s not found' % fips\n",
    "        return\n",
    "    if 'color' not in kwargs:\n",
    "        color = blues[_color_idx]\n",
    "        _color_idx = (_color_idx+1) % len(blues)\n",
    "        kwargs['color'] = color\n",
    "    for polygon in fips2poly[fips]:\n",
    "        draw_polygon(subplot, polygon, **kwargs)\n",
    "\n",
    "for f in data['features']:\n",
    "    fips = f['properties']['GEOID']\n",
    "    fips = int(fips)\n",
    "    geo = f['geometry']\n",
    "    if geo['type'] == 'Polygon':\n",
    "        for coords in geo['coordinates']:\n",
    "            fips2poly[fips].append(coords)\n",
    "    elif geo['type'] == 'MultiPolygon':\n",
    "        for polygon in geo['coordinates']:\n",
    "            fips2poly[fips].extend(polygon)"
   ]
  },
  {
   "cell_type": "code",
   "execution_count": null,
   "metadata": {
    "collapsed": false
   },
   "outputs": [],
   "source": [
    "state2poly = defaultdict(list)\n",
    "for f in statedata['features']:\n",
    "    state = f['properties']['NAME']\n",
    "    geo = f['geometry']\n",
    "    if geo['type'] == 'Polygon':\n",
    "        for coords in geo['coordinates']:\n",
    "            state2poly[state].append(coords)\n",
    "    elif geo['type'] == 'MultiPolygon':\n",
    "        for polygon in geo['coordinates']:\n",
    "            state2poly[state].extend(polygon)"
   ]
  },
  {
   "cell_type": "code",
   "execution_count": null,
   "metadata": {
    "collapsed": true
   },
   "outputs": [],
   "source": [
    "def draw_state(subplot, name, **kwargs):\n",
    "    \"\"\"\n",
    "    draw_state(subplot, state, color=..., **kwargs)\n",
    "    \n",
    "    Automatically draws a filled shape representing the state in\n",
    "    subplot.  *state* is the full name of the state, as defined by USPS\n",
    "    (https://www.usps.com/send/official-abbreviations.htm).\n",
    "    The color keyword argument specifies the fill color.  It accepts keyword\n",
    "    arguments that plot() accepts\n",
    "    \"\"\"\n",
    "    global _color_idx\n",
    "    if name not in state2poly:\n",
    "        if get_statename(name) in state2poly:\n",
    "            name = get_statename(name)\n",
    "        else:\n",
    "            print \"state %s not found\" % name\n",
    "            return\n",
    "\n",
    "    kwargs['color'] = \"#FFFFFF\"\n",
    "    for polygon in state2poly[name]:\n",
    "        draw_polygon(subplot, polygon, **kwargs)"
   ]
  },
  {
   "cell_type": "code",
   "execution_count": null,
   "metadata": {
    "collapsed": true
   },
   "outputs": [],
   "source": [
    "def make_map(countyseries, skip=[], stateskip=['Alaska', 'Hawaii'], color=None, ax=None):\n",
    "    if not ax:\n",
    "        fig = plt.figure(figsize=(16, 12))\n",
    "        ax = plt.gca()\n",
    "\n",
    "        for state in state2poly.keys():\n",
    "            if state in stateskip:\n",
    "                continue\n",
    "            draw_state(ax, state,  ec='k')\n",
    "        \n",
    "    for county in countyseries:\n",
    "        if county in skip:\n",
    "            continue\n",
    "        if color:\n",
    "            draw_county(ax, county,  ec='k', color=color)\n",
    "        else:\n",
    "            draw_county(ax, county,  ec='k') \n",
    "\n",
    "    \n",
    "    ax.set_xticks([])\n",
    "    ax.set_yticks([])\n",
    "    #ax.set_xlim(-180, -60)\n",
    "    ax.set_xlim(-132, -60)\n",
    "    ax.set_ylim(20, 59)\n",
    "    return ax"
   ]
  },
  {
   "cell_type": "markdown",
   "metadata": {},
   "source": [
    "We look for the counties with the highest rate of cancer. Perhaps these are poorer, rural, with poor access to hospitals?"
   ]
  },
  {
   "cell_type": "code",
   "execution_count": null,
   "metadata": {
    "collapsed": false
   },
   "outputs": [],
   "source": [
    "top_kcancer_counties = dfk.sort(columns='pct_mortality',ascending=False)[:323]"
   ]
  },
  {
   "cell_type": "code",
   "execution_count": null,
   "metadata": {
    "collapsed": false
   },
   "outputs": [],
   "source": [
    "make_map(top_kcancer_counties.countyfips, color=\"blue\")"
   ]
  },
  {
   "cell_type": "markdown",
   "metadata": {},
   "source": [
    "What about the counties with the lowest rate of cancer? Let us plot those as well.."
   ]
  },
  {
   "cell_type": "code",
   "execution_count": null,
   "metadata": {
    "collapsed": false
   },
   "outputs": [],
   "source": [
    "bot_kcancer_counties = dfk.sort(columns='pct_mortality',ascending=True)[:323]"
   ]
  },
  {
   "cell_type": "code",
   "execution_count": null,
   "metadata": {
    "collapsed": false
   },
   "outputs": [],
   "source": [
    "ax=make_map(top_kcancer_counties.countyfips, color=\"blue\")\n",
    "make_map(bot_kcancer_counties.countyfips, color=\"red\", ax=ax)"
   ]
  },
  {
   "cell_type": "markdown",
   "metadata": {},
   "source": [
    "Um, these are right next door."
   ]
  },
  {
   "cell_type": "code",
   "execution_count": null,
   "metadata": {
    "collapsed": false
   },
   "outputs": [],
   "source": [
    "top_kcancer_counties.sort_values('pop', ascending=False).head()"
   ]
  },
  {
   "cell_type": "code",
   "execution_count": null,
   "metadata": {
    "collapsed": false
   },
   "outputs": [],
   "source": [
    "ax=dfk.plot(kind='scatter',x=\"pop\",y=\"pct_mortality\",alpha=0.05, color=\"grey\")\n",
    "top_kcancer_counties.plot(kind='scatter',x=\"pop\",y=\"pct_mortality\",alpha=0.07, color=\"blue\", ax=ax)\n",
    "bot_kcancer_counties.plot(kind='scatter',x=\"pop\",y=\"pct_mortality\",alpha=0.07, color=\"red\", ax=ax)\n",
    "plt.ylim([-0.0001, 0.0005])\n",
    "plt.xlim([-1, 700000])"
   ]
  },
  {
   "cell_type": "markdown",
   "metadata": {},
   "source": [
    "Plotting against the population of the county gives away the story. In a county with 1000 people, no cancers lowballs the likely rate and 1 cancer highballs it. Here is the same image on a log plot."
   ]
  },
  {
   "cell_type": "code",
   "execution_count": null,
   "metadata": {
    "collapsed": false
   },
   "outputs": [],
   "source": [
    "ax=dfk.plot(kind='scatter',x=\"pop\",y=\"pct_mortality\",alpha=0.05, color=\"grey\", logx=True)\n",
    "top_kcancer_counties.plot(kind='scatter',x=\"pop\",y=\"pct_mortality\",alpha=0.07, color=\"blue\", ax=ax,logx=True)\n",
    "bot_kcancer_counties.plot(kind='scatter',x=\"pop\",y=\"pct_mortality\",alpha=0.07, color=\"red\", ax=ax,logx=True)\n",
    "plt.ylim([-0.0001, 0.001])"
   ]
  },
  {
   "cell_type": "markdown",
   "metadata": {},
   "source": [
    "What's a data analyst todo?\n",
    "\n",
    "Recall the structure of the priors in the normal case and beta-binomial case. In situations where we do not have much data, the prior \"means\" or other quantities make a difference. In a sense, one can use priors to \"regularize\" or models.\n",
    "\n",
    "Since we are dealing with count data here, we shall a use a poisson distribution to\"generate\" the counts. We have some choices.\n",
    "\n",
    "####Full pooling\n",
    "\n",
    "We just add all the counts and populatioms together over the nation, estimating one death-rate. This is too BIASed a model..its a very big bulldozer for a small nail. Too coarse grained.\n",
    "\n",
    "#### Fullly un-pooled\n",
    "\n",
    "We just use the death rate in each county separately. We know this does poorly on low population counties. VARIANCE!\n",
    "\n",
    "####Partially pooled\n",
    "\n",
    "What we want is a model which deferes to the data when there is enough: those counties with large populations, but regularizes the values from counties with small populations. What sort of a prior can help us here?\n",
    "\n",
    "Why not borrow statistical strength from the overall average while not accepting it entirely? This leads naturally to the concept of a hierarchical model: one in which we have a separate poisson for each county, with a separate rate parameter for each county. But we assume that all of these rate parameters $\\theta_j$ are draws from the same $Gamma(\\alpha, \\beta)$ distribution.\n",
    "\n",
    "Modeling in this way has two advantages: (a) as we shall see, it helps us develop a computational strategy to solve the problem, and (b) it allows estimates of the probabilities of any one of the units (here, one of the experiments) to borrow strength from all the data as a whole through the estimation of the hyperparameters $\\alpha$ and $\\beta$. In other words, if some of the experiments had lower sample sizes or other outlier like behavior, the procedure helps \"regularize\" this."
   ]
  },
  {
   "cell_type": "code",
   "execution_count": null,
   "metadata": {
    "collapsed": true
   },
   "outputs": [],
   "source": [
    "from scipy.stats import poisson, gamma, nbinom"
   ]
  },
  {
   "cell_type": "markdown",
   "metadata": {},
   "source": [
    "The likelihood is a product of poissons, each with a different rate parameter:\n",
    "\n",
    "$$\\cal L = \\prod_{j} Poisson(y_{j}, 5\\,\\theta_{j}n_{j})$$\n",
    "\n",
    "The prior is\n",
    "\n",
    "$$p(\\theta_{j}) \\sim Gamma(\\alpha, \\beta)$$\n",
    "\n",
    "The posterior distribution then simply turns out to be another Gamma!\n",
    "\n",
    "$$p(\\theta_{j} | \\{y_j\\}) \\propto \\cal L(\\{y_j\\} | \\{\\theta_{j}\\}) \\times p(\\theta_{j}) \\propto Gamma(\\alpha + y_{j}, \\beta + 5\\,n_{j})$$\n",
    "\n",
    "To calculate this postrior one MUST integrate or **marginalize** over all other parameters. Notice that all the poissons separate out."
   ]
  },
  {
   "cell_type": "code",
   "execution_count": null,
   "metadata": {
    "collapsed": true
   },
   "outputs": [],
   "source": [
    "#counts_j ~ poisson (n_j*theta_j)\n",
    "prior = lambda theta, a,b: gamma.pdf(theta, a, 0., 1./b)\n",
    "like1 = lambda yj, thetaj, nj: poisson.pmf(yj, 5.*thetaj*nj)\n",
    "posterior = lambda thetaj,a,b,yj, nj: gamma.pdf(thetaj, a+yj, 0., 1./(b+5.*nj))\n"
   ]
  },
  {
   "cell_type": "markdown",
   "metadata": {},
   "source": [
    "The mean of this posterior distribution is \n",
    "\n",
    "$$\\frac{\\alpha + y_{j}}{\\beta + 5\\,n_{j}}$$\n",
    "\n",
    "which can be used to estimate the death rates in all the counties."
   ]
  },
  {
   "cell_type": "code",
   "execution_count": null,
   "metadata": {
    "collapsed": true
   },
   "outputs": [],
   "source": [
    "meanpost = lambda yj,nj,a,b: (a+yj)/(b + 5*nj)"
   ]
  },
  {
   "cell_type": "markdown",
   "metadata": {},
   "source": [
    "The posterior predictive turns out to be simple too. Its a negative binomial distribution:\n",
    "\n",
    "$$p(y^{*} | \\{y_{j}\\}) = NegBin(\\alpha, \\frac{\\beta}{5\\,n_{j}})$$\n",
    "\n",
    "We can use this somewhat self-referentially on the same counties (or hold some out) to estimate the number of deaths in these counties. \n"
   ]
  },
  {
   "cell_type": "code",
   "execution_count": null,
   "metadata": {
    "collapsed": true
   },
   "outputs": [],
   "source": [
    "postpred = lambda y,a,b,nj: nbinom.pmf(y, a, b/(5.*nj))\n",
    "meanpostpred=lambda nj, a,b: 5.*nj*(a/b)\n",
    "varpostpred=lambda nj,a,b: meanpostpred(nj,a,b)*(1. +  meanpostpred(nj,a,b)/a)"
   ]
  },
  {
   "cell_type": "markdown",
   "metadata": {},
   "source": [
    "###Empirical Bayes\n",
    "\n",
    "Now here is the magic in the estimation of the parameter of the prior. We use the mean and the variance of the negative binomial distribution, respectively:\n",
    "\n",
    "$$ 5\\,n_{j}\\frac{\\alpha}{\\beta}$$\n",
    "\n",
    "and\n",
    "\n",
    "$$ 5\\,n_{j}\\frac{\\alpha}{\\beta} + \\left(5\\,n_{j}\\frac{\\alpha}{\\beta}\\right)^{2}\\frac{1}{\\alpha}$$\n",
    "\n",
    "and equate these to the empirically calculated mean and variance of the number of deaths: this fixes $\\alpha$ and $\\beta$ for us from all the data while the individual Gamma function posterior draws retain information from that counties contribution to the likelihood and thus only allow for partial pooling."
   ]
  },
  {
   "cell_type": "code",
   "execution_count": null,
   "metadata": {
    "collapsed": false
   },
   "outputs": [],
   "source": [
    "dfk.head()"
   ]
  },
  {
   "cell_type": "code",
   "execution_count": null,
   "metadata": {
    "collapsed": true
   },
   "outputs": [],
   "source": [
    "meany=dfk.dc.mean()\n",
    "vary=dfk.dc.var()"
   ]
  },
  {
   "cell_type": "code",
   "execution_count": null,
   "metadata": {
    "collapsed": false
   },
   "outputs": [],
   "source": [
    "meanpop=dfk['pop'].mean()"
   ]
  },
  {
   "cell_type": "code",
   "execution_count": null,
   "metadata": {
    "collapsed": false
   },
   "outputs": [],
   "source": [
    "meanpopsquared=np.mean(dfk['pop']**2)"
   ]
  },
  {
   "cell_type": "code",
   "execution_count": null,
   "metadata": {
    "collapsed": true
   },
   "outputs": [],
   "source": [
    "abyb=meany/(5.*meanpop)"
   ]
  },
  {
   "cell_type": "code",
   "execution_count": null,
   "metadata": {
    "collapsed": true
   },
   "outputs": [],
   "source": [
    "est_a = (25.*meanpopsquared*abyb*abyb)/(vary - meany) "
   ]
  },
  {
   "cell_type": "code",
   "execution_count": null,
   "metadata": {
    "collapsed": true
   },
   "outputs": [],
   "source": [
    "est_b = est_a/abyb"
   ]
  },
  {
   "cell_type": "code",
   "execution_count": null,
   "metadata": {
    "collapsed": false
   },
   "outputs": [],
   "source": [
    "est_a, est_b"
   ]
  },
  {
   "cell_type": "code",
   "execution_count": null,
   "metadata": {
    "collapsed": false
   },
   "outputs": [],
   "source": [
    "abyb"
   ]
  },
  {
   "cell_type": "markdown",
   "metadata": {},
   "source": [
    "Here we plot the empirical distribution of the rates"
   ]
  },
  {
   "cell_type": "code",
   "execution_count": null,
   "metadata": {
    "collapsed": false
   },
   "outputs": [],
   "source": [
    "binx=np.arange(0, 15, 0.1)\n",
    "plt.hist(100000*dfk.dc/(5.*dfk['pop']), bins=binx, alpha=0.4);\n",
    "#plt.plot(binx, [prior(t/100000.0, est_a, est_b) for t in binx]);"
   ]
  },
  {
   "cell_type": "markdown",
   "metadata": {},
   "source": [
    "And here we see the posterior rates on the old plot...see how they are regularized to be in a sensible channel?"
   ]
  },
  {
   "cell_type": "code",
   "execution_count": null,
   "metadata": {
    "collapsed": false
   },
   "outputs": [],
   "source": [
    "ax=dfk.plot(kind='scatter',x=\"pop\",y=\"pct_mortality\",alpha=0.05, color=\"grey\", logx=True)\n",
    "top_kcancer_counties.plot(kind='scatter',x=\"pop\",y=\"pct_mortality\",alpha=0.07, color=\"blue\", ax=ax,logx=True)\n",
    "bot_kcancer_counties.plot(kind='scatter',x=\"pop\",y=\"pct_mortality\",alpha=0.07, color=\"red\", ax=ax,logx=True)\n",
    "vals=zip(dfk['dc'], dfk['pop'])\n",
    "meanposts=[meanpost(yjay, njay, est_a, est_b) for (yjay, njay) in vals]\n",
    "ax.plot(dfk['pop'], 5*np.array(meanposts), '.', alpha=0.04, color=\"green\")\n",
    "plt.ylim([-0.0001, 0.0003])"
   ]
  },
  {
   "cell_type": "markdown",
   "metadata": {},
   "source": [
    "Finally we note that the posterior predictive deaths forecast (blue dots are rotated) towards a flat line: ie they are regularized and are shrinking to a commonish mean!"
   ]
  },
  {
   "cell_type": "code",
   "execution_count": null,
   "metadata": {
    "collapsed": true
   },
   "outputs": [],
   "source": [
    "meanpostpreds = dfk['pop'].apply(lambda nj: meanpostpred(nj, est_a, est_b))\n",
    "errorpostpreds= dfk['pop'].apply(lambda nj: np.sqrt(varpostpred(nj, est_a, est_b)))"
   ]
  },
  {
   "cell_type": "code",
   "execution_count": null,
   "metadata": {
    "collapsed": false
   },
   "outputs": [],
   "source": [
    "plt.errorbar(dfk['dc'], \n",
    "             meanpostpreds, \n",
    "             yerr=[errorpostpreds ,errorpostpreds],\n",
    "             fmt='.', alpha=0.2)\n",
    "plt.plot([0,600],[0,600],'k--', alpha=0.3)\n",
    "plt.xlabel(\"observed deaths in 5 years\")\n",
    "plt.ylabel(\"posterior predictive mean\")\n",
    "plt.ylim([0,1000])\n",
    "plt.xlim([0,300])"
   ]
  },
  {
   "cell_type": "code",
   "execution_count": null,
   "metadata": {
    "collapsed": true
   },
   "outputs": [],
   "source": []
  }
 ],
 "metadata": {
  "kernelspec": {
   "display_name": "Python 2",
   "language": "python",
   "name": "python2"
  },
  "language_info": {
   "codemirror_mode": {
    "name": "ipython",
    "version": 2
   },
   "file_extension": ".py",
   "mimetype": "text/x-python",
   "name": "python",
   "nbconvert_exporter": "python",
   "pygments_lexer": "ipython2",
   "version": "2.7.10"
  }
 },
 "nbformat": 4,
 "nbformat_minor": 0
}
