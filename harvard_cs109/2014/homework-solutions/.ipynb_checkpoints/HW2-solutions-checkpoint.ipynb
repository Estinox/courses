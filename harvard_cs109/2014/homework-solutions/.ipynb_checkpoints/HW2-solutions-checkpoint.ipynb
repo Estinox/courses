{
 "cells": [
  {
   "cell_type": "markdown",
   "metadata": {},
   "source": [
    "# Homework 2: More Exploratory Data Analysis\n",
    "## Gene Expression Data and Election Polls \n",
    "\n",
    "Due: Thursday, October 2, 2014 11:59 PM\n",
    "\n",
    "<a href=https://raw.githubusercontent.com/cs109/2014/master/homework/HW2.ipynb download=HW2.ipynb> Download this assignment</a>\n",
    "\n",
    "#### Submission Instructions\n",
    "To submit your homework, create a folder named lastname_firstinitial_hw# and place your IPython notebooks, data files, and any other files in this folder. Your IPython Notebooks should be completely executed with the results visible in the notebook. We should not have to run any code. Compress the folder (please use .zip compression) and submit to the CS109 dropbox in the appropriate folder. If we cannot access your work because these directions are not followed correctly, we will not grade your work.\n",
    "\n",
    "\n",
    "---\n"
   ]
  },
  {
   "cell_type": "markdown",
   "metadata": {},
   "source": [
    "## Introduction\n",
    "\n",
    "John Tukey wrote in [Exploratory Data Analysis, 1977](http://www.amazon.com/Exploratory-Data-Analysis-Wilder-Tukey/dp/0201076160/ref=pd_bbs_sr_2/103-4466654-5303007?ie=UTF8&s=books&qid=1189739816&sr=8-2): \"The greatest value of a picture is when it forces us to notice what we never expected to see.\" In this assignment we will continue using our exploratory data analysis tools, but apply it to new sets of data: [gene expression](http://en.wikipedia.org/wiki/Gene_expression) and polls from the [2012 Presidental Election](http://en.wikipedia.org/wiki/United_States_presidential_election,_2012) and from the [2014 Senate Midterm Elections](http://en.wikipedia.org/wiki/United_States_Senate_elections,_2014).   \n",
    "\n",
    "**First**: You will use exploratory data analysis and apply the [singular value decomposition](http://en.wikipedia.org/wiki/Singular_value_decomposition) (SVD) to a gene expression data matrix to determine if the the date that the gene expression samples are processed has large effect on the variability seen in the data.  \n",
    "\n",
    "**Second**: You will use the polls from the 2012 Presidential Elections to determine (1) Is there a pollster bias in presidential election polls? and (2) Is the average of polls better than just one poll?\n",
    "\n",
    "**Finally**: You will use the [HuffPost Pollster API](http://elections.huffingtonpost.com/pollster/api) to extract the polls for the current 2014 Senate Midterm Elections and provide a preliminary prediction of the result of each state.\n",
    "\n",
    "#### Data\n",
    "\n",
    "We will use the following data sets: \n",
    "\n",
    "1. A gene expression data set called `exprs_GSE5859.csv` and sample annotation table called `sampleinfo_GSE5859.csv` which are both available on Github in the 2014_data repository: [expression data set](https://github.com/cs109/2014_data/blob/master/exprs_GSE5859.csv) and [sample annotation table](https://github.com/cs109/2014_data/blob/master/sampleinfo_GSE5859.csv).  \n",
    "\n",
    "2. Polls from the [2012 Presidential Election: Barack Obama vs Mitt Romney](http://elections.huffingtonpost.com/pollster/2012-general-election-romney-vs-obama). The polls we will use are from the [Huffington Post Pollster](http://elections.huffingtonpost.com/pollster).  \n",
    "\n",
    "3. Polls from the [2014 Senate Midterm Elections](http://elections.huffingtonpost.com/pollster) from the [HuffPost Pollster API](http://elections.huffingtonpost.com/pollster/api). \n",
    "\n",
    "---"
   ]
  },
  {
   "cell_type": "markdown",
   "metadata": {},
   "source": [
    "## Load Python modules"
   ]
  },
  {
   "cell_type": "code",
   "execution_count": 1,
   "metadata": {
    "collapsed": false
   },
   "outputs": [],
   "source": [
    "# special IPython command to prepare the notebook for matplotlib\n",
    "%matplotlib inline \n",
    "\n",
    "import requests \n",
    "from StringIO import StringIO\n",
    "import numpy as np\n",
    "import pandas as pd # pandas\n",
    "import matplotlib.pyplot as plt # module for plotting \n",
    "import datetime as dt # module for manipulating dates and times\n",
    "import numpy.linalg as lin # module for performing linear algebra operations"
   ]
  },
  {
   "cell_type": "code",
   "execution_count": 2,
   "metadata": {
    "collapsed": false
   },
   "outputs": [
    {
     "name": "stderr",
     "output_type": "stream",
     "text": [
      "/usr/local/lib/python2.7/site-packages/matplotlib/__init__.py:872: UserWarning: axes.color_cycle is deprecated and replaced with axes.prop_cycle; please use the latter.\n",
      "  warnings.warn(self.msg_depr % (key, alt_key))\n"
     ]
    }
   ],
   "source": [
    "# special matplotlib argument for improved plots\n",
    "from matplotlib import rcParams\n",
    "\n",
    "#colorbrewer2 Dark2 qualitative color table\n",
    "dark2_colors = [(0.10588235294117647, 0.6196078431372549, 0.4666666666666667),\n",
    "                (0.8509803921568627, 0.37254901960784315, 0.00784313725490196),\n",
    "                (0.4588235294117647, 0.4392156862745098, 0.7019607843137254),\n",
    "                (0.9058823529411765, 0.1607843137254902, 0.5411764705882353),\n",
    "                (0.4, 0.6509803921568628, 0.11764705882352941),\n",
    "                (0.9019607843137255, 0.6705882352941176, 0.00784313725490196),\n",
    "                (0.6509803921568628, 0.4627450980392157, 0.11372549019607843)]\n",
    "\n",
    "rcParams['figure.figsize'] = (10, 6)\n",
    "rcParams['figure.dpi'] = 150\n",
    "rcParams['axes.color_cycle'] = dark2_colors\n",
    "rcParams['lines.linewidth'] = 2\n",
    "rcParams['axes.facecolor'] = 'white'\n",
    "rcParams['font.size'] = 14\n",
    "rcParams['patch.edgecolor'] = 'white'\n",
    "rcParams['patch.facecolor'] = dark2_colors[0]\n",
    "rcParams['font.family'] = 'StixGeneral'"
   ]
  },
  {
   "cell_type": "markdown",
   "metadata": {},
   "source": [
    "## Problem 1\n",
    "\n",
    "In this problem we will be using a [gene expression](http://en.wikipedia.org/wiki/Gene_expression) data set obtained from a [microarray](http://en.wikipedia.org/wiki/DNA_microarray) experiement [Read more about the specific experiment here](http://www.ncbi.nlm.nih.gov/geo/query/acc.cgi?acc=GSE5859).  There are two data sets we will use:  \n",
    "\n",
    "1. The gene expression intensities where the rows represent the features on the microarray (e.g. genes) and the columsns represent the different microarray samples.  \n",
    "\n",
    "2. A table that contains the information about each of the samples (columns in the gene expression data set) such as the sex, the age, the treatment status, the date the samples were processed.  Each row represents one sample. "
   ]
  },
  {
   "cell_type": "markdown",
   "metadata": {},
   "source": [
    "#### Problem 1(a) "
   ]
  },
  {
   "cell_type": "markdown",
   "metadata": {},
   "source": [
    "Read in the two files from Github: [exprs_GSE5859.csv](https://github.com/cs109/2014_data/blob/master/exprs_GSE5859.csv) and [sampleinfo_GSE5859.csv](https://github.com/cs109/2014_data/blob/master/sampleinfo_GSE5859.csv) as pandas DataFrames called `exprs` and `sampleinfo`. Use the gene names as the index of the `exprs` DataFrame."
   ]
  },
  {
   "cell_type": "code",
   "execution_count": 3,
   "metadata": {
    "collapsed": false
   },
   "outputs": [],
   "source": [
    "#your code here\n",
    "url_exprs = \"https://raw.githubusercontent.com/cs109/2014_data/master/exprs_GSE5859.csv\"\n",
    "exprs = pd.read_csv(url_exprs, index_col=0)\n",
    "\n",
    "url_sampleinfo = \"https://raw.githubusercontent.com/cs109/2014_data/master/sampleinfo_GSE5859.csv\"\n",
    "sampleinfo = pd.read_csv(url_sampleinfo)"
   ]
  },
  {
   "cell_type": "markdown",
   "metadata": {},
   "source": [
    "Make sure the order of the columns in the gene expression DataFrame match the order of file names in the sample annotation DataFrame. If the order of the columns the `exprs` DataFrame do not match the order of the file names in the `sampleinfo` DataFrame, reorder the columns in the `exprs` DataFrame. \n",
    "\n",
    "**Note**: The column names of the gene expression DataFrame are the filenames of the orignal files from which these data were obtained.  \n",
    "\n",
    "**Hint**: The method `list.index(x)` [[read here](https://docs.python.org/2/tutorial/datastructures.html)] can be used to return the index in the list of the first item whose value is x. It is an error if there is no such item. To check if the order of the columns in `exprs` matches the order of the rows in `sampleinfo`, you can check using the method `.all()` on a Boolean or list of Booleans: \n",
    "\n",
    "Example code: `(exprs.columns == sampleinfo.filename).all()`"
   ]
  },
  {
   "cell_type": "markdown",
   "metadata": {},
   "source": [
    "First, let's check if order of the columns in the `exprs` DataFrame match the order of the `filename` in the `sampleinfo` DataFrame using the `==` Boolean operator. "
   ]
  },
  {
   "cell_type": "code",
   "execution_count": 4,
   "metadata": {
    "collapsed": false
   },
   "outputs": [
    {
     "data": {
      "text/plain": [
       "False"
      ]
     },
     "execution_count": 4,
     "metadata": {},
     "output_type": "execute_result"
    }
   ],
   "source": [
    "(exprs.columns == sampleinfo.filename).all()"
   ]
  },
  {
   "cell_type": "markdown",
   "metadata": {},
   "source": [
    "Now we know the columns in the `exprs` DataFrame are out of order compared to the order of the rows in the `sampleinfo` DataFrame.  To check if there are any columns in the correct order, we can test for which columns are equal to the `filename` in the `sampleinfo` DataFrame.  "
   ]
  },
  {
   "cell_type": "code",
   "execution_count": 5,
   "metadata": {
    "collapsed": false
   },
   "outputs": [
    {
     "data": {
      "text/html": [
       "<div>\n",
       "<table border=\"1\" class=\"dataframe\">\n",
       "  <thead>\n",
       "    <tr style=\"text-align: right;\">\n",
       "      <th></th>\n",
       "      <th>ethnicity</th>\n",
       "      <th>date</th>\n",
       "      <th>filename</th>\n",
       "      <th>sex</th>\n",
       "    </tr>\n",
       "  </thead>\n",
       "  <tbody>\n",
       "    <tr>\n",
       "      <th>23</th>\n",
       "      <td>CEU</td>\n",
       "      <td>2002-11-21</td>\n",
       "      <td>GSM25482.CEL.gz</td>\n",
       "      <td>F</td>\n",
       "    </tr>\n",
       "  </tbody>\n",
       "</table>\n",
       "</div>"
      ],
      "text/plain": [
       "   ethnicity        date         filename sex\n",
       "23       CEU  2002-11-21  GSM25482.CEL.gz   F"
      ]
     },
     "execution_count": 5,
     "metadata": {},
     "output_type": "execute_result"
    }
   ],
   "source": [
    "sampleinfo[exprs.columns == sampleinfo.filename]"
   ]
  },
  {
   "cell_type": "markdown",
   "metadata": {},
   "source": [
    "Now, we want to re-order the columns in the `exprs` DataFrame to match the order of the file names in the `sampleinfo` DataFrame. One way of doing this is to use the `list.index()` method.  First, we convert the file names in `sampleinfo` and the column names of `exprs` and to two lists: `a` and `b`. Then, we use a list comprehension to iterate through each element in `a` and return the index in `b` that matches using the `list.index()` method.  Once we know all the indexes, we can re-order `exprs` so that the columns match the same order as the `filenames` in `sampleinfo`. "
   ]
  },
  {
   "cell_type": "code",
   "execution_count": 6,
   "metadata": {
    "collapsed": false
   },
   "outputs": [
    {
     "data": {
      "text/plain": [
       "True"
      ]
     },
     "execution_count": 6,
     "metadata": {},
     "output_type": "execute_result"
    }
   ],
   "source": [
    "#your code here\n",
    "a = list(sampleinfo.filename)\n",
    "b = list(exprs.columns)\n",
    "matchIndex = [b.index(x) for x in a]\n",
    "exprs = exprs[matchIndex]\n",
    "\n",
    "# check if all the column names match the file names in sampleinfo\n",
    "(exprs.columns == sampleinfo.filename).all()"
   ]
  },
  {
   "cell_type": "markdown",
   "metadata": {},
   "source": [
    "Show the head of the two tables: `exprs` and `sampleinfo`. "
   ]
  },
  {
   "cell_type": "code",
   "execution_count": 7,
   "metadata": {
    "collapsed": false
   },
   "outputs": [
    {
     "data": {
      "text/html": [
       "<div>\n",
       "<table border=\"1\" class=\"dataframe\">\n",
       "  <thead>\n",
       "    <tr style=\"text-align: right;\">\n",
       "      <th></th>\n",
       "      <th>GSM25349.CEL.gz</th>\n",
       "      <th>GSM25350.CEL.gz</th>\n",
       "      <th>GSM25356.CEL.gz</th>\n",
       "      <th>GSM25357.CEL.gz</th>\n",
       "      <th>GSM25358.CEL.gz</th>\n",
       "      <th>GSM25359.CEL.gz</th>\n",
       "      <th>GSM25360.CEL.gz</th>\n",
       "      <th>GSM25361.CEL.gz</th>\n",
       "      <th>GSM25377.CEL.gz</th>\n",
       "      <th>GSM25378.CEL.gz</th>\n",
       "      <th>...</th>\n",
       "      <th>GSM136719.CEL.gz</th>\n",
       "      <th>GSM136720.CEL.gz</th>\n",
       "      <th>GSM136721.CEL.gz</th>\n",
       "      <th>GSM136722.CEL.gz</th>\n",
       "      <th>GSM136723.CEL.gz</th>\n",
       "      <th>GSM136724.CEL.gz</th>\n",
       "      <th>GSM136725.CEL.gz</th>\n",
       "      <th>GSM136726.CEL.gz</th>\n",
       "      <th>GSM136727.CEL.gz</th>\n",
       "      <th>GSM136729.CEL.gz</th>\n",
       "    </tr>\n",
       "  </thead>\n",
       "  <tbody>\n",
       "    <tr>\n",
       "      <th>1007_s_at</th>\n",
       "      <td>6.627014</td>\n",
       "      <td>6.249807</td>\n",
       "      <td>5.934128</td>\n",
       "      <td>6.145268</td>\n",
       "      <td>6.091270</td>\n",
       "      <td>6.041186</td>\n",
       "      <td>6.050375</td>\n",
       "      <td>6.063847</td>\n",
       "      <td>6.226106</td>\n",
       "      <td>6.358282</td>\n",
       "      <td>...</td>\n",
       "      <td>6.466445</td>\n",
       "      <td>6.533592</td>\n",
       "      <td>6.631492</td>\n",
       "      <td>6.513362</td>\n",
       "      <td>6.440706</td>\n",
       "      <td>6.704324</td>\n",
       "      <td>6.488579</td>\n",
       "      <td>6.809481</td>\n",
       "      <td>6.133068</td>\n",
       "      <td>6.155473</td>\n",
       "    </tr>\n",
       "    <tr>\n",
       "      <th>1053_at</th>\n",
       "      <td>6.939184</td>\n",
       "      <td>6.818038</td>\n",
       "      <td>7.047962</td>\n",
       "      <td>7.422477</td>\n",
       "      <td>7.272361</td>\n",
       "      <td>7.128216</td>\n",
       "      <td>6.750719</td>\n",
       "      <td>6.836287</td>\n",
       "      <td>6.738022</td>\n",
       "      <td>7.367895</td>\n",
       "      <td>...</td>\n",
       "      <td>7.032885</td>\n",
       "      <td>7.156344</td>\n",
       "      <td>7.018025</td>\n",
       "      <td>6.973322</td>\n",
       "      <td>6.884738</td>\n",
       "      <td>7.120898</td>\n",
       "      <td>7.517410</td>\n",
       "      <td>7.200596</td>\n",
       "      <td>7.280781</td>\n",
       "      <td>7.111583</td>\n",
       "    </tr>\n",
       "    <tr>\n",
       "      <th>117_at</th>\n",
       "      <td>5.113570</td>\n",
       "      <td>5.074096</td>\n",
       "      <td>5.371201</td>\n",
       "      <td>5.266550</td>\n",
       "      <td>5.342047</td>\n",
       "      <td>5.063876</td>\n",
       "      <td>5.315898</td>\n",
       "      <td>5.483652</td>\n",
       "      <td>6.689444</td>\n",
       "      <td>6.482782</td>\n",
       "      <td>...</td>\n",
       "      <td>5.661112</td>\n",
       "      <td>5.127260</td>\n",
       "      <td>5.151840</td>\n",
       "      <td>5.505602</td>\n",
       "      <td>5.687689</td>\n",
       "      <td>4.942651</td>\n",
       "      <td>5.247190</td>\n",
       "      <td>5.237239</td>\n",
       "      <td>5.401876</td>\n",
       "      <td>5.302628</td>\n",
       "    </tr>\n",
       "    <tr>\n",
       "      <th>121_at</th>\n",
       "      <td>7.833862</td>\n",
       "      <td>7.780682</td>\n",
       "      <td>7.458197</td>\n",
       "      <td>7.655948</td>\n",
       "      <td>7.546555</td>\n",
       "      <td>7.072670</td>\n",
       "      <td>7.092984</td>\n",
       "      <td>6.954225</td>\n",
       "      <td>7.489785</td>\n",
       "      <td>7.388539</td>\n",
       "      <td>...</td>\n",
       "      <td>7.769734</td>\n",
       "      <td>7.815864</td>\n",
       "      <td>7.683279</td>\n",
       "      <td>7.883231</td>\n",
       "      <td>7.913621</td>\n",
       "      <td>7.834196</td>\n",
       "      <td>7.331864</td>\n",
       "      <td>7.357102</td>\n",
       "      <td>7.607461</td>\n",
       "      <td>7.456453</td>\n",
       "    </tr>\n",
       "    <tr>\n",
       "      <th>1255_g_at</th>\n",
       "      <td>3.152269</td>\n",
       "      <td>3.111747</td>\n",
       "      <td>3.018932</td>\n",
       "      <td>3.154545</td>\n",
       "      <td>3.107954</td>\n",
       "      <td>3.224284</td>\n",
       "      <td>3.114241</td>\n",
       "      <td>3.044975</td>\n",
       "      <td>3.304038</td>\n",
       "      <td>2.887919</td>\n",
       "      <td>...</td>\n",
       "      <td>3.257484</td>\n",
       "      <td>3.339234</td>\n",
       "      <td>3.298384</td>\n",
       "      <td>3.150654</td>\n",
       "      <td>3.344501</td>\n",
       "      <td>3.230285</td>\n",
       "      <td>3.175846</td>\n",
       "      <td>3.105092</td>\n",
       "      <td>3.225123</td>\n",
       "      <td>3.090149</td>\n",
       "    </tr>\n",
       "  </tbody>\n",
       "</table>\n",
       "<p>5 rows × 208 columns</p>\n",
       "</div>"
      ],
      "text/plain": [
       "           GSM25349.CEL.gz  GSM25350.CEL.gz  GSM25356.CEL.gz  GSM25357.CEL.gz  \\\n",
       "1007_s_at         6.627014         6.249807         5.934128         6.145268   \n",
       "1053_at           6.939184         6.818038         7.047962         7.422477   \n",
       "117_at            5.113570         5.074096         5.371201         5.266550   \n",
       "121_at            7.833862         7.780682         7.458197         7.655948   \n",
       "1255_g_at         3.152269         3.111747         3.018932         3.154545   \n",
       "\n",
       "           GSM25358.CEL.gz  GSM25359.CEL.gz  GSM25360.CEL.gz  GSM25361.CEL.gz  \\\n",
       "1007_s_at         6.091270         6.041186         6.050375         6.063847   \n",
       "1053_at           7.272361         7.128216         6.750719         6.836287   \n",
       "117_at            5.342047         5.063876         5.315898         5.483652   \n",
       "121_at            7.546555         7.072670         7.092984         6.954225   \n",
       "1255_g_at         3.107954         3.224284         3.114241         3.044975   \n",
       "\n",
       "           GSM25377.CEL.gz  GSM25378.CEL.gz        ...         \\\n",
       "1007_s_at         6.226106         6.358282        ...          \n",
       "1053_at           6.738022         7.367895        ...          \n",
       "117_at            6.689444         6.482782        ...          \n",
       "121_at            7.489785         7.388539        ...          \n",
       "1255_g_at         3.304038         2.887919        ...          \n",
       "\n",
       "           GSM136719.CEL.gz  GSM136720.CEL.gz  GSM136721.CEL.gz  \\\n",
       "1007_s_at          6.466445          6.533592          6.631492   \n",
       "1053_at            7.032885          7.156344          7.018025   \n",
       "117_at             5.661112          5.127260          5.151840   \n",
       "121_at             7.769734          7.815864          7.683279   \n",
       "1255_g_at          3.257484          3.339234          3.298384   \n",
       "\n",
       "           GSM136722.CEL.gz  GSM136723.CEL.gz  GSM136724.CEL.gz  \\\n",
       "1007_s_at          6.513362          6.440706          6.704324   \n",
       "1053_at            6.973322          6.884738          7.120898   \n",
       "117_at             5.505602          5.687689          4.942651   \n",
       "121_at             7.883231          7.913621          7.834196   \n",
       "1255_g_at          3.150654          3.344501          3.230285   \n",
       "\n",
       "           GSM136725.CEL.gz  GSM136726.CEL.gz  GSM136727.CEL.gz  \\\n",
       "1007_s_at          6.488579          6.809481          6.133068   \n",
       "1053_at            7.517410          7.200596          7.280781   \n",
       "117_at             5.247190          5.237239          5.401876   \n",
       "121_at             7.331864          7.357102          7.607461   \n",
       "1255_g_at          3.175846          3.105092          3.225123   \n",
       "\n",
       "           GSM136729.CEL.gz  \n",
       "1007_s_at          6.155473  \n",
       "1053_at            7.111583  \n",
       "117_at             5.302628  \n",
       "121_at             7.456453  \n",
       "1255_g_at          3.090149  \n",
       "\n",
       "[5 rows x 208 columns]"
      ]
     },
     "execution_count": 7,
     "metadata": {},
     "output_type": "execute_result"
    }
   ],
   "source": [
    "exprs.head()"
   ]
  },
  {
   "cell_type": "code",
   "execution_count": 8,
   "metadata": {
    "collapsed": false
   },
   "outputs": [
    {
     "data": {
      "text/html": [
       "<div>\n",
       "<table border=\"1\" class=\"dataframe\">\n",
       "  <thead>\n",
       "    <tr style=\"text-align: right;\">\n",
       "      <th></th>\n",
       "      <th>ethnicity</th>\n",
       "      <th>date</th>\n",
       "      <th>filename</th>\n",
       "      <th>sex</th>\n",
       "    </tr>\n",
       "  </thead>\n",
       "  <tbody>\n",
       "    <tr>\n",
       "      <th>0</th>\n",
       "      <td>CEU</td>\n",
       "      <td>2003-02-04</td>\n",
       "      <td>GSM25349.CEL.gz</td>\n",
       "      <td>M</td>\n",
       "    </tr>\n",
       "    <tr>\n",
       "      <th>1</th>\n",
       "      <td>CEU</td>\n",
       "      <td>2003-02-04</td>\n",
       "      <td>GSM25350.CEL.gz</td>\n",
       "      <td>M</td>\n",
       "    </tr>\n",
       "    <tr>\n",
       "      <th>2</th>\n",
       "      <td>CEU</td>\n",
       "      <td>2002-12-17</td>\n",
       "      <td>GSM25356.CEL.gz</td>\n",
       "      <td>M</td>\n",
       "    </tr>\n",
       "    <tr>\n",
       "      <th>3</th>\n",
       "      <td>CEU</td>\n",
       "      <td>2003-01-30</td>\n",
       "      <td>GSM25357.CEL.gz</td>\n",
       "      <td>M</td>\n",
       "    </tr>\n",
       "    <tr>\n",
       "      <th>4</th>\n",
       "      <td>CEU</td>\n",
       "      <td>2003-01-03</td>\n",
       "      <td>GSM25358.CEL.gz</td>\n",
       "      <td>M</td>\n",
       "    </tr>\n",
       "  </tbody>\n",
       "</table>\n",
       "</div>"
      ],
      "text/plain": [
       "  ethnicity        date         filename sex\n",
       "0       CEU  2003-02-04  GSM25349.CEL.gz   M\n",
       "1       CEU  2003-02-04  GSM25350.CEL.gz   M\n",
       "2       CEU  2002-12-17  GSM25356.CEL.gz   M\n",
       "3       CEU  2003-01-30  GSM25357.CEL.gz   M\n",
       "4       CEU  2003-01-03  GSM25358.CEL.gz   M"
      ]
     },
     "execution_count": 8,
     "metadata": {},
     "output_type": "execute_result"
    }
   ],
   "source": [
    "sampleinfo.head()"
   ]
  },
  {
   "cell_type": "markdown",
   "metadata": {},
   "source": [
    "#### Problem 1(b)\n",
    "\n",
    "Extract the year and month as integers from the `sampleinfo` table. \n",
    "\n",
    "**Hint**: To convert a Series or a column of a pandas DataFrame that contains a date-like object, you can use the `to_datetime` function [[read here](http://pandas.pydata.org/pandas-docs/stable/timeseries.html)].  This will create a `DatetimeIndex` which can be used to extract the month and year for each row in the DataFrame. "
   ]
  },
  {
   "cell_type": "code",
   "execution_count": 9,
   "metadata": {
    "collapsed": false
   },
   "outputs": [],
   "source": [
    "#your code here\n",
    "sampleinfo[\"date\"] = pd.to_datetime(sampleinfo.date)\n",
    "sampleinfo[\"month\"] = map(lambda x: x.month, sampleinfo.date)\n",
    "sampleinfo[\"year\"] = map(lambda x: x.year, sampleinfo.date)"
   ]
  },
  {
   "cell_type": "markdown",
   "metadata": {},
   "source": [
    "#### Problem 1(c)\n",
    "\n",
    "Convert the dates in the `date` column from the `sampleinfo` table into days since October 31, 2002. Add a column to the `sampleinfo` DataFrame titled `elapsedInDays` containing the days since October 31, 2002.  Show the head of the `sampleinfo` DataFrame which includes the new column.  \n",
    "\n",
    "**Hint**: Use the `datetime` module to create a new `datetime` object for the specific date October 31, 2002. Then, subtract the October 31, 2002 date from each date from the `date` column in the `sampleinfo` DataFrame. "
   ]
  },
  {
   "cell_type": "code",
   "execution_count": 10,
   "metadata": {
    "collapsed": false
   },
   "outputs": [
    {
     "data": {
      "text/plain": [
       "datetime.datetime(2002, 10, 31, 0, 0)"
      ]
     },
     "execution_count": 10,
     "metadata": {},
     "output_type": "execute_result"
    }
   ],
   "source": [
    "#your code here\n",
    "oct31 = dt.datetime(2002,10,31,0,0)\n",
    "oct31"
   ]
  },
  {
   "cell_type": "code",
   "execution_count": 11,
   "metadata": {
    "collapsed": false
   },
   "outputs": [
    {
     "data": {
      "text/html": [
       "<div>\n",
       "<table border=\"1\" class=\"dataframe\">\n",
       "  <thead>\n",
       "    <tr style=\"text-align: right;\">\n",
       "      <th></th>\n",
       "      <th>ethnicity</th>\n",
       "      <th>date</th>\n",
       "      <th>filename</th>\n",
       "      <th>sex</th>\n",
       "      <th>month</th>\n",
       "      <th>year</th>\n",
       "      <th>elapsedInDays</th>\n",
       "    </tr>\n",
       "  </thead>\n",
       "  <tbody>\n",
       "    <tr>\n",
       "      <th>0</th>\n",
       "      <td>CEU</td>\n",
       "      <td>2003-02-04</td>\n",
       "      <td>GSM25349.CEL.gz</td>\n",
       "      <td>M</td>\n",
       "      <td>2</td>\n",
       "      <td>2003</td>\n",
       "      <td>96</td>\n",
       "    </tr>\n",
       "    <tr>\n",
       "      <th>1</th>\n",
       "      <td>CEU</td>\n",
       "      <td>2003-02-04</td>\n",
       "      <td>GSM25350.CEL.gz</td>\n",
       "      <td>M</td>\n",
       "      <td>2</td>\n",
       "      <td>2003</td>\n",
       "      <td>96</td>\n",
       "    </tr>\n",
       "    <tr>\n",
       "      <th>2</th>\n",
       "      <td>CEU</td>\n",
       "      <td>2002-12-17</td>\n",
       "      <td>GSM25356.CEL.gz</td>\n",
       "      <td>M</td>\n",
       "      <td>12</td>\n",
       "      <td>2002</td>\n",
       "      <td>47</td>\n",
       "    </tr>\n",
       "    <tr>\n",
       "      <th>3</th>\n",
       "      <td>CEU</td>\n",
       "      <td>2003-01-30</td>\n",
       "      <td>GSM25357.CEL.gz</td>\n",
       "      <td>M</td>\n",
       "      <td>1</td>\n",
       "      <td>2003</td>\n",
       "      <td>91</td>\n",
       "    </tr>\n",
       "    <tr>\n",
       "      <th>4</th>\n",
       "      <td>CEU</td>\n",
       "      <td>2003-01-03</td>\n",
       "      <td>GSM25358.CEL.gz</td>\n",
       "      <td>M</td>\n",
       "      <td>1</td>\n",
       "      <td>2003</td>\n",
       "      <td>64</td>\n",
       "    </tr>\n",
       "  </tbody>\n",
       "</table>\n",
       "</div>"
      ],
      "text/plain": [
       "  ethnicity       date         filename sex  month  year  elapsedInDays\n",
       "0       CEU 2003-02-04  GSM25349.CEL.gz   M      2  2003             96\n",
       "1       CEU 2003-02-04  GSM25350.CEL.gz   M      2  2003             96\n",
       "2       CEU 2002-12-17  GSM25356.CEL.gz   M     12  2002             47\n",
       "3       CEU 2003-01-30  GSM25357.CEL.gz   M      1  2003             91\n",
       "4       CEU 2003-01-03  GSM25358.CEL.gz   M      1  2003             64"
      ]
     },
     "execution_count": 11,
     "metadata": {},
     "output_type": "execute_result"
    }
   ],
   "source": [
    "sampleinfo[\"elapsedInDays\"] = map(lambda x: (x - oct31).days, sampleinfo.date)\n",
    "sampleinfo.head()"
   ]
  },
  {
   "cell_type": "markdown",
   "metadata": {},
   "source": [
    "#### Problem 1(d)\n",
    "\n",
    "Use exploratory analysis and the singular value decomposition (SVD) of the gene expression data matrix to determine if the date the samples were processed has large effect on the variability seen in the data or if it is just ethnicity (which is confounded with date).\n",
    "\n",
    "**Hint**: See the end of the [lecture from 9/23/2014 for help with SVD](http://nbviewer.ipython.org/github/cs109/2014/blob/master/lectures/lecture07/data_scraping_transcript.ipynb). \n",
    "\n",
    "First subset the the `sampleinfo` DataFrame to include only the CEU ethnicity.  Call this new subsetted DataFrame `sampleinfoCEU`.  Show the head of `sampleinfoCEU` DataFrame. "
   ]
  },
  {
   "cell_type": "code",
   "execution_count": 12,
   "metadata": {
    "collapsed": false
   },
   "outputs": [
    {
     "data": {
      "text/html": [
       "<div>\n",
       "<table border=\"1\" class=\"dataframe\">\n",
       "  <thead>\n",
       "    <tr style=\"text-align: right;\">\n",
       "      <th></th>\n",
       "      <th>ethnicity</th>\n",
       "      <th>date</th>\n",
       "      <th>filename</th>\n",
       "      <th>sex</th>\n",
       "      <th>month</th>\n",
       "      <th>year</th>\n",
       "      <th>elapsedInDays</th>\n",
       "    </tr>\n",
       "  </thead>\n",
       "  <tbody>\n",
       "    <tr>\n",
       "      <th>0</th>\n",
       "      <td>CEU</td>\n",
       "      <td>2003-02-04</td>\n",
       "      <td>GSM25349.CEL.gz</td>\n",
       "      <td>M</td>\n",
       "      <td>2</td>\n",
       "      <td>2003</td>\n",
       "      <td>96</td>\n",
       "    </tr>\n",
       "    <tr>\n",
       "      <th>1</th>\n",
       "      <td>CEU</td>\n",
       "      <td>2003-02-04</td>\n",
       "      <td>GSM25350.CEL.gz</td>\n",
       "      <td>M</td>\n",
       "      <td>2</td>\n",
       "      <td>2003</td>\n",
       "      <td>96</td>\n",
       "    </tr>\n",
       "    <tr>\n",
       "      <th>2</th>\n",
       "      <td>CEU</td>\n",
       "      <td>2002-12-17</td>\n",
       "      <td>GSM25356.CEL.gz</td>\n",
       "      <td>M</td>\n",
       "      <td>12</td>\n",
       "      <td>2002</td>\n",
       "      <td>47</td>\n",
       "    </tr>\n",
       "    <tr>\n",
       "      <th>3</th>\n",
       "      <td>CEU</td>\n",
       "      <td>2003-01-30</td>\n",
       "      <td>GSM25357.CEL.gz</td>\n",
       "      <td>M</td>\n",
       "      <td>1</td>\n",
       "      <td>2003</td>\n",
       "      <td>91</td>\n",
       "    </tr>\n",
       "    <tr>\n",
       "      <th>4</th>\n",
       "      <td>CEU</td>\n",
       "      <td>2003-01-03</td>\n",
       "      <td>GSM25358.CEL.gz</td>\n",
       "      <td>M</td>\n",
       "      <td>1</td>\n",
       "      <td>2003</td>\n",
       "      <td>64</td>\n",
       "    </tr>\n",
       "  </tbody>\n",
       "</table>\n",
       "</div>"
      ],
      "text/plain": [
       "  ethnicity       date         filename sex  month  year  elapsedInDays\n",
       "0       CEU 2003-02-04  GSM25349.CEL.gz   M      2  2003             96\n",
       "1       CEU 2003-02-04  GSM25350.CEL.gz   M      2  2003             96\n",
       "2       CEU 2002-12-17  GSM25356.CEL.gz   M     12  2002             47\n",
       "3       CEU 2003-01-30  GSM25357.CEL.gz   M      1  2003             91\n",
       "4       CEU 2003-01-03  GSM25358.CEL.gz   M      1  2003             64"
      ]
     },
     "execution_count": 12,
     "metadata": {},
     "output_type": "execute_result"
    }
   ],
   "source": [
    "#your code here\n",
    "sampleinfoCEU = sampleinfo[sampleinfo.ethnicity == \"CEU\"]\n",
    "sampleinfoCEU.head()"
   ]
  },
  {
   "cell_type": "markdown",
   "metadata": {},
   "source": [
    "Next, subset the `exprs` DataFrame to only include the samples with the CEU ethnicity. Name this new subsetted DataFrame `exprsCEU`. Show the head of the `exprsCEU` DataFrame. "
   ]
  },
  {
   "cell_type": "code",
   "execution_count": 13,
   "metadata": {
    "collapsed": false
   },
   "outputs": [
    {
     "data": {
      "text/html": [
       "<div>\n",
       "<table border=\"1\" class=\"dataframe\">\n",
       "  <thead>\n",
       "    <tr style=\"text-align: right;\">\n",
       "      <th></th>\n",
       "      <th>GSM25349.CEL.gz</th>\n",
       "      <th>GSM25350.CEL.gz</th>\n",
       "      <th>GSM25356.CEL.gz</th>\n",
       "      <th>GSM25357.CEL.gz</th>\n",
       "      <th>GSM25358.CEL.gz</th>\n",
       "      <th>GSM25359.CEL.gz</th>\n",
       "      <th>GSM25360.CEL.gz</th>\n",
       "      <th>GSM25361.CEL.gz</th>\n",
       "      <th>GSM25377.CEL.gz</th>\n",
       "      <th>GSM25378.CEL.gz</th>\n",
       "      <th>...</th>\n",
       "      <th>GSM48658.CEL.gz</th>\n",
       "      <th>GSM48660.CEL.gz</th>\n",
       "      <th>GSM48661.CEL.gz</th>\n",
       "      <th>GSM48662.CEL.gz</th>\n",
       "      <th>GSM48663.CEL.gz</th>\n",
       "      <th>GSM48664.CEL.gz</th>\n",
       "      <th>GSM48665.CEL.gz</th>\n",
       "      <th>GSM136725.CEL.gz</th>\n",
       "      <th>GSM136726.CEL.gz</th>\n",
       "      <th>GSM136727.CEL.gz</th>\n",
       "    </tr>\n",
       "  </thead>\n",
       "  <tbody>\n",
       "    <tr>\n",
       "      <th>1007_s_at</th>\n",
       "      <td>6.627014</td>\n",
       "      <td>6.249807</td>\n",
       "      <td>5.934128</td>\n",
       "      <td>6.145268</td>\n",
       "      <td>6.091270</td>\n",
       "      <td>6.041186</td>\n",
       "      <td>6.050375</td>\n",
       "      <td>6.063847</td>\n",
       "      <td>6.226106</td>\n",
       "      <td>6.358282</td>\n",
       "      <td>...</td>\n",
       "      <td>6.501510</td>\n",
       "      <td>6.558100</td>\n",
       "      <td>6.618286</td>\n",
       "      <td>6.869995</td>\n",
       "      <td>5.981000</td>\n",
       "      <td>6.403285</td>\n",
       "      <td>6.248702</td>\n",
       "      <td>6.488579</td>\n",
       "      <td>6.809481</td>\n",
       "      <td>6.133068</td>\n",
       "    </tr>\n",
       "    <tr>\n",
       "      <th>1053_at</th>\n",
       "      <td>6.939184</td>\n",
       "      <td>6.818038</td>\n",
       "      <td>7.047962</td>\n",
       "      <td>7.422477</td>\n",
       "      <td>7.272361</td>\n",
       "      <td>7.128216</td>\n",
       "      <td>6.750719</td>\n",
       "      <td>6.836287</td>\n",
       "      <td>6.738022</td>\n",
       "      <td>7.367895</td>\n",
       "      <td>...</td>\n",
       "      <td>7.066686</td>\n",
       "      <td>7.386702</td>\n",
       "      <td>6.407958</td>\n",
       "      <td>7.089180</td>\n",
       "      <td>7.120923</td>\n",
       "      <td>7.018998</td>\n",
       "      <td>7.155419</td>\n",
       "      <td>7.517410</td>\n",
       "      <td>7.200596</td>\n",
       "      <td>7.280781</td>\n",
       "    </tr>\n",
       "    <tr>\n",
       "      <th>117_at</th>\n",
       "      <td>5.113570</td>\n",
       "      <td>5.074096</td>\n",
       "      <td>5.371201</td>\n",
       "      <td>5.266550</td>\n",
       "      <td>5.342047</td>\n",
       "      <td>5.063876</td>\n",
       "      <td>5.315898</td>\n",
       "      <td>5.483652</td>\n",
       "      <td>6.689444</td>\n",
       "      <td>6.482782</td>\n",
       "      <td>...</td>\n",
       "      <td>5.600514</td>\n",
       "      <td>5.232676</td>\n",
       "      <td>5.630720</td>\n",
       "      <td>4.944748</td>\n",
       "      <td>5.275577</td>\n",
       "      <td>5.770358</td>\n",
       "      <td>5.616842</td>\n",
       "      <td>5.247190</td>\n",
       "      <td>5.237239</td>\n",
       "      <td>5.401876</td>\n",
       "    </tr>\n",
       "    <tr>\n",
       "      <th>121_at</th>\n",
       "      <td>7.833862</td>\n",
       "      <td>7.780682</td>\n",
       "      <td>7.458197</td>\n",
       "      <td>7.655948</td>\n",
       "      <td>7.546555</td>\n",
       "      <td>7.072670</td>\n",
       "      <td>7.092984</td>\n",
       "      <td>6.954225</td>\n",
       "      <td>7.489785</td>\n",
       "      <td>7.388539</td>\n",
       "      <td>...</td>\n",
       "      <td>7.437535</td>\n",
       "      <td>7.714650</td>\n",
       "      <td>7.416252</td>\n",
       "      <td>7.746448</td>\n",
       "      <td>8.001434</td>\n",
       "      <td>7.626723</td>\n",
       "      <td>7.452299</td>\n",
       "      <td>7.331864</td>\n",
       "      <td>7.357102</td>\n",
       "      <td>7.607461</td>\n",
       "    </tr>\n",
       "    <tr>\n",
       "      <th>1255_g_at</th>\n",
       "      <td>3.152269</td>\n",
       "      <td>3.111747</td>\n",
       "      <td>3.018932</td>\n",
       "      <td>3.154545</td>\n",
       "      <td>3.107954</td>\n",
       "      <td>3.224284</td>\n",
       "      <td>3.114241</td>\n",
       "      <td>3.044975</td>\n",
       "      <td>3.304038</td>\n",
       "      <td>2.887919</td>\n",
       "      <td>...</td>\n",
       "      <td>3.009983</td>\n",
       "      <td>3.151203</td>\n",
       "      <td>3.199709</td>\n",
       "      <td>3.159496</td>\n",
       "      <td>3.149710</td>\n",
       "      <td>3.242780</td>\n",
       "      <td>3.433125</td>\n",
       "      <td>3.175846</td>\n",
       "      <td>3.105092</td>\n",
       "      <td>3.225123</td>\n",
       "    </tr>\n",
       "  </tbody>\n",
       "</table>\n",
       "<p>5 rows × 102 columns</p>\n",
       "</div>"
      ],
      "text/plain": [
       "           GSM25349.CEL.gz  GSM25350.CEL.gz  GSM25356.CEL.gz  GSM25357.CEL.gz  \\\n",
       "1007_s_at         6.627014         6.249807         5.934128         6.145268   \n",
       "1053_at           6.939184         6.818038         7.047962         7.422477   \n",
       "117_at            5.113570         5.074096         5.371201         5.266550   \n",
       "121_at            7.833862         7.780682         7.458197         7.655948   \n",
       "1255_g_at         3.152269         3.111747         3.018932         3.154545   \n",
       "\n",
       "           GSM25358.CEL.gz  GSM25359.CEL.gz  GSM25360.CEL.gz  GSM25361.CEL.gz  \\\n",
       "1007_s_at         6.091270         6.041186         6.050375         6.063847   \n",
       "1053_at           7.272361         7.128216         6.750719         6.836287   \n",
       "117_at            5.342047         5.063876         5.315898         5.483652   \n",
       "121_at            7.546555         7.072670         7.092984         6.954225   \n",
       "1255_g_at         3.107954         3.224284         3.114241         3.044975   \n",
       "\n",
       "           GSM25377.CEL.gz  GSM25378.CEL.gz        ...         \\\n",
       "1007_s_at         6.226106         6.358282        ...          \n",
       "1053_at           6.738022         7.367895        ...          \n",
       "117_at            6.689444         6.482782        ...          \n",
       "121_at            7.489785         7.388539        ...          \n",
       "1255_g_at         3.304038         2.887919        ...          \n",
       "\n",
       "           GSM48658.CEL.gz  GSM48660.CEL.gz  GSM48661.CEL.gz  GSM48662.CEL.gz  \\\n",
       "1007_s_at         6.501510         6.558100         6.618286         6.869995   \n",
       "1053_at           7.066686         7.386702         6.407958         7.089180   \n",
       "117_at            5.600514         5.232676         5.630720         4.944748   \n",
       "121_at            7.437535         7.714650         7.416252         7.746448   \n",
       "1255_g_at         3.009983         3.151203         3.199709         3.159496   \n",
       "\n",
       "           GSM48663.CEL.gz  GSM48664.CEL.gz  GSM48665.CEL.gz  \\\n",
       "1007_s_at         5.981000         6.403285         6.248702   \n",
       "1053_at           7.120923         7.018998         7.155419   \n",
       "117_at            5.275577         5.770358         5.616842   \n",
       "121_at            8.001434         7.626723         7.452299   \n",
       "1255_g_at         3.149710         3.242780         3.433125   \n",
       "\n",
       "           GSM136725.CEL.gz  GSM136726.CEL.gz  GSM136727.CEL.gz  \n",
       "1007_s_at          6.488579          6.809481          6.133068  \n",
       "1053_at            7.517410          7.200596          7.280781  \n",
       "117_at             5.247190          5.237239          5.401876  \n",
       "121_at             7.331864          7.357102          7.607461  \n",
       "1255_g_at          3.175846          3.105092          3.225123  \n",
       "\n",
       "[5 rows x 102 columns]"
      ]
     },
     "execution_count": 13,
     "metadata": {},
     "output_type": "execute_result"
    }
   ],
   "source": [
    "#your code here\n",
    "exprsCEU = exprs[sampleinfoCEU.filename]\n",
    "exprsCEU.head()"
   ]
  },
  {
   "cell_type": "markdown",
   "metadata": {},
   "source": [
    "Check to make sure the order of the columns in the `exprsCEU` DataFrame matches the rows in the `sampleinfoCEU` DataFrame.  "
   ]
  },
  {
   "cell_type": "code",
   "execution_count": 14,
   "metadata": {
    "collapsed": false
   },
   "outputs": [
    {
     "data": {
      "text/plain": [
       "True"
      ]
     },
     "execution_count": 14,
     "metadata": {},
     "output_type": "execute_result"
    }
   ],
   "source": [
    "#your code here\n",
    "(exprsCEU.columns == sampleinfoCEU.filename).all()"
   ]
  },
  {
   "cell_type": "markdown",
   "metadata": {},
   "source": [
    "Compute the average gene expression intensity in the `exprsCEU` DataFrame across all the samples. For each sample in the `exprsCEU` DataFrame, subtract the average gene expression intensity from each of the samples. Show the head of the mean normalized gene expression data.  "
   ]
  },
  {
   "cell_type": "code",
   "execution_count": 15,
   "metadata": {
    "collapsed": false
   },
   "outputs": [
    {
     "data": {
      "text/html": [
       "<div>\n",
       "<table border=\"1\" class=\"dataframe\">\n",
       "  <thead>\n",
       "    <tr style=\"text-align: right;\">\n",
       "      <th></th>\n",
       "      <th>GSM25349.CEL.gz</th>\n",
       "      <th>GSM25350.CEL.gz</th>\n",
       "      <th>GSM25356.CEL.gz</th>\n",
       "      <th>GSM25357.CEL.gz</th>\n",
       "      <th>GSM25358.CEL.gz</th>\n",
       "      <th>GSM25359.CEL.gz</th>\n",
       "      <th>GSM25360.CEL.gz</th>\n",
       "      <th>GSM25361.CEL.gz</th>\n",
       "      <th>GSM25377.CEL.gz</th>\n",
       "      <th>GSM25378.CEL.gz</th>\n",
       "      <th>...</th>\n",
       "      <th>GSM48658.CEL.gz</th>\n",
       "      <th>GSM48660.CEL.gz</th>\n",
       "      <th>GSM48661.CEL.gz</th>\n",
       "      <th>GSM48662.CEL.gz</th>\n",
       "      <th>GSM48663.CEL.gz</th>\n",
       "      <th>GSM48664.CEL.gz</th>\n",
       "      <th>GSM48665.CEL.gz</th>\n",
       "      <th>GSM136725.CEL.gz</th>\n",
       "      <th>GSM136726.CEL.gz</th>\n",
       "      <th>GSM136727.CEL.gz</th>\n",
       "    </tr>\n",
       "  </thead>\n",
       "  <tbody>\n",
       "    <tr>\n",
       "      <th>1007_s_at</th>\n",
       "      <td>0.365059</td>\n",
       "      <td>-0.012149</td>\n",
       "      <td>-0.327827</td>\n",
       "      <td>-0.116687</td>\n",
       "      <td>-0.170685</td>\n",
       "      <td>-0.220769</td>\n",
       "      <td>-0.211580</td>\n",
       "      <td>-0.198109</td>\n",
       "      <td>-0.035849</td>\n",
       "      <td>0.096327</td>\n",
       "      <td>...</td>\n",
       "      <td>0.239554</td>\n",
       "      <td>0.296144</td>\n",
       "      <td>0.356331</td>\n",
       "      <td>0.608040</td>\n",
       "      <td>-0.280956</td>\n",
       "      <td>0.141330</td>\n",
       "      <td>-0.013254</td>\n",
       "      <td>0.226624</td>\n",
       "      <td>0.547526</td>\n",
       "      <td>-0.128887</td>\n",
       "    </tr>\n",
       "    <tr>\n",
       "      <th>1053_at</th>\n",
       "      <td>-0.136032</td>\n",
       "      <td>-0.257178</td>\n",
       "      <td>-0.027254</td>\n",
       "      <td>0.347260</td>\n",
       "      <td>0.197144</td>\n",
       "      <td>0.053000</td>\n",
       "      <td>-0.324497</td>\n",
       "      <td>-0.238930</td>\n",
       "      <td>-0.337195</td>\n",
       "      <td>0.292678</td>\n",
       "      <td>...</td>\n",
       "      <td>-0.008531</td>\n",
       "      <td>0.311485</td>\n",
       "      <td>-0.667259</td>\n",
       "      <td>0.013964</td>\n",
       "      <td>0.045706</td>\n",
       "      <td>-0.056219</td>\n",
       "      <td>0.080203</td>\n",
       "      <td>0.442193</td>\n",
       "      <td>0.125379</td>\n",
       "      <td>0.205564</td>\n",
       "    </tr>\n",
       "    <tr>\n",
       "      <th>117_at</th>\n",
       "      <td>-0.490556</td>\n",
       "      <td>-0.530031</td>\n",
       "      <td>-0.232926</td>\n",
       "      <td>-0.337577</td>\n",
       "      <td>-0.262080</td>\n",
       "      <td>-0.540250</td>\n",
       "      <td>-0.288228</td>\n",
       "      <td>-0.120475</td>\n",
       "      <td>1.085317</td>\n",
       "      <td>0.878655</td>\n",
       "      <td>...</td>\n",
       "      <td>-0.003613</td>\n",
       "      <td>-0.371451</td>\n",
       "      <td>0.026594</td>\n",
       "      <td>-0.659379</td>\n",
       "      <td>-0.328549</td>\n",
       "      <td>0.166231</td>\n",
       "      <td>0.012716</td>\n",
       "      <td>-0.356936</td>\n",
       "      <td>-0.366887</td>\n",
       "      <td>-0.202251</td>\n",
       "    </tr>\n",
       "    <tr>\n",
       "      <th>121_at</th>\n",
       "      <td>0.418026</td>\n",
       "      <td>0.364847</td>\n",
       "      <td>0.042362</td>\n",
       "      <td>0.240113</td>\n",
       "      <td>0.130720</td>\n",
       "      <td>-0.343165</td>\n",
       "      <td>-0.322852</td>\n",
       "      <td>-0.461611</td>\n",
       "      <td>0.073949</td>\n",
       "      <td>-0.027296</td>\n",
       "      <td>...</td>\n",
       "      <td>0.021700</td>\n",
       "      <td>0.298814</td>\n",
       "      <td>0.000417</td>\n",
       "      <td>0.330612</td>\n",
       "      <td>0.585598</td>\n",
       "      <td>0.210887</td>\n",
       "      <td>0.036463</td>\n",
       "      <td>-0.083972</td>\n",
       "      <td>-0.058733</td>\n",
       "      <td>0.191626</td>\n",
       "    </tr>\n",
       "    <tr>\n",
       "      <th>1255_g_at</th>\n",
       "      <td>0.018335</td>\n",
       "      <td>-0.022187</td>\n",
       "      <td>-0.115002</td>\n",
       "      <td>0.020611</td>\n",
       "      <td>-0.025980</td>\n",
       "      <td>0.090351</td>\n",
       "      <td>-0.019693</td>\n",
       "      <td>-0.088959</td>\n",
       "      <td>0.170104</td>\n",
       "      <td>-0.246015</td>\n",
       "      <td>...</td>\n",
       "      <td>-0.123951</td>\n",
       "      <td>0.017269</td>\n",
       "      <td>0.065775</td>\n",
       "      <td>0.025562</td>\n",
       "      <td>0.015776</td>\n",
       "      <td>0.108846</td>\n",
       "      <td>0.299192</td>\n",
       "      <td>0.041912</td>\n",
       "      <td>-0.028842</td>\n",
       "      <td>0.091189</td>\n",
       "    </tr>\n",
       "  </tbody>\n",
       "</table>\n",
       "<p>5 rows × 102 columns</p>\n",
       "</div>"
      ],
      "text/plain": [
       "           GSM25349.CEL.gz  GSM25350.CEL.gz  GSM25356.CEL.gz  GSM25357.CEL.gz  \\\n",
       "1007_s_at         0.365059        -0.012149        -0.327827        -0.116687   \n",
       "1053_at          -0.136032        -0.257178        -0.027254         0.347260   \n",
       "117_at           -0.490556        -0.530031        -0.232926        -0.337577   \n",
       "121_at            0.418026         0.364847         0.042362         0.240113   \n",
       "1255_g_at         0.018335        -0.022187        -0.115002         0.020611   \n",
       "\n",
       "           GSM25358.CEL.gz  GSM25359.CEL.gz  GSM25360.CEL.gz  GSM25361.CEL.gz  \\\n",
       "1007_s_at        -0.170685        -0.220769        -0.211580        -0.198109   \n",
       "1053_at           0.197144         0.053000        -0.324497        -0.238930   \n",
       "117_at           -0.262080        -0.540250        -0.288228        -0.120475   \n",
       "121_at            0.130720        -0.343165        -0.322852        -0.461611   \n",
       "1255_g_at        -0.025980         0.090351        -0.019693        -0.088959   \n",
       "\n",
       "           GSM25377.CEL.gz  GSM25378.CEL.gz        ...         \\\n",
       "1007_s_at        -0.035849         0.096327        ...          \n",
       "1053_at          -0.337195         0.292678        ...          \n",
       "117_at            1.085317         0.878655        ...          \n",
       "121_at            0.073949        -0.027296        ...          \n",
       "1255_g_at         0.170104        -0.246015        ...          \n",
       "\n",
       "           GSM48658.CEL.gz  GSM48660.CEL.gz  GSM48661.CEL.gz  GSM48662.CEL.gz  \\\n",
       "1007_s_at         0.239554         0.296144         0.356331         0.608040   \n",
       "1053_at          -0.008531         0.311485        -0.667259         0.013964   \n",
       "117_at           -0.003613        -0.371451         0.026594        -0.659379   \n",
       "121_at            0.021700         0.298814         0.000417         0.330612   \n",
       "1255_g_at        -0.123951         0.017269         0.065775         0.025562   \n",
       "\n",
       "           GSM48663.CEL.gz  GSM48664.CEL.gz  GSM48665.CEL.gz  \\\n",
       "1007_s_at        -0.280956         0.141330        -0.013254   \n",
       "1053_at           0.045706        -0.056219         0.080203   \n",
       "117_at           -0.328549         0.166231         0.012716   \n",
       "121_at            0.585598         0.210887         0.036463   \n",
       "1255_g_at         0.015776         0.108846         0.299192   \n",
       "\n",
       "           GSM136725.CEL.gz  GSM136726.CEL.gz  GSM136727.CEL.gz  \n",
       "1007_s_at          0.226624          0.547526         -0.128887  \n",
       "1053_at            0.442193          0.125379          0.205564  \n",
       "117_at            -0.356936         -0.366887         -0.202251  \n",
       "121_at            -0.083972         -0.058733          0.191626  \n",
       "1255_g_at          0.041912         -0.028842          0.091189  \n",
       "\n",
       "[5 rows x 102 columns]"
      ]
     },
     "execution_count": 15,
     "metadata": {},
     "output_type": "execute_result"
    }
   ],
   "source": [
    "#your code here\n",
    "data = exprsCEU.apply(lambda x: x - exprsCEU.mean(axis=1), axis = 0)\n",
    "data.head()"
   ]
  },
  {
   "cell_type": "markdown",
   "metadata": {},
   "source": [
    "Using this mean normalized gene expression data, compute the projection to the first Principal Component (PC1).  \n",
    "\n",
    "**Hint**: Use the `numpy.linalg.svd()` function in the `numpy.linalg` module (or the `scipy.linalg.svd()` function in the `scipy.linalg` module) to apply an [singular value decomposition](http://en.wikipedia.org/wiki/Singular_value_decomposition) to a matrix.  "
   ]
  },
  {
   "cell_type": "code",
   "execution_count": 18,
   "metadata": {
    "collapsed": false
   },
   "outputs": [],
   "source": [
    "#your code here\n",
    "U,s,Vh = lin.svd(data.values)\n",
    "V = Vh.T"
   ]
  },
  {
   "cell_type": "markdown",
   "metadata": {},
   "source": [
    "Create a histogram using the values from PC1.  Use a bin size of 25.  "
   ]
  },
  {
   "cell_type": "code",
   "execution_count": 19,
   "metadata": {
    "collapsed": false
   },
   "outputs": [
    {
     "data": {
      "text/plain": [
       "<matplotlib.text.Text at 0x1140d1bd0>"
      ]
     },
     "execution_count": 19,
     "metadata": {},
     "output_type": "execute_result"
    },
    {
     "data": {
      "image/png": "[encoded data removed]",
      "text/plain": [
       "<matplotlib.figure.Figure at 0x10fd9ec90>"
      ]
     },
     "metadata": {},
     "output_type": "display_data"
    }
   ],
   "source": [
    "#your code here\n",
    "plt.hist(V[:,0], bins = 25)\n",
    "plt.xlabel('PC1')\n",
    "plt.ylabel('Frequency')\n",
    "plt.title('Distribution of the values from PC1')"
   ]
  },
  {
   "cell_type": "markdown",
   "metadata": {},
   "source": [
    "Create a scatter plot with the days since October 31, 2002 on the x-axis and PC1 on the y-axis."
   ]
  },
  {
   "cell_type": "code",
   "execution_count": 20,
   "metadata": {
    "collapsed": false
   },
   "outputs": [
    {
     "data": {
      "text/plain": [
       "<matplotlib.text.Text at 0x1143ba4d0>"
      ]
     },
     "execution_count": 20,
     "metadata": {},
     "output_type": "execute_result"
    },
    {
     "data": {
      "image/png": "[encoded data removed]",
      "text/plain": [
       "<matplotlib.figure.Figure at 0x110e14550>"
      ]
     },
     "metadata": {},
     "output_type": "display_data"
    }
   ],
   "source": [
    "#your code here\n",
    "plt.scatter(sampleinfoCEU.elapsedInDays, V[:,0])\n",
    "plt.xlabel('Date sample was processed (Number of days since Oct 31, 2012)')\n",
    "plt.ylabel('PC1')\n",
    "plt.title('Relationship between the PC1 and the date the samples were processed')"
   ]
  },
  {
   "cell_type": "markdown",
   "metadata": {},
   "source": [
    "Around what day do you notice a difference in the way the samples were processed?"
   ]
  },
  {
   "cell_type": "code",
   "execution_count": 21,
   "metadata": {
    "collapsed": false
   },
   "outputs": [
    {
     "data": {
      "text/plain": [
       "<matplotlib.lines.Line2D at 0x1144fd290>"
      ]
     },
     "execution_count": 21,
     "metadata": {},
     "output_type": "execute_result"
    },
    {
     "data": {
      "image/png": "[encoded data removed]",
      "text/plain": [
       "<matplotlib.figure.Figure at 0x1144fd310>"
      ]
     },
     "metadata": {},
     "output_type": "display_data"
    }
   ],
   "source": [
    "#your code here\n",
    "plt.scatter(sampleinfoCEU.elapsedInDays, V[:,0])\n",
    "plt.xlim(0,160)\n",
    "plt.xlabel('Date sample was processed (Number of days since Oct 31, 2012)')\n",
    "plt.ylabel('PC1')\n",
    "plt.title('Relationship between the PC1 and the date the samples were processed')\n",
    "plt.axvline(x=100, color='r')"
   ]
  },
  {
   "cell_type": "markdown",
   "metadata": {},
   "source": [
    "Answer: There is a difference around day 100. "
   ]
  },
  {
   "cell_type": "markdown",
   "metadata": {},
   "source": [
    "## Discussion for Problem 1\n",
    "\n",
    "*Write a brief discussion of your conclusions to the questions and tasks above in 100 words or less.*\n",
    "\n",
    "Using exploratory data analysis and the SVD of the gene expression data matrix, we see the date the samples were processed does have a large effect on the variability seen in the data. This can been seen in the scatter plots in Problem 1(d) which shows a difference around day 100.  \n",
    "\n",
    "---\n"
   ]
  },
  {
   "cell_type": "markdown",
   "metadata": {},
   "source": [
    "## Problem 2: Is there a pollster bias in presidential election polls?"
   ]
  },
  {
   "cell_type": "markdown",
   "metadata": {},
   "source": [
    "#### Problem 2(a)\n",
    "\n",
    "The [HuffPost Pollster](http://elections.huffingtonpost.com/pollster) contains many political polls. You can access these polls from individual races as a CSV but you can also access polls through the [HuffPost Pollster API](http://elections.huffingtonpost.com/pollster/api) to access the data.  \n",
    "\n",
    "Read in the polls from the [2012 Presidential Election: Barack Obama vs Mitt Romney](http://elections.huffingtonpost.com/pollster/2012-general-election-romney-vs-obama) into a pandas DataFrame called `election`. For this problem, you may read in the polls for this race directly using [the CSV file](http://elections.huffingtonpost.com/pollster/2012-general-election-romney-vs-obama.csv) available from the HuffPost Pollster page."
   ]
  },
  {
   "cell_type": "code",
   "execution_count": 22,
   "metadata": {
    "collapsed": false
   },
   "outputs": [
    {
     "name": "stderr",
     "output_type": "stream",
     "text": [
      "/usr/local/lib/python2.7/site-packages/ipykernel/__main__.py:6: FutureWarning: convert_objects is deprecated.  Use the data-type specific converters pd.to_datetime, pd.to_timedelta and pd.to_numeric.\n"
     ]
    }
   ],
   "source": [
    "#your code here\n",
    "url = \"http://elections.huffingtonpost.com/pollster/2012-general-election-romney-vs-obama.csv\"\n",
    "source = requests.get(url).text\n",
    "s = StringIO(source)\n",
    "election = pd.DataFrame.from_csv(s, index_col=None).convert_objects(\n",
    "            convert_dates=\"coerce\", convert_numeric=True) # Access polls as a CSV file"
   ]
  },
  {
   "cell_type": "markdown",
   "metadata": {},
   "source": [
    "Show the head of the `election` DataFrame. "
   ]
  },
  {
   "cell_type": "code",
   "execution_count": 23,
   "metadata": {
    "collapsed": false
   },
   "outputs": [
    {
     "data": {
      "text/html": [
       "<div>\n",
       "<table border=\"1\" class=\"dataframe\">\n",
       "  <thead>\n",
       "    <tr style=\"text-align: right;\">\n",
       "      <th></th>\n",
       "      <th>Pollster</th>\n",
       "      <th>Start Date</th>\n",
       "      <th>End Date</th>\n",
       "      <th>Entry Date/Time (ET)</th>\n",
       "      <th>Number of Observations</th>\n",
       "      <th>Population</th>\n",
       "      <th>Mode</th>\n",
       "      <th>Obama</th>\n",
       "      <th>Romney</th>\n",
       "      <th>Undecided</th>\n",
       "      <th>Pollster URL</th>\n",
       "      <th>Source URL</th>\n",
       "      <th>Partisan</th>\n",
       "      <th>Affiliation</th>\n",
       "    </tr>\n",
       "  </thead>\n",
       "  <tbody>\n",
       "    <tr>\n",
       "      <th>0</th>\n",
       "      <td>Politico/GWU/Battleground</td>\n",
       "      <td>2012-11-04</td>\n",
       "      <td>2012-11-05</td>\n",
       "      <td>2012-11-06 2000-01-01 08:40:26 UTC</td>\n",
       "      <td>1000</td>\n",
       "      <td>Likely Voters</td>\n",
       "      <td>Live Phone</td>\n",
       "      <td>47</td>\n",
       "      <td>47</td>\n",
       "      <td>6</td>\n",
       "      <td>http://elections.huffingtonpost.com/pollster/p...</td>\n",
       "      <td>NaN</td>\n",
       "      <td>Nonpartisan</td>\n",
       "      <td>None</td>\n",
       "    </tr>\n",
       "    <tr>\n",
       "      <th>1</th>\n",
       "      <td>UPI/CVOTER</td>\n",
       "      <td>2012-11-03</td>\n",
       "      <td>2012-11-05</td>\n",
       "      <td>2012-11-05 2000-01-01 18:30:15 UTC</td>\n",
       "      <td>3000</td>\n",
       "      <td>Likely Voters</td>\n",
       "      <td>Live Phone</td>\n",
       "      <td>49</td>\n",
       "      <td>48</td>\n",
       "      <td>NaN</td>\n",
       "      <td>http://elections.huffingtonpost.com/pollster/p...</td>\n",
       "      <td>NaN</td>\n",
       "      <td>Nonpartisan</td>\n",
       "      <td>None</td>\n",
       "    </tr>\n",
       "    <tr>\n",
       "      <th>2</th>\n",
       "      <td>Gravis Marketing</td>\n",
       "      <td>2012-11-03</td>\n",
       "      <td>2012-11-05</td>\n",
       "      <td>2012-11-06 2000-01-01 09:22:02 UTC</td>\n",
       "      <td>872</td>\n",
       "      <td>Likely Voters</td>\n",
       "      <td>Automated Phone</td>\n",
       "      <td>48</td>\n",
       "      <td>48</td>\n",
       "      <td>4</td>\n",
       "      <td>http://elections.huffingtonpost.com/pollster/p...</td>\n",
       "      <td>NaN</td>\n",
       "      <td>Nonpartisan</td>\n",
       "      <td>None</td>\n",
       "    </tr>\n",
       "    <tr>\n",
       "      <th>3</th>\n",
       "      <td>JZ Analytics/Newsmax</td>\n",
       "      <td>2012-11-03</td>\n",
       "      <td>2012-11-05</td>\n",
       "      <td>2012-11-06 2000-01-01 07:38:41 UTC</td>\n",
       "      <td>1041</td>\n",
       "      <td>Likely Voters</td>\n",
       "      <td>Internet</td>\n",
       "      <td>47</td>\n",
       "      <td>47</td>\n",
       "      <td>6</td>\n",
       "      <td>http://elections.huffingtonpost.com/pollster/p...</td>\n",
       "      <td>NaN</td>\n",
       "      <td>Sponsor</td>\n",
       "      <td>Rep</td>\n",
       "    </tr>\n",
       "    <tr>\n",
       "      <th>4</th>\n",
       "      <td>Rasmussen</td>\n",
       "      <td>2012-11-03</td>\n",
       "      <td>2012-11-05</td>\n",
       "      <td>2012-11-06 2000-01-01 08:47:50 UTC</td>\n",
       "      <td>1500</td>\n",
       "      <td>Likely Voters</td>\n",
       "      <td>Automated Phone</td>\n",
       "      <td>48</td>\n",
       "      <td>49</td>\n",
       "      <td>NaN</td>\n",
       "      <td>http://elections.huffingtonpost.com/pollster/p...</td>\n",
       "      <td>NaN</td>\n",
       "      <td>Nonpartisan</td>\n",
       "      <td>None</td>\n",
       "    </tr>\n",
       "  </tbody>\n",
       "</table>\n",
       "</div>"
      ],
      "text/plain": [
       "                    Pollster Start Date   End Date  \\\n",
       "0  Politico/GWU/Battleground 2012-11-04 2012-11-05   \n",
       "1                 UPI/CVOTER 2012-11-03 2012-11-05   \n",
       "2           Gravis Marketing 2012-11-03 2012-11-05   \n",
       "3       JZ Analytics/Newsmax 2012-11-03 2012-11-05   \n",
       "4                  Rasmussen 2012-11-03 2012-11-05   \n",
       "\n",
       "                 Entry Date/Time (ET)  Number of Observations     Population  \\\n",
       "0  2012-11-06 2000-01-01 08:40:26 UTC                    1000  Likely Voters   \n",
       "1  2012-11-05 2000-01-01 18:30:15 UTC                    3000  Likely Voters   \n",
       "2  2012-11-06 2000-01-01 09:22:02 UTC                     872  Likely Voters   \n",
       "3  2012-11-06 2000-01-01 07:38:41 UTC                    1041  Likely Voters   \n",
       "4  2012-11-06 2000-01-01 08:47:50 UTC                    1500  Likely Voters   \n",
       "\n",
       "              Mode  Obama  Romney  Undecided  \\\n",
       "0       Live Phone     47      47          6   \n",
       "1       Live Phone     49      48        NaN   \n",
       "2  Automated Phone     48      48          4   \n",
       "3         Internet     47      47          6   \n",
       "4  Automated Phone     48      49        NaN   \n",
       "\n",
       "                                        Pollster URL  Source URL     Partisan  \\\n",
       "0  http://elections.huffingtonpost.com/pollster/p...         NaN  Nonpartisan   \n",
       "1  http://elections.huffingtonpost.com/pollster/p...         NaN  Nonpartisan   \n",
       "2  http://elections.huffingtonpost.com/pollster/p...         NaN  Nonpartisan   \n",
       "3  http://elections.huffingtonpost.com/pollster/p...         NaN      Sponsor   \n",
       "4  http://elections.huffingtonpost.com/pollster/p...         NaN  Nonpartisan   \n",
       "\n",
       "  Affiliation  \n",
       "0        None  \n",
       "1        None  \n",
       "2        None  \n",
       "3         Rep  \n",
       "4        None  "
      ]
     },
     "execution_count": 23,
     "metadata": {},
     "output_type": "execute_result"
    }
   ],
   "source": [
    "#your code here\n",
    "election.head()"
   ]
  },
  {
   "cell_type": "markdown",
   "metadata": {},
   "source": [
    "How many polls were conducted in November? Define this number as M.  \n",
    "\n",
    "**Hint**: Subset the `election` DataFrame for only dates in the `Start Date` column that are in November 2012.  "
   ]
  },
  {
   "cell_type": "code",
   "execution_count": 29,
   "metadata": {
    "collapsed": false
   },
   "outputs": [
    {
     "name": "stdout",
     "output_type": "stream",
     "text": [
      "Number of polls in November: 18\n"
     ]
    }
   ],
   "source": [
    "#your code here\n",
    "filtered = election[map(lambda x: (x.month == 11) and (x.year ==2012), election[\"Start Date\"])]\n",
    "filtered.drop_duplicates('Pollster', inplace = True) # Removes duplicate pollsters\n",
    "M = len(filtered)\n",
    "print \"Number of polls in November: %i\" % M "
   ]
  },
  {
   "cell_type": "code",
   "execution_count": 56,
   "metadata": {
    "collapsed": false
   },
   "outputs": [
    {
     "data": {
      "text/html": [
       "<div>\n",
       "<table border=\"1\" class=\"dataframe\">\n",
       "  <thead>\n",
       "    <tr style=\"text-align: right;\">\n",
       "      <th></th>\n",
       "      <th>Pollster</th>\n",
       "      <th>Start Date</th>\n",
       "      <th>End Date</th>\n",
       "      <th>Entry Date/Time (ET)</th>\n",
       "      <th>Number of Observations</th>\n",
       "      <th>Population</th>\n",
       "      <th>Mode</th>\n",
       "      <th>Obama</th>\n",
       "      <th>Romney</th>\n",
       "      <th>Undecided</th>\n",
       "      <th>Pollster URL</th>\n",
       "      <th>Source URL</th>\n",
       "      <th>Partisan</th>\n",
       "      <th>Affiliation</th>\n",
       "    </tr>\n",
       "  </thead>\n",
       "  <tbody>\n",
       "    <tr>\n",
       "      <th>0</th>\n",
       "      <td>Politico/GWU/Battleground</td>\n",
       "      <td>2012-11-04</td>\n",
       "      <td>2012-11-05</td>\n",
       "      <td>2012-11-06 2000-01-01 08:40:26 UTC</td>\n",
       "      <td>1000</td>\n",
       "      <td>Likely Voters</td>\n",
       "      <td>Live Phone</td>\n",
       "      <td>47</td>\n",
       "      <td>47</td>\n",
       "      <td>6</td>\n",
       "      <td>http://elections.huffingtonpost.com/pollster/p...</td>\n",
       "      <td>NaN</td>\n",
       "      <td>Nonpartisan</td>\n",
       "      <td>None</td>\n",
       "    </tr>\n",
       "    <tr>\n",
       "      <th>1</th>\n",
       "      <td>UPI/CVOTER</td>\n",
       "      <td>2012-11-03</td>\n",
       "      <td>2012-11-05</td>\n",
       "      <td>2012-11-05 2000-01-01 18:30:15 UTC</td>\n",
       "      <td>3000</td>\n",
       "      <td>Likely Voters</td>\n",
       "      <td>Live Phone</td>\n",
       "      <td>49</td>\n",
       "      <td>48</td>\n",
       "      <td>NaN</td>\n",
       "      <td>http://elections.huffingtonpost.com/pollster/p...</td>\n",
       "      <td>NaN</td>\n",
       "      <td>Nonpartisan</td>\n",
       "      <td>None</td>\n",
       "    </tr>\n",
       "    <tr>\n",
       "      <th>2</th>\n",
       "      <td>Gravis Marketing</td>\n",
       "      <td>2012-11-03</td>\n",
       "      <td>2012-11-05</td>\n",
       "      <td>2012-11-06 2000-01-01 09:22:02 UTC</td>\n",
       "      <td>872</td>\n",
       "      <td>Likely Voters</td>\n",
       "      <td>Automated Phone</td>\n",
       "      <td>48</td>\n",
       "      <td>48</td>\n",
       "      <td>4</td>\n",
       "      <td>http://elections.huffingtonpost.com/pollster/p...</td>\n",
       "      <td>NaN</td>\n",
       "      <td>Nonpartisan</td>\n",
       "      <td>None</td>\n",
       "    </tr>\n",
       "    <tr>\n",
       "      <th>3</th>\n",
       "      <td>JZ Analytics/Newsmax</td>\n",
       "      <td>2012-11-03</td>\n",
       "      <td>2012-11-05</td>\n",
       "      <td>2012-11-06 2000-01-01 07:38:41 UTC</td>\n",
       "      <td>1041</td>\n",
       "      <td>Likely Voters</td>\n",
       "      <td>Internet</td>\n",
       "      <td>47</td>\n",
       "      <td>47</td>\n",
       "      <td>6</td>\n",
       "      <td>http://elections.huffingtonpost.com/pollster/p...</td>\n",
       "      <td>NaN</td>\n",
       "      <td>Sponsor</td>\n",
       "      <td>Rep</td>\n",
       "    </tr>\n",
       "    <tr>\n",
       "      <th>4</th>\n",
       "      <td>Rasmussen</td>\n",
       "      <td>2012-11-03</td>\n",
       "      <td>2012-11-05</td>\n",
       "      <td>2012-11-06 2000-01-01 08:47:50 UTC</td>\n",
       "      <td>1500</td>\n",
       "      <td>Likely Voters</td>\n",
       "      <td>Automated Phone</td>\n",
       "      <td>48</td>\n",
       "      <td>49</td>\n",
       "      <td>NaN</td>\n",
       "      <td>http://elections.huffingtonpost.com/pollster/p...</td>\n",
       "      <td>NaN</td>\n",
       "      <td>Nonpartisan</td>\n",
       "      <td>None</td>\n",
       "    </tr>\n",
       "    <tr>\n",
       "      <th>5</th>\n",
       "      <td>IBD/TIPP</td>\n",
       "      <td>2012-11-03</td>\n",
       "      <td>2012-11-05</td>\n",
       "      <td>2012-11-06 2000-01-01 08:51:48 UTC</td>\n",
       "      <td>712</td>\n",
       "      <td>Likely Voters</td>\n",
       "      <td>Live Phone</td>\n",
       "      <td>50</td>\n",
       "      <td>49</td>\n",
       "      <td>NaN</td>\n",
       "      <td>http://elections.huffingtonpost.com/pollster/p...</td>\n",
       "      <td>NaN</td>\n",
       "      <td>Nonpartisan</td>\n",
       "      <td>None</td>\n",
       "    </tr>\n",
       "    <tr>\n",
       "      <th>6</th>\n",
       "      <td>YouGov/Economist</td>\n",
       "      <td>2012-11-03</td>\n",
       "      <td>2012-11-05</td>\n",
       "      <td>2012-11-26 2000-01-01 15:31:23 UTC</td>\n",
       "      <td>740</td>\n",
       "      <td>Likely Voters</td>\n",
       "      <td>Internet</td>\n",
       "      <td>49</td>\n",
       "      <td>47</td>\n",
       "      <td>3</td>\n",
       "      <td>http://elections.huffingtonpost.com/pollster/p...</td>\n",
       "      <td>NaN</td>\n",
       "      <td>Nonpartisan</td>\n",
       "      <td>None</td>\n",
       "    </tr>\n",
       "    <tr>\n",
       "      <th>7</th>\n",
       "      <td>Ipsos/Reuters (Web)</td>\n",
       "      <td>2012-11-01</td>\n",
       "      <td>2012-11-05</td>\n",
       "      <td>2012-11-05 2000-01-01 16:12:48 UTC</td>\n",
       "      <td>4725</td>\n",
       "      <td>Likely Voters</td>\n",
       "      <td>Internet</td>\n",
       "      <td>48</td>\n",
       "      <td>46</td>\n",
       "      <td>4</td>\n",
       "      <td>http://elections.huffingtonpost.com/pollster/p...</td>\n",
       "      <td>NaN</td>\n",
       "      <td>Nonpartisan</td>\n",
       "      <td>None</td>\n",
       "    </tr>\n",
       "    <tr>\n",
       "      <th>8</th>\n",
       "      <td>ARG</td>\n",
       "      <td>2012-11-02</td>\n",
       "      <td>2012-11-04</td>\n",
       "      <td>2012-11-05 2000-01-01 13:06:54 UTC</td>\n",
       "      <td>1200</td>\n",
       "      <td>Likely Voters</td>\n",
       "      <td>Live Phone</td>\n",
       "      <td>49</td>\n",
       "      <td>49</td>\n",
       "      <td>1</td>\n",
       "      <td>http://elections.huffingtonpost.com/pollster/p...</td>\n",
       "      <td>NaN</td>\n",
       "      <td>Nonpartisan</td>\n",
       "      <td>None</td>\n",
       "    </tr>\n",
       "    <tr>\n",
       "      <th>9</th>\n",
       "      <td>CNN</td>\n",
       "      <td>2012-11-02</td>\n",
       "      <td>2012-11-04</td>\n",
       "      <td>2012-11-04 2000-01-01 20:16:09 UTC</td>\n",
       "      <td>693</td>\n",
       "      <td>Likely Voters</td>\n",
       "      <td>Live Phone</td>\n",
       "      <td>49</td>\n",
       "      <td>49</td>\n",
       "      <td>2</td>\n",
       "      <td>http://elections.huffingtonpost.com/pollster/p...</td>\n",
       "      <td>NaN</td>\n",
       "      <td>Nonpartisan</td>\n",
       "      <td>None</td>\n",
       "    </tr>\n",
       "    <tr>\n",
       "      <th>10</th>\n",
       "      <td>PPP (D-Americans United for Change)</td>\n",
       "      <td>2012-11-02</td>\n",
       "      <td>2012-11-04</td>\n",
       "      <td>2012-11-04 2000-01-01 22:32:19 UTC</td>\n",
       "      <td>1200</td>\n",
       "      <td>Likely Voters</td>\n",
       "      <td>Automated Phone</td>\n",
       "      <td>50</td>\n",
       "      <td>48</td>\n",
       "      <td>3</td>\n",
       "      <td>http://elections.huffingtonpost.com/pollster/p...</td>\n",
       "      <td>NaN</td>\n",
       "      <td>Sponsor</td>\n",
       "      <td>Dem</td>\n",
       "    </tr>\n",
       "    <tr>\n",
       "      <th>11</th>\n",
       "      <td>Gallup</td>\n",
       "      <td>2012-11-01</td>\n",
       "      <td>2012-11-04</td>\n",
       "      <td>2012-11-05 2000-01-01 13:48:29 UTC</td>\n",
       "      <td>2551</td>\n",
       "      <td>Likely Voters</td>\n",
       "      <td>Live Phone</td>\n",
       "      <td>48</td>\n",
       "      <td>49</td>\n",
       "      <td>NaN</td>\n",
       "      <td>http://elections.huffingtonpost.com/pollster/p...</td>\n",
       "      <td>NaN</td>\n",
       "      <td>Nonpartisan</td>\n",
       "      <td>None</td>\n",
       "    </tr>\n",
       "    <tr>\n",
       "      <th>12</th>\n",
       "      <td>Democracy Corps (D)</td>\n",
       "      <td>2012-11-01</td>\n",
       "      <td>2012-11-04</td>\n",
       "      <td>2012-11-05 2000-01-01 09:41:50 UTC</td>\n",
       "      <td>1080</td>\n",
       "      <td>Likely Voters</td>\n",
       "      <td>Live Phone</td>\n",
       "      <td>49</td>\n",
       "      <td>45</td>\n",
       "      <td>NaN</td>\n",
       "      <td>http://elections.huffingtonpost.com/pollster/p...</td>\n",
       "      <td>NaN</td>\n",
       "      <td>Pollster</td>\n",
       "      <td>Dem</td>\n",
       "    </tr>\n",
       "    <tr>\n",
       "      <th>13</th>\n",
       "      <td>Monmouth</td>\n",
       "      <td>2012-11-01</td>\n",
       "      <td>2012-11-04</td>\n",
       "      <td>2012-11-05 2000-01-01 12:52:03 UTC</td>\n",
       "      <td>1417</td>\n",
       "      <td>Likely Voters</td>\n",
       "      <td>IVR/Live Phone</td>\n",
       "      <td>48</td>\n",
       "      <td>48</td>\n",
       "      <td>2</td>\n",
       "      <td>http://elections.huffingtonpost.com/pollster/p...</td>\n",
       "      <td>NaN</td>\n",
       "      <td>Nonpartisan</td>\n",
       "      <td>None</td>\n",
       "    </tr>\n",
       "    <tr>\n",
       "      <th>14</th>\n",
       "      <td>DailyKos/SEIU/PPP (D)</td>\n",
       "      <td>2012-11-01</td>\n",
       "      <td>2012-11-04</td>\n",
       "      <td>2012-11-05 2000-01-01 13:31:31 UTC</td>\n",
       "      <td>1300</td>\n",
       "      <td>Likely Voters</td>\n",
       "      <td>Automated Phone</td>\n",
       "      <td>50</td>\n",
       "      <td>48</td>\n",
       "      <td>2</td>\n",
       "      <td>http://elections.huffingtonpost.com/pollster/p...</td>\n",
       "      <td>NaN</td>\n",
       "      <td>Sponsor</td>\n",
       "      <td>Dem</td>\n",
       "    </tr>\n",
       "    <tr>\n",
       "      <th>15</th>\n",
       "      <td>ABC/Post</td>\n",
       "      <td>2012-11-01</td>\n",
       "      <td>2012-11-04</td>\n",
       "      <td>2012-11-05 2000-01-01 16:56:22 UTC</td>\n",
       "      <td>2345</td>\n",
       "      <td>Likely Voters</td>\n",
       "      <td>Live Phone</td>\n",
       "      <td>50</td>\n",
       "      <td>47</td>\n",
       "      <td>1</td>\n",
       "      <td>http://elections.huffingtonpost.com/pollster/p...</td>\n",
       "      <td>NaN</td>\n",
       "      <td>Nonpartisan</td>\n",
       "      <td>None</td>\n",
       "    </tr>\n",
       "    <tr>\n",
       "      <th>16</th>\n",
       "      <td>Angus-Reid</td>\n",
       "      <td>2012-11-01</td>\n",
       "      <td>2012-11-03</td>\n",
       "      <td>2012-11-06 2000-01-01 08:47:46 UTC</td>\n",
       "      <td>1019</td>\n",
       "      <td>Likely Voters</td>\n",
       "      <td>Internet</td>\n",
       "      <td>51</td>\n",
       "      <td>48</td>\n",
       "      <td>NaN</td>\n",
       "      <td>http://elections.huffingtonpost.com/pollster/p...</td>\n",
       "      <td>NaN</td>\n",
       "      <td>Nonpartisan</td>\n",
       "      <td>None</td>\n",
       "    </tr>\n",
       "    <tr>\n",
       "      <th>17</th>\n",
       "      <td>NBC/WSJ</td>\n",
       "      <td>2012-11-01</td>\n",
       "      <td>2012-11-03</td>\n",
       "      <td>2012-11-04 2000-01-01 09:12:21 UTC</td>\n",
       "      <td>1475</td>\n",
       "      <td>Likely Voters</td>\n",
       "      <td>Live Phone</td>\n",
       "      <td>48</td>\n",
       "      <td>47</td>\n",
       "      <td>3</td>\n",
       "      <td>http://elections.huffingtonpost.com/pollster/p...</td>\n",
       "      <td>NaN</td>\n",
       "      <td>Nonpartisan</td>\n",
       "      <td>None</td>\n",
       "    </tr>\n",
       "  </tbody>\n",
       "</table>\n",
       "</div>"
      ],
      "text/plain": [
       "                               Pollster Start Date   End Date  \\\n",
       "0             Politico/GWU/Battleground 2012-11-04 2012-11-05   \n",
       "1                            UPI/CVOTER 2012-11-03 2012-11-05   \n",
       "2                      Gravis Marketing 2012-11-03 2012-11-05   \n",
       "3                  JZ Analytics/Newsmax 2012-11-03 2012-11-05   \n",
       "4                             Rasmussen 2012-11-03 2012-11-05   \n",
       "5                              IBD/TIPP 2012-11-03 2012-11-05   \n",
       "6                      YouGov/Economist 2012-11-03 2012-11-05   \n",
       "7                   Ipsos/Reuters (Web) 2012-11-01 2012-11-05   \n",
       "8                                   ARG 2012-11-02 2012-11-04   \n",
       "9                                   CNN 2012-11-02 2012-11-04   \n",
       "10  PPP (D-Americans United for Change) 2012-11-02 2012-11-04   \n",
       "11                               Gallup 2012-11-01 2012-11-04   \n",
       "12                  Democracy Corps (D) 2012-11-01 2012-11-04   \n",
       "13                             Monmouth 2012-11-01 2012-11-04   \n",
       "14                DailyKos/SEIU/PPP (D) 2012-11-01 2012-11-04   \n",
       "15                             ABC/Post 2012-11-01 2012-11-04   \n",
       "16                           Angus-Reid 2012-11-01 2012-11-03   \n",
       "17                              NBC/WSJ 2012-11-01 2012-11-03   \n",
       "\n",
       "                  Entry Date/Time (ET)  Number of Observations     Population  \\\n",
       "0   2012-11-06 2000-01-01 08:40:26 UTC                    1000  Likely Voters   \n",
       "1   2012-11-05 2000-01-01 18:30:15 UTC                    3000  Likely Voters   \n",
       "2   2012-11-06 2000-01-01 09:22:02 UTC                     872  Likely Voters   \n",
       "3   2012-11-06 2000-01-01 07:38:41 UTC                    1041  Likely Voters   \n",
       "4   2012-11-06 2000-01-01 08:47:50 UTC                    1500  Likely Voters   \n",
       "5   2012-11-06 2000-01-01 08:51:48 UTC                     712  Likely Voters   \n",
       "6   2012-11-26 2000-01-01 15:31:23 UTC                     740  Likely Voters   \n",
       "7   2012-11-05 2000-01-01 16:12:48 UTC                    4725  Likely Voters   \n",
       "8   2012-11-05 2000-01-01 13:06:54 UTC                    1200  Likely Voters   \n",
       "9   2012-11-04 2000-01-01 20:16:09 UTC                     693  Likely Voters   \n",
       "10  2012-11-04 2000-01-01 22:32:19 UTC                    1200  Likely Voters   \n",
       "11  2012-11-05 2000-01-01 13:48:29 UTC                    2551  Likely Voters   \n",
       "12  2012-11-05 2000-01-01 09:41:50 UTC                    1080  Likely Voters   \n",
       "13  2012-11-05 2000-01-01 12:52:03 UTC                    1417  Likely Voters   \n",
       "14  2012-11-05 2000-01-01 13:31:31 UTC                    1300  Likely Voters   \n",
       "15  2012-11-05 2000-01-01 16:56:22 UTC                    2345  Likely Voters   \n",
       "16  2012-11-06 2000-01-01 08:47:46 UTC                    1019  Likely Voters   \n",
       "17  2012-11-04 2000-01-01 09:12:21 UTC                    1475  Likely Voters   \n",
       "\n",
       "               Mode  Obama  Romney  Undecided  \\\n",
       "0        Live Phone     47      47          6   \n",
       "1        Live Phone     49      48        NaN   \n",
       "2   Automated Phone     48      48          4   \n",
       "3          Internet     47      47          6   \n",
       "4   Automated Phone     48      49        NaN   \n",
       "5        Live Phone     50      49        NaN   \n",
       "6          Internet     49      47          3   \n",
       "7          Internet     48      46          4   \n",
       "8        Live Phone     49      49          1   \n",
       "9        Live Phone     49      49          2   \n",
       "10  Automated Phone     50      48          3   \n",
       "11       Live Phone     48      49        NaN   \n",
       "12       Live Phone     49      45        NaN   \n",
       "13   IVR/Live Phone     48      48          2   \n",
       "14  Automated Phone     50      48          2   \n",
       "15       Live Phone     50      47          1   \n",
       "16         Internet     51      48        NaN   \n",
       "17       Live Phone     48      47          3   \n",
       "\n",
       "                                         Pollster URL  Source URL  \\\n",
       "0   http://elections.huffingtonpost.com/pollster/p...         NaN   \n",
       "1   http://elections.huffingtonpost.com/pollster/p...         NaN   \n",
       "2   http://elections.huffingtonpost.com/pollster/p...         NaN   \n",
       "3   http://elections.huffingtonpost.com/pollster/p...         NaN   \n",
       "4   http://elections.huffingtonpost.com/pollster/p...         NaN   \n",
       "5   http://elections.huffingtonpost.com/pollster/p...         NaN   \n",
       "6   http://elections.huffingtonpost.com/pollster/p...         NaN   \n",
       "7   http://elections.huffingtonpost.com/pollster/p...         NaN   \n",
       "8   http://elections.huffingtonpost.com/pollster/p...         NaN   \n",
       "9   http://elections.huffingtonpost.com/pollster/p...         NaN   \n",
       "10  http://elections.huffingtonpost.com/pollster/p...         NaN   \n",
       "11  http://elections.huffingtonpost.com/pollster/p...         NaN   \n",
       "12  http://elections.huffingtonpost.com/pollster/p...         NaN   \n",
       "13  http://elections.huffingtonpost.com/pollster/p...         NaN   \n",
       "14  http://elections.huffingtonpost.com/pollster/p...         NaN   \n",
       "15  http://elections.huffingtonpost.com/pollster/p...         NaN   \n",
       "16  http://elections.huffingtonpost.com/pollster/p...         NaN   \n",
       "17  http://elections.huffingtonpost.com/pollster/p...         NaN   \n",
       "\n",
       "       Partisan Affiliation  \n",
       "0   Nonpartisan        None  \n",
       "1   Nonpartisan        None  \n",
       "2   Nonpartisan        None  \n",
       "3       Sponsor         Rep  \n",
       "4   Nonpartisan        None  \n",
       "5   Nonpartisan        None  \n",
       "6   Nonpartisan        None  \n",
       "7   Nonpartisan        None  \n",
       "8   Nonpartisan        None  \n",
       "9   Nonpartisan        None  \n",
       "10      Sponsor         Dem  \n",
       "11  Nonpartisan        None  \n",
       "12     Pollster         Dem  \n",
       "13  Nonpartisan        None  \n",
       "14      Sponsor         Dem  \n",
       "15  Nonpartisan        None  \n",
       "16  Nonpartisan        None  \n",
       "17  Nonpartisan        None  "
      ]
     },
     "execution_count": 56,
     "metadata": {},
     "output_type": "execute_result"
    }
   ],
   "source": [
    "filtered"
   ]
  },
  {
   "cell_type": "markdown",
   "metadata": {},
   "source": [
    "Answer: There were 18 polls with a Start Date in November after accounting for multiple polls within a given pollster (or 19 polls total with a Start Date in November). "
   ]
  },
  {
   "cell_type": "markdown",
   "metadata": {},
   "source": [
    "What was the median of the number of observations in the November polls? Define this quantity as N. "
   ]
  },
  {
   "cell_type": "code",
   "execution_count": 30,
   "metadata": {
    "collapsed": false
   },
   "outputs": [
    {
     "name": "stdout",
     "output_type": "stream",
     "text": [
      "1200.0\n"
     ]
    }
   ],
   "source": [
    "#your code here\n",
    "N = np.median(filtered[\"Number of Observations\"])\n",
    "print N"
   ]
  },
  {
   "cell_type": "markdown",
   "metadata": {},
   "source": [
    "Answer: The median number of observations in the November polls was 1200. "
   ]
  },
  {
   "cell_type": "markdown",
   "metadata": {},
   "source": [
    "#### Problem 2(b)\n",
    "\n",
    "Using the median sample size $N$ from Problem 2(a), simulate the results from a single poll:  simulate the number of votes for Obama out of a sample size $N$ where $p$ = 0.53 is the percent of voters who are voting for Obama.  \n",
    "\n",
    "**Hint**: Use the binomial distribution with parameters $N$ and $p$ = 0.53. "
   ]
  },
  {
   "cell_type": "markdown",
   "metadata": {},
   "source": [
    "To simulate the *number* of votes for Obama from a single poll, we can use the `random.binomial` function in `numpy` to simulate one binomial random variable with a sample size $N$ and $p$ which is the percent of voters who are voting for Obama. "
   ]
  },
  {
   "cell_type": "code",
   "execution_count": 57,
   "metadata": {
    "collapsed": false
   },
   "outputs": [
    {
     "data": {
      "text/plain": [
       "'Simulated number of votes for Obama: 644, law of large number says 636'"
      ]
     },
     "execution_count": 57,
     "metadata": {},
     "output_type": "execute_result"
    }
   ],
   "source": [
    "p = 0.53\n",
    "\"Simulated number of votes for Obama: %i, law of large number says %i\" % (np.random.binomial(N, p, size=1), p*N)"
   ]
  },
  {
   "cell_type": "markdown",
   "metadata": {},
   "source": [
    "Now, perform a Monte Carlo simulation to obtain the estimated percentage of Obama votes with a sample size $N$ where $N$ is the median sample size calculated in Problem 2(a). Let $p$=0.53 be the percent of voters are voting for Obama. \n",
    "\n",
    "**Hint**: You will repeat the simulation above 1,000 times and plot the distribution of the estimated *percent* of Obama votes from a single poll.  The results from the single poll you simulate is random variable and will be different every time you sample. "
   ]
  },
  {
   "cell_type": "code",
   "execution_count": 58,
   "metadata": {
    "collapsed": false
   },
   "outputs": [],
   "source": [
    "#your code here"
   ]
  },
  {
   "cell_type": "markdown",
   "metadata": {},
   "source": [
    "To simulate the the estimate *percentage* of Obama votes, we can repeat the above simulation using a Bernoulli distribution, but just divide by the total number of votes. "
   ]
  },
  {
   "cell_type": "code",
   "execution_count": 98,
   "metadata": {
    "collapsed": false
   },
   "outputs": [],
   "source": [
    "p = 0.53\n",
    "B = 1000\n",
    "obs = np.random.binomial(N, p, size = B) / N"
   ]
  },
  {
   "cell_type": "markdown",
   "metadata": {},
   "source": [
    "We can also write this in terms of a Bernoulli random variable $X$ where $X$ has a binary outcome with probability $p$ of success where \n",
    "$$E(X) = p$$ \n",
    "and \n",
    "$$Var(X) = p(1-p)$$\n",
    "\n",
    "In a single simulation, we simulate N binary outcomes of 1 or 0 representing a vote for Obama or not where N represents the poll sample size.  The average of the binary outcomes represents the *percent* of Obama votes from a single poll.  We repeat this process 1000 times. "
   ]
  },
  {
   "cell_type": "code",
   "execution_count": 118,
   "metadata": {
    "collapsed": false
   },
   "outputs": [
    {
     "name": "stderr",
     "output_type": "stream",
     "text": [
      "/usr/local/lib/python2.7/site-packages/ipykernel/__main__.py:3: DeprecationWarning: using a non-integer number instead of an integer will result in an error in the future\n",
      "  app.launch_new_instance()\n"
     ]
    }
   ],
   "source": [
    "p = 0.53\n",
    "B = 1000\n",
    "obs = map(lambda x: np.mean(np.random.binomial(1, p, size = N)), xrange(B))"
   ]
  },
  {
   "cell_type": "markdown",
   "metadata": {},
   "source": [
    "Plot the distribution of the estimated percentage of Obama votes from your single poll. What is the distribution of the estimated percentage of Obama votes? "
   ]
  },
  {
   "cell_type": "code",
   "execution_count": 119,
   "metadata": {
    "collapsed": false
   },
   "outputs": [
    {
     "data": {
      "text/plain": [
       "(array([   6.,   23.,   63.,  121.,  250.,  251.,  153.,   93.,   31.,    9.]),\n",
       " array([ 0.48333333,  0.49225   ,  0.50116667,  0.51008333,  0.519     ,\n",
       "         0.52791667,  0.53683333,  0.54575   ,  0.55466667,  0.56358333,\n",
       "         0.5725    ]),\n",
       " <a list of 10 Patch objects>)"
      ]
     },
     "execution_count": 119,
     "metadata": {},
     "output_type": "execute_result"
    },
    {
     "data": {
      "image/png": "[encoded data removed]",
      "text/plain": [
       "<matplotlib.figure.Figure at 0x11859dfd0>"
      ]
     },
     "metadata": {},
     "output_type": "display_data"
    }
   ],
   "source": [
    "#your code here\n",
    "plt.hist(obs)"
   ]
  },
  {
   "cell_type": "markdown",
   "metadata": {},
   "source": [
    "At first glance the distribution looks normally distributed. We can use a qqplot to visually inspect if this distribution is normally distributed. "
   ]
  },
  {
   "cell_type": "code",
   "execution_count": 69,
   "metadata": {
    "collapsed": false
   },
   "outputs": [
    {
     "data": {
      "image/png": "[encoded data removed]",
      "text/plain": [
       "<matplotlib.figure.Figure at 0x110dd8a50>"
      ]
     },
     "metadata": {},
     "output_type": "display_data"
    }
   ],
   "source": [
    "import scipy.stats as stats\n",
    "stats.probplot((obs - np.mean(obs)) / np.std(obs, ddof=1), dist=\"norm\", plot = plt)\n",
    "plt.show()"
   ]
  },
  {
   "cell_type": "markdown",
   "metadata": {},
   "source": [
    "Answer: From the histogram and qqplot, we see the distribution looks normally distributed. "
   ]
  },
  {
   "cell_type": "markdown",
   "metadata": {},
   "source": [
    "What is the standard error (SE) of the estimated percentage from the poll. \n",
    "\n",
    "**Hint**: Remember the SE is the standard deviation (SD) of the distribution of a random variable. "
   ]
  },
  {
   "cell_type": "markdown",
   "metadata": {},
   "source": [
    "In this example, the standard error (SE) is the standard deviation of the distribution of the percent of Obama votes from a single poll.  Therefore, we can compute the standard deviation as"
   ]
  },
  {
   "cell_type": "markdown",
   "metadata": {},
   "source": [
    "From the lecture we saw if we observe $N$ Bernoulli random variables $(X_1, \\ldots X_N)$, then \n",
    "$$ \\mbox{E}(\\bar{X}) = \\frac{1}{N} \\sum_{i=1}^N p = p$$\n",
    "and \n",
    "$$\\mbox{Var}(\\bar{X})= \\frac{1}{N^2} \\sum_{i=1}^N p(1-p) = \\frac{p(1-p)}{N}$$\n",
    "\n",
    "In our example, we assume each $X_i$ is a Bernoulli distribution with $p$ = 0.53. Therefore, if $N$ = 1200, we can analytically calculate the standard deviation of $\\bar{X}$ directly and compare to the standard error above"
   ]
  },
  {
   "cell_type": "code",
   "execution_count": 78,
   "metadata": {
    "collapsed": false
   },
   "outputs": [
    {
     "data": {
      "text/plain": [
       "0.014407752542757436"
      ]
     },
     "execution_count": 78,
     "metadata": {},
     "output_type": "execute_result"
    }
   ],
   "source": [
    "np.sqrt((0.53 * 0.47) / 1200)"
   ]
  },
  {
   "cell_type": "markdown",
   "metadata": {},
   "source": [
    "#### Problem 2(c)\n",
    "\n",
    "Now suppose we run M polls where M is the number of polls that happened in November (calculated in Problem 2(a)). Run 1,000 simulations and compute the mean of the M polls for each simulation. "
   ]
  },
  {
   "cell_type": "markdown",
   "metadata": {},
   "source": [
    "First, let's recall what M and N were in Problem 2(a): "
   ]
  },
  {
   "cell_type": "code",
   "execution_count": 79,
   "metadata": {
    "collapsed": false
   },
   "outputs": [
    {
     "data": {
      "text/plain": [
       "'Number of polls in November: 18'"
      ]
     },
     "execution_count": 79,
     "metadata": {},
     "output_type": "execute_result"
    }
   ],
   "source": [
    "\"Number of polls in November: %i\" % M"
   ]
  },
  {
   "cell_type": "code",
   "execution_count": 80,
   "metadata": {
    "collapsed": false
   },
   "outputs": [
    {
     "data": {
      "text/plain": [
       "'Median size of polls in November: 1200'"
      ]
     },
     "execution_count": 80,
     "metadata": {},
     "output_type": "execute_result"
    }
   ],
   "source": [
    "\"Median size of polls in November: %i\" % N"
   ]
  },
  {
   "cell_type": "code",
   "execution_count": 88,
   "metadata": {
    "collapsed": false
   },
   "outputs": [
    {
     "data": {
      "text/plain": [
       "'With probability: 0.530'"
      ]
     },
     "execution_count": 88,
     "metadata": {},
     "output_type": "execute_result"
    }
   ],
   "source": [
    "\"With probability: %.3f\" % p"
   ]
  },
  {
   "cell_type": "markdown",
   "metadata": {},
   "source": [
    "Within one iteration of the simulation, we want to simulate M polls each measuring the *percent* of Obama votes out of a sample size of N. We can use again the Bernoulli distribution with parameter $p$. We simulate the *percentage* of Obama votes from M polls and compute the mean across the M polls using `np.mean`.  \n"
   ]
  },
  {
   "cell_type": "code",
   "execution_count": 93,
   "metadata": {
    "collapsed": false
   },
   "outputs": [
    {
     "name": "stderr",
     "output_type": "stream",
     "text": [
      "/usr/local/lib/python2.7/site-packages/ipykernel/__main__.py:12: DeprecationWarning: using a non-integer number instead of an integer will result in an error in the future\n"
     ]
    },
    {
     "data": {
      "text/plain": [
       "[0.51166666666666671,\n",
       " 0.52416666666666667,\n",
       " 0.54333333333333333,\n",
       " 0.54416666666666669,\n",
       " 0.5591666666666667,\n",
       " 0.52166666666666661,\n",
       " 0.53083333333333338,\n",
       " 0.51333333333333331,\n",
       " 0.53166666666666662,\n",
       " 0.53666666666666663,\n",
       " 0.53166666666666662,\n",
       " 0.52416666666666667,\n",
       " 0.53749999999999998,\n",
       " 0.5575,\n",
       " 0.51333333333333331,\n",
       " 0.51833333333333331,\n",
       " 0.51833333333333331,\n",
       " 0.55249999999999999]"
      ]
     },
     "execution_count": 93,
     "metadata": {},
     "output_type": "execute_result"
    }
   ],
   "source": [
    "# Represents the percentage of Obama votes from M polls\n",
    "def simulatePolls(p, N, M):\n",
    "    \"\"\" Function to simulate the results \n",
    "    of M polls each measuring the percent\n",
    "    of Obama votes out of a sample size of N\n",
    "    with probability p of voting for Obama\n",
    "    \n",
    "    M = Number of polls to simulate\n",
    "    N = Sample size of each poll\n",
    "    p = Probability of voting for Obama \"\"\"\n",
    "    \n",
    "    return map(lambda x: np.mean(np.random.binomial(1, p, size = N)), xrange(M))\n",
    "\n",
    "simulatePolls(p, N, M) "
   ]
  },
  {
   "cell_type": "markdown",
   "metadata": {},
   "source": [
    "Now, we want to repeat this simulation 1000 times. For every iteration of the simulation, we will compute the average across the 19 polls (or average of averages).   "
   ]
  },
  {
   "cell_type": "code",
   "execution_count": 94,
   "metadata": {
    "collapsed": false
   },
   "outputs": [
    {
     "name": "stderr",
     "output_type": "stream",
     "text": [
      "/usr/local/lib/python2.7/site-packages/ipykernel/__main__.py:12: DeprecationWarning: using a non-integer number instead of an integer will result in an error in the future\n"
     ]
    }
   ],
   "source": [
    "p = 0.53\n",
    "B = 1000\n",
    "mom = map(lambda yaya: np.mean(simulatePolls(p, N, M)), xrange(B))"
   ]
  },
  {
   "cell_type": "markdown",
   "metadata": {},
   "source": [
    "What is the distribution of the average of polls?\n",
    "\n",
    "**Hint**: Show a plot. "
   ]
  },
  {
   "cell_type": "code",
   "execution_count": 97,
   "metadata": {
    "collapsed": false
   },
   "outputs": [
    {
     "data": {
      "text/plain": [
       "(array([  10.,   48.,  109.,  216.,  253.,  220.,   84.,   48.,   10.,    2.]),\n",
       " array([ 0.52   ,  0.52225,  0.5245 ,  0.52675,  0.529  ,  0.53125,\n",
       "         0.5335 ,  0.53575,  0.538  ,  0.54025,  0.5425 ]),\n",
       " <a list of 10 Patch objects>)"
      ]
     },
     "execution_count": 97,
     "metadata": {},
     "output_type": "execute_result"
    },
    {
     "data": {
      "image/png": "[encoded data removed]",
      "text/plain": [
       "<matplotlib.figure.Figure at 0x1077b3ed0>"
      ]
     },
     "metadata": {},
     "output_type": "display_data"
    }
   ],
   "source": [
    "#your code here\n",
    "plt.hist(mom)"
   ]
  },
  {
   "cell_type": "markdown",
   "metadata": {},
   "source": [
    "Using a qqplot, we can compare this distribuiton to a normal distribution. "
   ]
  },
  {
   "cell_type": "code",
   "execution_count": 105,
   "metadata": {
    "collapsed": false
   },
   "outputs": [
    {
     "data": {
      "image/png": "[encoded data removed]",
      "text/plain": [
       "<matplotlib.figure.Figure at 0x11817a550>"
      ]
     },
     "metadata": {},
     "output_type": "display_data"
    }
   ],
   "source": [
    "stats.probplot((mom - np.mean(mom)) / np.std(mom, ddof=1), dist=\"norm\", plot = plt)\n",
    "plt.show()"
   ]
  },
  {
   "cell_type": "markdown",
   "metadata": {},
   "source": [
    "Answer: Using a histogram and qqplot, we can see this distribution is very similar to a normal distribution. "
   ]
  },
  {
   "cell_type": "markdown",
   "metadata": {},
   "source": [
    "What is the standard error (SE) of the average of polls? "
   ]
  },
  {
   "cell_type": "code",
   "execution_count": 106,
   "metadata": {
    "collapsed": false
   },
   "outputs": [
    {
     "data": {
      "text/plain": [
       "0.0034034881879771934"
      ]
     },
     "execution_count": 106,
     "metadata": {},
     "output_type": "execute_result"
    }
   ],
   "source": [
    "#your code here\n",
    "np.std(mom, ddof = 1)"
   ]
  },
  {
   "cell_type": "markdown",
   "metadata": {},
   "source": [
    "Answer: "
   ]
  },
  {
   "cell_type": "code",
   "execution_count": 107,
   "metadata": {
    "collapsed": false
   },
   "outputs": [
    {
     "data": {
      "text/plain": [
       "'The SE of the average of polls is 0.0034'"
      ]
     },
     "execution_count": 107,
     "metadata": {},
     "output_type": "execute_result"
    }
   ],
   "source": [
    "\"The SE of the average of polls is %g\" % np.round(np.std(mom, ddof = 1), 5)"
   ]
  },
  {
   "cell_type": "markdown",
   "metadata": {},
   "source": [
    "Is the SE of the average of polls larger, the same, or smaller than that the SD of a single poll (calculated in Problem 2(b))? By how much?\n",
    "\n",
    "**Hint**: Compute a ratio of the two quantities.  "
   ]
  },
  {
   "cell_type": "code",
   "execution_count": 108,
   "metadata": {
    "collapsed": false
   },
   "outputs": [
    {
     "data": {
      "text/plain": [
       "'The ratio of the SE of the average of polls to the SD of a single poll is 0.236428'"
      ]
     },
     "execution_count": 108,
     "metadata": {},
     "output_type": "execute_result"
    }
   ],
   "source": [
    "#your code here\n",
    "ratio = np.std(mom, ddof = 1) / np.std(obs, ddof = 1) \n",
    "\n",
    "\"The ratio of the SE of the average of polls to the SD of a single poll is %g\" % ratio"
   ]
  },
  {
   "cell_type": "markdown",
   "metadata": {},
   "source": [
    "Answer: The SE of the average of polls is smaller than the SD of a single poll by approximately factor of 4. "
   ]
  },
  {
   "cell_type": "markdown",
   "metadata": {},
   "source": [
    "#### Problem 2(d) \n",
    "\n",
    "Repeat Problem 2(c) but now record the *across poll* standard deviation in each simulation. "
   ]
  },
  {
   "cell_type": "code",
   "execution_count": 110,
   "metadata": {
    "collapsed": false
   },
   "outputs": [
    {
     "name": "stderr",
     "output_type": "stream",
     "text": [
      "/usr/local/lib/python2.7/site-packages/ipykernel/__main__.py:12: DeprecationWarning: using a non-integer number instead of an integer will result in an error in the future\n"
     ]
    }
   ],
   "source": [
    "#your code here\n",
    "B = 1000\n",
    "p = 0.53\n",
    "sds = map(lambda y: np.std(simulatePolls(p, N, M), ddof = 0), xrange(B))"
   ]
  },
  {
   "cell_type": "markdown",
   "metadata": {},
   "source": [
    "What is the distribution of the *across M polls* standard deviation?\n",
    "\n",
    "**Hint**: Show a plot. "
   ]
  },
  {
   "cell_type": "code",
   "execution_count": 112,
   "metadata": {
    "collapsed": false
   },
   "outputs": [
    {
     "data": {
      "text/plain": [
       "<matplotlib.text.Text at 0x1187fd350>"
      ]
     },
     "execution_count": 112,
     "metadata": {},
     "output_type": "execute_result"
    },
    {
     "data": {
      "image/png": "[encoded data removed]",
      "text/plain": [
       "<matplotlib.figure.Figure at 0x11848ff10>"
      ]
     },
     "metadata": {},
     "output_type": "display_data"
    }
   ],
   "source": [
    "#your code here\n",
    "plt.hist(sds)\n",
    "plt.xlabel('Standard deviations across %i polls' % M)\n",
    "plt.ylabel('Frequency')\n",
    "plt.title('Histogram of standard deviations across %i polls' % M)"
   ]
  },
  {
   "cell_type": "code",
   "execution_count": 117,
   "metadata": {
    "collapsed": false
   },
   "outputs": [
    {
     "data": {
      "image/png": "[encoded data removed]",
      "text/plain": [
       "<matplotlib.figure.Figure at 0x1181dc050>"
      ]
     },
     "metadata": {},
     "output_type": "display_data"
    }
   ],
   "source": [
    "stats.probplot((sds - np.mean(sds)) / np.std(sds, ddof=1), dist=\"norm\", plot = plt)\n",
    "plt.show()"
   ]
  },
  {
   "cell_type": "markdown",
   "metadata": {},
   "source": [
    "Answer: Using the histogram and qqplot, we see the distribution is normally distributed. "
   ]
  },
  {
   "cell_type": "markdown",
   "metadata": {},
   "source": [
    "#### Problem 2(e) \n",
    "\n",
    "What is the standard deviation of M polls in our real (not simulated) 2012 presidential election data ? "
   ]
  },
  {
   "cell_type": "code",
   "execution_count": 114,
   "metadata": {
    "collapsed": false
   },
   "outputs": [
    {
     "data": {
      "text/plain": [
       "0.010829771494232192"
      ]
     },
     "execution_count": 114,
     "metadata": {},
     "output_type": "execute_result"
    }
   ],
   "source": [
    "#your code here\n",
    "thesd = np.std(filtered[\"Obama\"] / 100, ddof = 0)\n",
    "thesd"
   ]
  },
  {
   "cell_type": "markdown",
   "metadata": {},
   "source": [
    "Is this larger, the same, or smaller than what we expeced if polls were not biased."
   ]
  },
  {
   "cell_type": "code",
   "execution_count": 115,
   "metadata": {
    "collapsed": false
   },
   "outputs": [
    {
     "data": {
      "text/plain": [
       "0.78829149253716135"
      ]
     },
     "execution_count": 115,
     "metadata": {},
     "output_type": "execute_result"
    }
   ],
   "source": [
    "#your code here\n",
    "thesd / np.mean(sds)"
   ]
  },
  {
   "cell_type": "markdown",
   "metadata": {},
   "source": [
    "Answer: The standard deviation in our real 2012 presidential election data is smaller than what we expect if the polls were not biased. "
   ]
  },
  {
   "cell_type": "markdown",
   "metadata": {},
   "source": [
    "Another way of comparing the standard deviation of the M polls in the 2012 presidential eletion data is to compare it directly to the distribuiton of `sds`. We can calculate a *p*-value or the probability of seeing values as large as `thesd` or larger. "
   ]
  },
  {
   "cell_type": "code",
   "execution_count": 116,
   "metadata": {
    "collapsed": false
   },
   "outputs": [
    {
     "data": {
      "text/plain": [
       "0.105"
      ]
     },
     "execution_count": 116,
     "metadata": {},
     "output_type": "execute_result"
    }
   ],
   "source": [
    "np.mean(thesd > sds)"
   ]
  },
  {
   "cell_type": "markdown",
   "metadata": {},
   "source": [
    "We see `thesd` is consistent with the null distribution of `sds`.  "
   ]
  },
  {
   "cell_type": "markdown",
   "metadata": {},
   "source": [
    "#### Problem 2(f)\n",
    "\n",
    "**For AC209 Students**: Learn about the normal approximation for the binomial distribution and derive the results of Problem 2(b) and 2(c) analytically (using this approximation). Compare the results obtained analytically to those obtained from simulations.\n",
    "\n",
    "**Solution:** A random variable $X$ that has a [Binomial distribution](http://en.wikipedia.org/wiki/Binomial_distribution) with $N$ independent trials of a binary outcome (e.g. yes/no) each with probability of success $p$ can be [approximated by a normal distribution](http://en.wikipedia.org/wiki/Binomial_distribution#Normal_approximation) if $n$ is large enough. Another way of writing this is if $X$ has a Binomial distribution with parameters $N$ and $p$, $X \\sim Bin(N,p)$, and $N$ is \"large enough\", then $X$ can be approximated by a normal distribution with mean $Np$ and variance $Np(1-p)$, or $X \\sim Normal(Np, Np(1-p))$. \n",
    "\n",
    "In Problem 2(b), we are asking about the *percentage* of Obama votes, therefore we are actually interested in $Y_i = \\frac{X_i}{N}$ where $X_i \\sim Bin(N, p)$. In this case, $\\mbox{Var}(Y_i)  = p(1-p)$. To estimate the standard deviation of $\\bar{Y}$, \n",
    "\n",
    "$$\\mbox{Var}(\\bar{Y}) =  \\frac{1}{N^2} \\sum_{i=1}^N p(1-p) = \\frac{p(1-p)}{N}$$\n",
    "\n",
    "Thus, we can analytically compute the standard deviation of $\\bar{Y}$ using $\\sqrt{\\frac{p(1-p)}{N}}$ and compare to the standard deviation obtained from simulations. "
   ]
  },
  {
   "cell_type": "code",
   "execution_count": 120,
   "metadata": {
    "collapsed": false
   },
   "outputs": [
    {
     "name": "stdout",
     "output_type": "stream",
     "text": [
      "SD from simulations: 0.0142643\n",
      "SD using normal approximation 0.0144078\n"
     ]
    }
   ],
   "source": [
    "# Standard deviation from simulations in 2(b) \n",
    "print \"SD from simulations: %g\" % np.std(obs, ddof=1)\n",
    "\n",
    "# Standard deviation computed analytically\n",
    "print \"SD using normal approximation %g\" % np.sqrt(p * (1-p)/ N)"
   ]
  },
  {
   "cell_type": "markdown",
   "metadata": {},
   "source": [
    "In Problem 2(c), we are asking about the *percentage* of Obama votes from averaged across M polls.  Above we saw the variance for each poll is $\\frac{p(1-p)}{N}$. Therefore we can treat the variance at the poll level as $\\sigma_{poll}^2 = \\frac{p(1-p)}{N}$. Then, when we average across M polls the variance becomes $\\sigma_{poll}^2 / M = \\frac{p(1-p)}{N \\cdot M }$\n",
    "\n",
    "\n"
   ]
  },
  {
   "cell_type": "code",
   "execution_count": 109,
   "metadata": {
    "collapsed": false
   },
   "outputs": [
    {
     "name": "stdout",
     "output_type": "stream",
     "text": [
      "SD from simulations: 0.00347033\n",
      "SD using normal approximation 0.00339594\n"
     ]
    }
   ],
   "source": [
    "# Standard deviation from simulations in 2(c) \n",
    "print \"SD from simulations: %g\" % np.std(mom, ddof=1)\n",
    "\n",
    "# Standard deviation computed analytically\n",
    "print \"SD using normal approximation %g\" % np.sqrt((p * (1-p)/ N) / M)"
   ]
  },
  {
   "cell_type": "markdown",
   "metadata": {},
   "source": [
    "Answer: We see the SD from the simulations match the analytical results using the normal approximation.  "
   ]
  },
  {
   "cell_type": "markdown",
   "metadata": {},
   "source": [
    "## Discussion for Problem 2\n",
    "\n",
    "*Write a brief discussion of your conclusions to the questions and tasks above in 100 words or less.*\n",
    "\n",
    "In this problem we considered all the polls from pollsters in November 2012. After removing polls that came from the same pollster in Nov 2012, we did not see any pollster bias.  The standard deviation from the 2012 Presidential Election was smaller than what we expect by chance.  \n",
    "\n",
    "---\n"
   ]
  },
  {
   "cell_type": "markdown",
   "metadata": {},
   "source": [
    "## Problem 3: Is the average of polls better than just one poll?"
   ]
  },
  {
   "cell_type": "markdown",
   "metadata": {},
   "source": [
    "#### Problem 3(a)\n",
    "\n",
    "Most undecided voters vote for one of the two candidates at the election. Therefore, the reported percentages underestimate the final value of both candidates. However, if we assume the undecided will split evenly, then the observed difference should be an unbiased estimate of the final difference. \n",
    "\n",
    "Add a new column to the `election` DataFrame containg the difference between Obama and Romeny called `Diff`. "
   ]
  },
  {
   "cell_type": "code",
   "execution_count": 121,
   "metadata": {
    "collapsed": false
   },
   "outputs": [
    {
     "data": {
      "text/html": [
       "<div>\n",
       "<table border=\"1\" class=\"dataframe\">\n",
       "  <thead>\n",
       "    <tr style=\"text-align: right;\">\n",
       "      <th></th>\n",
       "      <th>Pollster</th>\n",
       "      <th>Start Date</th>\n",
       "      <th>End Date</th>\n",
       "      <th>Entry Date/Time (ET)</th>\n",
       "      <th>Number of Observations</th>\n",
       "      <th>Population</th>\n",
       "      <th>Mode</th>\n",
       "      <th>Obama</th>\n",
       "      <th>Romney</th>\n",
       "      <th>Undecided</th>\n",
       "      <th>Pollster URL</th>\n",
       "      <th>Source URL</th>\n",
       "      <th>Partisan</th>\n",
       "      <th>Affiliation</th>\n",
       "      <th>Diff</th>\n",
       "    </tr>\n",
       "  </thead>\n",
       "  <tbody>\n",
       "    <tr>\n",
       "      <th>0</th>\n",
       "      <td>Politico/GWU/Battleground</td>\n",
       "      <td>2012-11-04</td>\n",
       "      <td>2012-11-05</td>\n",
       "      <td>2012-11-06 2000-01-01 08:40:26 UTC</td>\n",
       "      <td>1000</td>\n",
       "      <td>Likely Voters</td>\n",
       "      <td>Live Phone</td>\n",
       "      <td>47</td>\n",
       "      <td>47</td>\n",
       "      <td>6</td>\n",
       "      <td>http://elections.huffingtonpost.com/pollster/p...</td>\n",
       "      <td>NaN</td>\n",
       "      <td>Nonpartisan</td>\n",
       "      <td>None</td>\n",
       "      <td>0.00</td>\n",
       "    </tr>\n",
       "    <tr>\n",
       "      <th>1</th>\n",
       "      <td>UPI/CVOTER</td>\n",
       "      <td>2012-11-03</td>\n",
       "      <td>2012-11-05</td>\n",
       "      <td>2012-11-05 2000-01-01 18:30:15 UTC</td>\n",
       "      <td>3000</td>\n",
       "      <td>Likely Voters</td>\n",
       "      <td>Live Phone</td>\n",
       "      <td>49</td>\n",
       "      <td>48</td>\n",
       "      <td>NaN</td>\n",
       "      <td>http://elections.huffingtonpost.com/pollster/p...</td>\n",
       "      <td>NaN</td>\n",
       "      <td>Nonpartisan</td>\n",
       "      <td>None</td>\n",
       "      <td>0.01</td>\n",
       "    </tr>\n",
       "    <tr>\n",
       "      <th>2</th>\n",
       "      <td>Gravis Marketing</td>\n",
       "      <td>2012-11-03</td>\n",
       "      <td>2012-11-05</td>\n",
       "      <td>2012-11-06 2000-01-01 09:22:02 UTC</td>\n",
       "      <td>872</td>\n",
       "      <td>Likely Voters</td>\n",
       "      <td>Automated Phone</td>\n",
       "      <td>48</td>\n",
       "      <td>48</td>\n",
       "      <td>4</td>\n",
       "      <td>http://elections.huffingtonpost.com/pollster/p...</td>\n",
       "      <td>NaN</td>\n",
       "      <td>Nonpartisan</td>\n",
       "      <td>None</td>\n",
       "      <td>0.00</td>\n",
       "    </tr>\n",
       "    <tr>\n",
       "      <th>3</th>\n",
       "      <td>JZ Analytics/Newsmax</td>\n",
       "      <td>2012-11-03</td>\n",
       "      <td>2012-11-05</td>\n",
       "      <td>2012-11-06 2000-01-01 07:38:41 UTC</td>\n",
       "      <td>1041</td>\n",
       "      <td>Likely Voters</td>\n",
       "      <td>Internet</td>\n",
       "      <td>47</td>\n",
       "      <td>47</td>\n",
       "      <td>6</td>\n",
       "      <td>http://elections.huffingtonpost.com/pollster/p...</td>\n",
       "      <td>NaN</td>\n",
       "      <td>Sponsor</td>\n",
       "      <td>Rep</td>\n",
       "      <td>0.00</td>\n",
       "    </tr>\n",
       "    <tr>\n",
       "      <th>4</th>\n",
       "      <td>Rasmussen</td>\n",
       "      <td>2012-11-03</td>\n",
       "      <td>2012-11-05</td>\n",
       "      <td>2012-11-06 2000-01-01 08:47:50 UTC</td>\n",
       "      <td>1500</td>\n",
       "      <td>Likely Voters</td>\n",
       "      <td>Automated Phone</td>\n",
       "      <td>48</td>\n",
       "      <td>49</td>\n",
       "      <td>NaN</td>\n",
       "      <td>http://elections.huffingtonpost.com/pollster/p...</td>\n",
       "      <td>NaN</td>\n",
       "      <td>Nonpartisan</td>\n",
       "      <td>None</td>\n",
       "      <td>-0.01</td>\n",
       "    </tr>\n",
       "  </tbody>\n",
       "</table>\n",
       "</div>"
      ],
      "text/plain": [
       "                    Pollster Start Date   End Date  \\\n",
       "0  Politico/GWU/Battleground 2012-11-04 2012-11-05   \n",
       "1                 UPI/CVOTER 2012-11-03 2012-11-05   \n",
       "2           Gravis Marketing 2012-11-03 2012-11-05   \n",
       "3       JZ Analytics/Newsmax 2012-11-03 2012-11-05   \n",
       "4                  Rasmussen 2012-11-03 2012-11-05   \n",
       "\n",
       "                 Entry Date/Time (ET)  Number of Observations     Population  \\\n",
       "0  2012-11-06 2000-01-01 08:40:26 UTC                    1000  Likely Voters   \n",
       "1  2012-11-05 2000-01-01 18:30:15 UTC                    3000  Likely Voters   \n",
       "2  2012-11-06 2000-01-01 09:22:02 UTC                     872  Likely Voters   \n",
       "3  2012-11-06 2000-01-01 07:38:41 UTC                    1041  Likely Voters   \n",
       "4  2012-11-06 2000-01-01 08:47:50 UTC                    1500  Likely Voters   \n",
       "\n",
       "              Mode  Obama  Romney  Undecided  \\\n",
       "0       Live Phone     47      47          6   \n",
       "1       Live Phone     49      48        NaN   \n",
       "2  Automated Phone     48      48          4   \n",
       "3         Internet     47      47          6   \n",
       "4  Automated Phone     48      49        NaN   \n",
       "\n",
       "                                        Pollster URL  Source URL     Partisan  \\\n",
       "0  http://elections.huffingtonpost.com/pollster/p...         NaN  Nonpartisan   \n",
       "1  http://elections.huffingtonpost.com/pollster/p...         NaN  Nonpartisan   \n",
       "2  http://elections.huffingtonpost.com/pollster/p...         NaN  Nonpartisan   \n",
       "3  http://elections.huffingtonpost.com/pollster/p...         NaN      Sponsor   \n",
       "4  http://elections.huffingtonpost.com/pollster/p...         NaN  Nonpartisan   \n",
       "\n",
       "  Affiliation  Diff  \n",
       "0        None  0.00  \n",
       "1        None  0.01  \n",
       "2        None  0.00  \n",
       "3         Rep  0.00  \n",
       "4        None -0.01  "
      ]
     },
     "execution_count": 121,
     "metadata": {},
     "output_type": "execute_result"
    }
   ],
   "source": [
    "#your code here\n",
    "election[\"Diff\"] = (election.Obama / 100) - (election.Romney / 100)\n",
    "election.head()"
   ]
  },
  {
   "cell_type": "markdown",
   "metadata": {},
   "source": [
    "#### Problem 3(b)\n",
    "\n",
    "Make a plot of the differences for the week before the election (e.g. 5 days) where the days are on the x-axis and the differences are on the y-axis.  Add a horizontal line showing 3.9%: the difference between Obama and Romney on election day.\n"
   ]
  },
  {
   "cell_type": "code",
   "execution_count": 123,
   "metadata": {
    "collapsed": false
   },
   "outputs": [
    {
     "name": "stderr",
     "output_type": "stream",
     "text": [
      "/usr/local/lib/python2.7/site-packages/ipykernel/__main__.py:4: FutureWarning: sort(columns=....) is deprecated, use sort_values(by=.....)\n"
     ]
    },
    {
     "data": {
      "text/plain": [
       "<matplotlib.text.Text at 0x118715b50>"
      ]
     },
     "execution_count": 123,
     "metadata": {},
     "output_type": "execute_result"
    },
    {
     "data": {
      "image/png": "[encoded data removed]",
      "text/plain": [
       "<matplotlib.figure.Figure at 0x113f54c10>"
      ]
     },
     "metadata": {},
     "output_type": "display_data"
    }
   ],
   "source": [
    "#your code here\n",
    "last_day = max(election[\"Start Date\"])\n",
    "filtered = election[map(lambda x: (last_day - x).days <= 5, election[\"Start Date\"]) ]\n",
    "filtered = filtered.sort(columns=[\"Start Date\"])\n",
    "days= map(lambda x: (last_day - x).days , filtered[\"Start Date\"])\n",
    "\n",
    "color_map = {}\n",
    "for i, p in enumerate(set(filtered.Pollster)):\n",
    "    color_map[p] = np.random.rand();\n",
    "\n",
    "plt.scatter(days, filtered.Diff, c = map(lambda x: color_map[x], filtered.Pollster),  s=60 )\n",
    "plt.axhline(y=0.039, c = \"gray\")\n",
    "plt.axhline(y=np.mean(filtered.Diff), c = \"red\")\n",
    "plt.xlabel(\"Days\")\n",
    "plt.ylabel(\"Difference (Obama - Romney)\")\n",
    "plt.title(\"Plot of the difference between Obama and Romney colored by different pollsters in the last week\")\n",
    "\n"
   ]
  },
  {
   "cell_type": "markdown",
   "metadata": {},
   "source": [
    "#### Problem 3(c) \n",
    "\n",
    "Make a plot showing the differences by pollster where the pollsters are on the x-axis and the differences on the y-axis. "
   ]
  },
  {
   "cell_type": "code",
   "execution_count": 124,
   "metadata": {
    "collapsed": false
   },
   "outputs": [
    {
     "data": {
      "image/png": "[encoded data removed]",
      "text/plain": [
       "<matplotlib.figure.Figure at 0x118533310>"
      ]
     },
     "metadata": {},
     "output_type": "display_data"
    }
   ],
   "source": [
    "#your code here\n",
    "pollster_map = {}\n",
    "\n",
    "polls = list(set(filtered.Pollster))\n",
    "\n",
    "for i, p in enumerate(polls):\n",
    "    pollster_map[p] = i\n",
    "\n",
    "plt.scatter(map(lambda x: pollster_map[x],filtered.Pollster), filtered.Diff, \\\n",
    "            c = map(lambda x: color_map[x],filtered.Pollster),s=60)\n",
    "plt.xticks(range(len(polls)), polls, rotation = 90)\n",
    "plt.xlabel(\"Pollsters\")\n",
    "plt.ylabel(\"Difference (Obama - Romney)\")\n",
    "plt.title(\"Plot of the difference between Obama and Romney by different pollsters\")\n",
    "plt.show()"
   ]
  },
  {
   "cell_type": "markdown",
   "metadata": {},
   "source": [
    "Is the *across poll* difference larger than the *between pollster* difference? "
   ]
  },
  {
   "cell_type": "markdown",
   "metadata": {},
   "source": [
    "Answer: For this question, we can compare the variability *within* each pollster (*across* a set of polls) compared to the variability *between* each pollster.  From these two visualization it is clear that the *between* pollster difference is larger. "
   ]
  },
  {
   "cell_type": "markdown",
   "metadata": {},
   "source": [
    "#### Problem 3(d)\n",
    "\n",
    "Take the average for each pollster and then compute the average of that. Given this difference how confident would you have been of an Obama victory?\n",
    "\n",
    "**Hint**: Compute an estimate of the SE of this average based exclusively on the observed data. "
   ]
  },
  {
   "cell_type": "code",
   "execution_count": 113,
   "metadata": {
    "collapsed": false
   },
   "outputs": [
    {
     "name": "stdout",
     "output_type": "stream",
     "text": [
      "Average across pollsters: 0.0124\n",
      "Standard error: 0.0129669\n"
     ]
    }
   ],
   "source": [
    "#your code here\n",
    "aggr  = filtered.groupby(\"Pollster\").mean()\n",
    "print \"Average across pollsters: %g\" % np.round(np.mean(aggr.Diff),4)\n",
    "print \"Standard error: %g\" % np.std(aggr.Diff, ddof = 0)\n"
   ]
  },
  {
   "cell_type": "markdown",
   "metadata": {},
   "source": [
    "Answer: Given the large standard error, I would not have been very confident in the Obama victory. "
   ]
  },
  {
   "cell_type": "markdown",
   "metadata": {},
   "source": [
    "#### Problem 3(e)\n",
    "\n",
    "**For AC209 Students**: Show the difference against time and see if you can detect a trend towards the end. Use this trend to see if it improves the final estimate."
   ]
  },
  {
   "cell_type": "code",
   "execution_count": 114,
   "metadata": {
    "collapsed": false
   },
   "outputs": [
    {
     "data": {
      "image/png": "[encoded data removed]",
      "text/plain": [
       "<matplotlib.figure.Figure at 0x1126f7950>"
      ]
     },
     "metadata": {},
     "output_type": "display_data"
    }
   ],
   "source": [
    "#your code here\n",
    "three_months = dt.datetime(2012,8,15,0,0)\n",
    "\n",
    "new_data = election [map(lambda x: x >= three_months , election[\"Start Date\"]) ]\n",
    "new_data = new_data.sort(\"Start Date\")\n",
    "new_data[\"days\"]= map(lambda x: (x - three_months).days , new_data[\"Start Date\"])\n",
    "\n",
    "new_data[\"Diff\"] = (new_data.Obama/100) - (new_data.Romney/100)\n",
    "new_data = new_data.groupby([\"days\"], as_index=False).mean()\n",
    "\n",
    "plt.figure()\n",
    "plt.plot(new_data.days, new_data.Diff )\n",
    "plt.xlabel(\"Days from three month before the election\")\n",
    "plt.ylabel(\"Difference (Obama - Romney)\")\n",
    "plt.title(\"Difference between Obama and Romney across time\")\n",
    "plt.show()"
   ]
  },
  {
   "cell_type": "markdown",
   "metadata": {},
   "source": [
    "Answer: Around fifty days before the election, there was a change resulting a positive difference between Obama and Romney in the polls. "
   ]
  },
  {
   "cell_type": "markdown",
   "metadata": {},
   "source": [
    "## Discussion for Problem 3\n",
    "\n",
    "*Write a brief discussion of your conclusions to the questions and tasks above in 100 words or less.*\n",
    "\n",
    "Yes, the average of polls is better than just one poll because there can be a large amount of variability between pollsters.  \n",
    "\n",
    "---\n"
   ]
  },
  {
   "cell_type": "markdown",
   "metadata": {},
   "source": [
    "## Problem 4\n",
    "\n",
    "In this last problem, we will use the polls from the [2014 Senate Midterm Elections](http://elections.huffingtonpost.com/pollster) from the [HuffPost Pollster API](http://elections.huffingtonpost.com/pollster/api) to create a preliminary prediction of the result of each state. \n",
    "\n",
    "The HuffPost Pollster API allows you to access the data as a CSV or a JSON response by tacking \".csv\" or \".json\" at the end of the URLs. For example the 2012 Presidential Election could be accessed as a [.json](http://elections.huffingtonpost.com/pollster/2012-general-election-romney-vs-obama.json) instead of a [.csv](http://elections.huffingtonpost.com/pollster/2012-general-election-romney-vs-obama.csv)"
   ]
  },
  {
   "cell_type": "markdown",
   "metadata": {},
   "source": [
    "#### Problem 4(a)\n",
    "\n",
    "Read in the polls for **all** of the 2014 Senate Elections using the HuffPost API. For example, we can consider the [2014 Senate race in Kentucky between Mitch McConnell and Alison Grimes](http://elections.huffingtonpost.com/pollster/2014-kentucky-senate-mcconnell-vs-grimes). \n",
    "\n",
    "To search for the 2014 Senate races, use the `topics` parameter in the API [[read more about topics here](http://elections.huffingtonpost.com/pollster/api)].  "
   ]
  },
  {
   "cell_type": "code",
   "execution_count": 125,
   "metadata": {
    "collapsed": false
   },
   "outputs": [],
   "source": [
    "url_str = \"http://elections.huffingtonpost.com/pollster/api/charts/?topic=2014-senate\""
   ]
  },
  {
   "cell_type": "markdown",
   "metadata": {},
   "source": [
    "To list all the URLs related to the 2014 Senate races using the pollster API, we can use a list comprehension:"
   ]
  },
  {
   "cell_type": "code",
   "execution_count": 126,
   "metadata": {
    "collapsed": false
   },
   "outputs": [
    {
     "data": {
      "text/plain": [
       "[u'http://elections.huffingtonpost.com/pollster/2014-kentucky-senate-mcconnell-vs-grimes.csv',\n",
       " u'http://elections.huffingtonpost.com/pollster/2014-arkansas-senate-cotton-vs-pryor.csv',\n",
       " u'http://elections.huffingtonpost.com/pollster/2014-michigan-senate-land-vs-peters.csv',\n",
       " u'http://elections.huffingtonpost.com/pollster/2014-louisiana-senate-cassidy-vs-landrieu.csv',\n",
       " u'http://elections.huffingtonpost.com/pollster/2014-new-hampshire-senate-brown-vs-shaheen.csv',\n",
       " u'http://elections.huffingtonpost.com/pollster/2014-west-virginia-senate-capito-vs-tennant.csv',\n",
       " u'http://elections.huffingtonpost.com/pollster/2014-new-hampshire-senate-bass-vs-shaheen.csv',\n",
       " u'http://elections.huffingtonpost.com/pollster/2014-north-carolina-senate-tillis-vs-hagan.csv',\n",
       " u'http://elections.huffingtonpost.com/pollster/2014-virginia-senate-gillespie-vs-warner.csv',\n",
       " u'http://elections.huffingtonpost.com/pollster/2014-colorado-senate-gardner-vs-udall.csv',\n",
       " u'http://elections.huffingtonpost.com/pollster/2014-illinois-senate-oberweis-vs-durbin.csv',\n",
       " u'http://elections.huffingtonpost.com/pollster/2014-alaska-senate-sullivan-vs-begich.csv',\n",
       " u'http://elections.huffingtonpost.com/pollster/2014-iowa-senate-ernst-vs-braley.csv',\n",
       " u'http://elections.huffingtonpost.com/pollster/2014-mississippi-senate-cochran-vs-childers.csv',\n",
       " u'http://elections.huffingtonpost.com/pollster/2014-oregon-senate-wehby-vs-merkley.csv',\n",
       " u'http://elections.huffingtonpost.com/pollster/2014-georgia-senate-perdue-vs-nunn.csv',\n",
       " u'http://elections.huffingtonpost.com/pollster/2014-nebraska-senate-sasse-vs-domina.csv',\n",
       " u'http://elections.huffingtonpost.com/pollster/2014-south-dakota-senate-rounds-vs-weiland.csv',\n",
       " u'http://elections.huffingtonpost.com/pollster/2014-maine-senate-collins-vs-bellows.csv',\n",
       " u'http://elections.huffingtonpost.com/pollster/2014-minnesota-senate-mcfadden-vs-franken.csv',\n",
       " u'http://elections.huffingtonpost.com/pollster/2014-texas-senate-cornyn-vs-alameel.csv',\n",
       " u'http://elections.huffingtonpost.com/pollster/2014-south-carolina-senate-graham-vs-hutto.csv',\n",
       " u'http://elections.huffingtonpost.com/pollster/2014-south-carolina-senate-scott-vs-dickerson.csv',\n",
       " u'http://elections.huffingtonpost.com/pollster/2014-oklahoma-senate-inhofe-vs-silverstein.csv',\n",
       " u'http://elections.huffingtonpost.com/pollster/2014-new-mexico-senate-weh-vs-udall.csv',\n",
       " u'http://elections.huffingtonpost.com/pollster/2014-new-jersey-senate-bell-vs-booker.csv',\n",
       " u'http://elections.huffingtonpost.com/pollster/2014-idaho-senate-risch-vs-mitchell.csv',\n",
       " u'http://elections.huffingtonpost.com/pollster/2014-tennessee-senate-alexander-vs-ball.csv',\n",
       " u'http://elections.huffingtonpost.com/pollster/2014-wyoming-senate.csv',\n",
       " u'http://elections.huffingtonpost.com/pollster/2014-kansas-senate-roberts-vs-orman-vs-taylor.csv',\n",
       " u'http://elections.huffingtonpost.com/pollster/2014-hawaii-senate-cavasso-vs-schatz.csv',\n",
       " u'http://elections.huffingtonpost.com/pollster/2014-oklahoma-senate-lankford-vs-johnson.csv',\n",
       " u'http://elections.huffingtonpost.com/pollster/2014-montana-senate-daines-vs-curtis.csv',\n",
       " u'http://elections.huffingtonpost.com/pollster/2014-rhode-island-senate-zaccaria-vs-reed.csv',\n",
       " u'http://elections.huffingtonpost.com/pollster/2014-massachusetts-senate-herr-vs-markey.csv',\n",
       " u'http://elections.huffingtonpost.com/pollster/2014-delaware-senate-wade-vs-coons.csv']"
      ]
     },
     "execution_count": 126,
     "metadata": {},
     "output_type": "execute_result"
    }
   ],
   "source": [
    "election_urls = [election['url'] + '.csv' for election in requests.get(url_str).json()]\n",
    "election_urls"
   ]
  },
  {
   "cell_type": "markdown",
   "metadata": {},
   "source": [
    "Because there so many Senate races, we can create a dictionary of pandas DataFrames that will be keyed by the name of the election (a string). "
   ]
  },
  {
   "cell_type": "code",
   "execution_count": 127,
   "metadata": {
    "collapsed": false
   },
   "outputs": [],
   "source": [
    "def build_frame(url):\n",
    "    \"\"\"\n",
    "    Returns a pandas DataFrame object containing\n",
    "    the data returned from the given url\n",
    "    \"\"\"\n",
    "    source = requests.get(url).text\n",
    "    \n",
    "    # Use StringIO because pd.DataFrame.from_csv requires .read() method\n",
    "    s = StringIO(source)\n",
    "    \n",
    "    return pd.DataFrame.from_csv(s, index_col=None).convert_objects(\n",
    "            convert_dates=\"coerce\", convert_numeric=True)"
   ]
  },
  {
   "cell_type": "code",
   "execution_count": 128,
   "metadata": {
    "collapsed": false
   },
   "outputs": [
    {
     "name": "stderr",
     "output_type": "stream",
     "text": [
      "/usr/local/lib/python2.7/site-packages/ipykernel/__main__.py:12: FutureWarning: convert_objects is deprecated.  Use the data-type specific converters pd.to_datetime, pd.to_timedelta and pd.to_numeric.\n"
     ]
    }
   ],
   "source": [
    "# Makes a dictionary of pandas DataFrames keyed on election string.\n",
    "dfs = dict((election.split(\"/\")[-1][:-4], build_frame(election)) for election in election_urls)"
   ]
  },
  {
   "cell_type": "markdown",
   "metadata": {},
   "source": [
    "Show the head of the DataFrame containing the polls for the 2014 Senate race in Kentucky between McConnell and Grimes."
   ]
  },
  {
   "cell_type": "code",
   "execution_count": 129,
   "metadata": {
    "collapsed": false
   },
   "outputs": [
    {
     "data": {
      "text/html": [
       "<div>\n",
       "<table border=\"1\" class=\"dataframe\">\n",
       "  <thead>\n",
       "    <tr style=\"text-align: right;\">\n",
       "      <th></th>\n",
       "      <th>Pollster</th>\n",
       "      <th>Start Date</th>\n",
       "      <th>End Date</th>\n",
       "      <th>Entry Date/Time (ET)</th>\n",
       "      <th>Number of Observations</th>\n",
       "      <th>Population</th>\n",
       "      <th>Mode</th>\n",
       "      <th>McConnell</th>\n",
       "      <th>Grimes</th>\n",
       "      <th>Undecided</th>\n",
       "      <th>Pollster URL</th>\n",
       "      <th>Source URL</th>\n",
       "      <th>Partisan</th>\n",
       "      <th>Affiliation</th>\n",
       "    </tr>\n",
       "  </thead>\n",
       "  <tbody>\n",
       "    <tr>\n",
       "      <th>0</th>\n",
       "      <td>PPP (D)</td>\n",
       "      <td>2014-10-30</td>\n",
       "      <td>2014-11-01</td>\n",
       "      <td>2014-11-02 2000-01-01 01:44:58 UTC</td>\n",
       "      <td>1503</td>\n",
       "      <td>Likely Voters</td>\n",
       "      <td>IVR/Online</td>\n",
       "      <td>50</td>\n",
       "      <td>42</td>\n",
       "      <td>NaN</td>\n",
       "      <td>http://elections.huffingtonpost.com/pollster/p...</td>\n",
       "      <td>http://www.publicpolicypolling.com/pdf/2014/PP...</td>\n",
       "      <td>Pollster</td>\n",
       "      <td>Dem</td>\n",
       "    </tr>\n",
       "    <tr>\n",
       "      <th>1</th>\n",
       "      <td>NBC/Marist</td>\n",
       "      <td>2014-10-27</td>\n",
       "      <td>2014-10-30</td>\n",
       "      <td>2014-11-02 2000-01-01 14:37:22 UTC</td>\n",
       "      <td>556</td>\n",
       "      <td>Likely Voters</td>\n",
       "      <td>Live Phone</td>\n",
       "      <td>50</td>\n",
       "      <td>41</td>\n",
       "      <td>3</td>\n",
       "      <td>http://elections.huffingtonpost.com/pollster/p...</td>\n",
       "      <td>http://newscms.nbcnews.com/sites/newscms/files...</td>\n",
       "      <td>Nonpartisan</td>\n",
       "      <td>None</td>\n",
       "    </tr>\n",
       "    <tr>\n",
       "      <th>2</th>\n",
       "      <td>SurveyUSA/Courier-Journal/Herald-Leader/WHAS/WKYT</td>\n",
       "      <td>2014-10-25</td>\n",
       "      <td>2014-10-29</td>\n",
       "      <td>2014-10-30 2000-01-01 23:33:59 UTC</td>\n",
       "      <td>597</td>\n",
       "      <td>Likely Voters</td>\n",
       "      <td>IVR/Online</td>\n",
       "      <td>48</td>\n",
       "      <td>43</td>\n",
       "      <td>6</td>\n",
       "      <td>http://elections.huffingtonpost.com/pollster/p...</td>\n",
       "      <td>http://www.surveyusa.com/client/PollReport.asp...</td>\n",
       "      <td>Nonpartisan</td>\n",
       "      <td>None</td>\n",
       "    </tr>\n",
       "    <tr>\n",
       "      <th>3</th>\n",
       "      <td>POS (R-Crossroads GPS)</td>\n",
       "      <td>2014-10-25</td>\n",
       "      <td>2014-10-27</td>\n",
       "      <td>2014-10-30 2000-01-01 20:56:18 UTC</td>\n",
       "      <td>600</td>\n",
       "      <td>Likely Voters</td>\n",
       "      <td>Live Phone</td>\n",
       "      <td>50</td>\n",
       "      <td>43</td>\n",
       "      <td>NaN</td>\n",
       "      <td>http://elections.huffingtonpost.com/pollster/p...</td>\n",
       "      <td>https://www.crossroadsgps.org/wp-content/uploa...</td>\n",
       "      <td>Sponsor</td>\n",
       "      <td>Rep</td>\n",
       "    </tr>\n",
       "    <tr>\n",
       "      <th>4</th>\n",
       "      <td>CBS/NYT/YouGov</td>\n",
       "      <td>2014-10-16</td>\n",
       "      <td>2014-10-23</td>\n",
       "      <td>2014-10-26 2000-01-01 15:00:07 UTC</td>\n",
       "      <td>1502</td>\n",
       "      <td>Likely Voters</td>\n",
       "      <td>Internet</td>\n",
       "      <td>45</td>\n",
       "      <td>39</td>\n",
       "      <td>14</td>\n",
       "      <td>http://elections.huffingtonpost.com/pollster/p...</td>\n",
       "      <td>https://today.yougov.com/news/2014/09/07/battl...</td>\n",
       "      <td>Nonpartisan</td>\n",
       "      <td>None</td>\n",
       "    </tr>\n",
       "  </tbody>\n",
       "</table>\n",
       "</div>"
      ],
      "text/plain": [
       "                                            Pollster Start Date   End Date  \\\n",
       "0                                            PPP (D) 2014-10-30 2014-11-01   \n",
       "1                                         NBC/Marist 2014-10-27 2014-10-30   \n",
       "2  SurveyUSA/Courier-Journal/Herald-Leader/WHAS/WKYT 2014-10-25 2014-10-29   \n",
       "3                             POS (R-Crossroads GPS) 2014-10-25 2014-10-27   \n",
       "4                                     CBS/NYT/YouGov 2014-10-16 2014-10-23   \n",
       "\n",
       "                 Entry Date/Time (ET)  Number of Observations     Population  \\\n",
       "0  2014-11-02 2000-01-01 01:44:58 UTC                    1503  Likely Voters   \n",
       "1  2014-11-02 2000-01-01 14:37:22 UTC                     556  Likely Voters   \n",
       "2  2014-10-30 2000-01-01 23:33:59 UTC                     597  Likely Voters   \n",
       "3  2014-10-30 2000-01-01 20:56:18 UTC                     600  Likely Voters   \n",
       "4  2014-10-26 2000-01-01 15:00:07 UTC                    1502  Likely Voters   \n",
       "\n",
       "         Mode  McConnell  Grimes  Undecided  \\\n",
       "0  IVR/Online         50      42        NaN   \n",
       "1  Live Phone         50      41          3   \n",
       "2  IVR/Online         48      43          6   \n",
       "3  Live Phone         50      43        NaN   \n",
       "4    Internet         45      39         14   \n",
       "\n",
       "                                        Pollster URL  \\\n",
       "0  http://elections.huffingtonpost.com/pollster/p...   \n",
       "1  http://elections.huffingtonpost.com/pollster/p...   \n",
       "2  http://elections.huffingtonpost.com/pollster/p...   \n",
       "3  http://elections.huffingtonpost.com/pollster/p...   \n",
       "4  http://elections.huffingtonpost.com/pollster/p...   \n",
       "\n",
       "                                          Source URL     Partisan Affiliation  \n",
       "0  http://www.publicpolicypolling.com/pdf/2014/PP...     Pollster         Dem  \n",
       "1  http://newscms.nbcnews.com/sites/newscms/files...  Nonpartisan        None  \n",
       "2  http://www.surveyusa.com/client/PollReport.asp...  Nonpartisan        None  \n",
       "3  https://www.crossroadsgps.org/wp-content/uploa...      Sponsor         Rep  \n",
       "4  https://today.yougov.com/news/2014/09/07/battl...  Nonpartisan        None  "
      ]
     },
     "execution_count": 129,
     "metadata": {},
     "output_type": "execute_result"
    }
   ],
   "source": [
    "#your code here\n",
    "dfs['2014-kentucky-senate-mcconnell-vs-grimes'].head()"
   ]
  },
  {
   "cell_type": "markdown",
   "metadata": {},
   "source": [
    "#### Problem 4(b)\n",
    "\n",
    "For each 2014 Senate race, create a preliminary prediction of the result for that state.\n",
    "\n",
    "This is a very crude way of making a preliminary prediction: compute the difference between each candidate using all the polls in each race and predict the winner based on if the differences is positive or negative.  We want you to be creative and use the tools you are learning in class to make more accurate predictions. "
   ]
  },
  {
   "cell_type": "code",
   "execution_count": 131,
   "metadata": {
    "collapsed": false
   },
   "outputs": [
    {
     "data": {
      "text/html": [
       "<div>\n",
       "<table border=\"1\" class=\"dataframe\">\n",
       "  <thead>\n",
       "    <tr style=\"text-align: right;\">\n",
       "      <th></th>\n",
       "      <th>Candidate1</th>\n",
       "      <th>Candidate2</th>\n",
       "      <th>Difference</th>\n",
       "      <th>Winner</th>\n",
       "    </tr>\n",
       "  </thead>\n",
       "  <tbody>\n",
       "    <tr>\n",
       "      <th>2014-alaska-senate-sullivan-vs-begich</th>\n",
       "      <td>Sullivan</td>\n",
       "      <td>Begich</td>\n",
       "      <td>-0.003</td>\n",
       "      <td>Begich</td>\n",
       "    </tr>\n",
       "    <tr>\n",
       "      <th>2014-arkansas-senate-cotton-vs-pryor</th>\n",
       "      <td>Cotton</td>\n",
       "      <td>Pryor</td>\n",
       "      <td>0.015</td>\n",
       "      <td>Cotton</td>\n",
       "    </tr>\n",
       "    <tr>\n",
       "      <th>2014-colorado-senate-gardner-vs-udall</th>\n",
       "      <td>Gardner</td>\n",
       "      <td>Udall</td>\n",
       "      <td>0.006</td>\n",
       "      <td>Gardner</td>\n",
       "    </tr>\n",
       "    <tr>\n",
       "      <th>2014-delaware-senate-wade-vs-coons</th>\n",
       "      <td>Coons</td>\n",
       "      <td>Wade</td>\n",
       "      <td>0.174</td>\n",
       "      <td>Coons</td>\n",
       "    </tr>\n",
       "    <tr>\n",
       "      <th>2014-georgia-senate-perdue-vs-nunn</th>\n",
       "      <td>Perdue</td>\n",
       "      <td>Nunn</td>\n",
       "      <td>0.017</td>\n",
       "      <td>Perdue</td>\n",
       "    </tr>\n",
       "    <tr>\n",
       "      <th>2014-hawaii-senate-cavasso-vs-schatz</th>\n",
       "      <td>Schatz</td>\n",
       "      <td>Cavasso</td>\n",
       "      <td>0.404</td>\n",
       "      <td>Schatz</td>\n",
       "    </tr>\n",
       "    <tr>\n",
       "      <th>2014-idaho-senate-risch-vs-mitchell</th>\n",
       "      <td>Risch</td>\n",
       "      <td>Mitchell</td>\n",
       "      <td>0.298</td>\n",
       "      <td>Risch</td>\n",
       "    </tr>\n",
       "    <tr>\n",
       "      <th>2014-illinois-senate-oberweis-vs-durbin</th>\n",
       "      <td>Durbin</td>\n",
       "      <td>Oberweis</td>\n",
       "      <td>0.124</td>\n",
       "      <td>Durbin</td>\n",
       "    </tr>\n",
       "    <tr>\n",
       "      <th>2014-iowa-senate-ernst-vs-braley</th>\n",
       "      <td>Ernst</td>\n",
       "      <td>Braley</td>\n",
       "      <td>-0</td>\n",
       "      <td>Ernst</td>\n",
       "    </tr>\n",
       "    <tr>\n",
       "      <th>2014-kansas-senate-roberts-vs-orman-vs-taylor</th>\n",
       "      <td>Roberts</td>\n",
       "      <td>Orman</td>\n",
       "      <td>0.014</td>\n",
       "      <td>Roberts</td>\n",
       "    </tr>\n",
       "    <tr>\n",
       "      <th>2014-kentucky-senate-mcconnell-vs-grimes</th>\n",
       "      <td>McConnell</td>\n",
       "      <td>Grimes</td>\n",
       "      <td>0.03</td>\n",
       "      <td>McConnell</td>\n",
       "    </tr>\n",
       "    <tr>\n",
       "      <th>2014-louisiana-senate-cassidy-vs-landrieu</th>\n",
       "      <td>Cassidy</td>\n",
       "      <td>Landrieu</td>\n",
       "      <td>0.039</td>\n",
       "      <td>Cassidy</td>\n",
       "    </tr>\n",
       "    <tr>\n",
       "      <th>2014-maine-senate-collins-vs-bellows</th>\n",
       "      <td>Collins</td>\n",
       "      <td>Bellows</td>\n",
       "      <td>0.324</td>\n",
       "      <td>Collins</td>\n",
       "    </tr>\n",
       "    <tr>\n",
       "      <th>2014-massachusetts-senate-herr-vs-markey</th>\n",
       "      <td>Markey</td>\n",
       "      <td>Herr</td>\n",
       "      <td>0.225</td>\n",
       "      <td>Markey</td>\n",
       "    </tr>\n",
       "    <tr>\n",
       "      <th>2014-michigan-senate-land-vs-peters</th>\n",
       "      <td>Peters</td>\n",
       "      <td>Land</td>\n",
       "      <td>0.056</td>\n",
       "      <td>Peters</td>\n",
       "    </tr>\n",
       "    <tr>\n",
       "      <th>2014-minnesota-senate-mcfadden-vs-franken</th>\n",
       "      <td>Franken</td>\n",
       "      <td>McFadden</td>\n",
       "      <td>0.108</td>\n",
       "      <td>Franken</td>\n",
       "    </tr>\n",
       "    <tr>\n",
       "      <th>2014-mississippi-senate-cochran-vs-childers</th>\n",
       "      <td>Cochran</td>\n",
       "      <td>Childers</td>\n",
       "      <td>0.155</td>\n",
       "      <td>Cochran</td>\n",
       "    </tr>\n",
       "    <tr>\n",
       "      <th>2014-montana-senate-daines-vs-curtis</th>\n",
       "      <td>Daines</td>\n",
       "      <td>Curtis</td>\n",
       "      <td>0.171</td>\n",
       "      <td>Daines</td>\n",
       "    </tr>\n",
       "    <tr>\n",
       "      <th>2014-nebraska-senate-sasse-vs-domina</th>\n",
       "      <td>Sasse</td>\n",
       "      <td>Domina</td>\n",
       "      <td>0.245</td>\n",
       "      <td>Sasse</td>\n",
       "    </tr>\n",
       "    <tr>\n",
       "      <th>2014-new-hampshire-senate-bass-vs-shaheen</th>\n",
       "      <td>Shaheen</td>\n",
       "      <td>Bass</td>\n",
       "      <td>0.153</td>\n",
       "      <td>Shaheen</td>\n",
       "    </tr>\n",
       "    <tr>\n",
       "      <th>2014-new-hampshire-senate-brown-vs-shaheen</th>\n",
       "      <td>Shaheen</td>\n",
       "      <td>Brown</td>\n",
       "      <td>0.054</td>\n",
       "      <td>Shaheen</td>\n",
       "    </tr>\n",
       "    <tr>\n",
       "      <th>2014-new-jersey-senate-bell-vs-booker</th>\n",
       "      <td>Booker</td>\n",
       "      <td>Bell</td>\n",
       "      <td>0.137</td>\n",
       "      <td>Booker</td>\n",
       "    </tr>\n",
       "    <tr>\n",
       "      <th>2014-new-mexico-senate-weh-vs-udall</th>\n",
       "      <td>Udall</td>\n",
       "      <td>Weh</td>\n",
       "      <td>0.146</td>\n",
       "      <td>Udall</td>\n",
       "    </tr>\n",
       "    <tr>\n",
       "      <th>2014-north-carolina-senate-tillis-vs-hagan</th>\n",
       "      <td>Hagan</td>\n",
       "      <td>Tillis</td>\n",
       "      <td>0.026</td>\n",
       "      <td>Hagan</td>\n",
       "    </tr>\n",
       "    <tr>\n",
       "      <th>2014-oklahoma-senate-inhofe-vs-silverstein</th>\n",
       "      <td>Inhofe</td>\n",
       "      <td>Silverstein</td>\n",
       "      <td>0.32</td>\n",
       "      <td>Inhofe</td>\n",
       "    </tr>\n",
       "    <tr>\n",
       "      <th>2014-oklahoma-senate-lankford-vs-johnson</th>\n",
       "      <td>Lankford</td>\n",
       "      <td>Johnson</td>\n",
       "      <td>0.311</td>\n",
       "      <td>Lankford</td>\n",
       "    </tr>\n",
       "    <tr>\n",
       "      <th>2014-oregon-senate-wehby-vs-merkley</th>\n",
       "      <td>Merkley</td>\n",
       "      <td>Wehby</td>\n",
       "      <td>0.133</td>\n",
       "      <td>Merkley</td>\n",
       "    </tr>\n",
       "    <tr>\n",
       "      <th>2014-rhode-island-senate-zaccaria-vs-reed</th>\n",
       "      <td>Reed</td>\n",
       "      <td>Zaccaria</td>\n",
       "      <td>0.355</td>\n",
       "      <td>Reed</td>\n",
       "    </tr>\n",
       "    <tr>\n",
       "      <th>2014-south-carolina-senate-graham-vs-hutto</th>\n",
       "      <td>Graham</td>\n",
       "      <td>Hutto</td>\n",
       "      <td>0.15</td>\n",
       "      <td>Graham</td>\n",
       "    </tr>\n",
       "    <tr>\n",
       "      <th>2014-south-carolina-senate-scott-vs-dickerson</th>\n",
       "      <td>Scott</td>\n",
       "      <td>Dickerson</td>\n",
       "      <td>0.215</td>\n",
       "      <td>Scott</td>\n",
       "    </tr>\n",
       "    <tr>\n",
       "      <th>2014-south-dakota-senate-rounds-vs-weiland</th>\n",
       "      <td>Rounds</td>\n",
       "      <td>Weiland</td>\n",
       "      <td>0.13</td>\n",
       "      <td>Rounds</td>\n",
       "    </tr>\n",
       "    <tr>\n",
       "      <th>2014-tennessee-senate-alexander-vs-ball</th>\n",
       "      <td>Alexander</td>\n",
       "      <td>Ball</td>\n",
       "      <td>0.19</td>\n",
       "      <td>Alexander</td>\n",
       "    </tr>\n",
       "    <tr>\n",
       "      <th>2014-texas-senate-cornyn-vs-alameel</th>\n",
       "      <td>Cornyn</td>\n",
       "      <td>Alameel</td>\n",
       "      <td>0.191</td>\n",
       "      <td>Cornyn</td>\n",
       "    </tr>\n",
       "    <tr>\n",
       "      <th>2014-virginia-senate-gillespie-vs-warner</th>\n",
       "      <td>Warner</td>\n",
       "      <td>Gillespie</td>\n",
       "      <td>0.155</td>\n",
       "      <td>Warner</td>\n",
       "    </tr>\n",
       "    <tr>\n",
       "      <th>2014-west-virginia-senate-capito-vs-tennant</th>\n",
       "      <td>Capito</td>\n",
       "      <td>Tennant</td>\n",
       "      <td>0.141</td>\n",
       "      <td>Capito</td>\n",
       "    </tr>\n",
       "    <tr>\n",
       "      <th>2014-wyoming-senate</th>\n",
       "      <td>Enzi</td>\n",
       "      <td>Hardy</td>\n",
       "      <td>0.448</td>\n",
       "      <td>Enzi</td>\n",
       "    </tr>\n",
       "  </tbody>\n",
       "</table>\n",
       "</div>"
      ],
      "text/plain": [
       "                                              Candidate1   Candidate2  \\\n",
       "2014-alaska-senate-sullivan-vs-begich           Sullivan       Begich   \n",
       "2014-arkansas-senate-cotton-vs-pryor              Cotton        Pryor   \n",
       "2014-colorado-senate-gardner-vs-udall            Gardner        Udall   \n",
       "2014-delaware-senate-wade-vs-coons                 Coons         Wade   \n",
       "2014-georgia-senate-perdue-vs-nunn                Perdue         Nunn   \n",
       "2014-hawaii-senate-cavasso-vs-schatz              Schatz      Cavasso   \n",
       "2014-idaho-senate-risch-vs-mitchell                Risch     Mitchell   \n",
       "2014-illinois-senate-oberweis-vs-durbin           Durbin     Oberweis   \n",
       "2014-iowa-senate-ernst-vs-braley                   Ernst       Braley   \n",
       "2014-kansas-senate-roberts-vs-orman-vs-taylor    Roberts        Orman   \n",
       "2014-kentucky-senate-mcconnell-vs-grimes       McConnell       Grimes   \n",
       "2014-louisiana-senate-cassidy-vs-landrieu        Cassidy     Landrieu   \n",
       "2014-maine-senate-collins-vs-bellows             Collins      Bellows   \n",
       "2014-massachusetts-senate-herr-vs-markey          Markey         Herr   \n",
       "2014-michigan-senate-land-vs-peters               Peters         Land   \n",
       "2014-minnesota-senate-mcfadden-vs-franken        Franken     McFadden   \n",
       "2014-mississippi-senate-cochran-vs-childers      Cochran     Childers   \n",
       "2014-montana-senate-daines-vs-curtis              Daines       Curtis   \n",
       "2014-nebraska-senate-sasse-vs-domina               Sasse       Domina   \n",
       "2014-new-hampshire-senate-bass-vs-shaheen        Shaheen         Bass   \n",
       "2014-new-hampshire-senate-brown-vs-shaheen       Shaheen        Brown   \n",
       "2014-new-jersey-senate-bell-vs-booker             Booker         Bell   \n",
       "2014-new-mexico-senate-weh-vs-udall                Udall          Weh   \n",
       "2014-north-carolina-senate-tillis-vs-hagan         Hagan       Tillis   \n",
       "2014-oklahoma-senate-inhofe-vs-silverstein        Inhofe  Silverstein   \n",
       "2014-oklahoma-senate-lankford-vs-johnson        Lankford      Johnson   \n",
       "2014-oregon-senate-wehby-vs-merkley              Merkley        Wehby   \n",
       "2014-rhode-island-senate-zaccaria-vs-reed           Reed     Zaccaria   \n",
       "2014-south-carolina-senate-graham-vs-hutto        Graham        Hutto   \n",
       "2014-south-carolina-senate-scott-vs-dickerson      Scott    Dickerson   \n",
       "2014-south-dakota-senate-rounds-vs-weiland        Rounds      Weiland   \n",
       "2014-tennessee-senate-alexander-vs-ball        Alexander         Ball   \n",
       "2014-texas-senate-cornyn-vs-alameel               Cornyn      Alameel   \n",
       "2014-virginia-senate-gillespie-vs-warner          Warner    Gillespie   \n",
       "2014-west-virginia-senate-capito-vs-tennant       Capito      Tennant   \n",
       "2014-wyoming-senate                                 Enzi        Hardy   \n",
       "\n",
       "                                              Difference     Winner  \n",
       "2014-alaska-senate-sullivan-vs-begich             -0.003     Begich  \n",
       "2014-arkansas-senate-cotton-vs-pryor               0.015     Cotton  \n",
       "2014-colorado-senate-gardner-vs-udall              0.006    Gardner  \n",
       "2014-delaware-senate-wade-vs-coons                 0.174      Coons  \n",
       "2014-georgia-senate-perdue-vs-nunn                 0.017     Perdue  \n",
       "2014-hawaii-senate-cavasso-vs-schatz               0.404     Schatz  \n",
       "2014-idaho-senate-risch-vs-mitchell                0.298      Risch  \n",
       "2014-illinois-senate-oberweis-vs-durbin            0.124     Durbin  \n",
       "2014-iowa-senate-ernst-vs-braley                      -0      Ernst  \n",
       "2014-kansas-senate-roberts-vs-orman-vs-taylor      0.014    Roberts  \n",
       "2014-kentucky-senate-mcconnell-vs-grimes            0.03  McConnell  \n",
       "2014-louisiana-senate-cassidy-vs-landrieu          0.039    Cassidy  \n",
       "2014-maine-senate-collins-vs-bellows               0.324    Collins  \n",
       "2014-massachusetts-senate-herr-vs-markey           0.225     Markey  \n",
       "2014-michigan-senate-land-vs-peters                0.056     Peters  \n",
       "2014-minnesota-senate-mcfadden-vs-franken          0.108    Franken  \n",
       "2014-mississippi-senate-cochran-vs-childers        0.155    Cochran  \n",
       "2014-montana-senate-daines-vs-curtis               0.171     Daines  \n",
       "2014-nebraska-senate-sasse-vs-domina               0.245      Sasse  \n",
       "2014-new-hampshire-senate-bass-vs-shaheen          0.153    Shaheen  \n",
       "2014-new-hampshire-senate-brown-vs-shaheen         0.054    Shaheen  \n",
       "2014-new-jersey-senate-bell-vs-booker              0.137     Booker  \n",
       "2014-new-mexico-senate-weh-vs-udall                0.146      Udall  \n",
       "2014-north-carolina-senate-tillis-vs-hagan         0.026      Hagan  \n",
       "2014-oklahoma-senate-inhofe-vs-silverstein          0.32     Inhofe  \n",
       "2014-oklahoma-senate-lankford-vs-johnson           0.311   Lankford  \n",
       "2014-oregon-senate-wehby-vs-merkley                0.133    Merkley  \n",
       "2014-rhode-island-senate-zaccaria-vs-reed          0.355       Reed  \n",
       "2014-south-carolina-senate-graham-vs-hutto          0.15     Graham  \n",
       "2014-south-carolina-senate-scott-vs-dickerson      0.215      Scott  \n",
       "2014-south-dakota-senate-rounds-vs-weiland          0.13     Rounds  \n",
       "2014-tennessee-senate-alexander-vs-ball             0.19  Alexander  \n",
       "2014-texas-senate-cornyn-vs-alameel                0.191     Cornyn  \n",
       "2014-virginia-senate-gillespie-vs-warner           0.155     Warner  \n",
       "2014-west-virginia-senate-capito-vs-tennant        0.141     Capito  \n",
       "2014-wyoming-senate                                0.448       Enzi  "
      ]
     },
     "execution_count": 131,
     "metadata": {},
     "output_type": "execute_result"
    }
   ],
   "source": [
    "#your code here\n",
    "x = {}\n",
    "for keys in dfs:\n",
    "    dat = dfs[keys]\n",
    "    candidate1 = dat.columns[7] \n",
    "    candidate2 = dat.columns[8] \n",
    "    dat.Diff = (dat[candidate1]/100) - (dat[candidate2]/100)\n",
    "    x[keys] = [candidate1, candidate2, np.round(np.mean(dat.Diff), 3)]\n",
    "\n",
    "predictions = pd.DataFrame(x).T  \n",
    "predictions.columns = ['Candidate1', 'Candidate2', 'Difference']\n",
    "predictions['Winner'] = np.where(predictions.Difference >=0, \n",
    "                                 predictions.Candidate1, predictions.Candidate2)\n",
    "predictions"
   ]
  },
  {
   "cell_type": "markdown",
   "metadata": {},
   "source": [
    "# Submission Instructions\n",
    "\n",
    "To submit your homework, create a folder named **lastname_firstinitial_hw#** and place your IPython notebooks, data files, and any other files in this folder. Your IPython Notebooks should be completely executed with the results visible in the notebook. We should not have to run any code.  Compress the folder (please use .zip compression) and submit to the CS109 dropbox in the appropriate folder. *If we cannot access your work because these directions are not followed correctly, we will not grade your work.*\n"
   ]
  },
  {
   "cell_type": "code",
   "execution_count": 120,
   "metadata": {
    "collapsed": false
   },
   "outputs": [],
   "source": []
  }
 ],
 "metadata": {
  "kernelspec": {
   "display_name": "Python 2",
   "language": "python",
   "name": "python2"
  },
  "language_info": {
   "codemirror_mode": {
    "name": "ipython",
    "version": 2
   },
   "file_extension": ".py",
   "mimetype": "text/x-python",
   "name": "python",
   "nbconvert_exporter": "python",
   "pygments_lexer": "ipython2",
   "version": "2.7.10"
  }
 },
 "nbformat": 4,
 "nbformat_minor": 0
}
