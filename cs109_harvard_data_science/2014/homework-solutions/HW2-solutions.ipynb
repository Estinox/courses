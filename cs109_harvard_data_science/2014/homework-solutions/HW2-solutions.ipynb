{
 "cells": [
  {
   "cell_type": "markdown",
   "metadata": {},
   "source": [
    "# Homework 2: More Exploratory Data Analysis\n",
    "## Gene Expression Data and Election Polls \n",
    "\n",
    "Due: Thursday, October 2, 2014 11:59 PM\n",
    "\n",
    "<a href=https://raw.githubusercontent.com/cs109/2014/master/homework/HW2.ipynb download=HW2.ipynb> Download this assignment</a>\n",
    "\n",
    "#### Submission Instructions\n",
    "To submit your homework, create a folder named lastname_firstinitial_hw# and place your IPython notebooks, data files, and any other files in this folder. Your IPython Notebooks should be completely executed with the results visible in the notebook. We should not have to run any code. Compress the folder (please use .zip compression) and submit to the CS109 dropbox in the appropriate folder. If we cannot access your work because these directions are not followed correctly, we will not grade your work.\n",
    "\n",
    "\n",
    "---\n"
   ]
  },
  {
   "cell_type": "markdown",
   "metadata": {},
   "source": [
    "## Introduction\n",
    "\n",
    "John Tukey wrote in [Exploratory Data Analysis, 1977](http://www.amazon.com/Exploratory-Data-Analysis-Wilder-Tukey/dp/0201076160/ref=pd_bbs_sr_2/103-4466654-5303007?ie=UTF8&s=books&qid=1189739816&sr=8-2): \"The greatest value of a picture is when it forces us to notice what we never expected to see.\" In this assignment we will continue using our exploratory data analysis tools, but apply it to new sets of data: [gene expression](http://en.wikipedia.org/wiki/Gene_expression) and polls from the [2012 Presidental Election](http://en.wikipedia.org/wiki/United_States_presidential_election,_2012) and from the [2014 Senate Midterm Elections](http://en.wikipedia.org/wiki/United_States_Senate_elections,_2014).   \n",
    "\n",
    "**First**: You will use exploratory data analysis and apply the [singular value decomposition](http://en.wikipedia.org/wiki/Singular_value_decomposition) (SVD) to a gene expression data matrix to determine if the the date that the gene expression samples are processed has large effect on the variability seen in the data.  \n",
    "\n",
    "**Second**: You will use the polls from the 2012 Presidential Elections to determine (1) Is there a pollster bias in presidential election polls? and (2) Is the average of polls better than just one poll?\n",
    "\n",
    "**Finally**: You will use the [HuffPost Pollster API](http://elections.huffingtonpost.com/pollster/api) to extract the polls for the current 2014 Senate Midterm Elections and provide a preliminary prediction of the result of each state.\n",
    "\n",
    "#### Data\n",
    "\n",
    "We will use the following data sets: \n",
    "\n",
    "1. A gene expression data set called `exprs_GSE5859.csv` and sample annotation table called `sampleinfo_GSE5859.csv` which are both available on Github in the 2014_data repository: [expression data set](https://github.com/cs109/2014_data/blob/master/exprs_GSE5859.csv) and [sample annotation table](https://github.com/cs109/2014_data/blob/master/sampleinfo_GSE5859.csv).  \n",
    "\n",
    "2. Polls from the [2012 Presidential Election: Barack Obama vs Mitt Romney](http://elections.huffingtonpost.com/pollster/2012-general-election-romney-vs-obama). The polls we will use are from the [Huffington Post Pollster](http://elections.huffingtonpost.com/pollster).  \n",
    "\n",
    "3. Polls from the [2014 Senate Midterm Elections](http://elections.huffingtonpost.com/pollster) from the [HuffPost Pollster API](http://elections.huffingtonpost.com/pollster/api). \n",
    "\n",
    "---"
   ]
  },
  {
   "cell_type": "markdown",
   "metadata": {},
   "source": [
    "## Load Python modules"
   ]
  },
  {
   "cell_type": "code",
   "execution_count": 1,
   "metadata": {
    "collapsed": false
   },
   "outputs": [],
   "source": [
    "# special IPython command to prepare the notebook for matplotlib\n",
    "%matplotlib inline \n",
    "\n",
    "import requests \n",
<<<<<<< HEAD
    "from StringIO import StringIO\n",
=======
    "#from StringIO import StringIO\n",
    "import io\n",
>>>>>>> 78f754b2a7dcc64bee2906766889a9cea64d03b3
    "import numpy as np\n",
    "import pandas as pd # pandas\n",
    "import matplotlib.pyplot as plt # module for plotting \n",
    "import datetime as dt # module for manipulating dates and times\n",
    "import numpy.linalg as lin # module for performing linear algebra operations"
   ]
  },
  {
   "cell_type": "code",
   "execution_count": 2,
   "metadata": {
    "collapsed": false
   },
   "outputs": [
    {
     "name": "stderr",
     "output_type": "stream",
     "text": [
<<<<<<< HEAD
      "/usr/local/lib/python2.7/site-packages/matplotlib/__init__.py:872: UserWarning: axes.color_cycle is deprecated and replaced with axes.prop_cycle; please use the latter.\n",
      "  warnings.warn(self.msg_depr % (key, alt_key))\n"
     ]
    }
   ],
   "source": [
    "# special matplotlib argument for improved plots\n",
    "from matplotlib import rcParams\n",
    "\n",
    "#colorbrewer2 Dark2 qualitative color table\n",
    "dark2_colors = [(0.10588235294117647, 0.6196078431372549, 0.4666666666666667),\n",
    "                (0.8509803921568627, 0.37254901960784315, 0.00784313725490196),\n",
    "                (0.4588235294117647, 0.4392156862745098, 0.7019607843137254),\n",
    "                (0.9058823529411765, 0.1607843137254902, 0.5411764705882353),\n",
    "                (0.4, 0.6509803921568628, 0.11764705882352941),\n",
    "                (0.9019607843137255, 0.6705882352941176, 0.00784313725490196),\n",
    "                (0.6509803921568628, 0.4627450980392157, 0.11372549019607843)]\n",
    "\n",
    "rcParams['figure.figsize'] = (10, 6)\n",
    "rcParams['figure.dpi'] = 150\n",
    "rcParams['axes.color_cycle'] = dark2_colors\n",
    "rcParams['lines.linewidth'] = 2\n",
    "rcParams['axes.facecolor'] = 'white'\n",
    "rcParams['font.size'] = 14\n",
    "rcParams['patch.edgecolor'] = 'white'\n",
    "rcParams['patch.facecolor'] = dark2_colors[0]\n",
    "rcParams['font.family'] = 'StixGeneral'"
   ]
  },
  {
   "cell_type": "markdown",
   "metadata": {},
   "source": [
    "## Problem 1\n",
    "\n",
    "In this problem we will be using a [gene expression](http://en.wikipedia.org/wiki/Gene_expression) data set obtained from a [microarray](http://en.wikipedia.org/wiki/DNA_microarray) experiement [Read more about the specific experiment here](http://www.ncbi.nlm.nih.gov/geo/query/acc.cgi?acc=GSE5859).  There are two data sets we will use:  \n",
    "\n",
    "1. The gene expression intensities where the rows represent the features on the microarray (e.g. genes) and the columsns represent the different microarray samples.  \n",
    "\n",
    "2. A table that contains the information about each of the samples (columns in the gene expression data set) such as the sex, the age, the treatment status, the date the samples were processed.  Each row represents one sample. "
   ]
  },
  {
   "cell_type": "markdown",
   "metadata": {},
   "source": [
    "#### Problem 1(a) "
   ]
  },
  {
   "cell_type": "markdown",
   "metadata": {},
   "source": [
    "Read in the two files from Github: [exprs_GSE5859.csv](https://github.com/cs109/2014_data/blob/master/exprs_GSE5859.csv) and [sampleinfo_GSE5859.csv](https://github.com/cs109/2014_data/blob/master/sampleinfo_GSE5859.csv) as pandas DataFrames called `exprs` and `sampleinfo`. Use the gene names as the index of the `exprs` DataFrame."
   ]
  },
  {
   "cell_type": "code",
   "execution_count": 3,
   "metadata": {
    "collapsed": false
   },
   "outputs": [],
   "source": [
    "#your code here\n",
    "url_exprs = \"https://raw.githubusercontent.com/cs109/2014_data/master/exprs_GSE5859.csv\"\n",
    "exprs = pd.read_csv(url_exprs, index_col=0)\n",
    "\n",
    "url_sampleinfo = \"https://raw.githubusercontent.com/cs109/2014_data/master/sampleinfo_GSE5859.csv\"\n",
    "sampleinfo = pd.read_csv(url_sampleinfo)"
   ]
  },
  {
   "cell_type": "markdown",
   "metadata": {},
   "source": [
    "Make sure the order of the columns in the gene expression DataFrame match the order of file names in the sample annotation DataFrame. If the order of the columns the `exprs` DataFrame do not match the order of the file names in the `sampleinfo` DataFrame, reorder the columns in the `exprs` DataFrame. \n",
    "\n",
    "**Note**: The column names of the gene expression DataFrame are the filenames of the orignal files from which these data were obtained.  \n",
    "\n",
    "**Hint**: The method `list.index(x)` [[read here](https://docs.python.org/2/tutorial/datastructures.html)] can be used to return the index in the list of the first item whose value is x. It is an error if there is no such item. To check if the order of the columns in `exprs` matches the order of the rows in `sampleinfo`, you can check using the method `.all()` on a Boolean or list of Booleans: \n",
    "\n",
    "Example code: `(exprs.columns == sampleinfo.filename).all()`"
   ]
  },
  {
   "cell_type": "markdown",
   "metadata": {},
   "source": [
    "First, let's check if order of the columns in the `exprs` DataFrame match the order of the `filename` in the `sampleinfo` DataFrame using the `==` Boolean operator. "
   ]
  },
  {
   "cell_type": "code",
   "execution_count": 4,
   "metadata": {
    "collapsed": false
   },
   "outputs": [
    {
     "data": {
      "text/plain": [
       "False"
      ]
     },
     "execution_count": 4,
     "metadata": {},
     "output_type": "execute_result"
    }
   ],
   "source": [
    "(exprs.columns == sampleinfo.filename).all()"
   ]
  },
  {
   "cell_type": "markdown",
   "metadata": {},
   "source": [
    "Now we know the columns in the `exprs` DataFrame are out of order compared to the order of the rows in the `sampleinfo` DataFrame.  To check if there are any columns in the correct order, we can test for which columns are equal to the `filename` in the `sampleinfo` DataFrame.  "
   ]
  },
  {
   "cell_type": "code",
   "execution_count": 5,
   "metadata": {
    "collapsed": false
   },
   "outputs": [
    {
     "data": {
      "text/html": [
       "<div>\n",
       "<table border=\"1\" class=\"dataframe\">\n",
       "  <thead>\n",
       "    <tr style=\"text-align: right;\">\n",
       "      <th></th>\n",
       "      <th>ethnicity</th>\n",
       "      <th>date</th>\n",
       "      <th>filename</th>\n",
       "      <th>sex</th>\n",
       "    </tr>\n",
       "  </thead>\n",
       "  <tbody>\n",
       "    <tr>\n",
       "      <th>23</th>\n",
       "      <td>CEU</td>\n",
       "      <td>2002-11-21</td>\n",
       "      <td>GSM25482.CEL.gz</td>\n",
       "      <td>F</td>\n",
       "    </tr>\n",
       "  </tbody>\n",
       "</table>\n",
       "</div>"
      ],
      "text/plain": [
       "   ethnicity        date         filename sex\n",
       "23       CEU  2002-11-21  GSM25482.CEL.gz   F"
      ]
     },
     "execution_count": 5,
     "metadata": {},
     "output_type": "execute_result"
    }
   ],
   "source": [
    "sampleinfo[exprs.columns == sampleinfo.filename]"
   ]
  },
  {
   "cell_type": "markdown",
   "metadata": {},
   "source": [
    "Now, we want to re-order the columns in the `exprs` DataFrame to match the order of the file names in the `sampleinfo` DataFrame. One way of doing this is to use the `list.index()` method.  First, we convert the file names in `sampleinfo` and the column names of `exprs` and to two lists: `a` and `b`. Then, we use a list comprehension to iterate through each element in `a` and return the index in `b` that matches using the `list.index()` method.  Once we know all the indexes, we can re-order `exprs` so that the columns match the same order as the `filenames` in `sampleinfo`. "
   ]
  },
  {
   "cell_type": "code",
   "execution_count": 6,
   "metadata": {
    "collapsed": false
   },
   "outputs": [
    {
     "data": {
      "text/plain": [
       "True"
      ]
     },
     "execution_count": 6,
     "metadata": {},
     "output_type": "execute_result"
    }
   ],
   "source": [
    "#your code here\n",
    "a = list(sampleinfo.filename)\n",
    "b = list(exprs.columns)\n",
    "matchIndex = [b.index(x) for x in a]\n",
    "exprs = exprs[matchIndex]\n",
    "\n",
    "# check if all the column names match the file names in sampleinfo\n",
    "(exprs.columns == sampleinfo.filename).all()"
   ]
  },
  {
   "cell_type": "markdown",
   "metadata": {},
   "source": [
    "Show the head of the two tables: `exprs` and `sampleinfo`. "
   ]
  },
  {
   "cell_type": "code",
   "execution_count": 7,
   "metadata": {
    "collapsed": false
   },
   "outputs": [
    {
     "data": {
      "text/html": [
       "<div>\n",
       "<table border=\"1\" class=\"dataframe\">\n",
       "  <thead>\n",
       "    <tr style=\"text-align: right;\">\n",
       "      <th></th>\n",
       "      <th>GSM25349.CEL.gz</th>\n",
       "      <th>GSM25350.CEL.gz</th>\n",
       "      <th>GSM25356.CEL.gz</th>\n",
       "      <th>GSM25357.CEL.gz</th>\n",
       "      <th>GSM25358.CEL.gz</th>\n",
       "      <th>GSM25359.CEL.gz</th>\n",
       "      <th>GSM25360.CEL.gz</th>\n",
       "      <th>GSM25361.CEL.gz</th>\n",
       "      <th>GSM25377.CEL.gz</th>\n",
       "      <th>GSM25378.CEL.gz</th>\n",
       "      <th>...</th>\n",
       "      <th>GSM136719.CEL.gz</th>\n",
       "      <th>GSM136720.CEL.gz</th>\n",
       "      <th>GSM136721.CEL.gz</th>\n",
       "      <th>GSM136722.CEL.gz</th>\n",
       "      <th>GSM136723.CEL.gz</th>\n",
       "      <th>GSM136724.CEL.gz</th>\n",
       "      <th>GSM136725.CEL.gz</th>\n",
       "      <th>GSM136726.CEL.gz</th>\n",
       "      <th>GSM136727.CEL.gz</th>\n",
       "      <th>GSM136729.CEL.gz</th>\n",
       "    </tr>\n",
       "  </thead>\n",
       "  <tbody>\n",
       "    <tr>\n",
       "      <th>1007_s_at</th>\n",
       "      <td>6.627014</td>\n",
       "      <td>6.249807</td>\n",
       "      <td>5.934128</td>\n",
       "      <td>6.145268</td>\n",
       "      <td>6.091270</td>\n",
       "      <td>6.041186</td>\n",
       "      <td>6.050375</td>\n",
       "      <td>6.063847</td>\n",
       "      <td>6.226106</td>\n",
       "      <td>6.358282</td>\n",
       "      <td>...</td>\n",
       "      <td>6.466445</td>\n",
       "      <td>6.533592</td>\n",
       "      <td>6.631492</td>\n",
       "      <td>6.513362</td>\n",
       "      <td>6.440706</td>\n",
       "      <td>6.704324</td>\n",
       "      <td>6.488579</td>\n",
       "      <td>6.809481</td>\n",
       "      <td>6.133068</td>\n",
       "      <td>6.155473</td>\n",
       "    </tr>\n",
       "    <tr>\n",
       "      <th>1053_at</th>\n",
       "      <td>6.939184</td>\n",
       "      <td>6.818038</td>\n",
       "      <td>7.047962</td>\n",
       "      <td>7.422477</td>\n",
       "      <td>7.272361</td>\n",
       "      <td>7.128216</td>\n",
       "      <td>6.750719</td>\n",
       "      <td>6.836287</td>\n",
       "      <td>6.738022</td>\n",
       "      <td>7.367895</td>\n",
       "      <td>...</td>\n",
       "      <td>7.032885</td>\n",
       "      <td>7.156344</td>\n",
       "      <td>7.018025</td>\n",
       "      <td>6.973322</td>\n",
       "      <td>6.884738</td>\n",
       "      <td>7.120898</td>\n",
       "      <td>7.517410</td>\n",
       "      <td>7.200596</td>\n",
       "      <td>7.280781</td>\n",
       "      <td>7.111583</td>\n",
       "    </tr>\n",
       "    <tr>\n",
       "      <th>117_at</th>\n",
       "      <td>5.113570</td>\n",
       "      <td>5.074096</td>\n",
       "      <td>5.371201</td>\n",
       "      <td>5.266550</td>\n",
       "      <td>5.342047</td>\n",
       "      <td>5.063876</td>\n",
       "      <td>5.315898</td>\n",
       "      <td>5.483652</td>\n",
       "      <td>6.689444</td>\n",
       "      <td>6.482782</td>\n",
       "      <td>...</td>\n",
       "      <td>5.661112</td>\n",
       "      <td>5.127260</td>\n",
       "      <td>5.151840</td>\n",
       "      <td>5.505602</td>\n",
       "      <td>5.687689</td>\n",
       "      <td>4.942651</td>\n",
       "      <td>5.247190</td>\n",
       "      <td>5.237239</td>\n",
       "      <td>5.401876</td>\n",
       "      <td>5.302628</td>\n",
       "    </tr>\n",
       "    <tr>\n",
       "      <th>121_at</th>\n",
       "      <td>7.833862</td>\n",
       "      <td>7.780682</td>\n",
       "      <td>7.458197</td>\n",
       "      <td>7.655948</td>\n",
       "      <td>7.546555</td>\n",
       "      <td>7.072670</td>\n",
       "      <td>7.092984</td>\n",
       "      <td>6.954225</td>\n",
       "      <td>7.489785</td>\n",
       "      <td>7.388539</td>\n",
       "      <td>...</td>\n",
       "      <td>7.769734</td>\n",
       "      <td>7.815864</td>\n",
       "      <td>7.683279</td>\n",
       "      <td>7.883231</td>\n",
       "      <td>7.913621</td>\n",
       "      <td>7.834196</td>\n",
       "      <td>7.331864</td>\n",
       "      <td>7.357102</td>\n",
       "      <td>7.607461</td>\n",
       "      <td>7.456453</td>\n",
       "    </tr>\n",
       "    <tr>\n",
       "      <th>1255_g_at</th>\n",
       "      <td>3.152269</td>\n",
       "      <td>3.111747</td>\n",
       "      <td>3.018932</td>\n",
       "      <td>3.154545</td>\n",
       "      <td>3.107954</td>\n",
       "      <td>3.224284</td>\n",
       "      <td>3.114241</td>\n",
       "      <td>3.044975</td>\n",
       "      <td>3.304038</td>\n",
       "      <td>2.887919</td>\n",
       "      <td>...</td>\n",
       "      <td>3.257484</td>\n",
       "      <td>3.339234</td>\n",
       "      <td>3.298384</td>\n",
       "      <td>3.150654</td>\n",
       "      <td>3.344501</td>\n",
       "      <td>3.230285</td>\n",
       "      <td>3.175846</td>\n",
       "      <td>3.105092</td>\n",
       "      <td>3.225123</td>\n",
       "      <td>3.090149</td>\n",
       "    </tr>\n",
       "  </tbody>\n",
       "</table>\n",
       "<p>5 rows × 208 columns</p>\n",
       "</div>"
      ],
      "text/plain": [
       "           GSM25349.CEL.gz  GSM25350.CEL.gz  GSM25356.CEL.gz  GSM25357.CEL.gz  \\\n",
       "1007_s_at         6.627014         6.249807         5.934128         6.145268   \n",
       "1053_at           6.939184         6.818038         7.047962         7.422477   \n",
       "117_at            5.113570         5.074096         5.371201         5.266550   \n",
       "121_at            7.833862         7.780682         7.458197         7.655948   \n",
       "1255_g_at         3.152269         3.111747         3.018932         3.154545   \n",
       "\n",
       "           GSM25358.CEL.gz  GSM25359.CEL.gz  GSM25360.CEL.gz  GSM25361.CEL.gz  \\\n",
       "1007_s_at         6.091270         6.041186         6.050375         6.063847   \n",
       "1053_at           7.272361         7.128216         6.750719         6.836287   \n",
       "117_at            5.342047         5.063876         5.315898         5.483652   \n",
       "121_at            7.546555         7.072670         7.092984         6.954225   \n",
       "1255_g_at         3.107954         3.224284         3.114241         3.044975   \n",
       "\n",
       "           GSM25377.CEL.gz  GSM25378.CEL.gz        ...         \\\n",
       "1007_s_at         6.226106         6.358282        ...          \n",
       "1053_at           6.738022         7.367895        ...          \n",
       "117_at            6.689444         6.482782        ...          \n",
       "121_at            7.489785         7.388539        ...          \n",
       "1255_g_at         3.304038         2.887919        ...          \n",
       "\n",
       "           GSM136719.CEL.gz  GSM136720.CEL.gz  GSM136721.CEL.gz  \\\n",
       "1007_s_at          6.466445          6.533592          6.631492   \n",
       "1053_at            7.032885          7.156344          7.018025   \n",
       "117_at             5.661112          5.127260          5.151840   \n",
       "121_at             7.769734          7.815864          7.683279   \n",
       "1255_g_at          3.257484          3.339234          3.298384   \n",
       "\n",
       "           GSM136722.CEL.gz  GSM136723.CEL.gz  GSM136724.CEL.gz  \\\n",
       "1007_s_at          6.513362          6.440706          6.704324   \n",
       "1053_at            6.973322          6.884738          7.120898   \n",
       "117_at             5.505602          5.687689          4.942651   \n",
       "121_at             7.883231          7.913621          7.834196   \n",
       "1255_g_at          3.150654          3.344501          3.230285   \n",
       "\n",
       "           GSM136725.CEL.gz  GSM136726.CEL.gz  GSM136727.CEL.gz  \\\n",
       "1007_s_at          6.488579          6.809481          6.133068   \n",
       "1053_at            7.517410          7.200596          7.280781   \n",
       "117_at             5.247190          5.237239          5.401876   \n",
       "121_at             7.331864          7.357102          7.607461   \n",
       "1255_g_at          3.175846          3.105092          3.225123   \n",
       "\n",
       "           GSM136729.CEL.gz  \n",
       "1007_s_at          6.155473  \n",
       "1053_at            7.111583  \n",
       "117_at             5.302628  \n",
       "121_at             7.456453  \n",
       "1255_g_at          3.090149  \n",
       "\n",
       "[5 rows x 208 columns]"
      ]
     },
     "execution_count": 7,
     "metadata": {},
     "output_type": "execute_result"
    }
   ],
   "source": [
    "exprs.head()"
   ]
  },
  {
   "cell_type": "code",
   "execution_count": 8,
   "metadata": {
    "collapsed": false
   },
   "outputs": [
    {
     "data": {
      "text/html": [
       "<div>\n",
       "<table border=\"1\" class=\"dataframe\">\n",
       "  <thead>\n",
       "    <tr style=\"text-align: right;\">\n",
       "      <th></th>\n",
       "      <th>ethnicity</th>\n",
       "      <th>date</th>\n",
       "      <th>filename</th>\n",
       "      <th>sex</th>\n",
       "    </tr>\n",
       "  </thead>\n",
       "  <tbody>\n",
       "    <tr>\n",
       "      <th>0</th>\n",
       "      <td>CEU</td>\n",
       "      <td>2003-02-04</td>\n",
       "      <td>GSM25349.CEL.gz</td>\n",
       "      <td>M</td>\n",
       "    </tr>\n",
       "    <tr>\n",
       "      <th>1</th>\n",
       "      <td>CEU</td>\n",
       "      <td>2003-02-04</td>\n",
       "      <td>GSM25350.CEL.gz</td>\n",
       "      <td>M</td>\n",
       "    </tr>\n",
       "    <tr>\n",
       "      <th>2</th>\n",
       "      <td>CEU</td>\n",
       "      <td>2002-12-17</td>\n",
       "      <td>GSM25356.CEL.gz</td>\n",
       "      <td>M</td>\n",
       "    </tr>\n",
       "    <tr>\n",
       "      <th>3</th>\n",
       "      <td>CEU</td>\n",
       "      <td>2003-01-30</td>\n",
       "      <td>GSM25357.CEL.gz</td>\n",
       "      <td>M</td>\n",
       "    </tr>\n",
       "    <tr>\n",
       "      <th>4</th>\n",
       "      <td>CEU</td>\n",
       "      <td>2003-01-03</td>\n",
       "      <td>GSM25358.CEL.gz</td>\n",
       "      <td>M</td>\n",
       "    </tr>\n",
       "  </tbody>\n",
       "</table>\n",
       "</div>"
      ],
      "text/plain": [
       "  ethnicity        date         filename sex\n",
       "0       CEU  2003-02-04  GSM25349.CEL.gz   M\n",
       "1       CEU  2003-02-04  GSM25350.CEL.gz   M\n",
       "2       CEU  2002-12-17  GSM25356.CEL.gz   M\n",
       "3       CEU  2003-01-30  GSM25357.CEL.gz   M\n",
       "4       CEU  2003-01-03  GSM25358.CEL.gz   M"
      ]
     },
     "execution_count": 8,
     "metadata": {},
     "output_type": "execute_result"
    }
   ],
   "source": [
    "sampleinfo.head()"
   ]
  },
  {
   "cell_type": "markdown",
   "metadata": {},
   "source": [
    "#### Problem 1(b)\n",
    "\n",
    "Extract the year and month as integers from the `sampleinfo` table. \n",
    "\n",
    "**Hint**: To convert a Series or a column of a pandas DataFrame that contains a date-like object, you can use the `to_datetime` function [[read here](http://pandas.pydata.org/pandas-docs/stable/timeseries.html)].  This will create a `DatetimeIndex` which can be used to extract the month and year for each row in the DataFrame. "
   ]
  },
  {
   "cell_type": "code",
   "execution_count": 9,
   "metadata": {
    "collapsed": false
   },
   "outputs": [],
   "source": [
    "#your code here\n",
    "sampleinfo[\"date\"] = pd.to_datetime(sampleinfo.date)\n",
    "sampleinfo[\"month\"] = map(lambda x: x.month, sampleinfo.date)\n",
    "sampleinfo[\"year\"] = map(lambda x: x.year, sampleinfo.date)"
   ]
  },
  {
   "cell_type": "markdown",
   "metadata": {},
   "source": [
    "#### Problem 1(c)\n",
    "\n",
    "Convert the dates in the `date` column from the `sampleinfo` table into days since October 31, 2002. Add a column to the `sampleinfo` DataFrame titled `elapsedInDays` containing the days since October 31, 2002.  Show the head of the `sampleinfo` DataFrame which includes the new column.  \n",
    "\n",
    "**Hint**: Use the `datetime` module to create a new `datetime` object for the specific date October 31, 2002. Then, subtract the October 31, 2002 date from each date from the `date` column in the `sampleinfo` DataFrame. "
   ]
  },
  {
   "cell_type": "code",
   "execution_count": 10,
   "metadata": {
    "collapsed": false
   },
   "outputs": [
    {
     "data": {
      "text/plain": [
       "datetime.datetime(2002, 10, 31, 0, 0)"
      ]
     },
     "execution_count": 10,
     "metadata": {},
     "output_type": "execute_result"
    }
   ],
   "source": [
    "#your code here\n",
    "oct31 = dt.datetime(2002,10,31,0,0)\n",
    "oct31"
   ]
  },
  {
   "cell_type": "code",
   "execution_count": 11,
   "metadata": {
    "collapsed": false
   },
   "outputs": [
    {
     "data": {
      "text/html": [
       "<div>\n",
       "<table border=\"1\" class=\"dataframe\">\n",
       "  <thead>\n",
       "    <tr style=\"text-align: right;\">\n",
       "      <th></th>\n",
       "      <th>ethnicity</th>\n",
       "      <th>date</th>\n",
       "      <th>filename</th>\n",
       "      <th>sex</th>\n",
       "      <th>month</th>\n",
       "      <th>year</th>\n",
       "      <th>elapsedInDays</th>\n",
       "    </tr>\n",
       "  </thead>\n",
       "  <tbody>\n",
       "    <tr>\n",
       "      <th>0</th>\n",
       "      <td>CEU</td>\n",
       "      <td>2003-02-04</td>\n",
       "      <td>GSM25349.CEL.gz</td>\n",
       "      <td>M</td>\n",
       "      <td>2</td>\n",
       "      <td>2003</td>\n",
       "      <td>96</td>\n",
       "    </tr>\n",
       "    <tr>\n",
       "      <th>1</th>\n",
       "      <td>CEU</td>\n",
       "      <td>2003-02-04</td>\n",
       "      <td>GSM25350.CEL.gz</td>\n",
       "      <td>M</td>\n",
       "      <td>2</td>\n",
       "      <td>2003</td>\n",
       "      <td>96</td>\n",
       "    </tr>\n",
       "    <tr>\n",
       "      <th>2</th>\n",
       "      <td>CEU</td>\n",
       "      <td>2002-12-17</td>\n",
       "      <td>GSM25356.CEL.gz</td>\n",
       "      <td>M</td>\n",
       "      <td>12</td>\n",
       "      <td>2002</td>\n",
       "      <td>47</td>\n",
       "    </tr>\n",
       "    <tr>\n",
       "      <th>3</th>\n",
       "      <td>CEU</td>\n",
       "      <td>2003-01-30</td>\n",
       "      <td>GSM25357.CEL.gz</td>\n",
       "      <td>M</td>\n",
       "      <td>1</td>\n",
       "      <td>2003</td>\n",
       "      <td>91</td>\n",
       "    </tr>\n",
       "    <tr>\n",
       "      <th>4</th>\n",
       "      <td>CEU</td>\n",
       "      <td>2003-01-03</td>\n",
       "      <td>GSM25358.CEL.gz</td>\n",
       "      <td>M</td>\n",
       "      <td>1</td>\n",
       "      <td>2003</td>\n",
       "      <td>64</td>\n",
       "    </tr>\n",
       "  </tbody>\n",
       "</table>\n",
       "</div>"
      ],
      "text/plain": [
       "  ethnicity       date         filename sex  month  year  elapsedInDays\n",
       "0       CEU 2003-02-04  GSM25349.CEL.gz   M      2  2003             96\n",
       "1       CEU 2003-02-04  GSM25350.CEL.gz   M      2  2003             96\n",
       "2       CEU 2002-12-17  GSM25356.CEL.gz   M     12  2002             47\n",
       "3       CEU 2003-01-30  GSM25357.CEL.gz   M      1  2003             91\n",
       "4       CEU 2003-01-03  GSM25358.CEL.gz   M      1  2003             64"
      ]
     },
     "execution_count": 11,
     "metadata": {},
     "output_type": "execute_result"
    }
   ],
   "source": [
    "sampleinfo[\"elapsedInDays\"] = map(lambda x: (x - oct31).days, sampleinfo.date)\n",
    "sampleinfo.head()"
   ]
  },
  {
   "cell_type": "markdown",
   "metadata": {},
   "source": [
    "#### Problem 1(d)\n",
    "\n",
    "Use exploratory analysis and the singular value decomposition (SVD) of the gene expression data matrix to determine if the date the samples were processed has large effect on the variability seen in the data or if it is just ethnicity (which is confounded with date).\n",
    "\n",
    "**Hint**: See the end of the [lecture from 9/23/2014 for help with SVD](http://nbviewer.ipython.org/github/cs109/2014/blob/master/lectures/lecture07/data_scraping_transcript.ipynb). \n",
    "\n",
    "First subset the the `sampleinfo` DataFrame to include only the CEU ethnicity.  Call this new subsetted DataFrame `sampleinfoCEU`.  Show the head of `sampleinfoCEU` DataFrame. "
   ]
  },
  {
   "cell_type": "code",
   "execution_count": 12,
   "metadata": {
    "collapsed": false
   },
   "outputs": [
    {
     "data": {
      "text/html": [
       "<div>\n",
       "<table border=\"1\" class=\"dataframe\">\n",
       "  <thead>\n",
       "    <tr style=\"text-align: right;\">\n",
       "      <th></th>\n",
       "      <th>ethnicity</th>\n",
       "      <th>date</th>\n",
       "      <th>filename</th>\n",
       "      <th>sex</th>\n",
       "      <th>month</th>\n",
       "      <th>year</th>\n",
       "      <th>elapsedInDays</th>\n",
       "    </tr>\n",
       "  </thead>\n",
       "  <tbody>\n",
       "    <tr>\n",
       "      <th>0</th>\n",
       "      <td>CEU</td>\n",
       "      <td>2003-02-04</td>\n",
       "      <td>GSM25349.CEL.gz</td>\n",
       "      <td>M</td>\n",
       "      <td>2</td>\n",
       "      <td>2003</td>\n",
       "      <td>96</td>\n",
       "    </tr>\n",
       "    <tr>\n",
       "      <th>1</th>\n",
       "      <td>CEU</td>\n",
       "      <td>2003-02-04</td>\n",
       "      <td>GSM25350.CEL.gz</td>\n",
       "      <td>M</td>\n",
       "      <td>2</td>\n",
       "      <td>2003</td>\n",
       "      <td>96</td>\n",
       "    </tr>\n",
       "    <tr>\n",
       "      <th>2</th>\n",
       "      <td>CEU</td>\n",
       "      <td>2002-12-17</td>\n",
       "      <td>GSM25356.CEL.gz</td>\n",
       "      <td>M</td>\n",
       "      <td>12</td>\n",
       "      <td>2002</td>\n",
       "      <td>47</td>\n",
       "    </tr>\n",
       "    <tr>\n",
       "      <th>3</th>\n",
       "      <td>CEU</td>\n",
       "      <td>2003-01-30</td>\n",
       "      <td>GSM25357.CEL.gz</td>\n",
       "      <td>M</td>\n",
       "      <td>1</td>\n",
       "      <td>2003</td>\n",
       "      <td>91</td>\n",
       "    </tr>\n",
       "    <tr>\n",
       "      <th>4</th>\n",
       "      <td>CEU</td>\n",
       "      <td>2003-01-03</td>\n",
       "      <td>GSM25358.CEL.gz</td>\n",
       "      <td>M</td>\n",
       "      <td>1</td>\n",
       "      <td>2003</td>\n",
       "      <td>64</td>\n",
       "    </tr>\n",
       "  </tbody>\n",
       "</table>\n",
       "</div>"
      ],
      "text/plain": [
       "  ethnicity       date         filename sex  month  year  elapsedInDays\n",
       "0       CEU 2003-02-04  GSM25349.CEL.gz   M      2  2003             96\n",
       "1       CEU 2003-02-04  GSM25350.CEL.gz   M      2  2003             96\n",
       "2       CEU 2002-12-17  GSM25356.CEL.gz   M     12  2002             47\n",
       "3       CEU 2003-01-30  GSM25357.CEL.gz   M      1  2003             91\n",
       "4       CEU 2003-01-03  GSM25358.CEL.gz   M      1  2003             64"
      ]
     },
     "execution_count": 12,
     "metadata": {},
     "output_type": "execute_result"
    }
   ],
   "source": [
    "#your code here\n",
    "sampleinfoCEU = sampleinfo[sampleinfo.ethnicity == \"CEU\"]\n",
    "sampleinfoCEU.head()"
   ]
  },
  {
   "cell_type": "markdown",
   "metadata": {},
   "source": [
    "Next, subset the `exprs` DataFrame to only include the samples with the CEU ethnicity. Name this new subsetted DataFrame `exprsCEU`. Show the head of the `exprsCEU` DataFrame. "
   ]
  },
  {
   "cell_type": "code",
   "execution_count": 13,
   "metadata": {
    "collapsed": false
   },
   "outputs": [
    {
     "data": {
      "text/html": [
       "<div>\n",
       "<table border=\"1\" class=\"dataframe\">\n",
       "  <thead>\n",
       "    <tr style=\"text-align: right;\">\n",
       "      <th></th>\n",
       "      <th>GSM25349.CEL.gz</th>\n",
       "      <th>GSM25350.CEL.gz</th>\n",
       "      <th>GSM25356.CEL.gz</th>\n",
       "      <th>GSM25357.CEL.gz</th>\n",
       "      <th>GSM25358.CEL.gz</th>\n",
       "      <th>GSM25359.CEL.gz</th>\n",
       "      <th>GSM25360.CEL.gz</th>\n",
       "      <th>GSM25361.CEL.gz</th>\n",
       "      <th>GSM25377.CEL.gz</th>\n",
       "      <th>GSM25378.CEL.gz</th>\n",
       "      <th>...</th>\n",
       "      <th>GSM48658.CEL.gz</th>\n",
       "      <th>GSM48660.CEL.gz</th>\n",
       "      <th>GSM48661.CEL.gz</th>\n",
       "      <th>GSM48662.CEL.gz</th>\n",
       "      <th>GSM48663.CEL.gz</th>\n",
       "      <th>GSM48664.CEL.gz</th>\n",
       "      <th>GSM48665.CEL.gz</th>\n",
       "      <th>GSM136725.CEL.gz</th>\n",
       "      <th>GSM136726.CEL.gz</th>\n",
       "      <th>GSM136727.CEL.gz</th>\n",
       "    </tr>\n",
       "  </thead>\n",
       "  <tbody>\n",
       "    <tr>\n",
       "      <th>1007_s_at</th>\n",
       "      <td>6.627014</td>\n",
       "      <td>6.249807</td>\n",
       "      <td>5.934128</td>\n",
       "      <td>6.145268</td>\n",
       "      <td>6.091270</td>\n",
       "      <td>6.041186</td>\n",
       "      <td>6.050375</td>\n",
       "      <td>6.063847</td>\n",
       "      <td>6.226106</td>\n",
       "      <td>6.358282</td>\n",
       "      <td>...</td>\n",
       "      <td>6.501510</td>\n",
       "      <td>6.558100</td>\n",
       "      <td>6.618286</td>\n",
       "      <td>6.869995</td>\n",
       "      <td>5.981000</td>\n",
       "      <td>6.403285</td>\n",
       "      <td>6.248702</td>\n",
       "      <td>6.488579</td>\n",
       "      <td>6.809481</td>\n",
       "      <td>6.133068</td>\n",
       "    </tr>\n",
       "    <tr>\n",
       "      <th>1053_at</th>\n",
       "      <td>6.939184</td>\n",
       "      <td>6.818038</td>\n",
       "      <td>7.047962</td>\n",
       "      <td>7.422477</td>\n",
       "      <td>7.272361</td>\n",
       "      <td>7.128216</td>\n",
       "      <td>6.750719</td>\n",
       "      <td>6.836287</td>\n",
       "      <td>6.738022</td>\n",
       "      <td>7.367895</td>\n",
       "      <td>...</td>\n",
       "      <td>7.066686</td>\n",
       "      <td>7.386702</td>\n",
       "      <td>6.407958</td>\n",
       "      <td>7.089180</td>\n",
       "      <td>7.120923</td>\n",
       "      <td>7.018998</td>\n",
       "      <td>7.155419</td>\n",
       "      <td>7.517410</td>\n",
       "      <td>7.200596</td>\n",
       "      <td>7.280781</td>\n",
       "    </tr>\n",
       "    <tr>\n",
       "      <th>117_at</th>\n",
       "      <td>5.113570</td>\n",
       "      <td>5.074096</td>\n",
       "      <td>5.371201</td>\n",
       "      <td>5.266550</td>\n",
       "      <td>5.342047</td>\n",
       "      <td>5.063876</td>\n",
       "      <td>5.315898</td>\n",
       "      <td>5.483652</td>\n",
       "      <td>6.689444</td>\n",
       "      <td>6.482782</td>\n",
       "      <td>...</td>\n",
       "      <td>5.600514</td>\n",
       "      <td>5.232676</td>\n",
       "      <td>5.630720</td>\n",
       "      <td>4.944748</td>\n",
       "      <td>5.275577</td>\n",
       "      <td>5.770358</td>\n",
       "      <td>5.616842</td>\n",
       "      <td>5.247190</td>\n",
       "      <td>5.237239</td>\n",
       "      <td>5.401876</td>\n",
       "    </tr>\n",
       "    <tr>\n",
       "      <th>121_at</th>\n",
       "      <td>7.833862</td>\n",
       "      <td>7.780682</td>\n",
       "      <td>7.458197</td>\n",
       "      <td>7.655948</td>\n",
       "      <td>7.546555</td>\n",
       "      <td>7.072670</td>\n",
       "      <td>7.092984</td>\n",
       "      <td>6.954225</td>\n",
       "      <td>7.489785</td>\n",
       "      <td>7.388539</td>\n",
       "      <td>...</td>\n",
       "      <td>7.437535</td>\n",
       "      <td>7.714650</td>\n",
       "      <td>7.416252</td>\n",
       "      <td>7.746448</td>\n",
       "      <td>8.001434</td>\n",
       "      <td>7.626723</td>\n",
       "      <td>7.452299</td>\n",
       "      <td>7.331864</td>\n",
       "      <td>7.357102</td>\n",
       "      <td>7.607461</td>\n",
       "    </tr>\n",
       "    <tr>\n",
       "      <th>1255_g_at</th>\n",
       "      <td>3.152269</td>\n",
       "      <td>3.111747</td>\n",
       "      <td>3.018932</td>\n",
       "      <td>3.154545</td>\n",
       "      <td>3.107954</td>\n",
       "      <td>3.224284</td>\n",
       "      <td>3.114241</td>\n",
       "      <td>3.044975</td>\n",
       "      <td>3.304038</td>\n",
       "      <td>2.887919</td>\n",
       "      <td>...</td>\n",
       "      <td>3.009983</td>\n",
       "      <td>3.151203</td>\n",
       "      <td>3.199709</td>\n",
       "      <td>3.159496</td>\n",
       "      <td>3.149710</td>\n",
       "      <td>3.242780</td>\n",
       "      <td>3.433125</td>\n",
       "      <td>3.175846</td>\n",
       "      <td>3.105092</td>\n",
       "      <td>3.225123</td>\n",
       "    </tr>\n",
       "  </tbody>\n",
       "</table>\n",
       "<p>5 rows × 102 columns</p>\n",
       "</div>"
      ],
      "text/plain": [
       "           GSM25349.CEL.gz  GSM25350.CEL.gz  GSM25356.CEL.gz  GSM25357.CEL.gz  \\\n",
       "1007_s_at         6.627014         6.249807         5.934128         6.145268   \n",
       "1053_at           6.939184         6.818038         7.047962         7.422477   \n",
       "117_at            5.113570         5.074096         5.371201         5.266550   \n",
       "121_at            7.833862         7.780682         7.458197         7.655948   \n",
       "1255_g_at         3.152269         3.111747         3.018932         3.154545   \n",
       "\n",
       "           GSM25358.CEL.gz  GSM25359.CEL.gz  GSM25360.CEL.gz  GSM25361.CEL.gz  \\\n",
       "1007_s_at         6.091270         6.041186         6.050375         6.063847   \n",
       "1053_at           7.272361         7.128216         6.750719         6.836287   \n",
       "117_at            5.342047         5.063876         5.315898         5.483652   \n",
       "121_at            7.546555         7.072670         7.092984         6.954225   \n",
       "1255_g_at         3.107954         3.224284         3.114241         3.044975   \n",
       "\n",
       "           GSM25377.CEL.gz  GSM25378.CEL.gz        ...         \\\n",
       "1007_s_at         6.226106         6.358282        ...          \n",
       "1053_at           6.738022         7.367895        ...          \n",
       "117_at            6.689444         6.482782        ...          \n",
       "121_at            7.489785         7.388539        ...          \n",
       "1255_g_at         3.304038         2.887919        ...          \n",
       "\n",
       "           GSM48658.CEL.gz  GSM48660.CEL.gz  GSM48661.CEL.gz  GSM48662.CEL.gz  \\\n",
       "1007_s_at         6.501510         6.558100         6.618286         6.869995   \n",
       "1053_at           7.066686         7.386702         6.407958         7.089180   \n",
       "117_at            5.600514         5.232676         5.630720         4.944748   \n",
       "121_at            7.437535         7.714650         7.416252         7.746448   \n",
       "1255_g_at         3.009983         3.151203         3.199709         3.159496   \n",
       "\n",
       "           GSM48663.CEL.gz  GSM48664.CEL.gz  GSM48665.CEL.gz  \\\n",
       "1007_s_at         5.981000         6.403285         6.248702   \n",
       "1053_at           7.120923         7.018998         7.155419   \n",
       "117_at            5.275577         5.770358         5.616842   \n",
       "121_at            8.001434         7.626723         7.452299   \n",
       "1255_g_at         3.149710         3.242780         3.433125   \n",
       "\n",
       "           GSM136725.CEL.gz  GSM136726.CEL.gz  GSM136727.CEL.gz  \n",
       "1007_s_at          6.488579          6.809481          6.133068  \n",
       "1053_at            7.517410          7.200596          7.280781  \n",
       "117_at             5.247190          5.237239          5.401876  \n",
       "121_at             7.331864          7.357102          7.607461  \n",
       "1255_g_at          3.175846          3.105092          3.225123  \n",
       "\n",
       "[5 rows x 102 columns]"
      ]
     },
     "execution_count": 13,
     "metadata": {},
     "output_type": "execute_result"
    }
   ],
   "source": [
    "#your code here\n",
    "exprsCEU = exprs[sampleinfoCEU.filename]\n",
    "exprsCEU.head()"
   ]
  },
  {
   "cell_type": "markdown",
   "metadata": {},
   "source": [
    "Check to make sure the order of the columns in the `exprsCEU` DataFrame matches the rows in the `sampleinfoCEU` DataFrame.  "
   ]
  },
  {
   "cell_type": "code",
   "execution_count": 14,
   "metadata": {
    "collapsed": false
   },
   "outputs": [
    {
     "data": {
      "text/plain": [
       "True"
      ]
     },
     "execution_count": 14,
     "metadata": {},
     "output_type": "execute_result"
    }
   ],
   "source": [
    "#your code here\n",
    "(exprsCEU.columns == sampleinfoCEU.filename).all()"
   ]
  },
  {
   "cell_type": "markdown",
   "metadata": {},
   "source": [
    "Compute the average gene expression intensity in the `exprsCEU` DataFrame across all the samples. For each sample in the `exprsCEU` DataFrame, subtract the average gene expression intensity from each of the samples. Show the head of the mean normalized gene expression data.  "
   ]
  },
  {
   "cell_type": "code",
   "execution_count": 15,
   "metadata": {
    "collapsed": false
   },
   "outputs": [
    {
     "data": {
      "text/html": [
       "<div>\n",
       "<table border=\"1\" class=\"dataframe\">\n",
       "  <thead>\n",
       "    <tr style=\"text-align: right;\">\n",
       "      <th></th>\n",
       "      <th>GSM25349.CEL.gz</th>\n",
       "      <th>GSM25350.CEL.gz</th>\n",
       "      <th>GSM25356.CEL.gz</th>\n",
       "      <th>GSM25357.CEL.gz</th>\n",
       "      <th>GSM25358.CEL.gz</th>\n",
       "      <th>GSM25359.CEL.gz</th>\n",
       "      <th>GSM25360.CEL.gz</th>\n",
       "      <th>GSM25361.CEL.gz</th>\n",
       "      <th>GSM25377.CEL.gz</th>\n",
       "      <th>GSM25378.CEL.gz</th>\n",
       "      <th>...</th>\n",
       "      <th>GSM48658.CEL.gz</th>\n",
       "      <th>GSM48660.CEL.gz</th>\n",
       "      <th>GSM48661.CEL.gz</th>\n",
       "      <th>GSM48662.CEL.gz</th>\n",
       "      <th>GSM48663.CEL.gz</th>\n",
       "      <th>GSM48664.CEL.gz</th>\n",
       "      <th>GSM48665.CEL.gz</th>\n",
       "      <th>GSM136725.CEL.gz</th>\n",
       "      <th>GSM136726.CEL.gz</th>\n",
       "      <th>GSM136727.CEL.gz</th>\n",
       "    </tr>\n",
       "  </thead>\n",
       "  <tbody>\n",
       "    <tr>\n",
       "      <th>1007_s_at</th>\n",
       "      <td>0.365059</td>\n",
       "      <td>-0.012149</td>\n",
       "      <td>-0.327827</td>\n",
       "      <td>-0.116687</td>\n",
       "      <td>-0.170685</td>\n",
       "      <td>-0.220769</td>\n",
       "      <td>-0.211580</td>\n",
       "      <td>-0.198109</td>\n",
       "      <td>-0.035849</td>\n",
       "      <td>0.096327</td>\n",
       "      <td>...</td>\n",
       "      <td>0.239554</td>\n",
       "      <td>0.296144</td>\n",
       "      <td>0.356331</td>\n",
       "      <td>0.608040</td>\n",
       "      <td>-0.280956</td>\n",
       "      <td>0.141330</td>\n",
       "      <td>-0.013254</td>\n",
       "      <td>0.226624</td>\n",
       "      <td>0.547526</td>\n",
       "      <td>-0.128887</td>\n",
       "    </tr>\n",
       "    <tr>\n",
       "      <th>1053_at</th>\n",
       "      <td>-0.136032</td>\n",
       "      <td>-0.257178</td>\n",
       "      <td>-0.027254</td>\n",
       "      <td>0.347260</td>\n",
       "      <td>0.197144</td>\n",
       "      <td>0.053000</td>\n",
       "      <td>-0.324497</td>\n",
       "      <td>-0.238930</td>\n",
       "      <td>-0.337195</td>\n",
       "      <td>0.292678</td>\n",
       "      <td>...</td>\n",
       "      <td>-0.008531</td>\n",
       "      <td>0.311485</td>\n",
       "      <td>-0.667259</td>\n",
       "      <td>0.013964</td>\n",
       "      <td>0.045706</td>\n",
       "      <td>-0.056219</td>\n",
       "      <td>0.080203</td>\n",
       "      <td>0.442193</td>\n",
       "      <td>0.125379</td>\n",
       "      <td>0.205564</td>\n",
       "    </tr>\n",
       "    <tr>\n",
       "      <th>117_at</th>\n",
       "      <td>-0.490556</td>\n",
       "      <td>-0.530031</td>\n",
       "      <td>-0.232926</td>\n",
       "      <td>-0.337577</td>\n",
       "      <td>-0.262080</td>\n",
       "      <td>-0.540250</td>\n",
       "      <td>-0.288228</td>\n",
       "      <td>-0.120475</td>\n",
       "      <td>1.085317</td>\n",
       "      <td>0.878655</td>\n",
       "      <td>...</td>\n",
       "      <td>-0.003613</td>\n",
       "      <td>-0.371451</td>\n",
       "      <td>0.026594</td>\n",
       "      <td>-0.659379</td>\n",
       "      <td>-0.328549</td>\n",
       "      <td>0.166231</td>\n",
       "      <td>0.012716</td>\n",
       "      <td>-0.356936</td>\n",
       "      <td>-0.366887</td>\n",
       "      <td>-0.202251</td>\n",
       "    </tr>\n",
       "    <tr>\n",
       "      <th>121_at</th>\n",
       "      <td>0.418026</td>\n",
       "      <td>0.364847</td>\n",
       "      <td>0.042362</td>\n",
       "      <td>0.240113</td>\n",
       "      <td>0.130720</td>\n",
       "      <td>-0.343165</td>\n",
       "      <td>-0.322852</td>\n",
       "      <td>-0.461611</td>\n",
       "      <td>0.073949</td>\n",
       "      <td>-0.027296</td>\n",
       "      <td>...</td>\n",
       "      <td>0.021700</td>\n",
       "      <td>0.298814</td>\n",
       "      <td>0.000417</td>\n",
       "      <td>0.330612</td>\n",
       "      <td>0.585598</td>\n",
       "      <td>0.210887</td>\n",
       "      <td>0.036463</td>\n",
       "      <td>-0.083972</td>\n",
       "      <td>-0.058733</td>\n",
       "      <td>0.191626</td>\n",
       "    </tr>\n",
       "    <tr>\n",
       "      <th>1255_g_at</th>\n",
       "      <td>0.018335</td>\n",
       "      <td>-0.022187</td>\n",
       "      <td>-0.115002</td>\n",
       "      <td>0.020611</td>\n",
       "      <td>-0.025980</td>\n",
       "      <td>0.090351</td>\n",
       "      <td>-0.019693</td>\n",
       "      <td>-0.088959</td>\n",
       "      <td>0.170104</td>\n",
       "      <td>-0.246015</td>\n",
       "      <td>...</td>\n",
       "      <td>-0.123951</td>\n",
       "      <td>0.017269</td>\n",
       "      <td>0.065775</td>\n",
       "      <td>0.025562</td>\n",
       "      <td>0.015776</td>\n",
       "      <td>0.108846</td>\n",
       "      <td>0.299192</td>\n",
       "      <td>0.041912</td>\n",
       "      <td>-0.028842</td>\n",
       "      <td>0.091189</td>\n",
       "    </tr>\n",
       "  </tbody>\n",
       "</table>\n",
       "<p>5 rows × 102 columns</p>\n",
       "</div>"
      ],
      "text/plain": [
       "           GSM25349.CEL.gz  GSM25350.CEL.gz  GSM25356.CEL.gz  GSM25357.CEL.gz  \\\n",
       "1007_s_at         0.365059        -0.012149        -0.327827        -0.116687   \n",
       "1053_at          -0.136032        -0.257178        -0.027254         0.347260   \n",
       "117_at           -0.490556        -0.530031        -0.232926        -0.337577   \n",
       "121_at            0.418026         0.364847         0.042362         0.240113   \n",
       "1255_g_at         0.018335        -0.022187        -0.115002         0.020611   \n",
       "\n",
       "           GSM25358.CEL.gz  GSM25359.CEL.gz  GSM25360.CEL.gz  GSM25361.CEL.gz  \\\n",
       "1007_s_at        -0.170685        -0.220769        -0.211580        -0.198109   \n",
       "1053_at           0.197144         0.053000        -0.324497        -0.238930   \n",
       "117_at           -0.262080        -0.540250        -0.288228        -0.120475   \n",
       "121_at            0.130720        -0.343165        -0.322852        -0.461611   \n",
       "1255_g_at        -0.025980         0.090351        -0.019693        -0.088959   \n",
       "\n",
       "           GSM25377.CEL.gz  GSM25378.CEL.gz        ...         \\\n",
       "1007_s_at        -0.035849         0.096327        ...          \n",
       "1053_at          -0.337195         0.292678        ...          \n",
       "117_at            1.085317         0.878655        ...          \n",
       "121_at            0.073949        -0.027296        ...          \n",
       "1255_g_at         0.170104        -0.246015        ...          \n",
       "\n",
       "           GSM48658.CEL.gz  GSM48660.CEL.gz  GSM48661.CEL.gz  GSM48662.CEL.gz  \\\n",
       "1007_s_at         0.239554         0.296144         0.356331         0.608040   \n",
       "1053_at          -0.008531         0.311485        -0.667259         0.013964   \n",
       "117_at           -0.003613        -0.371451         0.026594        -0.659379   \n",
       "121_at            0.021700         0.298814         0.000417         0.330612   \n",
       "1255_g_at        -0.123951         0.017269         0.065775         0.025562   \n",
       "\n",
       "           GSM48663.CEL.gz  GSM48664.CEL.gz  GSM48665.CEL.gz  \\\n",
       "1007_s_at        -0.280956         0.141330        -0.013254   \n",
       "1053_at           0.045706        -0.056219         0.080203   \n",
       "117_at           -0.328549         0.166231         0.012716   \n",
       "121_at            0.585598         0.210887         0.036463   \n",
       "1255_g_at         0.015776         0.108846         0.299192   \n",
       "\n",
       "           GSM136725.CEL.gz  GSM136726.CEL.gz  GSM136727.CEL.gz  \n",
       "1007_s_at          0.226624          0.547526         -0.128887  \n",
       "1053_at            0.442193          0.125379          0.205564  \n",
       "117_at            -0.356936         -0.366887         -0.202251  \n",
       "121_at            -0.083972         -0.058733          0.191626  \n",
       "1255_g_at          0.041912         -0.028842          0.091189  \n",
       "\n",
       "[5 rows x 102 columns]"
      ]
     },
     "execution_count": 15,
     "metadata": {},
     "output_type": "execute_result"
    }
   ],
   "source": [
    "#your code here\n",
    "data = exprsCEU.apply(lambda x: x - exprsCEU.mean(axis=1), axis = 0)\n",
    "data.head()"
   ]
  },
  {
   "cell_type": "markdown",
   "metadata": {},
   "source": [
    "Using this mean normalized gene expression data, compute the projection to the first Principal Component (PC1).  \n",
    "\n",
    "**Hint**: Use the `numpy.linalg.svd()` function in the `numpy.linalg` module (or the `scipy.linalg.svd()` function in the `scipy.linalg` module) to apply an [singular value decomposition](http://en.wikipedia.org/wiki/Singular_value_decomposition) to a matrix.  "
   ]
  },
  {
   "cell_type": "code",
   "execution_count": 18,
   "metadata": {
    "collapsed": false
   },
   "outputs": [],
   "source": [
    "#your code here\n",
    "U,s,Vh = lin.svd(data.values)\n",
    "V = Vh.T"
   ]
  },
  {
   "cell_type": "markdown",
   "metadata": {},
   "source": [
    "Create a histogram using the values from PC1.  Use a bin size of 25.  "
   ]
  },
  {
   "cell_type": "code",
   "execution_count": 19,
   "metadata": {
    "collapsed": false
   },
   "outputs": [
    {
     "data": {
      "text/plain": [
       "<matplotlib.text.Text at 0x1140d1bd0>"
      ]
     },
     "execution_count": 19,
     "metadata": {},
     "output_type": "execute_result"
    },
    {
     "data": {
      "image/png": "iVBORw0KGgoAAAANSUhEUgAAAm0AAAGRCAYAAAA3s4RBAAAABHNCSVQICAgIfAhkiAAAAAlwSFlz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\nTZIkqQCGNkmSpAL8fxA85snUNeBKAAAAAElFTkSuQmCC\n",
      "text/plain": [
       "<matplotlib.figure.Figure at 0x10fd9ec90>"
      ]
     },
     "metadata": {},
     "output_type": "display_data"
    }
   ],
   "source": [
    "#your code here\n",
    "plt.hist(V[:,0], bins = 25)\n",
    "plt.xlabel('PC1')\n",
    "plt.ylabel('Frequency')\n",
    "plt.title('Distribution of the values from PC1')"
   ]
  },
  {
   "cell_type": "markdown",
   "metadata": {},
   "source": [
    "Create a scatter plot with the days since October 31, 2002 on the x-axis and PC1 on the y-axis."
   ]
  },
  {
   "cell_type": "code",
   "execution_count": 20,
   "metadata": {
    "collapsed": false
   },
   "outputs": [
    {
     "data": {
      "text/plain": [
       "<matplotlib.text.Text at 0x1143ba4d0>"
      ]
     },
     "execution_count": 20,
     "metadata": {},
     "output_type": "execute_result"
    },
    {
     "data": {
      "image/png": "iVBORw0KGgoAAAANSUhEUgAAAnsAAAGRCAYAAAAdA3XuAAAABHNCSVQICAgIfAhkiAAAAAlwSFlz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\n1gAAAABJRU5ErkJggg==\n",
      "text/plain": [
       "<matplotlib.figure.Figure at 0x110e14550>"
      ]
     },
     "metadata": {},
     "output_type": "display_data"
    }
   ],
   "source": [
    "#your code here\n",
    "plt.scatter(sampleinfoCEU.elapsedInDays, V[:,0])\n",
    "plt.xlabel('Date sample was processed (Number of days since Oct 31, 2012)')\n",
    "plt.ylabel('PC1')\n",
    "plt.title('Relationship between the PC1 and the date the samples were processed')"
   ]
  },
  {
   "cell_type": "markdown",
   "metadata": {},
   "source": [
    "Around what day do you notice a difference in the way the samples were processed?"
   ]
  },
  {
   "cell_type": "code",
   "execution_count": 21,
   "metadata": {
    "collapsed": false
   },
   "outputs": [
    {
     "data": {
      "text/plain": [
       "<matplotlib.lines.Line2D at 0x1144fd290>"
      ]
     },
     "execution_count": 21,
     "metadata": {},
     "output_type": "execute_result"
    },
    {
     "data": {
      "image/png": "iVBORw0KGgoAAAANSUhEUgAAAngAAAGRCAYAAAD2NM7tAAAABHNCSVQICAgIfAhkiAAAAAlwSFlz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\n",
      "text/plain": [
       "<matplotlib.figure.Figure at 0x1144fd310>"
      ]
     },
     "metadata": {},
     "output_type": "display_data"
    }
   ],
   "source": [
    "#your code here\n",
    "plt.scatter(sampleinfoCEU.elapsedInDays, V[:,0])\n",
    "plt.xlim(0,160)\n",
    "plt.xlabel('Date sample was processed (Number of days since Oct 31, 2012)')\n",
    "plt.ylabel('PC1')\n",
    "plt.title('Relationship between the PC1 and the date the samples were processed')\n",
    "plt.axvline(x=100, color='r')"
   ]
  },
  {
   "cell_type": "markdown",
   "metadata": {},
   "source": [
    "Answer: There is a difference around day 100. "
   ]
  },
  {
   "cell_type": "markdown",
   "metadata": {},
   "source": [
    "## Discussion for Problem 1\n",
    "\n",
    "*Write a brief discussion of your conclusions to the questions and tasks above in 100 words or less.*\n",
    "\n",
    "Using exploratory data analysis and the SVD of the gene expression data matrix, we see the date the samples were processed does have a large effect on the variability seen in the data. This can been seen in the scatter plots in Problem 1(d) which shows a difference around day 100.  \n",
    "\n",
    "---\n"
   ]
  },
  {
   "cell_type": "markdown",
   "metadata": {},
   "source": [
    "## Problem 2: Is there a pollster bias in presidential election polls?"
   ]
  },
  {
   "cell_type": "markdown",
   "metadata": {},
   "source": [
    "#### Problem 2(a)\n",
    "\n",
    "The [HuffPost Pollster](http://elections.huffingtonpost.com/pollster) contains many political polls. You can access these polls from individual races as a CSV but you can also access polls through the [HuffPost Pollster API](http://elections.huffingtonpost.com/pollster/api) to access the data.  \n",
    "\n",
    "Read in the polls from the [2012 Presidential Election: Barack Obama vs Mitt Romney](http://elections.huffingtonpost.com/pollster/2012-general-election-romney-vs-obama) into a pandas DataFrame called `election`. For this problem, you may read in the polls for this race directly using [the CSV file](http://elections.huffingtonpost.com/pollster/2012-general-election-romney-vs-obama.csv) available from the HuffPost Pollster page."
   ]
  },
  {
   "cell_type": "code",
   "execution_count": 22,
   "metadata": {
    "collapsed": false
   },
   "outputs": [
    {
     "name": "stderr",
     "output_type": "stream",
     "text": [
      "/usr/local/lib/python2.7/site-packages/ipykernel/__main__.py:6: FutureWarning: convert_objects is deprecated.  Use the data-type specific converters pd.to_datetime, pd.to_timedelta and pd.to_numeric.\n"
     ]
    }
   ],
   "source": [
    "#your code here\n",
    "url = \"http://elections.huffingtonpost.com/pollster/2012-general-election-romney-vs-obama.csv\"\n",
    "source = requests.get(url).text\n",
    "s = StringIO(source)\n",
    "election = pd.DataFrame.from_csv(s, index_col=None).convert_objects(\n",
    "            convert_dates=\"coerce\", convert_numeric=True) # Access polls as a CSV file"
   ]
  },
  {
   "cell_type": "markdown",
   "metadata": {},
   "source": [
    "Show the head of the `election` DataFrame. "
   ]
  },
  {
   "cell_type": "code",
   "execution_count": 23,
   "metadata": {
    "collapsed": false
   },
   "outputs": [
    {
     "data": {
      "text/html": [
       "<div>\n",
       "<table border=\"1\" class=\"dataframe\">\n",
       "  <thead>\n",
       "    <tr style=\"text-align: right;\">\n",
       "      <th></th>\n",
       "      <th>Pollster</th>\n",
       "      <th>Start Date</th>\n",
       "      <th>End Date</th>\n",
       "      <th>Entry Date/Time (ET)</th>\n",
       "      <th>Number of Observations</th>\n",
       "      <th>Population</th>\n",
       "      <th>Mode</th>\n",
       "      <th>Obama</th>\n",
       "      <th>Romney</th>\n",
       "      <th>Undecided</th>\n",
       "      <th>Pollster URL</th>\n",
       "      <th>Source URL</th>\n",
       "      <th>Partisan</th>\n",
       "      <th>Affiliation</th>\n",
       "    </tr>\n",
       "  </thead>\n",
       "  <tbody>\n",
       "    <tr>\n",
       "      <th>0</th>\n",
       "      <td>Politico/GWU/Battleground</td>\n",
       "      <td>2012-11-04</td>\n",
       "      <td>2012-11-05</td>\n",
       "      <td>2012-11-06 2000-01-01 08:40:26 UTC</td>\n",
       "      <td>1000</td>\n",
       "      <td>Likely Voters</td>\n",
       "      <td>Live Phone</td>\n",
       "      <td>47</td>\n",
       "      <td>47</td>\n",
       "      <td>6</td>\n",
       "      <td>http://elections.huffingtonpost.com/pollster/p...</td>\n",
       "      <td>NaN</td>\n",
       "      <td>Nonpartisan</td>\n",
       "      <td>None</td>\n",
       "    </tr>\n",
       "    <tr>\n",
       "      <th>1</th>\n",
       "      <td>UPI/CVOTER</td>\n",
       "      <td>2012-11-03</td>\n",
       "      <td>2012-11-05</td>\n",
       "      <td>2012-11-05 2000-01-01 18:30:15 UTC</td>\n",
       "      <td>3000</td>\n",
       "      <td>Likely Voters</td>\n",
       "      <td>Live Phone</td>\n",
       "      <td>49</td>\n",
       "      <td>48</td>\n",
       "      <td>NaN</td>\n",
       "      <td>http://elections.huffingtonpost.com/pollster/p...</td>\n",
       "      <td>NaN</td>\n",
       "      <td>Nonpartisan</td>\n",
       "      <td>None</td>\n",
       "    </tr>\n",
       "    <tr>\n",
       "      <th>2</th>\n",
       "      <td>Gravis Marketing</td>\n",
       "      <td>2012-11-03</td>\n",
       "      <td>2012-11-05</td>\n",
       "      <td>2012-11-06 2000-01-01 09:22:02 UTC</td>\n",
       "      <td>872</td>\n",
       "      <td>Likely Voters</td>\n",
       "      <td>Automated Phone</td>\n",
       "      <td>48</td>\n",
       "      <td>48</td>\n",
       "      <td>4</td>\n",
       "      <td>http://elections.huffingtonpost.com/pollster/p...</td>\n",
       "      <td>NaN</td>\n",
       "      <td>Nonpartisan</td>\n",
       "      <td>None</td>\n",
       "    </tr>\n",
       "    <tr>\n",
       "      <th>3</th>\n",
       "      <td>JZ Analytics/Newsmax</td>\n",
       "      <td>2012-11-03</td>\n",
       "      <td>2012-11-05</td>\n",
       "      <td>2012-11-06 2000-01-01 07:38:41 UTC</td>\n",
       "      <td>1041</td>\n",
       "      <td>Likely Voters</td>\n",
       "      <td>Internet</td>\n",
       "      <td>47</td>\n",
       "      <td>47</td>\n",
       "      <td>6</td>\n",
       "      <td>http://elections.huffingtonpost.com/pollster/p...</td>\n",
       "      <td>NaN</td>\n",
       "      <td>Sponsor</td>\n",
       "      <td>Rep</td>\n",
       "    </tr>\n",
       "    <tr>\n",
       "      <th>4</th>\n",
       "      <td>Rasmussen</td>\n",
       "      <td>2012-11-03</td>\n",
       "      <td>2012-11-05</td>\n",
       "      <td>2012-11-06 2000-01-01 08:47:50 UTC</td>\n",
       "      <td>1500</td>\n",
       "      <td>Likely Voters</td>\n",
       "      <td>Automated Phone</td>\n",
       "      <td>48</td>\n",
       "      <td>49</td>\n",
       "      <td>NaN</td>\n",
       "      <td>http://elections.huffingtonpost.com/pollster/p...</td>\n",
       "      <td>NaN</td>\n",
       "      <td>Nonpartisan</td>\n",
       "      <td>None</td>\n",
       "    </tr>\n",
       "  </tbody>\n",
       "</table>\n",
       "</div>"
      ],
      "text/plain": [
       "                    Pollster Start Date   End Date  \\\n",
       "0  Politico/GWU/Battleground 2012-11-04 2012-11-05   \n",
       "1                 UPI/CVOTER 2012-11-03 2012-11-05   \n",
       "2           Gravis Marketing 2012-11-03 2012-11-05   \n",
       "3       JZ Analytics/Newsmax 2012-11-03 2012-11-05   \n",
       "4                  Rasmussen 2012-11-03 2012-11-05   \n",
       "\n",
       "                 Entry Date/Time (ET)  Number of Observations     Population  \\\n",
       "0  2012-11-06 2000-01-01 08:40:26 UTC                    1000  Likely Voters   \n",
       "1  2012-11-05 2000-01-01 18:30:15 UTC                    3000  Likely Voters   \n",
       "2  2012-11-06 2000-01-01 09:22:02 UTC                     872  Likely Voters   \n",
       "3  2012-11-06 2000-01-01 07:38:41 UTC                    1041  Likely Voters   \n",
       "4  2012-11-06 2000-01-01 08:47:50 UTC                    1500  Likely Voters   \n",
       "\n",
       "              Mode  Obama  Romney  Undecided  \\\n",
       "0       Live Phone     47      47          6   \n",
       "1       Live Phone     49      48        NaN   \n",
       "2  Automated Phone     48      48          4   \n",
       "3         Internet     47      47          6   \n",
       "4  Automated Phone     48      49        NaN   \n",
       "\n",
       "                                        Pollster URL  Source URL     Partisan  \\\n",
       "0  http://elections.huffingtonpost.com/pollster/p...         NaN  Nonpartisan   \n",
       "1  http://elections.huffingtonpost.com/pollster/p...         NaN  Nonpartisan   \n",
       "2  http://elections.huffingtonpost.com/pollster/p...         NaN  Nonpartisan   \n",
       "3  http://elections.huffingtonpost.com/pollster/p...         NaN      Sponsor   \n",
       "4  http://elections.huffingtonpost.com/pollster/p...         NaN  Nonpartisan   \n",
       "\n",
       "  Affiliation  \n",
       "0        None  \n",
       "1        None  \n",
       "2        None  \n",
       "3         Rep  \n",
       "4        None  "
      ]
     },
     "execution_count": 23,
     "metadata": {},
     "output_type": "execute_result"
    }
   ],
   "source": [
    "#your code here\n",
    "election.head()"
   ]
  },
  {
   "cell_type": "markdown",
   "metadata": {},
   "source": [
    "How many polls were conducted in November? Define this number as M.  \n",
    "\n",
    "**Hint**: Subset the `election` DataFrame for only dates in the `Start Date` column that are in November 2012.  "
   ]
  },
  {
   "cell_type": "code",
   "execution_count": 29,
   "metadata": {
    "collapsed": false
   },
   "outputs": [
    {
     "name": "stdout",
     "output_type": "stream",
     "text": [
      "Number of polls in November: 18\n"
     ]
    }
   ],
   "source": [
    "#your code here\n",
    "filtered = election[map(lambda x: (x.month == 11) and (x.year ==2012), election[\"Start Date\"])]\n",
    "filtered.drop_duplicates('Pollster', inplace = True) # Removes duplicate pollsters\n",
    "M = len(filtered)\n",
    "print \"Number of polls in November: %i\" % M "
   ]
  },
  {
   "cell_type": "code",
   "execution_count": 56,
   "metadata": {
    "collapsed": false
   },
   "outputs": [
    {
     "data": {
      "text/html": [
       "<div>\n",
       "<table border=\"1\" class=\"dataframe\">\n",
       "  <thead>\n",
       "    <tr style=\"text-align: right;\">\n",
       "      <th></th>\n",
       "      <th>Pollster</th>\n",
       "      <th>Start Date</th>\n",
       "      <th>End Date</th>\n",
       "      <th>Entry Date/Time (ET)</th>\n",
       "      <th>Number of Observations</th>\n",
       "      <th>Population</th>\n",
       "      <th>Mode</th>\n",
       "      <th>Obama</th>\n",
       "      <th>Romney</th>\n",
       "      <th>Undecided</th>\n",
       "      <th>Pollster URL</th>\n",
       "      <th>Source URL</th>\n",
       "      <th>Partisan</th>\n",
       "      <th>Affiliation</th>\n",
       "    </tr>\n",
       "  </thead>\n",
       "  <tbody>\n",
       "    <tr>\n",
       "      <th>0</th>\n",
       "      <td>Politico/GWU/Battleground</td>\n",
       "      <td>2012-11-04</td>\n",
       "      <td>2012-11-05</td>\n",
       "      <td>2012-11-06 2000-01-01 08:40:26 UTC</td>\n",
       "      <td>1000</td>\n",
       "      <td>Likely Voters</td>\n",
       "      <td>Live Phone</td>\n",
       "      <td>47</td>\n",
       "      <td>47</td>\n",
       "      <td>6</td>\n",
       "      <td>http://elections.huffingtonpost.com/pollster/p...</td>\n",
       "      <td>NaN</td>\n",
       "      <td>Nonpartisan</td>\n",
       "      <td>None</td>\n",
       "    </tr>\n",
       "    <tr>\n",
       "      <th>1</th>\n",
       "      <td>UPI/CVOTER</td>\n",
       "      <td>2012-11-03</td>\n",
       "      <td>2012-11-05</td>\n",
       "      <td>2012-11-05 2000-01-01 18:30:15 UTC</td>\n",
       "      <td>3000</td>\n",
       "      <td>Likely Voters</td>\n",
       "      <td>Live Phone</td>\n",
       "      <td>49</td>\n",
       "      <td>48</td>\n",
       "      <td>NaN</td>\n",
       "      <td>http://elections.huffingtonpost.com/pollster/p...</td>\n",
       "      <td>NaN</td>\n",
       "      <td>Nonpartisan</td>\n",
       "      <td>None</td>\n",
       "    </tr>\n",
       "    <tr>\n",
       "      <th>2</th>\n",
       "      <td>Gravis Marketing</td>\n",
       "      <td>2012-11-03</td>\n",
       "      <td>2012-11-05</td>\n",
       "      <td>2012-11-06 2000-01-01 09:22:02 UTC</td>\n",
       "      <td>872</td>\n",
       "      <td>Likely Voters</td>\n",
       "      <td>Automated Phone</td>\n",
       "      <td>48</td>\n",
       "      <td>48</td>\n",
       "      <td>4</td>\n",
       "      <td>http://elections.huffingtonpost.com/pollster/p...</td>\n",
       "      <td>NaN</td>\n",
       "      <td>Nonpartisan</td>\n",
       "      <td>None</td>\n",
       "    </tr>\n",
       "    <tr>\n",
       "      <th>3</th>\n",
       "      <td>JZ Analytics/Newsmax</td>\n",
       "      <td>2012-11-03</td>\n",
       "      <td>2012-11-05</td>\n",
       "      <td>2012-11-06 2000-01-01 07:38:41 UTC</td>\n",
       "      <td>1041</td>\n",
       "      <td>Likely Voters</td>\n",
       "      <td>Internet</td>\n",
       "      <td>47</td>\n",
       "      <td>47</td>\n",
       "      <td>6</td>\n",
       "      <td>http://elections.huffingtonpost.com/pollster/p...</td>\n",
       "      <td>NaN</td>\n",
       "      <td>Sponsor</td>\n",
       "      <td>Rep</td>\n",
       "    </tr>\n",
       "    <tr>\n",
       "      <th>4</th>\n",
       "      <td>Rasmussen</td>\n",
       "      <td>2012-11-03</td>\n",
       "      <td>2012-11-05</td>\n",
       "      <td>2012-11-06 2000-01-01 08:47:50 UTC</td>\n",
       "      <td>1500</td>\n",
       "      <td>Likely Voters</td>\n",
       "      <td>Automated Phone</td>\n",
       "      <td>48</td>\n",
       "      <td>49</td>\n",
       "      <td>NaN</td>\n",
       "      <td>http://elections.huffingtonpost.com/pollster/p...</td>\n",
       "      <td>NaN</td>\n",
       "      <td>Nonpartisan</td>\n",
       "      <td>None</td>\n",
       "    </tr>\n",
       "    <tr>\n",
       "      <th>5</th>\n",
       "      <td>IBD/TIPP</td>\n",
       "      <td>2012-11-03</td>\n",
       "      <td>2012-11-05</td>\n",
       "      <td>2012-11-06 2000-01-01 08:51:48 UTC</td>\n",
       "      <td>712</td>\n",
       "      <td>Likely Voters</td>\n",
       "      <td>Live Phone</td>\n",
       "      <td>50</td>\n",
       "      <td>49</td>\n",
       "      <td>NaN</td>\n",
       "      <td>http://elections.huffingtonpost.com/pollster/p...</td>\n",
       "      <td>NaN</td>\n",
       "      <td>Nonpartisan</td>\n",
       "      <td>None</td>\n",
       "    </tr>\n",
       "    <tr>\n",
       "      <th>6</th>\n",
       "      <td>YouGov/Economist</td>\n",
       "      <td>2012-11-03</td>\n",
       "      <td>2012-11-05</td>\n",
       "      <td>2012-11-26 2000-01-01 15:31:23 UTC</td>\n",
       "      <td>740</td>\n",
       "      <td>Likely Voters</td>\n",
       "      <td>Internet</td>\n",
       "      <td>49</td>\n",
       "      <td>47</td>\n",
       "      <td>3</td>\n",
       "      <td>http://elections.huffingtonpost.com/pollster/p...</td>\n",
       "      <td>NaN</td>\n",
       "      <td>Nonpartisan</td>\n",
       "      <td>None</td>\n",
       "    </tr>\n",
       "    <tr>\n",
       "      <th>7</th>\n",
       "      <td>Ipsos/Reuters (Web)</td>\n",
       "      <td>2012-11-01</td>\n",
       "      <td>2012-11-05</td>\n",
       "      <td>2012-11-05 2000-01-01 16:12:48 UTC</td>\n",
       "      <td>4725</td>\n",
       "      <td>Likely Voters</td>\n",
       "      <td>Internet</td>\n",
       "      <td>48</td>\n",
       "      <td>46</td>\n",
       "      <td>4</td>\n",
       "      <td>http://elections.huffingtonpost.com/pollster/p...</td>\n",
       "      <td>NaN</td>\n",
       "      <td>Nonpartisan</td>\n",
       "      <td>None</td>\n",
       "    </tr>\n",
       "    <tr>\n",
       "      <th>8</th>\n",
       "      <td>ARG</td>\n",
       "      <td>2012-11-02</td>\n",
       "      <td>2012-11-04</td>\n",
       "      <td>2012-11-05 2000-01-01 13:06:54 UTC</td>\n",
       "      <td>1200</td>\n",
       "      <td>Likely Voters</td>\n",
       "      <td>Live Phone</td>\n",
       "      <td>49</td>\n",
       "      <td>49</td>\n",
       "      <td>1</td>\n",
       "      <td>http://elections.huffingtonpost.com/pollster/p...</td>\n",
       "      <td>NaN</td>\n",
       "      <td>Nonpartisan</td>\n",
       "      <td>None</td>\n",
       "    </tr>\n",
       "    <tr>\n",
       "      <th>9</th>\n",
       "      <td>CNN</td>\n",
       "      <td>2012-11-02</td>\n",
       "      <td>2012-11-04</td>\n",
       "      <td>2012-11-04 2000-01-01 20:16:09 UTC</td>\n",
       "      <td>693</td>\n",
       "      <td>Likely Voters</td>\n",
       "      <td>Live Phone</td>\n",
       "      <td>49</td>\n",
       "      <td>49</td>\n",
       "      <td>2</td>\n",
       "      <td>http://elections.huffingtonpost.com/pollster/p...</td>\n",
       "      <td>NaN</td>\n",
       "      <td>Nonpartisan</td>\n",
       "      <td>None</td>\n",
       "    </tr>\n",
       "    <tr>\n",
       "      <th>10</th>\n",
       "      <td>PPP (D-Americans United for Change)</td>\n",
       "      <td>2012-11-02</td>\n",
       "      <td>2012-11-04</td>\n",
       "      <td>2012-11-04 2000-01-01 22:32:19 UTC</td>\n",
       "      <td>1200</td>\n",
       "      <td>Likely Voters</td>\n",
       "      <td>Automated Phone</td>\n",
       "      <td>50</td>\n",
       "      <td>48</td>\n",
       "      <td>3</td>\n",
       "      <td>http://elections.huffingtonpost.com/pollster/p...</td>\n",
       "      <td>NaN</td>\n",
       "      <td>Sponsor</td>\n",
       "      <td>Dem</td>\n",
       "    </tr>\n",
       "    <tr>\n",
       "      <th>11</th>\n",
       "      <td>Gallup</td>\n",
       "      <td>2012-11-01</td>\n",
       "      <td>2012-11-04</td>\n",
       "      <td>2012-11-05 2000-01-01 13:48:29 UTC</td>\n",
       "      <td>2551</td>\n",
       "      <td>Likely Voters</td>\n",
       "      <td>Live Phone</td>\n",
       "      <td>48</td>\n",
       "      <td>49</td>\n",
       "      <td>NaN</td>\n",
       "      <td>http://elections.huffingtonpost.com/pollster/p...</td>\n",
       "      <td>NaN</td>\n",
       "      <td>Nonpartisan</td>\n",
       "      <td>None</td>\n",
       "    </tr>\n",
       "    <tr>\n",
       "      <th>12</th>\n",
       "      <td>Democracy Corps (D)</td>\n",
       "      <td>2012-11-01</td>\n",
       "      <td>2012-11-04</td>\n",
       "      <td>2012-11-05 2000-01-01 09:41:50 UTC</td>\n",
       "      <td>1080</td>\n",
       "      <td>Likely Voters</td>\n",
       "      <td>Live Phone</td>\n",
       "      <td>49</td>\n",
       "      <td>45</td>\n",
       "      <td>NaN</td>\n",
       "      <td>http://elections.huffingtonpost.com/pollster/p...</td>\n",
       "      <td>NaN</td>\n",
       "      <td>Pollster</td>\n",
       "      <td>Dem</td>\n",
       "    </tr>\n",
       "    <tr>\n",
       "      <th>13</th>\n",
       "      <td>Monmouth</td>\n",
       "      <td>2012-11-01</td>\n",
       "      <td>2012-11-04</td>\n",
       "      <td>2012-11-05 2000-01-01 12:52:03 UTC</td>\n",
       "      <td>1417</td>\n",
       "      <td>Likely Voters</td>\n",
       "      <td>IVR/Live Phone</td>\n",
       "      <td>48</td>\n",
       "      <td>48</td>\n",
       "      <td>2</td>\n",
       "      <td>http://elections.huffingtonpost.com/pollster/p...</td>\n",
       "      <td>NaN</td>\n",
       "      <td>Nonpartisan</td>\n",
       "      <td>None</td>\n",
       "    </tr>\n",
       "    <tr>\n",
       "      <th>14</th>\n",
       "      <td>DailyKos/SEIU/PPP (D)</td>\n",
       "      <td>2012-11-01</td>\n",
       "      <td>2012-11-04</td>\n",
       "      <td>2012-11-05 2000-01-01 13:31:31 UTC</td>\n",
       "      <td>1300</td>\n",
       "      <td>Likely Voters</td>\n",
       "      <td>Automated Phone</td>\n",
       "      <td>50</td>\n",
       "      <td>48</td>\n",
       "      <td>2</td>\n",
       "      <td>http://elections.huffingtonpost.com/pollster/p...</td>\n",
       "      <td>NaN</td>\n",
       "      <td>Sponsor</td>\n",
       "      <td>Dem</td>\n",
       "    </tr>\n",
       "    <tr>\n",
       "      <th>15</th>\n",
       "      <td>ABC/Post</td>\n",
       "      <td>2012-11-01</td>\n",
       "      <td>2012-11-04</td>\n",
       "      <td>2012-11-05 2000-01-01 16:56:22 UTC</td>\n",
       "      <td>2345</td>\n",
       "      <td>Likely Voters</td>\n",
       "      <td>Live Phone</td>\n",
       "      <td>50</td>\n",
       "      <td>47</td>\n",
       "      <td>1</td>\n",
       "      <td>http://elections.huffingtonpost.com/pollster/p...</td>\n",
       "      <td>NaN</td>\n",
       "      <td>Nonpartisan</td>\n",
       "      <td>None</td>\n",
       "    </tr>\n",
       "    <tr>\n",
       "      <th>16</th>\n",
       "      <td>Angus-Reid</td>\n",
       "      <td>2012-11-01</td>\n",
       "      <td>2012-11-03</td>\n",
       "      <td>2012-11-06 2000-01-01 08:47:46 UTC</td>\n",
       "      <td>1019</td>\n",
       "      <td>Likely Voters</td>\n",
       "      <td>Internet</td>\n",
       "      <td>51</td>\n",
       "      <td>48</td>\n",
       "      <td>NaN</td>\n",
       "      <td>http://elections.huffingtonpost.com/pollster/p...</td>\n",
       "      <td>NaN</td>\n",
       "      <td>Nonpartisan</td>\n",
       "      <td>None</td>\n",
       "    </tr>\n",
       "    <tr>\n",
       "      <th>17</th>\n",
       "      <td>NBC/WSJ</td>\n",
       "      <td>2012-11-01</td>\n",
       "      <td>2012-11-03</td>\n",
       "      <td>2012-11-04 2000-01-01 09:12:21 UTC</td>\n",
       "      <td>1475</td>\n",
       "      <td>Likely Voters</td>\n",
       "      <td>Live Phone</td>\n",
       "      <td>48</td>\n",
       "      <td>47</td>\n",
       "      <td>3</td>\n",
       "      <td>http://elections.huffingtonpost.com/pollster/p...</td>\n",
       "      <td>NaN</td>\n",
       "      <td>Nonpartisan</td>\n",
       "      <td>None</td>\n",
       "    </tr>\n",
       "  </tbody>\n",
       "</table>\n",
       "</div>"
      ],
      "text/plain": [
       "                               Pollster Start Date   End Date  \\\n",
       "0             Politico/GWU/Battleground 2012-11-04 2012-11-05   \n",
       "1                            UPI/CVOTER 2012-11-03 2012-11-05   \n",
       "2                      Gravis Marketing 2012-11-03 2012-11-05   \n",
       "3                  JZ Analytics/Newsmax 2012-11-03 2012-11-05   \n",
       "4                             Rasmussen 2012-11-03 2012-11-05   \n",
       "5                              IBD/TIPP 2012-11-03 2012-11-05   \n",
       "6                      YouGov/Economist 2012-11-03 2012-11-05   \n",
       "7                   Ipsos/Reuters (Web) 2012-11-01 2012-11-05   \n",
       "8                                   ARG 2012-11-02 2012-11-04   \n",
       "9                                   CNN 2012-11-02 2012-11-04   \n",
       "10  PPP (D-Americans United for Change) 2012-11-02 2012-11-04   \n",
       "11                               Gallup 2012-11-01 2012-11-04   \n",
       "12                  Democracy Corps (D) 2012-11-01 2012-11-04   \n",
       "13                             Monmouth 2012-11-01 2012-11-04   \n",
       "14                DailyKos/SEIU/PPP (D) 2012-11-01 2012-11-04   \n",
       "15                             ABC/Post 2012-11-01 2012-11-04   \n",
       "16                           Angus-Reid 2012-11-01 2012-11-03   \n",
       "17                              NBC/WSJ 2012-11-01 2012-11-03   \n",
       "\n",
       "                  Entry Date/Time (ET)  Number of Observations     Population  \\\n",
       "0   2012-11-06 2000-01-01 08:40:26 UTC                    1000  Likely Voters   \n",
       "1   2012-11-05 2000-01-01 18:30:15 UTC                    3000  Likely Voters   \n",
       "2   2012-11-06 2000-01-01 09:22:02 UTC                     872  Likely Voters   \n",
       "3   2012-11-06 2000-01-01 07:38:41 UTC                    1041  Likely Voters   \n",
       "4   2012-11-06 2000-01-01 08:47:50 UTC                    1500  Likely Voters   \n",
       "5   2012-11-06 2000-01-01 08:51:48 UTC                     712  Likely Voters   \n",
       "6   2012-11-26 2000-01-01 15:31:23 UTC                     740  Likely Voters   \n",
       "7   2012-11-05 2000-01-01 16:12:48 UTC                    4725  Likely Voters   \n",
       "8   2012-11-05 2000-01-01 13:06:54 UTC                    1200  Likely Voters   \n",
       "9   2012-11-04 2000-01-01 20:16:09 UTC                     693  Likely Voters   \n",
       "10  2012-11-04 2000-01-01 22:32:19 UTC                    1200  Likely Voters   \n",
       "11  2012-11-05 2000-01-01 13:48:29 UTC                    2551  Likely Voters   \n",
       "12  2012-11-05 2000-01-01 09:41:50 UTC                    1080  Likely Voters   \n",
       "13  2012-11-05 2000-01-01 12:52:03 UTC                    1417  Likely Voters   \n",
       "14  2012-11-05 2000-01-01 13:31:31 UTC                    1300  Likely Voters   \n",
       "15  2012-11-05 2000-01-01 16:56:22 UTC                    2345  Likely Voters   \n",
       "16  2012-11-06 2000-01-01 08:47:46 UTC                    1019  Likely Voters   \n",
       "17  2012-11-04 2000-01-01 09:12:21 UTC                    1475  Likely Voters   \n",
       "\n",
       "               Mode  Obama  Romney  Undecided  \\\n",
       "0        Live Phone     47      47          6   \n",
       "1        Live Phone     49      48        NaN   \n",
       "2   Automated Phone     48      48          4   \n",
       "3          Internet     47      47          6   \n",
       "4   Automated Phone     48      49        NaN   \n",
       "5        Live Phone     50      49        NaN   \n",
       "6          Internet     49      47          3   \n",
       "7          Internet     48      46          4   \n",
       "8        Live Phone     49      49          1   \n",
       "9        Live Phone     49      49          2   \n",
       "10  Automated Phone     50      48          3   \n",
       "11       Live Phone     48      49        NaN   \n",
       "12       Live Phone     49      45        NaN   \n",
       "13   IVR/Live Phone     48      48          2   \n",
       "14  Automated Phone     50      48          2   \n",
       "15       Live Phone     50      47          1   \n",
       "16         Internet     51      48        NaN   \n",
       "17       Live Phone     48      47          3   \n",
       "\n",
       "                                         Pollster URL  Source URL  \\\n",
       "0   http://elections.huffingtonpost.com/pollster/p...         NaN   \n",
       "1   http://elections.huffingtonpost.com/pollster/p...         NaN   \n",
       "2   http://elections.huffingtonpost.com/pollster/p...         NaN   \n",
       "3   http://elections.huffingtonpost.com/pollster/p...         NaN   \n",
       "4   http://elections.huffingtonpost.com/pollster/p...         NaN   \n",
       "5   http://elections.huffingtonpost.com/pollster/p...         NaN   \n",
       "6   http://elections.huffingtonpost.com/pollster/p...         NaN   \n",
       "7   http://elections.huffingtonpost.com/pollster/p...         NaN   \n",
       "8   http://elections.huffingtonpost.com/pollster/p...         NaN   \n",
       "9   http://elections.huffingtonpost.com/pollster/p...         NaN   \n",
       "10  http://elections.huffingtonpost.com/pollster/p...         NaN   \n",
       "11  http://elections.huffingtonpost.com/pollster/p...         NaN   \n",
       "12  http://elections.huffingtonpost.com/pollster/p...         NaN   \n",
       "13  http://elections.huffingtonpost.com/pollster/p...         NaN   \n",
       "14  http://elections.huffingtonpost.com/pollster/p...         NaN   \n",
       "15  http://elections.huffingtonpost.com/pollster/p...         NaN   \n",
       "16  http://elections.huffingtonpost.com/pollster/p...         NaN   \n",
       "17  http://elections.huffingtonpost.com/pollster/p...         NaN   \n",
       "\n",
       "       Partisan Affiliation  \n",
       "0   Nonpartisan        None  \n",
       "1   Nonpartisan        None  \n",
       "2   Nonpartisan        None  \n",
       "3       Sponsor         Rep  \n",
       "4   Nonpartisan        None  \n",
       "5   Nonpartisan        None  \n",
       "6   Nonpartisan        None  \n",
       "7   Nonpartisan        None  \n",
       "8   Nonpartisan        None  \n",
       "9   Nonpartisan        None  \n",
       "10      Sponsor         Dem  \n",
       "11  Nonpartisan        None  \n",
       "12     Pollster         Dem  \n",
       "13  Nonpartisan        None  \n",
       "14      Sponsor         Dem  \n",
       "15  Nonpartisan        None  \n",
       "16  Nonpartisan        None  \n",
       "17  Nonpartisan        None  "
      ]
     },
     "execution_count": 56,
     "metadata": {},
     "output_type": "execute_result"
    }
   ],
   "source": [
    "filtered"
   ]
  },
  {
   "cell_type": "markdown",
   "metadata": {},
   "source": [
    "Answer: There were 18 polls with a Start Date in November after accounting for multiple polls within a given pollster (or 19 polls total with a Start Date in November). "
   ]
  },
  {
   "cell_type": "markdown",
   "metadata": {},
   "source": [
    "What was the median of the number of observations in the November polls? Define this quantity as N. "
   ]
  },
  {
   "cell_type": "code",
   "execution_count": 30,
   "metadata": {
    "collapsed": false
   },
   "outputs": [
    {
     "name": "stdout",
     "output_type": "stream",
     "text": [
      "1200.0\n"
     ]
    }
   ],
   "source": [
    "#your code here\n",
    "N = np.median(filtered[\"Number of Observations\"])\n",
    "print N"
   ]
  },
  {
   "cell_type": "markdown",
   "metadata": {},
   "source": [
    "Answer: The median number of observations in the November polls was 1200. "
   ]
  },
  {
   "cell_type": "markdown",
   "metadata": {},
   "source": [
    "#### Problem 2(b)\n",
    "\n",
    "Using the median sample size $N$ from Problem 2(a), simulate the results from a single poll:  simulate the number of votes for Obama out of a sample size $N$ where $p$ = 0.53 is the percent of voters who are voting for Obama.  \n",
    "\n",
    "**Hint**: Use the binomial distribution with parameters $N$ and $p$ = 0.53. "
   ]
  },
  {
   "cell_type": "markdown",
   "metadata": {},
   "source": [
    "To simulate the *number* of votes for Obama from a single poll, we can use the `random.binomial` function in `numpy` to simulate one binomial random variable with a sample size $N$ and $p$ which is the percent of voters who are voting for Obama. "
   ]
  },
  {
   "cell_type": "code",
   "execution_count": 57,
   "metadata": {
    "collapsed": false
   },
   "outputs": [
    {
     "data": {
      "text/plain": [
       "'Simulated number of votes for Obama: 644, law of large number says 636'"
      ]
     },
     "execution_count": 57,
     "metadata": {},
     "output_type": "execute_result"
    }
   ],
   "source": [
    "p = 0.53\n",
    "\"Simulated number of votes for Obama: %i, law of large number says %i\" % (np.random.binomial(N, p, size=1), p*N)"
   ]
  },
  {
   "cell_type": "markdown",
   "metadata": {},
   "source": [
    "Now, perform a Monte Carlo simulation to obtain the estimated percentage of Obama votes with a sample size $N$ where $N$ is the median sample size calculated in Problem 2(a). Let $p$=0.53 be the percent of voters are voting for Obama. \n",
    "\n",
    "**Hint**: You will repeat the simulation above 1,000 times and plot the distribution of the estimated *percent* of Obama votes from a single poll.  The results from the single poll you simulate is random variable and will be different every time you sample. "
   ]
  },
  {
   "cell_type": "code",
   "execution_count": 58,
   "metadata": {
    "collapsed": false
   },
   "outputs": [],
   "source": [
    "#your code here"
   ]
  },
  {
   "cell_type": "markdown",
   "metadata": {},
   "source": [
    "To simulate the the estimate *percentage* of Obama votes, we can repeat the above simulation using a Bernoulli distribution, but just divide by the total number of votes. "
   ]
  },
  {
   "cell_type": "code",
   "execution_count": 98,
   "metadata": {
    "collapsed": false
   },
   "outputs": [],
   "source": [
    "p = 0.53\n",
    "B = 1000\n",
    "obs = np.random.binomial(N, p, size = B) / N"
   ]
  },
  {
   "cell_type": "markdown",
   "metadata": {},
   "source": [
    "We can also write this in terms of a Bernoulli random variable $X$ where $X$ has a binary outcome with probability $p$ of success where \n",
    "$$E(X) = p$$ \n",
    "and \n",
    "$$Var(X) = p(1-p)$$\n",
    "\n",
    "In a single simulation, we simulate N binary outcomes of 1 or 0 representing a vote for Obama or not where N represents the poll sample size.  The average of the binary outcomes represents the *percent* of Obama votes from a single poll.  We repeat this process 1000 times. "
   ]
  },
  {
   "cell_type": "code",
   "execution_count": 118,
   "metadata": {
    "collapsed": false
   },
   "outputs": [
    {
     "name": "stderr",
     "output_type": "stream",
     "text": [
      "/usr/local/lib/python2.7/site-packages/ipykernel/__main__.py:3: DeprecationWarning: using a non-integer number instead of an integer will result in an error in the future\n",
      "  app.launch_new_instance()\n"
     ]
    }
   ],
   "source": [
    "p = 0.53\n",
    "B = 1000\n",
    "obs = map(lambda x: np.mean(np.random.binomial(1, p, size = N)), xrange(B))"
   ]
  },
  {
   "cell_type": "markdown",
   "metadata": {},
   "source": [
    "Plot the distribution of the estimated percentage of Obama votes from your single poll. What is the distribution of the estimated percentage of Obama votes? "
   ]
  },
  {
   "cell_type": "code",
   "execution_count": 119,
   "metadata": {
    "collapsed": false
   },
   "outputs": [
    {
     "data": {
      "text/plain": [
       "(array([   6.,   23.,   63.,  121.,  250.,  251.,  153.,   93.,   31.,    9.]),\n",
       " array([ 0.48333333,  0.49225   ,  0.50116667,  0.51008333,  0.519     ,\n",
       "         0.52791667,  0.53683333,  0.54575   ,  0.55466667,  0.56358333,\n",
       "         0.5725    ]),\n",
       " <a list of 10 Patch objects>)"
      ]
     },
     "execution_count": 119,
     "metadata": {},
     "output_type": "execute_result"
    },
    {
     "data": {
      "image/png": "iVBORw0KGgoAAAANSUhEUgAAAmEAAAF1CAYAAACgWj1bAAAABHNCSVQICAgIfAhkiAAAAAlwSFlz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\nAAAAAElFTkSuQmCC\n",
      "text/plain": [
       "<matplotlib.figure.Figure at 0x11859dfd0>"
      ]
     },
     "metadata": {},
     "output_type": "display_data"
    }
   ],
   "source": [
    "#your code here\n",
    "plt.hist(obs)"
   ]
  },
  {
   "cell_type": "markdown",
   "metadata": {},
   "source": [
    "At first glance the distribution looks normally distributed. We can use a qqplot to visually inspect if this distribution is normally distributed. "
   ]
  },
  {
   "cell_type": "code",
   "execution_count": 69,
   "metadata": {
    "collapsed": false
   },
   "outputs": [
    {
     "data": {
      "image/png": "iVBORw0KGgoAAAANSUhEUgAAAmYAAAGRCAYAAADPU3+2AAAABHNCSVQICAgIfAhkiAAAAAlwSFlz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\niIiISEgoMRMREREJCSVmIiIiIiHx//R1jyjVtdJzAAAAAElFTkSuQmCC\n",
      "text/plain": [
       "<matplotlib.figure.Figure at 0x110dd8a50>"
      ]
     },
     "metadata": {},
     "output_type": "display_data"
    }
   ],
   "source": [
    "import scipy.stats as stats\n",
    "stats.probplot((obs - np.mean(obs)) / np.std(obs, ddof=1), dist=\"norm\", plot = plt)\n",
    "plt.show()"
   ]
  },
  {
   "cell_type": "markdown",
   "metadata": {},
   "source": [
    "Answer: From the histogram and qqplot, we see the distribution looks normally distributed. "
   ]
  },
  {
   "cell_type": "markdown",
   "metadata": {},
   "source": [
    "What is the standard error (SE) of the estimated percentage from the poll. \n",
    "\n",
    "**Hint**: Remember the SE is the standard deviation (SD) of the distribution of a random variable. "
   ]
  },
  {
   "cell_type": "markdown",
   "metadata": {},
   "source": [
    "In this example, the standard error (SE) is the standard deviation of the distribution of the percent of Obama votes from a single poll.  Therefore, we can compute the standard deviation as"
   ]
  },
  {
   "cell_type": "markdown",
   "metadata": {},
   "source": [
    "From the lecture we saw if we observe $N$ Bernoulli random variables $(X_1, \\ldots X_N)$, then \n",
    "$$ \\mbox{E}(\\bar{X}) = \\frac{1}{N} \\sum_{i=1}^N p = p$$\n",
    "and \n",
    "$$\\mbox{Var}(\\bar{X})= \\frac{1}{N^2} \\sum_{i=1}^N p(1-p) = \\frac{p(1-p)}{N}$$\n",
    "\n",
    "In our example, we assume each $X_i$ is a Bernoulli distribution with $p$ = 0.53. Therefore, if $N$ = 1200, we can analytically calculate the standard deviation of $\\bar{X}$ directly and compare to the standard error above"
   ]
  },
  {
   "cell_type": "code",
   "execution_count": 78,
   "metadata": {
    "collapsed": false
   },
   "outputs": [
    {
     "data": {
      "text/plain": [
       "0.014407752542757436"
      ]
     },
     "execution_count": 78,
     "metadata": {},
     "output_type": "execute_result"
    }
   ],
   "source": [
    "np.sqrt((0.53 * 0.47) / 1200)"
   ]
  },
  {
   "cell_type": "markdown",
   "metadata": {},
   "source": [
    "#### Problem 2(c)\n",
    "\n",
    "Now suppose we run M polls where M is the number of polls that happened in November (calculated in Problem 2(a)). Run 1,000 simulations and compute the mean of the M polls for each simulation. "
   ]
  },
  {
   "cell_type": "markdown",
   "metadata": {},
   "source": [
    "First, let's recall what M and N were in Problem 2(a): "
   ]
  },
  {
   "cell_type": "code",
   "execution_count": 79,
   "metadata": {
    "collapsed": false
   },
   "outputs": [
    {
     "data": {
      "text/plain": [
       "'Number of polls in November: 18'"
      ]
     },
     "execution_count": 79,
     "metadata": {},
     "output_type": "execute_result"
    }
   ],
   "source": [
    "\"Number of polls in November: %i\" % M"
   ]
  },
  {
   "cell_type": "code",
   "execution_count": 80,
   "metadata": {
    "collapsed": false
   },
   "outputs": [
    {
     "data": {
      "text/plain": [
       "'Median size of polls in November: 1200'"
      ]
     },
     "execution_count": 80,
     "metadata": {},
     "output_type": "execute_result"
    }
   ],
   "source": [
    "\"Median size of polls in November: %i\" % N"
   ]
  },
  {
   "cell_type": "code",
   "execution_count": 88,
   "metadata": {
    "collapsed": false
   },
   "outputs": [
    {
     "data": {
      "text/plain": [
       "'With probability: 0.530'"
      ]
     },
     "execution_count": 88,
     "metadata": {},
     "output_type": "execute_result"
    }
   ],
   "source": [
    "\"With probability: %.3f\" % p"
   ]
  },
  {
   "cell_type": "markdown",
   "metadata": {},
   "source": [
    "Within one iteration of the simulation, we want to simulate M polls each measuring the *percent* of Obama votes out of a sample size of N. We can use again the Bernoulli distribution with parameter $p$. We simulate the *percentage* of Obama votes from M polls and compute the mean across the M polls using `np.mean`.  \n"
   ]
  },
  {
   "cell_type": "code",
   "execution_count": 93,
   "metadata": {
    "collapsed": false
   },
   "outputs": [
    {
     "name": "stderr",
     "output_type": "stream",
     "text": [
      "/usr/local/lib/python2.7/site-packages/ipykernel/__main__.py:12: DeprecationWarning: using a non-integer number instead of an integer will result in an error in the future\n"
     ]
    },
    {
     "data": {
      "text/plain": [
       "[0.51166666666666671,\n",
       " 0.52416666666666667,\n",
       " 0.54333333333333333,\n",
       " 0.54416666666666669,\n",
       " 0.5591666666666667,\n",
       " 0.52166666666666661,\n",
       " 0.53083333333333338,\n",
       " 0.51333333333333331,\n",
       " 0.53166666666666662,\n",
       " 0.53666666666666663,\n",
       " 0.53166666666666662,\n",
       " 0.52416666666666667,\n",
       " 0.53749999999999998,\n",
       " 0.5575,\n",
       " 0.51333333333333331,\n",
       " 0.51833333333333331,\n",
       " 0.51833333333333331,\n",
       " 0.55249999999999999]"
      ]
     },
     "execution_count": 93,
     "metadata": {},
     "output_type": "execute_result"
    }
   ],
   "source": [
    "# Represents the percentage of Obama votes from M polls\n",
    "def simulatePolls(p, N, M):\n",
    "    \"\"\" Function to simulate the results \n",
    "    of M polls each measuring the percent\n",
    "    of Obama votes out of a sample size of N\n",
    "    with probability p of voting for Obama\n",
    "    \n",
    "    M = Number of polls to simulate\n",
    "    N = Sample size of each poll\n",
    "    p = Probability of voting for Obama \"\"\"\n",
    "    \n",
    "    return map(lambda x: np.mean(np.random.binomial(1, p, size = N)), xrange(M))\n",
    "\n",
    "simulatePolls(p, N, M) "
   ]
  },
  {
   "cell_type": "markdown",
   "metadata": {},
   "source": [
    "Now, we want to repeat this simulation 1000 times. For every iteration of the simulation, we will compute the average across the 19 polls (or average of averages).   "
   ]
  },
  {
   "cell_type": "code",
   "execution_count": 94,
   "metadata": {
    "collapsed": false
   },
   "outputs": [
    {
     "name": "stderr",
     "output_type": "stream",
     "text": [
      "/usr/local/lib/python2.7/site-packages/ipykernel/__main__.py:12: DeprecationWarning: using a non-integer number instead of an integer will result in an error in the future\n"
     ]
    }
   ],
   "source": [
    "p = 0.53\n",
    "B = 1000\n",
    "mom = map(lambda yaya: np.mean(simulatePolls(p, N, M)), xrange(B))"
   ]
  },
  {
   "cell_type": "markdown",
   "metadata": {},
   "source": [
    "What is the distribution of the average of polls?\n",
    "\n",
    "**Hint**: Show a plot. "
   ]
  },
  {
   "cell_type": "code",
   "execution_count": 97,
   "metadata": {
    "collapsed": false
   },
   "outputs": [
    {
     "data": {
      "text/plain": [
       "(array([  10.,   48.,  109.,  216.,  253.,  220.,   84.,   48.,   10.,    2.]),\n",
       " array([ 0.52   ,  0.52225,  0.5245 ,  0.52675,  0.529  ,  0.53125,\n",
       "         0.5335 ,  0.53575,  0.538  ,  0.54025,  0.5425 ]),\n",
       " <a list of 10 Patch objects>)"
      ]
     },
     "execution_count": 97,
     "metadata": {},
     "output_type": "execute_result"
    },
    {
     "data": {
      "image/png": "iVBORw0KGgoAAAANSUhEUgAAAmMAAAF1CAYAAACkr+1mAAAABHNCSVQICAgIfAhkiAAAAAlwSFlz\nAAALEgAACxIB0t1+/AAAFZpJREFUeJzt3X2sJWdh3/Hv9Xp5MRG4DiFOvFQKhHpdlyqBYKkYwrVr\nJFQ7stM0rQq0sRuIrAoiKLQ4bWp2y0vdVqqiIBkapNqO+INGLS22iKC1woXyKhGktEgGpzYGDA44\nCGwqm2Ztb/+Ys3B82Lt7795z/Oze/Xyk0c6ZZ56Z5+6jufvbZ2aeUwAAAAAAAAAAAAAAAAAAAAAA\nAMDp6OerT1bfqf5H9eOz7edVN1bXVrdUF87VOVYZAABb9KTqndVTq6dVn67eMSv74+qy2foF1d3V\nGdXaJmV7npgmAwDsHj/ZFMiOuKH6V9XLq4eqM+fKvlT9ynHKAACYc8Zxyr9Z/cVs/clN4ex3qoub\nRrsemdv3zurS6sXVlzcpAwBgzpnH36WqX6reXp3T9PzXudWDC/t8t9rXFPAeWCh7YFYGAMCc442M\nHXFbdWX18ep91aHZsnistaYRsaOVAQCwYKsjY1X3VL9efbu6v3rGQvnZ1Ver+6qXHqXsnqMd9LnP\nfe7hu+66axvNAAAY5q7qZ5d5wO2OWH2/KYzdXj1noWx/9dHZslh2frVxtAPeddddHT582HIKLm99\n61uHt8Gi/07HRd+d2ov+O7WX6rnbzE7Hdbwwdk7T82JHvKz6/epT1VeqS2bb9zdNfXFb9ZmjlJ01\nKwMAYM7xblM+p3pv09QU/7n6v9Vvz8qurK5vmkfsoury6uFNyq6YKwMAYOZ4YexzTW9OHs3d1dWz\n9Ru3UcYusb6+ProJ7ID+O3Xpu1Ob/mPR2ugGVIdn92ABAE5qa2trteT8ZMoJAICBhDEAgIGEMQCA\ngYQxAICBhDEAgIGEMQCAgYQxAICBhDEAgIGEMQCAgYQxAICBhDEAgIGEMQCAgYQxAICBhDEAgIGE\nMQCAgYQxAICBhDEAgIGEMQCAgYQxAICBhDEAgIGEMQCAgYQxAICBhDEAgIGEMQCAgYQxAICBhDEA\ngIGEMQCAgYQxAICBhDEAgIGEMQCAgYQxAICBhDEAgIGEMQCAgYQxAICBhDEAgIGEMQCAgYQxAICB\nhDEAgIGEMQCAgYQxAICBhDEAgIGEMQCAgZYZxs6pzlri8QAAdr2thLGXVX9SPVh9pHr2XNknqsdm\ny6eqh2bbz6turK6tbqkuXFJ7AQB2lbXjlD+r+nez5bzqP1R/Wr28emH1t6oPzfa9t/rW7Jifq95S\n3V5dMNvnedWjRznH4cOHD+/ohwAAeCKsra3V8fPTthxvZOzS6nXVF5pGxQ5UL5mVvaH6fvW96vNN\nQazqsqYAtjH7fEd1qLpqSW0GANg1jhfG3t8Uto74ZvWVak/TM2Jvqr4022/vbJ+Lq7urR+bq3dkU\n7IBtOPTY0QaTT0276WcBWKYzt7n/C6r3NN1uvLxpmO5V1burd1b/tDq36fmyeQ9U+3bUUjgN7T1j\nT/tuum50M5bi3mtuGN0EgJPSdt6mfFr1/Op357Ydrt5XvbF69WzbI023JU/0PAAAp43tjIy9uXp9\n05uTiz5YvWu2fl8/fK7siLOrezY78IEDB36wvr6+3vr6+jaaBQCwGhsbG21sbKz0HFt9G+C11R9V\nd80+7+3xo1/nVh+ufq568Wz96XPld1W/Vf3BUY7tbUo4BrcpAU4eq3ibcisjY1dXDzcFsP3VT1Yv\nqr5T3dQ0Uvb66h2z/T/d9JD/JdVHZ3XOqm5bYrsBAHaF44WxV1TvbXp78ojDTdNavL36B01TXny2\nunWu/Mrq+qYpLi6qrmgKdAAAzDleGPtwP5yyYtG7Ntle09QWV8/Wb9xmmwAAThvecgQAGEgYAwAY\nSBgDABhIGAMAGEgYAwAYSBgDABhIGAMAGEgYAwAYSBgDABhIGAMAGEgYAwAYSBgDABhIGAMAGEgY\nAwAYSBgDABhIGAMAGEgYAwAYSBgDABhIGAMAGEgYAwAYSBgDABhIGAMAGEgYAwAYSBgDABhIGAMA\nGEgYAwAYSBgDABhIGAMAGEgYAwAYSBgDnhCHHnt0dBOWYrf8HMDJ48zRDQBOD3vP2NO+m64b3Ywd\nu/eaG0Y3AdhljIwBAAwkjAEADCSMsSt5rgeAU4VnxtiVPJ8EwKnCyBgAwEDCGADAQMIYAMBAwhgA\nwEDCGADAQMIYAMBAwhgAwEDCGADAQMIYAMBAwhgAwEBbCWMvq/6kerD6SPXs2fbzqhura6tbqgvn\n6hyrDACAmeOFsWdV/6h6VfWr1fnVf5yV3Vp9oHpPdUN12+x4a5uU7Vly2wEATnnHC2OXVq+rvtA0\nKnagekl1WXVBtTHb747qUPXLxyi7ammtBgDYJY4Xxt5ffW/u8zerr1YXV1+uHpkru7MpvL34GGUA\nAMw5c5v7v6B6d9PtygcWyr5b7WsKeItlD8zKAACYs523KZ9WPb96V/Vo063HxWOtNY2IHa0MAIAF\n2xkZe3P1+qYg9o2mZ8fmnd10C/O+6qVHKbtnswMfOHDgB+vr6+utr69vo1kAAKuxsbHRxsbGSs+x\n1TD22up91f2zz5+orlvYZ3/TNBZfO0rZ+dXNmx18PowBAJwsFgeJDh48uPRzbOX24dXVw9XepsD1\nsuo5TSNdl8z22d90G/O26jPVVxbKzpqVAQAw53gjY6+o3tvj5wg73DTS9fHq+qZpLC6qLm8KbVVX\nLpRdMVcGAMDM8cLYh5tGxDZz9ezPGxe2332MMgAAZrzlCAAwkDAGADCQMAYAMJAwBgAwkDAGADCQ\nMAYAMJAwBgAwkDAGADCQMAYAMJAwBgAwkDAGADCQMAYAMJAwBgAwkDAGADCQMAYAMJAwBgAwkDAG\nADCQMAYAMJAwBgAwkDAGADCQMAYAMJAwBgAwkDAGADCQMAYAMJAwBgAwkDAGADCQMAYAMJAwBgAw\nkDAGADCQMAYAMJAwBgAwkDAGADCQMAYAMJAwBgAwkDAGADCQMAYAMJAwBgAwkDAGADCQMAYAMJAw\nBgAwkDAGADCQMAYAMJAwBgAwkDAGADDQdsLYU6qnH6P8nOqsnTUHAOD0spUwtlZdXd1ZvWih7BPV\nY7PlU9VDs+3nVTdW11a3VBcuoa0AALvOVsLYM6vbq33V4bntL6w+Uv3CbPnF2fa16tbqA9V7qhuq\n26o9y2kyAMDusZUwdn9171G2v6H6fvW96vPVt2bbL6suqDZmn++oDlVX7aShAAC70Yk+wL+n6Rmx\nN1Vfqt5f7Z2VXVzdXT0yt/+d1aUneC4AgF3rRMPYo9Xl1U9V/3C2/s5Z2bnVgwv7P9B0mxMAgDk7\nndricPW+6o3Vq2fbHmm6LbnM8wAA7EpnLuk4H6zeNVu/r3rJQvnZ1T2bVT5w4MAP1tfX11tfX19S\nswAATtzGxkYbGxsrPceywtiepmfHqj5avWWh/Pzq5s0qz4cxAICTxeIg0cGDB5d+jq3ePjyy39rs\nzxdVr5nb/vrqHbP1T1dfqS6Zfd7fNBnsbTtqKQDALrSVkbGfqF7b9HzYK6uvNz2k/7am58Q+Un22\naW6xZvtdWV3fNMXFRdUV1cPLbDgAwG6wlTB2f9Obku+c2/bFpjcpN3N306z9Nc3EDwDAUXjLEQBg\nIGEMAGAgYQwAYCBhDABgIGEMAGAgYQwAYCBhDABgIGEMAGAgYQwAYCBhDABgIGEMAGAgYQwAYCBh\nDABgIGEMAGAgYQwAYCBhDABgIGEMAGAgYQwAYCBhDABgIGEMAGAgYQwAYCBhDABgIGEMAGAgYQwA\nYCBhDABgIGEMAGAgYQwAYCBhDABgIGEMAGAgYQwAYCBhDABgIGEMAGAgYQwAYCBhDABgIGEMAGAg\nYQwAYCBhDABgIGEMAGAgYQwAYCBhDABgIGEMAGAgYYzHOfTYo6ObAACnlTNHN4CTy94z9rTvputG\nN2PH7r3mhtFNAIAtMTIGADDQdsLYU6qnr6ohAACno62EsbXq6urO6kVz28+rbqyurW6pLtxiGQAA\nM1sJY8+sbq/2VYdn29aqW6sPVO+pbqhumx1vs7I9y2w4AMBusJUwdn9178K2y6oLqo3Z5zuqQ9Uv\nH6Psqp01FQBg9znRB/gvru6uHpnbdmd1afXi6sublAEAMOdEp7Y4t3pwYdt3m25lnlE9sFD2wKwM\nAIA5Jzoy9kjTrcfFY60dowwAgAUnOjL2jeolC9vOrr5a3Ve99Chl92x2sAMHDvxgfX19vfX19RNs\nFgDA8mxsbLSxsbHSc5xoGNuoFqdp3980jcXXjlJ2fnXzZgebD2MAACeLxUGigwcPLv0cW719eGS/\ntdmfn66+Ul0y+7y/elrTFBafOUrZWbMyAADmbGVk7Ceq1zbNMfbK6uvVF6srq+ubprG4qLq8enhW\nZ7HsirkyAABmthLG7q/eOVvm3d00M39Ns+1vtQwAgBlvOQIADCSMAQAMJIwBAAwkjAEADCSMAQAM\nJIwBAAwkjAEADCSMAQAMJIwBAAwkjAEADCSMAQAMJIwBAAwkjAEADCSMAWzDocceHd2EpdgtPwfs\nBmeObgDAqWTvGXvad9N1o5uxY/dec8PoJgAzRsYAAAYSxgAABhLGAAAGEsYAAAYSxgAABhLGAAAG\nEsYAAAYSxgAABhLGAAAGEsYAAAYSxgAABhLGAAAGEsYAAAYSxgAABhLGAAAGEsYAAAYSxgAABhLG\nAAAGEsYAAAYSxgAABhLGAAAGEsYAAAYSxgAABhLGAAAGEsYAAAYSxgAABhLGAAAGEsYAAAYSxgAA\nBlp2GDunOmvJxwQA2LWWEcY+UT02Wz5VPVSdV91YXVvdUl24hPMAAOw6Z+6w/gurj1S/Oft8b7VW\n3Vq9pbq9+lj1oep51aM7PB8AwK6y05GxN1Tfr75Xfb76VnVZdUG1MdvnjupQddUOzwUAsOvsJIzt\naXpG7E3Vl6r3V3uri6u7q0fm9r2zunQH5wIA2JV2cpvy0eryptuSr6reXb2z+rHqwYV9H6j27eBc\nAAC70jIe4D9cva96Y/XqphGxQys4DwDArrPTB/jnfbB6V3Vf9dKFsrOrezareODAgR+sr6+vt76+\nvsRmAQCcmI2NjTY2NlZ6jmWGsT1Nz459tLpuoez86ubNKs6HMQCAk8XiINHBgweXfo6d3D58UfWa\nuWO8vnpH9enqK9Uls+37myaCvW0H5zrpHXrMrB3AqWO3/M7aLT8Hp7edjIydW72t6Tmxj1SfbZpf\nrOrK6vqmKS4uqq6oHt7BuU56e8/Y076bFgcETz33XnPD6CYATwC/s+DksZMwdlv1U5uU3V1dPVu/\ncQfnAADY1bzlCAAwkDAGADCQMAYAMJAwBgAwkDAGADCQMAYAMJAwBgAwkDAGADCQMAYAMJAwBgAw\nkDAGADCQMAYAMJAwBgAwkDAGADCQMAYAMJAwBgAwkDAGADCQMAYAMJAwBgAwkDAGADCQMAYAMJAw\nBgAwkDAGADCQMAYAMJAwBgAwkDAGADCQMAYAMJAwBgAwkDAGADCQMAYAMJAwBgAwkDAGADCQMAYA\nMJAwBgAwkDAGADCQMAYAMJAwBgAwkDAGADCQMAYAMNCZoxtQ9cXv/NnoJuzIzzz9x3vynr2jmwFw\n2jn02KPtPWPP6Gbs2G75OTgxJ0UYu+y//c7oJuzI7Ve9of1/6dzRzQA47ew9Y0/7brpudDN27N5r\nbhjdBAZymxIAYCBhDABgIGEMAGCgVYax86obq2urW6oLV3guAIBT0qoe4F+rbq3eUt1efaz6UPW8\n6tEVnRMA4JSzqpGxy6oLqo3Z5zuqQ9VVKzofA/y/L351dBPYAf136tJ3pzb9x6JVhbGLq7urR+a2\n3VlduqLzMYBfKKc2/Xfq0nenNv3HolWFsXOrBxe2PVDtW9H5AOCUdeix3fMEz276WZ4oq3pm7JGm\n25LzNg1+Zz/5rBU144lx5pqXUgE4cbtl8toyge2JWFvRcf959Xern5vb9ofVPdU/Xtj3/1TPXVE7\nAACW6a7qZ0c3Yiv+Rj96m/KupoAGAMCKrVX/u7pk9nl/dV/11GEtAgA4zTynurnptuTN1QtHNgYA\ngB913ugGsCMn2n/6fTx9cGpz7Z269MGpbSXX3rJeA9zqVx9dVj02t/zibPtTqndXf159rR99yP83\nquurt1ZvW1Kb+aFV999m9di5nfbdWvVvq69W36iuWajn2lutVfefa291dtp3i/vcvrDNtbdaq+6/\nJ/zaW6v+eHbimmbev7vac5R93129YLb89bnt/7L61eqvVv++qeEXz8qurD45t+9/qn59SW1n9f13\nrHrszDL67pXVS2brv1L9RT98ttO1t1qr7r9j1WNnltF3Rzyr+p/VH81tc+2t1qr7byv1lu7l1UM9\nfs6yLzX9Ypj3vOoT1RXVkxbKfmPh85erfzZb/2T123Nlf7/p5QCWY9X9d6x67Mwy+u4vz60/tXq4\nOjLxn2tvtVbdf6691VlG39UUCg5Wr6k+Orfdtbdaq+6/bV97y7hNudWvPnph0y+L/9p0K+uyubLf\nW9j3m03D7k+qfqH64lzZnzYNJz5zpw2nWm3/Ha8eO7OMvpv/XpZfql7X9EvKtbd6q+y/49VjZ5bR\ndzX9R/bmheO49lZvlf23lXo/YhlhbKtfffT+WQN/pvpc9YFZ3UVPqc6uPlidU+2dHe+I787+9NVK\ny7HK/ttOPbZvWX33zKbby7/f9EtqT669J8Iq+28r9Thxy+i7i5qes/3yQh3X3uqtsv+OV++olhHG\ntvXVR9W91d+p/qzpvvii11b/pGm4/UjanD/+kWOv6tsDTjer7L/t1GP7ltV3f970rRl/b7b913Lt\nPRFW2X9bqceJ22nfPb16RfVfNjl2ufZWaZX9d6x6m1pGGPtG9YyFbWdXXz9GnYer/z7bb97zm/6S\n/nD2+dtNf2Hzxz9S51jHZ+tW2X9brceJWWbffb9pNPN3q59v+gfetbdaq+q/F2yjHidmp333sqYA\n/fBs+b2mt+0eqn46196qrbL//tox6m1qGWHso00TvM47v9o4Tr09Pf6e+E9Xf7PpDYQjzpwd53lz\n2/ZXd1Tf2n5TOYpV99/x6nHiltV3877dD38hbeTaW6VV9d+9J1CP7dlp393W9EjHU2fLa6uPN718\n8b9y7a3aKvrvY03994Vj1Fupzb766Kzq7U2jJTXduto/Wz+36TXQI/9YP6PpH/H9s+XC6reqH2ua\nMuFjc+d7f/WmFfwcp6tV99+x6rEzy+i7y6pnzx3vD5pe1S7X3qqtuv9ce6uzjL6bd3WPfxvPtbda\nq+6/YdfeZl999Lnqbzf94B+uvlP96+q6pocUaxqd2+jxk6M9Vr1v7vhvbvoL+hfVv8l982VbVf8d\nqx7LsZO+a1bn203X1W9Wf2Xh+K691VpV/7n2Vm+nfTfv1/rReapce6u1qv47Yxv1AAAAAAAAAAAA\nAAAAAAAAAAAAAAAAAABgl/n//aLkDnzSKL8AAAAASUVORK5CYII=\n",
      "text/plain": [
       "<matplotlib.figure.Figure at 0x1077b3ed0>"
      ]
     },
     "metadata": {},
     "output_type": "display_data"
    }
   ],
   "source": [
    "#your code here\n",
    "plt.hist(mom)"
   ]
  },
  {
   "cell_type": "markdown",
   "metadata": {},
   "source": [
    "Using a qqplot, we can compare this distribuiton to a normal distribution. "
   ]
  },
  {
   "cell_type": "code",
   "execution_count": 105,
   "metadata": {
    "collapsed": false
   },
   "outputs": [
    {
     "data": {
      "image/png": "iVBORw0KGgoAAAANSUhEUgAAAmYAAAGRCAYAAADPU3+2AAAABHNCSVQICAgIfAhkiAAAAAlwSFlz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\n",
      "text/plain": [
       "<matplotlib.figure.Figure at 0x11817a550>"
      ]
     },
     "metadata": {},
     "output_type": "display_data"
    }
   ],
   "source": [
    "stats.probplot((mom - np.mean(mom)) / np.std(mom, ddof=1), dist=\"norm\", plot = plt)\n",
    "plt.show()"
   ]
  },
  {
   "cell_type": "markdown",
   "metadata": {},
   "source": [
    "Answer: Using a histogram and qqplot, we can see this distribution is very similar to a normal distribution. "
   ]
  },
  {
   "cell_type": "markdown",
   "metadata": {},
   "source": [
    "What is the standard error (SE) of the average of polls? "
   ]
  },
  {
   "cell_type": "code",
   "execution_count": 106,
   "metadata": {
    "collapsed": false
   },
   "outputs": [
    {
     "data": {
      "text/plain": [
       "0.0034034881879771934"
      ]
     },
     "execution_count": 106,
     "metadata": {},
     "output_type": "execute_result"
    }
   ],
   "source": [
    "#your code here\n",
    "np.std(mom, ddof = 1)"
   ]
  },
  {
   "cell_type": "markdown",
   "metadata": {},
   "source": [
    "Answer: "
   ]
  },
  {
   "cell_type": "code",
   "execution_count": 107,
   "metadata": {
    "collapsed": false
   },
   "outputs": [
    {
     "data": {
      "text/plain": [
       "'The SE of the average of polls is 0.0034'"
      ]
     },
     "execution_count": 107,
     "metadata": {},
     "output_type": "execute_result"
    }
   ],
   "source": [
    "\"The SE of the average of polls is %g\" % np.round(np.std(mom, ddof = 1), 5)"
   ]
  },
  {
   "cell_type": "markdown",
   "metadata": {},
   "source": [
    "Is the SE of the average of polls larger, the same, or smaller than that the SD of a single poll (calculated in Problem 2(b))? By how much?\n",
    "\n",
    "**Hint**: Compute a ratio of the two quantities.  "
   ]
  },
  {
   "cell_type": "code",
   "execution_count": 108,
   "metadata": {
    "collapsed": false
   },
   "outputs": [
    {
     "data": {
      "text/plain": [
       "'The ratio of the SE of the average of polls to the SD of a single poll is 0.236428'"
      ]
     },
     "execution_count": 108,
     "metadata": {},
     "output_type": "execute_result"
    }
   ],
   "source": [
    "#your code here\n",
    "ratio = np.std(mom, ddof = 1) / np.std(obs, ddof = 1) \n",
    "\n",
    "\"The ratio of the SE of the average of polls to the SD of a single poll is %g\" % ratio"
   ]
  },
  {
   "cell_type": "markdown",
   "metadata": {},
   "source": [
    "Answer: The SE of the average of polls is smaller than the SD of a single poll by approximately factor of 4. "
   ]
  },
  {
   "cell_type": "markdown",
   "metadata": {},
   "source": [
    "#### Problem 2(d) \n",
    "\n",
    "Repeat Problem 2(c) but now record the *across poll* standard deviation in each simulation. "
   ]
  },
  {
   "cell_type": "code",
   "execution_count": 110,
   "metadata": {
    "collapsed": false
   },
   "outputs": [
    {
     "name": "stderr",
     "output_type": "stream",
     "text": [
      "/usr/local/lib/python2.7/site-packages/ipykernel/__main__.py:12: DeprecationWarning: using a non-integer number instead of an integer will result in an error in the future\n"
=======
      "C:\\Users\\kyuan\\AppData\\Local\\Continuum\\Anaconda2\\lib\\site-packages\\matplotlib\\__init__.py:872: UserWarning: axes.color_cycle is deprecated and replaced with axes.prop_cycle; please use the latter.\n",
      "  warnings.warn(self.msg_depr % (key, alt_key))\n"
>>>>>>> 78f754b2a7dcc64bee2906766889a9cea64d03b3
     ]
    }
   ],
   "source": [
<<<<<<< HEAD
    "#your code here\n",
    "B = 1000\n",
    "p = 0.53\n",
    "sds = map(lambda y: np.std(simulatePolls(p, N, M), ddof = 0), xrange(B))"
=======
    "# special matplotlib argument for improved plots\n",
    "from matplotlib import rcParams\n",
    "\n",
    "#colorbrewer2 Dark2 qualitative color table\n",
    "dark2_colors = [(0.10588235294117647, 0.6196078431372549, 0.4666666666666667),\n",
    "                (0.8509803921568627, 0.37254901960784315, 0.00784313725490196),\n",
    "                (0.4588235294117647, 0.4392156862745098, 0.7019607843137254),\n",
    "                (0.9058823529411765, 0.1607843137254902, 0.5411764705882353),\n",
    "                (0.4, 0.6509803921568628, 0.11764705882352941),\n",
    "                (0.9019607843137255, 0.6705882352941176, 0.00784313725490196),\n",
    "                (0.6509803921568628, 0.4627450980392157, 0.11372549019607843)]\n",
    "\n",
    "rcParams['figure.figsize'] = (10, 6)\n",
    "rcParams['figure.dpi'] = 150\n",
    "rcParams['axes.color_cycle'] = dark2_colors\n",
    "rcParams['lines.linewidth'] = 2\n",
    "rcParams['axes.facecolor'] = 'white'\n",
    "rcParams['font.size'] = 14\n",
    "rcParams['patch.edgecolor'] = 'white'\n",
    "rcParams['patch.facecolor'] = dark2_colors[0]\n",
    "rcParams['font.family'] = 'StixGeneral'"
   ]
  },
  {
   "cell_type": "markdown",
   "metadata": {},
   "source": [
    "## Problem 1\n",
    "\n",
    "In this problem we will be using a [gene expression](http://en.wikipedia.org/wiki/Gene_expression) data set obtained from a [microarray](http://en.wikipedia.org/wiki/DNA_microarray) experiement [Read more about the specific experiment here](http://www.ncbi.nlm.nih.gov/geo/query/acc.cgi?acc=GSE5859).  There are two data sets we will use:  \n",
    "\n",
    "1. The gene expression intensities where the rows represent the features on the microarray (e.g. genes) and the columsns represent the different microarray samples.  \n",
    "\n",
    "2. A table that contains the information about each of the samples (columns in the gene expression data set) such as the sex, the age, the treatment status, the date the samples were processed.  Each row represents one sample. "
   ]
  },
  {
   "cell_type": "markdown",
   "metadata": {},
   "source": [
    "#### Problem 1(a) "
   ]
  },
  {
   "cell_type": "markdown",
   "metadata": {},
   "source": [
    "Read in the two files from Github: [exprs_GSE5859.csv](https://github.com/cs109/2014_data/blob/master/exprs_GSE5859.csv) and [sampleinfo_GSE5859.csv](https://github.com/cs109/2014_data/blob/master/sampleinfo_GSE5859.csv) as pandas DataFrames called `exprs` and `sampleinfo`. Use the gene names as the index of the `exprs` DataFrame."
   ]
  },
  {
   "cell_type": "code",
   "execution_count": 3,
   "metadata": {
    "collapsed": false
   },
   "outputs": [],
   "source": [
    "#your code here\n",
    "url_exprs = \"https://raw.githubusercontent.com/cs109/2014_data/master/exprs_GSE5859.csv\"\n",
    "exprs = pd.read_csv(url_exprs, index_col=0)\n",
    "\n",
    "url_sampleinfo = \"https://raw.githubusercontent.com/cs109/2014_data/master/sampleinfo_GSE5859.csv\"\n",
    "sampleinfo = pd.read_csv(url_sampleinfo)"
>>>>>>> 78f754b2a7dcc64bee2906766889a9cea64d03b3
   ]
  },
  {
   "cell_type": "markdown",
   "metadata": {},
   "source": [
<<<<<<< HEAD
    "What is the distribution of the *across M polls* standard deviation?\n",
    "\n",
    "**Hint**: Show a plot. "
=======
    "Make sure the order of the columns in the gene expression DataFrame match the order of file names in the sample annotation DataFrame. If the order of the columns the `exprs` DataFrame do not match the order of the file names in the `sampleinfo` DataFrame, reorder the columns in the `exprs` DataFrame. \n",
    "\n",
    "**Note**: The column names of the gene expression DataFrame are the filenames of the orignal files from which these data were obtained.  \n",
    "\n",
    "**Hint**: The method `list.index(x)` [[read here](https://docs.python.org/2/tutorial/datastructures.html)] can be used to return the index in the list of the first item whose value is x. It is an error if there is no such item. To check if the order of the columns in `exprs` matches the order of the rows in `sampleinfo`, you can check using the method `.all()` on a Boolean or list of Booleans: \n",
    "\n",
    "Example code: `(exprs.columns == sampleinfo.filename).all()`"
   ]
  },
  {
   "cell_type": "markdown",
   "metadata": {},
   "source": [
    "First, let's check if order of the columns in the `exprs` DataFrame match the order of the `filename` in the `sampleinfo` DataFrame using the `==` Boolean operator. "
>>>>>>> 78f754b2a7dcc64bee2906766889a9cea64d03b3
   ]
  },
  {
   "cell_type": "code",
<<<<<<< HEAD
   "execution_count": 112,
=======
   "execution_count": 4,
>>>>>>> 78f754b2a7dcc64bee2906766889a9cea64d03b3
   "metadata": {
    "collapsed": false
   },
   "outputs": [
    {
     "data": {
      "text/plain": [
<<<<<<< HEAD
       "<matplotlib.text.Text at 0x1187fd350>"
      ]
     },
     "execution_count": 112,
     "metadata": {},
     "output_type": "execute_result"
    },
    {
     "data": {
      "image/png": "iVBORw0KGgoAAAANSUhEUgAAAncAAAGRCAYAAAAHP5VgAAAABHNCSVQICAgIfAhkiAAAAAlwSFlz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\n",
      "text/plain": [
       "<matplotlib.figure.Figure at 0x11848ff10>"
      ]
     },
     "metadata": {},
     "output_type": "display_data"
=======
       "False"
      ]
     },
     "execution_count": 4,
     "metadata": {},
     "output_type": "execute_result"
    }
   ],
   "source": [
    "(exprs.columns == sampleinfo.filename).all()"
   ]
  },
  {
   "cell_type": "markdown",
   "metadata": {},
   "source": [
    "Now we know the columns in the `exprs` DataFrame are out of order compared to the order of the rows in the `sampleinfo` DataFrame.  To check if there are any columns in the correct order, we can test for which columns are equal to the `filename` in the `sampleinfo` DataFrame.  "
   ]
  },
  {
   "cell_type": "code",
   "execution_count": 5,
   "metadata": {
    "collapsed": false
   },
   "outputs": [
    {
     "data": {
      "text/html": [
       "<div>\n",
       "<table border=\"1\" class=\"dataframe\">\n",
       "  <thead>\n",
       "    <tr style=\"text-align: right;\">\n",
       "      <th></th>\n",
       "      <th>ethnicity</th>\n",
       "      <th>date</th>\n",
       "      <th>filename</th>\n",
       "      <th>sex</th>\n",
       "    </tr>\n",
       "  </thead>\n",
       "  <tbody>\n",
       "    <tr>\n",
       "      <th>23</th>\n",
       "      <td>CEU</td>\n",
       "      <td>2002-11-21</td>\n",
       "      <td>GSM25482.CEL.gz</td>\n",
       "      <td>F</td>\n",
       "    </tr>\n",
       "  </tbody>\n",
       "</table>\n",
       "</div>"
      ],
      "text/plain": [
       "   ethnicity        date         filename sex\n",
       "23       CEU  2002-11-21  GSM25482.CEL.gz   F"
      ]
     },
     "execution_count": 5,
     "metadata": {},
     "output_type": "execute_result"
    }
   ],
   "source": [
    "sampleinfo[exprs.columns == sampleinfo.filename]"
   ]
  },
  {
   "cell_type": "markdown",
   "metadata": {},
   "source": [
    "Now, we want to re-order the columns in the `exprs` DataFrame to match the order of the file names in the `sampleinfo` DataFrame. One way of doing this is to use the `list.index()` method.  First, we convert the file names in `sampleinfo` and the column names of `exprs` and to two lists: `a` and `b`. Then, we use a list comprehension to iterate through each element in `a` and return the index in `b` that matches using the `list.index()` method.  Once we know all the indexes, we can re-order `exprs` so that the columns match the same order as the `filenames` in `sampleinfo`. "
   ]
  },
  {
   "cell_type": "code",
   "execution_count": 66,
   "metadata": {
    "collapsed": false
   },
   "outputs": [
    {
     "data": {
      "text/plain": [
       "True"
      ]
     },
     "execution_count": 66,
     "metadata": {},
     "output_type": "execute_result"
>>>>>>> 78f754b2a7dcc64bee2906766889a9cea64d03b3
    }
   ],
   "source": [
    "#your code here\n",
<<<<<<< HEAD
    "plt.hist(sds)\n",
    "plt.xlabel('Standard deviations across %i polls' % M)\n",
    "plt.ylabel('Frequency')\n",
    "plt.title('Histogram of standard deviations across %i polls' % M)"
=======
    "a = list(sampleinfo.filename)\n",
    "b = list(exprs.columns)\n",
    "matchIndex = [b.index(x) for x in a]\n",
    "exprs = exprs[matchIndex]\n",
    "\n",
    "# check if all the column names match the file names in sampleinfo\n",
    "(exprs.columns == sampleinfo.filename).all()"
   ]
  },
  {
   "cell_type": "markdown",
   "metadata": {},
   "source": [
    "Show the head of the two tables: `exprs` and `sampleinfo`. "
>>>>>>> 78f754b2a7dcc64bee2906766889a9cea64d03b3
   ]
  },
  {
   "cell_type": "code",
<<<<<<< HEAD
   "execution_count": 117,
=======
   "execution_count": 67,
>>>>>>> 78f754b2a7dcc64bee2906766889a9cea64d03b3
   "metadata": {
    "collapsed": false
   },
   "outputs": [
    {
     "data": {
<<<<<<< HEAD
      "image/png": "iVBORw0KGgoAAAANSUhEUgAAAmYAAAGRCAYAAADPU3+2AAAABHNCSVQICAgIfAhkiAAAAAlwSFlz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\nzERERERC4v8BUnegODTIlacAAAAASUVORK5CYII=\n",
      "text/plain": [
       "<matplotlib.figure.Figure at 0x1181dc050>"
      ]
     },
     "metadata": {},
     "output_type": "display_data"
    }
   ],
   "source": [
    "stats.probplot((sds - np.mean(sds)) / np.std(sds, ddof=1), dist=\"norm\", plot = plt)\n",
    "plt.show()"
=======
      "text/html": [
       "<div style=\"max-height:1000px;max-width:1500px;overflow:auto;\">\n",
       "<table border=\"1\" class=\"dataframe\">\n",
       "  <thead>\n",
       "    <tr style=\"text-align: right;\">\n",
       "      <th></th>\n",
       "      <th>GSM25349.CEL.gz</th>\n",
       "      <th>GSM25350.CEL.gz</th>\n",
       "      <th>GSM25356.CEL.gz</th>\n",
       "      <th>GSM25357.CEL.gz</th>\n",
       "      <th>GSM25358.CEL.gz</th>\n",
       "      <th>GSM25359.CEL.gz</th>\n",
       "      <th>GSM25360.CEL.gz</th>\n",
       "      <th>GSM25361.CEL.gz</th>\n",
       "      <th>GSM25377.CEL.gz</th>\n",
       "      <th>GSM25378.CEL.gz</th>\n",
       "      <th>...</th>\n",
       "      <th>GSM136719.CEL.gz</th>\n",
       "      <th>GSM136720.CEL.gz</th>\n",
       "      <th>GSM136721.CEL.gz</th>\n",
       "      <th>GSM136722.CEL.gz</th>\n",
       "      <th>GSM136723.CEL.gz</th>\n",
       "      <th>GSM136724.CEL.gz</th>\n",
       "      <th>GSM136725.CEL.gz</th>\n",
       "      <th>GSM136726.CEL.gz</th>\n",
       "      <th>GSM136727.CEL.gz</th>\n",
       "      <th>GSM136729.CEL.gz</th>\n",
       "    </tr>\n",
       "  </thead>\n",
       "  <tbody>\n",
       "    <tr>\n",
       "      <th>1007_s_at</th>\n",
       "      <td> 6.627014</td>\n",
       "      <td> 6.249807</td>\n",
       "      <td> 5.934128</td>\n",
       "      <td> 6.145268</td>\n",
       "      <td> 6.091270</td>\n",
       "      <td> 6.041186</td>\n",
       "      <td> 6.050375</td>\n",
       "      <td> 6.063847</td>\n",
       "      <td> 6.226106</td>\n",
       "      <td> 6.358282</td>\n",
       "      <td>...</td>\n",
       "      <td> 6.466445</td>\n",
       "      <td> 6.533592</td>\n",
       "      <td> 6.631492</td>\n",
       "      <td> 6.513362</td>\n",
       "      <td> 6.440706</td>\n",
       "      <td> 6.704324</td>\n",
       "      <td> 6.488579</td>\n",
       "      <td> 6.809481</td>\n",
       "      <td> 6.133068</td>\n",
       "      <td> 6.155473</td>\n",
       "    </tr>\n",
       "    <tr>\n",
       "      <th>1053_at</th>\n",
       "      <td> 6.939184</td>\n",
       "      <td> 6.818038</td>\n",
       "      <td> 7.047962</td>\n",
       "      <td> 7.422477</td>\n",
       "      <td> 7.272361</td>\n",
       "      <td> 7.128216</td>\n",
       "      <td> 6.750719</td>\n",
       "      <td> 6.836287</td>\n",
       "      <td> 6.738022</td>\n",
       "      <td> 7.367895</td>\n",
       "      <td>...</td>\n",
       "      <td> 7.032885</td>\n",
       "      <td> 7.156344</td>\n",
       "      <td> 7.018025</td>\n",
       "      <td> 6.973322</td>\n",
       "      <td> 6.884738</td>\n",
       "      <td> 7.120898</td>\n",
       "      <td> 7.517410</td>\n",
       "      <td> 7.200596</td>\n",
       "      <td> 7.280781</td>\n",
       "      <td> 7.111583</td>\n",
       "    </tr>\n",
       "    <tr>\n",
       "      <th>117_at</th>\n",
       "      <td> 5.113570</td>\n",
       "      <td> 5.074096</td>\n",
       "      <td> 5.371201</td>\n",
       "      <td> 5.266550</td>\n",
       "      <td> 5.342047</td>\n",
       "      <td> 5.063876</td>\n",
       "      <td> 5.315898</td>\n",
       "      <td> 5.483652</td>\n",
       "      <td> 6.689444</td>\n",
       "      <td> 6.482782</td>\n",
       "      <td>...</td>\n",
       "      <td> 5.661112</td>\n",
       "      <td> 5.127260</td>\n",
       "      <td> 5.151840</td>\n",
       "      <td> 5.505602</td>\n",
       "      <td> 5.687689</td>\n",
       "      <td> 4.942651</td>\n",
       "      <td> 5.247190</td>\n",
       "      <td> 5.237239</td>\n",
       "      <td> 5.401876</td>\n",
       "      <td> 5.302628</td>\n",
       "    </tr>\n",
       "    <tr>\n",
       "      <th>121_at</th>\n",
       "      <td> 7.833862</td>\n",
       "      <td> 7.780682</td>\n",
       "      <td> 7.458197</td>\n",
       "      <td> 7.655948</td>\n",
       "      <td> 7.546555</td>\n",
       "      <td> 7.072670</td>\n",
       "      <td> 7.092984</td>\n",
       "      <td> 6.954225</td>\n",
       "      <td> 7.489785</td>\n",
       "      <td> 7.388539</td>\n",
       "      <td>...</td>\n",
       "      <td> 7.769734</td>\n",
       "      <td> 7.815864</td>\n",
       "      <td> 7.683279</td>\n",
       "      <td> 7.883231</td>\n",
       "      <td> 7.913621</td>\n",
       "      <td> 7.834196</td>\n",
       "      <td> 7.331864</td>\n",
       "      <td> 7.357102</td>\n",
       "      <td> 7.607461</td>\n",
       "      <td> 7.456453</td>\n",
       "    </tr>\n",
       "    <tr>\n",
       "      <th>1255_g_at</th>\n",
       "      <td> 3.152269</td>\n",
       "      <td> 3.111747</td>\n",
       "      <td> 3.018932</td>\n",
       "      <td> 3.154545</td>\n",
       "      <td> 3.107954</td>\n",
       "      <td> 3.224284</td>\n",
       "      <td> 3.114241</td>\n",
       "      <td> 3.044975</td>\n",
       "      <td> 3.304038</td>\n",
       "      <td> 2.887919</td>\n",
       "      <td>...</td>\n",
       "      <td> 3.257484</td>\n",
       "      <td> 3.339234</td>\n",
       "      <td> 3.298384</td>\n",
       "      <td> 3.150654</td>\n",
       "      <td> 3.344501</td>\n",
       "      <td> 3.230285</td>\n",
       "      <td> 3.175846</td>\n",
       "      <td> 3.105092</td>\n",
       "      <td> 3.225123</td>\n",
       "      <td> 3.090149</td>\n",
       "    </tr>\n",
       "  </tbody>\n",
       "</table>\n",
       "<p>5 rows × 208 columns</p>\n",
       "</div>"
      ],
      "text/plain": [
       "           GSM25349.CEL.gz  GSM25350.CEL.gz  GSM25356.CEL.gz  GSM25357.CEL.gz  \\\n",
       "1007_s_at         6.627014         6.249807         5.934128         6.145268   \n",
       "1053_at           6.939184         6.818038         7.047962         7.422477   \n",
       "117_at            5.113570         5.074096         5.371201         5.266550   \n",
       "121_at            7.833862         7.780682         7.458197         7.655948   \n",
       "1255_g_at         3.152269         3.111747         3.018932         3.154545   \n",
       "\n",
       "           GSM25358.CEL.gz  GSM25359.CEL.gz  GSM25360.CEL.gz  GSM25361.CEL.gz  \\\n",
       "1007_s_at         6.091270         6.041186         6.050375         6.063847   \n",
       "1053_at           7.272361         7.128216         6.750719         6.836287   \n",
       "117_at            5.342047         5.063876         5.315898         5.483652   \n",
       "121_at            7.546555         7.072670         7.092984         6.954225   \n",
       "1255_g_at         3.107954         3.224284         3.114241         3.044975   \n",
       "\n",
       "           GSM25377.CEL.gz  GSM25378.CEL.gz       ...         \\\n",
       "1007_s_at         6.226106         6.358282       ...          \n",
       "1053_at           6.738022         7.367895       ...          \n",
       "117_at            6.689444         6.482782       ...          \n",
       "121_at            7.489785         7.388539       ...          \n",
       "1255_g_at         3.304038         2.887919       ...          \n",
       "\n",
       "           GSM136719.CEL.gz  GSM136720.CEL.gz  GSM136721.CEL.gz  \\\n",
       "1007_s_at          6.466445          6.533592          6.631492   \n",
       "1053_at            7.032885          7.156344          7.018025   \n",
       "117_at             5.661112          5.127260          5.151840   \n",
       "121_at             7.769734          7.815864          7.683279   \n",
       "1255_g_at          3.257484          3.339234          3.298384   \n",
       "\n",
       "           GSM136722.CEL.gz  GSM136723.CEL.gz  GSM136724.CEL.gz  \\\n",
       "1007_s_at          6.513362          6.440706          6.704324   \n",
       "1053_at            6.973322          6.884738          7.120898   \n",
       "117_at             5.505602          5.687689          4.942651   \n",
       "121_at             7.883231          7.913621          7.834196   \n",
       "1255_g_at          3.150654          3.344501          3.230285   \n",
       "\n",
       "           GSM136725.CEL.gz  GSM136726.CEL.gz  GSM136727.CEL.gz  \\\n",
       "1007_s_at          6.488579          6.809481          6.133068   \n",
       "1053_at            7.517410          7.200596          7.280781   \n",
       "117_at             5.247190          5.237239          5.401876   \n",
       "121_at             7.331864          7.357102          7.607461   \n",
       "1255_g_at          3.175846          3.105092          3.225123   \n",
       "\n",
       "           GSM136729.CEL.gz  \n",
       "1007_s_at          6.155473  \n",
       "1053_at            7.111583  \n",
       "117_at             5.302628  \n",
       "121_at             7.456453  \n",
       "1255_g_at          3.090149  \n",
       "\n",
       "[5 rows x 208 columns]"
      ]
     },
     "execution_count": 67,
     "metadata": {},
     "output_type": "execute_result"
    }
   ],
   "source": [
    "exprs.head()"
   ]
  },
  {
   "cell_type": "code",
   "execution_count": 68,
   "metadata": {
    "collapsed": false
   },
   "outputs": [
    {
     "data": {
      "text/html": [
       "<div style=\"max-height:1000px;max-width:1500px;overflow:auto;\">\n",
       "<table border=\"1\" class=\"dataframe\">\n",
       "  <thead>\n",
       "    <tr style=\"text-align: right;\">\n",
       "      <th></th>\n",
       "      <th>ethnicity</th>\n",
       "      <th>date</th>\n",
       "      <th>filename</th>\n",
       "      <th>sex</th>\n",
       "    </tr>\n",
       "  </thead>\n",
       "  <tbody>\n",
       "    <tr>\n",
       "      <th>0</th>\n",
       "      <td> CEU</td>\n",
       "      <td> 2003-02-04</td>\n",
       "      <td> GSM25349.CEL.gz</td>\n",
       "      <td> M</td>\n",
       "    </tr>\n",
       "    <tr>\n",
       "      <th>1</th>\n",
       "      <td> CEU</td>\n",
       "      <td> 2003-02-04</td>\n",
       "      <td> GSM25350.CEL.gz</td>\n",
       "      <td> M</td>\n",
       "    </tr>\n",
       "    <tr>\n",
       "      <th>2</th>\n",
       "      <td> CEU</td>\n",
       "      <td> 2002-12-17</td>\n",
       "      <td> GSM25356.CEL.gz</td>\n",
       "      <td> M</td>\n",
       "    </tr>\n",
       "    <tr>\n",
       "      <th>3</th>\n",
       "      <td> CEU</td>\n",
       "      <td> 2003-01-30</td>\n",
       "      <td> GSM25357.CEL.gz</td>\n",
       "      <td> M</td>\n",
       "    </tr>\n",
       "    <tr>\n",
       "      <th>4</th>\n",
       "      <td> CEU</td>\n",
       "      <td> 2003-01-03</td>\n",
       "      <td> GSM25358.CEL.gz</td>\n",
       "      <td> M</td>\n",
       "    </tr>\n",
       "  </tbody>\n",
       "</table>\n",
       "</div>"
      ],
      "text/plain": [
       "  ethnicity        date         filename sex\n",
       "0       CEU  2003-02-04  GSM25349.CEL.gz   M\n",
       "1       CEU  2003-02-04  GSM25350.CEL.gz   M\n",
       "2       CEU  2002-12-17  GSM25356.CEL.gz   M\n",
       "3       CEU  2003-01-30  GSM25357.CEL.gz   M\n",
       "4       CEU  2003-01-03  GSM25358.CEL.gz   M"
      ]
     },
     "execution_count": 68,
     "metadata": {},
     "output_type": "execute_result"
    }
   ],
   "source": [
    "sampleinfo.head()"
>>>>>>> 78f754b2a7dcc64bee2906766889a9cea64d03b3
   ]
  },
  {
   "cell_type": "markdown",
   "metadata": {},
   "source": [
<<<<<<< HEAD
    "Answer: Using the histogram and qqplot, we see the distribution is normally distributed. "
=======
    "#### Problem 1(b)\n",
    "\n",
    "Extract the year and month as integers from the `sampleinfo` table. \n",
    "\n",
    "**Hint**: To convert a Series or a column of a pandas DataFrame that contains a date-like object, you can use the `to_datetime` function [[read here](http://pandas.pydata.org/pandas-docs/stable/timeseries.html)].  This will create a `DatetimeIndex` which can be used to extract the month and year for each row in the DataFrame. "
   ]
  },
  {
   "cell_type": "code",
   "execution_count": 69,
   "metadata": {
    "collapsed": false
   },
   "outputs": [],
   "source": [
    "#your code here\n",
    "sampleinfo[\"date\"] = pd.to_datetime(sampleinfo.date)\n",
    "sampleinfo[\"month\"] = map(lambda x: x.month, sampleinfo.date)\n",
    "sampleinfo[\"year\"] = map(lambda x: x.year, sampleinfo.date)"
>>>>>>> 78f754b2a7dcc64bee2906766889a9cea64d03b3
   ]
  },
  {
   "cell_type": "markdown",
   "metadata": {},
   "source": [
<<<<<<< HEAD
    "#### Problem 2(e) \n",
    "\n",
    "What is the standard deviation of M polls in our real (not simulated) 2012 presidential election data ? "
=======
    "#### Problem 1(c)\n",
    "\n",
    "Convert the dates in the `date` column from the `sampleinfo` table into days since October 31, 2002. Add a column to the `sampleinfo` DataFrame titled `elapsedInDays` containing the days since October 31, 2002.  Show the head of the `sampleinfo` DataFrame which includes the new column.  \n",
    "\n",
    "**Hint**: Use the `datetime` module to create a new `datetime` object for the specific date October 31, 2002. Then, subtract the October 31, 2002 date from each date from the `date` column in the `sampleinfo` DataFrame. "
>>>>>>> 78f754b2a7dcc64bee2906766889a9cea64d03b3
   ]
  },
  {
   "cell_type": "code",
<<<<<<< HEAD
   "execution_count": 114,
=======
   "execution_count": 70,
>>>>>>> 78f754b2a7dcc64bee2906766889a9cea64d03b3
   "metadata": {
    "collapsed": false
   },
   "outputs": [
    {
     "data": {
      "text/plain": [
<<<<<<< HEAD
       "0.010829771494232192"
      ]
     },
     "execution_count": 114,
=======
       "datetime.datetime(2002, 10, 31, 0, 0)"
      ]
     },
     "execution_count": 70,
>>>>>>> 78f754b2a7dcc64bee2906766889a9cea64d03b3
     "metadata": {},
     "output_type": "execute_result"
    }
   ],
   "source": [
    "#your code here\n",
<<<<<<< HEAD
    "thesd = np.std(filtered[\"Obama\"] / 100, ddof = 0)\n",
    "thesd"
=======
    "oct31 = dt.datetime(2002,10,31,0,0)\n",
    "oct31"
   ]
  },
  {
   "cell_type": "code",
   "execution_count": 71,
   "metadata": {
    "collapsed": false
   },
   "outputs": [
    {
     "data": {
      "text/html": [
       "<div style=\"max-height:1000px;max-width:1500px;overflow:auto;\">\n",
       "<table border=\"1\" class=\"dataframe\">\n",
       "  <thead>\n",
       "    <tr style=\"text-align: right;\">\n",
       "      <th></th>\n",
       "      <th>ethnicity</th>\n",
       "      <th>date</th>\n",
       "      <th>filename</th>\n",
       "      <th>sex</th>\n",
       "      <th>month</th>\n",
       "      <th>year</th>\n",
       "      <th>elapsedInDays</th>\n",
       "    </tr>\n",
       "  </thead>\n",
       "  <tbody>\n",
       "    <tr>\n",
       "      <th>0</th>\n",
       "      <td> CEU</td>\n",
       "      <td>2003-02-04</td>\n",
       "      <td> GSM25349.CEL.gz</td>\n",
       "      <td> M</td>\n",
       "      <td>  2</td>\n",
       "      <td> 2003</td>\n",
       "      <td> 96</td>\n",
       "    </tr>\n",
       "    <tr>\n",
       "      <th>1</th>\n",
       "      <td> CEU</td>\n",
       "      <td>2003-02-04</td>\n",
       "      <td> GSM25350.CEL.gz</td>\n",
       "      <td> M</td>\n",
       "      <td>  2</td>\n",
       "      <td> 2003</td>\n",
       "      <td> 96</td>\n",
       "    </tr>\n",
       "    <tr>\n",
       "      <th>2</th>\n",
       "      <td> CEU</td>\n",
       "      <td>2002-12-17</td>\n",
       "      <td> GSM25356.CEL.gz</td>\n",
       "      <td> M</td>\n",
       "      <td> 12</td>\n",
       "      <td> 2002</td>\n",
       "      <td> 47</td>\n",
       "    </tr>\n",
       "    <tr>\n",
       "      <th>3</th>\n",
       "      <td> CEU</td>\n",
       "      <td>2003-01-30</td>\n",
       "      <td> GSM25357.CEL.gz</td>\n",
       "      <td> M</td>\n",
       "      <td>  1</td>\n",
       "      <td> 2003</td>\n",
       "      <td> 91</td>\n",
       "    </tr>\n",
       "    <tr>\n",
       "      <th>4</th>\n",
       "      <td> CEU</td>\n",
       "      <td>2003-01-03</td>\n",
       "      <td> GSM25358.CEL.gz</td>\n",
       "      <td> M</td>\n",
       "      <td>  1</td>\n",
       "      <td> 2003</td>\n",
       "      <td> 64</td>\n",
       "    </tr>\n",
       "  </tbody>\n",
       "</table>\n",
       "</div>"
      ],
      "text/plain": [
       "  ethnicity       date         filename sex  month  year  elapsedInDays\n",
       "0       CEU 2003-02-04  GSM25349.CEL.gz   M      2  2003             96\n",
       "1       CEU 2003-02-04  GSM25350.CEL.gz   M      2  2003             96\n",
       "2       CEU 2002-12-17  GSM25356.CEL.gz   M     12  2002             47\n",
       "3       CEU 2003-01-30  GSM25357.CEL.gz   M      1  2003             91\n",
       "4       CEU 2003-01-03  GSM25358.CEL.gz   M      1  2003             64"
      ]
     },
     "execution_count": 71,
     "metadata": {},
     "output_type": "execute_result"
    }
   ],
   "source": [
    "sampleinfo[\"elapsedInDays\"] = map(lambda x: (x - oct31).days, sampleinfo.date)\n",
    "sampleinfo.head()"
>>>>>>> 78f754b2a7dcc64bee2906766889a9cea64d03b3
   ]
  },
  {
   "cell_type": "markdown",
   "metadata": {},
   "source": [
<<<<<<< HEAD
    "Is this larger, the same, or smaller than what we expeced if polls were not biased."
=======
    "#### Problem 1(d)\n",
    "\n",
    "Use exploratory analysis and the singular value decomposition (SVD) of the gene expression data matrix to determine if the date the samples were processed has large effect on the variability seen in the data or if it is just ethnicity (which is confounded with date).\n",
    "\n",
    "**Hint**: See the end of the [lecture from 9/23/2014 for help with SVD](http://nbviewer.ipython.org/github/cs109/2014/blob/master/lectures/lecture07/data_scraping_transcript.ipynb). \n",
    "\n",
    "First subset the the `sampleinfo` DataFrame to include only the CEU ethnicity.  Call this new subsetted DataFrame `sampleinfoCEU`.  Show the head of `sampleinfoCEU` DataFrame. "
>>>>>>> 78f754b2a7dcc64bee2906766889a9cea64d03b3
   ]
  },
  {
   "cell_type": "code",
<<<<<<< HEAD
   "execution_count": 115,
=======
   "execution_count": 72,
>>>>>>> 78f754b2a7dcc64bee2906766889a9cea64d03b3
   "metadata": {
    "collapsed": false
   },
   "outputs": [
    {
     "data": {
<<<<<<< HEAD
      "text/plain": [
       "0.78829149253716135"
      ]
     },
     "execution_count": 115,
=======
      "text/html": [
       "<div style=\"max-height:1000px;max-width:1500px;overflow:auto;\">\n",
       "<table border=\"1\" class=\"dataframe\">\n",
       "  <thead>\n",
       "    <tr style=\"text-align: right;\">\n",
       "      <th></th>\n",
       "      <th>ethnicity</th>\n",
       "      <th>date</th>\n",
       "      <th>filename</th>\n",
       "      <th>sex</th>\n",
       "      <th>month</th>\n",
       "      <th>year</th>\n",
       "      <th>elapsedInDays</th>\n",
       "    </tr>\n",
       "  </thead>\n",
       "  <tbody>\n",
       "    <tr>\n",
       "      <th>0</th>\n",
       "      <td> CEU</td>\n",
       "      <td>2003-02-04</td>\n",
       "      <td> GSM25349.CEL.gz</td>\n",
       "      <td> M</td>\n",
       "      <td>  2</td>\n",
       "      <td> 2003</td>\n",
       "      <td> 96</td>\n",
       "    </tr>\n",
       "    <tr>\n",
       "      <th>1</th>\n",
       "      <td> CEU</td>\n",
       "      <td>2003-02-04</td>\n",
       "      <td> GSM25350.CEL.gz</td>\n",
       "      <td> M</td>\n",
       "      <td>  2</td>\n",
       "      <td> 2003</td>\n",
       "      <td> 96</td>\n",
       "    </tr>\n",
       "    <tr>\n",
       "      <th>2</th>\n",
       "      <td> CEU</td>\n",
       "      <td>2002-12-17</td>\n",
       "      <td> GSM25356.CEL.gz</td>\n",
       "      <td> M</td>\n",
       "      <td> 12</td>\n",
       "      <td> 2002</td>\n",
       "      <td> 47</td>\n",
       "    </tr>\n",
       "    <tr>\n",
       "      <th>3</th>\n",
       "      <td> CEU</td>\n",
       "      <td>2003-01-30</td>\n",
       "      <td> GSM25357.CEL.gz</td>\n",
       "      <td> M</td>\n",
       "      <td>  1</td>\n",
       "      <td> 2003</td>\n",
       "      <td> 91</td>\n",
       "    </tr>\n",
       "    <tr>\n",
       "      <th>4</th>\n",
       "      <td> CEU</td>\n",
       "      <td>2003-01-03</td>\n",
       "      <td> GSM25358.CEL.gz</td>\n",
       "      <td> M</td>\n",
       "      <td>  1</td>\n",
       "      <td> 2003</td>\n",
       "      <td> 64</td>\n",
       "    </tr>\n",
       "  </tbody>\n",
       "</table>\n",
       "</div>"
      ],
      "text/plain": [
       "  ethnicity       date         filename sex  month  year  elapsedInDays\n",
       "0       CEU 2003-02-04  GSM25349.CEL.gz   M      2  2003             96\n",
       "1       CEU 2003-02-04  GSM25350.CEL.gz   M      2  2003             96\n",
       "2       CEU 2002-12-17  GSM25356.CEL.gz   M     12  2002             47\n",
       "3       CEU 2003-01-30  GSM25357.CEL.gz   M      1  2003             91\n",
       "4       CEU 2003-01-03  GSM25358.CEL.gz   M      1  2003             64"
      ]
     },
     "execution_count": 72,
>>>>>>> 78f754b2a7dcc64bee2906766889a9cea64d03b3
     "metadata": {},
     "output_type": "execute_result"
    }
   ],
   "source": [
    "#your code here\n",
<<<<<<< HEAD
    "thesd / np.mean(sds)"
=======
    "sampleinfoCEU = sampleinfo[sampleinfo.ethnicity == \"CEU\"]\n",
    "sampleinfoCEU.head()"
>>>>>>> 78f754b2a7dcc64bee2906766889a9cea64d03b3
   ]
  },
  {
   "cell_type": "markdown",
   "metadata": {},
   "source": [
<<<<<<< HEAD
    "Answer: The standard deviation in our real 2012 presidential election data is smaller than what we expect if the polls were not biased. "
=======
    "Next, subset the `exprs` DataFrame to only include the samples with the CEU ethnicity. Name this new subsetted DataFrame `exprsCEU`. Show the head of the `exprsCEU` DataFrame. "
   ]
  },
  {
   "cell_type": "code",
   "execution_count": 73,
   "metadata": {
    "collapsed": false
   },
   "outputs": [
    {
     "data": {
      "text/html": [
       "<div style=\"max-height:1000px;max-width:1500px;overflow:auto;\">\n",
       "<table border=\"1\" class=\"dataframe\">\n",
       "  <thead>\n",
       "    <tr style=\"text-align: right;\">\n",
       "      <th></th>\n",
       "      <th>GSM25349.CEL.gz</th>\n",
       "      <th>GSM25350.CEL.gz</th>\n",
       "      <th>GSM25356.CEL.gz</th>\n",
       "      <th>GSM25357.CEL.gz</th>\n",
       "      <th>GSM25358.CEL.gz</th>\n",
       "      <th>GSM25359.CEL.gz</th>\n",
       "      <th>GSM25360.CEL.gz</th>\n",
       "      <th>GSM25361.CEL.gz</th>\n",
       "      <th>GSM25377.CEL.gz</th>\n",
       "      <th>GSM25378.CEL.gz</th>\n",
       "      <th>...</th>\n",
       "      <th>GSM48658.CEL.gz</th>\n",
       "      <th>GSM48660.CEL.gz</th>\n",
       "      <th>GSM48661.CEL.gz</th>\n",
       "      <th>GSM48662.CEL.gz</th>\n",
       "      <th>GSM48663.CEL.gz</th>\n",
       "      <th>GSM48664.CEL.gz</th>\n",
       "      <th>GSM48665.CEL.gz</th>\n",
       "      <th>GSM136725.CEL.gz</th>\n",
       "      <th>GSM136726.CEL.gz</th>\n",
       "      <th>GSM136727.CEL.gz</th>\n",
       "    </tr>\n",
       "  </thead>\n",
       "  <tbody>\n",
       "    <tr>\n",
       "      <th>1007_s_at</th>\n",
       "      <td> 6.627014</td>\n",
       "      <td> 6.249807</td>\n",
       "      <td> 5.934128</td>\n",
       "      <td> 6.145268</td>\n",
       "      <td> 6.091270</td>\n",
       "      <td> 6.041186</td>\n",
       "      <td> 6.050375</td>\n",
       "      <td> 6.063847</td>\n",
       "      <td> 6.226106</td>\n",
       "      <td> 6.358282</td>\n",
       "      <td>...</td>\n",
       "      <td> 6.501510</td>\n",
       "      <td> 6.558100</td>\n",
       "      <td> 6.618286</td>\n",
       "      <td> 6.869995</td>\n",
       "      <td> 5.981000</td>\n",
       "      <td> 6.403285</td>\n",
       "      <td> 6.248702</td>\n",
       "      <td> 6.488579</td>\n",
       "      <td> 6.809481</td>\n",
       "      <td> 6.133068</td>\n",
       "    </tr>\n",
       "    <tr>\n",
       "      <th>1053_at</th>\n",
       "      <td> 6.939184</td>\n",
       "      <td> 6.818038</td>\n",
       "      <td> 7.047962</td>\n",
       "      <td> 7.422477</td>\n",
       "      <td> 7.272361</td>\n",
       "      <td> 7.128216</td>\n",
       "      <td> 6.750719</td>\n",
       "      <td> 6.836287</td>\n",
       "      <td> 6.738022</td>\n",
       "      <td> 7.367895</td>\n",
       "      <td>...</td>\n",
       "      <td> 7.066686</td>\n",
       "      <td> 7.386702</td>\n",
       "      <td> 6.407958</td>\n",
       "      <td> 7.089180</td>\n",
       "      <td> 7.120923</td>\n",
       "      <td> 7.018998</td>\n",
       "      <td> 7.155419</td>\n",
       "      <td> 7.517410</td>\n",
       "      <td> 7.200596</td>\n",
       "      <td> 7.280781</td>\n",
       "    </tr>\n",
       "    <tr>\n",
       "      <th>117_at</th>\n",
       "      <td> 5.113570</td>\n",
       "      <td> 5.074096</td>\n",
       "      <td> 5.371201</td>\n",
       "      <td> 5.266550</td>\n",
       "      <td> 5.342047</td>\n",
       "      <td> 5.063876</td>\n",
       "      <td> 5.315898</td>\n",
       "      <td> 5.483652</td>\n",
       "      <td> 6.689444</td>\n",
       "      <td> 6.482782</td>\n",
       "      <td>...</td>\n",
       "      <td> 5.600514</td>\n",
       "      <td> 5.232676</td>\n",
       "      <td> 5.630720</td>\n",
       "      <td> 4.944748</td>\n",
       "      <td> 5.275577</td>\n",
       "      <td> 5.770358</td>\n",
       "      <td> 5.616842</td>\n",
       "      <td> 5.247190</td>\n",
       "      <td> 5.237239</td>\n",
       "      <td> 5.401876</td>\n",
       "    </tr>\n",
       "    <tr>\n",
       "      <th>121_at</th>\n",
       "      <td> 7.833862</td>\n",
       "      <td> 7.780682</td>\n",
       "      <td> 7.458197</td>\n",
       "      <td> 7.655948</td>\n",
       "      <td> 7.546555</td>\n",
       "      <td> 7.072670</td>\n",
       "      <td> 7.092984</td>\n",
       "      <td> 6.954225</td>\n",
       "      <td> 7.489785</td>\n",
       "      <td> 7.388539</td>\n",
       "      <td>...</td>\n",
       "      <td> 7.437535</td>\n",
       "      <td> 7.714650</td>\n",
       "      <td> 7.416252</td>\n",
       "      <td> 7.746448</td>\n",
       "      <td> 8.001434</td>\n",
       "      <td> 7.626723</td>\n",
       "      <td> 7.452299</td>\n",
       "      <td> 7.331864</td>\n",
       "      <td> 7.357102</td>\n",
       "      <td> 7.607461</td>\n",
       "    </tr>\n",
       "    <tr>\n",
       "      <th>1255_g_at</th>\n",
       "      <td> 3.152269</td>\n",
       "      <td> 3.111747</td>\n",
       "      <td> 3.018932</td>\n",
       "      <td> 3.154545</td>\n",
       "      <td> 3.107954</td>\n",
       "      <td> 3.224284</td>\n",
       "      <td> 3.114241</td>\n",
       "      <td> 3.044975</td>\n",
       "      <td> 3.304038</td>\n",
       "      <td> 2.887919</td>\n",
       "      <td>...</td>\n",
       "      <td> 3.009983</td>\n",
       "      <td> 3.151203</td>\n",
       "      <td> 3.199709</td>\n",
       "      <td> 3.159496</td>\n",
       "      <td> 3.149710</td>\n",
       "      <td> 3.242780</td>\n",
       "      <td> 3.433125</td>\n",
       "      <td> 3.175846</td>\n",
       "      <td> 3.105092</td>\n",
       "      <td> 3.225123</td>\n",
       "    </tr>\n",
       "  </tbody>\n",
       "</table>\n",
       "<p>5 rows × 102 columns</p>\n",
       "</div>"
      ],
      "text/plain": [
       "           GSM25349.CEL.gz  GSM25350.CEL.gz  GSM25356.CEL.gz  GSM25357.CEL.gz  \\\n",
       "1007_s_at         6.627014         6.249807         5.934128         6.145268   \n",
       "1053_at           6.939184         6.818038         7.047962         7.422477   \n",
       "117_at            5.113570         5.074096         5.371201         5.266550   \n",
       "121_at            7.833862         7.780682         7.458197         7.655948   \n",
       "1255_g_at         3.152269         3.111747         3.018932         3.154545   \n",
       "\n",
       "           GSM25358.CEL.gz  GSM25359.CEL.gz  GSM25360.CEL.gz  GSM25361.CEL.gz  \\\n",
       "1007_s_at         6.091270         6.041186         6.050375         6.063847   \n",
       "1053_at           7.272361         7.128216         6.750719         6.836287   \n",
       "117_at            5.342047         5.063876         5.315898         5.483652   \n",
       "121_at            7.546555         7.072670         7.092984         6.954225   \n",
       "1255_g_at         3.107954         3.224284         3.114241         3.044975   \n",
       "\n",
       "           GSM25377.CEL.gz  GSM25378.CEL.gz       ...         GSM48658.CEL.gz  \\\n",
       "1007_s_at         6.226106         6.358282       ...                6.501510   \n",
       "1053_at           6.738022         7.367895       ...                7.066686   \n",
       "117_at            6.689444         6.482782       ...                5.600514   \n",
       "121_at            7.489785         7.388539       ...                7.437535   \n",
       "1255_g_at         3.304038         2.887919       ...                3.009983   \n",
       "\n",
       "           GSM48660.CEL.gz  GSM48661.CEL.gz  GSM48662.CEL.gz  GSM48663.CEL.gz  \\\n",
       "1007_s_at         6.558100         6.618286         6.869995         5.981000   \n",
       "1053_at           7.386702         6.407958         7.089180         7.120923   \n",
       "117_at            5.232676         5.630720         4.944748         5.275577   \n",
       "121_at            7.714650         7.416252         7.746448         8.001434   \n",
       "1255_g_at         3.151203         3.199709         3.159496         3.149710   \n",
       "\n",
       "           GSM48664.CEL.gz  GSM48665.CEL.gz  GSM136725.CEL.gz  \\\n",
       "1007_s_at         6.403285         6.248702          6.488579   \n",
       "1053_at           7.018998         7.155419          7.517410   \n",
       "117_at            5.770358         5.616842          5.247190   \n",
       "121_at            7.626723         7.452299          7.331864   \n",
       "1255_g_at         3.242780         3.433125          3.175846   \n",
       "\n",
       "           GSM136726.CEL.gz  GSM136727.CEL.gz  \n",
       "1007_s_at          6.809481          6.133068  \n",
       "1053_at            7.200596          7.280781  \n",
       "117_at             5.237239          5.401876  \n",
       "121_at             7.357102          7.607461  \n",
       "1255_g_at          3.105092          3.225123  \n",
       "\n",
       "[5 rows x 102 columns]"
      ]
     },
     "execution_count": 73,
     "metadata": {},
     "output_type": "execute_result"
    }
   ],
   "source": [
    "#your code here\n",
    "exprsCEU = exprs[sampleinfoCEU.filename]\n",
    "exprsCEU.head()"
>>>>>>> 78f754b2a7dcc64bee2906766889a9cea64d03b3
   ]
  },
  {
   "cell_type": "markdown",
   "metadata": {},
   "source": [
<<<<<<< HEAD
    "Another way of comparing the standard deviation of the M polls in the 2012 presidential eletion data is to compare it directly to the distribuiton of `sds`. We can calculate a *p*-value or the probability of seeing values as large as `thesd` or larger. "
=======
    "Check to make sure the order of the columns in the `exprsCEU` DataFrame matches the rows in the `sampleinfoCEU` DataFrame.  "
>>>>>>> 78f754b2a7dcc64bee2906766889a9cea64d03b3
   ]
  },
  {
   "cell_type": "code",
<<<<<<< HEAD
   "execution_count": 116,
=======
   "execution_count": 74,
>>>>>>> 78f754b2a7dcc64bee2906766889a9cea64d03b3
   "metadata": {
    "collapsed": false
   },
   "outputs": [
    {
     "data": {
      "text/plain": [
<<<<<<< HEAD
       "0.105"
      ]
     },
     "execution_count": 116,
=======
       "True"
      ]
     },
     "execution_count": 74,
>>>>>>> 78f754b2a7dcc64bee2906766889a9cea64d03b3
     "metadata": {},
     "output_type": "execute_result"
    }
   ],
   "source": [
<<<<<<< HEAD
    "np.mean(thesd > sds)"
=======
    "#your code here\n",
    "(exprsCEU.columns == sampleinfoCEU.filename).all()"
>>>>>>> 78f754b2a7dcc64bee2906766889a9cea64d03b3
   ]
  },
  {
   "cell_type": "markdown",
   "metadata": {},
   "source": [
<<<<<<< HEAD
    "We see `thesd` is consistent with the null distribution of `sds`.  "
=======
    "Compute the average gene expression intensity in the `exprsCEU` DataFrame across all the samples. For each sample in the `exprsCEU` DataFrame, subtract the average gene expression intensity from each of the samples. Show the head of the mean normalized gene expression data.  "
   ]
  },
  {
   "cell_type": "code",
   "execution_count": 75,
   "metadata": {
    "collapsed": false
   },
   "outputs": [
    {
     "data": {
      "text/html": [
       "<div style=\"max-height:1000px;max-width:1500px;overflow:auto;\">\n",
       "<table border=\"1\" class=\"dataframe\">\n",
       "  <thead>\n",
       "    <tr style=\"text-align: right;\">\n",
       "      <th></th>\n",
       "      <th>GSM25349.CEL.gz</th>\n",
       "      <th>GSM25350.CEL.gz</th>\n",
       "      <th>GSM25356.CEL.gz</th>\n",
       "      <th>GSM25357.CEL.gz</th>\n",
       "      <th>GSM25358.CEL.gz</th>\n",
       "      <th>GSM25359.CEL.gz</th>\n",
       "      <th>GSM25360.CEL.gz</th>\n",
       "      <th>GSM25361.CEL.gz</th>\n",
       "      <th>GSM25377.CEL.gz</th>\n",
       "      <th>GSM25378.CEL.gz</th>\n",
       "      <th>...</th>\n",
       "      <th>GSM48658.CEL.gz</th>\n",
       "      <th>GSM48660.CEL.gz</th>\n",
       "      <th>GSM48661.CEL.gz</th>\n",
       "      <th>GSM48662.CEL.gz</th>\n",
       "      <th>GSM48663.CEL.gz</th>\n",
       "      <th>GSM48664.CEL.gz</th>\n",
       "      <th>GSM48665.CEL.gz</th>\n",
       "      <th>GSM136725.CEL.gz</th>\n",
       "      <th>GSM136726.CEL.gz</th>\n",
       "      <th>GSM136727.CEL.gz</th>\n",
       "    </tr>\n",
       "  </thead>\n",
       "  <tbody>\n",
       "    <tr>\n",
       "      <th>1007_s_at</th>\n",
       "      <td> 0.365059</td>\n",
       "      <td>-0.012149</td>\n",
       "      <td>-0.327827</td>\n",
       "      <td>-0.116687</td>\n",
       "      <td>-0.170685</td>\n",
       "      <td>-0.220769</td>\n",
       "      <td>-0.211580</td>\n",
       "      <td>-0.198109</td>\n",
       "      <td>-0.035849</td>\n",
       "      <td> 0.096327</td>\n",
       "      <td>...</td>\n",
       "      <td> 0.239554</td>\n",
       "      <td> 0.296144</td>\n",
       "      <td> 0.356331</td>\n",
       "      <td> 0.608040</td>\n",
       "      <td>-0.280956</td>\n",
       "      <td> 0.141330</td>\n",
       "      <td>-0.013254</td>\n",
       "      <td> 0.226624</td>\n",
       "      <td> 0.547526</td>\n",
       "      <td>-0.128887</td>\n",
       "    </tr>\n",
       "    <tr>\n",
       "      <th>1053_at</th>\n",
       "      <td>-0.136032</td>\n",
       "      <td>-0.257178</td>\n",
       "      <td>-0.027254</td>\n",
       "      <td> 0.347260</td>\n",
       "      <td> 0.197144</td>\n",
       "      <td> 0.053000</td>\n",
       "      <td>-0.324497</td>\n",
       "      <td>-0.238930</td>\n",
       "      <td>-0.337195</td>\n",
       "      <td> 0.292678</td>\n",
       "      <td>...</td>\n",
       "      <td>-0.008531</td>\n",
       "      <td> 0.311485</td>\n",
       "      <td>-0.667259</td>\n",
       "      <td> 0.013964</td>\n",
       "      <td> 0.045706</td>\n",
       "      <td>-0.056219</td>\n",
       "      <td> 0.080203</td>\n",
       "      <td> 0.442193</td>\n",
       "      <td> 0.125379</td>\n",
       "      <td> 0.205564</td>\n",
       "    </tr>\n",
       "    <tr>\n",
       "      <th>117_at</th>\n",
       "      <td>-0.490556</td>\n",
       "      <td>-0.530031</td>\n",
       "      <td>-0.232926</td>\n",
       "      <td>-0.337577</td>\n",
       "      <td>-0.262080</td>\n",
       "      <td>-0.540250</td>\n",
       "      <td>-0.288228</td>\n",
       "      <td>-0.120475</td>\n",
       "      <td> 1.085317</td>\n",
       "      <td> 0.878655</td>\n",
       "      <td>...</td>\n",
       "      <td>-0.003613</td>\n",
       "      <td>-0.371451</td>\n",
       "      <td> 0.026594</td>\n",
       "      <td>-0.659379</td>\n",
       "      <td>-0.328549</td>\n",
       "      <td> 0.166231</td>\n",
       "      <td> 0.012716</td>\n",
       "      <td>-0.356936</td>\n",
       "      <td>-0.366887</td>\n",
       "      <td>-0.202251</td>\n",
       "    </tr>\n",
       "    <tr>\n",
       "      <th>121_at</th>\n",
       "      <td> 0.418026</td>\n",
       "      <td> 0.364847</td>\n",
       "      <td> 0.042362</td>\n",
       "      <td> 0.240113</td>\n",
       "      <td> 0.130720</td>\n",
       "      <td>-0.343165</td>\n",
       "      <td>-0.322852</td>\n",
       "      <td>-0.461611</td>\n",
       "      <td> 0.073949</td>\n",
       "      <td>-0.027296</td>\n",
       "      <td>...</td>\n",
       "      <td> 0.021700</td>\n",
       "      <td> 0.298814</td>\n",
       "      <td> 0.000417</td>\n",
       "      <td> 0.330612</td>\n",
       "      <td> 0.585598</td>\n",
       "      <td> 0.210887</td>\n",
       "      <td> 0.036463</td>\n",
       "      <td>-0.083972</td>\n",
       "      <td>-0.058733</td>\n",
       "      <td> 0.191626</td>\n",
       "    </tr>\n",
       "    <tr>\n",
       "      <th>1255_g_at</th>\n",
       "      <td> 0.018335</td>\n",
       "      <td>-0.022187</td>\n",
       "      <td>-0.115002</td>\n",
       "      <td> 0.020611</td>\n",
       "      <td>-0.025980</td>\n",
       "      <td> 0.090351</td>\n",
       "      <td>-0.019693</td>\n",
       "      <td>-0.088959</td>\n",
       "      <td> 0.170104</td>\n",
       "      <td>-0.246015</td>\n",
       "      <td>...</td>\n",
       "      <td>-0.123951</td>\n",
       "      <td> 0.017269</td>\n",
       "      <td> 0.065775</td>\n",
       "      <td> 0.025562</td>\n",
       "      <td> 0.015776</td>\n",
       "      <td> 0.108846</td>\n",
       "      <td> 0.299192</td>\n",
       "      <td> 0.041912</td>\n",
       "      <td>-0.028842</td>\n",
       "      <td> 0.091189</td>\n",
       "    </tr>\n",
       "  </tbody>\n",
       "</table>\n",
       "<p>5 rows × 102 columns</p>\n",
       "</div>"
      ],
      "text/plain": [
       "           GSM25349.CEL.gz  GSM25350.CEL.gz  GSM25356.CEL.gz  GSM25357.CEL.gz  \\\n",
       "1007_s_at         0.365059        -0.012149        -0.327827        -0.116687   \n",
       "1053_at          -0.136032        -0.257178        -0.027254         0.347260   \n",
       "117_at           -0.490556        -0.530031        -0.232926        -0.337577   \n",
       "121_at            0.418026         0.364847         0.042362         0.240113   \n",
       "1255_g_at         0.018335        -0.022187        -0.115002         0.020611   \n",
       "\n",
       "           GSM25358.CEL.gz  GSM25359.CEL.gz  GSM25360.CEL.gz  GSM25361.CEL.gz  \\\n",
       "1007_s_at        -0.170685        -0.220769        -0.211580        -0.198109   \n",
       "1053_at           0.197144         0.053000        -0.324497        -0.238930   \n",
       "117_at           -0.262080        -0.540250        -0.288228        -0.120475   \n",
       "121_at            0.130720        -0.343165        -0.322852        -0.461611   \n",
       "1255_g_at        -0.025980         0.090351        -0.019693        -0.088959   \n",
       "\n",
       "           GSM25377.CEL.gz  GSM25378.CEL.gz       ...         GSM48658.CEL.gz  \\\n",
       "1007_s_at        -0.035849         0.096327       ...                0.239554   \n",
       "1053_at          -0.337195         0.292678       ...               -0.008531   \n",
       "117_at            1.085317         0.878655       ...               -0.003613   \n",
       "121_at            0.073949        -0.027296       ...                0.021700   \n",
       "1255_g_at         0.170104        -0.246015       ...               -0.123951   \n",
       "\n",
       "           GSM48660.CEL.gz  GSM48661.CEL.gz  GSM48662.CEL.gz  GSM48663.CEL.gz  \\\n",
       "1007_s_at         0.296144         0.356331         0.608040        -0.280956   \n",
       "1053_at           0.311485        -0.667259         0.013964         0.045706   \n",
       "117_at           -0.371451         0.026594        -0.659379        -0.328549   \n",
       "121_at            0.298814         0.000417         0.330612         0.585598   \n",
       "1255_g_at         0.017269         0.065775         0.025562         0.015776   \n",
       "\n",
       "           GSM48664.CEL.gz  GSM48665.CEL.gz  GSM136725.CEL.gz  \\\n",
       "1007_s_at         0.141330        -0.013254          0.226624   \n",
       "1053_at          -0.056219         0.080203          0.442193   \n",
       "117_at            0.166231         0.012716         -0.356936   \n",
       "121_at            0.210887         0.036463         -0.083972   \n",
       "1255_g_at         0.108846         0.299192          0.041912   \n",
       "\n",
       "           GSM136726.CEL.gz  GSM136727.CEL.gz  \n",
       "1007_s_at          0.547526         -0.128887  \n",
       "1053_at            0.125379          0.205564  \n",
       "117_at            -0.366887         -0.202251  \n",
       "121_at            -0.058733          0.191626  \n",
       "1255_g_at         -0.028842          0.091189  \n",
       "\n",
       "[5 rows x 102 columns]"
      ]
     },
     "execution_count": 75,
     "metadata": {},
     "output_type": "execute_result"
    }
   ],
   "source": [
    "#your code here\n",
    "data = exprsCEU.apply(lambda x: x - exprsCEU.mean(axis=1), axis = 0)\n",
    "data.head()"
>>>>>>> 78f754b2a7dcc64bee2906766889a9cea64d03b3
   ]
  },
  {
   "cell_type": "markdown",
   "metadata": {},
   "source": [
<<<<<<< HEAD
    "#### Problem 2(f)\n",
    "\n",
    "**For AC209 Students**: Learn about the normal approximation for the binomial distribution and derive the results of Problem 2(b) and 2(c) analytically (using this approximation). Compare the results obtained analytically to those obtained from simulations.\n",
    "\n",
    "**Solution:** A random variable $X$ that has a [Binomial distribution](http://en.wikipedia.org/wiki/Binomial_distribution) with $N$ independent trials of a binary outcome (e.g. yes/no) each with probability of success $p$ can be [approximated by a normal distribution](http://en.wikipedia.org/wiki/Binomial_distribution#Normal_approximation) if $n$ is large enough. Another way of writing this is if $X$ has a Binomial distribution with parameters $N$ and $p$, $X \\sim Bin(N,p)$, and $N$ is \"large enough\", then $X$ can be approximated by a normal distribution with mean $Np$ and variance $Np(1-p)$, or $X \\sim Normal(Np, Np(1-p))$. \n",
    "\n",
    "In Problem 2(b), we are asking about the *percentage* of Obama votes, therefore we are actually interested in $Y_i = \\frac{X_i}{N}$ where $X_i \\sim Bin(N, p)$. In this case, $\\mbox{Var}(Y_i)  = p(1-p)$. To estimate the standard deviation of $\\bar{Y}$, \n",
    "\n",
    "$$\\mbox{Var}(\\bar{Y}) =  \\frac{1}{N^2} \\sum_{i=1}^N p(1-p) = \\frac{p(1-p)}{N}$$\n",
    "\n",
    "Thus, we can analytically compute the standard deviation of $\\bar{Y}$ using $\\sqrt{\\frac{p(1-p)}{N}}$ and compare to the standard deviation obtained from simulations. "
=======
    "Using this mean normalized gene expression data, compute the projection to the first Principal Component (PC1).  \n",
    "\n",
    "**Hint**: Use the `numpy.linalg.svd()` function in the `numpy.linalg` module (or the `scipy.linalg.svd()` function in the `scipy.linalg` module) to apply an [singular value decomposition](http://en.wikipedia.org/wiki/Singular_value_decomposition) to a matrix.  "
   ]
  },
  {
   "cell_type": "code",
   "execution_count": 76,
   "metadata": {
    "collapsed": false
   },
   "outputs": [],
   "source": [
    "#your code here\n",
    "U,s,Vh = lin.svd(data.values)\n",
    "V = Vh.T"
   ]
  },
  {
   "cell_type": "markdown",
   "metadata": {},
   "source": [
    "Create a histogram using the values from PC1.  Use a bin size of 25.  "
   ]
  },
  {
   "cell_type": "code",
   "execution_count": 77,
   "metadata": {
    "collapsed": false
   },
   "outputs": [
    {
     "data": {
      "text/plain": [
       "<matplotlib.text.Text at 0x108362a10>"
      ]
     },
     "execution_count": 77,
     "metadata": {},
     "output_type": "execute_result"
    },
    {
     "data": {
      "image/png": "iVBORw0KGgoAAAANSUhEUgAAAmoAAAGRCAYAAADVb584AAAABHNCSVQICAgIfAhkiAAAAAlwSFlz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\n",
      "text/plain": [
       "<matplotlib.figure.Figure at 0x1077be990>"
      ]
     },
     "metadata": {},
     "output_type": "display_data"
    }
   ],
   "source": [
    "#your code here\n",
    "plt.hist(V[:,0], bins = 25)\n",
    "plt.xlabel('PC1')\n",
    "plt.ylabel('Frequency')\n",
    "plt.title('Distribution of the values from PC1')"
   ]
  },
  {
   "cell_type": "markdown",
   "metadata": {},
   "source": [
    "Create a scatter plot with the days since October 31, 2002 on the x-axis and PC1 on the y-axis."
   ]
  },
  {
   "cell_type": "code",
   "execution_count": 78,
   "metadata": {
    "collapsed": false
   },
   "outputs": [
    {
     "data": {
      "text/plain": [
       "<matplotlib.text.Text at 0x10f007f10>"
      ]
     },
     "execution_count": 78,
     "metadata": {},
     "output_type": "execute_result"
    },
    {
     "data": {
      "image/png": "iVBORw0KGgoAAAANSUhEUgAAAnkAAAGRCAYAAAAZ9qXTAAAABHNCSVQICAgIfAhkiAAAAAlwSFlz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\nTkSuQmCC\n",
      "text/plain": [
       "<matplotlib.figure.Figure at 0x10dec4e10>"
      ]
     },
     "metadata": {},
     "output_type": "display_data"
    }
   ],
   "source": [
    "#your code here\n",
    "plt.scatter(sampleinfoCEU.elapsedInDays, V[:,0])\n",
    "plt.xlabel('Date sample was processed (Number of days since Oct 31, 2012)')\n",
    "plt.ylabel('PC1')\n",
    "plt.title('Relationship between the PC1 and the date the samples were processed')"
   ]
  },
  {
   "cell_type": "markdown",
   "metadata": {},
   "source": [
    "Around what day do you notice a difference in the way the samples were processed?"
   ]
  },
  {
   "cell_type": "code",
   "execution_count": 79,
   "metadata": {
    "collapsed": false
   },
   "outputs": [
    {
     "data": {
      "text/plain": [
       "<matplotlib.lines.Line2D at 0x10a211110>"
      ]
     },
     "execution_count": 79,
     "metadata": {},
     "output_type": "execute_result"
    },
    {
     "data": {
      "image/png": "iVBORw0KGgoAAAANSUhEUgAAAnYAAAGRCAYAAADo/f5eAAAABHNCSVQICAgIfAhkiAAAAAlwSFlz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\nsU0iAAAAAElFTkSuQmCC\n",
      "text/plain": [
       "<matplotlib.figure.Figure at 0x10f1d2d10>"
      ]
     },
     "metadata": {},
     "output_type": "display_data"
    }
   ],
   "source": [
    "#your code here\n",
    "plt.scatter(sampleinfoCEU.elapsedInDays, V[:,0])\n",
    "plt.xlim(0,160)\n",
    "plt.xlabel('Date sample was processed (Number of days since Oct 31, 2012)')\n",
    "plt.ylabel('PC1')\n",
    "plt.title('Relationship between the PC1 and the date the samples were processed')\n",
    "plt.axvline(x=100, color='r')"
   ]
  },
  {
   "cell_type": "markdown",
   "metadata": {},
   "source": [
    "Answer: There is a difference around day 100. "
   ]
  },
  {
   "cell_type": "markdown",
   "metadata": {},
   "source": [
    "## Discussion for Problem 1\n",
    "\n",
    "*Write a brief discussion of your conclusions to the questions and tasks above in 100 words or less.*\n",
    "\n",
    "Using exploratory data analysis and the SVD of the gene expression data matrix, we see the date the samples were processed does have a large effect on the variability seen in the data. This can been seen in the scatter plots in Problem 1(d) which shows a difference around day 100.  \n",
    "\n",
    "---\n"
   ]
  },
  {
   "cell_type": "markdown",
   "metadata": {},
   "source": [
    "## Problem 2: Is there a pollster bias in presidential election polls?"
   ]
  },
  {
   "cell_type": "markdown",
   "metadata": {},
   "source": [
    "#### Problem 2(a)\n",
    "\n",
    "The [HuffPost Pollster](http://elections.huffingtonpost.com/pollster) contains many political polls. You can access these polls from individual races as a CSV but you can also access polls through the [HuffPost Pollster API](http://elections.huffingtonpost.com/pollster/api) to access the data.  \n",
    "\n",
    "Read in the polls from the [2012 Presidential Election: Barack Obama vs Mitt Romney](http://elections.huffingtonpost.com/pollster/2012-general-election-romney-vs-obama) into a pandas DataFrame called `election`. For this problem, you may read in the polls for this race directly using [the CSV file](http://elections.huffingtonpost.com/pollster/2012-general-election-romney-vs-obama.csv) available from the HuffPost Pollster page."
   ]
  },
  {
   "cell_type": "code",
   "execution_count": 80,
   "metadata": {
    "collapsed": false
   },
   "outputs": [],
   "source": [
    "#your code here\n",
    "url = \"http://elections.huffingtonpost.com/pollster/2012-general-election-romney-vs-obama.csv\"\n",
    "source = requests.get(url).text\n",
    "s = StringIO(source)\n",
    "election = pd.DataFrame.from_csv(s, index_col=None).convert_objects(\n",
    "            convert_dates=\"coerce\", convert_numeric=True) # Access polls as a CSV file"
   ]
  },
  {
   "cell_type": "markdown",
   "metadata": {},
   "source": [
    "Show the head of the `election` DataFrame. "
   ]
  },
  {
   "cell_type": "code",
   "execution_count": 81,
   "metadata": {
    "collapsed": false
   },
   "outputs": [
    {
     "data": {
      "text/html": [
       "<div style=\"max-height:1000px;max-width:1500px;overflow:auto;\">\n",
       "<table border=\"1\" class=\"dataframe\">\n",
       "  <thead>\n",
       "    <tr style=\"text-align: right;\">\n",
       "      <th></th>\n",
       "      <th>Pollster</th>\n",
       "      <th>Start Date</th>\n",
       "      <th>End Date</th>\n",
       "      <th>Entry Date/Time (ET)</th>\n",
       "      <th>Number of Observations</th>\n",
       "      <th>Population</th>\n",
       "      <th>Mode</th>\n",
       "      <th>Obama</th>\n",
       "      <th>Romney</th>\n",
       "      <th>Undecided</th>\n",
       "      <th>Pollster URL</th>\n",
       "      <th>Source URL</th>\n",
       "      <th>Partisan</th>\n",
       "      <th>Affiliation</th>\n",
       "    </tr>\n",
       "  </thead>\n",
       "  <tbody>\n",
       "    <tr>\n",
       "      <th>0</th>\n",
       "      <td> Politico/GWU/Battleground</td>\n",
       "      <td>2012-11-04</td>\n",
       "      <td>2012-11-05</td>\n",
       "      <td>2012-11-06 08:40:26</td>\n",
       "      <td> 1000</td>\n",
       "      <td> Likely Voters</td>\n",
       "      <td>      Live Phone</td>\n",
       "      <td> 47</td>\n",
       "      <td> 47</td>\n",
       "      <td>  6</td>\n",
       "      <td> http://elections.huffingtonpost.com/pollster/p...</td>\n",
       "      <td>NaN</td>\n",
       "      <td> Nonpartisan</td>\n",
       "      <td> None</td>\n",
       "    </tr>\n",
       "    <tr>\n",
       "      <th>1</th>\n",
       "      <td>                UPI/CVOTER</td>\n",
       "      <td>2012-11-03</td>\n",
       "      <td>2012-11-05</td>\n",
       "      <td>2012-11-05 18:30:15</td>\n",
       "      <td> 3000</td>\n",
       "      <td> Likely Voters</td>\n",
       "      <td>      Live Phone</td>\n",
       "      <td> 49</td>\n",
       "      <td> 48</td>\n",
       "      <td>NaN</td>\n",
       "      <td> http://elections.huffingtonpost.com/pollster/p...</td>\n",
       "      <td>NaN</td>\n",
       "      <td> Nonpartisan</td>\n",
       "      <td> None</td>\n",
       "    </tr>\n",
       "    <tr>\n",
       "      <th>2</th>\n",
       "      <td>          Gravis Marketing</td>\n",
       "      <td>2012-11-03</td>\n",
       "      <td>2012-11-05</td>\n",
       "      <td>2012-11-06 09:22:02</td>\n",
       "      <td>  872</td>\n",
       "      <td> Likely Voters</td>\n",
       "      <td> Automated Phone</td>\n",
       "      <td> 48</td>\n",
       "      <td> 48</td>\n",
       "      <td>  4</td>\n",
       "      <td> http://elections.huffingtonpost.com/pollster/p...</td>\n",
       "      <td>NaN</td>\n",
       "      <td> Nonpartisan</td>\n",
       "      <td> None</td>\n",
       "    </tr>\n",
       "    <tr>\n",
       "      <th>3</th>\n",
       "      <td>      JZ Analytics/Newsmax</td>\n",
       "      <td>2012-11-03</td>\n",
       "      <td>2012-11-05</td>\n",
       "      <td>2012-11-06 07:38:41</td>\n",
       "      <td> 1041</td>\n",
       "      <td> Likely Voters</td>\n",
       "      <td>        Internet</td>\n",
       "      <td> 47</td>\n",
       "      <td> 47</td>\n",
       "      <td>  6</td>\n",
       "      <td> http://elections.huffingtonpost.com/pollster/p...</td>\n",
       "      <td>NaN</td>\n",
       "      <td>     Sponsor</td>\n",
       "      <td>  Rep</td>\n",
       "    </tr>\n",
       "    <tr>\n",
       "      <th>4</th>\n",
       "      <td>                 Rasmussen</td>\n",
       "      <td>2012-11-03</td>\n",
       "      <td>2012-11-05</td>\n",
       "      <td>2012-11-06 08:47:50</td>\n",
       "      <td> 1500</td>\n",
       "      <td> Likely Voters</td>\n",
       "      <td> Automated Phone</td>\n",
       "      <td> 48</td>\n",
       "      <td> 49</td>\n",
       "      <td>NaN</td>\n",
       "      <td> http://elections.huffingtonpost.com/pollster/p...</td>\n",
       "      <td>NaN</td>\n",
       "      <td> Nonpartisan</td>\n",
       "      <td> None</td>\n",
       "    </tr>\n",
       "  </tbody>\n",
       "</table>\n",
       "</div>"
      ],
      "text/plain": [
       "                    Pollster Start Date   End Date Entry Date/Time (ET)  \\\n",
       "0  Politico/GWU/Battleground 2012-11-04 2012-11-05  2012-11-06 08:40:26   \n",
       "1                 UPI/CVOTER 2012-11-03 2012-11-05  2012-11-05 18:30:15   \n",
       "2           Gravis Marketing 2012-11-03 2012-11-05  2012-11-06 09:22:02   \n",
       "3       JZ Analytics/Newsmax 2012-11-03 2012-11-05  2012-11-06 07:38:41   \n",
       "4                  Rasmussen 2012-11-03 2012-11-05  2012-11-06 08:47:50   \n",
       "\n",
       "   Number of Observations     Population             Mode  Obama  Romney  \\\n",
       "0                    1000  Likely Voters       Live Phone     47      47   \n",
       "1                    3000  Likely Voters       Live Phone     49      48   \n",
       "2                     872  Likely Voters  Automated Phone     48      48   \n",
       "3                    1041  Likely Voters         Internet     47      47   \n",
       "4                    1500  Likely Voters  Automated Phone     48      49   \n",
       "\n",
       "   Undecided                                       Pollster URL  Source URL  \\\n",
       "0          6  http://elections.huffingtonpost.com/pollster/p...         NaN   \n",
       "1        NaN  http://elections.huffingtonpost.com/pollster/p...         NaN   \n",
       "2          4  http://elections.huffingtonpost.com/pollster/p...         NaN   \n",
       "3          6  http://elections.huffingtonpost.com/pollster/p...         NaN   \n",
       "4        NaN  http://elections.huffingtonpost.com/pollster/p...         NaN   \n",
       "\n",
       "      Partisan Affiliation  \n",
       "0  Nonpartisan        None  \n",
       "1  Nonpartisan        None  \n",
       "2  Nonpartisan        None  \n",
       "3      Sponsor         Rep  \n",
       "4  Nonpartisan        None  "
      ]
     },
     "execution_count": 81,
     "metadata": {},
     "output_type": "execute_result"
    }
   ],
   "source": [
    "#your code here\n",
    "election.head()"
   ]
  },
  {
   "cell_type": "markdown",
   "metadata": {},
   "source": [
    "How many polls were conducted in November? Define this number as M.  \n",
    "\n",
    "**Hint**: Subset the `election` DataFrame for only dates in the `Start Date` column that are in November 2012.  "
>>>>>>> 78f754b2a7dcc64bee2906766889a9cea64d03b3
   ]
  },
  {
   "cell_type": "code",
<<<<<<< HEAD
   "execution_count": 120,
=======
   "execution_count": 82,
>>>>>>> 78f754b2a7dcc64bee2906766889a9cea64d03b3
   "metadata": {
    "collapsed": false
   },
   "outputs": [
    {
     "name": "stdout",
     "output_type": "stream",
     "text": [
<<<<<<< HEAD
      "SD from simulations: 0.0142643\n",
      "SD using normal approximation 0.0144078\n"
=======
      "Number of polls in November: 18\n"
>>>>>>> 78f754b2a7dcc64bee2906766889a9cea64d03b3
     ]
    }
   ],
   "source": [
<<<<<<< HEAD
    "# Standard deviation from simulations in 2(b) \n",
    "print \"SD from simulations: %g\" % np.std(obs, ddof=1)\n",
    "\n",
    "# Standard deviation computed analytically\n",
    "print \"SD using normal approximation %g\" % np.sqrt(p * (1-p)/ N)"
=======
    "#your code here\n",
    "filtered = election[map(lambda x: (x.month == 11) and (x.year ==2012), election[\"Start Date\"])]\n",
    "filtered.drop_duplicates('Pollster', inplace = True) # Removes duplicate pollsters\n",
    "M = len(filtered)\n",
    "print \"Number of polls in November: %i\" % M "
>>>>>>> 78f754b2a7dcc64bee2906766889a9cea64d03b3
   ]
  },
  {
   "cell_type": "markdown",
   "metadata": {},
   "source": [
<<<<<<< HEAD
    "In Problem 2(c), we are asking about the *percentage* of Obama votes from averaged across M polls.  Above we saw the variance for each poll is $\\frac{p(1-p)}{N}$. Therefore we can treat the variance at the poll level as $\\sigma_{poll}^2 = \\frac{p(1-p)}{N}$. Then, when we average across M polls the variance becomes $\\sigma_{poll}^2 / M = \\frac{p(1-p)}{N \\cdot M }$\n",
    "\n",
    "\n"
=======
    "Answer: There were 18 polls with a Start Date in November after accounting for multiple polls within a given pollster (or 19 polls total with a Start Date in November). "
   ]
  },
  {
   "cell_type": "markdown",
   "metadata": {},
   "source": [
    "What was the median of the number of observations in the November polls? Define this quantity as N. "
>>>>>>> 78f754b2a7dcc64bee2906766889a9cea64d03b3
   ]
  },
  {
   "cell_type": "code",
<<<<<<< HEAD
   "execution_count": 109,
=======
   "execution_count": 83,
>>>>>>> 78f754b2a7dcc64bee2906766889a9cea64d03b3
   "metadata": {
    "collapsed": false
   },
   "outputs": [
    {
     "name": "stdout",
     "output_type": "stream",
     "text": [
<<<<<<< HEAD
      "SD from simulations: 0.00347033\n",
      "SD using normal approximation 0.00339594\n"
=======
      "1200.0\n"
>>>>>>> 78f754b2a7dcc64bee2906766889a9cea64d03b3
     ]
    }
   ],
   "source": [
<<<<<<< HEAD
    "# Standard deviation from simulations in 2(c) \n",
    "print \"SD from simulations: %g\" % np.std(mom, ddof=1)\n",
    "\n",
    "# Standard deviation computed analytically\n",
    "print \"SD using normal approximation %g\" % np.sqrt((p * (1-p)/ N) / M)"
=======
    "#your code here\n",
    "N = np.median(filtered[\"Number of Observations\"])\n",
    "print N"
   ]
  },
  {
   "cell_type": "markdown",
   "metadata": {},
   "source": [
    "Answer: The median number of observations in the November polls was 1200. "
   ]
  },
  {
   "cell_type": "markdown",
   "metadata": {},
   "source": [
    "#### Problem 2(b)\n",
    "\n",
    "Using the median sample size $N$ from Problem 2(a), simulate the results from a single poll:  simulate the number of votes for Obama out of a sample size $N$ where $p$ = 0.53 is the percent of voters who are voting for Obama.  \n",
    "\n",
    "**Hint**: Use the binomial distribution with parameters $N$ and $p$ = 0.53. "
   ]
  },
  {
   "cell_type": "code",
   "execution_count": 84,
   "metadata": {
    "collapsed": false
   },
   "outputs": [],
   "source": [
    "#your code here"
   ]
  },
  {
   "cell_type": "markdown",
   "metadata": {},
   "source": [
    "To simulate the *number* of votes for Obama from a single poll, we can use the `random.binomial` function in `numpy` to simulate one binomial random variable with a sample size $N$ and $p$ which is the percent of voters who are voting for Obama. "
   ]
  },
  {
   "cell_type": "code",
   "execution_count": 85,
   "metadata": {
    "collapsed": false
   },
   "outputs": [
    {
     "data": {
      "text/plain": [
       "'Simulated number of votes for Obama: 645'"
      ]
     },
     "execution_count": 85,
     "metadata": {},
     "output_type": "execute_result"
    }
   ],
   "source": [
    "p = 0.53\n",
    "\"Simulated number of votes for Obama: %i\" % np.random.binomial(N, p, size=1)"
   ]
  },
  {
   "cell_type": "markdown",
   "metadata": {},
   "source": [
    "Now, perform a Monte Carlo simulation to obtain the estimated percentage of Obama votes with a sample size $N$ where $N$ is the median sample size calculated in Problem 2(a). Let $p$=0.53 be the percent of voters are voting for Obama. \n",
    "\n",
    "**Hint**: You will repeat the simulation above 1,000 times and plot the distribution of the estimated *percent* of Obama votes from a single poll.  The results from the single poll you simulate is random variable and will be different every time you sample. "
   ]
  },
  {
   "cell_type": "code",
   "execution_count": 86,
   "metadata": {
    "collapsed": false
   },
   "outputs": [],
   "source": [
    "#your code here"
   ]
  },
  {
   "cell_type": "markdown",
   "metadata": {},
   "source": [
    "To simulate the the estimate *percentage* of Obama votes, we can repeat the above simulation using a Bernoulli distribution, but just divide by the total number of votes. "
   ]
  },
  {
   "cell_type": "code",
   "execution_count": 87,
   "metadata": {
    "collapsed": false
   },
   "outputs": [],
   "source": [
    "p = 0.53\n",
    "B = 1000\n",
    "obs = np.random.binomial(N, p, size = B) / N"
   ]
  },
  {
   "cell_type": "markdown",
   "metadata": {},
   "source": [
    "We can also write this in terms of a Bernoulli random variable $X$ where $X$ has a binary outcome with probability $p$ of success where \n",
    "$$E(X) = p$$ \n",
    "and \n",
    "$$Var(X) = p(1-p)$$\n",
    "\n",
    "In a single simulation, we simulate N binary outcomes of 1 or 0 representing a vote for Obama or not where N represents the poll sample size.  The average of the binary outcomes represents the *percent* of Obama votes from a single poll.  We repeat this process 1000 times. "
   ]
  },
  {
   "cell_type": "code",
   "execution_count": 88,
   "metadata": {
    "collapsed": false
   },
   "outputs": [],
   "source": [
    "p = 0.53\n",
    "B = 1000\n",
    "obs = map(lambda x: np.mean(np.random.binomial(1, p, size = N)), xrange(B))"
   ]
  },
  {
   "cell_type": "markdown",
   "metadata": {},
   "source": [
    "Plot the distribution of the estimated percentage of Obama votes from your single poll. What is the distribution of the estimated percentage of Obama votes? "
   ]
  },
  {
   "cell_type": "code",
   "execution_count": 89,
   "metadata": {
    "collapsed": false
   },
   "outputs": [
    {
     "data": {
      "text/plain": [
       "(array([   1.,   21.,   39.,  100.,  216.,  213.,  235.,  115.,   50.,   10.]),\n",
       " array([ 0.48166667,  0.49041667,  0.49916667,  0.50791667,  0.51666667,\n",
       "         0.52541667,  0.53416667,  0.54291667,  0.55166667,  0.56041667,\n",
       "         0.56916667]),\n",
       " <a list of 10 Patch objects>)"
      ]
     },
     "execution_count": 89,
     "metadata": {},
     "output_type": "execute_result"
    },
    {
     "data": {
      "image/png": "iVBORw0KGgoAAAANSUhEUgAAAmAAAAF1CAYAAABPmFZlAAAABHNCSVQICAgIfAhkiAAAAAlwSFlz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\ngg==\n",
      "text/plain": [
       "<matplotlib.figure.Figure at 0x10a241f90>"
      ]
     },
     "metadata": {},
     "output_type": "display_data"
    }
   ],
   "source": [
    "#your code here\n",
    "plt.hist(obs)"
   ]
  },
  {
   "cell_type": "markdown",
   "metadata": {},
   "source": [
    "At first glance the distribution looks normally distributed. We can use a qqplot to visually inspect if this distribution is normally distributed. "
   ]
  },
  {
   "cell_type": "code",
   "execution_count": 90,
   "metadata": {
    "collapsed": false
   },
   "outputs": [
    {
     "data": {
      "image/png": "iVBORw0KGgoAAAANSUhEUgAAAmUAAAGRCAYAAAAkZMS1AAAABHNCSVQICAgIfAhkiAAAAAlwSFlz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\nREREREREREREREREREQax/8D6LJ6g1cCakwAAAAASUVORK5CYII=\n",
      "text/plain": [
       "<matplotlib.figure.Figure at 0x10a227150>"
      ]
     },
     "metadata": {},
     "output_type": "display_data"
    }
   ],
   "source": [
    "import scipy.stats as stats\n",
    "stats.probplot((obs - np.mean(obs)) / np.std(obs, ddof=1), dist=\"norm\", plot = plt)\n",
    "plt.show()"
   ]
  },
  {
   "cell_type": "markdown",
   "metadata": {},
   "source": [
    "Answer: From the histogram and qqplot, we see the distribution looks normally distributed. "
   ]
  },
  {
   "cell_type": "markdown",
   "metadata": {},
   "source": [
    "What is the standard error (SE) of the estimated percentage from the poll. \n",
    "\n",
    "**Hint**: Remember the SE is the standard deviation (SD) of the distribution of a random variable. "
   ]
  },
  {
   "cell_type": "markdown",
   "metadata": {},
   "source": [
    "In this example, the standard error (SE) is the standard deviation of the distribution of the percent of Obama votes from a single poll.  Therefore, we can compute the standard deviation as"
   ]
  },
  {
   "cell_type": "code",
   "execution_count": 91,
   "metadata": {
    "collapsed": false
   },
   "outputs": [
    {
     "data": {
      "text/plain": [
       "0.014217259754234046"
      ]
     },
     "execution_count": 91,
     "metadata": {},
     "output_type": "execute_result"
    }
   ],
   "source": [
    "#your code here\n",
    "np.std(obs, ddof=1)"
   ]
  },
  {
   "cell_type": "markdown",
   "metadata": {},
   "source": [
    "From the lecture we saw if we observe $N$ Bernoulli random variables $(X_1, \\ldots X_N)$, then \n",
    "$$ \\mbox{E}(\\bar{X}) = \\frac{1}{N} \\sum_{i=1}^N p = p$$\n",
    "and \n",
    "$$\\mbox{Var}(\\bar{X})= \\frac{1}{N^2} \\sum_{i=1}^N p(1-p) = \\frac{p(1-p)}{N}$$\n",
    "\n",
    "In our example, we assume each $X_i$ is a Bernoulli distribution with $p$ = 0.53. Therefore, if $N$ = 1200, we can analytically calculate the standard deviation of $\\bar{X}$ directly and compare to the standard error above"
   ]
  },
  {
   "cell_type": "code",
   "execution_count": 92,
   "metadata": {
    "collapsed": false
   },
   "outputs": [
    {
     "data": {
      "text/plain": [
       "0.014407752542757436"
      ]
     },
     "execution_count": 92,
     "metadata": {},
     "output_type": "execute_result"
    }
   ],
   "source": [
    "np.sqrt((0.53 * 0.47) / 1200)"
   ]
  },
  {
   "cell_type": "markdown",
   "metadata": {},
   "source": [
    "#### Problem 2(c)\n",
    "\n",
    "Now suppose we run M polls where M is the number of polls that happened in November (calculated in Problem 2(a)). Run 1,000 simulations and compute the mean of the M polls for each simulation. "
   ]
  },
  {
   "cell_type": "markdown",
   "metadata": {},
   "source": [
    "First, let's recall what M and N were in Problem 2(a): "
   ]
  },
  {
   "cell_type": "code",
   "execution_count": 93,
   "metadata": {
    "collapsed": false
   },
   "outputs": [
    {
     "data": {
      "text/plain": [
       "'Number of polls in November: 18'"
      ]
     },
     "execution_count": 93,
     "metadata": {},
     "output_type": "execute_result"
    }
   ],
   "source": [
    "\"Number of polls in November: %i\" % M"
   ]
  },
  {
   "cell_type": "code",
   "execution_count": 94,
   "metadata": {
    "collapsed": false
   },
   "outputs": [
    {
     "data": {
      "text/plain": [
       "'Median size of polls in November: 1200'"
      ]
     },
     "execution_count": 94,
     "metadata": {},
     "output_type": "execute_result"
    }
   ],
   "source": [
    "\"Median size of polls in November: %i\" % N"
   ]
  },
  {
   "cell_type": "markdown",
   "metadata": {},
   "source": [
    "Within one iteration of the simulation, we want to simulate M polls each measuring the *percent* of Obama votes out of a sample size of N. We can use again the Bernoulli distribution with parameter $p$. We simulate the *percentage* of Obama votes from M polls and compute the mean across the M polls using `np.mean`.  \n"
   ]
  },
  {
   "cell_type": "code",
   "execution_count": 95,
   "metadata": {
    "collapsed": false
   },
   "outputs": [
    {
     "data": {
      "text/plain": [
       "[0.56166666666666665,\n",
       " 0.54583333333333328,\n",
       " 0.51083333333333336,\n",
       " 0.55666666666666664,\n",
       " 0.51833333333333331,\n",
       " 0.54000000000000004,\n",
       " 0.51333333333333331,\n",
       " 0.52000000000000002,\n",
       " 0.53166666666666662,\n",
       " 0.52749999999999997,\n",
       " 0.53333333333333333,\n",
       " 0.52916666666666667,\n",
       " 0.53166666666666662,\n",
       " 0.52666666666666662,\n",
       " 0.53916666666666668,\n",
       " 0.53166666666666662,\n",
       " 0.53166666666666662,\n",
       " 0.53416666666666668]"
      ]
     },
     "execution_count": 95,
     "metadata": {},
     "output_type": "execute_result"
    }
   ],
   "source": [
    "# Represents the percentage of Obama votes from M polls\n",
    "def simulatePolls(p, N, M):\n",
    "    \"\"\" Function to simulate the results \n",
    "    of M polls each measuring the percent\n",
    "    of Obama votes out of a sample size of N\n",
    "    with probability p of voting for Obama\n",
    "    \n",
    "    M = Number of polls to simulate\n",
    "    N = Sample size of each poll\n",
    "    p = Probability of voting for Obama \"\"\"\n",
    "    \n",
    "    return map(lambda x: np.mean(np.random.binomial(1, p, size = N)), xrange(M))\n",
    "\n",
    "simulatePolls(p, N, M) "
   ]
  },
  {
   "cell_type": "markdown",
   "metadata": {},
   "source": [
    "Now, we want to repeat this simulation 1000 times. For every iteration of the simulation, we will compute the average across the 19 polls (or average of averages).   "
   ]
  },
  {
   "cell_type": "code",
   "execution_count": 96,
   "metadata": {
    "collapsed": false
   },
   "outputs": [],
   "source": [
    "p = 0.53\n",
    "B = 1000\n",
    "mom = map(lambda y: np.mean(simulatePolls(p, N, M)), xrange(B))"
   ]
  },
  {
   "cell_type": "markdown",
   "metadata": {},
   "source": [
    "What is the distribution of the average of polls?\n",
    "\n",
    "**Hint**: Show a plot. "
   ]
  },
  {
   "cell_type": "code",
   "execution_count": 97,
   "metadata": {
    "collapsed": false
   },
   "outputs": [
    {
     "data": {
      "text/plain": [
       "(array([  10.,   48.,  109.,  216.,  253.,  220.,   84.,   48.,   10.,    2.]),\n",
       " array([ 0.52   ,  0.52225,  0.5245 ,  0.52675,  0.529  ,  0.53125,\n",
       "         0.5335 ,  0.53575,  0.538  ,  0.54025,  0.5425 ]),\n",
       " <a list of 10 Patch objects>)"
      ]
     },
     "execution_count": 97,
     "metadata": {},
     "output_type": "execute_result"
    },
    {
     "data": {
      "image/png": "iVBORw0KGgoAAAANSUhEUgAAAmMAAAF1CAYAAACkr+1mAAAABHNCSVQICAgIfAhkiAAAAAlwSFlz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\nAAAAAAAAAAAAAAAAAABgl/n//aLkDnzSKL8AAAAASUVORK5CYII=\n",
      "text/plain": [
       "<matplotlib.figure.Figure at 0x1077b3ed0>"
      ]
     },
     "metadata": {},
     "output_type": "display_data"
    }
   ],
   "source": [
    "#your code here\n",
    "plt.hist(mom)"
   ]
  },
  {
   "cell_type": "markdown",
   "metadata": {},
   "source": [
    "Using a qqplot, we can compare this distribuiton to a normal distribution. "
   ]
  },
  {
   "cell_type": "code",
   "execution_count": 98,
   "metadata": {
    "collapsed": false
   },
   "outputs": [
    {
     "data": {
      "image/png": "iVBORw0KGgoAAAANSUhEUgAAAmUAAAGRCAYAAAAkZMS1AAAABHNCSVQICAgIfAhkiAAAAAlwSFlz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\nSZIkSZIkSZIkSZIkSZIkSZIkSaod/w9KksQe1E4ThwAAAABJRU5ErkJggg==\n",
      "text/plain": [
       "<matplotlib.figure.Figure at 0x10db0eb10>"
      ]
     },
     "metadata": {},
     "output_type": "display_data"
    }
   ],
   "source": [
    "stats.probplot((mom - np.mean(mom)) / np.std(mom, ddof=1), dist=\"norm\", plot = plt)\n",
    "plt.show()"
>>>>>>> 78f754b2a7dcc64bee2906766889a9cea64d03b3
   ]
  },
  {
   "cell_type": "markdown",
   "metadata": {},
   "source": [
<<<<<<< HEAD
    "Answer: We see the SD from the simulations match the analytical results using the normal approximation.  "
=======
    "Answer: Using a histogram and qqplot, we can see this distribution is very similar to a normal distribution. "
>>>>>>> 78f754b2a7dcc64bee2906766889a9cea64d03b3
   ]
  },
  {
   "cell_type": "markdown",
   "metadata": {},
   "source": [
<<<<<<< HEAD
    "## Discussion for Problem 2\n",
    "\n",
    "*Write a brief discussion of your conclusions to the questions and tasks above in 100 words or less.*\n",
    "\n",
    "In this problem we considered all the polls from pollsters in November 2012. After removing polls that came from the same pollster in Nov 2012, we did not see any pollster bias.  The standard deviation from the 2012 Presidential Election was smaller than what we expect by chance.  \n",
    "\n",
    "---\n"
=======
    "What is the standard error (SE) of the average of polls? "
   ]
  },
  {
   "cell_type": "code",
   "execution_count": 99,
   "metadata": {
    "collapsed": false
   },
   "outputs": [
    {
     "data": {
      "text/plain": [
       "0.003470334629167922"
      ]
     },
     "execution_count": 99,
     "metadata": {},
     "output_type": "execute_result"
    }
   ],
   "source": [
    "#your code here\n",
    "np.std(mom, ddof = 1)"
   ]
  },
  {
   "cell_type": "markdown",
   "metadata": {},
   "source": [
    "Answer: "
   ]
  },
  {
   "cell_type": "code",
   "execution_count": 100,
   "metadata": {
    "collapsed": false
   },
   "outputs": [
    {
     "data": {
      "text/plain": [
       "'The SE of the average of polls is 0.00347'"
      ]
     },
     "execution_count": 100,
     "metadata": {},
     "output_type": "execute_result"
    }
   ],
   "source": [
    "\"The SE of the average of polls is %g\" % np.round(np.std(mom, ddof = 1), 5)"
   ]
  },
  {
   "cell_type": "markdown",
   "metadata": {},
   "source": [
    "Is the SE of the average of polls larger, the same, or smaller than that the SD of a single poll (calculated in Problem 2(b))? By how much?\n",
    "\n",
    "**Hint**: Compute a ratio of the two quantities.  "
   ]
  },
  {
   "cell_type": "code",
   "execution_count": 101,
   "metadata": {
    "collapsed": false
   },
   "outputs": [
    {
     "data": {
      "text/plain": [
       "'The ratio of the SE of the average of polls to the SD of a single poll is 0.244093'"
      ]
     },
     "execution_count": 101,
     "metadata": {},
     "output_type": "execute_result"
    }
   ],
   "source": [
    "#your code here\n",
    "ratio = np.std(mom, ddof = 1) / np.std(obs, ddof = 1) \n",
    "\n",
    "\"The ratio of the SE of the average of polls to the SD of a single poll is %g\" % ratio"
   ]
  },
  {
   "cell_type": "markdown",
   "metadata": {},
   "source": [
    "Answer: The SE of the average of polls is smaller than the SD of a single poll by approximately factor of 4. "
>>>>>>> 78f754b2a7dcc64bee2906766889a9cea64d03b3
   ]
  },
  {
   "cell_type": "markdown",
   "metadata": {},
   "source": [
<<<<<<< HEAD
    "## Problem 3: Is the average of polls better than just one poll?"
=======
    "#### Problem 2(d) \n",
    "\n",
    "Repeat Problem 2(c) but now record the *across poll* standard deviation in each simulation. "
   ]
  },
  {
   "cell_type": "code",
   "execution_count": 102,
   "metadata": {
    "collapsed": false
   },
   "outputs": [],
   "source": [
    "#your code here\n",
    "B = 1000\n",
    "p = 0.53\n",
    "sds = map(lambda y: np.std(simulatePolls(p, N, M), ddof = 0), xrange(B))"
>>>>>>> 78f754b2a7dcc64bee2906766889a9cea64d03b3
   ]
  },
  {
   "cell_type": "markdown",
   "metadata": {},
   "source": [
<<<<<<< HEAD
    "#### Problem 3(a)\n",
    "\n",
    "Most undecided voters vote for one of the two candidates at the election. Therefore, the reported percentages underestimate the final value of both candidates. However, if we assume the undecided will split evenly, then the observed difference should be an unbiased estimate of the final difference. \n",
    "\n",
    "Add a new column to the `election` DataFrame containg the difference between Obama and Romeny called `Diff`. "
=======
    "What is the distribution of the *across M polls* standard deviation?\n",
    "\n",
    "**Hint**: Show a plot. "
   ]
  },
  {
   "cell_type": "code",
   "execution_count": 103,
   "metadata": {
    "collapsed": false
   },
   "outputs": [
    {
     "data": {
      "text/plain": [
       "<matplotlib.text.Text at 0x1120a3b10>"
      ]
     },
     "execution_count": 103,
     "metadata": {},
     "output_type": "execute_result"
    },
    {
     "data": {
      "image/png": "iVBORw0KGgoAAAANSUhEUgAAAnYAAAGRCAYAAADo/f5eAAAABHNCSVQICAgIfAhkiAAAAAlwSFlz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\nQmCC\n",
      "text/plain": [
       "<matplotlib.figure.Figure at 0x112110250>"
      ]
     },
     "metadata": {},
     "output_type": "display_data"
    }
   ],
   "source": [
    "#your code here\n",
    "plt.hist(sds)\n",
    "plt.xlabel('Standard deviations across %i polls' % M)\n",
    "plt.ylabel('Frequency')\n",
    "plt.title('Histogram of standard deviations across %i polls' % M)"
   ]
  },
  {
   "cell_type": "code",
   "execution_count": 104,
   "metadata": {
    "collapsed": false
   },
   "outputs": [
    {
     "data": {
      "image/png": "iVBORw0KGgoAAAANSUhEUgAAAmUAAAGRCAYAAAAkZMS1AAAABHNCSVQICAgIfAhkiAAAAAlwSFlz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\nkRvjX8qOCBSXO971AAAAAElFTkSuQmCC\n",
      "text/plain": [
       "<matplotlib.figure.Figure at 0x10a211ad0>"
      ]
     },
     "metadata": {},
     "output_type": "display_data"
    }
   ],
   "source": [
    "stats.probplot((sds - np.mean(sds)) / np.std(sds, ddof=1), dist=\"norm\", plot = plt)\n",
    "plt.show()"
   ]
  },
  {
   "cell_type": "markdown",
   "metadata": {},
   "source": [
    "Answer: Using the histogram and qqplot, we see the distribution is normally distributed. "
   ]
  },
  {
   "cell_type": "markdown",
   "metadata": {},
   "source": [
    "#### Problem 2(e) \n",
    "\n",
    "What is the standard deviation of M polls in our real (not simulated) 2012 presidential election data ? "
   ]
  },
  {
   "cell_type": "code",
   "execution_count": 105,
   "metadata": {
    "collapsed": false
   },
   "outputs": [
    {
     "data": {
      "text/plain": [
       "0.010829771494228929"
      ]
     },
     "execution_count": 105,
     "metadata": {},
     "output_type": "execute_result"
    }
   ],
   "source": [
    "#your code here\n",
    "thesd = np.std(filtered[\"Obama\"] / 100, ddof = 0)\n",
    "thesd"
   ]
  },
  {
   "cell_type": "markdown",
   "metadata": {},
   "source": [
    "Is this larger, the same, or smaller than what we expeced if polls were not biased."
>>>>>>> 78f754b2a7dcc64bee2906766889a9cea64d03b3
   ]
  },
  {
   "cell_type": "code",
<<<<<<< HEAD
   "execution_count": 121,
=======
   "execution_count": 106,
>>>>>>> 78f754b2a7dcc64bee2906766889a9cea64d03b3
   "metadata": {
    "collapsed": false
   },
   "outputs": [
    {
     "data": {
<<<<<<< HEAD
      "text/html": [
       "<div>\n",
       "<table border=\"1\" class=\"dataframe\">\n",
       "  <thead>\n",
       "    <tr style=\"text-align: right;\">\n",
       "      <th></th>\n",
       "      <th>Pollster</th>\n",
       "      <th>Start Date</th>\n",
       "      <th>End Date</th>\n",
       "      <th>Entry Date/Time (ET)</th>\n",
       "      <th>Number of Observations</th>\n",
       "      <th>Population</th>\n",
       "      <th>Mode</th>\n",
       "      <th>Obama</th>\n",
       "      <th>Romney</th>\n",
       "      <th>Undecided</th>\n",
       "      <th>Pollster URL</th>\n",
       "      <th>Source URL</th>\n",
       "      <th>Partisan</th>\n",
       "      <th>Affiliation</th>\n",
       "      <th>Diff</th>\n",
       "    </tr>\n",
       "  </thead>\n",
       "  <tbody>\n",
       "    <tr>\n",
       "      <th>0</th>\n",
       "      <td>Politico/GWU/Battleground</td>\n",
       "      <td>2012-11-04</td>\n",
       "      <td>2012-11-05</td>\n",
       "      <td>2012-11-06 2000-01-01 08:40:26 UTC</td>\n",
       "      <td>1000</td>\n",
       "      <td>Likely Voters</td>\n",
       "      <td>Live Phone</td>\n",
       "      <td>47</td>\n",
       "      <td>47</td>\n",
       "      <td>6</td>\n",
       "      <td>http://elections.huffingtonpost.com/pollster/p...</td>\n",
       "      <td>NaN</td>\n",
       "      <td>Nonpartisan</td>\n",
       "      <td>None</td>\n",
       "      <td>0.00</td>\n",
       "    </tr>\n",
       "    <tr>\n",
       "      <th>1</th>\n",
       "      <td>UPI/CVOTER</td>\n",
       "      <td>2012-11-03</td>\n",
       "      <td>2012-11-05</td>\n",
       "      <td>2012-11-05 2000-01-01 18:30:15 UTC</td>\n",
       "      <td>3000</td>\n",
       "      <td>Likely Voters</td>\n",
       "      <td>Live Phone</td>\n",
       "      <td>49</td>\n",
       "      <td>48</td>\n",
       "      <td>NaN</td>\n",
       "      <td>http://elections.huffingtonpost.com/pollster/p...</td>\n",
       "      <td>NaN</td>\n",
       "      <td>Nonpartisan</td>\n",
       "      <td>None</td>\n",
       "      <td>0.01</td>\n",
       "    </tr>\n",
       "    <tr>\n",
       "      <th>2</th>\n",
       "      <td>Gravis Marketing</td>\n",
       "      <td>2012-11-03</td>\n",
       "      <td>2012-11-05</td>\n",
       "      <td>2012-11-06 2000-01-01 09:22:02 UTC</td>\n",
       "      <td>872</td>\n",
       "      <td>Likely Voters</td>\n",
       "      <td>Automated Phone</td>\n",
       "      <td>48</td>\n",
       "      <td>48</td>\n",
       "      <td>4</td>\n",
       "      <td>http://elections.huffingtonpost.com/pollster/p...</td>\n",
       "      <td>NaN</td>\n",
       "      <td>Nonpartisan</td>\n",
       "      <td>None</td>\n",
       "      <td>0.00</td>\n",
       "    </tr>\n",
       "    <tr>\n",
       "      <th>3</th>\n",
       "      <td>JZ Analytics/Newsmax</td>\n",
       "      <td>2012-11-03</td>\n",
       "      <td>2012-11-05</td>\n",
       "      <td>2012-11-06 2000-01-01 07:38:41 UTC</td>\n",
       "      <td>1041</td>\n",
       "      <td>Likely Voters</td>\n",
       "      <td>Internet</td>\n",
       "      <td>47</td>\n",
       "      <td>47</td>\n",
       "      <td>6</td>\n",
       "      <td>http://elections.huffingtonpost.com/pollster/p...</td>\n",
       "      <td>NaN</td>\n",
       "      <td>Sponsor</td>\n",
       "      <td>Rep</td>\n",
       "      <td>0.00</td>\n",
       "    </tr>\n",
       "    <tr>\n",
       "      <th>4</th>\n",
       "      <td>Rasmussen</td>\n",
       "      <td>2012-11-03</td>\n",
       "      <td>2012-11-05</td>\n",
       "      <td>2012-11-06 2000-01-01 08:47:50 UTC</td>\n",
       "      <td>1500</td>\n",
       "      <td>Likely Voters</td>\n",
       "      <td>Automated Phone</td>\n",
       "      <td>48</td>\n",
       "      <td>49</td>\n",
       "      <td>NaN</td>\n",
       "      <td>http://elections.huffingtonpost.com/pollster/p...</td>\n",
       "      <td>NaN</td>\n",
       "      <td>Nonpartisan</td>\n",
       "      <td>None</td>\n",
       "      <td>-0.01</td>\n",
       "    </tr>\n",
       "  </tbody>\n",
       "</table>\n",
       "</div>"
      ],
      "text/plain": [
       "                    Pollster Start Date   End Date  \\\n",
       "0  Politico/GWU/Battleground 2012-11-04 2012-11-05   \n",
       "1                 UPI/CVOTER 2012-11-03 2012-11-05   \n",
       "2           Gravis Marketing 2012-11-03 2012-11-05   \n",
       "3       JZ Analytics/Newsmax 2012-11-03 2012-11-05   \n",
       "4                  Rasmussen 2012-11-03 2012-11-05   \n",
       "\n",
       "                 Entry Date/Time (ET)  Number of Observations     Population  \\\n",
       "0  2012-11-06 2000-01-01 08:40:26 UTC                    1000  Likely Voters   \n",
       "1  2012-11-05 2000-01-01 18:30:15 UTC                    3000  Likely Voters   \n",
       "2  2012-11-06 2000-01-01 09:22:02 UTC                     872  Likely Voters   \n",
       "3  2012-11-06 2000-01-01 07:38:41 UTC                    1041  Likely Voters   \n",
       "4  2012-11-06 2000-01-01 08:47:50 UTC                    1500  Likely Voters   \n",
       "\n",
       "              Mode  Obama  Romney  Undecided  \\\n",
       "0       Live Phone     47      47          6   \n",
       "1       Live Phone     49      48        NaN   \n",
       "2  Automated Phone     48      48          4   \n",
       "3         Internet     47      47          6   \n",
       "4  Automated Phone     48      49        NaN   \n",
       "\n",
       "                                        Pollster URL  Source URL     Partisan  \\\n",
       "0  http://elections.huffingtonpost.com/pollster/p...         NaN  Nonpartisan   \n",
       "1  http://elections.huffingtonpost.com/pollster/p...         NaN  Nonpartisan   \n",
       "2  http://elections.huffingtonpost.com/pollster/p...         NaN  Nonpartisan   \n",
       "3  http://elections.huffingtonpost.com/pollster/p...         NaN      Sponsor   \n",
       "4  http://elections.huffingtonpost.com/pollster/p...         NaN  Nonpartisan   \n",
       "\n",
       "  Affiliation  Diff  \n",
       "0        None  0.00  \n",
       "1        None  0.01  \n",
       "2        None  0.00  \n",
       "3         Rep  0.00  \n",
       "4        None -0.01  "
      ]
     },
     "execution_count": 121,
=======
      "text/plain": [
       "0.78702707298570951"
      ]
     },
     "execution_count": 106,
>>>>>>> 78f754b2a7dcc64bee2906766889a9cea64d03b3
     "metadata": {},
     "output_type": "execute_result"
    }
   ],
   "source": [
    "#your code here\n",
<<<<<<< HEAD
    "election[\"Diff\"] = (election.Obama / 100) - (election.Romney / 100)\n",
    "election.head()"
=======
    "thesd / np.mean(sds)"
   ]
  },
  {
   "cell_type": "markdown",
   "metadata": {},
   "source": [
    "Answer: The standard deviation in our real 2012 presidential election data is smaller than what we expect if the polls were not biased. "
   ]
  },
  {
   "cell_type": "markdown",
   "metadata": {},
   "source": [
    "Another way of comparing the standard deviation of the M polls in the 2012 presidential eletion data is to compare it directly to the distribuiton of `sds`. We can calculate a *p*-value or the probability of seeing values as large as `thesd` or larger. "
   ]
  },
  {
   "cell_type": "code",
   "execution_count": 107,
   "metadata": {
    "collapsed": false
   },
   "outputs": [
    {
     "data": {
      "text/plain": [
       "0.10000000000000001"
      ]
     },
     "execution_count": 107,
     "metadata": {},
     "output_type": "execute_result"
    }
   ],
   "source": [
    "np.mean(thesd > sds)"
   ]
  },
  {
   "cell_type": "markdown",
   "metadata": {},
   "source": [
    "We see `thesd` is consistent with the null distribution of `sds`.  "
>>>>>>> 78f754b2a7dcc64bee2906766889a9cea64d03b3
   ]
  },
  {
   "cell_type": "markdown",
   "metadata": {},
   "source": [
<<<<<<< HEAD
    "#### Problem 3(b)\n",
    "\n",
    "Make a plot of the differences for the week before the election (e.g. 5 days) where the days are on the x-axis and the differences are on the y-axis.  Add a horizontal line showing 3.9%: the difference between Obama and Romney on election day.\n"
=======
    "#### Problem 2(f)\n",
    "\n",
    "**For AC209 Students**: Learn about the normal approximation for the binomial distribution and derive the results of Problem 2(b) and 2(c) analytically (using this approximation). Compare the results obtained analytically to those obtained from simulations.\n",
    "\n",
    "**Solution:** A random variable $X$ that has a [Binomial distribution](http://en.wikipedia.org/wiki/Binomial_distribution) with $N$ independent trials of a binary outcome (e.g. yes/no) each with probability of success $p$ can be [approximated by a normal distribution](http://en.wikipedia.org/wiki/Binomial_distribution#Normal_approximation) if $n$ is large enough. Another way of writing this is if $X$ has a Binomial distribution with parameters $N$ and $p$, $X \\sim Bin(N,p)$, and $N$ is \"large enough\", then $X$ can be approximated by a normal distribution with mean $Np$ and variance $Np(1-p)$, or $X \\sim Normal(Np, Np(1-p))$. \n",
    "\n",
    "In Problem 2(b), we are asking about the *percentage* of Obama votes, therefore we are actually interested in $Y_i = \\frac{X_i}{N}$ where $X_i \\sim Bin(N, p)$. In this case, $\\mbox{Var}(Y_i)  = p(1-p)$. To estimate the standard deviation of $\\bar{Y}$, \n",
    "\n",
    "$$\\mbox{Var}(\\bar{Y}) =  \\frac{1}{N^2} \\sum_{i=1}^N p(1-p) = \\frac{p(1-p)}{N}$$\n",
    "\n",
    "Thus, we can analytically compute the standard deviation of $\\bar{Y}$ using $\\sqrt{\\frac{p(1-p)}{N}}$ and compare to the standard deviation obtained from simulations. "
>>>>>>> 78f754b2a7dcc64bee2906766889a9cea64d03b3
   ]
  },
  {
   "cell_type": "code",
<<<<<<< HEAD
   "execution_count": 123,
=======
   "execution_count": 108,
>>>>>>> 78f754b2a7dcc64bee2906766889a9cea64d03b3
   "metadata": {
    "collapsed": false
   },
   "outputs": [
    {
<<<<<<< HEAD
     "name": "stderr",
     "output_type": "stream",
     "text": [
      "/usr/local/lib/python2.7/site-packages/ipykernel/__main__.py:4: FutureWarning: sort(columns=....) is deprecated, use sort_values(by=.....)\n"
     ]
    },
    {
     "data": {
      "text/plain": [
       "<matplotlib.text.Text at 0x118715b50>"
      ]
     },
     "execution_count": 123,
     "metadata": {},
     "output_type": "execute_result"
    },
    {
     "data": {
      "image/png": "iVBORw0KGgoAAAANSUhEUgAAAqIAAAGRCAYAAAC+B9FtAAAABHNCSVQICAgIfAhkiAAAAAlwSFlz\nAAALEgAACxIB0t1+/AAAIABJREFUeJzs3XecXFXdx/HPb0t6AwJJgEDoCQSQ3gKuUuQBaSJVAdEH\nVBAVffKAlECko0gTRaqAgiBEEEIvS28BHpr0EiIgECA9u9nye/44Z5K7szOzM8nMzs7s9/165ZW9\n556585s79975zbnnnDF3R0RERESku9WUOwARERER6Z2UiIqIiIhIWSgRFREREZGyUCIqIiIiImWh\nRFREREREykKJqIiIiIiURdESUTPb28xeNrN2M/uXmd1hZs+b2V1mtmuss5aZTTazaWY2oVjPXWCc\nPzWz481shpn9Jo/6e5nZzWb2+xLFM9rMzoj7bLVYtrmZfWZmo9Lqbm5mp5jZA2b2rJmNWJrX1FOZ\n2XJmdnI8brYvdzzdycyGm9l5ZnaPmV1tZlPN7BYz2zJRp9ftn0znR9r6WjM71sxmxmvPU2Z2p5m9\nEq9BO5Qj7p7MzAab2c/jsXZcNz/3j+Jnwq9yrL832/oixaBrbh7MbER8jY+Y2Xdi2fZmdrGZvVfu\n+DLJ9j4u4za/ambXmNk/irS9jc3s3Hj8jS7GNnsCMxsbX9drhb6uoiWi7n4r8EfAgbPc/ZvAZsBL\nwJ1m9j13fwd4ENi00Oc2s9WXNUYz2wn4qrufDRwC9Mnjue4E1gUGLOvzZ+LuM4CXgfUSxZ8DTwFN\niZhqgJuB84A9gbeAfvm+pkrg7l8C9wNfAWxpt1OMY6U7mdlY4P+AvsB/ufvh7r47cC3wkJkdBsXb\nP5Uky/mRXN/m7ucT9osDB7r7boRrzzzgQTPbubvirQTuPhe4EtiacMx1p2uBLYH6LOuvAzbPsX6Z\nVcs118zqi5lwpXP3T4AbgAlAbSx+DPgM6PSlMJtuvh53eh+XRlrMjwLDgaHLss0Ud38ReJVw/C3z\nddzMhpnZ4GUObBm5++uEfG9dCnxdxb41Pz/+bwAeZss/GWgDTojr3i90o2Y2HCjGt87vArNjbI3u\n/rMMz9UXuDS17O4thIO7lD5OLrj7e+6+R0w8UnYARrv7PHef7+4Hu/t08nhNFeajImzj6iJso1sk\nPuzmAD919/bUOne/DTgXuMzMNo7Fxdg/lebjrquwMP7fDuDuzYRrTg3wixLFVbFiMvpFGZ53AeFY\nz7Z+PvF6VmLVcM09EVinlE8QX29y2YHpWap3YmbrAccXO65ssryPS2PxZ0i8Jn+6jNtL934Rt3UB\nsFwRt7csZizNg0reR9TdFxEueCOW5vFmVg/8hfCNZFmtkkedP5Cl9aWEMn57iElKyqpZHpvPa+o1\nzGwS8NVyx1GAfYD1gWuSSWjCZYTWoRO7NaqeZWlbDVIfHtnOHem9Kvqaa2Y7sqRxp0eKrXR/o/tb\n3dPfx0IfWzGfIWZ2KKFVvqKVPBE1s5HAioRbj1nrmNkfY/+368zsbjNbP67ejnDirxX7H2yXZRt1\nZnaamZ1pZheY2ZNmtmdcNyz241kP2Dxu59AM29gIGAssF+t8M239MWb2vpl9YmYHJ8rNzP7XzC6M\n/WnuN7O1crzeegv9AS8ysxOAgxLrhsY+by8TbolgZj8CDo5/nxv/jcj2miz0JTzHzC4zs/8zsyvN\nrJ+FvmE/iPtmq9jn6W0zqzGz1czsd2Z2lYX+defG17WimZ0U+7NsYqH/3VwzuzF5spvZmvExJ8f3\n7+TEuozxZNs/0Rgze9DMFpjZC2a2dVfbs9AvZevEfjrUzMZb6D/4cfx7DQv9CNvN7IeJ4+M+Mzsn\nLve10Jf5EjN7xsymmNmKief/VnzvppjZS2b2jVi+jZn9OR7D3zazN83sUzM7iOx2JtxSfirTSnf/\nmPDteZcC9s/6Fs6nI83s72b248Tr+pmZPWZmB8b99+94DGxoZjvF/TDLzM5LPpmZnRiP8ePjMZD1\nlqCZrWxmfzKzIyz0dz0tltfGmB42s4PM7Pdm9mU8DldOPD7r+VGgzeL//0qLL+v1xsxWMbPTzewN\nM9ssvtbP474ebGY/sdBH91Mz2z8+Jt9z5KsW+tfdEOseEsu3tdCvbY6ZfTXxXl0ej7GMt6kt9zmX\n9XqYTa7H2FJcOxLb3dPMro/H0GSgfx7vXb/4+ueY2Qdm9oO4rdExhvZ4LNfE8v82s9ctS9+0XMeU\nVdg1N77mPQm3y38c92n66+0Xn/dhM9vXwjiH+XGbExL1BsX3+lQL5+wjluUzNpvEvj3czC41s+fi\nqp2AFRL7alysn+08WM/Mzorl+1k47ybn2H56HJnex10tXAPPMbOjLfTpnWFmX8uyjU6fIWnr94/H\n2edmNjFt3ZFxX95tZk+b2eYF7scj4+v9uYV+0uMS63axcJ4fHY+fPS0k+t+IVU4ws0x3eOvN7HYL\n58vEePycFZdvtngdt5DbvGFmQ+Nyxs+4uC7n+Z6oZ2Z2gpm9ZWY/tFzdSNy9aP+Awwi3xg6NyysC\ndwMLgC1j2eqxzg5xuT/wOrBrYjvnAjOBlePy1cCDXTz3X4BzEsu7EboE/Fei7CHgqi62cwrwblrZ\nQzHGneLyxcBnifW/Sov/JeDpHM9xFXBmYvmXMdbVCH1Rd43LO6Tt27YM2+r0mgi3eleMf48EWoBz\ngGHAT+P+PwXYHriI8IVkKtAvPmbzWOfHhJaDfePymYR+MlvE+PaM9VcBngUGx+Wd4/qdcsWTZd+k\njo9bgPGELyJvEPolDelqe5n2E3AGoXWsJi5/Nca3TqLOnxLx/xEYlzg+PwVujMvbEvpApx73e0KX\nlBXifrwdeC/us9q4f2fmOBbuTI8lQ50nYp0V8tw/zwMnxL83AVoJtxghHGPtwI3AqFj2GPAasHtc\n3jXWWTsu7wk0JeK5Dbg8R7xTgMvi38vFbW2XuCa0A/8E1orr3wd+l8/5keM5r07WIXyYvAF8AKyb\nqJfzehPfw+/EGI+P9Zcn3E6+P7Ut4GxgRvy7hq7PkTGEVu/Uc/5PXL9+XD4OWASMTNS5KNtxQdfn\nXD7Xw/eASflcQ+P7VNC1Iy5/Le7vvnF5FNCcfN4Mr+09wjX0a4S7BbfFbW4f128V49ov8ZhvAUf0\nomtu6jqwfZbX2w84INb5c3ydGwNvA58AA2K9h1PvVVw+itDNZeNE2eLP9Ez7BTgc+G1ieXK2fUWO\n8wAYDTwCvAN8EzgG2D/X9tNec//09zHu55cIfYK/Trgm/wN4Psexkukz5GrCbecDEnE3A8vH5YOA\nHyXq3wH8G6jN8hypz6DU9WqjuJ9T1+QLgfsS9acDg+LfmySOg9R2Rud4Pesmj51Y9i5wRmJ5J+C/\n499dfcblOt8Xvy7CeXAR8RqV618dpfEzMzuAcAF/C9jW3bO1iH6HsBPvTpSdTTh5f0oe/UvMbG3C\nt9fFrULufqeZPU84+e9aqlfR0RPufn/8+3bgKAutZLMIHyKXWmzNIHwADjcz8/juJGIdB3yPcHCk\nTEvEvcDMXmMpb0ea2VaEC/WxiW8pDxEuPLPM7EVCC9wN7v4m8Gh8r1YDJiUe8yjhJHMzmxkfc6m7\nzwaeNbP/AOMICcX/AlM99DvD3e+L3ySfyhVPFy/lEnd/Jb6mo4F7ge+Z2dNLsb2riV8WCInf8/H1\nHAicZmaDgBZ3n2uhZe4A4MvE9p9myd2Dk+O6MwnvUT/gOcIF5fO4r95z91ti7LcDR5vZCA+d/9Ol\njo9c73dNhjoZ9w/hxL8SeDzWWxAftzohcfogvqypHlpbIVz8D3T3qXH5wfj/BoQPrpeB0xLPPR9Y\nI0e8fyd82KWen1j/cXf/LD7/zR4GL2JmjxOOpS7Pjzycb2abEi6CPycc58k+iTmvN+5+vJn9m/C+\nXO/uC4GFZvYK8EE8ZyDso4lmNtTdZ+dxjhxHuCakjpshhPdoDKHF9jLCsXUES/b1Gu7+VpbXmeuc\nK/h6aGbr5HqMu29d6LUj/n0mcIuHPru4+8dmlk8/59vc/aEY22GEJOBY4FF3f9rMngF+RDjWAPYm\nvN+dVOk1d/HTZ4rJ3ZvMLHWX5Wp3/wD4wMIsCTcBe5rZZ4SWw/0SD70MOIlwvTwwz13QFzjQzP4U\nj9dcM8xkPQ/i8fYOUOfudyx+gaF1usvtu/vC9PfR3dvN7HPCNfnBuL07CdfJQr3l7jfGv/9J+AK7\nFqHr4SSg0czOiutnERLqlcivj/sM4CyWdCdKv8b2BU4ys1+5+wvxGpWU9dh19zfN7AlC3+bUsTON\n8DmX6vK1D+GaAjk+4wgJa67zPWUM4bj6pYfumTmVIhF14AJ3vy7P+puy5MMqbMD9CzP7gJD557sN\nZ8lgqZQXgE634IugOf7fn/AtYTBworu35fHYrxFi/bAEcUHYZ9Pdvav+Q8lRhZsAL+bxmKRFLOn7\nsz2JAV4A7v5XADPLN550rYm/HyC0MIyNz1vQ9tz9bTN7hPBhdCfhmLg//n8a4QP4hlh9I2BBju1v\nAnw38aWkK6mTMFs/qffj/ysBb2apsyIw391nmtnAWJZt/+Dul1i4bfs/LElic3XDaU4uuPuieI0Z\nEpffi7dzDo5xjmJJAt2Ju99g4TbmscDcPJ4/eSx9nWU7P44ltOBeCKySloTC0l9vmrMsDyH74Jrk\n69oEuMLdr8hU0d2/NLPrgCPN7AxCQvhojnhynXNLcz3cpIDH5HXtiF/wtiSMlC9US+qPmMw9TTy+\nowuA6y3MOPEe0Mfdsw2+qsZrbiGS5+rDhORiDZaMfF/8nrt7a/zSle9nL4T39wjgRTM7ndASnE3O\n8yBKH/FeyPbzsYhln+lgcQ5gZv0JX3K+mfpyXSgPg6tONLM94pfCdel4zfwlYT80mNkR7v5ygU9x\nJfBHMxtGaBXuD6xmoZvGy0Crh4GCkOMzLn6B6uq4NeAK4Ll8klAoXR/RQr5ZtgHLWxitnjSTxMUo\nj20YnTuXz6TjB3YppFri1kxfYWaZDvZB8f9hJYxnTIZYajP140g8plMLl2Xpm5ZBPaHFrVjxdBBb\nlb8gXKCWdntXAXuY2QqE2weHA6tb6A+1vbunWhAHACtZhj6scX9k21dLe2G7h3Dsbp1ppZktH5/v\nvmwbSNs/WOgTehGh5eBGln6wj8XtrQg8CXzu7hfQxYhPM9ubcPvr6i4+cDJJJdpLfX64++8JrT4n\nmtkeaauLcb1Jynff5nPcXEhI8vch3Jq9Mb1+Qq5zbmmuh0t7Dc117RgQt1mMa91ndExQbiYklkcR\n+sndmeOx1XjNXVqpL4ZzCO85ZH7P8z4XPMyEMIHwxegUQstgtuthwdfPArdfDv0Jx3m+OUAnZtbf\nzO4mdM35HSE5XCx+yWwgNHo9Y2bfKjDGmwgJ+MGEOwmTCJ8phxFaSq9P1M31HuVz3DqhRf1bFvt2\nd6Un/LJS6vZBegfplVlye9HJfcF/htgPLcM2nigwnq6eK9078TFHJgstTOK/QZb6RpgapBTeAlY2\ns93Tyn9G9m+BbwFbmtmGaeUTM1XO4DXgkGTyZqET/I5LGU8H8SAfTmjF7Gp72Vrq/k44Ea8B/hlv\nS99PuL3yQqLeW4Q7BR1OIDM7PMbwVoZ1o1j6ATW3E/ow/cAyj/T8PiEROCvDutTzL94/ZrYKoQ/z\nn9y9iSXz/y2L04F6d78nLme9bsQE78/A32JLVqHXmGKdH/9N6CJzbWxhSMnnelMKbwHfSTtHBhI+\nFIDF8/DdCxxNaM3NNU1OtnPu6yzd9XBpr6FZrx3u/ilhLtdiXOtWJpyvQJg/lvBF61DCLeRbczy2\nGq+5+XTpyWTN+NgHCeeCsYyfm2a2k7svdPdfEPbx5oRuUKk4kzFmOw9+uJTbL4Wsd3syVg4t8V/Q\nOQfYiHArOx8/J4yjuTwud7huxn3wKOGO3R2E7hPJWHMeBzGZ/zvhs2usu79A+Czcj9AQ83SierbP\nuIPjuq3yOG6fJXxpuMDCFF45FTsRHUjYIblGRaYy59QH5N8J2f/iFxKbi40waATCm7ymhRFgm6Zv\n0MMExVcQbmsNi9sYShhpPCkur0K4KHR1a+MLYISFEXip56qj4wTLfWJ8dbH/zvWE/kGnmdl2sUVq\n7/hmp5tK+CZ/hoW+XLDkYN0hNvOnLl7J5+wbX0f6N+b013QX4VbVNRZGTU6wMNJzbuynVZuKPfGY\nvxBuz9xhZgdYGNV4FaEvZSoOo+PB3oclx8/5hG/Vj5nZwWa2L+G9eyyPeNK1E06uZIvkkcD97n5n\nHtv7Iu6nsWb2ldQGYl+/vxFO5NRt+GsII6uvTdR7Ocb9GwsjMLczs+OB1WPyegnhA+RmM2uIr/VS\nQgsNcb8m91PfuJzxXIutmfsRvmn+Ifn+WuhzfBJwjLun+rR1tX9GxOfaMn6D/Xasv7KFkb2ZEtNa\nEsdDok7qdYwCRpvZqHjMbkE4RzJNqTaQcLt6s/haDia0vIwys+XNLPU82Y6lfM6PTFKTTfeFxfNR\n7htf160WbhNDfteb9PeQGF/ynEnVSdXr6hy5hHAr9G4z2zkmLdez5LhJuZDQ8tFVIpDtnHs8n+th\n4jXUQn7XUJbu2nEZsLOFEc9moavOcGBDS8yUkKadxPFtYQ7d1QhfGpMuJ+z3/hm6YCRV4zX3S8J5\nPdbMVsqxL6Fja+1RhMFCr8W7QPcAP0+13JnZGEIDytlxORVz8rpRH9elYtvW4gjxmNC8xpJ+kV8A\n6yXe+2znwS2xfvp51tX202V6HzNdk3Pp8BkSX2emHCC1bQjTPu5rYVT/BAszAZwYr8mZpN7f1H4d\nBQy0MOPJSEJ3kuXiNbMPsf9z/AL2F5bMJ53qjjLOzNaxJV23MrmS8GMof4nLqUGA6deabJ9xf4+P\nnUf247aGJfv6HEJf1JvMLPeYEO9iNFO+/4DdCd+q2+KTH5ChzmqEC1MbIQlIjcodHl/gFGAyITG4\nltBacA3hVtVH8cVumtjeEYSOtacQ+vr9mtBf7teEbw3t8V8b4UCZR7ggHUSWkVyEb4NvEVpTvkHo\nb/YloTPxjoSRfTfFbV5AOKiHxvjnEE6QC4ijyrI8x3qEb6RzCEnPMTHuQ+I+uiBu/2+Eb7DbE/r2\ntMXXuT4h2T8s02uK6x8h9IV7E/hhLF+T8MHXRjjYxiZimhD37wJCC90+ae9NG+HiNCTu9zbCIJ71\nYr3vEFoe5hBaJ1ZJbDtjPDn2z6+ARsIH4yWEAQ998tkeIaF7ljBa+tC07W5CSOpSy30J/ZnTn3+V\nePzMJ4xWPDlt/SnxfZ5FuAWdGvm4Vaw/k3A+jEjs73O6OCZWIPxow0Pxfb+dcD5sU8j+IVwEboqx\nP0z4UJlGuHhvy5LRwjcBaxMuTI8SbsX9gHDr57hY5zbChNlfJ4wA/YRwvu1HOCc67bsYw/mE4/J5\nQmvLlPh+7JzY9h2Ejv4T4r78nCUjvnOdH33TnquG0C/0y7jdvwJbJ9YfFMufAHbLcr25NPEerkZo\n0W2Lr3U5wqjxT+J7uxPhGnFdrHMGod9sPufIDwndGubG17Nhlv03gzh6tovzJNc5V0PH6+FlhF8D\ngnCO/IzQ0v4MS2Y0yPWYgq8dcV2feDx8GF/7z+N7O5nw5S7T69qLcB78ldDF5FJg1Sx1byDDZ00v\nueZeTrgG/TbLa16d8Pl3bXzu64DfERpQUnX6E1qW74rvyWXARolr0hnxee8kjLrfgnC9aCN8mVuO\ncD2cTjgPTyAMUEltfxdCsvQwYUASZDkPCCPlP4jv0aEsGdmfdftprzfT+/iNuI/eivt7zcT7+oss\n2+nwGRKPhekxrm8TBuZcErdxfdwH9YQ7UZ8TupH8mTiiPsP2xxE+N9oI1/yVCTOgvEm8rhK6j30R\nt1/PkpzpSML5MCaxvbsIg5wm5nEepM/2cAYwLEO9jJ9xXRy368V4U9fOEYS7O22E1vcds8VlcQM9\niplNA45z9wcsjHicSkha2xN19iLs+NR8YTcC97r7lXH5j4STyggdcV/q7tchIlKI2Pp2s7vvVe5Y\nKoGZ3QIc4uHWoyRY+JnK94AGd3+k3PGIZNMT+oh2YOF3occRvrXg7q8RWmv2Tqs6kTBHacqtxObr\nePtlQ0LL1itKQkWkQhxM59v1kkG8zs9UEipS2Uo1j+iy2JYw51dypOabhNuDU2Bxq8EWhCbsZJ31\nY7+1zQl9jKYQ5sP6juc/3Y6ISLeJd30uBF4h3AbcprwR9Vzx2p/q6rE18dePJKPU53upR+KLLJMe\n1yJKmIg6fV6+WXScYmJ5wsk1O60OhL5Ef3P3zQnTDDwL3GJmS/Vb9yIiJdaH0H/5a8D30r6ES0c1\nhH5+ewFnu/sbZY6nR4qfd/9LGND0E0v8rKdIT9MTW0Rb6TyHWXIkVqoOafVSdZK/qvChme1H+J37\nvQh9Rjsws57XSVZEeqPhwCuW3/S6EkbjljuGSrA3sLf2VXVx96p5Q3tii+jHLJmKJWUYiV/FcPfP\nCUno0LQ6nX49w8O0PfeRYzLjrkaa6V/mf6ecckrZY6jkf9p/2n/af5X5T/tO+6+c/6pNT0xEH6Lz\nLxSMJUxXk9RImH4mWed1D5Mop6slTMckIiIiIj1Ej0tE3f1JYLqZNUCYVJYwr9ftFiaMHx+rXgEk\nf75vN8KErcSJyMfGv0cQfrd1ave8AhERERHJR0/sIwqhP+ekOJp0S2B3d19o4WczXyBMyfR3M1vN\nzE4j/AbxB8D58VcQvgGcbGaXEgY07ecaAFB0DQ0N5Q6homn/LRvtv2Wj/bf0tO+WjfafJPXICe27\nk5l5b98HIiIiUhnMDNdgJRERERGRZaNEVERERETKQomoiIiIiJSFElERERERKQsloiIiIiJSFkpE\nRURERKQslIiKiIiISFkoERURERGRslAiKiIiIiJloURURERERMpCiaiIiIiIlIUSUREREREpCyWi\nIiIiIlIWSkRFREREpCyUiIqIiIhIWSgRFREREZGyUCIqIiIiImWhRFREREREykKJqIiIiIiUhRJR\nERERESkLJaIiIiIiUhZKREVERESkLJSIioiIiEhZKBEVERERkbJQIioiIiIiZaFEVERERETKQomo\niIiIiJSFElERERERKQsloiIiIiJSFkpERURERKQslIiKiIiISFkoERURERGRslAiKiIiIiJloURU\nRERERMpCiaiIiIiIlIUSUREREREpCyWiIiIiIlIWdeUOIBMzWxk4CXgJ2AY4191fzVDvCGAkIaGu\nc/eTM9TZCTje3XcqbdQiIiIiUghz93LH0ImZTQOOc/cHzGwcMBVY293bE3X2Aia6+4S4fCNwj7tf\nlaizInAL0OruX8/yXN4T94GISNHNmwttbfDOm7DaGOjXHwYNLndUIlIAM8PdrdxxFEuPuzVvZjsD\n44CHAdz9NaAF2Dut6kTg7sTyrcCxaXV+AlxTmkhFRCrIggVw3ukwdiXYZSsYNxJ+cSQsXFDuyESk\nF+txiSiwLfCeu7cmyt4EFrdomlk9sAXwelqd9c1seKzzQ+BqILkdEZHep60NHrgLLj4XWlpCmTtM\n+Rv8/rewcGF54xORXqsnJqIjgdlpZbOAVRPLywP1afVmxf9XNbMtgZnu/n6pghQRqRjz5sE1f8q8\n7oarAXVPEpHy6ImDlVoJt+KTagBLq0NavVRSPRhocPfT4nKX/ShOPfXUxX83NDTQ0NCQf7QiIj2e\nw6LmzKuam8jjMikiZdLY2EhjY2O5wyiZHjdYycxOAPZz900SZVOB6e5+VKKsGdjf3W+Ly1sATwGH\nAVcAqYFNtYSEuxnY0t1fSXs+DVYSkerW0gJ/uQImHtV53X//BE4+CwYO6v64RKRgGqxUeg8Ba6aV\njQUa08oagbXT6rzu7n9x937uPsDdBwBHAg/H5VcQEelt6uvhwMNgl907lm+8KZx4hpJQESmbHpeI\nuvuTwHQzawAws7HAAOB2MzvNzMbHqlcAeyQeuhtwFSIi0ln/AXDlTfDoS3DepXDnYzD1MU3fJCJl\n1RP7iALsBUyKc4huCezu7gvNbFfgBeAVd/+7ma1mZqcBTcAHwO+W5skmT55crLhFRCrD+/+Bu+4v\ndxQi0sv1yETU3d8DDo+Lf0yUb5FW77w8tnUNmktUREREpMfpcYOVupsGK4mIiEil0GAlEREREZEi\nUCIqIiIiImWhRFREREREykKJqIiIiIiUhRJRERERESkLJaIiIiIiUhZKREVERESkLJSIioiIiEhZ\nKBEVERERkbJQIioiIiIiZaFEVERERETKQomoiIiIiJSFElERERERKQsloiIiIiJSFkpERURERKQs\nlIiKiIiISFkoERURERGRslAiKiIiIiJloURURERERMpCiaiIiIiIlIUSUREREREpCyWiIiIiIlIW\nSkRFREREpCyUiIqIiIhIWSgRFREREZGyUCIqIiIiImWhRFREREREykKJqIiIiIiUhRJRERERESmL\nunwqmVkdsBfwbWAtYAjwb+B54M/u/q+SRSgiIiIiVcncPXcFswbgdOB94FVgDtBESEZHAlsDLwG/\ndPdFJYy1JMzMu9oHIiIiIj2BmeHuVu44iiVni6iZHQgMAxrcvTVHvU2AM83sf929vcgxioiIiEgV\nytoiamYrAOu7+6N5bchsCLBxvvV7CrWIioiISKWothbRLm/NL65otp67v1HieLqdElERERGpFNWW\niBYyav5GM/utmW1fsmhEREREpNcopEV0ZWAusAewLTAbuNXdny1deKWnFlERERGpFNXWIpp3Itrh\nQWZbAMcD+wAPAo8CV7j7h0UJKiS9JxFG428DnOvur2aodwRh5H4NUOfuJyfWnQMcBNQCJ7n71Vme\nS4moiIiIVIRem4ia2X5Af+BoYBxwDfB7d3/DzFYHzgP+6e7XLnNQZtOA49z9ATMbB0wF1k6OyDez\nvYCJ7j4hLt8I3OPuV5nZwcAH7v6Yme0L3AAMdfeFGZ5LiaiI9ArN3sqM9tn8i88Z40NYr3Y49dRQ\nY/ptk660trbT0uI8+OAs3n+/iV13XZ6RI/swcGBtuUOTXqY3J6LtwHTgEuByd5+dtv4I4Cx3H75M\nAZntDNzLc5zeAAAgAElEQVRKSBxbY9kbwK/cfUqi3mPA3e5+elw+CDjB3Tc0s9HuPiOW9wO+AIa7\n+4IMz6dEVESqXrO3cro9zXN8srhsTYZyjm/PQOtTxsh6Pnfnww8Xse22zzNjRvPi8iOPHMX556/N\ngAFKRqX7VFsiWsjX4MnAWu7+2/QkNPoEuK4IMW0LvJc2b+mbwNdTC2ZWD2wBvJ5WZ30zG55KQqM9\ngWMyJaEiIr1BS1sL97a91yEJBXiX2Vzjr7KgtalMkVWGefPa+P73X++QhAJcdtnHPP30nDJFJVId\n8k5E3X0yMMDMxgKY2YaxL2dq/T/d/dgixDSSMBAqaRawamJ5eaA+rd4swFL1zGy4mZ0HXAtsa6Z7\nTyLSOzXTxqN1H2Vc93jNx9TW5vVrz71WfX0N99//ZcZ11133CfPmZf29FxHpQt5XHzPbh5DUPQns\n4u4vm9lvzGyquzcWMaZWoCWtrIaQZCbrkFYvlWgagLvPNLMTgIeBq4DHgIwDlk499dTFfzc0NNDQ\n0LB0kYuI9FB9yHz7uA81qHNSbjU1UFdntLR03lP9+tVQU1M1d0mlB2psbKSxsbHcYZRMIX1EnwbO\nJfx60qRYtgpwl7tvVLSAQvK4n7tvkiibCkx396MSZc3A/u5+W1zeAngKGOXun6Zt8xRCH9FjMjyf\n+oiKSFVra2/jqfYPOaNuWqd1h7SPZZ/2tehX17cMkVWGuXNb+dGP3uT66z/ttO6VV7Zggw0GliEq\n6a16cx/Rh939FmB+omw0sFpxQ+IhYM20srFAY1pZI7B2Wp3X05PQaCZQlKmlREQqTW1NLZvVjGL/\ntnWoi5f9GuDrjOZbtq6S0C4MHlzHpZeuy847L5coq+Wyy9ZlzJh+ZYxMpPIV0jFojpltA5iZ9QEa\ngD8A9xUzIHd/0symm1mDuzfGPqkDgNvN7DTgRnd/BbiCMJXUefGhuwFXEgLcEXjD3f8d1+0AdGoN\nFRHpLfrV1LN/67rs72P5sG02I2oHUddu9FX/0LwMHlzHlCkbMHt2G598soixYwfgjqZvEllGhdya\nrwN+ARwOrA58DvyTMGVSplH0Sx+U2RrAJOAZYEvgYnd/3syeJUwRNSXW+yUwDGgChgDHu7ub2Z+B\nbxKS1Q8J84u+meW5dGteREREKkK13Zpfql9W6rABsxHu/knXNXsmJaIiIiJSKaotES1k1PwQYF9g\nFTr2LW0gMceniIiIiEg+CukcdB9haqR/weLZPmoJt+lFRERERApSSCLaz903Ti80s3WKGI+IiIiI\n9BKFTN90oZltmKF81QxlIiIiIiI5FTJq/gFgYyD5w7oGrOTuFTubrwYriYiISKXotYOVCBPInwM0\nJ8pqgW8VMyARERER6R0KaRHt5+5NGcrHxwnmK5JaREVERKRS9OYW0eXN7FBgDNAnUb4p8JViBiUi\nIiIi1a+QRPR+4CXgDaA9lhmdfxdeRERERKRLhSSi/3H3A9MLzUyj5kVERESkYIVM33S9mY3JUL5R\ncUIRERERkd6kkBbRj4DHzSw5ar4GGAn0K2pUIiIiIlL1CklE/wT8GniTJX1EAf6rqBGJiIiISK9Q\nSCL6rLv/Kb3QzF4uYjwiIiIi0ksUMo/otwjTNj2Rtmpvd7+o2IF1F80jKiIiIpWi2uYRLSQRfQVY\nP8Mqd/faokbVjZSIioiISKWotkS0kFHzFwOD3b0m9Y/wE5/fL01oIiIiIlLN8m4RBTCzGmA7YGXg\nHXefVqrAuotaREVERKRSVFuLaN6DlcxsdWAqMA6YCfQ1s9eAb7v7hyWKT0RERESqVCG35i8E/kC4\nPT/C3YcBRwPHlyQyEREREalqhSSiz7j7H9x9QarA3Z8HZhQ/LBERERGpdoUkou3pBfF2/VbFC0dE\nREREeotCJrR/08wagWeBAcA6wA7AfiWIS0RERESqXKGj5rcEfgCsCrwP/MndXypNaN1Do+ZFRESk\nUlTbqPmCEtGMGzD7prvfUaR4up0SUREREakU1ZaIdtlH1MzqzGxDM1snw7rVgfNKEpmIiIiIVLWc\niaiZrQK8Bvwf8LqZ/cPMLK5rAKYBX5Y6SBERERGpPl21iJ5BGJy0D6Fv6DjgADP7GXAfcDvw1ZJG\nKCIiIiJVqatR8yu4+x6pBTN7DHgaGAT83N0vKWVwIiIiIlK9umoR7fDTne7+NvAKsGMqCY0j6UVE\nRERECtJVi+iWZnZoWtlcYE0zWxOoBQ4Adi1FcCIiIiJSvXJO32RmnX5NKQN399rihdS9NH2TiIiI\nVIreNn3TyUC9u9dk+gf0A04vfZgiIiIiUm26ahEd4u5zcm7AbLC7zy16ZN1ELaIiIiJSKaqtRXSZ\nf1mp0ikRFRERkUpRbYlol7+sJCIiIiJSCl2Nmi8LM1sZOAl4CdgGONfdX81Q7whgJCGhrnP3k2N5\nX+B8YH9gIXCWu/+hm8IXERERkTwsVYuomf1PsQNJ80/gFne/FDgbuN3MOsRqZnsBh7n7ae4+GVjX\nzL4fV08EHgJ2AG4Cfm9m25Y4ZpG8NTXB/AXljqJyzV8ITc3ljqIytbS2MXteE80treUOpSI1uzPf\n22lXl66lsmBBKwsW6NiTJZaqj6iZzXH3ISWIBzPbGbgVGOrurbHsDeBX7j4lUe8x4G53Pz0uHxTr\nbGRmR7j75Ym67wF/dPdzMzyf+ohKt5m/AD6dCZdcCXPmwoHfgq03gwH9yx1ZZVjQBE+/Djc8AEMG\nwlF7wYhhMFD7r0ut7e0samrjrze8xJOP/5txGwznh0dsTn2/Gvr3qS93eD3eQnfm4VzespAPvZ1d\navuwS20f+lvVdNUrqfnzW3jrrTlcfvnrABxxxFjWWWcIAwfq2CtUtfUR7YmJ6CnAfu4+PlF2OzDd\n3X8Sl+uBecB33P3mWLYZ8Awwwt1npm3zKeACd/9bhudTIirdYuFCuPMB2P8H0J6YoffQA+CP58KA\nAeWLrRIsaIIfXwDX3rukrKYGbjwZdtsaBvQtX2yVYM7cZrba8gpef33J5XGllQYy7bkjGL3q0DJG\n1vO1ufNieyv/1Tyb5I2MCTX1TOk7RMloF+bNa+Hii1/lhBOmdSg/88zNOeaYDRg0SMloIaotEV3a\nwUrzixpFRyOB2Wlls4BVE8vLA/Vp9WbF/5P1Uv1FhwK3FTdMkcKYwY8ndkxCAa69Ed55vywhVZR3\nPuqYhELYl0ddCFVzRS6ReQsXcd55T3ZIQgE+/XQ+E//nPmbNaSpTZJWhCfjZonmk96Z5rL2Fu9sW\n0abGjJxaWtqZNOm5TuWTJj1HS0s+v5sj1WypElF3H1XsQBJagZa0sho6ftakOpi0ZKiT/pl0BPBL\nd19YzCBFCjXjQ/hsZuZ1t97VvbFUGne47fHM6z6bBTM+6954Ks2i5jbuveedjOvuv/9d+vXpkeNW\ne4wa4P+8LeO6O9sWsQAlork8/vgntLZ23ketrc7jj39ShoikJ+mJV5+PgQlpZcOA6akFd//czFoI\nLZ3JOg58mCows/FAq7vfmesJTz311MV/NzQ00NDQsJShi2S3/PKhVTRT48mY0d0fTyUxg9VHZF+3\nwuDujafSmMGoUYMyrhs1ajAtrW3065EfBz1DLTAYY26GhHOU1VCvNvmcRo3K3u8o1zoJGhsbaWxs\nLHcYJdPjJrQ3s20Ig5CGJsreIQxEuilRdg9wr7ufF5cPAY539w3i8ihgf3e/MPGYutQAqESZ+ohK\nt5g7Dw45Cm5La/0cvgJMf159RLuyoAlWPwhmpnXc2XNbuO4EGKL9l9PjT85gwrZXdSq/4qo9+O53\nN6JvvRLRbOZ7O2e1LOTC1o431voCL/VbjpVrassTWIVYuLCVLba4jVdf/bJD+fjxy/HMM3vRv7+O\nvUKoj2iJufuTwHQzawAws7HAAMIUTqfFVk6AK4A9Eg/dDbgqPmYocDJwj5mtZ2YbmNmvCNcNkbIY\nPAj+8kc4ZH/o0yeUbbcVPDEV6nQd7lJdLTxxMWwXrwB96uG7O8NfT1QSmo+NNlqJG27cl9VXD9/x\nV1xxAL/57c4ceMB4JaFdGGg1nFg/gGPq+jEotn6ub7Xc3ncowzRQqUt9+9bw0EO7sfvuo6mpMWpq\njN13H82DD+5G3749Lg2RbrZMLaJmVgec7e5FnVfUzNYAJhFGwW8JXOzuz5vZs4TJ6afEer8k3JJv\nAoYAxxP6iD5AmEM06QZ3/26G51KLqHSruXOhT19oiT2cB/QPo7+la+3tsCDOH1pfB4taYLCS0Lwt\nbG4Bh5ZF7fTtW0tLWxuDNN1A3ua50wdoxqnFqAfqlYjmbc6cRdTXh4tdS0s7Q4b0KXNElanaWkTz\nTkTj/J5nExK/1A4YDLS5+8jShFd6SkRFRESkUlRbIlrI/ZhDgBMILZTPEn46c3PgXyWIS0RERESq\nXCEtoj9w9yvNbBBwUOqXi8zsYXf/aimDLCW1iIqIiEil6M0tol8xszuAY4BBZnZ1fPzGJYlMRERE\nRKpaIUMkTgD+Ccx09/OBFwjzeP6oFIGJiIiISHVb5nlEzWxzd5/Wdc2eSbfmRUREpFL02lvzZrYh\ncDQwBkjOubAOoN+FEREREZGCFNJH9Hbgb8CNQHssM8JE8iIiIiIiBSlk1PxUd989Q/lwd59Z9Mi6\niW7Ni4iISKWotlvzhQxWutzMNstQvmexghERERGR3qOQRHQ48JCZtSX+tQOXlyg2EREREalihfQR\nPRnYD3iTjn1E9y52UCIiIiJS/QpJRJ9y93vSC83smiLGIyIiIiK9RCGDlQ4DRgFPpK3a1d1PKHZg\n3UWDlURERKRSVNtgpUIS0acJc4guSBYDI9y9f/FD6x5KREVERKRSVFsiWsit+XOAf6RnbWa2S3FD\nEhEREZHeIO9R8+4+JUMSWgOsX/SoRERERKTqFXJrfmNgEjCMcEseYCgwxt1XKE14padb8yIiIlIp\nevOt+ROBe4GNgOeBVmAz4NcliEtEREREqlwhLaKHu/vVZrYCsLO7/y2W3+Hu3yxlkKWkFlERERGp\nFL25RXTz+BOfpwPrmtkp8fE7lCQyEREREalqhfzE5+nAHMKvKp1B6B+6FzC5BHGJiIiISJXL+9b8\n4geY1QGD3f3L0oTUvXRrXkRERCpFtd2az7tF1MxWMrN/AAuBmWb2sZkdU7rQRERERKSaFTJY6R5g\nJHA28CrQB/gG0ObuZ5cswhJTi6iIiIhUimprES1ksNLWwNru/lmibJqZafomERERESlYIYOV7stS\nf1CRYhERERGRXiRri6iZfQX4aaKoDXjQzJ5OlNUQbteLiIiIiBQkax9RMxtKaAW9E8jViXKKu79c\ngti6hfqIioiISKWotj6iOQcrmdkYd3+/+8LpfkpERUREpFJUWyKas4+ou79vZjVm9hMze9bM5prZ\nPDN7zsyONbPa7gpURERERKpLVy2ifYGpwARgGvABIXldBdgMeAb4hrs3lz7U0lCLqIiIiFSKamsR\n7Wr6pl8BnwCj06ZtwsyGEX7q80RgUmnCExEREZFq1dX0TZsCh6QnoQDuPsvdjwbWK0lkIiIiIlLV\nukpE33f39i7qfFSsYERERESk9+jq1vzKeWxjVDECKSurmq4WIiIiIhWjqxbRj83sTDPrVM/Mas1s\nMqEPqYiIiIhIQboaNb8C8AQwBHgAmB5XjQa+DswBtnP3L0sc51IzsxHunjVZ1qh5ERERqRTVNmo+\nZyIKYGbLAWcCBwDDYvEXwA3ASe4+u+hBma0MnAS8BGwDnOvur2aodwThJ0ZrgDp3PzmxbgxwOrCq\nuzfkeC4loiIiIlIRel0iuriimQErAp5pFH1RgzKbBhzn7g+Y2TjCXKZrJwdOmdlewER3nxCXbwTu\ncfer4vJqwERgY3ffIcdzKRGVbtVGG00sAox6aulDfblDqiittLKINgD6UU9Nlz2MJKlt3jxoawMz\naocMKXc4Fadp9mxwp7ZvX+r79y93OBWlpRXmN4W/B/aD+q5GqUhG1ZaIZj0MzGx54NvufhmE7BP4\nNEf9TYER7n7XsgRkZjsD44CH4/O+ZmYtwN7AlETVicDdieVbgROAq+LjPjCzmcsSi0ixNbOI15jB\nw7xEEy18hTVpYGP6KhnNSzMtPMLLPM/b9KOeBjZmLKO1//LQ3txM+5df8tmvf03TtGn0WXddhk+a\nRP2qq1IzYEC5w+vxFs2bx6evvMLj55zD3I8+Yo0dd2S7446jz6BB1NTqRwa7sqAJbnwI/nxPWP7e\nN+CAr8GAfuWNS8qvqz6imwI/B852939lqbMccEzc1uRlDsjsFGA/dx+fKLsdmO7uP4nL9cA84Dvu\nfnMsS/3S0wh3n5nY1o5qEZWeYCFNPMRL3MaTHcrXYmV+zj706XISi96thVbO5x+8kzZj3N5sy9fZ\nmL70KVNklaH1k094d/31afvii8Vl1qcPY556ir5f+Qqm2UOyam1u5q2pU7np29+GxOfFcmutxY9e\nfJE+AweWMbqeb95COPpCuPbejuWH7gKX/AwGqWG5INXWItrVb80/T/jlpAvNbLqZ3WNmN5nZDWZ2\np5m9Qkj+XixGEhqNBNL7nc4CVk0sLw/Up9WbFf9P1hPpMWqo5W6mdSp/h494V9Pxduk9/tMpCQW4\ni2cxquaaXBJt8+Yx87TTOiShAL5oEZ8edxztc+eWKbLK4O3t3DdxYockFODLd97hxWuuoa2lpUyR\nVYZZ8zonoRDKZs3r/nikZ+myc5W7z3D3nYGdgDuBGcDnhFvnR7n7Ou5+WxFjagXSz+oa6PBJ0xr/\nb8lQR59I0iN9yVyaOx3awdt83M3RVBbHeYsPM65rpoUv0adZTq2tLJzW+UsQQNNzz2F91Jqckztf\nvvtuxlUznniC1qambg6osrzwdo51b3VfHNIz5X0v0N3fAi4sYSwpHwMT0sqGsWTqKNz989hvdGha\nHYcsn1Y5nHrqqYv/bmhooKGhodBNiHRpGIOoo5bWONAmaVVWKENElcMwRrNixnV11DIU3RrNqbaW\nvuutR9PTT3da1We99fCWFuinznrZWG0tg0aOZN5//tNp3Urjx1Pbt28Zoqoc643OsW617oujUjU2\nNtLY2FjuMEom71Hz3cXMtgHudvehibJ3gF+5+02JsnuAe939vLh8CHC8u2+QqKM+otJjLKSJW3mS\nRl7qUD6C5TiZg6lXH9GcWmjlNK7nEzpOW9zAxuzDtvRTH9GcFr39Nu+OH483Ny8pNGO1e+5hwI47\nYjWafSCbloULeeHKK7nrmGM6lA8YPpxj3nqLfsOGZXmkQBgpv88kuC+tUX7nzeEfvw4j6CV/vaqP\naDm4+5PAdDNrADCzscAA4HYzO83MUoOYrgD2SDx0N+KI+YQe9/qk9+pPP/ZlAvuyHSMYxhAGsD3j\nOY79qVGPki7VUsPx7M8OjGcIAxjBML7N9uzLdkpC81C38sqMeeYZBu66K7XDh9N/221Z7b776L/N\nNkpCu1Dfvz9fOfxw9rnuOkZsvDEDVlyRDfbfnyOff556zTjQpYH94B+T4fiDYbURMHolOO6gUKYk\nVHpciyiAma0BTCIMhNoSuNjdnzezZ4Gz3H1KrPdLwi35JsKvPx2fat40sx2AiwiDl44Abnf31gzP\npRZR6VbNLALC7eY22uiPrsSFaGIRNdTgODWYWpIL1DZnDlZfj7e0UDNokJLQArS3ttKycCE1dXW0\nt7TQV/OwFmRBWldaTd20dKqtRbTQCe0PA4a4+0VmtjGwWWoC+UqlRFREREQqRbUlooV8Ff4TcB6w\nA4C7vwjMMrPTSxGYiIiIiFS3QhLRVQhzfD6bKHuMcNtbRERERKQghSSiL7h7C2GKpJT9IHZ4ExER\nEREpQCG9/J81s4uBkWZ2JPA1QiL6s5JEJiIiIiJVraBR82Y2GjgYWJ3w60r/dPdncz+qZ9NgJRER\nEakU1TZYKe8WUTPrA6zv7ufE5TUgw0/EiIiIiIjkoZA+olcAV5rZIAB3fw/Yz8x2LElkIiIiIlLV\nCukj+hkwOu0+9hTgTmBcUaMSERERkapXSIvoFxk6U+4IDC9iPCIiIiLSSxTSIvqGmf0JmEqYwqkB\nOAr4QwniEhEREZEqV+io+W8APwXWAj4F/g78wd0rdtCSRs2LiIhIpai2UfMFJaIZN2C2Rhy4VJGU\niIqIiEilqLZEtJDpm1YHvk/4qc9k39ItgA2LHJeIiIiIVLlC+ojeA7wS/6WaEGuB9YsdlIiIiIhU\nv7xvzZvZk+6+TYbyld39o6JH1k10a15EREQqRbXdmi9k+qYzzWxChvIdihWMiIiIiPQehbSIvkLn\niesNcHevLXZg3UUtoiIiIlIpqq1FtJA+opcDdwHNibJa4KCiRiQiIiIivULB0zeZ2TB3n2Vm6wAz\n3L2pNKF1D7WIioiISKWothbRvPuImtm2ZvY+cFMsmgH81sw0dZOIiIiIFKyQPqLPAn8DRrr7xFi2\nBvBXd9+2dCGWllpERUREpFL02hZR4FF3Pw+YmSgbCIwvbkgiIiIi0hsUkoguMLNViJPZm9l6wFXA\nU6UITERERESqWyG35gcDZwHfikUrAvcCP3T3f5cmvNLTrXkRERGpFNV2a76QRPSHwJPu/pKZrQR8\n6e4tJY2uGygRFRERkUpRbYloIbfmTwL6Abj7p6kk1MxWKEVgIiIiIlLdCklEfwZsYGarm9lq8d/q\nwE9LFJuIiIiIVLFCbs0/AmT6rXn9xKeIiIhIN+jNt+b/AKzg7jWpf4Sf+DymNKGJiIiISDUr6Cc+\nzWwQsKq7v25m44Ev3P2jkkXXDdQiKiIiIpWi17aImtk+wMfARQDu/gpwrJk1lCY0EREREalmhdya\nPx74Hh0nsL+AmJiKiIiIiBSikET0YXe/BZifKBsNrFbckERERESkNygkEZ1jZtsAZmZ9zGwX4C/A\nfaUJTURERESqWc7BSmY2Bpjn7jPNrA74BXA4sDrwOfBP4AR3n136UEtDg5VERESkUlTbYKWuEtF3\ngF+7+zVmNtrdZ3RfaN1DiaiIiIhUimpLRLu6NX+1u18T/z4kUwUz2664IYmIiIhIb1DXxfoFZvZr\noBXYId6eT6oFvgFsXcygzGxlwm/bvwRsA5zr7q9mqHcEMJKQUNe5+8n5rBMRERGR8uvq1nwdcBiw\nJbA5ITFMqgW2dPexRQ3KbBpwnLs/YGbjgKnA2u7enqizFzDR3SfE5RuBe9z9qlzrMjyXbs0XqNWd\nZpy+GAtxBmLUWNXcJSi5RXPnU1tfi9XW0jJ/AX2HDS13SBWlbe4savoNxNvacG+htv/gcodUMby9\nnZZ586gbMIC2piZq+/Wjpq6r9ghZrKUZ2tugrh6aF8KAIeWOSHqh3nZrfnfgRXf/IXCBux+e9u9Q\nwuClojGznYFxwMMA7v4a0ALsnVZ1InB3YvlW4Oc51h1bzDh7q/nezn00sbvPZA3/mIP8c16ghQVL\nviNIDq0LFvDBb3/DE2utxcMrrMCbR/2Y5k8/o62lpdyh9XjtbS20fvYpn/3oaN5dYQXeX2stZp3z\nW9oXzO/6wULL/Pl8+swz3Ln77lw5ZAj/mDCB6XfcQcu8eeUOrTI0zYf7roafbAz7DYNzD4KP3oZF\nzeWOTKSiddUi+j5wmLs/bGYT3P2xDHVq3b2taAGZnQLs5+7jE2W3A9Pd/SdxuR6YB3zH3W+OZZsB\nzxBux/87y7oR7j4z7fnUIpqnNnceoImD/YsO5fXAI7YS61h9eQKrEM2z5vDO//ySj668okN5/zXW\nYOt//Yvafv3KFFllaF+4kA/Gj6fl3Xc7lA/5wfcZfv551A4eVqbIKsOXr7/OTRttRHval57d7riD\n0bvuSk1tbZkiqwDNC2HqJXDlxI7lg4bBFe/A4OXLE5f0Sr2tRfTX7v5w/HuHLHX2KGI8EBLJ9Omg\nZgGrJpaXJ+Q/s9PqAKydY11yG1KghTi/9bmdyluA83wuc9UqmlONOR9f8+dO5Qvfe49Pbp/a/QFV\nmPl3T+2UhALMueZaaK+aa3JJLJozh+dOP71TEgowbfJkWhcsKENUFaSmBm4+t3P5vFlwxyXhlr2I\nLJWuOge1m1kj0A6sbmY7pa2vBcYTbn0XSysht0mqASytDmn1arpYZ2nbWOzUU09d/HdDQwMNDQ2F\nxNtr1GG8T+bG7/doRWlobk0f/wdvbc24buFrrwL7dm9AFcTdWfTKa5lXtrbS9p+PqB2qvrbZeHs7\nc95+O+O62e+8Q0297mbk1N4Gsz/LvO7DN6BlEdT37d6YpNdobGyksbGx3GGUTM5E1N3/bGaPEwYq\n7QvcnlalluK3iH4MTEgrGwZMT8T1uZm1AEPT6gB8QEhC09c58GGmJ0wmopJdC85m1HMfnb/9b0Ef\n9FGW24DVRlM7eDBtczu3Kg9r+HoZIqocZsaAHRv4YlLndTWDB1M3evXuD6qC1NTXM2Lrrfnk6ac7\nrRux1Va0L1oE6hqS2yrrwodvdi4f/1Xoo30npZPeQDZ58uTyBVMCXf7Ep7u/5e43ABe5+zVp/64i\nDAwqpoeANdPKxgKNaWWNhNvwyTqvu/snOdZ9WsxAe5vBVsOpNpQBaQ3LK1HDL2wwA6yQX4ztfVpb\n2hgz+bRO5cvvuCPDttisDBFVlr6bbEb/HXfsVL78aafirsFeudQPHMimJ55I/xEjOpTX9e/PNr/5\nDX2GaPR3TrX1cMT54RZ90uhx8LXvhFH0IrJUcg5WymsDZju4+yNFiie1zZeAn7p7o5mNZUlyegJw\no7u/Ymb7AUe7e0N8zA3As+7+uyzrprn7eRmeS4OVCrDQ2/mcdi7wubxNK5vSh2NsEAMx+igR7VLL\n3HnMfuZZPvrD72mdM4cV9vk2qxx2CHUDB5Q7tIrQvmA+c/5yHfP/fgs1Q4Yw9Jij6bfFFtQM1BRO\nXWlbtIiWuXP5v3PP5ZNnnmHYeuux6Qkn0H/FFanr37/c4fV8TfPhP+/CzefA5x/BprvAN38CfQd0\nTs+AUJEAAA/4SURBVFBFSqjaBit1NWr+IuCWOGr+WGCftCo1wHruvmJRgzJbA5hEGOm+JXCxuz9v\nZs8CZ7n7lFjvl4Tb7k3AEOD4VFaZa13acykRXQrzvZ1WwqgwtYQWrumLWeBO3aCB1PXtU+5wKkp7\nSzM+fx6YYUOGUaPjryAtCxbQvmgRNXV11A8aVO5wKs+COeDtUN9Pt+SlLHpbInoBMMXdH4kDlX4B\nJDsZ1QAN7v7V0oZZOkpERUREpFL0qkS0Q0UzA/6/vXsPsrus7zj+/pCERIREbgZMLFRREEUtMFrE\nYtTpoIJDreINZBSpyiiiOEqZsUjaaUsZvIFWK3gtMDiDlRqrSGu7RStaUUalcvlDBeRmECGQC0nM\nt3/8TvB4QrKby+5zzu77NbOz+f3Os2e/5wd79rPP8/ye56lVdfPA+YOr6qeTUdxUMIhKkqRRMSOD\naJKFwPHAgXRLOf2Urqd0M+tZjA6DqCRJGhUzLogmeSXweWAX4F66ILoX3c5GJ1XVVya7yMlkEJUk\nSaNiugXRLc7yT3Iw8AXgQmBRVT2+qvah29noLODiJINLLUmSJEnjGu9mpYuA71XVxZt5/KXAsVX1\n9kmqb9LZIypJkkbFjOoRBfbdXAgFqKqv0w3ZS5IkSVtlvCB6+wSe44EdUYgkSZJmlvGC6ET2LXNv\nM0mSJG218eaI/ha4DdjSJMpFVTV3Rxc2VZwjKkmSRsV0myM6e5zHfwIsA9Zv5vGdgWN2aEWSJEma\nEcYLou+qqrEtNUjy7zuuHEmSJM0UE97ic7pyaF6SJI2K6TY0P97NSpIkSdKkMIhKkiSpCYOoJEmS\nmjCISpIkqQmDqCRJkpowiEqSJKkJg6gkSZKaMIhKkiSpCYOoJEmSmjCISpIkqQmDqCRJkpowiEqS\nJKkJg6gkSZKaMIhKkiSpCYOoJEmSmjCISpIkqQmDqCRJkpowiEqSJKkJg6gkSZKaMIhKkiSpCYOo\nJEmSmjCISpIkqQmDqCRJkpowiEqSJKmJaR1Ek+yUZM/WdUiSJGlTQxdEkxyX5Nwk70tyYZLZm2k3\nP8kFSU5NclGSowYefznwE+C4qahbkiRJW+dRQ14rSQ4DPgg8paoqyT8AHwD+6lGafxb4elVdnGQP\n4IYkT6+q3ySZD3wXWDhlxUsTtWoF7LQTrH0Ydp4Hc+bCrKH6UdQ0tXp1kcCKFTB/PqxfD7vumtZl\nSZrBhq1H9N3AWFVV7/hK4G1Jdu5vlOQpwCuAqwCq6j663s839Y5XVNVy4MGpKlyakFUr4MNvhOMX\nwOv2gvceCbffCGvXtK5M09zKlcXll29g//3Xs3Bh93H++RtYtarG/2JJmiTDFkSPBG7qO74F2BN4\n5kC75wGrquqXA21fNLnlSdth9YNw7mvgO1+GDRu6cz/7EZx5FGz4bdvaNK1VFdddV5x88gbuuac7\nt2IFLF26gS98YQNr1xpGJbUxbEF0H+CBvuP7e58Xj9NuY9vBdtLwWLsGfnDVpucfuh+u+eLU16MZ\nY8UK+NCHNjzqYx/96AbWrp3igiSpZ9gmpq0H1vUdbwzKg5OYBtttbLtNk53OOeecR/69ZMkSlixZ\nsi1PI23ZysG/nfrcd+fU1aEZpwqWL3/0x+69F2YP228CSY8YGxtjbGysdRmTZsrefpIsBq4HBseA\n0ju3DLgTWND32ON6n+8Y+Jq7BtptbDvYbkL6g6g0afZaDLvvA7+5e9PHjnzl1NejGWPePDjmmHDt\ntZsOwR99dFi3rmsjafgMdpAtXbq0XTGTYMqG5qvql1W1d1U9fuBj47k3A2PAAX1fdhDdkPv1A083\nBuw2sEboQb3z0vA6/dOb3iH/slNh7z9oU49mhHnzwumn78QzB2bbL1oE558/i9128855SW3kdzeo\nt5fkOcClwFN7yzf9PbBrVZ2WZBFwVlW9o9f2q8AVVfW5JLvT3az0R/03MCW5FVhaVZ/ZwvesYboG\nmubWrOzunL/qU7DyfnjB6+EPDoZ5j21dmaa5qmLNGvjqV4trrikOOQROOGEn5s6F2bMNotKoSEJV\nTZsf2qEKogBJTgQOpRtmPwA4o6pWJ3kucBlwcFU93OsNPY+ut/QQ4F+q6hu959gVeC3wCbolns6u\nqsFe1Y3fzyCqqbd+XXen/M6Oh2pqbdhQrF0Lc+bArFnT5neZNGMYRKcZg6gkSRoV0y2IDtvyTZIk\nSZohDKKSJElqwiAqSZKkJgyikiRJasIgKkmSpCYMopIkSWrCICpJkqQmDKKSJElqwiAqSZKkJgyi\nkiRJasIgKkmSpCYMopIkSWrCICpJkqQmDKKSJElqwiAqSZKkJgyikiRJasIgKkmSpCYMopIkSWrC\nICpJkqQmDKKSJElqwiAqSZKkJgyikiRJasIgKkmSpCYMopIkSWrCICpJkqQmDKKSJElqwiAqSZKk\nJgyikiRJasIgKkmSpCYMopIkSWrCICpJkqQmDKKSJElqwiAqSZKkJgyikiRJasIgKkmSpCYMopIk\nSWrCICpJkqQmhi6IJjkuyblJ3pfkwiSzN9NufpILkpya5KIkR/U99owk/5PkwSTfSfKMqXsFkiRJ\nmoihCqJJDgM+CJxVVecBq4APbKb5Z4EfV9UngDOBy5PsnmRn4CzgNOClwGOAL0168TPQ2NhY6xJG\nmtdv+3j9to/Xb9t57baP10/9hiqIAu8GxqqqesdXAm/rhctHJHkK8ArgKoCqug/4CXAy8CfA+6vq\nh1X17d5zHpDk8VP0GmYM30y2j9dv+3j9to/Xb9t57baP10/9hi2IHgnc1Hd8C7An8MyBds8DVlXV\nLwfavrCqvllVP+87fzewErhvEuqVJEnSNhq2ILoP8EDf8f29z4vHabex7WA7gEOBz1TV+h1SoSRJ\nknaI/G4UvL0kDwKnVdXnesdzgIeBV1bVl/vavafXbv++c38LHFtVz+o7F+BS4K1V9eBmvufwXABJ\nkqRxVFVa17CjPOod6ZMhyWLgemAw+KV3bhlwJ7Cg77HH9T7fMfA1dw2029h2sN1pwDmbC6Ewvf5j\nSpIkjZIpC6K9+Zx7b6lNkn8CDug7dRDdkPv1A03HgN2S7FlVv+5r+42+5/pz4LtVdUvveE5Vrduu\nFyFJkqQdZtjmiH4aeElvSB3gZcClVbUuyaIkHwOoqjvp7ph/OUCS3eluaLqsd3w08ETggSQHJnku\n8NapfSmSJEnakqGaIwqQ5ES6G4zuoOsdPaOqVvfC5GXAwVX1cJI9gfPoeksPAb5UVVcneRbwbWCX\ngac+uqr+YwLff2FV3bMDX5L0qJLMBeZW1YrWtUjSVOt1Iq2pqtWtaxklSfYDXgPcA/xbVd3buKTt\nMnRBtJUkewNnAy+rqie3rmeYJXkC8H7gx8ARwHlV9X9tqxodvR7/k4C/Bt5UVf/ZuKSR0ttF7QLg\nScC1wClVdXvbqkZHkmcDHwcOBr4PvLa3FrMmqPcz/E26exCuaV3PKEnyLbqlGgFuqaqDWtYzapK8\nGjgdOHFgqcqRNWxD8y09BrgVmNO6kBHwFboe6E8C5wLLkvj/0sTtSfdL7ImtCxk1vT8YTwZOBF4F\nHEg3pUcT0Nsc5HjgxcAiYDfgjKZFjaZT2XR9a40jyaF093IcBhwOHLXlr1C/JEuAC4FXTZcQCgbR\nR1TVbcDy1nUMuyR/CjwN+G+AqroRWAf8Wcu6RklV3TuwGYMm7kV0S7fdUFVXA+cAz29b0kh5HF0v\n3pqqWkX3c7yhcU0jJcnzgV8ATqnZeu+iW5Lxod7uh79qXdCI+Ufgwqq6q3UhO5JBVFvrecDPBzYI\nuIUuIEiTqqq+OLAc293Aba3qGTVV9auNq4f05igvBD7ctqrRkWQP4Iiq+hrd0oOaoCSz6EaDzgBu\nTnJ5kilbuWfUJTmCbnWg/ZNckeTGJG9vXdeOYBDV1tqaXa2kyXYo8MnWRYyaJC8Hvkc3RP/0xuWM\nkncBH2ldxCiqqt9W1TFVtS/wBrpVcf6ucVmj5DC6Xvgzq+pVwAnAR5M8p21Z288gqq21nm4ovt9O\n2DugKZZkF7oVMy5oXcuoqaplwHHAt4BLGpczEpKcAlzmetTbr6oupesZPbF1LSNkV+DmjWunV9UP\ngeuAY5tWtQNM+yCaZHGS5Ul+NfCx8dzFrWscMRPd1UqabO8F3llVznHcBlV1K/BmYK/ecnjasrcA\nP0yyKskqYD/g6iSXN65rVF3J73ZP1PjuAR47cO52YI8GtexQ035+xkR2dNJW+S/gzIFzBwGfb1CL\nZqgkfwFcUlXLe8funLYNqmpNkl8DLt80jqr6vSHQJD8HTqqqbzUqadTNBm5uXcQI+Q7dUHz/e908\nYOTvnp/2PaJbaVbrAoZdVV0L3NpbRoIkB9FtHrCsZV2jxuWutl2SNwKrgdm9ndNeALyubVWjIcke\nSY7tOz4K+OdyQelt5ZSkCUpyeJI39733nYZzRCesqm4GfgAcA48sxXYI02BqzbTvEZ2o3vpmrwcW\n9nZ3urKqHmpc1rA6Djg7ydOA5wDHujPGxPXWwjwFKOCEJHf03mQ0jt72vRex6R/RBzYoZxT9IXBx\nkpuAK+iW0Xl/45pGleF96+wL/A1wYpJvAN+rqq80rmnUvAE4P8mBdDcIv2U67ATpzkqSJElqwuFB\nSZIkNWEQlSRJUhMGUUmSJDVhEJUkSVITBlFJkiQ1YRCVJElSEwZRSZIkNWEQlSRJUhPurCRJW9Db\nzvYjdNvpfRZYBzwRuAv4cFX9tF11kjTaDKKStAVVNZZkGbCgqk7ZeD7JKcD3k5xUVV9qV6EkjS6D\nqCSNbz0De4tX1cVJngx8Psm3p8Oez5I01QyikrTtLgDOBI5Psh5YQDf3ft+qemeSJwFXA7cCr62q\n5UnOAvarqrclOQ5YDOwCvLiqXtLmZUhSGwZRSdpGVXVXknuBZwNvBBZW1a+T3JXkU1V1Q5Jzgb+s\nquW9L3sM8IHev88BXlhV9ye5c6rrl6TWvGtekrbPBmAlcHgvhB5F9966e+/xS4D5SV7aO17YN4z/\nC+CKJE+oqkunsmhJGgYGUUnaRknmA3sBNwI793o/bwdWAQGoqjXAp4B3JHkWcF3fU7wV2BW4Icmr\np7J2SRoGDs1L0rY7AXgI+Brwv3RzPx9OMtju48DPgDOAd/ednwMcAbwHuCTJd6vqtkmvWpKGhD2i\nkjS+nQdP9IbalwInAYcDjwXmJtmfrpd0QZJZ0M0lBb4M7F1V9/U9zanVOR+4ge6mJUmaMewRlaQt\n6C1ofwywKMnH6Ra0X0A3/P7HVfWzJHvT3Rn/I+BjwJXA2cAPgI03IX2dTf/4f02S6rX516q6aZJf\njiQNlVTV+K0kSdslyYXAWVX1UOtaJGlY2CMqSZMkyW7A6cDdwMOGUEn6ffaIStIkSbIf3fD8j4FX\nVNUDjUuSpKFiEJUkSVIT3jUvSZKkJgyikiRJasIgKkmSpCYMopIkSWrCICpJkqQm/h9e+VhuT/Ll\n5gAAAABJRU5ErkJggg==\n",
      "text/plain": [
       "<matplotlib.figure.Figure at 0x113f54c10>"
      ]
     },
     "metadata": {},
     "output_type": "display_data"
    }
   ],
   "source": [
    "#your code here\n",
    "last_day = max(election[\"Start Date\"])\n",
    "filtered = election[map(lambda x: (last_day - x).days <= 5, election[\"Start Date\"]) ]\n",
    "filtered = filtered.sort(columns=[\"Start Date\"])\n",
    "days= map(lambda x: (last_day - x).days , filtered[\"Start Date\"])\n",
    "\n",
    "color_map = {}\n",
    "for i, p in enumerate(set(filtered.Pollster)):\n",
    "    color_map[p] = np.random.rand();\n",
    "\n",
    "plt.scatter(days, filtered.Diff, c = map(lambda x: color_map[x], filtered.Pollster),  s=60 )\n",
    "plt.axhline(y=0.039, c = \"gray\")\n",
    "plt.axhline(y=np.mean(filtered.Diff), c = \"red\")\n",
    "plt.xlabel(\"Days\")\n",
    "plt.ylabel(\"Difference (Obama - Romney)\")\n",
    "plt.title(\"Plot of the difference between Obama and Romney colored by different pollsters in the last week\")\n",
    "\n"
   ]
  },
  {
   "cell_type": "markdown",
   "metadata": {},
   "source": [
    "#### Problem 3(c) \n",
    "\n",
    "Make a plot showing the differences by pollster where the pollsters are on the x-axis and the differences on the y-axis. "
   ]
  },
  {
   "cell_type": "code",
   "execution_count": 124,
   "metadata": {
    "collapsed": false
   },
   "outputs": [
    {
     "data": {
      "image/png": "iVBORw0KGgoAAAANSUhEUgAAAnQAAAJfCAYAAAD2Aks6AAAABHNCSVQICAgIfAhkiAAAAAlwSFlz\nAAALEgAACxIB0t1+/AAAIABJREFUeJzs3XecXFX9//HXZ2uSTYMESIDQkSSA9EgzrAIqSglShS/F\nL82fCojIV6RHVJqNIljogghIpIQSEVikBAiCQOggJUAgJBCSrdny+f1xziR3Z2d2Z3Zndnfg/Xw8\n9rE7554585m7d+585txzzpi7IyIiIiKlq2ygAxARERGRvlFCJyIiIlLilNCJiIiIlDgldCIiIiIl\nTgmdiIiISIlTQiciIiJS4pTQDSJmNs3MnjOzDjN7wcxmmtlTZna3mX0t1lnfzKab2ZNmtuMAxXmc\nmZ1sZvPM7IIc6u9lZn8zs0uKFM8EM/t53GdrxbKtzexDMxufVndrMzvTzO4zszlmtlpvntNgZWYr\nmdnp8bj54kDH05/MbKyZ/crMZpnZVWZ2p5ndYmZTEnU+c/sn0+sjbXu5mZ1gZgvjuecxM7vLzObG\nc9DUgYi7mPrrODCzbc3s92b2eKLsODP7d4a6h5jZ/5nZy2Z2QywbGs/3F5jZ+2Z2QLFiHUhmtpmZ\nnR+P0Qmx7GAzu97MZgx0fKVCCd0g4u63ApcBDpzj7rsDWwHPAneZ2eHu/jpwP7Alef7/zGztvsZo\nZrsAO7n7ucAhQFUOj3UX8DlgWF8fPxN3nwc8B2yUKF4EPAY0J2IqA/4G/ArYE3gVGJLrcyoF7v4x\n8E9gc8B6204hjpX+ZGYTgf8A1cBu7v5td/8GcC3wgJkdBoXbP6Uky+sjub3d3X9D2C8OHOjuXyec\ne+qB+81s1/6Ktz/013Hg7o8R9ukqieI3gSeT9cxsI+A4dz8f2Adoj5tOBRa6+0nAOUBNsWLtTrHP\nB+7+DPA84RhN/T9uBFYDRufaTqYPLJ8lSugGn4b42wA8rPx8OuEFfkrc9ma+jZrZWKAQPU//A3wS\nY6tz9+MzPFY18PvUbXdvJSRYxTQ/ecPd33D3PeKJO2UqMMHd6929wd0Pcve3yOE5lZj3CtDGVQVo\no18kEvUlhDfFjtQ2d78NOB/4o5ltFosLsX9Kzfyeq9AUf3cAuHsL4ZxTBvywSHENpP46Dt5P3nD3\n2939mLQ63wKWxu1z3f1/Ynny3HShu19Z7GCz6I/zwZvJG+7eBszL9c5mdjhQW9CISowSuhLg7suA\njwifVvJmZpXAdcDYAoSzRg51LiVLb0ARZfyUHd/sU9bMct9cntNnhpmdAew00HHkYW9gMnBNMplL\n+CNQSejt+KzqbS/Ugvg722tHeiHtvATZz0EDfm4qhfOBmW0C/Hag4xhoSuhKgJmNI3TZ/6e7OmZ2\nWRwX8mczu8fMJsfNOxBODOvHcQo7ZGmjwszONrNfmNlvzWy2me0Zt42OY8s2AraO7RyaoY3PAxOB\nlWKd3dO2H2tmb5rZB2Z2UKLc4viRC83sX2b2TzNbv5vnWxnHS11kZqcQPuGmto2KY4KeA3aMZd8B\nDop/nx9/Vsv2nOIYm/PM7I9m9h8zu8LMhpjZCDM7Iu6bL1gYh/eamZWZ2Vpm9mszuzKOPzo/Pq9V\nzOy0OD5kCwvjk5aa2Y3JE7uZrRfvc3r8/52e2JYxnmz7J1rHzO43s0Yze9rMtu2pvTh+ZdvEfjrU\nzDaxML5qfvx7XQvjrDrM7JjE8XGvmZ0Xb1dbGPvzOzN7wsxmmNkqicf/ZvzfzTCzZ83sq7F8OzO7\nOh7D+5rZK2a2wMy+RXa7Ei5rPZZpo7vPJ3z6/0oe+2eyhdfT0WZ2s5n9v8TzOt7MHjazA+P+eyce\nA5ua2S5xPyw2s18lH8zMTo3H+MnxGBhPFma2upn9wcyOsjAe8OxYXh5jetDMvmVml5jZx/E4XD1x\n/6yvjzxtFX+/kBZf1vONma1hZj+zMBZsq/hcF8V9PcLMvm9h7NoCM9s/3ifX18hOZnaxmd0Q6x4S\ny7e3MGZ2iZntlPhf/SkeY5XdPMeMx0Fv2zSz8WZ2jYXz6HQgOYZzfTM7H3g3UXYB4TWXOj8fb2Zb\nxvJy4ABLnLfjcXahmV1rZi+a2Y9i+YR4jN1vZl80s3fN7Ooe9tvG8Rj6Z6zzHzP7yMxOSrVJ2vkg\ny/M91cxeiv/vJ+K+vDd5jJvZ5+IxfUbcfzebWV4Jq4Vzzy8tnIPvNbNfx01fA0Ym9lVVrH+0hfey\ne8zscTPbOpbXxv/RSbH+UjP7SjftlwZ3188g+gEOI1zyODTeXgW4B2gEpsSytWOdqfH2UOAl4GuJ\nds4HFgKrx9tXAff38NjXAeclbn+dcKl3t0TZA8CVPbRzJvDftLIHYoy7xNsXAx8mtv8kLf5ngce7\neYwrgV8kbp8YY12LMFbva/H21LR9256hrS7PiXAJb5X49zigFTiPMJ7juLj/zwS+CFxE+HB0JzAk\n3mfrWOf/EXpH9om3fwGMAraJ8e0Z668BzAFGxNu7xu27dBdPln2TOj5uATYhJPQvAx8CI3tqL9N+\nAn5O6K0pi7d3ivFtmKjzh0T8lwGTEsfnAuDGeHt7whjR1P0uIQw1GBP34x3AG3Gflcf9u7CbY+Gu\n9Fgy1Hk01hmT4/55Cjgl/r0F0Ea4XA/hGOsgjPEZH8seBl4EvhFvfy3W2SDe3hNoTsRzG/CnbuKd\nAfwx/r1SbGuHxDmhA7gdWD9ufxP4dS6vj24e86pkHcIb+cvA28DnEvW6Pd/E/+HBMcaTY/2VCZfE\n/5lqCzgXmBf/LqPn18g6hF7Y1GP+KG6fHG//GFgGjEvUuSjbcZHjcZBvm9XAXGDXRNkdxPMh4fzx\nU7q+vjKen0m8F8TbI4HbE7f3jXV2I7yOb4j/h4MJH2C/191+i/v94nifIwg92ScCLcCY7s6bifZW\nAn4d2zye8Brbm/CedWesM55w6Xly4n43Aq8Bw9LOKWtl2y/ANcDu8e8hwI+72VffAr6TuD0TeIdw\nTtmEcCn7AULC/Utg4+7aL4Uf9dANXseb2Z2Ek/YCYHt3fyJL3YMJbzb3JMrOBYYTko8emdkGhBPA\nLakyd7+L8MZ2Zv7hZ/Sou/8z/n0HsHL8ZF5JOHHWmtk5ZnYO4cTaaGZdLhWZ2STgcMKbVsryQcbu\n3kh4c+3VZSYz+wLwBeCEGMvxhBf+MHdfDDxD6BG6wd0fcvfjgP0Ib/RnxPvsAzwErOzh7LAw3uf3\n7v6Ju88hnOAmxYf9P8LJLzWO5l7gUOCx7uLp4an8zsN4nEcIJ/YxwOG9bO8qwiX7r8XbT8Xnc2Dc\nZ8OBVndfaqGn6ADgkNj+GcDjrLgicDqwduzBOIdw4vw34UTeEffVG+5+i7u3E46VlSzOSM7A4+/u\n/t9lGepk3D9x2xWERBHCG5MREgDc/e1YfqeH3j+AfwHV7n5nvH1//L1x/P0ccHbisRuAdbuJ92bg\nr4nHJ1Xf3T+Mt//m7q97GCf6CPFY6un1kYPfmNkbhGPi18Am7v5KYnu355v4P3yH8H/5i7s3uftH\nhETn7URb9wOrm9moxP+9u9fIj4GxieNm3fi814nb/0hIvo5KxLWuu7/aw/Pt7jjIt81vA6Pj6zcl\neW5aDLzeQzzd+X+E82ZqH2xP+DAx3t3fJyTay9z9enf/i7v/jm72W2K/L3H3KzyMd74dqAA2yCWg\nePw9E/++0N0XufvfCa+hr1m4wvQ94CN3T/b0/hRYj3Cey1U18AMzG+HuzXQ+xtOdAWyWeE9ZDPwX\nWNXd5xKGMc129yfc/Ufu/nye7Q86FQMdgGTkwG/d/c851t+SFSf90ID7R2b2NqF3Idc2nBWTMlKe\nJr8XXK5a4u+hhBPoCODU+Abeky8RYn23p4q9tAXwlruf0kO95sTfWwDP5HCfpGWEEwiEnr7fJze6\n+/UAZpZrPOnaEn/fR+iFmxgfN6/23P01M/sX4Y3uLsIx8c/4+2zCh4EbYvXPA43dtL8F8D+J5L4n\ny+Lv6izb34y/VwVeyVJnFaDB3ReaWWqmYLb9g7v/zsIl8B+xIhns7gNwS/KGuy+Ln0VGxttvxDeW\ng2Kc41mRiHbh7jdYGBJwAnGwfA+PnzyWvkzfXh8nEHoULwTWcPcladt7e75pyXJ7JHHgfwbJ57UF\ncLm7X56port/bGZ/Bo42s58Tehgf6iaelO6Og3zb/DLFOy9B2Ad17n5aN3Wa0253u98yWEb4AJPt\n9ZarB4HvEhLILUl7b3H3581sGbm/R0E41/wLeNHMjo2JYxdmNpSwssLuHlaGyCZ9X+XU/mClHrrB\nK5/epXbCp7b0F+BCwskp1zaMroOfF9L5hFcMqZ6h9dI3pMZCpBkef+c8nb0X8ayTIZbyTD2Gift0\n6XGx7sfuJFUSe4AKFE8nsZfwI8IJrLftXQnsYWZjCJdHvk3oadsB+GLs4UjFu6plGOMX90e2fdXb\n5WJmEY7dbTNtNLOV4+Pdm2k7dNk/WBgzdxHhcvCN9H5SgcX2VgFmA4vc/bf0MFPdzKYBfweuyuON\nOCWVsPb69eHulwA3Aaea2R5pmwtxvknKdd/mctxcSEiW9yb0kt+YTyDpx0Ev2hxO8c5L0LvXTqFf\nb7lKfRBZQjhmMk2s+Yg8jpnYi7YFYTz5LWb2yyxVhxKOq1zfU/Jtf1BSQvfpkBoMnj7ZYXVC1zqE\nT+zdnTifII7TydDGo3nG09NjpXs93ufoZKGFxZQ3zlLfCMuQFMOrhEtB30grP57sa9S9Ckwxs03T\nyk/K8TFfJFyiXJ4EmdlwM9u5l/F0EhOpsYRetZ7ay9ZzdDPh0/s1hHE882N75xN6clNeJfT+H5EW\nw7djDK9m2Dae3g/cv4Mw5vII6zp7EOB/CR9KzsnWQHL/xIHaFwN/iJddynsZV9LPgEp3nxVvZz33\nxkTpauCv7r44y3PqTqFeH0cShj5ca2YbJspzOd8Uw6vAwWmvkRrgO6nb7v4S8A/CJb41PCxLlLO0\n10lv2nwdWNfyHOyfh1eB3ZPDD8ysHPhBD/fJtN/Sl07JJmtPcg/WI1wyf4FwzKxqiYluZlZB2Nc5\nHzNmtou7v+1hjdYfEoaNJBPo1HJfHxGSxfT3lM8Du+TR/g/S2h/UPjMJXRFfYIVWQzgoh3ZTJ9Xr\nk3qjuZkwRmd58mDhWySMMDgdwsG9noXZb1umN+hh8dHLCZcWRsc2RhFmBp6RqFpFz13xHwGrWZht\nmnqsikTcqXYMqHD3T4C/EF6cZ5vZDrGHZJq7P01XdxIua/zcwtg/WPEinRq721OJTvIxq+PzSu81\nS39OdxMG5V9jYbbTjhZmnC31sDZXeSr2xH2uI1xSmGlmB1iYMXYlYaxZKg6jc6JbxYrX4G8In2Af\nNrODzGwfwv/u4RziSddBOAkne8iOBv4Zx0X21N5HcT9NNLPNUw24exNhXNfnWXF59RrCTMhrE/We\ni3FfYGG28Q5mdjKwdkwCf0dIfv9mYbbZPoTLzX+LTVSk7afqeDvj+Sr2quxH6Im4NPn/tTA78TTg\nWHdPjWXqaf+sFh9rSvw0v2+sv7qF2cGZErxyEsdDok7qeYwHJliYEbgBYcD/ahbWh0xXQ7gMuVV8\nLgcRejjGm9nK8Y0w2TZ0PpZyeX1kMir+rgZw9wZCj1QFcKuFcZKQ2/km/X9IjC/5mknVSdXr6TXy\nO8I41XvMbNf4geQvrDhuUi4krEfW0wfRno6D3rT5pxjv7y3M6B1GSHzHmFlqxnBqBmbyOOpyXk30\nJCXL/0A4zv9hZntYWBT9RkIvNaQdh1G2/ZYaL53a7ympx0vt94zng0xsxTf1VBE+tP0kvj4vI6z7\n93+J6gcSjqOb0+JI7peKtNtH2IohE1cTev9SPYEfARPNrMbMPkdYPmsfC9/UsaOFmb2nJv636cdj\npvaXJtof/HwQzMxI/yF80ruU8MnrGmDjLPWOIgywPhM4O23bzoQXbAfhZPitgX5eOTzvbxB6ytoJ\nA2kPyFBnLcJA3fa4b1Kz6MYSkooZwHTCG2RyttDnCS+op4Atszx+GWGg6n3x9x8J36AAIcE8jLBy\n/LuE3pQR3fz/XiV8uv8qYTzOx4RFIncGJhAu57QT1g6qJryZXEd4gc6P5UO62VcbEQZVLyEkD8fG\nuA+J++i3sf2/Ej4pfpEwpqOdME5icnfPKW7/F2Gs0CvAMbF8PcIbSDvhRDkxEdOOcf82EnqM9k77\n37QTBo+PjMduO2GywEax3sGET/hLgFsJvQF0F083++cnQB0hSf8dYeZgVS7tEd4w5hBmNx6a1u4W\nhOQodbuaMN4z/fHXIMwqawDeAk5P235m/D8vJlxaTM2s/EKsv5Dwelgtsb/P6+GYGENYPPuB+H+/\ng/B62C6f/UN4U7kpxv4goZf4SUIv6vasmDF6E2Hg+OaEcVWthDexEYSB6O2E2awbEsZWvQN8QDhn\n7Ud4TXTZdzGG3xCOy6cICcGM+P/YNdH2TMIs1x3jvlzEilnR3b0+qjO87k+I8bQD1wPbJrZ/K5Y/\nCny9p/MN4fV3dbzP6YRZkLvF5/4WIblcHfhzrPNzwrjCXF4jxxAuVy+Nz2fTLPtvHnEGcl9eJ71s\ncw/C6/8TQrJ1TtynXyF8+Lk3sW9GECYQvRf/34fHfbFm3K/thGNw90T7exMmPzQQer5Sqx18MT5u\nG6E3cWziPhn3G+E88BRhPOOhMZ7L4uNeFf93Wc8HifYPI7zX/pKQ/N4CHJFWZ13ChIs/x+d2CWHS\nGISJL3+Pj3tBPD6+GffLR8T3QsJr+yHC5JBf03k28RmE4/1qQoJcSehpX0SYuXw1YbZ1OWGyYGvc\nX99ItJG1/VL4sfgkBhUze5IwXfg+CzO27iQkLh2JOnsBJ7l7ap2xG4F/uPsV8fZlhITEgDZ3f7a/\nn4eIiPSv2Kv5N3ffazC3+Wli4av1rnT3QgxPkF4adJdcLXxn4CTCpxLc/UVCJj0trepJhPXZUm4l\njiOIlxk2JfQSzFUyJyLymXEQXS/DDsY2RQpq0CV0hEsab3j4HreUVwiXLIDln5a2IXQ7J+tMjmNS\ntiaMi5gBzIvjDERE5FPIzCaZ2T8srOz/fVaM8RxUbX6KVUCXcYHSzwZjQjeOrmsSLabzlOeVCdfH\nP0mrA7Cmu//V3bcmXLOfQ5h+3KvvQRURkUGvijC+80vA4WkdAoOpzU8dM9uMFWuVnp02I1r60WBc\nWLiNruvSlNF5Fk7qhdWaoc7yeu7+rpntR1hTZi/CmDoREfkUcfdnCItHD+o2P43iftppoOOQwZnQ\nzSd+oXrCaMLsKADcfZGZtbJimn2qTpfV0d29yczuJctij2Y2+GaFiIiIiGTh7l3Weh2Ml1wfoOvq\nzhMJU8uT6uj8XXMTgZfcfUGGNssJS2hkNNBTjT9rP2eeeeagamewtqWY9PwGa0yf9uc3GGP6LDw/\n/eT2k82gS+jcfTbwlpnVQljMkLAOzh1x0dlNYtXLCev9pHyd8GXAxMVMJ8a/VyN8p9udiIiIiHwK\nDcZLrhDGu50R16CbQlj4r8nCV0E9TViK5GYzW8vMziZ8797bwG/MzAiL2Z5uZr8nTJzYzzWgVURE\nRD6lBmVC5+5vEL74G1Z8lQzuvk1avV9laeJrRQpNCqC2tnZQtTNY21JM/d+WYur/thRT/7c1GGOS\nvhuU3xTRn8zMP+v7QEREREqDmeElMilCRERERPKghE5ERESkxCmhExERESlxSuhERERESpwSOhER\nEZESp4ROREREpMQpoRMREREpcUroREREREqcEjoRERGREqeETkRERKTEKaETERERKXFK6ERERERK\nnBI6ERERkRKnhE5ERESkxCmhExERESlxSuhERERESpwSOhEREZESp4ROREREpMQpoRMREREpcUro\nREREREqcEjoRERGREqeETkRERKTEKaETERERKXFK6ERERERKnBI6ERERkRKnhE5ERESkxCmhExER\nESlxSuhERERESpwSOhEREZESp4ROREREpMQpoRMREREpcUroREREREqcEjoRERGREqeETkRERKTE\nKaETERERKXFK6ERERERKXMVAB5CJma0OnAY8C2wHnO/uz2eodxQwjpCYVrj76Rnq7AKc7O67FDdq\nERERkYFh7j7QMXRhZk8CP3b3+8xsEnAnsIG7dyTq7AWc5O47xts3ArPc/cpEnVWAW4A2d/9ylsfy\nwbgPRERECqq+HoYODX83NsCIkQMbj/SKmeHull4+6C65mtmuwCTgQQB3fxFoBaalVT0JuCdx+1bg\nhLQ63weuKU6kIiIiJaKxAX76Y1hvFIyvgu8cDB/Mh7a2gY5MCmTQJXTA9sAb7p48yl4BlvewmVkl\nsA3wUlqdyWY2NtY5BrgK0NEqIiKfXfVL4f8dAldeCg0N0NEBs2bCV7eFttaBjk4KZDAmdOOAT9LK\nFgNrJm6vDFSm1Vscf69pZlOAhe7+ZrGCFBERKQnNzXDXrV3L33kbHvhH/8cjRTEYJ0W0ES6xJpUB\nllaHtHqp5HQEUOvuZ8fbXa4zpzvrrLOW/11bW0ttbW3u0YqIiAxmC96HbGPF//tq/8Yieaurq6Ou\nrq7HeoNuUoSZnQLs5+5bJMruBN5y9+8mylqA/d39tnh7G+Ax4DDgciA1gaKckLi2AFPcfW7a42lS\nhIiIfHo1NcKkceHSa7qHnoVJm/Z/TNJrJTMpAngAWC+tbCJQl1ZWB2yQVucld7/O3Ye4+zB3HwYc\nDTwYb89FRETks6TD4czzu5bvfQCsnf52K6Vq0CV07j4beMvMagHMbCIwDLjDzM42s01i1cuBPRJ3\n/TpwJSIiIrJCTQ3sfwjc/2846NswbX/4861w0ZUwrGago5MCGXSXXAHMbF3gDOAJYApwsbs/ZWZz\ngHPcfUasdyIwGmgGRhIWEPa0tg4DDtM6dCIi8plXvzTMch0+AsoGXZ+O5CDbJddBmdD1JyV0IiIi\nUipKaQydiIiIiORBCZ2IiIhIiVNCJyIiIlLilNCJiIiIlDgldCIiIiIlTgmdiIiISIlTQiciIiJS\n4pTQiYiIiJQ4JXQiIiIiJU4JnYiIiEiJU0InIiIiUuKU0ImIiIiUOCV0IiIiIiVOCZ2IiIhIiVNC\nJyIiIlLilNCJiIiIlDgldCIiIiIlTgmdiIiISIlTQiciIiJS4pTQiYiIiJQ4JXQiIiIiJU4JnYiI\niEiJU0InIiIiUuKU0ImIiIiUOCV0IiIiIiVOCZ2IiIhIiVNCJyIiIlLilNCJiIiIlDgldCIiIiIl\nTgmdiIiISImryKWSmVUAewH7AusDI4F3gKeAq939haJFKCIiIiLdMnfvvoJZLfAz4E3geWAJ0ExI\n6sYB2wLPAie6+7IixloUZuY97QMRERGRwcDMcHdLL++2h87MDgRGA7Xu3tZNvS2AX5jZ/7l7R5+j\nFREREZGcZe2hM7MxwGR3fyinhsxGApvlWn+wUA+diIiIlIpsPXQ9XnJNNLCRu79c8MgGmBI6ERER\nKRXZErp8ZrneaGa/NLMvFjAuEREREemjfHroVgeWAnsA2wOfALe6+5zihVd86qETERGRUtHnS65p\njW0DnAzsDdwPPARc7u7v9jXQ2P7qwGmE2bPbAee7+/MZ6h1FmGlbBlS4++mJbecB3wLKgdPc/aos\nj6WETkREREpCIcbQ7QcMBb4HTAKuAS5x95fNbG3gV8Dt7n5tAYJ9Evixu99nZpOAO4ENkjNozWwv\n4CR33zHevhGY5e5XmtlBwNvu/rCZ7QPcAIxy96YMj6WETj6VmpraAZg/fxkrr1xBWZkxcmROS092\n0UgrDiyhhTEMxXGqc1vGUqSo2pvCab1l/nwqV14ZKyujYuTIAY5KpHgKMoYOmA7cDExw92NTkyTc\n/S1gFvDrAgS6KyFhfDC2/SLQCkxLq3oScE/i9q3ACfHvh9z94fj3nUAb0OXJi3xaNTS0M3PmItZZ\n5zHWX/9xxox5hCOPfJmGhva822qmjUt4mgOYyRH8g0O5m0d5j2ayrmQk0i/aGhpYMHMmdeusw4Pr\nr88/x4zhuSOPpK2hYaBDE+l3+SR004H13f2X7v5Jhu0fAH8uQEzbA2+krXv3CvDl1A0zqwS2AV5K\nqzPZzMa6+7xE+Z7Ase7eWIDYRErCe++1cOCBL7BgQSsAHR1w880fcvzxr7F0ae6JWBNtXMVc6niH\nDkJP9hKW8UueZAF6ScnAannvPf5z4IEsW7AgFHR08P7NN/Pi8cfTtnTpwAYn0s9yTujcfTowzMwm\nApjZpnGsW2r77e5+QtYGcjeOMOEiaTGwZuL2ykBlWr3FhF64NWN8Y83sV8C1wPZmpu+tlc+ExsZ2\nLrnkXToyLPF9/fUfUF2d+0uhijLu5a0u5Q7cxus0qZdOBkh7YyNvXXIJmQ70966/nrLq6gGISmTg\n5DwIxsz2JiRHs4GvuPtzZnaBmd3p7nUFjKmNcIk1qYzOl0xT7yKtaXVI1XP3hWZ2CuHS7ZXAw0DG\niRFnnXXW8r9ra2upra3tXeQig0BHh/PJJ5kvrTY3d9DRkd+Y0RYyt9VAK47Gn8rA8I4O2j7JdLEI\nOpqb8UyfaERKUF1dHXV1dT3Wy2dSxOPA+YRvgzgjlq0B3O3un+99qF0e5xRgP3ffIlF2J/CWu383\nUdYC7O/ut8Xb2wCPAePdfUFam2cCY9392AyPp0kR8qni7sya9RG77fZcl21Tp45i5sxNGTEit89y\njbTycx7naRZ02XYa27It4ynT8FQZAO7OwlmzeHK33bpsW3nqVLaaOZOKESMGIDKR4irEpIgH3f0W\nIDnadAKwVl+DS/MAsF5a2USgLq2sDtggrc5L6clctBAoyJIqIoOdmTF16mj233+VTuVjx1ZyxRUb\nUVNTnnNbQ6ngOLZkJTpfvtqO8WzFakrmZMCYGStPncq4/ffvVF41diybXHEF5TU1AxSZyMDIp4fu\nNOA+YCfCbNZa4FLgaXffr6BBmT0LHOfudXHMXirJOwW40d3nxmVUvufutfE+NwBz3P3XZrYz8LK7\nvxO33UiYGNEl2VMPnXxaNTa289JLjdx220LWXXcI+++/KhUVRlVVfsNJW2mnA3iYd3mPeqYwjnUY\nRTW5J4bGnbFhAAAgAElEQVQixdLe2Ej9Sy+x4LbbGLruuozff3+sooKyqqqBDk2kKAqxDl0F8EPg\n28DawCLgduCULLNee83M1gXOAJ4ApgAXu/tTZjYHOMfdZ8R6JwKjgWZgJHCyu7uZXQ3sDlxO6Jmb\n5e6vZHksJXTyqdbR4ZSVFaYnrQNXr5wMSt7RgZVp7pt8+hX0myLSGl7N3T/oUyMDSAmdiIiIlIps\nCV0+s1xHAvsAa9B57F0tiTXiRERERKR/5fPdPfcSlgR5AZavVVBOuPwqIiIiIgMkn4RuiLtvll5o\nZhsWMB4RERERyVM+I0gvNLNNM5SvmaFMRERERPpJPrNc7wM2A5Yki4FV3b1kF/zRpAgREREpFX2e\nFEFYyPc8oCVRVg58s2+hiYiIiEhf5NNDN8TdmzOUb+LucwseWT9RD52IiIiUikL00K1sZocC6wDJ\nJbi3BDbvW3giIiIi0lv5JHT/BJ4FXgY6YpnR9XtXRURERKQf5ZPQve/uB6YXmplmuYqIiIgMoHyW\nLfmLma2TofzzhQlFRERERHojnx6694BHzCw5y7UMGAcMKWhUIiIiIpKzfBK6PwA/BV5hxRg6gN0K\nGpGIiIiI5CWfhG6Ou/8hvdDMnitgPCIiIiKSp3zWofsmYbmSR9M2TXP3iwodWH/ROnQiIiJSKrKt\nQ5dPQjcXmJxhk7t7eR/jGzBK6ERERKRUZEvo8pnlejEwwt3LUj+Er/7630IFKSIiIiL5y7mHDsDM\nyoAdgNWB1939yWIF1l/UQyciIiKlos9f/WVmawN3ApOAhUC1mb0I7Ovu7xYsUhERERHJSz6XXC8E\nLiVcdl3N3UcD3wNOLkpkIiIiIpKTfBK6J9z9UndvTBW4+1PAvMKHJSIiIiK5yieh60gviJdhv1C4\ncEREREQkX/ksLPyKmdUBc4BhwIbAVGC/IsQlIiIiIjnKd5brFOAIYE3gTeAP7v5scULrH5rlKiIi\nIqWizwsLd9Pw7u4+s0+NDCAldCIiIlIqer2wsJlVmNmmZrZhhm1rA78qUIwiIiIi0gvdJnRmtgbw\nIvAf4CUz+7uZWdxWCzwJfFzsIEVEREQku5566H5OmASxN2Hs3CTgADM7HrgXuAPYqagRioiIiEi3\neprlOsbd90jdMLOHgceB4cAP3P13xQxORERERHrWUw9dp6/0cvfXgLnAzqlkLs58FREREZEB0lMP\n3RQzOzStbCmwnpmtB5QDBwBfK0ZwIiIiItKzbpctMbMu3w6Rgbt7eeFC6l9atkRERERKRW+XLTkd\nqHT3skw/wBDgZ8UIWERERERy01MP3Uh3X9JtA2Yj3H1pwSPrJ+qhExERkVJRtG+KKHVK6ERERKRU\n9PqbIkRERERkcOtpluuAMLPVgdOAZ4HtgPPd/fkM9Y4CxhES0wp3Pz2WVwO/AfYHmoBz3P3Sfgpf\nREREpF/1qofOzH5U6EDS3A7c4u6/B84F7jCzTrGa2V7AYe5+trtPBz5nZv8bN58EPABMBW4CLjGz\n7Yscs4iIiMiA6O0l1zMKGkWCme1K+IqxBwHc/UWgFZiWVvUk4J7E7VuBH8S/P3D3m939BXc/EXgL\n2LFYMYtI/2togNffhFtmwiuvQ0Nj79ppaYWmFnjgaZg5G5Y2QkNT79qqd2ehd3BHWwv/bm+lyZ2O\nXozR7ehwmppa+fe/32PGjBdZsKCB+vqW3gUlOQn7vI1//3shM2a8yYIFTdTXt/aqrWbaaKKNJ5jP\nf1hAC+0so73AEYt0NhgvuW4PvOHubYmyV4AvAzMAzKwS2Ab4bVqdjc1srLv/Ka3ND4C3ixeyiPSn\nxib4n+/CrXetKPv6rnDT5VAzLPd2Wtvg9Xdh5x/B+x+FsiFVcNX/wR7bQc3Q3NtqcOe3rY1c0NZE\nagHPSVbO3UNGMYYu45e79cknzXzpS9fwzDMfAFBWZpx44naceeZO1NRU5dWW5OaTT5bxpS/dyTPP\nhAMh7PNNOfPMLaipqcy5nWbaeIoPuIAnaYlJ3Ciq+Tk7MIERVFKyy7bKINfbHrqGgkbR2Tjgk7Sy\nxcCaidsrA5Vp9RbH38l6qfF0o4DbChumiAyElmXwh2s6J3MAd90LF/0Rmptzb6utHfY8bUUyB9C8\nDA45B5rz7Jx5saON8xLJHMCL3s73ltWz1HNZoz1YsqSFY46ZuTyZg9B7dMEFj/Lkk/PzC0pysmTJ\nMo455uHlyRyk9vmzPPnkwrzaasc5lznLkzmAT2hhOrPRegpSTL1K6Nx9fKEDSWgjXGJNKoNOH3FT\nvXetGeqkfxQ+CjjR3Xt5EUVEBpPmFrju5szbrvtb6HXL1bwP4fX3upa3tcNNdbm30+AdXNuWOZO8\nu30Z1Xn00A0bVsnf//5Sxm1XXPEUS5fq0muhDRtWwd///mbGbVdc8TJLly7Lua3ZvEcbXRP4D2ni\nPep7G6JIjwbjJdf5dB3vNpowDg4Ad19kZq2EnrdkHQfeTRWY2SZAm7unfZbv7Kyzzlr+d21tLbW1\ntb0MXUSKzsGy5EfZyrPprnq+bWW7Q77NdPfYlndQkquwb7v2oeW7z8t69R8Xya6uro66uroe6w3G\nhO4B4MdpZROBa9LK6oAN0uq85O4LAMxsPLCzu1+YqmBmFWlj84DOCZ2IDG5Dh8BhB8K/n+m67dAD\noCr34U6ssQp8bgK8Mq9zeWUFHFCbezs1Vsa3K4ZwVYZeum+UV9GMU5XjG31jYyv77juZG26Y22Xb\n0UdvyYgR1bkHJjlpbGxj333X5YYbXu+y7eijN2LEiNzHLW7LeCopozWtl241hjGe4X2OVT570jua\npk+fnrHeoFtY2N1nA2+ZWS2AmU0EhhGWLjk79roBXA7skbjr14Er431GEb6HdpaZbWRmG5vZTwCd\nCUVKXFUVHHEwHLh35/Jv7g7fPwKq83iVV5bDzJ/DhFVXlA0fCn89Hary/Lj7OSvnrMphJPPJza2c\nS6qGM9JyP9WOHFnNZZd9gylT1lheVlFRxhlnTGXzzcflF5TkZOTIKi67bAemTFlleVlFhXHGGVuw\n+eZj8mqrDONUtmVoor9kDEOYzvaD7w1XPlX69NVfZlYBnOvuBV2XzszWJSyN8gQwBbjY3Z8yszmE\nRYJTs11PJFxqbQZGAicTrnDcR1iDLukGd/+fDI+lr/4SKUH1DfDxYpj7Imw8EVZeCYbX5N/OslZo\n74BnXof6Jth+43DhrWZIL2LyDtqBJ9rbWL2sjHWtnCFAWZ6X7dzDEhpvvPEx8+YtYcqUNaiqKmP4\ncH0mLZawz9t5442lzJtXz5Qpq8Z9nkeXb9RMG4bxIouoppz1GY2BZrhKQfT5u1zj+nDnEhKoVEMj\ngHZ3L9mPjUroREREpFRkS+jyuahwCHAKocdsDuErtbYGXihIhCIiIiLSK/n00B3h7leY2XDgW6nF\ne83sQXffqZhBFpN66ERERKRUFKKHbnMzmwkcCww3s6vi/TcrUIwiIiIi0gv5TLo5BbgdWOjuvwGe\nJqwD951iBCYiIiIiuenTLFcAM9va3Z8sUDz9TpdcRUREpFT0+ZKrmW0KfA9YB0iusrghMKGvAYqI\niIhI7+Qzhu4O4K/AjbB8CWwjLOgrIiIiIgMkn1mud7r7NzKUj3X3hQWPrJ/okquIiIiUimyXXPOZ\nFPEnM9sqQ/mevQ9LRERERPoqn4RuLPCAmbUnfjqAPxUpNhERERHJQT5j6E4H9gNeofMYummFDkpE\nREREcpdPQveYu89KLzSzawoYj4iIiIjkKZ9JEYcB44FH0zZ9zd1PKXRg/UWTIkRERKRUZJsUkU9C\n9zhhDbrGZDGwmrsPLUSQA0EJnYiIiJSKQnyX63nA39OzHzP7Sl+DExEREZHey3mWq7vPyJDMlQGT\nCx6ViIiIiOQsn0uumwFnAKMJl1oBRgHruPuY4oRXfLrkKiIiIqWiEJdcTwX+AXweeApoA7YCflqQ\nCEVERESkV/Lpofu2u19lZmOAXd39r7F8prvvXswgi0k9dCIiIlIqCtFDt3X86q+fAZ8zszPj/acW\nKEYRERER6YV8vvrrZ8ASwrdE/Jwwfm4vYHoR4hIRERGRHOV8yXX5HcwqgBHu/nFxQupfuuQqIiIi\npSLbJdece+jMbFUz+zvQBCw0s/lmdmwhgxQRERGR/OUzKWIWMA44F3geqAK+CrS7+7lFi7DI1EMn\nIiIipaIQkyK2BTZw9w8TZU+amZYtERERERlA+UyKuDdL/eEFikVEREREeiFrD52ZbQ4clyhqB+43\ns8cTZWWEy7AiIiIiMkCyjqEzs1GEXrm7gO4Gmc1w9+eKEFu/0Bg6ERERKRXZxtB1OynCzNZx9zeL\nGdhAU0InIiIipaJXy5a4+5tmVmZm3zezOWa21MzqzezfZnaCmZUXL2QRERERyUVPPXTVwJ3AjsCT\nwNuEJHANYCvgCeCr7t5S/FCLQz10IiIiUip6u2zJT4APgAlpy5VgZqMJXwF2KnBGoQIVERERkfz0\ntGzJlsAh6ckcgLsvdvfvARsVJTIRERERyUlPCd2b7t7RQ533ChWMiIiIiOSvp4Ru9RzaGF+IQERE\nRESkd3pK6Oab2S/MrEs9Mys3s+mEMXYiIiIiMkB6muU6BngUGAncB7wVN00AvgwsAXZw94+LHGev\nmdlq7p416dQsVxERESkVvVpYON5xJeAXwAHA6Fj8EXADcJq7f1LgWDGz1YHTgGeB7YDz3f35DPWO\nInz1WBlQ4e6nJ7atA/wMWNPda7t5LCV0IiIiUhJ6ndAlGjBgFcAzzXotJDN7Evixu99nZpMIa+Ft\nkJygYWZ7ASe5+47x9o3ALHe/Mt5eCzgJ2Mzdp3bzWEropCDcnY62NsoqKggvlz601d4O7lhFTysL\nSaG0d4A7VGi5dBlkOuignQ7KKaOsx5FS/aeddgwbVDF9FuS9Dp2ZrQzs6+5/hJDFAQu6qb8lsJq7\n393HQHcFJgEPxsd90cxagWnAjETVk4B7ErdvBU4Broz3e9vMFvYlFpFceEcHbS0tvHb33bwzezar\nT5nC53bfnfLqasrK8jvRdTQ00NHYyOIrrqBj6VJGHXwwlWuvTVlNTZGil4ZmaGyGK+6CpU1w8C6w\n9qpQM3SgI5PPuvaYyD3HG7zJ+6zFqmzG+pRjlDNwnzxaWcYHvMPrzGUkK7Ex21BGORVUDlhM0vMY\nui2BHwDnuvsLWeqsBBwb25re54DMzgT2c/dNEmV3AG+5+/fj7UqgHjjY3f8Wy1LfXLGauy9MtLWz\neuikmFqWLuWK7bbjw+dXjAoYs9FGHPn44wwZNSrndjqammh84AHmTZsGra0r2vrJTxh7yimUDR9e\n0LgFmlrggf/AtNOhtW1F+U8OhlMOguFK6mQANbGM87mJ91i0vGw1VuJkDmAY1QMSUyvLmMk1vMZz\ny8uqGcrB/JCVWEW9df2gt9/l+hThmyAuNLO3zGyWmd1kZjeY2V1mNpeQRD1TiGQuGgekj8tbDKyZ\nuL0yUJlWb3H8nawnUlStjY089ItfdErmABa9/DJ1Z53FsoaGvNp77/DDOyVzAIvOOYe2RYsy30H6\n7PDzOidzAOdcD4uWDEw8IgDNtHA3T3RK5gA+4GNm8hhN9P83bjodvM0rnZI5gBaamMUNtNGa5Z7S\nH3pMpd19nrvvCuwC3AXMAxYRLol+1903dPfbChhTG3Q5KsoAS6tDWr1Unb4NXhLJQ0dbG6/OnJlx\n26szZ+IdPa3LvULrf/9L+4eZh6cunTEjY7n0zX/nw4eLM2+b8VD/xiKS1AE8x5sZt4Xy/n+ra6WV\nl/lPxm3v8l/1zg2wnEdcu/urwIVFjCVlPrBjWtloViyZgrsviuPqRqXVceDdfB/wrLPOWv53bW0t\ntbW1+TYhn1HuzpCVVsq4bchKK4VR9jkq6+bybMWqq+Ydm/RsVDdDE1cdnX2bSLE5Tk2Wy6rDqMbp\n/6FChjGEzC+aCioxJXRFUVdXR11dXY/1BuMUugeAH6eVTQSuSSurAzZIq/OSu2eduJFNMqETyUfV\n8OF84bjjePuhrt05XzjuOCqGDcu5rfLRoxm6ww40PfJIp/Ky0aMZMW1an2OVrkYPhx02gUfmdi2f\nlv6xUqQfDaGSndiMVzN8u2Ytn6dyACZFVFLFVkzlKR7E6Xz1YRO+QDttAzpZ49MqvaNp+vTMI9wG\nXTrt7rOBt8ysFsDMJgLDgDvM7GwzS02WuBzYI3HXrxNnuCYMuucnny5l5eVssNtu7HzuuVSPHAmE\nJK92+nQmfvOblOex7IjV1DDh9tup2WWX5WVVkyaxdl0dlOskWQw1Q+D2n8EuW60om7Q21P0GynX2\nkAFUTjmfZx2msT1DqAKgmkp25wtsyYZUDlB/zDCGM40jGR6XpS2jjMlsQy3TqBqgiRoS5LwOXX8y\ns3WBMwgTLqYAF7v7U2Y2BzjH3WfEeicSLrU2E77N4uTUlFUzmwpcRJgkcRRwh7u3ZXgszXKVPlvW\n0ICVldG4cCHDxo7F29up6sWsVHeno74eWlvxlpZwGbaykrJKLQdQLO5Q3wSt7dCyLFyGrawIPyID\nrYkWyilnKY2MYCjtdDB0gBOn1OSHJuqpZigOVDNkQGP6LCnUwsKHASPd/SIz2wzYKrWQb6lSQici\nIiKlolfLlqT5A/ArYCqAuz8DLDaznxUmRBERERHpjXwSujUIa8TNSZQ9TLicKSIiIiIDJJ+E7ml3\nb4VOc6X3A5YVNiQRERERyUc+w37nmNnFwDgzOxr4EiGhO74okYmIiIhITvKa5WpmE4CDgLUJ3xZx\nu7vP6f5eg5smRYiIiEipyDYpIuceOjOrAia7+3nx9rpAe+FCFBEREZHeyGcM3eXAFWY2HMDd3wD2\nM7OdixKZiIiIiOQknzF0HwIT0q5PzgDuAiYVNCoRERERyVk+PXQfZRhstjMwtoDxiIiIiEie8umh\ne9nM/gDcSVi6pBb4LnBpEeISERERkRzlO8v1q8BxwPrAAuBm4FJ3L9nJEZrlKiIiIqWiz9/l2k3D\n68YJEiVJCZ2IiIiUikIsW7I28L+ErwBLjr3bBti0zxGKiIiISK/kM4ZuFjA3/qS6tMqByYUOSkRE\nRERyl/MlVzOb7e7bZShf3d3fK3hk/USXXEVERKRUZLvkms+yJb8wsx0zlE/tfVgiIiIi0lf59NDN\npesCwga4u5cXOrD+oh46ERERKRV9nhQB/Am4G2hJlJUD3+pjbCIiIiLSB3kvW2Jmo919sZltCMxz\n9+bihNY/1EMnIiIipaLPY+jMbHszexO4KRbNA35pZlqyRERERGQA5TOGbg7wV2Ccu58Uy9YFrnf3\n7YsXYnGph05ERERKRSFmuT7k7r8CFibKaoBN+hqciIiIiPRePgldo5mtQVxU2Mw2Aq4EHitGYCIi\nIiKSm3wuuY4AzgG+GYtWAf4BHOPu7xQnvOLTJVcREREpFdkuueaT0B0DzHb3Z81sVeBjd28tcJz9\nTgmdiIiIlIpCjKE7DRgC4O4LUsmcmY0pTIgiIiIi0hv5JHTHAxub2dpmtlb8WRs4rkixiYiIiEgO\n8rnk+i8g03e56qu/RERERPpBIS65XgqMcfey1A/hq7+OLVSQIiIiIpK/vL76y8yGA2u6+0tmtgnw\nkbu/V7To+oF66ERERKRUFOKrv/YG5gMXAbj7XOAEM6stVJAiIiIikr98LrmeDBxO54WEf0tM8ERE\nRERkYOST0D3o7rcADYmyCcBahQ1JRERERPKRT0K3xMy2A8zMqszsK8B1wL3FCU1EREREctHtpAgz\nWweod/eFZlYB/BD4NrA2sAi4HTjF3T8pfqjFoUkRIiIiUip69dVfZvY68FN3v8bMJrj7vGIGORCU\n0ImIiEip6O0s16vc/Zr49yFZGt6hr8GJiIiISO9V9LC90cx+CrQBU+Nl16Ry4KvAtoUMysxWJ3x3\n7LPAdsD57v58hnpHAeMIiWmFu5+eyzYRERGRT5OeLrlWAIcBU4CtCQlWUjkwxd0nFjQosyeBH7v7\nfWY2CbgT2MDdOxJ19gJOcvcd4+0bgVnufmV32zI8li659pNl7jThlAPDLZ/5OF211tfT0dZGxbBh\nlFdV9bodb2+no74ezCgfObJPMUmOOtqhKexzhmmf9wenHaceMMoYPPu8bckS3J3y4cMpKx8c3yBZ\nX99KW1sHw4ZVUFU1OGISScp2ybWnHrpvAM+4+xVmdoi7/zlDw9sVKsjY3q7AJOBBAHd/0cxagWnA\njETVk4B7ErdvBX4CXJll2ylxm/Qzj4ncdTTygDezGuUcy3DGU86wPBO71sZGGufP5z/nn0/9vHms\nucsuTD76aCqGDcPK8muro7GRhrvuYul112FDhjD6u9+lequtKKupyasdyUNLI8y5Cx64DqqGwDe+\nCxtsBUO0z4vFaaSZe2nmJoxqhnIklWxGGQO3z9sbGlj6zDPMu/hiOhobWe2AA1hl2jTKhw0bsJga\nG1uZP7+J889/lnnz6tlllzU4+uiJDBtWQVlZl/dOkUGnpx66N4HD3P1BM9vR3R/OUKfc3dsLFpDZ\nmcB+7r5JouwO4C13/368XQnUAwe7+99i2VbAE4TLrO9k2baauy9Mezz10BVZkzu7+YfMpXV5WQVw\no41he6qptNxOlh1tbXwweza377wzHa0r2lpp8mT2eeIJKvNIxDoaGvjgyCOp/+tfO5WPOeccRn//\n+5QNH55zW5Kj5ga46Eh4sPM+5/BzYPfvw1Dt80JzGvmEY2nmlk7lwzmTYRxFGf2/z9sbGnj38st5\n5Qc/6FS+yrRpbHL99QOS1LW1dTB79gJ23vkuWluXXwhi8uTRPPHEXtTUVPZ7TCLZ9HZSxE/d/cH4\n99QsdfboU2RdjQPSl0FZDKyZuL0yUJlWb3H8vUE325JtSD9oc+c2GjslcxAGZZ7in9BG7sl0e0sL\nDx9/fKdkDuDjF17g5WuvpT2tvNu45s3rkswBfDR9OijBL44P53VN5gD+Mh3yOA4kd+280yWZA6jn\nvAGIJjLj9VNP7VL84a230vjKKwMQELS0tHP88bM7JXMAL7ywmGuvfbVLuchg1FNC12FmdWZ2P3CE\nmd2f9vMgcEWBY2oD0t+ZywBLq0NavbIetllaG9IPmnEe9JaM215e/q/KTXlVFQuffjrjtnfvv5/2\nxsac22p84IGM5d7czLKXXsorLsnRs5n3OcuaYZ72eTG08FCWLc20MTDJU+Prr9Pe0JBx20f3Dsw6\n9VVV5Tz99KKM2+6/fz6Njfmdq0QGQrdj6Nz9ajN7hDAhYh/gjrQq5RS+h24+sGNa2WjgrURci+K4\nulFpdQDeJiRz6dsceDfTA5511lnL/66traW2trZ3kUsXlRjrZjnMVqaM8jxybHdn2LhxNL7/fpdt\no9Zfn7I8JkdUbbhh1m0Va6ojtyjWyL7PGat9XgwVbJB1Wzmr92MkK1SPHx8mxGToCa+ZNGkAIgrn\nlnHjhvL++01dtq2//giqqvo2iUukL+rq6qirq+uxXrdj6DpVNJvq7v/KUL6Bu7+Wd4TZH2c74B53\nH5Uoex34ibvflCibBfzD3X8Vbx8CnOzuG3e3LcPjaQxdkX3k7WzpH1CfdlntVBvBMQzPeWJEW1MT\nz192GY+eeGKn8oqaGg5+7TWGjRuXc0wdzc28vfnmtL78cqfymj33ZNx111E2YkTObUmOljXDsZvD\nO533OdvuCT+6DoZqnxea08xCvkg7r3Yqr+brjOKPAzKGrm3pUl444ggW3Hxzp/Kh663HtnPnUj50\naL/H1NTUxmWXvciJJz7eqbympoLXXtufceMGbrKGSLrejqFbLlMyFxX0Y567zwbeMrNaADObCAwD\n7jCzs80sNVnicjr3Dn6dFZd/M23TDNcBMowyZtkqTKWaMmA8ZfzURvKdPJI5gIqhQ5n8ne+w40UX\nMXzCBDBj9Z124puPPkrVqFE9N5BgVVVMeOQRhh94IFZdTdnIkYw69ljG/eUvSuaKpaIKLngEdjoQ\nKqvDkiV7Hgsn/UXJXNFUMYZZDGEfoBpjJMM4htFcPiDJHEDFiBFsfPXVrHXCCVSMHo1VVbHqvvuy\nzezZWB+WIOqLoUMr+M53JnHRRdsxYUINZrDTTuN59NE9GTVqYGISyVdPs1wvAm6Js1xPAPZOq1IG\nbOTuqxQ0KLN1gTMIM1OnABe7+1NmNgc4x91nxHonEi6nNgMjCb1w3tO2tMdSD10/cHfqcYZjLCNc\n/x6S4+zWdG3NzQCUV1fTWl9PZU1N3kuWpLQvXRqWKenowJubNbu1PzQuDcuUeEfotdPs1qLrYClG\nDdCB0zKgS5aktDU0UFZVhZWX015fT8UgWAeyubkNMKqry6ivb6WmplJLlsig09vvcv0tMMPd/2Vm\nuwA/BJJ90mVArbvvVOiA+4sSOhERESkVvUro0how4HPu/nJa+WR3f6EwYfY/JXQiIiJSKvqU0JnZ\nasB+wEZAB/ACoefuw0IH2t+U0ImIiEip6HVCZ2b7ANcQJiYsJCR0Ywnf1HCou99e+HD7jxI6ERER\nKRW9muVqZpOBa4GLgTXcfVV3H0f4poafAJeb2XrFCFhEREREctPTpIg/AY+7++VZtu8G7O7u3ytS\nfEWnHjoREREpFb1dh258tmQOwN3vJlyKFREREZEB0lNCNy+HNj75/+ydedhtY/nHP99zjmM+yDxU\nkpASylApQypEiQbKEJGhUaX8UlJEQhIKqVSSyNAgYzhKaZDMTYrSQKLMs+/vj/vZ56yzzh7WeudX\n9+e69vW+e+31PO+z917vWve6h+89EgtJkiRJkiRJhsYgg26eBnM02SdJkiRJkiQZJQbl0D1BNLvv\nl2S2vO15R3phY0Xm0CVJkiRJMlnolUM3bcC464EfAI/3eH06sOUw15YkSZIkSZIMg0EG3T62Z/bb\nQdLFI7ecJEmSJEmSpC2NW389VcmQa5IkSZIkk4WhypYkSZIkSZIkE5w06JIkSZIkSSY5adAlSZIk\nSR/wxZEAACAASURBVJJMctKgS5IkSZIkmeSkQZckSZIkSTLJSYMuSZIkSZJkkpMGXZIkSZIkySQn\nDbokSZIkSZJJThp0SZIkSZIkk5w06JIkSZIkSSY5adAlSZIkSZJMctKgS5IkSZIkmeSkQZckSZIk\nSTLJSYMuSZIkSZJkkpMGXZIkSZIkySQnDbokSZIkSZJJThp0SZIkSZIkk5w06JIkSZIkSSY5adAl\nSZIkSZJMctKgS5IkSZIkmeSkQZckSZIkSTLJSYMuSZIkSZJkkpMGXZIkSZIkySQnDbokSZIkSZJJ\nzlPaoJM0RdLi472OJEmSJEmS0WTCGXSStpZ0mKQPSzpW0rQe+82QdIykvSWdJGnD2uuvBa4Hth6L\ndSdJkiRJkowXXY2l8ULSi4DPAs+xbUmfAQ4EDuiy+8nA+ba/LOlpwA2Snmf7P5JmAD8Hlh6zxSdJ\n0oxHHoQnnwQM06bDPPOO94qSFtxzj5k2DR5/HBZZROO9nCRJChPNQ/d+YKZtl+ffBfaSNL26k6Tn\nANsAFwDYvpvwxu1ant9r+07gvrFaeJIkDXjofjjtYHjPWvDBl8B5x4eBl0x4HnzQXHfdk+y44xM8\n97mP85a3PMHVVz/JAw948OAkSUadCeWhAzYAvlB5/gdgceAFwFWV7S8FHrT9t9q+rwCOGu1FJkky\nBB59CD76Svj9L2Zv+9L74dbr4R1HwwILj9/akoHccgusu+4TPPpoPL/tNnPxxU/wy19OZe2101OX\nJOPNRPPQLQPcU3n+3/JzhQH7dfat75ckyUThz9fMacx1+NHX4PFHxnw5SXPuvdcceOBsY67D44/D\nAQc8yT33pJcuScabieahexx4rPK8Y3DWb//q+3X2HdJt4ic+8YlZv2+88cZsvPHGQ5kmSZJ+3Hx1\n9+1PPgm33wIzlhjb9SStuPHG7kbbTTeZqVPHeDFJ8j/EzJkzmTlz5sD9xsygk7QC8BugflZQ2fYD\n4B/AIpXXFi0//14b88/afp196/s1omrQJUkySqy6fvftU6fBcs8Z27UkrVlrLfG7381t1K21lqLG\nJUmSUaHuaPrkJz/Zdb8xC7na/pvtJW0vVXt0tu0GzARWrgxbjQil/qY23Uxg4ZrG3Gple5IkE5Fn\nrA4v2GTu7a/Zm3TxTGxmzBAHHzyVBRaYc/t888GnPjWVGTMyhy5JxpuJlkP3FWBzSZ2zw2uAU20/\nJml5SccB2P4HUeH6WgBJixGFE9+qzTfR3l+S/O8y7wJw4Lmw62dg5RfCc18K7/8a7HoYzJ8FEROd\n5ZeH666bxlvfKp7/fNh+e3HttdNYccXxXlmSJACarRAyMZC0I/BCIny6MvAB2w9JWp8w2Fa3/Ujx\nzh1OeO/WAM62fWGZYyFge+B4wvD7uO26l6/z9zzRPoMkeUrz6CPw2MPx+3wLRsg1mTTce+/s82V6\n5pJk7JGE7bn++SacQTfWpEGXJEmSJMlkoZdBlyHJJEmSJEmSSU4adEmSJEmSJJOcNOiSJEmSJEkm\nOWnQJUmSJEmSTHLSoEuSJEmSJJnkpEGXJEmSJEkyyUmDLkmSJEmSZJKTBl2SJEmSJMkkJw26JEmS\nJEmSSU4adEmSJEmSJJOcNOiSJEmSJEkmOWnQJUmSJEmSTHLSoEuSJEmSJJnkpEGXJEmSJEkyyUmD\nLkmSJEmSZJKTBl2SJEmSJMkkJw26JEmSJEmSSU4adEmSJEmSJJOcNOiSJEmSJEkmOWnQJUmSJEmS\nTHLSoEuSJEmSJJnkpEGXJEmSJEkyyUmDLkmSJEmSZJKTBl2SJEmSJMkkJw26JEmSJEmSSU4adEmS\nJEmSJJOcNOiSJEmSJEkmOWnQJUmSJEmSTHLSoEuSJEmSJJnkpEGXJEmSJEkyyUmDLkmSJEmSZJKT\nBl2SJEmSJMkkJw26JEmSJEmSSU4adEmSJEmSJJOcNOiSJEmSJEkmOWnQJUmSJEmSTHLSoEuSJEmS\nJJnkTDiDTtLWkg6T9GFJx0qa1mO/GZKOkbS3pJMkbVh57fmSfirpPkk/k/T8sXsHSZIkSZIkY8uE\nMugkvQj4LPAR24cDDwIH9tj9ZOA628cD+wHflrSYpOnAR4D3AFsA8wNnjfrik8bMnDlzQs0zUefK\nNY39XLmmsZ8r1zT2c03ENSXDZ0IZdMD7gZm2XZ5/F9irGGmzkPQcYBvgAgDbdwPXA28HXg58zPbV\ntq8oc64saakxeg/JAJ7qJ6Wn8vubiGsayblyTWM/V65p7OeaiGtKhs9EM+g2AH5Xef4HYHHgBbX9\nXgo8aPtvtX03sX2J7Vsq228HHgDuHoX1JkmSJEmSjDsTzaBbBrin8vy/5ecKA/br7FvfD+CFwFdt\nPz4iK0ySJEmSJJlgaHZ0c/yRdB/wHttfK8/nAR4B3mD7nMp+Hyz7rVjZdgiwle01K9sEnArsafu+\nHn9z4nwASZIkSZIkA7Ct+rauFaSjgaQVgN8AdQNKZdsPgH8Ai1ReW7T8/HttzD9r+3X2re/3HuAT\nvYw56P6hJEmSJEmSTCbGzKAr+W5L9ttH0onAypVNqxGh1N/Udp0JLCxpcdt3Vfa9sDLXtsDPbf+h\nPJ/H9mPDehNJkiRJkiQTkImWQ/cVYPMSKgV4DXCq7cckLS/pOADb/yAqXF8LIGkxonDiW+X5ZsDT\ngXskrSppfWDPsX0rSZIkSZIkY8OEyqEDkLQjUcjwd8Jb9wHbDxWj7FvA6rYfkbQ4cDjhvVsDOMv2\nRZLWBK4AFqhNvZntH43ZG0mSJEmSJBkjJpxBlyRJkiRJkrRjzHLokuR/AUk7AAsDX7P98HivJ+lP\nqaR/BfBsYAbwN+Bq2zeN45peBLyxvibgNNv/aTB+2kSWaZK0j+2ju2zfgnjPV9i+ZuxXNjeS1rZd\nz+FuOnYBYIbt20d4TQv3K/TrM25V5jymbrD93/6jksnERMuhS/5HUPCMEZprzcF7dR33tF69glvM\ncZukHcr7OQz4PLAqcFTD8SPyGXSZ9731DitDnGelLtuWkvTc4c5dmW+7sV6TpOmSDgVuA44BdgW2\nBD4EXCbpl5Je0nJda7XZv8v4VSVdChwNPA34C/ArQhh9I+Dnkj7UYKr3DGcdA9a4oaRPSzpa0p6S\nFhzCNPtJukvSvyR9UdI8kp4GnAN8G1iqGLVDXWPrc4uk7btsewlwZst5Vpd0nKTbgfuAv0t6pBxP\n7yw3EMPlfS3XtIekG4Brga8DRwA/BP4h6Yxu/0895lm89FrfsJLnnkwgMuSajDiSVgPePGC3JQBs\nv7fFvC8E3gssD0ztbAZWs71sg/HVjiN/ANYkPCHXl20GzrD9SIs17WL7ayXH86fAlrYv7GxvMP44\non/xE11evneod9CSvkIYK1OA821fOcR59rd9aG3bFOBi25u2nOsdwAHAcsT3Rvlp21N7DhzhNUl6\nFvBxwni4vJsnVdKzgb2A39r+asN1XQt8Hziv7ect6VXAy4Cj+3nhJL0eWNf2R/vs8wRwMSEDNWsz\ncXwvC8wL3Gi7leEn6ePAJ4DrgD8CCwGrAG+1/YsW89xFHAc/JuSnng1cBVzfOQ4knWb7LV3Gjta5\n5TfAibZPkLQMkZ/9JuD3tgca6sXA+SihtjATuBG4F3iY8IgtA7wEWBvYx/af+sy1CbAV8BAhiv/n\nymvvAo6yPW+DNS0OHAn8HLjE9s211xcE1gd2Ab5j+wd95lqlzLMocRz9Etjcdl3gPxlH0qBLRpxy\nIvk5UZwCUYF8F3PqBK4I/NX221rMeytwFnAD8GTZPAV4ne1tGox/sqzjo8DJRPFN9cJr4IC6sTBg\nzk8ShTmfI06au0uaCnyz2wWpx5r6/RPeBrzD9sVN11SbfxrhedqIaH/3ddu3NRi3F7AvsBhzd2VZ\nDPhLkwtdbc7bgd2J76/znqcBu9g+YCzWJGmRsoaj3ODkVy6uj9r+aYN9lwPuADYjLpT3AGfbvnXA\nuMWBl9n+3qC/UfZfHljF9mU9Xv+E7U/Utk0DDiE+v28A77L9YJO/V5njLmD3msj7YsAxtndqMc+H\nbB9Ref5BQrXgStszyrarbK/TZexonVuWAVYibq5WJ4yyDwL/sn1vg/EfJm6crh+w3/zAh4Ev2P53\nl9c3B84j5LoWJLx8zyfe4wnAzsCHbX9uwN+ZTnibj7L9UIP1v5kwXq/t8foZwM3A6WVdBxAG+IcH\nzZ2MHWnQJaOCpBfYvq78/v76Cah4VL5qe5cWc/7U9gZdti9p+84G4x8ivBs3lOfrA/Pa/nF5vjAh\nk/O6Fmt6DvBO4FbgOOJOfHdgRdu7Nhj/beAkoFfO01RgN9s7NF1TmXcl23+W9GLgrYS34V/ASbaP\nazjHZoR00Nm1lx4Arm2r6yjpNMKb49r2p9lu1Gt5uGuSNNV2N29o5/V56x5aDSEnrRxb7wR2ILxu\n+7YZX+ZYifBg/cH2Ay3GLVb18kl6JuGNXIPosHNy27WUea6w/bIu2z9u+6DO37L9lwHzHE6Ek6cC\nWxNC8ZcABwLPIrxAv7O9dI/xo3FuOZvw2P+HMHiXJdIn7rb96ICxiwPz2a4L2/cb8/zOeai2/TLg\nM7YvKEbZkcTN6/qE6sN2ti9tMP+CwCNtjtv6cVN77Qzbb648Xxj4lu3XNp0/GX2yKCIZFTon3EK9\nq0dn26taTvsZSa/ockLbGvhyg/GX106iNxKGAAC275P0zzYLsv1H4P2d55KetP3JFlN8qtuJvTLf\nYcAr26ypcL6keYkL03GEbM91A8bMge0LqYh1l/XMC0xra8wVfgocL+lnte2bEYbPqK+pbsxJWhr4\nDPCE7d2AZ0h6O3BYJ5zU9KIoaV9gOrATsDRhRL3Y9lVNxlfmWaWMXZMIlT5eQvP7NXyPVWPuTcCJ\nhOfwxf2OtQZ8S9IBwOWVbQsCK0nasKz1zcC7BsxzEPARIvx4CfDpMuYg4IvAi4kcr66M0rllI8Kj\ndbJtF4Nlf2BdBvz/eba4fed4ehORR/skcBPhpb2zNqbX9/A32xeUfR6VtB8ROr8FWGeQsVyZf9Z5\nTdJWRFi1s6bfEgbvRbUx/Qpu7qo+KefKakgfSW+wfVaT9SWjQ3roklFH0seIvLcfEXkhqxL5STfa\n3rbPuA2AnzA7PNfJu6oetI1zsCSdbrtvAr6kU1qGj1YlLpj32X6tpCWI/KwjmoQ2G8z/BsLY+G7L\ncT8BPkX0Qn4tEbo9uW3OS8nFu9T2qZI2JnLEHgY+bvuElnNdRORdVT1gU4gcyK7emDFY06WEUX+7\n7XeUbS8ijKdBuVr1uZ4kjteTgDM9xCpnSVcSobYDiZuO6YTRu7r75M7V5piPKPbYndDv3LONl6/H\nnBcTRma/eZaxPf8w/sZ8wKuJfMgmocIhnVu6zLOp7Uu6bH+7m+dQvoEoOlgA+DdhPC0B3A/sbPv7\nDeY40faetW3fAPboHE+Sdrb9jYZrOhL4AJEzfF1Z08rE93ik7Y80nOevxGdc5cVE+BvCObShK/3V\nk3HAdj7yMeoPIuz3CyJR+J+ER+1pDcYdAjyzz2MlIu+tyRp+QsgI9Hp9EeCylu/rSuBYIo+os211\n4MKG4xcjEqk37nweRNL6e4lqx9cM8fNeuvL7EoQX6l7gkJbzHFL5bP4GfLY833cIa1qnx/Y1x3FN\nXyk/96tsezpwzxDm2nUo31WXee4BFuqy/cCG459H5Ck+QOS8ddvnZUNY1+uAeQbs89qGc00HVgCe\nUXns13ZNZa4hnVsazDuFKGBosu/q5fP+NLBsZfsMYG8i3WGlBvPcC1wGXFp53Fr5/XIiDNxkTZtT\ncjp7HCM3AS9vcUz+pKyt2+MnwH+G+5nnY3iPDLkmY4Ltb1Fas3Uo4YlB42Z5JCRt4loiuKSliHL8\nJlxChI22t31/bZ4ViEKJ8xrO1eHXtt9TQiMdHiEq2ppwF6Ex9iHgPyV5/QJgQ6L69k2SDrX9hZbr\nep2kB4lQ5iuAnxFyB99pOc8fy88TCE/D/uV5a8kj21cVj9rStk9XyM0sb7vtZz5iawI6oTBD5NgR\nlZx/bTuR7ZMlzSBSAJYD/gx8zwNysLpwGhEq/2Nt+1INx/+KuCk4BnhU0s611xcB9iBy6hrjLh6m\nkuT/WttnlH16VkpWxhwE7AfUJTxM3Hi0ose5ZdE2c5Rj8eNE/l4nErAIUWAxl2ZeF94PvM/2HKkf\njoKK4xUFXR9kcDj6buImpRrmr4ZZpxNVwU3YA9ja9s/rL9i+UdLrgIMJY2zgXLZP77eDpDc2XFcy\nSqRBl4w65SL3BiI0Ur3obkwYG4PGd2RKtpB0M7NPuABLAocRYbdBHEZUr91Wwn9/Ik6QKxM5NzcS\nF8E23KcQEO0YBIuVOZoK094OvKKc+JH0CSKfZ3fbXy0XzNOAtgbdicDvgW8Ce9lubaAU5pF0C1F1\n9zpgCUl7E8bh4W0mknQwYXydD5xu+1pJ60t6V0uDtbOm/wx3TcDXJZ1J5IGtBWwAzE8cr60oRsFF\nxLHwF8KoOkTSNrZv7DNuPeLY7DAV+LGk31a2TSHCsE24iqhC7MUihOHQCvWuyP4FcEaLqXYDXuRK\nHlkxpAcWEZV9VwT+4cgxex6Rr1hlCpHH1qZ/90eJ7+4FxA3W48CLiLy+JixbN+aq2D5fUUk6iL1t\nn99vB4UAcxOe6GbMVdZ0s6SBQtVl39MlbUrIqdxNeLb/UdunlWZfMgqMt4swH0/9B3HC/yXwNcIL\ndjJRSfanhuO3JBKDn+zyuI/Qj2q6lvkJL8DtlTn+QxQO9AzH9plvOeBUImn5Z2U91wPPazj+W5Xf\nn0vkgp1c2+e4Iaxr+/H+3rus6VLCAK+GN5cEbhvndYmoInwzsCmwwBDnOZdaiJwwNo4ZMG5+oghg\nF+BtfR4rNFzHeg32WXcI728f5kx3eBaRo7d5y3m+RFSX17cv33D8bZRQKJEf1u288ETLNe1afi5e\n/d8Bzm04/vgG+xw9zOP05YRnc/2G+x87Umsi8ho758oHCKNuteG8n3yM/CM9dMlYMJ/tubo5KCQ/\nBmL7h8WLsZ7tulxFKxyJ1vsRavVLEN6Qf7mctSQt4xatehx3qTuU8PEzgbvcRzS0C8spRGznITT2\nHiB0qqq8tMV8nXV9u8hePN325cV7NNX21W3nkvQW4sLdCSMe46g2bcvPbN8pqerl2ZS5Q29DQtLW\nbqjlVhlzMOHVu8EVcVyFCPLCwFUusjYNuMy18LHtOyT1lbOw/ZBCiLqr9I6kZW23qb7egLiB6vc3\nf9Vivg4nee7Cii9L+iWRJtCU24DvSKpX/76cZtWpGxC5YRDe69sdYVdglmzJbi3WA7BOKYb5FLCK\npAMpif4Nxzc5hgfuI+lhQgvvUOYMrd5p+ycKKZPLgfka/L2VNLhjxgoN5oE4J21u+6JKWsKHgbc3\nHJ+MAVnlmow6RQbiV66JbnbLiRvi/F0r1IY412dtf7DlmHru1hQi5+SLDcZuTYRFFyCMue1cQi7l\n5H00UaHYuJNCGbs34XW8xPary7b9gT/abpxHJ+m9hBjtaURy9rzAJsAFto9vuaZdCZ2+ZxEtlTYh\nij+O8gBhYUnfI6QWvqfoWLB7bZcpwFK2W7U7k3Q/4SGDkEPZjvgu/k6033oesKDteoVft7k+afvA\n2raXE8UaW7dYU6dy+n7bW7WtnNacnSKq6QlmeJ0iuhk3awMftd00vw9JZxF5pvVq5/Vst24pJ0n1\nGzJJ090id1HSskTLtKOJvNYjCLmSr9v+bIPxTxB5l/0uqMt7QIcHSee4iKSXHLdvEZ7RH3aMeknn\n2x4Ydu0TIp+1C80VAr7miq6fJBFyLNtUtg2px2wycqSHLhkLdgAOl1RVXBeR5N24F2TJm6qfoOYn\nQpyNDLpiVGxFhDaPdckxKSeow4k8rL4GnaJN0Odsf0OhE9erv+ZAg64YKCsQLZT+4CIrUozEDxB5\ncI2NgQo7AusRchcdvkxowbUpjFgfWLl2cTy65Pq1wlE0sB6RK7UPceHcpaGBOZMIa0PkOj2rbOsw\nFWiaW1TlTiJRvdOG6k1EigCOvMYrFaKzAw064EeSbiJyMRcAnkOEXDfrO2puvkbkwbms49+STiC+\nvyZzHezenSLeRqQ77Ndl3CAuJFIVqtzF3Mb1ID5i+w/1jWrYU7Q2ZlXgREn3296K0Ow7hjDIGssG\nFWNp/8qmD5T5V2s4xfXAD+gtED6dSB0ZxCxvru3vF+Otnpt3C804g/6i5dNp7smcQ2zbtjW3ZueO\nQKubvGRkSYMuGQtmEnlr1ZPCVKCxTlThdCKhvoOIoopGgrmSdiAqI28k5EJeL2kNIh/kDGbnUQ3i\nU8Cvy++nlp/VdTV+b5LWsn0NUZk4C9tPMmeifFsut/3rksjcYW3C69SGn/TwdAzsJdkN27+khANL\nOGiBhuM+V/n955L+4VqhRwn9teXznTCppEeIsDLMWYCwcsM1/kTRumkHIpQ1EzilTQi/MNzK6c9X\nn2jOThG7e4idIoBN3CfJvindjLnCGkRIvw1fY3jGLwCKtm07E1WtVS/vC4EmLe72sT1zwN9o0r7v\nydrzbh6vpr2mP2H7dwPW1NTo3UXRb7jK4uV4h7AlliUNunElDbpkLDjcXRreS+p1Yu/FEa6ospc5\nLieS7ZtUWO1FJIN32gb9H2GcrUecSF9ie2B1qitq6Lavl3Ska30ZJfWsaqzxNUkfJXTrWrWXGsCd\nJfdtcUXngY2J99pWtuSZkl5BeK06XqfdGMK5Q9IFhIFzqqKDwTeBGyV9z+26awA8pmhrVr34bs0A\n72oXlpJ0BLM9fD8iKmfvUVQvL04UbjRlUeI9/q3lOqoMq3Lao9QpopcxJ2kDD+h12zRkzpzfZxOG\na/x2+BFxY/h7ZhtVInQu+yLpaTSoGu4YfJLmIcLL3T6zZSU9ndmh8oVqz6cQlbhN1vQ8oK9B1zH4\nys3V6i5dKrpwE1H00+scNQ+he5eMI2nQJWPBfhHRnIMFiXDpe1vMs6CiR2GVtWmup3Wz52wbdCSR\nZ3QV8Bbb90hawC2alks6EThWoYf3u+JZA3h3yc+6yf21ua4mku+PLnk45xJ5b/U79abrWY3wTNxF\n/H+/APgus/OCPt97dFcOJwyvLZgd7j6L9mE2iPd1avGGnAh8zPYRJd+vMcUD8zZCrLV68V2a9gbd\nAURi99pEqPJbJXfpHcTx8TrglD5r6RTp/JXo7DA/cJOkjoFvon/tL7qN78GxRKjspZJeTxzftxL5\nfY3QCHSKkPRC4jMYxGrM9mz2Yib9Q+ZTiB69bRmubFCH221vX99Y0iH6YvtuSdtLWsUDpDtKWHlf\n5i586vAG5vTuizkldET/vLjqmu6T9FlCiLurwVlSTXYGXmj7fX2m3HuQd1bSQA3CZHTJoohk1Ck5\nZ9dUNxEXqfMGJcPX5ukk+Vatw7uIThEDWz5J+rLt3WvbTrC9V+X5nrZPHMKa/kO019mG8DLcShhq\nKwLPdxFe7TJ+8Y7XsVyYXkdIBDxE5ORc4oZ9UyWtC1zB7Gq6W4mOAP/oOaj/fIsAD9h+vCSNrwDc\n2qsas8F87yJC1GcSLcBeUnJxDm55HPyB8LTeU9v+KttNwlpN/sa08r5fQFTAdjWwy/f/RSLk9rik\n9Yk+pdcQx8XCwDM8oI1YtxsJDbFyWqHNdjphNM0ldlv2eZntKwbMMy9Rvfp1ehsRU4A32m6SH1ad\n+xnVkLmid+qStluFXMvNwRFEJfg/qRi/TbztlXl2B35k+9ba9te4ofC1pHcTRvdlRL/Ue4AniNzM\nZwAvAx4F3ln36FfmOIO42ennCdu9m/HZY74XEjJR9/RY0/OJfOC+N3qSXjvgxrTVZ5WMDmnQJaOO\npDU8d4Xr0oSHpnGlnaTXu2VP09r4xwgV9upBvxhhjEGE3ZZ1i0pJSdcQHpibildkR6Id2DW25yn7\n/MD2a1vMuRqRlL0bkUPzRdv79x8Fkn4IfI+4mC9IJME/aHuQOn19nkUJY/KlwGNE8Uivwo82825N\nyB3cSoi+zkO0RdrOdiMJmzLPMYSh4tr2Z9lumjA+xzjmFr3e1vY+Dcb+gdDjerI8X43w9vy3ss83\nbNe7NdTn+SLw7qF6ZmtzPcjsThG/6bLLIkQV9kDPtqSVbd88YJ9numHT+LL/PraPrm2bj/AktfWw\ndsbPYfyqpfyQpNcQXtF65e0ytptIhHTmWYn4v30NYTDNSxRnXElUzF4+YPx6RJj0kW5pKmWfVW3/\nvsWaRFTsdlvTWU08t5KuJc4t/QzN1zc5ppLRIw26ZFwoodObbS/bctyKwE5EiOdPwNd63e12GXs1\nIeDa66Q0L9HGqPFJSdL7One3xaO1H+GFutz2EmX7b91DjkHSmo6OCYsAbyFCiesRnsfTCeHhKxuu\n5Zu2d6w8n4doEr91ZdtU208MmOezwLpEaHVBIvfwCNvHNlnHaKNI8j+E8IjO2kx03Nio5VwnE5/7\n7cw29KcSF/KBhr2k02y/ZcA+J9l+x4B9fkfkKf6LaBfW13s2YK4fAx/rPO2yyyLAB9t+Vn3+3pa2\nf9hgvx0IbbUNiariKksBb3YL+ZMBf6uV/JCiOOBTxDFVNaq3sP1/I7Gmhut4gugKc0IbD+NoI+lx\nwgPaz6BbxnamcY0j+eEno46kS7tsXpnmPVg782xC5JjdQHh5lgX2lPR22036Eb6nQfJ2qzwjIq/v\nO4QR8HLCK7Ib0Zd1OcID2E+a5ShF+53XEBff7xPGygVuXyQxR0Wc7cc0t7TAW+mTE1Z4LrBxxev0\nbUKfa1gGnULH7EnbVxQv4BFESPLANh4HImT7OBE6ql58Fx7CsjYBlqvnGElqWiHZpGdok5uWXW1f\nWUKP2yrkde4ijLu+x2wX/gu8njgeTql72CTtSYNcw+It+vag3YjcxSbVyt8lqiAXI8LBVR4gDOtG\naATkh2r8qluqhaTru+08ivzMdt+8YrXU2Bsh9rF9XL8dJL1zrBaTdCcNumQs+Btz68TdRehaHClV\nswAAIABJREFUteH9RNubag/IeQl5j4EGXb8Lo6TnA+8m2i8d0nRBtg9VlPOvTQjkXiFpHUJO4b3l\n8fE+U2xCSJZ8hAj7PYO42C3ObDX8pmyn0OWqskrFoO4USQwy6G6rhv5s/1lSvbr4JU09hxUOIkLS\nEIUWywGfJHTg2hTHPGz75fWNimretnyHMAzrNM3lelzSVrbP7faipG2AgUU2nc/SIcz6daLH7JLA\ngeWG4fuEkOtFDda0FWH07u7SI7jGHwndw3qnhjq/Jo7N4+mdQzeV2d9pX0pob+cmYdx+aOTkh6p8\nU9L2RPu+Kq+nfX/n4dAkdL09oSU4lvy05JPe6d5dS04bywUlc5MGXTIWvMv2fYry++WAPw8xsf4S\n12QXbD8i6V9DWVQJSb4ReCeRL3YHITTbipKIf3GZc17bnQvldZIO7XFR7XCg7YNr63oZcETx8H2b\nuJA3aaZ+HyFMWvXsVS8Q04CnN5hnDUk7MWe47umVbdMIb0qTNk1VTrD9N0lvI1p+vcD2HxUSC224\nUN3bYTUWqa4wDbhIc8vMNNUf+3RZzxGEcfgnoihmZaLCdFcatI+SNKNznJTw+/bEzcX6RI6naK4/\ndhuwYy8vju1LJR1PVL/2xPYTJd+tZ9sxRRuotvJD/1AIU0+3vb+iLd1mRHJ+kwKgEZEfqnEQsHqX\n7WZsDbpX9ohodOjclI21QfcL4P/oc8y4IpeTjA9p0CVjwTySLiQScwW4eB32GGDs1Fla0kK274dZ\nBtn2wIvbLKbkYO1JyFUsSuRPvZ4I57bqm1qSsT9DNAPfDXiGotXZYbbvafD+ZslCKNT8tyRyBLck\ncvoWAWYARzVYzjsGeXA0tzhoN15M98/0FZXfh5J8+0JJLyEMnfcVY25lwkPXRux2VeDHmlsU9dlE\nYnwbFia8x/Vk+KZiwj9TVEieRMiWVHmUkAv59dwj52KfkuO5I1HpLCLfcxuiGrxRpXPhxw1Ccgs1\nmahuzBVP9mLMNvYXITzQ67ZY36nE53tN+RvXFqP+OOL/chAjLj9EpBN8s1ogUMK3fYtZqihEvLci\nPIVftd23h28P7qe/l24e5g5Xt6Z4ORcmcpAfbjDkctt9z0GSFq0WAyXjgO185GNUH8Rd3eFEbtb8\nhBG1DXB0y3meT4SLfkWEW+4jculWbTh+S6J68zFCQHRfQjT25GG8t0vLnCdVtr0IOKPh+HcSuXdf\nBP5NeBiuI9oQrTRO39fHgKl9Xp8G/N8Q5p1OiP+uVZ4vT1ww39ZynuMII/BtlccuwLeHsKblu2yb\nSuTVtZlnifJdHkeEKN/fbe4+458kQr+/Kcf0/wGLDfH7O6vBPlcMYd5jiMT4OwhNuVuYnafXZp7T\ny8/9KtuWBe5uOP7LXbadUHu+51A+u8r4eYkevk33f3X5Dv9D5APeTVQ/t/2732qwz7ZDmPc2ooOJ\niBSVfwOfIyrom4z/RoN99h7OZ56P4T/SQ5eMBbfY/mjl+UPAOcU70xjbNyh0lbaiaKIx20BrwtKE\nAfcDYDeXEIGk4ZR632J7N82pVP8vmrcdOo7wdt1MGHWn227aZWK0WAnYVNKl7lKY4dBb65sg3Q2H\n1+h7led/B75RvtM2HGR7rjC7pNYaWLb/PhJeJ0elddfevZJeaPvqAVNcArzX9m8VfXw3AQ6VtBCR\na/pdF890Axbsl+OokOgYyjH/T9vLluKW22zfUqrO39B/2Fx0NPWqa3gnDbotFN5WvGFzyA9JenX5\nfSphILbRk/wKcKlD+HpjImfxYUkfdwONS0IoeHPbF5Uw9CfKtrc3XUNhYB6o7bMH7dOFA8p7W5+4\nkd3S9oWSdmk4fhtJ/fJKs/XXBCANumQsmEsPqlyo1h7CXA8Swp0dSYmlCDHPIwYNtP1V4KslgXp/\nhfbVd+gu7dCUTs5dR6m+czL/a68BNa4i9MeG0od0tDiP8HidJOknwNnA+bYf6uzQwriYRY/coAWJ\nvL82fX3/LekjROh2OaKA4diGF976mo4B3kSEWTshuiWIisy2cw3n/b3P9m8h+vhKmklUjr6dyJd6\nWNLRbqBHCBwKnK/QtjuV8KQ9QYQ530xc0NsWDQA8qRDC/rGkwyQdSBhh7wY+22Ke8ySdSqRQLEoY\nr2sTHqQmXE8D+aEW64HQDjy15C9+k/C4f1DSvg3H/80l3cGRe/hx4v9mFpIWdhS99GPxYlwe79m5\nuCPBsxRdRz5HhFkvLOeqzYgCrkH8mdr7qTGduNFOxpE06JKx4FFJ32DOfqBvAlqJ1Sp6nn6ECNvC\nbEPMNDDoOjhEjj9UDLrtiAvLh4mL3yttf73Fsr4u6UxgJUlrARuU9TX1WnyXUG+fMDjaF50paTqR\n97gt8LmS43U28AMPLVfmr4Qx3kFEwUBbzbWDiIKMIwkv7bzAJpIOcK3ApAEj5XWC4b2/jgj1ekQO\n5ZsJw/JPRMJ/Y89tMbh2JxrU71d7+XFgXzfQjevCvcAdpYr7HCLXa0GaVWZW13eFonvMVkTO45cJ\nL2TTfNom8kNt398fy88TiDy2juE8pfvuczFHwYpta27JoB0Z4MGyPSs/TtHxYzXiOPq9a+LsLfkm\n4QU9GjhO0vLEDVGT/DmIFoZ9+y0PKOZIxoLxjvnm43/jQRhwFxK5bz8kXP5t57iVcoKrbBOw8wis\n73lEiOahIYwVs6USNiWKGNRw7L6EVML1xIX7heP9XfVY5xRgYyKP6s/ARUOYo1u+2nTCQGwzz1w5\nVGX7R4awpv2AxcvvhxHG4QwilD5m74/oDvAnIg/rVuIGZVjHApGruieR8H880X3k6cOcc0Ng7c77\nJYz9JVvOsVGP7R8d5tr2HcbYdxCezKuJsOfy5f/xvobjHyn/F9XHPZXf/wo81nCuFxCe+47OYie/\n8prhHBPlPLUqUb29UMuxNzU9p+Vj/B7ZKSIZdSR9i0icPn+Y88zVi7Vsb9XmZ8Df2Mn2IJ226v7d\n2hjNCxzqdkr1yxKFItsS/V9/QHjDrvAY/5NKmlF5+pBrFZaSliH6kw47TFwkKy5x6arRcMw7bJ/U\nZfsxHiDK2mXM3oTBsw5hfH2f4nWy/fw2c/WYv9H7k/QQUel7itvr+40axSsL0SZqf+KG6krmzF97\nje3GmpKSvm/7dZXnIgpxPu7SLm+Ia73X9ozBe448xeN4Lv07KWxue50B86xKfL6XEze+fyVuppYn\nvOWvIvoz/67l+tYlIhDPJgy7x4CvEh1DBlYDS+rcdJ7kkQ0FJyNIGnTJqCPpSqKtz2217c+x/cce\nw7rNsyLhcfhtdTPh7RtKTtCQ0Si2MSoSDq8jjLs1gQtt7zGM5bb9+08SlXqfJbxhf6u9/ingC+6j\nT9Zn3voJx4TEy8e6DOk1z0GEF6sawt8NuM72+9usqcw3n4t0g6QVCD2zn7ilVmKf9/dp2wcMGPtW\n23114caD8p72t31Yeb4+ERK+inhvM4iWa9u0mPOTwP22j1D00f0mUYjydduNUye6zDtkg07SUUR7\nu1bHdGX8i126VfTZZ33bvxiwz7cJo75ryFihUfkuD2g312Xcb4kOO4cQ4eWFiJD3+k3OLZL+QkQS\nziZkdNp21EnGgDToklFH0rsIKY/LmX3BE9HMuc2F4AIiNPpn5mz59Gzbzxih5TZdy4JEGOt5hMxI\nlQeAc2zXu2MM5e8sRHhAzhjuXC3+5uPERbpuqFbXdKDttjmQ+xC5V1X+43ZahJTcx88Sor3zEZ/3\nCUTIrnVLJIWe4VJEdSTEsfmWjhHTYp4hvb9iwL/A9syGf2cRYJ2ROL4a/K1rba9Zef4s4F+eU6/t\nZNu7tpx3FSIEvB2h4XcA0Qu0VT5ebc5/umVv6MrYA4gQ6XJES8Jz3EyfrTO+Uwy1FSFdcpR7dA8Z\nMM/XbO8yYJ8TbTfR66uOuQ1Y0bU+zpI+1bmZkjTNPdoNKjQyX0HcZG5OnPPOIVrTNa1OTkaZLIpI\nxoKXEbkbVUFMEeGbNixO95PSUKplh4X7tDEqJ/elm8wj6W4iP+ZU4Lj6XMSFrnErshHikl7GHESF\na6lObEU9NN1B0itt/6jFPA8D75L0bmCJjidN0Qe1lUGn6FjwEUpRQvXPEDl1jbF9dAlXb83s6tvv\n9R8Ftu+WtKykDwKf73VRLevdkKgGfVebtQ2DemeWW7rs06112iyK8bZ9l5dmEJqS9xO5jC8ljIUh\nMVRjroydVUxTwuRHSJqf8FD39bwV9gT2JloQLgCcJWlr2xe0XEoTz1djQ7PCYcT5tl5YU/XovAE4\nvdvgckxeRHRVEVH8tS2hFvBXwrg7x0MTU05GiDTokrHg88AvXekPCiBpo5bz/JjIb6p7PFpLaIwU\ntm/W8HTMFgW2s/2dHq8fSVQD9w3ZjTBNwk5Ltp1U0iuJIpAVmS07ozJXo84FZZ4pwEZEXtGUuL4A\nsAUtGrwXdify527o5CqW+XdrOU/HELiIuEj+hSiwOETSNh5QoWr7NElbAVdLuoZIK7iHMJYWIXr8\nvhSYSejV9TT6RpgmNyaDvON3E/IrM5nTgHiEkHTp3Ogt33ZxknYmChfOUbQW/CrRAeEDtut9WfvN\n8wJCC/J1wFsJKZVLgWUaTvEm4PmdXF5JWxCFFm0NuhUlPa2X16vcMKzUck4IY+2QcgPZYX6ii88O\nRJ7eMvQw6KqU/5MryuMDCh3JbYmit2HnnSZDJw26ZCzolV+yQPGyXGH7mgbzTAEukFRPCH4BcVEe\nczR8HbMr+hhz2L5T0V5sLFlR0jz1YogOxRM2lIvKyYS38ffMDplPoZ0GHUSy+BrEBbhjIEwlwt9t\n+QVwY7XwxKEDVw+dNuEQYFfbswSOy3f3UWBgsYbtcyVdTnizXkMYSvMSKv9XEh0Cbh3CuobDv3sV\nocCsdIq+Xhnb/5a0feccUAzf2+pGi6QXDWF9WwM7FCP8O0Tnij0JiZDGBh0hNzMfcRwdRHyPd7UY\n/6dqYZbt8xW9j2chaSXb/cR5IXLUZir6015i+5EytiMhdBjtNP86XEZUqPfqtyoaaBOW4/lNRMTl\nSaL69ewStm2cB5uMDmnQJWPBfiVH5QngTOB9xF30OUTHhxdKepEH97xcAvgpc3rkxAj0NhwGw9Ux\nG3SCB2jbvH64/BQ4RdLerjXcLh6CU5lTb60pv3QX8V9J9RzEQaxEtEWbI7yq0Efri6KPb9Uz/Evg\nywoh3w5TmF2U0obLqsYcgO07JDUOQzmEZ08qj4nAQcAvFD14v0NIq0wnRIp3Jz7LgZ0+ajd0lwB7\nMLdQ7W+GsL7v2H5YoSO5GvBc2/9U6Pm14XIi9P4o0UpuH0mn2P5Dw/GLFg9hVaT88cq2acR57339\nJrH9FUmrUypmJXUKc5YocxzhdjqZHZ4PXGX78l47KCp1eyLpDcDXiZByp03hEsBnJO1s+/tDWFcy\ngmRRRDLqSLqLCBn+mAgfPZuokrve9tSyz2mDKrd63eFKeuZwkqmHg6Ll15dt3yXpMKJB+7zAta6I\nhPYZf4ntTfu8Ph34VTUxfbSRtAARblqdCKNUOw28iuj88ZK6sddg3pcT33/VgBOwo+3GeYLFe/FN\nz119O7DFlkJQ9VpCgqEXU4g+nK08o5I+afvA2raXE/poW7eZayJR3sMpwNOrm4mL+g62L24539uB\nX9u+trZ9O9sDQ361MZ8ivLWvJDyb5xJakCfYbtxaUNJCLt1PFALhexAh0y/Y3qfB+G4VzmLOIjB3\nzncN5lufCP0+p8zxe+DUBje9veYbltJAMTJ/RXj5jnGpBi43eDsAnyQiMU1uUJNRIg26ZNSR9CFX\n5AhK8vcFwJUuMgOSrvIAjaay33SiIrGq4P4W258Z4WU3QsPUMVP0RH2YaHb/eO21qUQl7TTbbXtC\nDguFlt7HiNynTrL5PUSOzf5DqWzrV4DQ9EJX5jmVEHKut1dbxfYKDcY3kY9o4jGuj3k5IU59I7Pl\nVJYGNmuYWD9hKf93mxJh7anAH4ALXGkH12Kui4n80v8w2+CZAixre94hzLcm0brrjhISXA2gnzeq\nyxyHECkTOxC5fGcR8iGNPNGSTiM6XvTToXub7Z16vN6ZZ4X6jcpIoGEqDUg6CfiF7S/3eH0LYCvb\nY1Wsk3QhDbpk1JF0OJEkPpXIefknEXY5kAiXLgr8bpBHRKFf9X8M0yAYSSQtCTziIk1RPEDr01DH\nTNLiRH7UdOAMQl+t4w3bhigWWGc0TvJNKWucRshVDPmEIemPhKzDH6rzSHqzW8iySDqSMCiq7Zam\nEPIub2ow/qjy633ERbtepbyH7S81XMvm1UpGSc8gjIIViO/yFI+Q6PVTBUkfIEK31fZxU4Dt3VKO\no8/f2NQtZF0UUj0XE5p4Z7c1VCWtaPtWhaTMA92KViQ9y92rhKv7/AjYfaRzJYvBuSpzthkU4Yke\nWPgh6VzbfXu1agjyNcnIkgZdMuoodMs+QjTgvgL4NCG78CBxp/5i4DeDvFAlF2kz2zdUtk0lEpi7\n3jmONpLuICrqTh3GHEsQTbPfzGxj1cQF5p0TIYyh2X1vFyLafjUWhK7M8Q3CS+Ha9sXbJKBLWsz2\nf0oi/JK27yjbZ7iBpl0Jj51JXDjn2l/SKwhNtIFCv8VIfa1bKve3QdIGwMJuL4ExIZG0oGvCtOW7\nfK3tgTIvtXG3MHeoc34inePVLebZwAP6ww4YvyjR3eWlRBeGY91Sp7HMcwmRV7sI4e0/ayhe0C7z\nvpgeSgNNPJmSjre994B9jm4Snk5GjzToknGlGAqvBi4edOKS9CWiMfcjte3Le5z0jyR9nPDC3FLb\nvoVbtjpTiBWvRnjDbm5j5IwkkpYCvk2EaL5HNPW+ktlVpA8BW7iPVl2Ped9DvL96uHPjNiHlcswc\nA+xMGMAPAl8ADnCPytza+L8Az3EfEeImF7Cy3zeIz+OfREeIR7rsMys/qwklOf1I4FtEdeyniRSF\nv3gInTAmGsWLtRNzS/1sb7uVdEnJW63+n4kQwL3O9pkt59oYWNr26SWMu7xrRS59xn6WuDk9i0i5\n2IsoYDi25RqeZ/vGEuJ+PfBGwqt2Stv/ty5zv4QoZOloJH7B9k0Nx3Ztu1jb5wsZch1f0qBLRh1J\nIirHZtg+ppwsX2T7qy3nOYA4adZ7Cb7c9qtGZrXtkPRNQji56ikQoUnVWqutMu9GhDfsZ25ZfDBc\nJJ1I5H5dTIR9HyXC5Z8gKozfBqxne8OW815KVDfXq5RXdQtRWEnHEyLTJxNhzXkJ3bBlbX+4wfhT\nGuQyDdyn7Ld0yd1aF/gwceH9fm2fXW2fPGiuyv572z5e0dfzN8Cetk+RtJvtrzSdZ6Ii6UzCi9Ux\nLCBuFr5p+5iWc83l3S3nm0ttb9JinoOJXrXnd0KLkvYA5rH9hQbjzyNyyJ4sz1cCjnalZ+1QkbQc\nYQBvC5xHHGOtvPaStiNy/M5j9v/My4FDbNerjbuNf4LIWe1nMCw/lBzIZORI2ZJkLDiRkPG4jKiQ\nulbSs1VpO9OQtQhjoFo9OoXIVxov/khUf1XzgUTkCg5EUVHaKar4HlEtdgHhZRBwp6RX2W4r7TEc\nnmF7i7K+rxPG6koOSQ2AfSW1Co0VDnKX9lZqLzHxqOfu3XuNQrqiCQs02KeRFE4n3Gv7V5LeDJxW\nvLadUO404rhtbNABiygqLb9KGCanlO1j3hFllLjQ9knFYF3S9hXF69q1k8gAFiye7SprE5WvbdiA\nENateorPAa4mvL+DuK0azrT9Z0V1/ywkvcT2lW0WpWi5tREho7NuWePDQNsisDcT/8Oz8nqL4XsY\nc8vHdON6IqTcq+hjOrBlyzUlI0wadMlYsDxxIvpAZdsVRAVnG4PuI+6iC1XuhseL44E7a0n+SxFy\nH004iBBGvoi4A386oe20I2G87kycvLcYwTUPYtbdv6PN1+UVY65Da5mYujE3jNywucJE5eK0asPx\nC/a7uEp6Df09EdV9F7Z9n0Jv7GjCo3kRs7ttTCdketowkygYuhz4aCm02ZuhCSdPRFZVaJr9ENi9\n5M/NQwjW7tVyrluJ76qq/3YX7UVuf+YQ8a5+75sydwFWL9ZQCAlX1/H0yrZpRBeTvpEESavY/kM5\nnvYkQqRLETfDbyB6pz7Zb44eXOZakZZtS2rSagxgn243Y1UU1cvJOJIGXTIW/Mb2Y7WT5Zto2Xez\nnOjewpx5IMfYbmo8jQa72z60usH2vySdTTNh2rUITbfHFdXAfyLyu+4or/9A0li/v7pI6jy151OJ\nKtxWSLqaULnv5IYdRnT+2Kxlbthikg4icvE68iBvA77RcPyhwPmSvkiIJFd19t5MtCcbqJpf2FfS\nY0Qv0n8TYbc58q5U6xjQgDWBAyte2Qd5aqnwf4+4SbmByBU8j/CqDaU7x7a2m3Zl6cefJH0EeJak\nVxMh/PcCR/UfNosXl0edV1R+b3KTcEwJb76ayM08hejx/NuG6+jFCqroeJYw7m7EzeRABhlzTfdJ\nRhnb+cjHqD6I8OOxhNL8HsBphOv+XS3neS+Rx/EZwmOxD3Fx2Hsc3tNehPjun8rP6uM64NaG8xxf\ne/7dLvt8YYzf25OEgdN5dH0+hHn3Lj9XJYyUncrz3VrOM4XIV/s90cz8xiEcS28kwuRP1B6PEIU3\nbT6rxwhDdYEe+6jl2m4jchTr2xcfy+NgjI+5pw1x3E49tq9FhE+f1WKu9QiP+3mEIfWmFmM/Bkzt\n8/o0QmuyyfH0R+A9hPd6pD7fpxOC2ncSnv8niBuiZVvMsSHwfmD18vxtxM3QnURnk/nH+zj6X3+k\nhy4ZdWx/r3hn3kqcaG8mvFK/ajnV+sDKnrM68WiFYO2YYvuEcif9SuICUOUBoivGUHiw+qSEEhcf\n4lxD5Swi77FXxeh0wqBuy4yRyA1zhJwOL4+uMhgN5jhTofm1HdEWaRpxIf2Oa2r6A7gDeKP7SF64\nXP1a8D7geQpJnGqhzduJUOykQ9Iutr/W63Xbd0t6m9u3tTpA0j6UtoK2D1f0Gr6c+F7XlTTVNa3B\nsqYNXakctf1LohXcUFgJ2FTSpe6iQefwwB/XYJ4vEVJFQwmr9sT2bZLWJs6hKxA3nI3Pv538UOBu\n4FPF6/wlIj3gfiIc/F+gtVRLMnJklWsybkha07X2PwP238vde4F+2vZHRnZ1jdc0r7tIVbQYX28Z\nJLqEZjyGwslq1kLrfbY/33LeFxOhyVuJhvWLEYbhS22/os/Q+jydvMJVHPlrSxJh+BM89hXBW9r+\n4QjP+WOicrqOx/I4GEkk3U9U7Pa6SZgHWMv2wi3nfYjw/nfaCj5BeMhvsD1FoVN5krvI4ki6Afgi\nc1Zd13nCDTQmJb2RSLHYAPgJUWhwvtsLFC/sufNVq683Pt9oZAW0LwM+aPtqSVsSAsw72T63vL4C\ncI7tdZvMl4wO6aFLRhxJaxCu+UGsQ8McjsIzFaKv1dyp3Rjj47jc6S5dHucRlahPI8IuKxFVfMc3\nnO5yIo+rnzesbQ7WsOhnzEl6PvBuYBeglUHnaH9VbTP0oKQDKa2aWrAtISZ9X5n3Tkk/JDx/A9sY\njSQjbcwVvghsXTVOi6d2KF7RicKjwCpEBXc379N04n+nLYfaPrjzRNHiShRPt+0nJD23x9h/EcU9\ndYNubSLP8r9E14+BODTvzlTox72SOEY/VyITZwM/sP3ffnMU/lI8/6cSuXN1z+JBkg5xAwFtIiWl\np4A2cLOkt7qBgDbw5855wfYPJd3UMebKtr9JanxznowOadAlo8GthLF2Nr0TgacQIZE2HE7cGW7B\n7Mq2Mwmjbiz5NSFm+p5iTCxE3JU/hzDwdpe0nO0DGsx1qQd0uZA03IToYSFpHiLn7J2EEv4dRN5M\n23mmEt9dXVD2PcTFvikzPXdl7ALMmYA+abH9bUkLSVrN9u+KEX237S+O99qGwXJEeHtLwoP2Zdda\noklqUkRUZ0bxGE0lhHifRoTO/1XmXIDehuKHXOvXqxC//jQhpP0Wzy5OakRJBzkPOK9U725IGHef\nlHSzB3evWBTYzvZ3erx+JBHWbHJuuQ3Y0T0EtG1fqtB0bGLQNalyf7DLtmQMyZBrMipIWsv2NX1e\nn0oIyvZVKu+WeyNpWWbngdw5xNybISPpT0QPxMfK8xOJ/KatbF9YvClnuFlf0X8QRmq/sM8Dtj87\nAktvhaRnEtIJbycuNLcTxte5RJi0VaskSacSF9dFCKOQ8vxU2/u3mOdAorPIz8rzNYjP8L+2N2q5\npj0JyYrr24wbTSRtQ1TsXtkxACQdAfzQT4FKQoWw+G5ER4Vv2r5sGHMtSxg5axM3VfsABxPGxcKE\n9/dhD2hAL2kxQitwS8Kg+0SbPLYm6SOS1it5ev32+bEHCHZL+pLtPRqsaSQFtP9M5Mt12IiILnSY\nSvRSHrKYejJ80kOXjApVY65HQvQihFjmoNYzx0najR4hyeI9WgsYM4MO+HnFmHsJcXH6nIt8im1L\naurBuoK4eNfvgF9DVE7+mZB4GTOKx2MvYPPy948kPt/Dbf+g7DaUvpc/s72DpBcR4sDXS1qckAlp\nw+HAVyR9n/D0LUYIwDZuH1bhY0RC9xyoZX/ZEeb/iJD2mpVtRxNe4TYpChOSYvi8t3i2d5D0ISIU\n+3Xb9/QfPddc/2TusOi+AIoeyW9lgAdK0svKPvMSRslQ9NSOUrT/qt6YmThv3Wb774OMuUKTDhBP\na7imERPQJrQxV2H2efivtbHzED10k3EkDbpk1JC0FXHy2bIk/1dZiqjmO2zANKOVezMclpfUER39\nCvAPosMDMEvdfdOGcx1g+/e1sYcRnoZTCamPsQ5lLA0sSSjD79bJ5dKcOoJDYZlizP0G+IykY4nP\ncBegcVFLSTR/q0LAeSUiHDmX4HRDJmJF6eW2z5JU1fp7OvCMcVrPaPESwiP2aqIIZAVCjmbYSNrO\n9ulEz99e+4gIXR4A/IwIsf6jts9Stv/V4E8uRhg4dU/7VOA1kp5NpGjcPWCep/d7seSnsHxyAAAg\nAElEQVToPafBemAEBbSBI20fNGBtH284VzJKpEGXjCZXE3pOzyLu8Ko8QFQ8DmK0cm+Gw0eJ5vXL\nE3eqb3Rpvi5paUKTqZHwbs2YW6nMuzqwh1v2uh0pyt/9agll7q9oy/Qd5lTBHwrXEEbiZoTkwc+A\nZcv2vpTKVgNnu0iUlAvtvyStJ+ks4A7b72y5pn3oUVHK+Bl09xbPr8oFfGOiUGLSK/EXr9wuwLsI\nPcLfEwVUX+tX3dlnvncQBtlyzD4+O5Xipw8Yfhnx3X8G+Jhr+UdlrQcTaQeDeL/ty3u9KGk14BAG\nF7b8VtKRhGbdHPInJU3lOCKHtwkjKaA9ryTVP6Pa2rKP6ziTOXTJqFJCoi/okny8MHB/rxNEj7lG\nLPdmJFDIZfy78x5KEvQeRNunP9m+ocVcbyFETf9JCJo2HjvaFINuu/KYSVwcXjncvMUy7+pEmOtT\nA/a9DdjU0S3kw0QruQeIVkhXSZoB/Nb28i3XsD1RlTxXRel4FSEUL+0HgF2BZxKtrL4P7N82JDlR\nKAbNu4mK7QWJtl/HVcObqnQyaDHv7YRkzQ3M9jZNA3YZVJQk6R5m9zHtdh5aFHiF7UXbrKnP3zun\nQS7f4kRBxnTgDKLArGOEbQMsBKxj+28N/+YbgS8T+YRVHgf2tX1sw3nq8kpd8SSV1XmqkAZdMupI\n2sf20bVt8wGH2P7gEOZbiMib2Zoh5t5MFCTNTzT/fhvhndvDNZHcoVzoRgtJzyM6duxsu1HOjKRN\ngK2IVkZfsX1L5bV3AUfZ7nt3L+lk27uW3+cjvLXrVr93SafabiQzUZt7BnEsLUd0/vheJ0dyPOj2\nfZfw8uIefguocaEYBI8R7b2OJ7xFVRYmvFKtJHoknQa8tYt37WmDwpuS3j7ICy7pHbZParOmPnOd\na3urBvstAXyO8J51esma8NC+cwhG76IMU0Bb0iVEnuFcosmF6cD2tpummiSjQIZck1FD0g5EY/IN\ny0WzylLECau1Qcco5t6MA78h7r4PI7ozLF7u0jssQuTnjXVYuSu2bwT2lHRFk/0lbU7IOPyX8Mzs\npZDhuAs4gfDYNAm9zwrH2X5Y0pVdjPh/N1lTbX1rAhcRF8y/EGGjQyVtU97reLA9ES6rcieh1D9Z\nL5g3Em36HiNCyBsxZwh/wbKtLT8Fjpf0s9r2zRisIfchSc8hwvhduyY0NeYkvdL2j/q8vjKRmzpo\nnrcA59reSdJeRJXuNODmoRbpOPTvThzK2AoH9Qspw/jLKyVp0CWjy3eJu/FOwnCVB4C3NJ1opHNv\nJhCdPB2I91fPU1uE0PSbUHh2265B7EeEVC8o+WBHElWc6xOG7Oa2Lx3CEp7osm0o4Z5DCJHiWe3b\nSh7kRwlP5JhRLuD7AotJ2r328mJ01/6aLOxX/Yy70fQmocbriP+hVSvbptBMrHojQrvu4GLY/ZDw\nIF7eRrKkcJSk7zK3B2sKkT/8RprlZG4AHFKMo3OI3s6tb1RGmkHGXNlnKN9fMoJkyDUZdSSt7Lnb\nzkwFlq5XlXUZOyq5NxMFSa+3/d0B+2xr++x++0xUVNO5KiHmfxAht21sNzJSJF1PFGZ0eD1xw9Bh\nCvB2260qQSV90F00/iTtZ/szbeYaCSRtRkjW1L/vB4BrxzMUPBGRtI7tq7psb9WaTtIiwGsJT/iL\ngB8RBtVF7iHMWxv/GJH/Wr/ReITIgzvFDVqIVeZ7cVnL1oT+49lEa62/Np0j+d8jDbpkTChhtnqH\ngI97QO+/0cq9GSkUSvQfBqbb3r+E8DYjdOn+5y++kk60vWdt2zeIXMGHy/OdbX9jwDxPEIZgrxye\nacCytltFHSR90vaBtW0vJxLGt24z12jT7cYomRNVWtPZnm+Ic8xPdDTZFtiwyU2CpHeOVhGNpBeU\ntWxDyDidY7sekh80x1Tb3bzayVOINOiSUUfSMYQ47hRmt4dZgggnDFIyv57ZuTcwu+VXhwWJZNxx\n0eiSdA4ROrym815KEcD2dUPmfxFJ9xIyC9UTzUrMFlCdCqxhu69YqqR32z5uwD6tL6rFeDuRyPHq\n9AdeGtjM0Xt2zJHULVF/QeAh27uM8XImPOremu4J23013QbMuQFxs3hJkxszSU8fVGQgaYVB1amD\nijlKaHgb24cPWlNt3PeJPLi5vJnJU4fMoUvGgn/aXlbShoRq+i2SVqSLQn8XRiv3ZqR41PYakqqJ\n/b8jDNj/eYMOuBv4G3N61qph1ulE4cwgtpX0KFGB2qu/Zt+euB0k7U0kmV9s+yelcGMHorhmJhEe\nu73fHKPMcoR0RQcROYfjYmBOVNS9Nd3rKa3pWs71GyK/81tE7uSniQr6zYhc3UHsLukT9WrbyvxT\ngXcwOI9uR/qIIdv+o6SHGqynzmnA2iU38w7gLNvXDWGeZCJjOx/5GNUHkRi/ePn9MKKScAZwy3iv\nbQTe26Hl54cr2w4mDIZxX994P4AtRmifdYjKz5uIdmkfAJ41xDX9ltBGBNiyxz4LjuNn9uwu22YQ\n2ovj/p2OwPvbmfAyQXS/uJgwVl/acPyWhED1Y0Rx1L5EZ5OTh7GmvcvPVYkowk7l+W4Nxz9J5M/1\nfTSY5wlCrPzPPR63AY8P8/NfnBB8v4kwMFca72MiHyPzSA9dMhbcC9whaR0iufcvRAhpMlftdThP\n0XR+6aL3tAnRKLy1HtpTEdvnj9A+VwFXEZ0rVidyis4sIsDnEHlFTcWYj/Bs78SaRKFNndcTAspj\nju0/ddm8ACHT81Rga6KH6xSim8P9hKdtR6J7yCBGozXdDElrAV8FLvXsKu61G46/jAY6bQ3muZ54\nX/3m2bLhmmYh6RmEVNDORGh6GaKjzaVEG73nEG0Is+hiEpM5dMmYIGk+z06CXwFYD/iJ7aZN7Ccs\nkhYkhHM7qv4XuqGSezI8Suh+2/JYwvZAuQpJWzPbU7wIUNezmwYsY3v6iC62IZJuYW5V/qWBM1zE\nlSczkra3/W1Fx4/9gefa/mdbEV9Fa7qdgU5rul2H+vmUqtL9iIrUjxIFXHsDG9jepMH4jTxYp+1l\nHiDtIWkr2+cO2GeLJjdBtTE3EikFfwU+T3h7H668viPwAdsvbDNvMrFIgy4ZUxRtjeZz6X36VEXS\nBrZ/Ot7reCoiaS3bc/V/lbS0e+fX1fedQSjnv50IP1WZRrRf22vYix0Ckg5nbq/hXS08kBMaSZ8C\n1gBeSXitziUEk0+w3agHcm2+UWlNN1KUwpuXAjNt/6LB/psSN4h3E51V+ko7NVzDlYQHrqv4saT9\ngb08TsVlyciQBl0yakjaich9Otf2xZIOIO5+5yFc/dt7iOrn44WkFxLJ04NYzfZyo72e/0UkXUv0\nNj3P9pWD9h8w15q2r+2yfbmRuJAOcU3z2H5M0qK2/ytpFeCvVY/KZKfI+9xu+44i5LwaNBOwHTBv\n69Z0ZdzmRD7Zq2zfXwouXgt8yc106B4GPkvkeVaLfO4s3sdNgR96gJSKpFcTxRj3EOHVR4jcwt81\nfS895l3K9r/6vC5gAdfaDiaTizToklFB0juJsNbvgVWI0MqniWqrBwiF98tsv2PcFjkEJM1L6R9L\n72bVU4A32m6d65IMRtJyRKXeZkT15z1E+6Zbx3NdI4WklxL5WH+w/erigToSONH29eO7utGjl+d1\niHPt5ObdTJB0HvB92yf8f3t3Hm7rXP5x/P05xzEd8zGGDImo0CANZkmFlEZDog6SoUnpx2UoKZSK\nVCpFGYpQZI4MaTAUEokypCKZpTJ+fn98n+2svc4e1l57r/WctdfndV3nOms961nPuXHsda/v873v\nu+HYusButt/fwvt/bPtt1eO3UP77fYSSxN1THT/f9ptGuc7FwBG2L6oqYw8Glm0lhlGuO66ENXpD\niiKiU94DvMT2XyW9ArgC2LDa3I6kgymJUU+x/US112fEBq+S2hlnFS1oWDk7T9IDlE3eR0j6iu19\nagxtohwFfJWycR2X2bVHUm4ljqkdx5xC0seBn9n+vaT3U+a5NpoCrMPgEV5tG0syV7m4MZmr/I+y\nN7OVZOrvDX/22VXy1txGp7kp+lD+Zvui6jrPSDqQpqkhkhb02Mcd7g18b2Cri+27JF1Dmac8rmQx\n5hxT6g4gJq0/DlRM2f4t8Gs3NLW0/SjQk3uCGpM5SfNJOlDSryVdL+kHktZ1iyOtYuwk7SNpP5V5\nl+dTVnxfPUmSOSjFQkcCjTM8p1P2/PWq9Zg1z/kB4MUM3dqjLotWq1YASFoC+DKzGmCPpnn261AJ\n1xMtXGfQOS630O5pOmeHFmNqNFLCGpNEVuiiU/7T9Hyo/RuTYTTW94BNgJOA2yiDwr8g6Xu2v1Nr\nZJPXEcAvgEOB0yd6b1l1q+tFtm+ayOuOwX8kLUt1S1/SapR2Gj3bWHjgdmTlPOCu5turkkYcA9hh\nX6G0wVmY8u99DUri2er4t2UkLc+sKTYLND2fAqzZwnV2krRZ07EZ1S1TqEbcUcYgjsWiklYY+KLZ\nRsIaPSB76KIjJN0PNHYiX4PSyHLAVOCVtqd3NbAJJukR4OXNvcM0xAzTmBiSdrZ9fJvvXZOyt2kk\niwEP1dUiRNKClP2mA6snSwAXUebf/n3YN/YISZvbvrDuOIZSJZUvoHwB/VWrXxZUZk43fphqqOe2\np45ynesoVb/D9aGbBrzR9itbiavhujOA0yltegYlrNUdlJgEskIXnfJfyjD1gVW45luQ0ygzUHvd\nuTTsn2nwXIWkpFfkh+bEsX181XZka8qYrNspI8Fa2dx9O+XDbKCP1wbAXxj833Auyt/fWlT7o/YE\n9pS0JCW5fErSZPj/BeBAlXnH11PmOc8x1bu2rwGuGXguaWvbZ7Xw1tMpM4FHSsRmtnCdM20fMtIJ\nkn7awnUGqboJbNyUsF7N8IVd0YOyQhcdIWk726eMcs57bP+wWzF1gqRDKdMGrm44PJ3SruVyyjfz\nTWxvWEN4k1LV8uIiyofRXZQGwfNTxkmNeptU0kq276ge7217ttmZkk6z/a6JjXx8JH3f9o51xzFe\nDe1YVqck5dOAy21f0eU4zgK+a/usqvigOeGaAizpFhpMS1rN9p8m4JyHKKPQGvt0mvLF+G7g1NEK\nska49kKUFbqB28CLAEfabr7FGz0qK3TRKTtVt45+Mlyz115P5irPp/ywXanp+F8bji3Z1Ygmv0Mp\nUwHOGzhQ9TLbn1LNN6KBZK6yXPPrKtMn1ht3lGNQ7ds7kNJQ9n/Al2yfUb02H2Wv5laUyQg9zfbD\n1cO/UCo/3wccIOko25/oYiiXMavy9CLK/6+XNbw+BXhzKxey/aeqvczSwH22/wPPtTBZGbikxZYz\nJwL7uanxusqYtBWBgyQdb/uyId47LEn7Uv6/EbMSOgNpfj6JJKGLTtmPsgfoUkkPUkrvf9z0YToZ\nXE3pXzVsVWu1ohQT59LGZA6galDbzv6y2ySdD1xMuc26GrAdpXFxN32Icpv1csrYqZMl3UaZg3wW\nsDhlTnDPk3QMpWnuOyj9BE8A3m/73m7GYfvLDY9/I+kfbphlWn0hbanRcbWX9iHg08APq2M/AN5F\n6ZP4WUk72T59lEsd3pzMVfE9C9wuaVdKAdZlrcTVYDHKnYONgOur/18mrE1MzBnStiQ6wva1tvez\nvQawK+WW2OmSfifpAEm93IKh0QGUxsmDSJp/4LGHmEQQ47JQ8wHNGq80Ji6zQz9LmS38wer3o4A9\nxhnjWL0TeKntbVxmh+4KfAG4lnL77RW2e7bKtcmulNvkb7G9uu3Du53MNZP0Ec8+mP4pWv978Cxl\n7uvxtv8r6cOUUWSfBWZQVulGLbIZrejF9hO097l9V/Xeiyh/zwGuo3zxjkkiK3TRcbZvplS4flaz\nhqkfK6mlYepzuPcx9EbonYCvdzeUvnGxpJuBmyhfFF5IGV6/eTsXs/1LSTe53jFbtzU0TMb29yV9\njrLZfq+qKGIJ2//qclydsOVA89y6SdqeUiSwQbXHrNGSlBW2j7dwqZ8NJGNVy5lDKFMiDqpev0/S\nqC1CJM0/cLt2BIu1EE+zJSX9m/Kl52pJf6J8/o9YdRu9JSt00RGShtyDZPtO21+yvR4wGQoFDgUu\nkfRMw69nKZ3+owNs/wJ4I/A74E7g28Bq7axgSXqdpDuBU6tDf6X0EXzpxETbsqHmjv7I9gerZE60\nViU5xxsqmZM0l6RWZiRPtJ9Qqu0Xpeyha/wFsG2L11lC0gJVH7tTKYnSXk3ntLL14gMjvShpL8oe\ny7H6DPBy4Ebb51O2FXwNGHEUWfSWVLlGR1T9lL7N8NVav672hfS0ak/L1ZT9MwOmUDbtH1hPVJNf\n1U/uQdt/G+d1rqHseVp6YEO+pJWAk213bczWEH3MhjRaH7NeUDXOPYxSZTmwQX9B4BnbS9cU0yrt\nVo9W798VOJKy6jUNmGn7hIbXPwUc2kIfumcoLXSaV/2nUJLOJ4FNbf+++b2jXPcO4ECPfSRa9JDc\nco1OuZ/SUqJ5g+9Uykbcfap9K70+Iuu4oRJTSafVEcxkJWlgnuVfKUPG5wNurhpYQ0mGtrN91Rgv\n/QvbR1ZVgAPqGLN1MWVlZ7g+ZvNQVlUmg/dS9m69itLz7b+UNj83j/SmDttH0kHDVeSPxva3JF1O\nmQZxve3b4Lnq1AMoyeuHW7jU9ZTels1j0J6grEaf5zI2cawurn4NImk921e2cb2YAyWhi0751EjN\ndCVdQNV+onshdcRx5W7YINMpH1I7dT2ayeutlD2J+9h+uvp3/nPKB6ApKzwfp+x5Gos5ZczWQbZ/\nPdIJkiZLUcTlti+U9Etg26ow5fIqITp/lPd2yl3AHlX7m2uBM2w/2OqbJX2TWZX8zyXl1Ze9T48h\njk/avmQM57fqMeBcSTcwayVYwGuAXt/HHJXcco3aSDrTdk8Ph64S08YPYgHrAhc1tkWI8ZF0K2W+\n6rPV8xcB9zb0NGur8a6GHrN1IfDB8d7OHWMc5zBrgsWPKa1Z6hxW3zGSvkrZo7YXJVFfk7K4sJXt\nReqMDZ5rM/Qxyt+FUynJ3WytRJre8w7K36HXUeYMnwmcb7u2iSONqv2JU4GHGw8Dr6/2M8ckkIQu\naiPpfNs9vSlX0gs8+xzXhYCv296hprAmHUk/sD3iBnVJ37a9yxivO8NlLBKqxmxR9ipN6XYrDUkL\nUBoLb0P5UnAZJTG4oGo5MSlUSfS2wA9sP1Zt9N8MOKWuZuMDFcSS3kTpB7gJJbE+n3Jr+AngENuP\njHKduYHXU/4bbkYp3DkT+Gnjl49uk7TCUNtbJL1w4PZw9L5UuUZHSHr7KK+vQ3vl93OU5mSuMj/w\nhm7HMsm1snKzTBvX3W3gge37bD9l+z5qaDlj+9+2f+gycmxV4AzgbZTmx6dLmix76L4J3O0ysxbb\nX7X9lrqSucoPJf2ZMpHjOmBl29vZPtH2XsAtlARvRLaftH2e7ZmUVcijgHWA30mqs1XL4pJ+UE0d\nQdJKknZIMje5ZA9ddMpXJG3N0NVai1M6lvf8GKOqeqx5mXspIEURE+tpSVvaPmeoFyW9DRitf1fj\n+R+k7LdbQdLrm15enCGaF3dTtSJ3NnC2yliwjSmrPiPOR+4RKwF/aD5Y82rRCpTK25OG6UG4NOXW\ncMuq7QGXSfo1pQhkjXFH2b7PU1YLn6hiu0PSCyQdbnvfkd8avSK3XKMjVIZM38jw1VonTYbqKklH\nUKrSGj1ge7YPrGifpNdS9rZ9AfgRZQ7o3JQeYjMpxTUbjFSIM8Q1d6HcHjuv6aXHgSuqlbquk7QB\n8KztKyUtQvlnXpBSODHicPdeIGkP4BWUsVqNG/TfavttNcW0su3ZGv9Kkm1Xt4kXa6UqX9J3gJ/b\nPlnSRpTRbU9Q2oYcO9Gxt0LSPra/2HRsdeBK2zPqiCkmXlboolM+2tiHabKpNuVvDtwKXGv78ZpD\nmtRs/0rSTEpvw4OaXn4S2G0syVx1zW9XhRSz7U+rEqm6fAYY2H95MuVW8qcpY6j2riuoCbQepXXR\nSg3HRI3VlkMlc5X3ASdUt4cfa/Fy91bJ3MKUuavH2f64pH0mItY2LSpp+sDPKUnTgAOByTB5JCpJ\n6KJTJu380mr/35WUBqIA/ydpfTeMboqJZ/tUSZdQbpWuQanauxU4zaPMwGykMn7uH7afBFapWlU0\nmkKZrbob9TjW9t8kvY+yOX9N27dJ6vk9p5WjgKub+zdK6trkGEmvofw/POJplBXEE8Z4+YHbxsdS\n+nAOzEutc8/6t4FLJf2N8s/0Gsq2ghH3OkdvyS3X6AhJ1wP7Axc29mWaDCSdS7mNciql59yhwH9s\nd3ugezSQ9HLbv2vhvLuBI21/RdLHgKFGTrmuqQzVbfx5KLeSP2b7m5JWAX5o+5V1xDTRqi9FT9u+\nrsYYjqH8tx/uQ3AqsKvtT43xurtQkriHgXdTbuHvDnzY9oLtRzw+kuYFtqLMrr2PMmu2rUbKMWdK\nQhcdIem7wEWU2yvPAOcAlww1VaHXSDqpsSVJdfvidNtbNxybOln7iNVN0s+HODwd+HsrfQ0lPR/4\np+0nJC0DbGz7lIbXpwAfqBredl3V+uJNwF22r68aH29K+Xn9vTpiGi9JA4n2QIHAi6rHjR9Ab7Z9\nYRdjWnikNiTV34PVbd/UrZg6qVqVnAk8D7gd+JrtOqdzxARLQhcd0dTfa37gLZRWHv8FfkpJ7p6q\nMcS2SfqG7d2bjh1r+4MNz9/rzE3sCEknAJc2HgI2oGzw/m4b15ObfhBKWt723eMKdByqXoZbM+vD\n96zqFnFPUplVu5/tw6rn61JGgF1LSeoWAjapsShiKiWJXpRZ82UXBvayvWob19uWwcnT0d1MVoeI\n593AcZQCoDspK8DrU+bLnjnCW6OHJKGLrqkKCT4GfICywfjrtvcb+V1zHkkPUkZONVqVsp8Lyt7U\nNeeErveTkaRlm/fMVataZ9jeaozXGthHtCyD9zhtZHuTcQfbhmpSwUWUROcuyofv/MDbenW1SNIN\nttdqeL4ScF9jMZGk423XMgpQ0snAypQkbuA25MrAyWP9GSVpb2Af4AfMSp42pjSI/sZExTzGmM6g\nTD/5V8MxAYelbcnkkaKI6AhJa9m+oar02pZSLfYq4AFK09ZTPMrsyjnYY8DfGdxjr7GdwVzA8l2N\nqI8MUwCxOmWj91j9jLIiczOzbv9NpfQlq8uhwM62n2unUhVu7E/vVrkOauNj+44hzqlzi8KvbG8v\n6RXAk7ZvlDSDkpiN1brAKk0rql+RdPBEBNqmSxuTOSibRCWlOn8SSUIXnfKlqhfdmykfmGdTPqgu\nmARFErvYHrHru6TNuhVMv6lu3zXfWjCleepYzdu4ctTwZ7ywndgmyKWNyRyA7X9KarmSdw7UXEk8\nlOd3PIrhLV0lc9cBh6vMm50G7AT83xiv9Ythbo/PM74Qx2W5xl57kp5HuVMypmbJMWdLQhedsjFw\nDeWH4bKUH9YrATOYdUujJ42WzFXn/KwbsfSpjzH7GKaHbD/axrWOkvRS2zc2HV+OWe0num22KRWS\n1gdeW0MsE+V+SbsMV2hSNRuuM2G9nrK3d3PgW8CvKP3/2rmLsIKkTYCrKLfKX0hJnur8vP0acE6V\nyM1X/boWeGuNMcUEyx666AhJB9g+pOnYesCulI3CPwTOtP1gHfFFb5uoooGqr91aQGMyKGBJ29Mn\nItY2YlqfMu/0JmYlBEsBm9v+TR0xjZekNSgJzo8YetLHhsDLPYfMFq1afKwB3DRU4+lR3rsopaHw\nm5i1knwGMLPNLx0ToqraXZfyZeVO29c0NhuO3peELjpC0ny2/1s9ngvYglLVtgXl1sNvgR/Y/lJ9\nUUYvmsiiAUkHUBKNxg/tqcA2tvecmIjHTtIKwHZUH77AibbvrSueiVAlqicyeH+pgPuB7ete1a4K\na5ZkcHHMtrYPb/N6yzArefqXpBVt3zn+SNtTxbMCJZEesLXtj9cUUkywJHTREZI+RJnlui2ls/9i\nlI3RP6Q0SB1u1E7EiCSdQ6mQnq1owPaoRQNNe4nm9RDD2CVNm1Pa6kh6HbCg7QvqjmW8qqRpU+DF\nzJr0ccHAl78a4/oMsC+zpr8MaKnBtKT1PMpsakkn2N6p/SjbJ+lYSmHafcBAL1ABS9mer46YYuIl\noYuOaNi4/mfKRIVTe7XlQsxZJH3c9pFDHN+3ldUUSadSZqP+u+GwgacorTRqbX4t6Trgiy7zQPcG\nDgMupKz0fLTO2CarquBkc9t/aDg2lVJtfFwL7z/N9ruGeU2UPWy71Th95FZgneZGypI2q3tlNCZO\niiKiU64F9rR9dd2BxKQz3qKBVwE7Mzihg7JitIykJ4CPj3Xv1AT6VpXMrUZJ5nazfaKkD9QUTz84\nl6YiGNvPSDq/xfe/Q9LnbQ+qiK2aqp9K2WrynwmJtD0XMHif6IA/dzuQ6JwkdNEpO9q+ZeCJymDx\nRydBy5Ko38WSbmaIooEW3/9h22cP96KkVwOfBT4x3kDbtJCktYHvAj9vmDjyspri6Qd3Az+SdG3T\n8fWBVloQbQtMl3T4QKPeqqL0HGA1yv7hf43w/k47EjixWqkbIGATSkFKTAK55RodIamxv9GtlErC\nd1D21UG5xXVajasg0UMkvbFxD1k1j3V7OlQ0IOlMtzAXthOqhHJfyj/X/pRxVLsDr7O9cR0xTXbV\nJIUnGFwcMwV4le3Vx3Cd9wCvBr5PaYMyN/CWupuoS7qG0gj9VmbtoQNYy/bL64kqJloSuuiIag/d\nA5QPpOOBlzO4p5OBA2x/robwosdIug3YqnHVt8N/3tm239KNP2uEGOYB5rP9cJ1x9ANJq9q+dYjj\nzxXQjPL+dW1fVT3egbK6+g/gDQPXlfRK280rgF0h6Re21x/i+JD/3NGbpox+SkRbngA2tv2thmrB\njWxPsT0FWITyTTaiFb8GPirp4CrRmY2kBVq5UDUYfqTXl6T0t6uFpJUl/Zyy59W9868AABZqSURB\nVOoBSfdI+mTVRyw6YISk5t0tXuIQSTtL2pHyufpzyr61V0vaUdL7gSMmINR2XVi1LWlWS6/F6Iys\n0EVHSLrA9hsbni8APO6Gv3CSvml7t1oCjJ4iaalq/NU6wCcpt1jPbjpnZ9vHt3CtSym3xJpnh04B\nFgfeTxnKfujERD821e2xJ4EvUDbqLwBsCUy3/bE6YuonVVXqFsCewGYtti1ppTK6pRYonSDpRMoX\n6LubXnqB7TrnFscESlFEdMqg8njbzRWFUDa0R4zK9j+r36+R9C7gB5IOZFbl3lzA2pTb+6PZkKE3\ngj9JtR+P9ubCTpTnAys29Wa7StJhdQXUDyQtQZlasSvlv8G1zNrzO5rPAp8ZruirWlXefyLibNMj\nwFcYXNkt4I1Dnx69KAlddMrzJC003KgbSQtTNrRHjErSgrYfk7Q85YPpbZRpEfdUp8wNvKDFyx0A\nfL7ufnMj+CalEXfzbNPnRptJ2tL2OV2NapKqWt7sDmwDPEyZXLG27RurqSSt+OpIFfy2n5B09Pij\nbdtnbN/XfFDSeUOdHL0pCV10yiXAKZLe07w6J2k5ykpKfphEq/aR9BSl+vN+YMvGSREAkt7b4rW+\nNQcnc1DaXPxSUuNm/OnAjGoesoDVgaXrCG6ykLQHsBtlZuvPgR2Asyh/P24EsH1DK9ey/VxLEkmf\nojSGfrrpnPsnKPR2/FvSwcDctverEtXNgS/XGFNMsCR00SmHAZcBd0u6iMHDuDej9BCr8xtr9JYD\nKHvejqZURw/VpPWkVi7U+OE7h7oL+BVltWg4tVbgThJ/BG4GbgEOsv1HAEnj3Vi+IvCV6gvIecAl\nc8AXiJMpP3uvh5KoVr1Bj6EktTEJpCgiOkbSfMDBlBmCS1aHH6H8cNlvuNuxEc0k3QO8w/Yv646l\nEyQtb/vu6vESQyWdkpaz/bfq8dIT2Xevn0lanPIzanXgCkqrkR2q16babi6eafW681D2qG1FuV1+\nqu3LJybqMcdyqu13N47Hq6peb7K9WB0xxcRLGXx0hKRtgam297W9NCWhWwZYzPaeSeZijGZO1mSu\nMrOqrhxyBbGaK7rLwPMkcxPH9v22j7Q9k7I6+j9JX5L0OtqYFiJpwerhysAbgHdRCnY2kHS8pI9J\n6vbdsb9Uvzeu4HwIeLDLcUQHZYUuOkLSMcCbKbc1fgz8pOY9JBGjqj7EF2ycStGlP/dZBn/YDqmu\nthf9produRuwj+0ZY3zvyZQvr68DTgOOamwoLOljwGtsv3MCQx4tpvUohR9LAVcDG1NGyW1v+4xu\nxRGdlYQuOqoaY7QNsDVwL3Am8GPbf601sAhA0nXAF4FTgL0p7UouAO6y/dEuxnFJFcNwlZJzA++x\nvWm3YorZR861+J4HgK8DX7d9zxCv7wd80vYiExRmq3FNp/QzXIEyxefCgVv4MTkkoYuuqea7bkNp\nOfEkJbHL6K+ojaTdbX9D0mrAdcButk+U9AHb3+liHBuOtr9K0nq2r+xWTNEeSS+zfd0Iry8LLG/7\nN12KZyngnZTq6Wcpd03O6IHioBijJHTRNdXooiWqjv+rANvYrnMcTvQ5SfsCF1LN3rS9ZXX8GNt7\n1hpcTCqStrB9bpf/zLcD36M0cb+fktAtTmkwvGPztJXobWlbEh0naV5Ku4kdgWmS/gN8jdKKIqJO\nlwMHVb/vX62e7A68uNaoomdIehXww9FOo+xf69p0HElrUEbcHQ0cPXD7V9JCwPbAcZJebfv2ES4T\nPSQrdNFxkr4BzKA0E74TmIeyKXcZ25+sMbSIIY005SQmB0mL2B6y1181PWIx4A7bvx/lOlMp+x+/\nwfCFLVOBHWy/fxwhj4mkbwNX2T5umNffRGnQvUe3YorOygpddMOTtt/VdOx6SUnmolbVNoANgWUZ\n3MbpjcB2tQQV3XKrpL1tz7a6ZvsXkt5KqQidd6SL2H5G0keGKoBoJOkP4wt3zJYZLpkDsH1+NRc5\nJokkdNENNzcfqHpurVZDLBGNzgNeAvyZWasrU8kt137wDHCSpHcDH7T9z8YXbf9EUksVrs3JXPVF\nodEU4B2U6tduubuFcx7peBTRNWksHN2wqKTPSNpC0jursv1bgOzdiLqtBKxseyPbG1e/NqDMuYzJ\n7XTKGMK1gT9K2mmIc1pJipB0naQdq8eHAU81/XoC+OoExDwW0ybonOgRWaGLbjgC2Af4ErAcZR/d\n0ba/VmdQEZR9nUsCzf246p69GZ1n25dKegnwBeA71WrdLg392VrdZP5Z4LfV45Or389veH0qpWVT\nN+0saVNG/mdYFsgeukkiRRHRdZKm23687jgiqq7+6wLNja5Xtb1cDSFFl0j6qu29Gp5vDHyHUsD1\nSdvflHS07b3buPbijZNxqluwS9v+x0TE3mIM1wM/ZeRm1VvYXrtbMUVnZYUuOq66FXE45UPyMWB+\nSXsDx9p+qN7oos/dQ1lBfqLh2BTK2LqY3J7X+KRhte4I4OvVat1jbV57aUmrU9qVACwMHAis026w\nbfiI7ctGOkHSz7oUS3RBVuii4yT9hJK8XdBwbE3g07bfVl9k0e8kLdr8paJqQ7GG7RtrCiu6QNL/\ngK1sz5bUSNqIslq34ljn50o6mjKZYQrwn+rw4pR51u8dV9ARI8gKXXTDZUPMQ5wf2KSOYCIaPCpp\nS2BRBq+m7AWsWltU0Q37AfNJWtf2VY0v2L5M0kuBQ9q47j22l5G0AXC37TskrQi8fdwRR4wgCV10\nw8KSXmv7VwDVD8pvAtfXG1YE3wdWpiRxA20rVmbWxvaYvD5MmRDytKTdml57lDLb91NtXPdZSTNs\nXyHpMEkHAQ8CewJHjiviiBEkoYtuOIJSQXY2ZRVkUeB3QNe6pkcM41e2t5f0CkoD7BslzaBUZcfk\ntgilbc1wRQMvB9YHZo7xuo8C/5T0SuDHwF3A9Or3iI7JHrroGklLUX6A3pf5gTEnkHQI8BPKaszh\nlF5h04ArbS9TZ2zRWZJ2sn3CCK+vAnzT9qZtXHte2/+rHi8HvAr4he1/tRtvxGiS0EVXDNM5fVfb\n3eycHjGIpLdTkrjNgf8BlwLLUFbu1q8ztugsSVNsD9tvUNI5wIK2NxzDNZeiFESsRulleDNwZhK5\n6IYkdNERkq4Dvmz7+1Xn9E80n0Jp7DmmCrKITpI0L7AGcJPtJ0Y7Pyav6kuo3eKHZPXl4HuUgq/7\nKQnd4sC/gR1tn92pWCMge+iic+bEzukRg1TVh7sBB9p+irI6t6Tt39UZV9RvpNW7ZpLWoBTYHE2Z\ngnNPdXwhYHvgOEmvzlaT6KSs0EXHVX29Fm3qnD4DmNf23+uLLPpd1Vj1fuB9tp+sjr0deL7tL9ca\nXPQMSd8GrrJ93DCvvwnY0nbGbEXHNO9riuiEfRuTucqDtNfjKWIiXWx724FkrvJ7YN+6AoqetMxw\nyRyA7fMpt2IjOia3XKNjJM0EXgusWVWMNVqCUvkVUacFJalpn9QelAKJiFbd3cI5j3Q8iuhrSeii\nk74LrAg8n9l7MN1MVkGifj8CfinpN4CBjYC1SY/EGJtpE3RORNuyhy46TtLiQ9xyRdI8qSSMulWt\nJnYEXgDcB5xh+4Z6o4peIukZ4K+ULwXDWdb2PF0KKfpQErroCEnz2f5v9XhJYIGmU6ZQSvkP7Hpw\nEaOQtLbtjKaLlki6Hvgpw0+dmBvYwvba3Ysq+k0SuugISXcAX7T9NUkHAJ+mfHtV4+/pQxfdJunj\nwM9s/17S+ym3WRtNAdaxvVrXg4ueJGkj25eN95yI8cgeuuiUbYFbq8cnU5prntnw+lRKf6aIblsP\n+DOlmvUB4MXV4wEGnqkhruhRrSRqSeai07JCF10habrtx5uOLWj7sbpiipA0F/CS5turktaxfU1N\nYUVEjFkSuphwkuajtCUZzXa2D+t0PBHDqbYGHGj7xLpjiYgYj9xyjU5YFbiOWXvlhmMgCV3U6eLq\n1yCS1rN9ZQ3xRES0JQldTDjbN0g6yPawkyCqwdd7dzGsiKE8Bpwr6QZmtZwQ8BrgRbVFFRExRrnl\nGh0hae6mcUpIWh54HvAX2/dLmmo7m8+jNpK+SCnQebjxMPB62+vVE1VExNgloYuOkzQDOAXYrDpk\nSof+XW0/Wltg0fckrWC7eYoJkl5o+7Y6YoqIaMeUugOIvvBV4AZKe4jpwAzgVOAzdQYVAfxL0sGS\nPgcgaS1JnwTurDesiIixyR666IY7bO/f8Py/wI8lrVJXQBGVk4FVgOvhuf2fiwHHALvVGVhExFhk\nhS664Z/NByQtALyshlgiGj1p+6XAHxqO3QK8s6Z4IiLakhW66IYnJH0fuAqYH3gh5QPzE7VGFQF/\nqX5v3Ez8IeDBGmKJiGhbErroGEkvAjYHHqL0+toeWI6yP2kH2+fWF10EAOdJOhlYStIiwMaUleOM\npYuInpIq1+gISesAVwLTqkN3AuvZ/kdtQUUMQdJ0YEtgBcps1wuBe9JSJyJ6SRK66AhJ5wJnUapZ\npwOHAv+xvUetgUU0kTSVMqpu7obD77b9hZpCiogYsyR00RGSTrK9Q8PzacDptrduOJbGwlErSfsD\n/wfM13gYsO2p9UQVETF2qXKNTnms8Yntp4B7ms7ZrnvhRAxpF+CVwFy2p1ZJ3FRg53rDiogYm6zQ\nRUdIepCqt1eDVYFbq8dzAWvaXqSrgUU0kHSc7ZlDHF/a9r11xBQR0Y4kdNERku4CrgCeHuaUuShF\nEit1L6qIwSStSGkg/MfGw8AWtt9VR0wREe1I25LolF1sXzTSCZI2G+n1iC44ljKS7nbg2YbjL6gn\nnIiI9mSFLiL6lqRrgFc3F+dIepnt62oKKyJizFIUERH97ApKW51m/+52IBER45FbrhHRz6YAF0i6\npen4mpTq14iInpCELiL62eLALxm8IicgxToR0VOyhy4i+paklW3fPsTxFWzfVUdMERHtyB66iOhb\nQyVzlTS9joiekhW6iAhAkoAtgD2BzTL6KyJ6SVboIqKvSVpC0v9RetGdBSwK3FhvVBERY5OiiIjo\nS5LWB3YHtgEeBu4H1rZ9o6S1ag0uImKMskIXEX1F0h6Sfg9cSqly3QFYHrjG9o0Atm+oMcSIiDHL\nCl1E9Js/AjcDtwAH2f4jgKRsKI6InpWiiIjoS5IWB94HrE6ZGPEG2ztUr01tHgcWETEnS0IXEX1P\n0obAe4FHgTOA9W0fVm9UERGtS0IXEVGRtBiwG7CP7Rl1xxMR0aokdBERTSS90fYFdccREdGqVLlG\nRACS9hl4nGQuInpNVugiIgBJj9peqO44IiLakRW6iIiIiB6XhC4ioni87gAiItqVW64RERERPS4r\ndBHRd1TsKelaSY9JekTSbyTtWndsERHtyApdRPQdSacBbwMuAX4PPAusArwB+Knt7WsMLyJizDLL\nNSL6iqRtgbWBtWzf3PTaksAZkray/dNaAoyIaENuuUZEv9ke2Ko5mQOwfR/wTsqM14iInpGELiL6\nzaO2/zTci7bvBe7pYjwREeOWhC4i+s39LZzzTMejiIiYQNlDFxH95mWSNhjlnDW6EklExARJlWtE\n9BVJzwIGNMJptj21SyFFRIxbVugiot98DfgK8PQwr88N7N29cCIixi8rdBHRVyQtb/vu8Z4TETEn\nSVFERPQNSYsBbxrtvIFkTtLLJY16fkRE3ZLQRUTfsP0gcK2k70satvBB0qKSDqT0qzu/exFGRLQn\nt1wjou9IWh74LrAqcAvwCKVVycLA84F5gH1sn1VbkBERY5CELiL6lqQXAm9mVhJ3N/Br21fUGlhE\nxBgloYuIiIjocdlDFxEREdHjktBFRERE9LgkdBERERE9LgldRPQVSfNKOlHSQ5Jul7RH3TFFRIxX\nRn9FRL/ZB1gXOAGYDnxe0sO2T641qoiIcUiVa0T0FUk/A95q+/Hq+SuAA2y/td7IIiLal1uuEdFv\n7hhI5gBs/xZ4tPEESS/telQREeOQW64R0W9WkLQ+oIZjCzYcmwvYBdi2juAiItqRW64R0VckPQuY\nwQldM9ue2qWQIiLGLSt0EdFvjgGOAp4e5vVpwO7dCyciYvyyQhcRfUXSksBDwBrAQ7b/OtQ5tu/r\nenAREW1KUURE9Ju5gD8CvwPukPQjSXM3npBkLiJ6TRK6iOg3nwGuArYB3gusDOxba0QREeOUPXQR\n0W8Wb+w5J+li4Lga44mIGLes0EVEv7m38Ul1e3XQLVZJm3U1ooiIcUpRRET0FUl/AE5rOrwlcE71\neC5gK9sv62pgERHjkIQuIvqKpKeBexi+bclcwNK2p3UvqoiI8ckeuojoN3vaPnakEyTN7FYwERET\nISt0EdFXJE0BVgU2Bx4Ezmyc7Tpwju1n64gvIqIdSegioq9IWge4kjIRAuBOYD3b/6gtqIiIcUqV\na0T0m4OBvYBFgeWAy4H96wwoImK8ktBFRL95yPa3bD9SrcrtSknsniNpaj2hRUS0JwldRPSbxxqf\n2H6KUvXaaLvuhRMRMX7ZQxcRfUXSg8D1TYdXBW6tHs8FrGl7ka4GFhExDmlbEhH95jHg7wzuQ3dX\nw+O5gOW7GlFExDgloYuIfrOL7YtGOiGjvyKi1+SWa0RERESPS1FERERERI9LQhcRERHR45LQRURE\nRPS4JHQREWMkaS1J8zU8f02d8UREJKGLiL4k6Q2S7pL0oKRvSDpJ0rnVrNfh3jO3pAOA64AlJC0s\n6RjKbNiIiNqkyjUi+pakE4FlbW9SPd8V+Cqwlu1bRnjfM8BKtv8qaUXgL7ZHHBcm6YO2j52w4CMi\nGmSFLiL62dNNz08FpgGbj/I+NTwe9VuxpLWAL44ttIiI1qWxcETELNOr3x+StBswD7AUsBKwl+0H\nRruApK2B5YD5gU1tvxHYFJhP0n7ABbZ/J+mjwBLAhsBJtr8haXNgL0piuT9wJnA8sANwB3CI7Uyx\niIjZJKGLiAAkTQMOBe6sDr3O9o7Va0cApzD6yh3AwcDGth+W9I/q2BnAF2x/rrreu4B7bX9Z0iuA\nqyVdCFwKnAhcC7wVWBz4EHC57Z9Iemr8/6QRMRkloYuIfreqpGOBZYC/AetRVsXObjjneOAmScvb\nvnuU690JnC5pR9snD3POzsDvJS1P+Tl8CbC87dslPQ5cOrCHr0r4vizpHkpSGRExmyR0EdHvbrX9\nwcYDkgZumQ64s/r9ecBoCd1ulGTwD1UhxGlDnLMC8GHbt1bPP9f0euO+vGOAlwK/pOzD+9Qof35E\n9KEURUREzO5O4IUNz+ehJFl/aeG904DXUJK0kyQ9f4hzHgA2ajxQFU4MZWnbM4EtgJmStm8hhojo\nM0noIqKfzcXQdyq+DrxT0gLV842BH9m+X1Lzz82pDK563d3FF4E/UFb6HgeQNEPSkpQVvM9K2lzS\nklWxxEDbEzVdb6akqbYvpOyvW7Dtf9qImLSS0EVEX5K0GWW/3JqS3ivpuT5yts8FPgF8S9InKJWo\nu1bn7E1ZrdtO0kLAroAl7VQle++WdIik3YGzbN9i+37gIuB8ysrfUZQK1lMot1Jvqypf30qpqt22\nuu0LsCJlpW8nykrhCZ37txIRvSqNhSMiIiJ6XFboIiIiInpcErqIiIiIHpeELiIiIqLHJaGLiIiI\n6HFJ6CIiIiJ6XBK6iIiIiB6XhC4iIiKixyWhi4iIiOhx/w90/tl0eZzvhAAAAABJRU5ErkJggg==\n",
      "text/plain": [
       "<matplotlib.figure.Figure at 0x118533310>"
      ]
     },
     "metadata": {},
     "output_type": "display_data"
    }
   ],
   "source": [
    "#your code here\n",
    "pollster_map = {}\n",
    "\n",
    "polls = list(set(filtered.Pollster))\n",
    "\n",
    "for i, p in enumerate(polls):\n",
    "    pollster_map[p] = i\n",
    "\n",
    "plt.scatter(map(lambda x: pollster_map[x],filtered.Pollster), filtered.Diff, \\\n",
    "            c = map(lambda x: color_map[x],filtered.Pollster),s=60)\n",
    "plt.xticks(range(len(polls)), polls, rotation = 90)\n",
    "plt.xlabel(\"Pollsters\")\n",
    "plt.ylabel(\"Difference (Obama - Romney)\")\n",
    "plt.title(\"Plot of the difference between Obama and Romney by different pollsters\")\n",
    "plt.show()"
   ]
  },
  {
   "cell_type": "markdown",
   "metadata": {},
   "source": [
    "Is the *across poll* difference larger than the *between pollster* difference? "
   ]
  },
  {
   "cell_type": "markdown",
   "metadata": {},
   "source": [
    "Answer: For this question, we can compare the variability *within* each pollster (*across* a set of polls) compared to the variability *between* each pollster.  From these two visualization it is clear that the *between* pollster difference is larger. "
=======
     "name": "stdout",
     "output_type": "stream",
     "text": [
      "SD from simulations: 0.0142173\n",
      "SD using normal approximation 0.0144078\n"
     ]
    }
   ],
   "source": [
    "# Standard deviation from simulations in 2(b) \n",
    "print \"SD from simulations: %g\" % np.std(obs, ddof=1)\n",
    "\n",
    "# Standard deviation computed analytically\n",
    "print \"SD using normal approximation %g\" % np.sqrt(p * (1-p)/ N)"
>>>>>>> 78f754b2a7dcc64bee2906766889a9cea64d03b3
   ]
  },
  {
   "cell_type": "markdown",
   "metadata": {},
   "source": [
<<<<<<< HEAD
    "#### Problem 3(d)\n",
    "\n",
    "Take the average for each pollster and then compute the average of that. Given this difference how confident would you have been of an Obama victory?\n",
    "\n",
    "**Hint**: Compute an estimate of the SE of this average based exclusively on the observed data. "
=======
    "In Problem 2(c), we are asking about the *percentage* of Obama votes from averaged across M polls.  Above we saw the variance for each poll is $\\frac{p(1-p)}{N}$. Therefore we can treat the variance at the poll level as $\\sigma_{poll}^2 = \\frac{p(1-p)}{N}$. Then, when we average across M polls the variance becomes $\\sigma_{poll}^2 / M = \\frac{p(1-p)}{N \\cdot M }$\n",
    "\n",
    "\n"
>>>>>>> 78f754b2a7dcc64bee2906766889a9cea64d03b3
   ]
  },
  {
   "cell_type": "code",
<<<<<<< HEAD
   "execution_count": 113,
=======
   "execution_count": 109,
>>>>>>> 78f754b2a7dcc64bee2906766889a9cea64d03b3
   "metadata": {
    "collapsed": false
   },
   "outputs": [
    {
     "name": "stdout",
     "output_type": "stream",
     "text": [
<<<<<<< HEAD
      "Average across pollsters: 0.0124\n",
      "Standard error: 0.0129669\n"
=======
      "SD from simulations: 0.00347033\n",
      "SD using normal approximation 0.00339594\n"
>>>>>>> 78f754b2a7dcc64bee2906766889a9cea64d03b3
     ]
    }
   ],
   "source": [
<<<<<<< HEAD
    "#your code here\n",
    "aggr  = filtered.groupby(\"Pollster\").mean()\n",
    "print \"Average across pollsters: %g\" % np.round(np.mean(aggr.Diff),4)\n",
    "print \"Standard error: %g\" % np.std(aggr.Diff, ddof = 0)\n"
=======
    "# Standard deviation from simulations in 2(c) \n",
    "print \"SD from simulations: %g\" % np.std(mom, ddof=1)\n",
    "\n",
    "# Standard deviation computed analytically\n",
    "print \"SD using normal approximation %g\" % np.sqrt((p * (1-p)/ N) / M)"
>>>>>>> 78f754b2a7dcc64bee2906766889a9cea64d03b3
   ]
  },
  {
   "cell_type": "markdown",
   "metadata": {},
   "source": [
<<<<<<< HEAD
    "Answer: Given the large standard error, I would not have been very confident in the Obama victory. "
=======
    "Answer: We see the SD from the simulations match the analytical results using the normal approximation.  "
>>>>>>> 78f754b2a7dcc64bee2906766889a9cea64d03b3
   ]
  },
  {
   "cell_type": "markdown",
   "metadata": {},
   "source": [
<<<<<<< HEAD
    "#### Problem 3(e)\n",
    "\n",
    "**For AC209 Students**: Show the difference against time and see if you can detect a trend towards the end. Use this trend to see if it improves the final estimate."
   ]
  },
  {
   "cell_type": "code",
   "execution_count": 114,
   "metadata": {
    "collapsed": false
   },
   "outputs": [
    {
     "data": {
      "image/png": "iVBORw0KGgoAAAANSUhEUgAAAnoAAAGRCAYAAADywR7QAAAABHNCSVQICAgIfAhkiAAAAAlwSFlz\nAAALEgAACxIB0t1+/AAAIABJREFUeJzsnXeYY2d5t2/V6aOp24vtrW5rr20MLsCCcbAdeiAQSmiJ\ngcCXEHpIcCcBQi/GlNBrCC1gjLGx18EVd6/LtlnvznjL9D6jfr4/3vMeHWnUjnRG0mif+7rm2tXR\n0dGren56yu8BQRAEQRAEQRAEQRAEQRAEQRAEQRAEQRAEQRAEQRAEQRAEQRAEQRAEQRAEQRAEQRAE\nQRAEQRAqxGXATiAJDAI/A34F3At8Czgvy23+CXgwy/a/BT4E7AF+Ym5rBq4G/hM4BrzOvaVXnJOB\nLwL91V5IFdgG/Bj4NfB94Dbgq8Bq2z7H4/PzHOBrwH05rl8D/Dvq85UEbgRuBXajPl8nVmCNQnl8\nFvhFtRchCIJQDpeiTkJX2bY1AFcACeB6wGO77mWok5udrcD95v9PA35g3ubjwP8zt78XeJuL664G\nH0U9V+Ww3o2FVJC/AuaAN9i2+VCv7TCw3bbdjednqXEDcKDAPseAQ7bLK4CnUM/fskVal1AamZ/P\ny1E/VgVBEJYsO1An5yuyXKdP3NcWOMbVqChPJodQkb564S2UJ2R6gf92ZykV4SRgFvhGjutvB55G\nRW6h/OdnKXIV6jnIx0EWisG3oZ6rj7i/JKFEGoGbqr0IYenirfYCBKEEPok6iX0A6LFt92Xst5r0\nqJ9mVY7txyNBVNqzt9oLccA/A03Af+W4/uuoCMhbK7ai+mHY/Hd13r2ESvIVVHYik8zvO0HIigg9\nYSmSAP4Xlcp9IbABVW/3jG2f/wSebbvuvcDZwKdRX5CvNbdfaO6/DfgC8D1U+uoD5va1wL+hIoPP\nBY4A3zWv2wF8CVUn9iTwJnP7qagv51uB5wOPAmPABzMex0XAp4ArgT8Br7Rdl2s9+bjIXMcc8Ftg\neRHHuwB1UtfP04WodGgSVSfZaz6GEeCo+X9QtW/PoFLsoITVZ1E1Xo+bj0t/v3hRdZJfBP7PfF42\nmNe9HhWteC8qAjuEqhU7Pc/j/AsgBjyQ4/q7zX8vydie7/l5pfn43w38gdT7YjUqHbwH9f65CRhF\nRQ3bUCUAD5nrfq3teO2o8oJ3od4jXwP8eR7Tc8393oGqmdPvhV7gY+a6t5v3Pw38lPQT/SrU+/I/\nUM/juXnuKx9nmf8+lbH92SgBfbW5hm8CIfO6c8zrbka9NvcDU6j3WwvwGVQUfQ/qfQPFf0beYR7n\n96iaw3PM7e9EvUfvJyWC1qDqeD+U47EFUZ//fwSuQ0Wx223XL0fVLn4M+KV5vwHyfwdsQb22V6Jq\n5n5Gukh+MSor8W5gP/By21o+g4qg3oB6D2Vjm/n4OlHvz5cCZ6BqUfX7vwH1+bkTVW/8ddRncz/q\nc3QxcAswYd6nnb9CfS5/ATxmrlcQBKEi7CB36hbgPeb1HwA6UGnczPTct8meuk2SnroNoYSj5jXm\nPpeh6pZ+gjq5v8H8ezeqYP27ttt8ECVAT0EJmy+bt3k76mTxfiAKdJv7X4o6KWg+bl7fVGA92XgL\nqXrGk4C/QYmBPxbx+CD783QX6cXeV5IupD0osQFKcNyISjEBPMs8/j+Ylz9KShAC7AL+bP4/CIyj\nTlLbUY//PtSJNhfzwOE81zeY97/LvPwW8j8/XSjheL55+Z9RJ0lQr6UWvh8x19eNEjJ/BDab+32C\n9OfncyjBCOq5GgPemGO9HpSQfr15+ZXm8RvM+/8r8/7/HfVaPgv1XtOioRF4AiWyNL+lcI3eQds+\nPpRImEP96Aja9jsdJWR11NePen/cY67dhxJ+o+bavSjBkESJuTZznztRdbJQ3Gfk9SihrLkR9bpr\ngXsT6keFnXwpzn8C9tkuP4oScACtqGYuLdI2m+v/O3J/B6xENYudajvmT1HvnRbz8iHz2KBEtH7N\n3ka66MpXb3cV6Wn4LuA7pL++68z1/tRclwf1fD8F/KW5zyXmPhvNyxegfhhovoIqibBnSYQ6IN8v\nTEGoZeK2fyeAviz7eCguRfsu1MlFf+k1oL4kV6AK1nejog4/tN3mBtSJT98mhDr5nYCKvoygTtY6\nvfgb1C/yjagTxidRkQXNp1HCZB51Qsq1nnxcixIAB1Ann4+ifv1fWuB42Z6nb6G++DtRQuwBlNh7\nHioqt4PUSfU1qIjelbbb/8m8bQD4MCoC8Tzzuj2ok4kHdWKfQImih83r/wi8Ks/jNLKs146OJGbu\nk+352YZ6vf6TVBRrjlTnaZKUqPwR6vWZRwmMQ8Be87rbUZGkEDCJem7usa1nFvXeyPV4Po96/+j7\nb0W9v55BvV9AvecmUVGsY6hIz69RQraDlLAE9XrZBUgudH3mxaj37BtQHe6GbZ8Pm8fTad04SnT+\nBiUebjLXOUVKoO80/70PJapBvW/0j4skhT8jV5jH0e9b/Tlfhoouf968b/2e3MLCSKSdO1HvN1Dv\njRlSr8nlqM+ffq33Aq9GvSaDZP8OuM5c5xO2bdeYx3kT6vVqQInJf0FF7fSPgSAqAnwDSnx+Jc+6\nMxlDifTn27bprvIbUc8NqM/g68xtoN6joN4X+1GRy3FSz28jSuyuRb02Qp0gQk9Yqqwy/z2Ud6/i\n2I76Evy3PPuEMy6fiYpifLPI+9AnmAaUGDgNlQLSjJOyfylmPdlI2P5/M0rIbDXX6vR4P0WdSF+P\nOgm9BpUSfTPqpPpaVORLr/dR1Mksk5NREZ1/IyXOCxFFPU+5OIgSYl6yN1n02vazk+v5ecz8//NR\nKc9NFP6BEMlxuR0lxv6Aep3fgxJNfvKXylyHep3+mlREK9/+9ufoItKjiU4YNu/zZ6ho3AzpIg9U\nyjozcvaI+e+ZZI+iZT4/oNbcnmW7/XpQj6sZ9Tq8hFR0NZObUcLu3aj35KtJfYay8SBKlP2defw2\nUs/xc1koEjPtSzK/A85GCXg7T5qPQ3d9vx9VLrED+HtSUebvmZcfRb32n8yz7lLJ9x4F9dq9EZU+\nF+oYqdETliovRH3xuvEl1YRK6WUSzLJN01zCbTQB898TXFxPJjr6Eqa4tWae3GdQJ/83o9JCY6ha\nnlejaqHCqMgW5vGzea8FSHW+lvt47PweJQbOznG9ruP6Q47rIf358aDS8BejIkp357pREWiBeB5w\nBypl/hUWioRMPo6qs/oM6vE5oRUVPS2Ht6GiZT9m4fsygYry2NERn5jD+ym2CarJ3LfQ++aLwCtQ\n0emzSJUEZGMzKsJ4v3m7Udt1AXJ/HnOR7XkxUJ8V/bz8EHgBSlzdj0rDg4raPhdV33cV6r2S78eN\nm+jXoJzvMGEJIUJPWIpcgqqn+gSptFAuMgVMNvahIgf21KgfdeLNd5s3oE5ImlZUkXghRsy/zH1P\nR33xlrKeTFahfsHfWcTxDLJ/F3wLJZq+hCpM/zXq5PZTVKeuZi8qErYt4/YfREVjkqjUmJ1LUVHN\nUvgCKpLyjhzXvw2VgvtWnmPo5+cuVHrrTagGEnDne/E7qLpHnVLLd8zzUNHQz6KeK6f334cS2msc\n3s7ONErEN6EiWY226+5Bpfvs0TgdUS9HFOdjFCWYMt83Z6AEueZ7qLV/AlUSkI8voZ6rR83L9maW\nJ1FenCtt2/yoz00u7kGlkTfatgVQZQn6eXkRKtq4DZWa/jfb9jlUVPx5qB8tuRohCpUqlMo+VH2k\n/dirSNWKCnWCCD2hVtGRIHt5gQdVSP/fqCjJNbbrAln2D5J+wtLbyNj+NdQJ7mZUV9uLUCmgm83r\nvSwsc/gK6tf8TagTz1+iarj+x7YO+xeovl99cvksKhLxE/Pfy1ENIgeKWE8mOn2pIwIelIi8BnXC\nLHS8UZTADJDqugQlEveiIneHUMLop6jXxj6F5AeoCOBvUCndHSiR9RAqjfkj1AntWlQ36z+Yj1l3\nGgZI/y4Kkv+76RBKmL2BdAsVDypVdh5KtMyY27M9P+8i9fxo0fIcVK2briNbhxLvPtvtND5S7zmy\n7LMSlRprRJ3Au8z76WYh9vtvJtVxu9Zcj37v2Z+TBtt9ft283xtQ6cgWVKF9N6noZjbaSP8c7EI9\nL2eax9R8EiU23mPb9gZU7ZcWNJlWH3qtmc+R/Tks9Bm5HlWreQMq+vW3wL+SqjkD9d78hnndT8nP\nSlQpQQj1w2QDqdfkevN+/4R6T70MJdZ1hDDbd8BXUeUX9i7f16KeR+1Lqcsb4qjonq4BPJ/Ua3Mv\nqgZQ19ZlMobqCA6R+nwGyP/+y7Zmn207qO+wZ6Ei9y9AfWZuIL1JTBAWhdWoD907UemUXAXFl6OK\nda8k3TjXj+pgeg/qF/rHFm2lwmLxYlRBfgJVe/Qj4OeoL+HvkbK+0JyNsg9IoF7vdlSU5gjqZP8W\n1BflGtTJPYlKlbzUdoxXoSICc6gvXt048FxUDVccVQtk95t7J0p0zJjr1ZYgp6BETAR1AmpDfYEm\nUB2uXagv20+iInvDqC5N+xd3rvVkowN1Yr4VdfL5FgunfeQ73jbUSeYh0oUeKPsQ+5SJc1BRgEye\ni2qmmEc9X3armBDqJDeNaiL4PCmB8SbUc3svSmBsQ9VRRUm3K8nGaaj3xh9QwvUW1POcmU4r9Pys\nNNc+g3p/bUd1md6MEnvfJfXe6kIJwSHUa/8ilFj4vrnPx819PoBqNNhtPhefRxX12yd5aJpRTQdz\nKLF8CqrL8j7z/n9oHvsTqOfyctR7+D5UAwIoYbLLvM//Nvf9IemduJpVqBRx0jzuFaRPXviaed33\nUBE0UO+L283rrkM1D2nhfDYqLTmPquVsQYn5JOq1Oc18Th9ApbDfSHGfkQCqM3cM9Tn5jrk9ky2o\n57kQr0cJ+37Uc/jPpFu6/AWqFnEWFY09xdye7zvgJNRr9gPUeefLGWtMot4/l6OeuxPM7Vea63gf\nqj70/XnWvQoVGd+D+m58Pur9Gkd9B7Wh3m9J1Gu/CfVZ+hMqhfx2c5+PmPv8mlS3+FWoz+QkqpFm\nXZ51CIIreFCRgheZl09GRTgyfy2+nFSHGqhfcvrk817SPzS3o37dCoIgCPXHeaR3fAuCYKPWUrcv\nQom7neblp1C/SF6Rsd+HSO/0+hWpeqONpBcmj6N+0QuCIAj1x9tJ97QUBMFGrQm9C1ARPLsNw15U\nh6UmiEof2UP1+1Ap3h6U6PtHlGg8C/UYnXaxCYIgCLXLa1G1ejegUrwHq7oaQahhas1HbwWqxsTO\nJOndZLp2Y9K2bcL8dw2qDudjKHH3AKqewe6fJQiCICxt2lB1preRPuVGEIQMak3oxVnoy5QZddTR\nvliWfbTD/wpUd9YHUEXyf4EqdE5jw4YNRl9ftoEKgiAIwhLgZaR+6AvC8UAf6ZY+Bam11O0RUoOy\nNR2kz7UcRYm8UMY+mPu9D/Vr75OoFO8JqBE+C+jr68MwjOPu78orr6z6GuRxy+OWxy2PWx63PG55\n3M7+ULZAjqg1oXc7C526t5BqzgDl57QT1UKu2Ypq3BhC1fPpcT2HUOaquRz0BUEQBEEQ6pZaE3r3\nosTZC8zLW1EeU79FeTdpn7Jvku6BdhkpF/xHSHfob0LV6gmCIAiCIBxX1FqNnoHyyLsCZbNyLmoE\nzRxq7NVDKFPQn6EMPq8j5dr/WfMY16LMZ/8dZUTbjjKkFEx27NhR7SVUBXncxxfyuI8v5HEfXxyv\nj7sUFmN+3lLCMHPegiAIgiAINY3H4wGH2q3WUreCIAiCIAiCS4jQEwRBEARBqFNE6AmCIAiCINQp\nIvQEQRAEQRDqFBF6giAIgiAIdYoIPUEQBEEQhDpFhJ4gCIIgCEKdIkJPEARBEAShThGhJwiCIAiC\nUKeI0BMEQRAEQahTROgJgiAIgiDUKSL0BEEQBEEQ6hQReoIgCIIgCHWKCD1BEARBEIQ6RYSeIAiC\nIAhCnSJCTxAEQRAEoU4RoScIgiAIglCniNATBKHqGIbBB+78H669/3fVXoogCEJdIUJPEISqMzQ/\nzU/2PcB/PXEnhmFUezmCIAh1gwg9QRCqzsD0OABxI8lcPFrl1QiCINQPIvQEQag6/TNj1v8nI/NV\nXIkgCEJ9IUJPEISqMzCdEnoTURF6giAIbiFCTxCEqmOP6E2J0BMEQXANEXqCIFSdfrNGDyR1KwiC\n4CYi9ARBqDoDaRG9cBVXIgiCUF+I0BMEoarEkgmOzE5alycldSsIguAaIvQEQagqR2YnSNq886QZ\nQxAEwT1E6AmCUFX6bR23AFNSoycIguAaIvQEQagquhEj4PUBkroVBEFwExF6grBE+OKjt/G633+T\naCJe7aW4im7E2NKxHJBmDEEQBDcRoScIS4TvPHUPdx7dz96JwWovxVX0+LPTulcBEtETBEFwExF6\ngrAEmI9HGZqfBurPZ06bJZ/evRqov8cnCIJQTUToCcISYGAmZSg8XmcRL92MIRE9QRAE9xGhJwhL\ngAHb5IiJyFwVV+Ius7EIo+FZgl4fm8waPRF6giAI7iFCTxCWAHYLkok6Sm3qSOWa1k7aAg34PF7m\n47G6azgRBEGoFiL0BGEJYB8RVk8RvQFTwK5t68Lj8dAebASk81YQBMEt6lnoeYC/Bj4A7KjuUgSh\nPPrrNHXbb0b01rV2AhAKNgEwJelbQRAEV/BXewFZWA38K/AYcB7wKeCJLPtdDqxACTo/8DHbde3A\nL4DfA59ezMUKQiXot0X06qmGrd8W0QMINTTBtIxBEwRBcItaE3oe4H+BDwO3AncANwKbgIRtv5cD\nbwYuMC//FHg78F+oKOXPgQcRkSfUAYZhWClOqLMaPfNxrdNCz4zoicWKIAiCO9Ra6vZFwMnATvPy\nU0AMeEXGfh8CbrJd/hXwXvP/r0VFAq9YtFUKQgWZiM4zHYukLh8XqVup0RMEQXCDWhN6FwAHAHvL\n3V7ghbbLQeAcYLdt2z7gVKAXeCtwBPgkcD9wMyodLAhLEh31CpmNCvUS0bNHKnXqVjdj1FN6WhAE\noZrUmtBbAUxlbJsE1tgudwEBc7tmwvx3DXAW8DNUhO9ZwCzwzcVYrCAUYtfIYZ7/i89w+zN7Sj6G\njnqdZk6OmIiWF9Ebj8zxF7/+Al9//E9lHadcxiNzzMajtAUa6DAjeaEGacYQBEFwk1qr0YujUrV2\nMsWojvbFsuzjAVqBO23XfR34LeqxLjDnuuqqq6z/79ixgx07djhcsiDk5vf9T9A3OcwtA0/xgjVb\nSjqGjnpt7VzBnwcPMh+PEY7HaPQHSjreXUf7eHLsKL/2Psrlpz23pGO4waEMaxVIpW7rJWopCIJQ\nDjt37mTnzp1lHaPWhN4R4MKMbR3AQdvlUZTIC2XsA3AYGARabNc9gxKCHcBI5h3ahZ4guI3uKp2x\n1diVeoy1rZ10NDQxPD/DZHS+ZKG3f2IIgOkq18FZjRitXdY2qxlDInqCIAgLAlBXX32142PUWur2\nduCkjG1bSDVnABjm5U22bVtRjRuDwN3AZtt1jaj07QKRJwiLjZ78MFuO0DOPsb6ti45gM1BexGuf\nFnqx6go9qxGjrdPalkrdSjOGIAiCG9Sa0LsXOAS8wLy8FWhGpV6vA043t38TeKntdpcB3zL//zXg\nNbbrngd8Y5HWKwh5GXAhomdvWOho0KnN0uv09k0qoVdtMWU9LltEz2rGkNStIAiCK9Ra6tZAeeRd\ngbJZORd4CTAHXAI8BOxCNVusR4m/eZQ4/Kx5jJ0oP72vA32oBo0PVuoBCIJmPh5jcH4aKF3oJY0k\nz5iRL5W61RG90oReIpmkb3IYgEgiTiQRp8FXna+BASuitzB1K80YgiAI7lBrQg+UvcpbzP9fb9t+\nTsZ++cyQv+zmggShFLRAg9KF3uDcNNFkgu7GFloCDamIXolCaGBmnEgi1ZM0HQ3T0NRa0rHKJdWM\nsTB1KzV6giAI7lBrqVtBqBv6bdMsShV6/RnpzXIjevvNtK2mWunbRDLJkVnlirS21Sb0pOtWEATB\nVUToCcIiMWCL6JXajDFgzrhdb6Y3O8oUQnsnMoVedQTVsbkpYskEy5raaPIHre26Rm86FiZpJKuy\nNkEQhHpChJ4gLBL2+bSzsWhJwqV/2qzPM9ObZUf0MoRetTpv+2dSljF2/F4fLf4gScNgJhatxtIE\nQRDqChF6grBIaDEDYGAwF8/0Ai/MwEyu1G15Eb1O8zjVSt1mjj6zI9MxBEEQ3EOEniAsEvYaPSit\nTk9H9NZZET3djOE8omcYhlWjd/aydUD1hN4hyyy5c8F17do0Wer0BEEQykaEniAsErpGL2TWnZVS\np+dmRO/o3BQzsQhdDS2sb+sGqjcdI5u1isZqyJCIniAIQtmI0BOERWAiMsdUNEyTP8C6EkVVJBHn\n6OwUXo+H1a1qyl+ojGiXrs/b1NFrNT1MValGL1/qtkNSt4IgCK4hQk8QFoEBnXJt7aI10AA4j+gd\nnpnAwGBVS4iA1weUl7rdOzEIwKaO5SmhV6X0qDX+LGvqVqZjCIIguEUtGiYLwpJHN2LYU5NOa/Qy\n07agRJAHD1PRMPFkAr8pAIthvzkRY2Oo1xKf1ei6nY/HGJybwufxsrIltOD61HQMmXcrCIJQLhLR\nE4RFQEf01rZ20mKKqpm4M7uQgYxGDACvx2vrSnUmhPaZEb3NHcuthodqiKnDZjRvdUtHVqFqNWNI\n6lYQBKFsROgJwiJgj+jp6NmMQ1HVnyWiB3bTZGfp230TZkSvY1kqdVsFodefpxEDUvYqMh1DEASh\nfEToCcIikBpd1pkSeg5Tt/oYmYJId96OOxBCo+EZxiKztAYaWNncTpueQFEFoTeQZcatnVTqVoSe\nIAhCuYjQE4RFQNuHrG0rvRnDsiDJjOg1OI/o7TM7bjeGluHxeGgLpEaNVZr+HI9Lo+1oJHUrCIJQ\nPiL0BMFlkkaSZ2zpyXIjepmRL8tLz4EQ0kJvc8cyAEINVUzdTo8CeSJ6VZ7aIQiCUE+I0BMElxma\nnyGSiNPV0EJroCHVjOFA6M3EIoxH5mjw+VnW1JZ2XVkRPVPo6YjeVDSMYRhFH8cNUo0q2SN6Yq8i\nCILgHiL0BMFlMmvQ2koQelZ9XmsXHo8n7brUdAwHQm8yPaIX9Plp8PlJGEnmS5jBWw7aNmZ9rmYM\n6boVBEFwDRF6Ql1R6ehUNg7ZRBpgRfSc1OjlStuCvevWeep2Y2iZtc1qeqhgnd5kZJ5Jc2JId2NL\n1n1E6AmCILiHCD2hbvjB7vs448fXsWd8sKrrsIyOTZGWMicuXuhlM0vWOI3oTUXDHJubosHnZ61t\nEkWbZbFSOUGlH1e2SKWmyR8g4PURScQJVzjaWC4PDw9wxo+v5aZDj1d7KYIgCIAIPaGO+OMzuxmL\nzPLg8KGqriNldKxEWqtZD+csorfQLFnTaQm94gTafjNtuyHUi8+b+shbnbcVbHoYnp8BYHlze859\nPB7Pkp2OcXP/E4yGZ/n+7vuqvRRBEARAhJ5QRwzNTwPV8Yaz0z+TnrptDQQBZzV6+SN6zubd6rTt\npo5ladtDVTBN1ulYLeRy0b5ELVa0yP/z4EEiiXiVVyMIgiBCT6gjhuaU0Kt2FMjqKs1I3ToSeuYx\nsjUsdDiM6FlCL5Qu9NqqIPT0fWkhlws9HWOpdd5qkR9OxHhouL/KqxEEQRChJ9QJSSPJSFilBasZ\n0Ysm4hyZncSDh9UtHQBp9irFNIsYhpEaf5ZV6DmzV8kV0avGdAwt3LSQy8VSnXerBTrAXUf7qrgS\nQRAEhQg9oS6YjMwTSyYA58bEbnJ4dgIDg5Ut7QR9fiDdyiRcRDpvJDzDfDxGKNiUNfJlF0FJI1nw\neLpGL1PotVej67bI1G3HEhR6c7Go9WMD4K4j+6u4GkEQBIUIPaEuGJpPnWCrmbrNbMTQtPiLt1jp\nz3EMTcDrozXQQNIwmIlF8x5rPh6jf3ocv8fLCW3dade1m5HGSnbdFiv0dMSv2ml4J+iRdcub2vB6\nPDw8POB47J0gCILbiNAT6oJhsxEDqjO/VZPZiKFxUqeXasTIPiIMik/fHpgcxsDghPZuK8Koqe3U\nrZ6OUbwpdLXRo922dq5gW/ca4kaSPw8erO6iBEE47hGhJ9QFQ3ahVwMRvUyj4xar87bw2nJFBe10\nBIvz0tubxShZ014FC5OimzGWYOq23zbf+IKVGwC4U+r0BEGoMiL0hLpAd9yCM2Nit8lli6KjZ8VE\n9KyoYD6hV2Tn7f6M0Wd22mvaXkULvSWUup1ONdBcuEoJvbtF6AmCUGVE6Al1wXCNRPSs8Wc5a/Ty\n19SBbfyZC6lba/RZFqFnpW4rmOrW9YCFUrdL0V5F1+ita+3knGXrCXp9PD56hPEllH4WBKH+EKEn\n1AVDNVKjZ6VuM0Saoxq9YlK3OqJXILWphV62iF41DJN1BLJgM0YVxrOVS78totfkD3LWsnUYGNxz\n9ECVVyYIwvGMCD2hLhi2dd1GEvGqTCWYjUUYi8zS4POzvLkt7brWoJ53m19UxZMJDs9OAFg+fNko\nJqIXSyZ4emoEDx42hHoXXK9HoFVKTCWNZN3W6BmGYQm9dabIv3DlRkD89ARBqC7FCr0A8GrgJ8D9\nwB7gj8CngFMWZ2mCUDz21C0U1/TgNtoWZU1rJ15P+kdLR/QK2W2MR+ZIGEm6Glpo9Ady7ldMM8bB\nqVHiRpK1rZ00+YMLrq901+1MLIqBQYs/iN/ry7vvUrNXGY/MMRuP0hposKKtuiHjrqPipycIQvXw\nF96FHcB1wEHgUeBOIAy0AyuArwKPAe8HChcgCcIioFO3Lf4gs/EoU9Ew3Y2tFV1DPluUliJTt7qe\nq7OxOe9+qYhe7ohXqj5vYTQPUhG9mViUpJFcIE7dRlulFKrPg6U3GaPfVpvp8XgAOLN3Lc3+IPsn\nhzk2N8WK5vZqLlEQhOOUQkLvdUAnSuzly4WdBfwH8EGgsFW/ILhINBFnPDKHz+NlbVsXu8ePVaUh\noz9HIwZAq79IoRc2hV5DIaFXOKK3b2IQgE0dy7Ne7/N6aQ00MBOLMB2NFCXAyiGVti1C6AVS9YOJ\nZBKft7Y8pE6qAAAgAElEQVSrTHQjhl3kB7w+nr38RG4/vIe7j/bxqg3bq7U8QRCOY/J9e3YDh1ER\nu0IFTw8B1wAXurQuQSiaEbM+r6exxartqqbQyxbR0zV6RUf0Cgo9M6KXJ+K1b3IYgE1Z6vM0OqpX\niQaWiSKtVUCJ0LZAcXWNtUAukS/pW0EQqk0+oTcK/Ml2eUuBY00C/1f2igTBITpt29vUZhX5V8NL\nb2Amd7eskxo9qExEDyrrpaebPjqKjBxaFitLIH2bLaIHWH56dx7pwzCMiq9LEATBST7kp8BngOcu\n0loEoSR0I8ay5raqjPXSpLoucws99yJ6+Q2TE8kk+3VEL4u1iqa9gs+X9sQr1HGr0ZG/qcjSjeid\n0rWSULCJw7MTlhG2IAhCJXEi9P4SuBpYB3wZ+Dhw7mIsShCcMGSmbnub2lKWIYuU7jMMg2gW6xbD\nMFJRnbbSmzEmimzG0CJoIjKXNVL0zOw4kUSc5c3teYVVWwX96oqdiqFZSg0ZqbR9utDzerycv/Ik\nQEX1BEEQKo0ToXcYmAJ+CHwX2Arci7JZuQpY7dKaVgPXA+807+fUHPtdDlwBXAlcm2OfFwG3urQu\noUaxInpNbbRpv7pFilC9c+eP2Pbja/n2k3eTNFJ9R2ORWebiUdqDjVa0zU6bw4hetmPYafIHaPQF\niCYTzMdjC67fP6Hr83JH88Am9CqQ6nbSjAE2MVvjQi+RTFreh+uyiHztpyfj0ARBqAZOhN5rgDcD\nfwZuA44CJwMXAd8BvmBeXw4e4H+BXwA3AJ8AfgNkmm693Lyva1BRxs3A2zP2WYYSgbXdrieUzbBV\no9dqay5wX7hEE3Fu6X+SmViEj933v7zyxhvYa9bBHSowtqyl2Bq9cHFCT+2T2zR5r1Wfl1/oVbJ5\nxZqKUXSN3tKYjjE4N0UsmaC3qTWrX2GqIUPq9ARBqDxOa/SuBv4bWAu8B2WcDMpj72bgs2Wu50Uo\n8bjTvPwUEANekbHfh4CbbJd/BbzXdtkDvBsVEfSUuSahxhmyRfQWs+bsqfFjRJMJehpbWd7UxoPD\n/Vzy6y/yuUdu5YBZD5eZutO4XaMH9ojXQqG3f1J56BUSepWcjjHlMHVrTceo8Xm3/TPZ07aaDaFe\nlje3MxKeYY8pwAVBECqFE6F3DXAS8GlgIsv1Q8D3ylzPBcAB0u1c9gIvtF0OAucAu23b9qFSvD3m\n5ctRUcbKz8ESKs6wvUZvEYXew8MDAOxYvZnbXvk+Xr/5XKLJBJ95+FY+fPcvAVifYz5tq2VOXGSN\nXlERvdwNGXsnihR6Fey6TdXoFdeMoVO8lVhbNBHnyOxk1r9sqXE7qRm32aO5Ho8nLapXLIZhEC5w\n34IgCIUoZjKG5iqgFViDElmnoyxYjpjX/9r8K4cVqDpAO5PmfWq6UCPZJm3btPBcgxKjI8DTwPPL\nXI+wBBiaS9mraCG1GM0Yj5hC78zetYQamvjUBa/iFSedwYfu+gUHp0cBNdA+G40+Pz6Pl0giTiyZ\nIJBjBJiTiF6u6RiGYbBfC70CNXqhKnTdhop4bFC5ebfxZIIX/vJz1muYSUdDM//3qvfT1diS9fp+\nbauTI6IHKn37i76HuftoH28/5YKi1vWunT/i7qMHuPPVHyy6U1kQBCETJ0LvlaiI3T3AXwCPo2bd\n3kgq1VoucVSq1k5m1FFH6WJZ9mlHTfG4ptg7vOqqq6z/79ixgx07dhR7U6EGMAzDSt0ub25jJKyi\nezOLIFweGVFCb3vvWmvb+Ss3cMsr3ssXHv0jfzqynxeuyW436fF4aA0EmYyGmYlFsgo5wzAcCj0z\nopeRuj02N8W0eR/dOcSJppIRvVQzRpH2Kg2VSd0emBrh4PQofo+Xnqb0sXmT0XkmInPccXgfr9xw\nZtbbD+SZiKI5Z9l6AB4fPZJzHztJI8kfn9nNfDzGgclhzrS95wRBOH7YuXMnO3fuLOsYToTeR4C3\nAtvMywbweVSt3LZcN3LIERZO1+hA1QBqRlEiL5SxD8B64KPAv5iXfebfHMoK5vHMO7QLPWHpMROL\nEE7EaPYHaQk0LNqkh8nIPPsnhwl6fZzcuSLtuiZ/gI+cfQkfOTv/MVoCDUxGw8zmEHqz8SixZEJ1\n1PoDBdeUK3Vrr8/Tc1dzsdh2NHac2qtUKqK3Z1zVzb1gzRa+/aL0frKv7rqDjz9wE3cd3Z9b6FkR\nveypW1Ap/Qafn8OzE0xHw5bAzsXAzLiVMh7PY4otCEJ9kxmAuvrqqx0fw0mN3h3A/wCztm1rUeLK\nLW5HpV7tbCE9YmiYlzfZtm1FNW58H2gEmsy/v0etu5ksIk9Y+gzbpmLA4k16eGz0GQBO7V5F0Ofk\n91EKS4RGs9fpjYfVR6uYaJ7aL3vXra7P21ggbQuV7bqtVaG3e/wYAFszBDykOmbvPnog5+1TNXq5\nI3p+r4+N5ii6vUU0ZOweO2b9f0yEniAIZeBE6E0B55u3CQIvBn4A3OLieu4FDgEvMC9vRYm03wLX\noeoCAb4JvNR2u8uAb2U5ngfpuq1rUh23KuWmu1vdFi6PDCuhd2ZP6Sm0QhYrTtK2AB3BHBE9U+ht\nLtCIAZUzTA7HY0QScQJeH01FRCsB2htKE+2GYfDgUH9WY+tsaKG3pXPhqLhTu1YRCjbSPzNmCTo7\n4XiMwblpfB4vq1pCC663o4XkU+PH8u4HpHXn6h8AgiAIpeBE6H0SNf7szajmh2+iLFUy/evKwSDl\nkfcPqHTxS1Cp10tIRfF+hvLXuw74V5Q4zGbtYph/Qp1i77gF20zZeJREMpnzdk55eLgfSK/Pc4pl\nsRIvJPTy19VpcvnoWRE9B0JvsSN6WqyFgk0F08maUu1VfrT3fl5+4/Xc8Hhxo7d16nZLx8KIns/r\n5bwVuTtmD89OYGCwqiWEP0eDjWaLKfT0/RWzJpDUrSAI5eFE6MVQYk9H2daivOrcbgc7ALwFNR3j\nLcCD5vZzUEbKmk8D/4YaxfZhsgu675JuzSLUGUMZqVuf11u0Z12xGIbBw2YjRjkRPWtdOUSV44ie\nVaOXLgR0jd7molK3lanR0+lXJ92j9tStE6Phn/c9BMCdR/YX3Hc+HuXQ9Bh+j5cNoZ6s++SzRukv\nYJRtZ0uHihjuKSKit9u2jwg9QRDKwUmxUQj4K2AVKYHoQVmYiJgSqoK2Vllm65ZsCzQyE4swHQsX\nPYUhH0dnJxmenyEUbOLE9u6Sj1NIgOqpGIXm3GqsiJ4t7ToWnmU0PEuLP8jKAqlEgGZ/EJ/Hy3w8\nltf2pVwmHU7FAGj0B2jw+Ykk4oQTsaxTJzIZmpvm/sFDADw+dgTDMPJGEPdODGFgcFKoN2ft5QWr\ndJ1e34LjWY0YeerzNDp1W8g0OZqI02cacIN6TQVBEErFSUTvFtT82Y3AiebfRtxtxhAER1jNGM1t\n1jY979athgwrmte7tui0YzZaCgk9FyJ6+2xp22LWqmxfFnc+MNgjes6EtzX9o8j07e/7n8Awg/tT\n0XBObzzNnjyNGJpNoWUsa2pjaH6afWa0VNNfhLWKZlVLiLZAA6PhWet9m40DUyPEbXOUJaInCEI5\nOBF6DSiLkregbFbeCrwJVTsnCFXB8tBrare2tRU5haJY9ESMM3vWFNgzP61uN2NksVfZV6RRsp3F\n6lS2o4Veh0Oh53RtvzuomusbzOjcrpHDefdP1ectbMTQeDwezjfTt5npYB3RyzX+LPM4xdTp6etW\ntyjXKBF6giCUgxOh9wWy++WVd/YThDJI2avYUrcuNxhkM0ouBStyVkDodRQp9Fr8QfweL3PxKBGz\nw3RfkTNu7bRXoPPWasZwmEp3YrEyHp7lnmMH8Hu8vH7zuQA8Nppf6O0206hb8kT0IHedXsosuXCN\nHqQE5e48dXo6ynjeCuU0JalbQRDKwYnQewPK5+7pjL/fLsK6BKEoMrtuwd0IVSKZ5DEzKlROIwa4\nH9HzeDyWKNQ1cPuKnHFrpxKdt5PmY3M6yqvd6rwtHNW6uf9JEkaSC1Zu4HmrNgKwq5DQy2OtYudC\nU+jde+xAWjf3IasZo3BEz34/+er09JrOW6mE3nhkzlEziiAIgh0nzRh3oEae2c9SXlSDhiBUnEQy\naY08s4+uanVxOsbeiSHm4lHWtnYuGI/llEI1errWrthmDFANGSPhGSaicyxrbitJ6LVXYDqGU7Nk\njTUGrQgR+rtDKm176QmncbqZZn989HDOhozxyByDc1M0+gKsL1Bjt7ati3WtXfTPjPH42BHO6FnD\nVDTMZHSeRl8gLaKcD10LmDeiZ4rAM3vWWs0o8/EYzYHCzSiCIAiZOBF6nwKyfdsOZ9kmCIvOWGSW\npGHQ1dCS1i3qZoTqERdsVTQFI3phZxE9SK/Tm46GOTo3SYPPz7oiI0yQipotbjOGnnO7OKnbqWiY\nPx3Zj9fj4ZJ1p9LT1Go1UByaHuOELN3Se3V9XudyvJ7CyY0LVm2gf+8Ydx3t44yeNWlp22KbdHRE\nb+/4IEkjueB+52LK7iXg9XFSqIeuhhaOzk0yHpkToScIQkk4Sd12o2bIfg34tu3v+4uwLkEoiLZW\nyYymtFu1cC4IPd2I0Vt+KWpbwRo9ZyPQwN6VOsd+05LjpPYefN7iP9ptlWjGKMFeBWw+fwWE3q0D\nTxFLJjh3+QlW5PX07tVA7vStjpzla8Swk1mn1z/jLG0L0N3YSm9TK7PxKIdnJhZcr8ejbQj1EvD6\nrOiu1OkJglAqToTercAZwDHUJIqDQD9qSoZQBeLJBPPxaLWXUTWs8Wc2axVYnIje9t51ZR8r3wi0\nWDLBdCyC1+NxVMdmn46xv4S0LRRX0xhLJpiLlf5emyqx69ZK3RawV9HdtpetP83adnqPEnqP5ei8\nLbY+T3O+OSHjz4NPE03EGZg2O26LbMTQ6Akc2dK3mWvSol86bwVBKBUnqdujwOuybJeu2yrx7jt+\nwr3HDnD7K99HV2NxY7PqiWFrzm2G0LNq9MqzV5mPR9k9PojP4+W0rlVlHQvyGybr+ryOYHNRaUSN\n1YwRnWdoTtUrlir08kVA/2Hnj7jv2EFuf9U/093ovFaxlMkYav/Cqdu5WJSdh/cCcKlN6G0zI3qP\njT6T9XbFeOjZWdbcxpaO5eyZGOTh4QGrEcNJmlzd33LuPLqfPRODXLzulPQ1mRG9raYY7DLH4YnQ\nEwShVJxE9H6EMknOJJvlilAB7j12gNHwLA8MHar2UqrCUJaOW3Avordr9AgJI8mWzuWu1Ee1BnP7\n+42X0IgB9ojevDX6zImHHthTt9nFVNJIsvPwXsYis9xz9ICjY2vKtVfJF2287fAewokYZ/WuS5sG\nolO3uiHDjmEY7B4vzlrFzvm29O2ATt06jehZDRkLO2/32OoGAUndCoJQNk6E3hHgTtKtVQ6SPn9W\nqBCxZIJR88u/kIVEvZIzoudSzZmuz9vuQiMG5I/oldKIASoCCCoiuNdK3RaXitRYXbc5nq9js1PM\nx2MAPDjc7+jYmpInY9iEbC5uypK2BVjR3E5vUyuT0bAVfdMMzk8zGZ0nFGxiecb7Jx+pOr39Vuq2\nUMduJpbFSpbUbWaUUVK3giCUi5PU7deBa4B9QNK2/VJXVyQUhfaPA3h89EgVV1I9UmbJ6Sfqdpfs\nVayJGGUaJWua/QEA5uLRBR2XKbNkZ0JIp26PzU0xMDOGz+N1PI831XWbPdW93zZ39cEh50IvkUxa\nIlK/NsVSqBkjHI9x68BTAFx6wqlp13k8Hk7vXs1tz+xh1+jhtM7b3ZagWu5orN15K07C6/Hw0PAA\nXvN2TpoxADabQnz/5HDafOHx8CyD89M0+4OsaVVTMbTQG4tIRE8QhNJwEtG7H9Vxexuw0/b3SbcX\nJRRmaG7K+v/xGtGzmjEyum5bzVm3MzmES7G4aa0C4PV4afGrFPBsRmODU7NkjRaGDw33kzQMTmjv\nJuhz8vutcOp2v22+6+Ojh60pHMWiBXdboMFRNzAUtlf505F9zMajnNq1kvVtCwWuTt9mNmQ4rc+z\n1tPQxOndq4klE0QScToamq3nr1haAw2sbe0klkzw9NSItV1P6djckbJ70bW3EtETBKFUnHzrfh/V\njLHO9rceeOMirEsogH0o+rG5KUZsEb7jBWsqRkbXrdVFWkZEb2R+hoGZcZr9QTY7bG7IR2swe6NI\n6UJP7a+fi42hXsdrKtR122eL6EWTCR53+MPCMkt2GK1Ua8vfdatNkjPTtpptOSxW9pRQn6fR3bcA\n61qd1edptmaZeZtZnwe21G1YhJ4gCKXhROhdg2rIOGj7exr4nNuLEgozaBN6AI+PHX/pWx3VXNCM\nEUg1Y5Q6OkpH87b1rHYchcpHLtPkVI2es+7pzFTvZof1eVC467ZvUkWdVjarRgen6dupiNmI4bA+\nD6At2IAHD7PxKPFkIu26WDLBH/pV2vayE07Pens9IWNXRkOGUw89OxeuSgm9tQ7r8zRazNktVnSU\n8WSb+JQaPUEQysXJGezLQLt5G/3nA96+COsSCqDNgjVOoyxLnfl4lOlYhKDXt8CbLejz0+DzkzCS\nVhOBU6z6PJfStppcDRmlmCVDKqKn2VhC9LHN1oyRTRjr1O2rN54FqDSxE0ptxACV7m43U/H3DR5k\n18hh6+9n+x9kMjrPptCynJYyK5vb6WlsZTI6bxkcJ5JJK3q2uUgPPTvPWnaCVVfn1FpFk81LL5uv\nXyp1KzV6giCUhpNinhtQ4u65wCrgAKpu7zvuL0sohK5PO6NnDY+OPMOu46whY9hmrZKtmL492Mjw\n/AzTsXBJ1iiPjCjvNbcaMTSpGr3sqdsOh/Yq7YFGPHgwUAJtUwmp20Z/gKDXRzSZIJyI02Q2jYAS\npMfmpmjw+XnZiWfwpcdudxzRmyhxzq2mo6GZyWiY1/7+G1mvv+yE7GlbSDVk3H54D7tGDrO+rZv+\nmTHCiRjLm9sdC2uA5kCQs3rXct/gQdY5tFbRpDpvleA0DMMWZVwY0RuT1K0gCCXiJKJ3AvAYqgHj\ni8AtwD3AatdXJRREpy0vWrMVOP46b3N13GpaA6V76RmGYVmrnOVyRK8tR5p0osQaPZ/Xm2ZCvNGh\nh54m17xbXZ93YnsPWzqX0R5s5OjcJEdmJ4s+9pRVo+esaUHzrtOez+ndqzmta9WCvwtWbuCNW56d\n9/bb9IQMM+qtxZXTRgw7799+MZesO5WXnFiajejGUC9+j5dD02PMx6McnZtiKhqms6E5baRfa6CB\ngNfHXDxKuMTotCAIxzdOInqfB64HvgvoPMJZqPm373F5XUIBdI3eBSs38JVdOzk0PcpkZL6kgvel\nSK6OW005DRlPT40yGZ1nWVNbmgGvG+Qag1ZqMwboiNc8a1o7SjZ2bgs2MhKeYSo6nzZSTlurbAz1\n4vV42d6zljuO7OOhoUOsKlLkWHNuS4zovXHrs3nj1vxiLh+ZM2+tjtsS6vM056/cYJknl0LQ5+ek\nUA97J4bYNzFkeWJu7VyRFqH2eDx0NjQzND/NeGSOlX5334+CINQ/TiJ6f0YJPXuxyEPAgKsrEopC\n1+itaglZkYknjqOGjOEcUzE0bWVE9FK2KmsceawVQ6pGzx17FUg1ZGwKlS5ccgnjA6bQ22CmhM9a\npmb+OjFOtqZilCj0ymWbzWIlfSJG6c+XG9jr9PLN3ZWGDEEQysGJ0MvWvngCUPpPbaEkkkYyLXWZ\nGvV0/Ag9HdHLtFbRtJkF/KXMu7UmYvSuK3F1ucnWjGEYRsmTMSDVkLGpw3l9niaXMN6fIfTOXrYe\ncNZ5W04zhhusbAnR3djCZHSegZlx9kxoUVV66tYN7HV6Vjq5Y+Ga9Bi0cRmDJghCCThJ3e4F7kBF\n9lqATcDzgNcswrqEPIxH5ogbSULBJhr9AU7rXgUcX8bJOqKZOf5MU05E72Ed0etdU+LqcpMSeql1\nzcQixI0kTf4AjbZGiGLpbVTp63JqznJ56e03x6ppfz49Dk4bJzcUYc5spW6rVFagGzJ2Ht7Lg0P9\nHJgcwYPHVX/EUtCv1+6JQWuWrUT0BEFwGycRvZ8DHwJCKKPkvcCzgP9dhHUJeRiaU2lLLXJO61JC\n7/hK3eqIZvYaPavpwaHQiybiPGFGRrd1uy/0WrJE9MpJ2wL8vzNewAe2X8xLTzyj5HVlmw+cSCat\nyQ06ohdqaGJzxzJHxsmTZXbduoFO3/7qwCPEjSTr27po8pdWz+gWWtQ9NXaUvRO5DZy7GmQ6hiAI\npeNsVhLcZ/7ZeQnwW3eWIxTD0LzquNVF81s7V+DzeNk/OcxcLFpyQf5SItWM0Z71+rYSmzGeGj9G\nNJlgQ6h3USJQ2QyTyxV6G0K9vPfMi8paV3sWYTwwM040mWBlc8gSqABn9a5j78QQDw71W6ncfNSC\n0Dvd7LzdeXgvUP36PFAefI2+gPVeXtUSSuug1ujU7ZikbgVBKIFiInoB4HRUqjaT9cBnXV2RUJDM\ntGWjP8DmjmUkDYOnxo9Wc2kVY7hQ162Zup1xGNHTRsnbXbZV0WihN22bw5uyVnE2FcNN2rPMu+3L\nqM/TaHFXrHGyjhK2l2iv4gZnmNHZhJEEyktzu4XP601LH2/JUp8HEtETBKE8Cgm91cCTwKPAHuBX\ngG5DfAHwADC+aKsTsqKtVZY1p6JZKQuJ+k/fGoZhdd325PLRs5oxnAk93YjhtlGyxoroxd2L6LmB\nNR3D9nzlEnpnmU0qxTZklGuv4ga6IUNTC0IP0teRK8pomSaL0BMEoQQKCb2Po6ZfvAJ4G7AVeC3w\nXuAPwG9QDRlCBdFmycttIudUsyHjeBiFNhGdJ5ZM0B5sTJviYKc9kL25oBB2a5XFIFvXrdVx63Aq\nhptkS93aPfTsbOroLdo42TCMlGFyFYWebsjQ1ELqFtLXkUt8prpuRegJguCcQkKvG3g9quHiO6h6\nvK8An0KJvbcBzv0rapiB6TEiiXi1l5EXqz7NZi1yPFmsFJqKAfZmjOLfnlPRMPsnhwl6fZzStbK8\nReYgm2FyLUT0sk3G6DNn3G7MsG3RxskADw0dynvccCJGNJmgwecvqaPYTXRDRsDr48T2nqquRWNv\nvtiaM6InqVtBEEqnkNDLVA37gceBi1CCD+rIR69vcpgLfv6fvO/On1V7KXlJNSKkhM4pXSvx4GHP\nxGDNC9Vy0TWKuTpuIfeosXw8akbzTu1eRbAI25BSSNm+1JbQ08/XZJaI3oYsY9WKNU6eqIG0rUY3\nZGwI9RLw+qq8GsUWczqH1+PJ+jyD3V5FmjEEQXBOobPZucCbSZkle4AZ4ETzzw/8NXDJYi2wkvx5\n8CBJw2CvaV5aqwyaQme5rUavNdDASaEe+iaH2Ts+aJ3U6pFsQjeTUnz0Hhl+BoAzF6kRA6DF7IjO\nVqPXUc2IXiBdGI+HZxkNz9LsD7KyeWFnc7HGyVYjRpZu0krzwjVbeeOWZ3PRmi3VXorFypYQH9x+\nMa15yhC6GsVHTxCE0ikk9M4Avp1l+6WLsJaqo2dg1vIXqmEYKXuVDKFzWvcq+iaHeXzsSF0LveFi\nhF4JET2rPm+RGjEgvUbPMAw8Hk9NRPR0R6wWxn2TKf+8bGPgijVOrgVrFU2Dz88nzn9ltZexgH8q\nYI3THmzE6/EwFQ0TSyZqJhopCMLSoFDq9gqUvYo3x18jcN1iLrCS7DFNS2tZ6M3Go8zHYzT6ApZo\n0Gjj5HpvyBgqMOcWnDdjGIax6NYqAH6vj0ZfgKRhEE7EAJu9SjWbMQLp9ip9U9k7bjXFGidbjRhV\nmopRD3g9XutHwEQNfzcJglCbFBJ6XwQSea6PAv/p3nKqi543GUnEmY9HC+xdHayO2+a2BZGW48Vi\npZiIXpM/gM/jJZKIEy2iZvHo7CRD89OEgo2c2N7t2lqzkemlV86cW9fWZEVAVaRx/0T2jls7xdis\n6Bq9as25rRcsixXpvBUEwSGFhN5UEceYdmMh1WYsPGvVfkHtWhkM5hE52mLlybGjxJP59PnSxuq6\nbc4t9DweT1Yrk1xY82171mZNVbpJ5hg0XWRfzRq9gNdHsz9I0jCYjUdTHbd5hF4xxsm1lLpdykhD\nhiAIpeJk1m1ds9usz9PUavrWmoqRpUC+s6GZta2dhBMxq8aqHklNBsnddQv2aQ+F07cPL7JRsp1W\n3ZARixBLJpiORfB6PISq3LBgjY2LzFsdtyeVGdFLeehVvxljKdPVKBYrgiCURi0KvdXA9cA7ge8C\np+bY73JUDeGVwLW27Y3AV4ERYAD4h2LudE9Gp22tfqHmasTQnKaNk8fqN307XESNHti99AoLPd2I\nsb0iQs8czxaPWDVXoWATXk91P466Tm8sMsuh6TE8ePL6zRVjnGxNxZAavbLokNStIAglUuqZ5QOu\nriKFB2XO/AvgBuATqOkbmW1mL0fZvlwDXA1sBt5uXvdB4DbUxI6fAV8GLih0x7oRQ1OrQi9lrZJD\n6NV5Q0Y0EWcsMovX47FmgOaiLVBc520imeSxEfV8Laa1isZKKUfDNdFxq9ER0F2jR0gYSda2dua0\n/IDijJN1NFVSt+Uh824FQSiVUoXela6uIsWLgJOBneblp4AYagSbnQ8BN9ku/wo1qQNgECXwngTe\nBxyiCKGnU7fr21Qhfq1+oRbykDvNasioT6E3ElY1Sj2Nrfi8+d++bXrebYGI3r7JIebiUda2dtJT\nIB3sBqnawWhNNGJodARU19zl6ri1U8g4WdfoSTNGeaTGoEmNniAIzqi11O0FwAHA3ia5F3ih7XIQ\nOAfYbdu2D5Xi7QG+nnHMQSCvq6thGJaH3nNWnAjU7hdqvho9SHXePjF6hKSRrNi6KkUxHbeaYiN6\nVn1eBaJ5kBJ6s7FIKqJXRWsVjY7o6ecjc/RZNgoZJ0+KvYordDWIabIgCKVRqtBbLBW0goWdvpOA\nfcJ8F8rbz14UNGH+mzmJvhHoAH6d706Pzk4yHYvQ1dDC5g41hqhWv1ALCZ1lzW0sb2pjOhahf3q8\nkntmQwoAACAASURBVEurCMXMudUU24zxiNWIkfn2WRwse5VYbaVutTDea5YxbGgvLPQyjZMzsWr0\npBmjLCx7Fem6FQTBIaUKvRWFdymJOCpVaydzjfpsEsuyT6Yvxt+j0rfz+e50t3li29K53GZjUJtC\nT9ur5KrRg5TNSj02ZFip6+bCKVadiixkr/LISGUjenZ7lVoSejq9mjTUxMMNRUT0Chkni72KO3Tq\nrltpxhAEwSGLM7m9dI4AF2Zs6wAO2i6PokReKGMfAPuZ5nSUKPxdvju86qqruH/wIFNH9tP44lY6\nT61doRdJxJmIzOG3OeVnY21rFwCDc8XYIC4thueKj+i1FjEdYz4eZff4ID6P10p7Lzb21G00ofwO\nOws0llSCzHm0+Tz07JzVu469E0M8ONRvpXI1qVm3IvTKQVK3gnB8snPnTnbu3FnWMWpN6N0OfCRj\n2xbgO7bLBqpZY5Nt21ZU48aQeXkVcBHweds+ftJr/wAl9P7p/37Ko30P8+LzL7ZOuLX4harTlj1N\nrXmtOHqa1GMYNW1I6olixp9p2ouwV9Edpqd0raTZ9LdbbFqDdsNkFW2shYhem03ohYKN9DQW15hy\n9rL1/GTfAwuMk+PJBDOxCB48VmOMUBq6hnOsBr+XBEFYPHbs2MGOHTusy1dffbXjY9RaM8a9qC7Z\nF5iXtwLNwG9RM3VPN7d/E3ip7XaXAd8y/x8CPgb83rz9qcC/oOr1sqI99LZ2rKDDLBqvxRRJylol\neyOGRp+gR2q0oaQcCvkI2immGeORCjdiALT6F6ZuO2qoGQNgQ2hZ0RNCchknT1vRvMaqewQudULB\nJjx4mIzMk0jWX5OVIAiLR7kRvQDwH7jnq2egPPKuQNmsnAu8BJgDLgEeAnah7FPWo8TfPEocfhYl\nXH+N8tB7h+24PwKyhrcSyST7zHFPmzuXE0uqoF8tRvSKFTndptAbDddfRC9lllw42pSK6OWu0auk\nUbLGXqOnZyrXQkQvXejlNkrOJNM4eVWLqqqYkPo81/B7fbQHG5mMzjMZnbcmZQiCIBTCidC7GGVg\n3Emq6aENSOCugfIB4C3m/6+3bT8nY79PZ7mtAexwcmcHp0eJJOKsagnRHmy0ZsRORcMkksmCXm2V\nJDX6K7/Q015wI3WYuk11HeePakJ6d2suKm2tAuk1erpZoRaEno6AgoroFYs2Tr7jyD4eGjrEqhO3\nATIVw206G5qZjM4zHpkToSfUDWPhWUbCM2zuWF7tpdQtTlTMm4B/RdXLvQt4K0r4vdX9ZVUObZS8\ntVM1Evu9PkLBRgwM6yRcK6Q6TgsIPfMkUG+pW8Mwin4OoPAItJH5GQZmxmn2By1bnUrQFqztrlso\nvhFDk804ecqWuhXKR4u7sTr7XAvHL7vHj3HRrz7Hi3/9RQamx6q9nLrFidC7A1X39jlgHaoh4tPA\nh91fVuXQ9XlbOlKOMR012pChu2iXF4hm1WvqdjYeZT4eo8kfoMVfuHGikI/eoyPPAMpkupKR2zR7\nlRqajGEXZE6FXjbjZLFWcZdat35aSgxMj3GsDl0JlhK7Rg7zmpu+zvD8DLFkgjuO7Kv2kuoWJ2e3\n7aimiF6gFRXZ+wFwpvvLqhx7bB56Gv2FOlFjX6i6Pq1QNKs92EjQ6zNrwDJtCZcu9tR1MY0COhU5\nkyN1q7tEK1mfB6nU7dD8NHEjSZM/QGOembKVQqdYA14f69q6HN02m3GyTMVwl65GEXpuEEsmuPQ3\nX+aFv/wsT0+NVHs5xyUPDvXz2pu/wXhkzipFuutIX5VXVb84EXofBX4DjKAaHx5Cdbi+I9+Nap1U\n6nah0Ku1L9RCc241Ho+nLqN6TqZiQPpM2Wzj4B4xI3pnVlzoKQGqBVEtRPNAPV//es6lXPeclxP0\nOevTymacrGv0xEPPHazpGJK6LYuZWISJyBxT0TCX3/YDqyFKqAz3HjvA62/+JlPRMJetP40fvfjt\nANx9rK8ux3bWAk6E3hTwNVIjyr6IsjhZ0jL86akRvB4PG23F56kB4jUm9OaKtxapx4aMIUvoFefv\n5vN6afEHMTCYiaV/mRuGYVmrbK9gIwZAg89PwOuzLteK0AN41+nP5w1bzi3ptpk2Kzpl3iFCzxV0\njV6t/QBdaoRtWY6nxo/xkbt/iWFOgxEWl/87vI83/uHbzMajvPKkM7l+x9+wpWM5K5rbGQ3Pstss\npRLcxcnP9m3Au4ETAHuB1EagsmdKF0kaBhtCvWmps1qM6CWSSYbN6FxPEUKn2zwpjNbRr/9iI5p2\n2oKNzMajTEfDaTVoT0+NMhmdZ1lTm2UHUklaAg1WaUAtTMVwg0zjZJ26lWYMd+iQiJ4r6Eh6W6CB\nuJHk530Pc/ay9fzt1udUeWX1wUPD/RydnVywfWhummvvv5FoMsHrNp3DJ89/lVUbfcHKDfy872Hu\nPtrHKV0rK73kuseJ0PsN8GPgPkDHVz3ApW4vqtJsyWjrrkWhNxqeJWkYdDW0FJVWS5km109Eb7gE\nodcebOTY3NQCi5XUfNs1RRsDu0lrIGgTerUT0SuHzIie2Ku4Sy1+Ly1FwgkV0VvZEuIfz3gh77nj\nJ1x53284rXuV9R4WSuPJsaO87LfX593nzVvP49rnvDTNRP3ClRv5ed/D3HW0j787NXMKqlAuToTe\n4ywcTwZKAC5ptLWKpha/UC2z5CJsRQC66zB1a9XoFfkcgG06RkbnrTURo8L1eZpWm2ddZw1MxXCD\nTOPkqajU6LmJpG7dQaduG30BXnHSmTw41M+3n7qbd9z2Q37/8v9n1TcLznnI/JG3vq0ra2TuvBUn\n8daTz1/w4/r8lRsAVb8XTybw20pbhPJxIvS+AZwNPJix/WWkxo8tSewdt1CbQs8af1ZkNKvHSt3W\nj9AbmjO7jh1E9FpzWKzoRoxKd9xqdKMI1E9EL9M4WSZjuIv1vVRjtcNLDZ26bTAzIx971mU8NvIM\nDw738547fsIPLn5bTRnlLyV2T6jmxjdueTbvOv35Rd9udWsHJ7R1c3B6lMdGD0tk1WWcvJt7gNtR\naVv73zcWYV0VZUFEz2rGqJ1aGCdGwVCf826ddt0CtFsWK6kxaNFEnCfGjgCwrXuNiyssnpY6FHqQ\nbpxsNWNI6tYVumrU33OpoVO3ui476PNzwwveQE9jK386sp9PP3xLNZe3pLF8aTPOqcVw4aqNANx9\ndEn3d9YkToTeFcBrUM0XJ9n+3Bx/VnEafH7WZ3iG1WJEL9VxW3j0F9R56tZhMwakp26fGj9GJBFn\nQ6i3avVj9ohePQkhu3Fyyl5FmjHcQL9PxiNz0iVaBvbUrWZlS4iv7PgbvB4PX3rsdp6ZGa/W8pYs\nhmGk7MpKGGd2gZm+vVP89FzHidC7B7gZNYv2oO3vu24vqpJsCi1bUA/QWYO/nIeKNEvW9NZZM0Za\n17GDOZ9a6E3ZmjGs+rye6kTzIDN1Wx9dt5BunDwpNXquEvT5aQs0kDCSOae9CIXJTN1qLli5geeu\n2gTALtMLUiiekfAM45E52oONrCzByeD8lScBcP/QwTQLHKF8nAi936GaMZ5n+3s+Szyil1mfBzUa\n0ZvX48+cNWOM1klEbyyiuo47G5odmfm2mYLKHtF7WPvnVbEOJD2iVz+pW7txcsJI0ugLLDihCqWj\nfxSMReqnJKPSWKlb38JpNLqMZ4/4uTlGR/O2dCwvycmgu7GVkztXEEnELYsmwR2cCL13A/+MiuDZ\n/963COuqGNlqCZr86uQUScRrxjVdj/8qNm1p99GrB7fxUqxVwJa6tUf0Rmotolc/Qg9IK6QWaxV3\n6ZQxaGUTNiN62cYOnmz+8NeiRSiecurzNDp9e5fU6bmKE6H3SWAFcKLt7wRU1+2SJdNDD9QIsY4a\n63Bz2ozR4PPTHmwkbiSZrIM0j9PUtaY9w15lKhpm/+QwQa+Pk6tozJkm9OrEXkWj6/RApmK4jXTe\nlk/EjOhlizRv6ZCIXqnYI3qlohsyROi5ixOh93MgswLYB5zi3nIqz8k5fn3UUvrWMAxL6C0vshkD\nSM27rYP07bDDiKYmsxnjUTOad2r3qqqmFLXQ83o8hOqsWcEe0ZNGDHdJfS9J6rZUwnEzopcldbux\nYxkePByYGrFq+YTi2DOhxPHWrtIjes9efiI+j5dHhgfSnBKE8nAi9M5Eib3bUDYrtwP3o7pxlyy5\nikZrSehNRueJJOK0BhpoDgQL38BENy3UQ0PGUAkdt5Cq0dPNGI8MK/+8Mys83zYTba8SCjalOcTX\nA9o4GSR16zZimlw+KXuVhT/0mvwBTmjvJmEk6ZscrvTSlixJI5lK3ZYR0WsLNrKtZzVxI8l9x552\na3nHPU5CGh8FbkHNvH0QSKAMlK9ZhHVVjFxFo7Uk9EqZ8QqpiF4xXnp3He3j6OxE1uu2965jQ6jX\n0X27TapGz5lrvY7ozUTVr0OrPq9KRskaHdGrt/o8SDdOlo5bd+m05t26873UNzmM3+tlfVu3K8fL\nxgODhzgp1GOJ1GoTtrpuF0b0ALZ2LufpqRF2jx+TuatF8szMBHPxKMua2sp+nS9cuZGHhwe4+2gf\nF63d6tIKj2+cCL2bgG+jjJMvRs29/S5qBNqv3F9adakpoTfnrD5P01Okl96TY0d47e9z+173NLby\n0Os+WtXI07D5GEpO3cbCGIaR6ritYiMGpN5fvQ6F61Lh7GXruePIPqspSHAHNyN6c7EoL/vtV2jy\nB/nzX39kUT7fu0YO84rffZXTu1dz40vfXRPR65SPXvbT35bOFdx06Amp03PAHl2fl8XFwikXrNzA\nlx67nTuP7i/7WILCidB7FiqC93FgM3AlEEBZrNQdqWaM6tfCDJZQnwc2oVcgdfvkmPqQrm/r5pxl\n6ZYjtw48xUh4hr7JETZ1LHN0/24yqGf9OhR67bYRaEdnJxmanyYUbOTE9h7X1+iEs3rX8d4zL+J5\npm9XvfHmk5/DbDzKm7Y8u9pLqStSEb3yv5f2TgwyGQ0zGQ1zcGqMk0LufybuOXYAUL50Nx58nJee\nuM31+3BK5mSMTLTZ754J6bwtFqs+r4yOW83Zy9bT4PPzxNhRxsOzdMqPxbJx8vPqOmAaNfbs40AI\n1XF7lfvLqj61FNEbLjWiV2QzxsDMGAAvPfF0vvC816b9nbdCtbvrJoZqUWpEr9XWdfuQZauytiSf\nJzfxeb18YPvFnLv8hKquY7HobmzlY8+6jBPaFy8leDzi5veS3ULk8UUyCH7UnCkN8OmHbyGeTCzK\n/TghUiB1u0W89BzzlAsdt5omf4CzzYauu80fCkJ5OBF6R4B/AUaBNpR/3jbgM4uwrqpTS35VQyVG\ns4ptxhiYVuN+1rZ2LbjuzF6V4nzE9oVdDYYd2stoGnx+Gnz+tOLeatfnCUKpdLn4vaSjMAC7Ro+U\nfbxs6O+NtkADfZPD/LLvkUW5HycUSt2e2N5N0OtjYGZcOj+LxA0PPTvip+cuToTeclQtXhgl9o4C\n/7gYi6oFaimiN1hix6k1HaNAmufQtIrorWvrXHDdGWYt26NVFHrz8RhT0TABr68kX7Y2M6r3pyP7\nANguQk9YonTo8YwupG7tEasnxtwXeuOROQ5Nj9Lg83PluS8B4LOP3Eq0yrYl+SZjAPi9PjaaZSoS\n1StMLJmwOpQ3u1Tec8FK8dNzEydC73sok+Q3AdtRadt21Fi0ukMLvQlzMHs10c0Yy0tM3RZqxtCp\n22wRvW3dSug9OXa0al/QI5bQbS0p5aobMvabX0ZnVLkRQxBKxf4D1DAybU2dsceWut01erjs42Xy\nmPnj8LSuVbxm49lsCi1jYGacn+x7wNX7cYpO3eaK6EEqBSl1eoV5emqEWDLB+rYuyzaqXM7oXUOL\nP0jf5DBHZyddOebxjBOh9xxS3baPojz0rgPqzx+C2oropexVHDZjWGPQcgu9aCLO0dkpvB4Pq1s7\nFlwfamjixPYeIol41X7dDpVYn6dps335rGntKPk4glBtmvwBmvwBoskEs2WMZxwPzzI4P02zP0hn\nQzPjkTmOuHxC1VmAM3rW4PN6ef9ZFwPwhUdvY76KQ+sLNWOA1Ok5YfeYe/V5moDXx3NWnATAVX/+\nLbEaqO1cyjgRerfk2L8uz5o1VaM3Z9boOYzohRqa8Hm8TEbDOaNxh2cnMDBY1RIi4PVl3efMKqdv\nS51zq2mzTWfY3rMuz56CUPt0uuAIsNusz9vcsZzTu1cDKqrnJpbQM0slLlt/Kqd1rWJwborv777X\n1ftygq7RyzcZR09Mkpm3hdG1nm7V52nev/1FtAUauPHgLi6/7QfW6yY4J5/QOxPlm6f/EqipGN+y\nbfsuS3wEWi5CZi3YZGSeRDJZtXUcmZlgOhahwed3XJ/m9XgtH7Ncpsn5GjE0OtX5cJU6b0udivH/\n27vz+LjKsv/jn1myNs2eNN1LW9rS0oWWvQoFFRARcVfcEBRE5FFRedTHBZRHRdQfPoiKgiCI4i6o\nrAJh30tbltJ9X7I0TZo0ezK/P+5zZk4ms2cmmcz5vl+vvpqZOZm5T2aSuea+7uu6bfYaPQgVl4iM\nV5XWOr2WEXwIDS2en8SiyikAvJrmdXprwnpWej1evrL8DAB+tq5+zAodQqnbWDN6VupWM3px2cFw\nOlqrOC2pnsZdZ32asvwiHtq1nosevp2uEcxiu1msQG87cDSww/q3HvgTsNNx3Vbgy5kd4tjwe32U\n5RcSIMCh3rFbp3fr+mcAOGP6wpTWp9m99KK1WNkZoxDDZm8XNlYzeo2ONXqpcO63OtZbn4mMVDqy\nDfb6vKMq6lhcZQV6aZzR23e4jYaudkrzC4e02Dl92nxW1Mygpecwv3n9qbQ9XjISSd1OnVBOSV4B\nzd0dcdc4Z5uu/l4uq//DqFU4Oz80pNvS6mn8+e0XU1U4gcf2buLjD92mSugUxAr0WoEPYPrkRft3\nNfBKpgY31oIVbmOUvj3c18OdG58D4OKj35zSfQQLMqKs09sZoxDDtqhqMj6Pl42tDXT2jf4nqmAf\nwRRn9OztxnwebzBNJTJeVQYrb0cQ6LWG3pyPDqZu0zejZ38oXFI1bchuGB6PhytXnAnAL199nNYx\n+Nva3W/30YueuvV4PI6CjPE1q/fgzvXcvW0t33j2Hxn/e93Z18uO9hb8Hi+zM9SEfmHlZP7y9kuY\nVDSRZ/Zv5SMP3MKh3u6MPFauirdGbxvgAy4HXsQ0TO7A7HV7hXVbzhrrgow/bXqJQ73dHFc7M+WW\nIFVxCjKCqduJ0QO9In8+8ysmMRgIpD29k4hUe+jZ7DV68ysmUZyXn7ZxiYwFe9eelp7U1ugFAoFg\num1+eR2zSispySugofNQ8HdtpJyFGOFWTp7DyslzONTbzU2vPpGWx0tGT5z2Krb543Sd3vMN2wFo\n6+3mr1tWZ/SxNrU1EiDAnLIa8mMEziN1ZHktfzn7EqZOKOelpp186P5fZ8X6+fEiXqBXADwAXIfp\nn/cv4N9AF6bi9hHrmJw0loHewOAgN1upjU8telPK9xPa7zbym4I9ozczxoweOPvpjf46PbvqNtUZ\nPTvYXV6jQgwZ/0baNHlf5yEO9XZTUVBMTVEJXo+XRZWTAXg1TbN6sQI9gCuXm1m929Y/PeoVld32\nGr0YqVsYv+v0XmjcHvz6N68/nfa2OU4bMrQ+L5IjSqv569mXMHNiJesO7OHbz/0z44+ZK+IFel8D\nGoDpwJuADwMftL6eArwG/E8mBziWgmthRpAiSdVDu9azo/0AM0oqOWvGopTvpypO6jY0oxd9jR6E\n/mCPxQ4ZTSMsxnj3nGO4YtlbuXzJaekclsiYGGnVrfPN2V73a6dv0xHoBQKBYKC3LEqgt6J2BnPL\namjv62Ft0+j9TekbHGAgMIjX48Hvif32F9zzdhzN6LX1dLG+ZT95Xh+TikvZ1NbI41aj+EzI5Pq8\nSKaVVHDnGReR5/Xx9y1rxl0QPlbiBXrLgY8DTRFuawUuA+ane1DZYixn9H79mklpXLjwZHzeZLrg\nDBWrl15HXw8tPYcp8PnjzpYFW6yM4h9lMG8aTSMsxqgoKOaKY94asU+gyHhTMcK1w5HenO2CjHS0\nWNnefoC23i5qikqYPKEs6nGhba42j/gxE+WsuI1X3Lag0uql19qQ0VmxdHqpaScBAiypmsoFC04C\n4JYMFr3YbXrS2UMvnlmlVZw/7zgCBPjxyw+N2uOOZ/EiiO2YtirRBDBboeWksQr01jbv5rmG7UzM\nK+BD844b0X3FSt3aFbfTSyri/tGbX1FHgc/P9vYDo7qAurW3i97BASbmFVDk1/o6ETt125JipiHY\nDqM8lG5L54yeM20b6+/KyVag9+QobnMV2uc2dtoWTDakurCEjr4e9hxuzfTQ0uIFa33e8ZOO4CPz\nj6fA5+eR3RvY2tackccLrvUchdSt0+VLT6fA5+feHa/ySnN6+z/moniBXiIlipPTMZBsNFaB3q9f\nexKA8+efEKwYTVWs1O2u9vgVt7Y8ry/Yb2vdKP5ijTRtK5JrQn+XUkzdtg6f0ZtbVkOBz8/OjpYR\nf5CLtz7PdnLdbDx4eKlxx6jtlGG3VolVces03tbpPd+wDYDjJ82ksnAC581eBsCt659O+2Md7Omk\nofMQRf68mO25MqGuuDQ4Y/nD1Q+O6mOPR/ECvX3A96Mc5we+g1nDl5PGItDb29HKv7atw+fxcuFR\nJ4/4/mqKou93u6vDrM+bEaPi1mnpGOyQYbdWUaAnYlQWpp66HRgcZKNjVwyb3+vjqArzmf21lpEl\naUKBXuxOARWFE1hUOZnewQFeatwxosdMVE+ChRg2OyU5Hipvewb6g2uoj500C4CLFq4E4E+bXkx7\nS5KNB0OvI2+c9Y6ZcNmSVUzw5/Pong3BmUyJLN6zcxXwXmAP8Dvgf61/d2AaJr/fOiYnhYoxUt9q\nKFm3rn+G/sAg75h1dFrWlDnbq4SvM0mkWbLTMqvFy5pRrLy1K24npdhaRSTX2B9AU0nd7mhvoWeg\nnykTyigrGLrTTjoaJ/cPDgRn/KMVYjitDKZvR2edXih1m9iMnnOdXrZ7pXkPPQP9zC+fFHyNLKyc\nzEl1sznc38ufNr2Y1sezfyYLRqkQI1xl4YRgR4prVz8wbtZRjoV4gV4zcCLwD+AdmCrcrwFvB/5m\n3daS5jFNBX4OfAazxVq0ktOLgW8B3wa+m8RtCRvtGT1ng+RPL0qtQXK4In8+E/z59A4O0B7WUTyR\nZslOy8ag8lapW5Ghiv35FPj8dA/0Jb0llLN/Xrh0NE7e2NpI90AfM0oqgzOPsaycMheAp0ZpnV4o\ndZvojN746aX3vNVW5ThrNs924UKTGbp1/TNp3c4z1mtptFy86M2U5Rfx7P5to/ZhYTxKZL61BbgU\nqMKsx6sDajBNlNvSPB4PcA8miPwl8APgnwxvzPwu4BOY1PHVwDzgogRuS8pIq9uS9Udren0kDZIj\nqY6SvrVbqyQ6o3dEaRUTrcaq+zsPpW18sYx0n1uRXOPxeIJNk5Nt/bSh1V48P3wWJh0zeomuz7Od\nMGkWfo+Xtc27R2W3g1APvcRm9OaV1wKwubWR/lHu95es0Pq8WUOuP2P6QqaXVLCj/QCP7H4jbY83\nmj30oikrKOLSxacAcO1LD2pWL4pYgV4lcInj8iBmPV4jpto23Arg7BGO563AUUC9dXk90AecF3bc\nlcB9jsv/AL6QwG1JGc0ZvYHBQW553SyYTddsns0uyHC2WAkEAknP6Hk9XpYE26yMTvo2uCtGiq1V\nRHJRqn+b7KKCSOm2+RV1+D1etrQ1p7x1VrKB3oS8Ao6pmc5gIMBz+7em9JjJSKbqFsyuOtNKyukd\nHGD7oQOZHNqIDAYGeaHBrHMMD/R8Xi8XHGUKF36TpqIMs7vK6PbQi+bCo1ZSXVjCmuZdPLRr/ZiO\nJVvFCvRaMNue3QEsjHFcJSZN+k7g3hGOZyWwFeh3XLcRON1xOR84FnB+NNmESfHWxLgt6Y34ivx5\nFPj89Az0J50iSZazQfKZM2L9uJNn99JzVt4e6D5MV38fZfmFw9bqxDLaBRlN1iykZvREQipT3AYt\nFOgNn4Up8PmZVzGJAAFeT7EgIxjo1SQW6EGozcpopG+TrbqF0M/qjSxep7eptYm23i4mF5cxdcLw\ntd0fOvI4ivx5PLF3c1oqiBu62mnr7aK8oDjlHYvSpTgvn88tWQXAdasfZDCQvvR0roj3an8Js/PF\nbzAp0Dcw6doBoAyYgdkC7cuYmbORqgPCc4JtgPOvRiWQx9C0sd3kaG6M26Zh1hwmzOPxUJ5fRENX\nOwe7OykqGd7HbcPBBur3bCDSjHFpQSEfmLsCvzf+lsDpapAcSZU1G3bA0UvPns2bMbEqqfvKRKB3\n/47XWFQ5OeJ+uw1Winis/5iIZJMKu/I2idRtz0A/Ww814/V4mFNWG/GYxVVTeL1lH68c2MOxk2Ym\nNabu/j7Wt+zDg4fFVYl05jJWTp7DT9c+Mir99JKtugWzBu0/u95gw8H9nDNrcaaGNiLBtG3drIi9\nC8sKinj/3BXc/sazXP38vzhlypHDjplfMYnTpiW2/0Fofd6kuD1YR8NH55/ATa8+wfqD+/nntld4\n1+ylYz2krJLIx5qdmJTqPExqdgZmVu1l4BngCSKnclPRj0nVOoVHPfZsX1+EYwZi3JbSq7G8oNgE\nej2dTIlQBfvpR+5g66Ho8WNbTxeXLj415mOsadqVtgbJkVRbqdum7tCG5c5myclYZrVMWHtgD4FA\nYMS/5I/t2cinHrmD2aXVPPLuLw4LijWjJzJcZQqp2y1tjQwEBpldWk1RlEDn6Mqp/JGXeLUl+XV6\nrx/cR39gkHnltUn1/1xRO5MCn583Du6nuasjuKY4E+wZvURTtxBKTWZzQcbzdqPk2llRj7nwqJO5\n/Y1neXzvpqjbov1w5Xs4f97xMR8rEAhw5wZTNLiwMjva6Bb68/j8stP56tN/58cvP8Q7Zh2d9eyK\nPwAAIABJREFU0ASLWyQ+f21SqBszNRDLXsw+uk7lmB06bAcwgVxZ2DFggtJot0X8y3XVVVcFv161\nahWrVq0acntFjA3Ed7W3sPVQMyV5BXwk7JejrbeLuza9yI2vPMZH55/AxPzCSA8PwK9fT1+D5Ejs\nFivO3TFCe9wmtj7PNmVCGdWFJTR3d7CjvYVZpcnNCIb725aXAdh6qJm/bnmZDx55bPC2vsEBWnoO\n4/V4gucgIo4WK0mkbhNZU7V4BDtk2NsjJro+z1bg83P8pFk8sXczz+zfyjuPWJL0Yyeqp9/eAi35\n1G02N01+IUrFrdPc8lp+fuqHI2ZjWns7+eOml/jms/dwdOWU4FrsSH712hPct+M1JuYVBCt6s8EH\njzyW+t0b+fC84/CNQV+/TKmvr6e+vn5E95FMoDcaHgW+GnbdfOA2x+UApljDOfe8AFO4sT/GbY2R\nHtAZ6EVi/0GN1C3eXlOycvIcvnn8O4bcFggE2HaomecatvPr157kimPeGvH+93a08u9tr6StQXIk\n9myYsxgjmLpNckbP4/GwtHoaD+9+g7XNu0cU6HX19/HAzteDl//fmv9w3uxlwfUzdpVwdWFJ2tPZ\nIuNZZQqp21jr82wLKyfjwcOGgw30DPQntZYt0UbJkaycPIcn9m7myb2bMxropTKjN6esBp/Hy/b2\nA3T190WdDR0rezta2d3RSml+YdyedufOXsq5UdKa+V4/d2x4josf/R33vfPy4PIAp2f2b+V7L94P\nwP978wc4ojTppe8Zk+f1cfNbPjbWw0i78Amoq6++Oun7yLZ3z2cxjZhPsy4vAIqBfwHXAPYCiZsx\nxR+2szHrCOPdlrRYLVacgV44j8fDV5afAZhPQNGaLqe7QXIkkYoxUp3RA+c6vZFV3j6y+w06+npY\nVDmZ+eWT2N3Ryl0bXwjeHuqhp4pbEafy4IxeEoFea/x9SYvz8plTVk1/YDDYPiNRdiP1ZGf0AFZO\nHp1+esFAL4lgrcDnZ3ZpNYOBAFvaIs4XjCm7f96xtTNHtEPFVSe8k2XV09nd0crlj/9xWM+9/Z2H\n+Gz97xkIDPLZxady1sxoLW4l22RboBcg1Afvs5jZvXOATuAsQjN1f8b017sGUyyyA/hJArclLVob\ng0Ag4Aj05kb83hPrZnPqlCPp6OvhF68+Puz2TDRIjiRSMcYua0Zv5ggCvZE2Tr5n2zoA3j37GL50\nzNsA+L+1jwQrnLU+TySyVNqr2GvMFpTHnvVJpXFye283W9qayfP6Ulq3tbhqChPzCtjefoA9Ha3x\nvyFFdjFGMjOVEJoFHen2cJlgb/8V3lYlWQU+Pzed9hEqCoqp37OR69c+HLytb3CASx+9k6auDk6u\nm82V1iSGjA/JBHpe4JPAf1mXl5JiI+I4tgIXYHbHuABT+QumbcrfHMf9CPgGZku2/2ZoQUis25IS\n7Q/q5rYmGrvaqSkqCTbVjMSe1fvN60/T2Nk+5LZMNUgOZxdj2DN6/YMD7Lb+mEYqxY9nmdU64ZUD\ne1JuItre281/rJ5H5x6xhLfPXMTiqqk0dLXz2/XPAqFmyaq4FRkqlLpNbI1ee283uztaKfD54y63\nsBsnv9aSeKC37sAeAgRYWDk56SAKzF67J9XNBuCpDO5wkGwfPZv94XZ14860j2mkngsGekeM+L6m\nlpRz46kfxoOH69c8wiO7NwBwzQv38kLjDuqKS/n5qvNV6DDOJBPo/RITQJ1iXV6LaV1yTboHlU1C\n+90ODfSe3Gv+GJ08eU7MytNlNdM5c8ZCugf6uGHdo8HrTYPkp4DMzuaBCVY9eDjY00n/4AD7Drcx\nEBhkUnFpUikMW1VhCdNLKujq72NTa1NKY3pw13p6Bvo5ftIsppSUD0l13/hKPR19PTRarVU0oycy\nVLIzehtbTcpxbllN3Dfp0Ixe4pW3yTZKjmQ0+ul1p9BeBWBF7QwAXmrKrkCvtaeTDQcbyPf6WJJE\nS5tYTpl6JF9Z/jYCBLj8sbv4+SuPccvrT5Hn9XHTaR/NaFW0ZEYyH72mYrZA+6LjuieBX2Bmz3JS\ntD+o9h+jN0VJ2zp9+ZgzeHDneu7c8ByfOfoUppaUWw2SWzLSIDmcz+ulsrCYA92HaenuZGeHtfVZ\nkoUYTkurp7Gr4yBrm3dxVGXyW+DcvXUNAO86IrQw+LSp8ziudiYvNO7g5teedKRu9YdFxCk4o5dg\noJfI+jzb0ZVmRu/1ln30Dw4kNHuTjkDPXgLz5L4taWndFElPCg2TwVQj53l9bDjYQHtvd8wuCmCW\n9vxl82r2dSa3S+iUCeWcN3tpwjNmLzXuJECApdXTUvrQHs3nlqzi5Saz08T3XjQbTX37+HOCAa+M\nL8m82l8GwreHeF+E63JKpEBvYHCQZ6zteiIVYoQ7qrKOc2cv4e6ta7l+7cNct/K9wQbJFy1aOSoV\npdWFJRzoPkxzdwe77B56KazPsy2tnsa/tr/C2ubdSff+O9h9mMf3bMLn8fIORwNSj8fDlSvO5P33\n/YqbXn082OpBqVuRoSbmFeD3eOno66F3oJ/8OIHLGy2hBrfxlBUUMXNiJTvaW9jY2pjQmru1IyjE\nsC2omERV4QQaOg+x9VAzc8pqUr6vaLqD7VWSC4oK/XksqpzCmuZdrGnexZsjNBx2enr/Vr745J9T\nGuOt65/mupXvYaEVcMdit1VJR9rWyevxcv2bP8DZ/7yBHe0tvHv2Mj6x4MS0PoaMnmQCvReBGzCz\nehdjKmPfT4r7yI4XkQK911r20tbbxfSSCmYkGCx9adnb+Ne2V/jTppdYOXlOsEGys29cJoV66XWw\ny5rRS7ZZstNIdsj4945X6Q8McuqUI4elAU6qm82bp8zlib2bedoKpmuLFeiJOHk8HioKi2nq6uBg\nTyeTiktjHr+hNX5rFadl1dPZ0d7C6qadcQO9A90d7O5opdifz5FRdtxIhMfjYeXkOdyzbR1P7t2c\nmUAv2F4l+XWEK2pnsKZ5F6sbd8YN9B7fYxoSn1Q3m2NrE9thZDAQ4B9b17C2eTdvv+dnXLr4FL6w\n9C0xZ+qeT1MhRiRlBUX8+e2X8NiejZw3e1lW7IAhqUnm1f4PYDVwPrAM2AycBLwQ65vGu0gNk2O1\nVYlmdlk175+7nLs2vcjnH/8TkLkGyZHY69zsRseQWsWtbUn1NDx4WH9wf9L9tu7ZuhYgaj+nK5ef\nyRN7QwuyNaMnMlxFgQn0WroTCPQS6KHntLx2BndvW8vqxp18dP4JMY9dYzVKXlw1ZcTZiZOtQO+p\nfVv4xFEnjei+IglW3aaQ5lxeM4NbeCqhdXpPWgUlly1Zxaqp8xJ+jMuXnsa1Lz3Abeuf4Wfr6rl3\n+6tcu/I9wUIVp+7+PtY07cKDJ2Mp1SkTyvhwBnZrktGVTKBXABwF/MC6fASQ87sHl+UXAWYrs4HB\nQXxeb3BPxmhtVaL54rK38rctL9M7OJDRBsmR2DN6B9KUui3JK2BuWQ2b2hp5vWVfwlXD+zsP8cz+\nbeR7fZw1I3IfpmNqpnPG9KN40KrKVTGGyHChbEPsytvmrg6auzsoyStgyoSymMfaVtQkXnyQjvV5\ntjcF++lt5icv/2fY7RUFxXxk/vFxU9XRjHRGD2B1066Yawjberp45cAe8ry+mFuSRVKSV8B3TzyX\n82Yv5ctP/pVNbY28/75f8Z45xzArbF/y5u4OegcHWFBRF+yrKBJJMq/2XwNvwexU0QFsA74ErAEe\njvF945rf66Msv5C23m4O9XYxIa8guIH0yZOHf8qKZWpJOefPP57b1j/DObMWZ6xBciR2irS563Aw\ndTujJPVAD8wf9k1tjaxt3p1woPevbesIEOC0afMpKyiKetyXl5/BQ7veoKygaNRmPUXGk1jN3J02\nWU1+jyyvTTj9ZrdJ2dLWxMGezmBQGclIdsQIN3NiJTNKKtnZ0cJP1gwP9MA0i373nGUp3X+q7VXA\ntKKaVDSRhq72mGsIn92/lcFAgONqp1Ocl5/SOFfUzuT+d/0XP1v3KD9bVx/cKjKSE+vSuz5Pck8y\ngV4TMI2hPen+DvwbM9OXs8oLJtDW283Bnk42tTXR1d/HvPLauOmSSP7n2Lczt6yWd2Vwm59Iqqxe\nersPH6Sxq508r4+6FMbvtLR6Gn/ZstpaiJ1YmsVukuysto1kYeVk7jzjQor8eVobIhJBtNZP4fYe\nNpWfyXywy/f5WVo9jecbtrO6cSdvmb4g4nGBQGBEO2KE83g8/PK083lo1/phzU9XN+7k8b2beLVl\nb8qBXqhhcvKBnsfjYXntDO7b8RovNe6IGujZS3tOTmJpTyQFPj9fOuZtvPOIJdy73axrDlfo8/Oh\nI5ValdiSCfRaGN54+HQg/Stms0xFQTE72g9wsKdzSP+8VBT587kgA2tP4rG3QbPX00yZUD7i9TRL\nrcbJ9n3Gs9Na3F3kz+Ot0+N/NjhlauwFzyJuVpngjN4+K9CrSzBta1teM8MEek3RA709h1s50H2Y\n8oLiEa35dVpSPY0lEYLG+3a8yuN7NyW9NZtTaAu01FK/K2pmWoHeTj4QpZAumdZbiZhXPol5y+JX\nS4tEk8yrfSPwK8y+swFM1e2lmD56Oc1ZeZvuX+LRYqdud7QfAGDGxNQrbm0LKybj93jZ3NZER19P\n3BSrPZt3xoyFKac0RMSoCO53G3uN3r7DZhecyUnO4AebBMfYDcLeBnFp1dSMz7zbhSRvjCTQG0Hq\nFuI3Tm7qamdDawOFvryM7nYkkoxkpnT+jNmC7DPAdZgtya4EvpKBcWUVO0Wy93Abq5t24sEz7tZF\n2Klb20jX54HpLbWwcjIBAqxLoM1KpCbJIpKaRFO39ozelCS3O1xuFWS83LRz2Ab3trXWbP6yUQhq\nZpRUUujLY3/nIVqT2OPXKbgzRorFHEeHNU4O9/Q+0xLqhEmzUi4YEUm3ZHN39wNnAwswW6HdAOR8\nq2z7k/MDO1+nb3CAxVVTxl2VU3i/upFU3Dol2k9vY2sD6w/upyy/kFOTaDcgIpFVJjijZ6/Rm5xk\n6nZScSnTSso53N8b3EItXDoaJSfK5/UG9xWPNp54Qqnb1Gb0ihwfbu21iU52W5WVU8ZXxkdyWzKB\n3izgO8DNwG+sf7cC96R/WNnFDvSestbnJdtWJRtM8OcPSVeMZPszp0QDvbut3nlnzTw6pU3PRWSo\nRKtu7W24Em2t4rSixjT7falpx7DbBgODwf1wRyPQg1D6NpV1eoFAwFGMkfrfILv1zOoIKe2nU+ix\nKpJpyQR6DwALgd3ATmCH9XXsj5M5wA707KqnlVPG3y+xx+OhumhC8HL6ZvRMyiZWoBcIBILr886L\n0iRZRJJTmUDqtru/jwPdh/F7vFQXJr9n9PLa6EHN1rZm2vt6qCsuTakDQSrmV5iihFTW6dlBXr7X\nh9eTeiHailo7+B36M9nV3sKO9hbK8guD+wWLZINkq27fF+F61xRjACk1wcwWVYUl7O4wC7PTUYwB\ncGR5DUX+PHZ1HORAd8ewtYAArxzYw7ZDzVQXlkTs8C4iyUukYfL+zkMA1E0oTanKPlbj5DVpbJSc\nqPnBgoyGpL93pGlbW7TGyXah3ol1s0dl/3KRRCXzavwe8OYI15+SprFkLed6vOU1qTfBHGv2J/oJ\n/vxga4aR8nt9LK6aCsDa5j0Rj7nbms0754jF+L2+tDyuiNuV5hfh9Xho6+2mf3Ag4jF7gxW3yadt\nYXjjZCd7Fn9ZGholJ2p+uZnR29DaQCAQ3u0rtlAhxsgCPbtxcmtPJ1sPNQevT2VrTJHRkEyg932g\nHrPtmfPfnekfVnZxzuiNtAnmWLJTt9MnVqa1FUJond7wxcmDgcHg3raqthVJH5/XG9yisbWnK+Ix\n+6wZvWQrbm1242QYnr5N59ZniaorLqUsv4jWnk4au9qT+t4ea0ZvpGuE7cbJAC81mrWLgUAg1HpL\nhRiSZZIJ9G7GrNGb7fg3F/h2BsaVVew2BjD++uc52WnVdBVi2Ow/9JEaJ7/YuJN9nW1MnVCesY23\nRdzK2eMzEruHXrLNkp3sNiurHenb3oF+XmvZC8CS6qkp33eyPB4PC1Jcp9fdn54ZPXAUqVjB7+a2\nJhq72qkpKuHIstoR379IOiUT6F0PbABage1APrAXuCb9w8ouVYUlFPvzKcsvHNdNMKdbAd6R5ent\nsu6svA1Pp9i98955xJIRLYAWkeEqrR1vWrojr9Oze+gl2yzZKVLj5A0HG+gZ6GfWxKpRbzU1P1h5\nm9w6ve40zehBqEjFXrvo3DFJWzZKtknmFb8Sk6bdCJwB7AJ+BNwEvJL+oWWPIn8efzjzIgp8/nHd\nBPN9c5dT5M+Pup1RqmZNrKIsv4jm7g72Hm5jaolJE/UPDvCv7ealoWpbkfSLP6OXWrNkp/DGyT6v\nN5S2rRm9tK0ttE4vuRk9u+p2pMUYAIurpuL3eIONk8frjkniDsnO6P0MWGtd7gJ+jAn0ct6K2pkc\nXTV6KYpMKPLn8765y4esOUwHj8cTSt861uk9tW8LB7oPM7u0mkVqNyCSdsEWK1ECvVSbJTtFapxs\n/54vG8X1ebYFKVbejnT7M6cifx6LqqYQIMDqpp08s9/siKFCDMlGyQR6T2Bm8Jod100AFqd1RDIu\nLYvQOPmebVYRxuylSmeIZEB5QZzU7QiaJTuFN04ei4pb2zxrjd7G1gYGA5G3ZosknalbCLWeuf2N\nZ2nr7WJ6SQUz0tSfVCSdkgn0OgHnx7cFmN0xnk3riGRcCt8ho2egn/t2vAao2lYkUypjpG5H2izZ\nydk4ucua2fN5vBxdNfoz9RUFxUwqLqWrv4+d7QcT/r50pm4h1Dj5gZ2vA5rNk+yVTKB3LfA14PPA\nPsy6vCbgkxkYl4wzS60ilXXNuxkMDFK/ewOHertZVDmZueWqQhPJhIrC6E2TR9os2cnZOPnVA3sZ\nCAwyr7yWIv/Y9BRdYK/TS6LyNpS6TdOMXlgXgfG4Naa4QzK//edj1uNNBZZh0rbvwGyDJi5nb4PU\n3tfDtkMHuNtK256r2TyRjAkWY0TYBm2kzZKdnI2T6/dsBEa3f1644J63rYmv0wulbtMzo2c3Trad\nPFm7/kh2SibQ+wZQCASABqDXur463YOS8clep/fMvq08tGs9AOcesWQshySS0+wdbloipG7tZskj\nKcSwORsn/37j88DYrM+z2XveJtNiJZi6TdOMnrNx8rzy2lHb71ckWckEep8HFgEzgRnWv1nA5ekf\nloxH9hvBDesepau/jxU1M5iuxckiGVMRo+rWbpY8eQStVZzsNitNXR3A2M7ohfa8TSJ1m6a9bp1O\nrjPr8k6bOj9t9ymSbsl8tPkC8KYI1wdwwe4YEp/9h3+P9QbzLvXOE8koe0YvUuo2Hc2SnZxr0gp8\nfhZU1qXlflMxr7wWDx62tDXRO9CfUH/Trv70Vt0CfGzBCdQUT+R0BXqSxZKZ0fsFJk3rdfzzAf+V\ngXHJOLTE8Qnf6/FwziylbUUyqbzA2uu2t3NYq5G9aWiW7GTP6IFZs5fn9aXlflNR5M9n5sRK+gOD\nbD3UHP8bcKZu0zej5/f6OGfWYorzxqYoRSQRyQR6f8Csy7O3VVgMTAZuTPegZHyqKChm5sQqwKQ0\naosnxvkOERkJv9dHWX4hg4EAbb3dQ27bl4ZmyU5242QY27StLdl1eplI3YqMB8kEeu/GtFX5P+vy\nq8AXgVVpHpOMYyfWHQHAe+ccM8YjEXGH8mD6dmiLlXQ1S3ayW4icWDf2FaYLklyn152B1K3IeJDM\nK/6rmJ55dj4ugNkW7T7HdeJy3zjubM6eeTSnT9OaFZHRUFFQzI72A0MKMtLZLNnpm1n0+x1ssZJg\noJeJ1K3IeJDMjN5jwF8A58fG6ZgqXBHAvOm8ZfoCbXkmMkrs/W6d26Cls1myU3kW/X4HU7cJ9tJT\n6lbcKpm/AIeAk63vyQfOBH4HPJSBcYmISAIqImyDls5mydnqiNJq8rw+drS30NnXG/f47v709tET\nGS/iBXqzgBrr62uBNwOfAFqBm4EHgIsyNTgREYmtstBao+cI9NLZLDlb5Xl9zCkzb0+JzOr12DN6\nSt2Ky8QL9B4Gzra+nowJ9hYAxZi07WVAW8ZGJyIiMdkzei2OXnrpbpacrZJZp9etNXriUvECvVuB\n31pffyzKMZGaKIuIyCiIlLpNd7PkbLUgiXV6PQOquhV3iveK7wK+C/QDp2AaJNurcAPW958BnJjG\nMZ1n3V8LZtbwCqAvwnFl1tjWAyuA24HHrdsWAzdZ/78CXIxpByMiklMqrNStsxgj3c2Ss9X88sR7\n6QVn9FSMIS4TL9D7KXABcDxQDhwR4fsr0jieFcCPgHnAICZV/C3gmxGOvRW4F7NWsBITyC0COjGt\nYD4HTMD0/fubdZ8iIjkl5oxeDq/Rg+T2vLX76KkYQ9wm3iv+HGAtJpj6GHBHhGNOTuN4rgDqMUEe\nwD+AezAzd86yqiMxM3/29mstmJm7C63xfgPYZt32ReARoBZoTONYRUTGnL3fbeuQYoz0N0vORtNK\nypngz6exq52W7sPBwpRI7D56BVqjJy4Tb43e9ZjCC4DtUY55Pm2jMUHjG47Lm4AqhjdkXolJK+92\nXLcROB34D6EgD6AB0/uvJY3jFBHJChV2H70ek7rNVLPkbOT1eJmX4Do99dETt4oX6H0H0ygZzBq9\nSM5J33CoY2gVb6v1f/jGiuHHYV2OtAHjcuAWzDpDEZGcEkzddncSCASCzZInFae3WXK2SnSdnlK3\n4lbxXvEBTKA3iNkB461ht/sw6+L+kabx9DO08ML+KxXehj38OPvY8OO8mED04mgPeNVVVwW/XrVq\nFatWrUp4sCIiY63A52eCP5/D/b209/UEmyXnetrWdmR5LQBb25qiHtM/OEB/YBAPHvK8vtEamsiI\n1dfXU19fP6L7iBfo3Qo8BRwLvAf4J0ODKR+Jz+hNB1bHuP0eYB+m6MNmf70n7Nh9mKpbwo7dHXbd\n54BvA+3RHtQZ6ImIjEcVhcUc7ujlYM9hVzRLdrLXKLb1dkU9JrjPrd+fFdu3iSQqfALq6quvTvo+\nEpnD3mj9202ofYnTYxGui2QXoV02orkJmOu4vACTkn057Lh6YCJm/d4Bx7H3O455D/AsZuwAeURu\n0yIiMq5VFkxgd0crLd2drmmWbCvNLwRiB3rd2hVDXCyZBRyRgjyAKekYiOUW4CxC4zobs59uH2b9\n3Y3W9XswQd251uUKTMHG763LZ2JmEA9hAsATgEvSOE4RkazhbLHilmbJtrKCIgDaemLM6PXbFbda\nnyfuE+9VfwPwF8ys3Rcxs2ROXkx/ungzdYl6Hrga+DFmBrEM03IFTKB3FlAA9AAfB64DSjCNkT9i\nfc8ya8zOOvsAJvgTEck5FY79bt3SLNlWlm+C3EO93VGP0YyeuFm8QG/Q8fWrmF0wniW0Ts9L+qtZ\n7yByv75ngTmOywcwffPCrcGkdUVEXCFUeXvYNc2SbWVW6rY1kdStWquIC8UL9D7v+Po/wE5gQ9gx\nC9M6IhERSUplYSh1G5rRc0mgZ6VuD8UM9JS6FfdK9FVfB7yf0NZk64G/Ak3A65kZmoiIJKLCqjzd\nd7iNlh53NEu2Ffvz8Xm8dPX30TvQT36EYC7UQ08zeuI+iQR67wNuw+yQ0YwJ9KqBHwCfAO7O1OBE\nRCQ+O3W73trz1S3NkgE8Hg9l+UW09BymrbeLmqLhK3e6g+1VFOiJ+8T7S7AQ+C2mKGMqZr/YOkxb\nk69h9sCdnckBiohIbHbqdoMV6LklbWsLpW8jF2T0DGhXDHGveK/6KzDr9G4Ou74N+AVm/9svAZel\nfWQiIpIQe0avd3AAcE8hhs3updcapcVKt9VeRalbcaN4M3p1DA/ynO7DpHRFRGSM2LtD2NzSLNlW\nnh+7ICNUdasZPXGfeIHergTuoy0dAxERkdRUFA79vO2WZsm2UivQi7Y7Rk+w6lYzeuI+8QK9/ATu\nI5FjREQkQ4r8+UPSkm5plmyLtztGqOpWM3riPvFe9RcAp8c5Zgrw2bSMRkREUlJRUMy+Tnc1S7bZ\na/SiFWNoZwxxs3iB3qvAPcBAlNvzgHekdUQiIpK0ikL3BnplVuo22u4YPWqYLC6WyM4Y9XGOeSg9\nQxERkVTZBRl+j5calzRLtsXbHUNboImbxVujV5/AfSRyjIiIZJDdYsVNzZJt9oxevDV6KsYQN3LX\nXwMRkRxlN012W7NkCAV60Rsm2330lLoV91GgJyKSA8qtGT23rc+DUDFGtPYqSt2KmynQExHJAXPK\nagA4qmLyGI9k9CXaXkXFGOJGetWLiOSA82YvZXZpNQsr3RfolSfYMFntVcSNFOiJiOQAr8fLsprp\nYz2MMTHR0UdvMDCI1zM0WaXUrbiZUrciIjKu+b0+SvIKCBCgo6932O3d6qMnLqZAT0RExr1gQUZP\n57DbQlugaUZP3EeBnoiIjHtlMdbpdWuNnriYAj0RERn3gpW3EXrphfa6VepW3EeBnoiIjHuxdscI\nVt2qGENcSIGeiIiMe6HdMSKkbrVGT1xMgZ6IiIx70XbHCAQCwdStqm7FjRToiYjIuBdtd4zewQEA\n8rw+fF695Yn76FUvIiLjXml+5GKMUNpWs3niTgr0RERk3IvWXiWUttX6PHEnBXoiIjLulRdELsYI\nVdxqRk/cSYGeiIiMe6VR2quEeuhpRk/cSYGeiIiMe6H2KkPX6PX0a59bcTcFeiIiMu5Fa6+iGT1x\nOwV6IiIy7pUXxC7G0K4Y4lYK9EREZNwr9OWR7/XRM9AfbKkCoWIMpW7FrRToiYjIuOfxeBy99EKz\netr+TNxOgZ6IiOSEsoLhBRlK3YrbKdATEZGcECzIcLRY6VbqVlxOgZ6IiOSESLtjKHUrbpeNH3HO\nA04EWoDpwBVAX4TjyoDvAuuBFcDtwOMRjrsdeBj4bSYGKyIi2SFioGfvjKFAT1wq22aq91tbAAAU\nzUlEQVT0VgA/Ar4O/BDoBL4V5dhbgXXAL4ArgbuAyrBjPgisAgIZGKuIiGQRe42eM3XbY+91qy3Q\nxKWyLdC7AqgHBq3L/wA+A+SHHXckZubvfutyC/AK8EnHMfOAImBLhsYqIiJZJLQ7hjN1qxk9cbds\nC/ROBt5wXN4EVAFLwo5bCXQBux3XbQROt74uAD4C3JaRUYqISNaJtDtGaGcMzeiJO2VboFcHtDku\nt1r/T4tzHNZl+7gvAD9N++hERCRrlUXYHaNHa/TE5bLtI04/Qwsv7EDUE+c4+1gPcA7wHCadawv/\n/qCrrroq+PWqVatYtWpVMuMVEZEsEWyY3BOpj162vd2JxFdfX099ff2I7mM0X/nTgdUxbr8H2AeU\nO66zv94Tduw+TNUtYcfuAT6BCfZs+ZhU72eAk8If1BnoiYjI+FWu9iqSY8InoK6++uqk72M0A71d\nQE2cY24C5jouL8CkZF8OO64emIhZv3fAcez9mGpdp0cxFbq3Jz1iEREZNyIVY2ivW3G7bFujdwtw\nFqFxnQ38DpOmnQbcaF2/BxPUnWtdrsAUbPw+yv1GTd2KiEhuKC2IUYyhLdDEpbLtI87zwNXAjzEV\ntWWYlitgAr2zMBW1PcDHgeuAEmAxpsp2N5Gpj56ISI4Lzeg51ugpdSsul22BHsAd1r9wzwJzHJcP\nABcmcH+npWNQIiKS3SbmmRm9Q73dDAwO4vN6lboV18u21K2IiEhKfF5vsJfeoT4zq6fUrbidAj0R\nEckZwUDPWqcXapisQE/cSYGeiIjkjLL8ofvdKnUrbqdAT0REckZ4QYaKMcTtFOiJiEjOsHfHaA2m\nbjWjJ+6mQE9ERHJGcL/bni4GBgfpGxzAg0eBnriWAj0REckZZY5iDOf6PI9HffPFnRToiYhIzihz\n7HdrV9xqNk/cTIGeiIjkjLKCYsAUY9jr89RDT9xMgZ6IiOQMu49eW0+XKm5FUKAnIiI5pMxRdRtq\nlqzUrbiXAj0REckZoT56oWIMpW7FzRToiYhIznC2V9GMnogCPRERySHOnTHsNXoFWqMnLqZAT0RE\nckawGENr9EQABXoiIpJDCv15FPj89A0O0NrTFbxOxK0U6ImISE6x07eNnYcANUwWd1OgJyIiOcUO\n9Bq62gH10RN3U6AnIiI5xV6n12DN6Cl1K26mQE9ERHKK3WKl0ZrRU+pW3EyBnoiI5JTQGj2lbkUU\n6ImISE4pzR86o6dAT9xMgZ6IiOSUcit12zc4ACh1K+6mQE9ERHKKXYxhUzGGuJkCPRERySn2Gj2b\nUrfiZgr0REQkp9hVtzalbsXNFOiJiEhOKQ2f0VPqVlxMgZ6IiOSU8mGpW83oiXsp0BMRkZwSXoxR\noDV64mIK9EREJKeUFRQPuVzk14yeuJcCPRERySklefl48AQvq+pW3EyBnoiI5BSvxzskfavUrbiZ\nAj0REck55Y4WK4VK3YqLKdATEZGc42yxotStuJkCPRERyTnO3THUMFncTIGeiIjkHHuNnt/jxe/1\njfFoRMZOrn/MqQE+BrQDDwI7xnY4IiIyGuxt0LQrhrhdNgZ65wEnAi3AdOAKoC/CcWXAd4H1wArg\nduBxx+2nANcDnwJWZ3C8IiKSZezUrdK24nbZlrpdAfwI+DrwQ6AT+FaUY28F1gG/AK4E7gIqrdsW\nAH8HPomCvGHq6+vHeghjQuftLjpvdwk/bzvQy/VCDD3fEk+2BXpXAPXAoHX5H8BngPyw447EzPzd\nb11uAV7BBHYAP8UEemszONZxy62/IDpvd9F5u8uwQM8lqVs93xJPtgV6JwNvOC5vAqqAJWHHrQS6\ngN2O6zYCpwOTgbcBE4HfWff33QyNV0REspBdjKHUrbhdtv0G1AFtjsut1v/TgBdjHId1eRom/RvA\npHw3YNb5vWr9+2P6hywiItnGLalbkXg88Q8ZVe3A5cBt1uV8oBt4LyYVa/uyddxMx3XfA86x/v8/\noNZx212Ygo6PhT3eZmBOeoYuIiIiklFbgLnJfMNozuhNJ3ZhxD3APqDccZ399Z6wY/dhqm4JO3Y3\n0ABMCLttF7AwwmMm9cMSERERGU9GM9DbhelrF8tNDA2+FmBSsi+HHVePWYNXBRxwHHs/8BJm7eEU\nYK91WxGwNcVxi4iIiEgaHI9Jp9pFIj8AbrC+ngbc6Dj234SqbCuAZusYMKnfL1pfezAzicsyMmIR\nERGRLJVta/TArKNbjknDzsW0XOnCNFG+E5OC7cHM5l2Hme1bDPwVeMC6jzJMgLjZ+noNcMeonUF2\nKcSsdTw01gMRkYyqxKxp7hzrgYySWcAHgEbMB/+mMR2NiGSNqcDPMf35fgssGtvhZIwHuADYCbzF\ncb0bzv9UTA/FQ5jgf7p1fa6f+zHAU8BB4CHMhyHI/fO2eYFHMc8/uOO8n8T0HR0k1JrKDef9AeBp\n4AjHdbl83tOBAULPtf1vPrl93gBvAr4DfAHTMm2+dX2un7ekyINZw/dW6/JRmLV7ubjjdQ0mlT2I\n6S8I7jj/Wswv/dHAmcB2TNADuX3u+ZiK8yJMMdIzwP9at+XyeTtdhlmzewrueK2vAL6JyYAsx7z2\n3XDeqzCzeFMc1+X6eV+G+cA+w/o3D7NJAOT2efsYupzrVNzx9xzM+/a1mCD3t5i6BFCAG9fbMGkN\nZxHKBkz7llzlDPTccP4fIvQLAWZWswvzByGXz30SQ3eQ+QHmD4QbnnMwn/rPBrZhAj03nPcdwFcw\nOwXZcv28PZj9zb8Rdn2un3dd2OWzgZ+Q++ddgzm/EuvyUkxP3Vz/e14NvE5oed3/EGo7l3SAm207\nY2TaSswPpd9xnb2jhhu44fzvwvRjtDVg0tcrMUFArp57A9BrfV2ACfyuxx3PeRVmV517rcsecv/5\n9mHW5H0J8wZ3F5BH7j/fJ2FSd7OAv2CCvsvI/ed7f9jld2FakuX6eTdhApvbgVJM/9xvYj7Y5fJ5\nfxzzexywLt8DnI+pYTgK03kEzOu/D7MlbFRuC/TqGF6UYO+o4QZuPP/lwC+IvZtKLnkn8DzmE98i\n3PGcfwET1DpNIref7wHgHZgtHz9uff09zHnn8vO9AvNB7qvA+4CPYPY2P4Hcfr6dvMCbgSdwx9+1\n92Pap+0FHgbuI/fPey4mE2XbhZm9vJgUPsi5LdDrx0S/Tm76Gbjt/CdgKrJvwLwxuuHc/4n5tP84\nZuFyH7l93p/GVOP3hl3vluc7gHmevwh8lNz/HS/BzGA2W5dXY1J5m8nt83Y6AXPeA+T+8w0mqPsP\nZsb+Nkzgl+t/15oZuiTDDmprSCHAzaUfTCL2EnlHjfCdN3KV287f3ipvAHed+3bgIsw6jyZy+7w/\njWmx1GX9mwk8iPnkWxp2bC6dd7i7MecXbdegXDnv/Qzf+Wg3Jn3rluf7PEwqD3L/+S7GzOB9B1Np\nfR1wC7n/d+0vmEkKey3eKdb/bgjsR+wkhqc1tmBeQLnKWYxxMu45/08zdB/jU3DPudt24q7nHELF\nGG77Xa/D9AvN9fNegEnd5jmu+yfwLXL7vJ3WESo4y/Xn+3jM+mObD2jFHX/P342pML4RuBoT4H0L\n83vudC+mClcsHkxJ+mnW5QWYT0RFYzaizPJiAj27j55bzv8CTBprgfXvVOu6deTuuVdi1ufZTgWu\nsb52w3NuswO9XH+tHwd8itCn+f/FpLQgt88bzEL0d1tf5wM7MIFurp83mIX4Dzku5/rrvALTF3Sy\ndbkIM2tXSm6fd7hfAL8n9wP7tJmNyfN/1vp/xVgOJoNqgK9j0pa3YH4RIPfP/yzMJx9nU9EBzOLW\nXD73YzFprccw6epPOm7L5fMOZwd6kNvn/U7MG1s98DXgXMdtuXzeYNYj/RFTkPEz4Azr+lw/b4D/\nBj4Xdl2un/dbMEHOFcD/I5ShyvXztp2ECW6nkvuBvYiIiIhrvB2z29E8x3VJB7jZuNetiIiIiFtV\nAR/G7PTzF4YXYIiIiIiIiIiIiIiIiIiIiIiIiIiIiIiIiIiIiIiIiIjIuOMB3jTWg8iwYxi+T2sk\nkzA7IIwHhZhm3ZngwWzhJyIiMi6tAtYS2r3kF8C/gJuBhaM4jpOBzwDPA98bxcd1+h5mF5NcdTHm\n/GbEOW4psBX4dgqPMRH4MnA9Zj/M0hTuIxnlmNfroxm47zLMHp/pfE0UYX62Ch5FRGTUfBezbZfT\np4DDwPtG4fG9wHbr/5mE9ksdDedgtrMCmEXuBXrLgBMclxMJ9MB0u/9WCo93DXCh9fXngIIU7iMR\nlzq+/gSZCfQgPa+JS8MuX4bZF1pERGRUXMXwQA/g+0AHZrP2TJrC2ARY04G9mOASci/QKwdeBU51\nXJdooHcrqc3oPYAJvDLpTGCz4/IFZG+gtxTzOyTiat6xHoCIRPR/QDGhWb1LMRuaf826DWAOsAV4\nBKixrvs6cJP19XmYmZ2vYIKAcDMxG4UD/A/wUeBE4C7MzMczwB+s2z8D/Bfwv5gNxqsAnzWetcB7\ngH8DOzFrtq4EnrPuoyTCYx+PCWIvI7RJOcC7gKeBHZg9HH3AJcBqzL6PjcDZmA2+v4/Z1P4ZzObe\nAHnAN4AfWo//7giPXYtJC95hHfsE8KL187gB2Aj80nH8DOAHmJ/lX4EPWtcfBzxkXf8HYD8mRYv1\nM5gCfCxsDCsxz9de6zyiqQUeBtowz4f9MyzFzNz9BHjBuj8wz82RwDsxz2UpJlX5HWtMN1vf57PO\n88fWffwaM6Prw7xersE8j78i8vvDOzAzYl/HvP4C1vXfwAS2z2LSrrHGGm4h5ud7C+ZnE+3DTbTn\nHMzr8yvW+fwYs77vrZjfoa9jXksVmNfSqWHfF/66LsTMqD6MmSFdi1nWUIaIiEiSriLyjB6YoOYG\nzBvPAFBtXb8PONr6+lOYYM/2HcxifoCXMTNLAB+J8hgzGTpr4sUEVb/BzLqdDXwAExTZfkgocDza\nGpu97un7mDf8Cuvys5g9GyNxznDNsi6/xbr8Y+C31tfHWLedBrzNGvOdmDdxMD+jx6yv/9sxlvcB\n7UQONC/DzExNsS4/Y92nB/OG3gVMxgRA6zAbiYMJqNsdj/E0Jij0YFLROx2PsQ04Jex8L7K+vtwx\n5nC3YWbJSoG5wC7MujswAaqd7v4yJkizPQp83HH554RSuWAC369bY70e8/qYjAlGp2N+jgD5mD02\nPxlhbKcy9PV6gTUG++fzguP7Yo3V5sXs5Wn7J6HnfRZDX5u/J/JzfgkmuAXzujsMzI/w/WdjZvjs\nn0ms1/WZmJ/BEuvy8wz9WYqMG/6xHoCIRDVo/evGzEg0Y95ofYQCqTsxhQxnA/digrwG67btmDfR\nj2PeJCPxRHjMNsyb6C7r34PA3Y5jbgVewwQHHdZ9PG3dtgloAg5alzdg3nAT9bD1/2vA+dbX9n3Z\nKcI6TKB1ueP72q3/P4kJHt6MqXB9BhNsvBH2OIetc9trXd6ICZgDmPNvxASUR2CCwa3WcU2Yn/On\nMOfcY/0fsMY8Nc75PeQ4v89HOSZgnesh69/Pgc8CX8DMDtrBZLU17nKg1brOfj69mCDsRsf93oaZ\n9fqedfwazIeGO4CvYoK+/7aOfRRT3BEu/PUCJvCzfz6vEwqe440VzMzubMfjNkR5jDrgJCI/558H\nPmR9fdA6tp3hr7t7Mc+f7VNEf133YH726xznFe+5FclKCvREslMZ5s1xvXW5ALgWM3t0mNCbYRcm\nzXYZsAd4yXEflwD3YN68LgH+lOJYphKaSQGTVgXzht4Qdmz4mqpBzAxRsgYxAW0kMzFp0msj3DYD\nMxvYm8LjecIu52OChqKwY3cAiyPcR4DIQUq0x4t2foTdz+uY10OtdX2k83aOAcxrp5Dhz9uUYd9h\nzMAE9L+Kcd+JsM8rkbGCeS43JHhctOd8NqHzhlAAGE+s13W4AFrqJOOUXrgi2el8zGzZXzEzUndj\nFuhHSvPeiFnn9iWGpsHyMDNf3wN+R2KFADbnG+d2YJ7jsl3NuZXEBOIfkpQDmJSxs3qyGvMGfQCT\n4rV5iByURRJpnNswgZ5zNqeAxM89Vc6x5GOC9YOY83SuTSti6HNja8J8IAh/3rZEOBaG/9zAFDOk\nKtGxHsC8Rp2TDvMwQWr4cdGe80aGj30m8W0nudd1ul/HIqNCgZ7I2MqLcN3bMWvtPoF5wz4Bs84s\nH5OOqsakwOwZoX3A363rWxz381nMDMt1mEDBOXths+/D+bfAG3b555i2K3Yq7zTM7GATkWewnNd5\noxwD0ImZ+al1PJ4z9egJu862GfMmfQemIGAhJgjei5nBvBFTVDIVs+7qQJwx2pe9EW5/AVOocZHj\n+jdhfiZgfn4ex9dOhyOcn/PnHWv2z3lfZ2DWPvZhZt1uxwQ9R2CeWzs96icUMAUws78XOe7nNELr\n8Dxhj38P5jm+DJP+fy+RGyEfxiwb8DrOy/lz81mX443V9jQmALwJkzI9FrMWrjvsfrcQ/Tn/M2at\n63sxaxq/jXnOD1vfW22N1R6f/bON9boOf2/0k/hsrYiICGAaJq/BrAf6OWaB/K2YQGW247gaTKC2\nHbOo/XeYAMSZYvoYw1trbMZUPV5K5HYdFZiAcgCzzqnGGlMDJnB0znZ8GlNZeiXwU0yhQB5mcf8A\npvChGrMOrAGznmo+Ju34EJFnE2/CpKbfBXzTup9PWeP4OyaAPRHTa3AAE7jaO0sswhQXtGMW0E+3\nri/DzGq2YdZXrYrwuLWYStYdmEKPeZgClMcwP/czMIHGjzEB9mTMzOq3MYHje6z7WYaZTboTU615\njTVOuyr3f6zHuBDz3Axa91FhnXsXQytAbaswQdIPMQHepx23TcP8PNsxQZI9W3kWZg3nP61zAvPB\n4HpMcPc1zM8Y63yfxKxbdO5G8jlgt3VO10QYF5jnfC1mLeXJmJ91I+bDyCJMGvZRTLAYbazhTsEU\n8BzCBFplmJ/7tZif5wWYwCvac16MCShbMb8Xyxz3fb913ZswgWAP5rVlz9BGe13fiAkUT8NUM9vV\n7ZludyQiIhLRDUSuLhURERdTMYbI+DURU4m5HzNToeawIiIiIjliFiZd9whq5ioiIiIiIiIiIiIi\nIiIiIiIiIiIiIiIiIiIiIiIiIiIiEsH/B8SS7gJNLrHFAAAAAElFTkSuQmCC\n",
      "text/plain": [
       "<matplotlib.figure.Figure at 0x1126f7950>"
      ]
     },
     "metadata": {},
     "output_type": "display_data"
    }
   ],
   "source": [
    "#your code here\n",
    "three_months = dt.datetime(2012,8,15,0,0)\n",
    "\n",
    "new_data = election [map(lambda x: x >= three_months , election[\"Start Date\"]) ]\n",
    "new_data = new_data.sort(\"Start Date\")\n",
    "new_data[\"days\"]= map(lambda x: (x - three_months).days , new_data[\"Start Date\"])\n",
    "\n",
    "new_data[\"Diff\"] = (new_data.Obama/100) - (new_data.Romney/100)\n",
    "new_data = new_data.groupby([\"days\"], as_index=False).mean()\n",
    "\n",
    "plt.figure()\n",
    "plt.plot(new_data.days, new_data.Diff )\n",
    "plt.xlabel(\"Days from three month before the election\")\n",
    "plt.ylabel(\"Difference (Obama - Romney)\")\n",
    "plt.title(\"Difference between Obama and Romney across time\")\n",
    "plt.show()"
=======
    "## Discussion for Problem 2\n",
    "\n",
    "*Write a brief discussion of your conclusions to the questions and tasks above in 100 words or less.*\n",
    "\n",
    "In this problem we considered all the polls from pollsters in November 2012. After removing polls that came from the same pollster in Nov 2012, we did not see any pollster bias.  The standard deviation from the 2012 Presidential Election was smaller than what we expect by chance.  \n",
    "\n",
    "---\n"
>>>>>>> 78f754b2a7dcc64bee2906766889a9cea64d03b3
   ]
  },
  {
   "cell_type": "markdown",
   "metadata": {},
   "source": [
<<<<<<< HEAD
    "Answer: Around fifty days before the election, there was a change resulting a positive difference between Obama and Romney in the polls. "
=======
    "## Problem 3: Is the average of polls better than just one poll?"
>>>>>>> 78f754b2a7dcc64bee2906766889a9cea64d03b3
   ]
  },
  {
   "cell_type": "markdown",
   "metadata": {},
   "source": [
<<<<<<< HEAD
    "## Discussion for Problem 3\n",
    "\n",
    "*Write a brief discussion of your conclusions to the questions and tasks above in 100 words or less.*\n",
    "\n",
    "Yes, the average of polls is better than just one poll because there can be a large amount of variability between pollsters.  \n",
    "\n",
    "---\n"
   ]
  },
  {
   "cell_type": "markdown",
   "metadata": {},
   "source": [
    "## Problem 4\n",
    "\n",
    "In this last problem, we will use the polls from the [2014 Senate Midterm Elections](http://elections.huffingtonpost.com/pollster) from the [HuffPost Pollster API](http://elections.huffingtonpost.com/pollster/api) to create a preliminary prediction of the result of each state. \n",
    "\n",
    "The HuffPost Pollster API allows you to access the data as a CSV or a JSON response by tacking \".csv\" or \".json\" at the end of the URLs. For example the 2012 Presidential Election could be accessed as a [.json](http://elections.huffingtonpost.com/pollster/2012-general-election-romney-vs-obama.json) instead of a [.csv](http://elections.huffingtonpost.com/pollster/2012-general-election-romney-vs-obama.csv)"
=======
    "#### Problem 3(a)\n",
    "\n",
    "Most undecided voters vote for one of the two candidates at the election. Therefore, the reported percentages underestimate the final value of both candidates. However, if we assume the undecided will split evenly, then the observed difference should be an unbiased estimate of the final difference. \n",
    "\n",
    "Add a new column to the `election` DataFrame containg the difference between Obama and Romeny called `Diff`. "
   ]
  },
  {
   "cell_type": "code",
   "execution_count": 110,
   "metadata": {
    "collapsed": false
   },
   "outputs": [
    {
     "data": {
      "text/html": [
       "<div style=\"max-height:1000px;max-width:1500px;overflow:auto;\">\n",
       "<table border=\"1\" class=\"dataframe\">\n",
       "  <thead>\n",
       "    <tr style=\"text-align: right;\">\n",
       "      <th></th>\n",
       "      <th>Pollster</th>\n",
       "      <th>Start Date</th>\n",
       "      <th>End Date</th>\n",
       "      <th>Entry Date/Time (ET)</th>\n",
       "      <th>Number of Observations</th>\n",
       "      <th>Population</th>\n",
       "      <th>Mode</th>\n",
       "      <th>Obama</th>\n",
       "      <th>Romney</th>\n",
       "      <th>Undecided</th>\n",
       "      <th>Pollster URL</th>\n",
       "      <th>Source URL</th>\n",
       "      <th>Partisan</th>\n",
       "      <th>Affiliation</th>\n",
       "      <th>Diff</th>\n",
       "    </tr>\n",
       "  </thead>\n",
       "  <tbody>\n",
       "    <tr>\n",
       "      <th>0</th>\n",
       "      <td> Politico/GWU/Battleground</td>\n",
       "      <td>2012-11-04</td>\n",
       "      <td>2012-11-05</td>\n",
       "      <td>2012-11-06 08:40:26</td>\n",
       "      <td> 1000</td>\n",
       "      <td> Likely Voters</td>\n",
       "      <td>      Live Phone</td>\n",
       "      <td> 47</td>\n",
       "      <td> 47</td>\n",
       "      <td>  6</td>\n",
       "      <td> http://elections.huffingtonpost.com/pollster/p...</td>\n",
       "      <td>NaN</td>\n",
       "      <td> Nonpartisan</td>\n",
       "      <td> None</td>\n",
       "      <td> 0.00</td>\n",
       "    </tr>\n",
       "    <tr>\n",
       "      <th>1</th>\n",
       "      <td>                UPI/CVOTER</td>\n",
       "      <td>2012-11-03</td>\n",
       "      <td>2012-11-05</td>\n",
       "      <td>2012-11-05 18:30:15</td>\n",
       "      <td> 3000</td>\n",
       "      <td> Likely Voters</td>\n",
       "      <td>      Live Phone</td>\n",
       "      <td> 49</td>\n",
       "      <td> 48</td>\n",
       "      <td>NaN</td>\n",
       "      <td> http://elections.huffingtonpost.com/pollster/p...</td>\n",
       "      <td>NaN</td>\n",
       "      <td> Nonpartisan</td>\n",
       "      <td> None</td>\n",
       "      <td> 0.01</td>\n",
       "    </tr>\n",
       "    <tr>\n",
       "      <th>2</th>\n",
       "      <td>          Gravis Marketing</td>\n",
       "      <td>2012-11-03</td>\n",
       "      <td>2012-11-05</td>\n",
       "      <td>2012-11-06 09:22:02</td>\n",
       "      <td>  872</td>\n",
       "      <td> Likely Voters</td>\n",
       "      <td> Automated Phone</td>\n",
       "      <td> 48</td>\n",
       "      <td> 48</td>\n",
       "      <td>  4</td>\n",
       "      <td> http://elections.huffingtonpost.com/pollster/p...</td>\n",
       "      <td>NaN</td>\n",
       "      <td> Nonpartisan</td>\n",
       "      <td> None</td>\n",
       "      <td> 0.00</td>\n",
       "    </tr>\n",
       "    <tr>\n",
       "      <th>3</th>\n",
       "      <td>      JZ Analytics/Newsmax</td>\n",
       "      <td>2012-11-03</td>\n",
       "      <td>2012-11-05</td>\n",
       "      <td>2012-11-06 07:38:41</td>\n",
       "      <td> 1041</td>\n",
       "      <td> Likely Voters</td>\n",
       "      <td>        Internet</td>\n",
       "      <td> 47</td>\n",
       "      <td> 47</td>\n",
       "      <td>  6</td>\n",
       "      <td> http://elections.huffingtonpost.com/pollster/p...</td>\n",
       "      <td>NaN</td>\n",
       "      <td>     Sponsor</td>\n",
       "      <td>  Rep</td>\n",
       "      <td> 0.00</td>\n",
       "    </tr>\n",
       "    <tr>\n",
       "      <th>4</th>\n",
       "      <td>                 Rasmussen</td>\n",
       "      <td>2012-11-03</td>\n",
       "      <td>2012-11-05</td>\n",
       "      <td>2012-11-06 08:47:50</td>\n",
       "      <td> 1500</td>\n",
       "      <td> Likely Voters</td>\n",
       "      <td> Automated Phone</td>\n",
       "      <td> 48</td>\n",
       "      <td> 49</td>\n",
       "      <td>NaN</td>\n",
       "      <td> http://elections.huffingtonpost.com/pollster/p...</td>\n",
       "      <td>NaN</td>\n",
       "      <td> Nonpartisan</td>\n",
       "      <td> None</td>\n",
       "      <td>-0.01</td>\n",
       "    </tr>\n",
       "  </tbody>\n",
       "</table>\n",
       "</div>"
      ],
      "text/plain": [
       "                    Pollster Start Date   End Date Entry Date/Time (ET)  \\\n",
       "0  Politico/GWU/Battleground 2012-11-04 2012-11-05  2012-11-06 08:40:26   \n",
       "1                 UPI/CVOTER 2012-11-03 2012-11-05  2012-11-05 18:30:15   \n",
       "2           Gravis Marketing 2012-11-03 2012-11-05  2012-11-06 09:22:02   \n",
       "3       JZ Analytics/Newsmax 2012-11-03 2012-11-05  2012-11-06 07:38:41   \n",
       "4                  Rasmussen 2012-11-03 2012-11-05  2012-11-06 08:47:50   \n",
       "\n",
       "   Number of Observations     Population             Mode  Obama  Romney  \\\n",
       "0                    1000  Likely Voters       Live Phone     47      47   \n",
       "1                    3000  Likely Voters       Live Phone     49      48   \n",
       "2                     872  Likely Voters  Automated Phone     48      48   \n",
       "3                    1041  Likely Voters         Internet     47      47   \n",
       "4                    1500  Likely Voters  Automated Phone     48      49   \n",
       "\n",
       "   Undecided                                       Pollster URL  Source URL  \\\n",
       "0          6  http://elections.huffingtonpost.com/pollster/p...         NaN   \n",
       "1        NaN  http://elections.huffingtonpost.com/pollster/p...         NaN   \n",
       "2          4  http://elections.huffingtonpost.com/pollster/p...         NaN   \n",
       "3          6  http://elections.huffingtonpost.com/pollster/p...         NaN   \n",
       "4        NaN  http://elections.huffingtonpost.com/pollster/p...         NaN   \n",
       "\n",
       "      Partisan Affiliation  Diff  \n",
       "0  Nonpartisan        None  0.00  \n",
       "1  Nonpartisan        None  0.01  \n",
       "2  Nonpartisan        None  0.00  \n",
       "3      Sponsor         Rep  0.00  \n",
       "4  Nonpartisan        None -0.01  "
      ]
     },
     "execution_count": 110,
     "metadata": {},
     "output_type": "execute_result"
    }
   ],
   "source": [
    "#your code here\n",
    "election[\"Diff\"] = (election.Obama / 100) - (election.Romney / 100)\n",
    "election.head()"
>>>>>>> 78f754b2a7dcc64bee2906766889a9cea64d03b3
   ]
  },
  {
   "cell_type": "markdown",
   "metadata": {},
   "source": [
<<<<<<< HEAD
    "#### Problem 4(a)\n",
    "\n",
    "Read in the polls for **all** of the 2014 Senate Elections using the HuffPost API. For example, we can consider the [2014 Senate race in Kentucky between Mitch McConnell and Alison Grimes](http://elections.huffingtonpost.com/pollster/2014-kentucky-senate-mcconnell-vs-grimes). \n",
    "\n",
    "To search for the 2014 Senate races, use the `topics` parameter in the API [[read more about topics here](http://elections.huffingtonpost.com/pollster/api)].  "
=======
    "#### Problem 3(b)\n",
    "\n",
    "Make a plot of the differences for the week before the election (e.g. 5 days) where the days are on the x-axis and the differences are on the y-axis.  Add a horizontal line showing 3.9%: the difference between Obama and Romney on election day.\n"
>>>>>>> 78f754b2a7dcc64bee2906766889a9cea64d03b3
   ]
  },
  {
   "cell_type": "code",
<<<<<<< HEAD
   "execution_count": 125,
   "metadata": {
    "collapsed": false
   },
   "outputs": [],
   "source": [
    "url_str = \"http://elections.huffingtonpost.com/pollster/api/charts/?topic=2014-senate\""
=======
   "execution_count": 111,
   "metadata": {
    "collapsed": false
   },
   "outputs": [
    {
     "data": {
      "text/plain": [
       "<matplotlib.text.Text at 0x1126f7410>"
      ]
     },
     "execution_count": 111,
     "metadata": {},
     "output_type": "execute_result"
    },
    {
     "data": {
      "image/png": "iVBORw0KGgoAAAANSUhEUgAAAqEAAAGRCAYAAABVMGpuAAAABHNCSVQICAgIfAhkiAAAAAlwSFlz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\nAABJRU5ErkJggg==\n",
      "text/plain": [
       "<matplotlib.figure.Figure at 0x112222290>"
      ]
     },
     "metadata": {},
     "output_type": "display_data"
    }
   ],
   "source": [
    "#your code here\n",
    "last_day = max(election[\"Start Date\"])\n",
    "filtered = election[map(lambda x: (last_day - x).days <= 5, election[\"Start Date\"]) ]\n",
    "filtered = filtered.sort(columns=[\"Start Date\"])\n",
    "days= map(lambda x: (last_day - x).days , filtered[\"Start Date\"])\n",
    "\n",
    "color_map = {}\n",
    "for i, p in enumerate(set(filtered.Pollster)):\n",
    "    color_map[p] = np.random.rand();\n",
    "\n",
    "plt.scatter(days, filtered.Diff, c = map(lambda x: color_map[x], filtered.Pollster),  s=60 )\n",
    "plt.axhline(y=0.039, c = \"gray\")\n",
    "plt.axhline(y=np.mean(filtered.Diff), c = \"red\")\n",
    "plt.xlabel(\"Days\")\n",
    "plt.ylabel(\"Difference (Obama - Romney)\")\n",
    "plt.title(\"Plot of the difference between Obama and Romney colored by different pollsters in the last week\")\n",
    "\n"
>>>>>>> 78f754b2a7dcc64bee2906766889a9cea64d03b3
   ]
  },
  {
   "cell_type": "markdown",
   "metadata": {},
   "source": [
<<<<<<< HEAD
    "To list all the URLs related to the 2014 Senate races using the pollster API, we can use a list comprehension:"
=======
    "#### Problem 3(c) \n",
    "\n",
    "Make a plot showing the differences by pollster where the pollsters are on the x-axis and the differences on the y-axis. "
>>>>>>> 78f754b2a7dcc64bee2906766889a9cea64d03b3
   ]
  },
  {
   "cell_type": "code",
<<<<<<< HEAD
   "execution_count": 126,
=======
   "execution_count": 112,
>>>>>>> 78f754b2a7dcc64bee2906766889a9cea64d03b3
   "metadata": {
    "collapsed": false
   },
   "outputs": [
    {
     "data": {
<<<<<<< HEAD
      "text/plain": [
       "[u'http://elections.huffingtonpost.com/pollster/2014-kentucky-senate-mcconnell-vs-grimes.csv',\n",
       " u'http://elections.huffingtonpost.com/pollster/2014-arkansas-senate-cotton-vs-pryor.csv',\n",
       " u'http://elections.huffingtonpost.com/pollster/2014-michigan-senate-land-vs-peters.csv',\n",
       " u'http://elections.huffingtonpost.com/pollster/2014-louisiana-senate-cassidy-vs-landrieu.csv',\n",
       " u'http://elections.huffingtonpost.com/pollster/2014-new-hampshire-senate-brown-vs-shaheen.csv',\n",
       " u'http://elections.huffingtonpost.com/pollster/2014-west-virginia-senate-capito-vs-tennant.csv',\n",
       " u'http://elections.huffingtonpost.com/pollster/2014-new-hampshire-senate-bass-vs-shaheen.csv',\n",
       " u'http://elections.huffingtonpost.com/pollster/2014-north-carolina-senate-tillis-vs-hagan.csv',\n",
       " u'http://elections.huffingtonpost.com/pollster/2014-virginia-senate-gillespie-vs-warner.csv',\n",
       " u'http://elections.huffingtonpost.com/pollster/2014-colorado-senate-gardner-vs-udall.csv',\n",
       " u'http://elections.huffingtonpost.com/pollster/2014-illinois-senate-oberweis-vs-durbin.csv',\n",
       " u'http://elections.huffingtonpost.com/pollster/2014-alaska-senate-sullivan-vs-begich.csv',\n",
       " u'http://elections.huffingtonpost.com/pollster/2014-iowa-senate-ernst-vs-braley.csv',\n",
       " u'http://elections.huffingtonpost.com/pollster/2014-mississippi-senate-cochran-vs-childers.csv',\n",
       " u'http://elections.huffingtonpost.com/pollster/2014-oregon-senate-wehby-vs-merkley.csv',\n",
       " u'http://elections.huffingtonpost.com/pollster/2014-georgia-senate-perdue-vs-nunn.csv',\n",
       " u'http://elections.huffingtonpost.com/pollster/2014-nebraska-senate-sasse-vs-domina.csv',\n",
       " u'http://elections.huffingtonpost.com/pollster/2014-south-dakota-senate-rounds-vs-weiland.csv',\n",
       " u'http://elections.huffingtonpost.com/pollster/2014-maine-senate-collins-vs-bellows.csv',\n",
       " u'http://elections.huffingtonpost.com/pollster/2014-minnesota-senate-mcfadden-vs-franken.csv',\n",
       " u'http://elections.huffingtonpost.com/pollster/2014-texas-senate-cornyn-vs-alameel.csv',\n",
       " u'http://elections.huffingtonpost.com/pollster/2014-south-carolina-senate-graham-vs-hutto.csv',\n",
       " u'http://elections.huffingtonpost.com/pollster/2014-south-carolina-senate-scott-vs-dickerson.csv',\n",
       " u'http://elections.huffingtonpost.com/pollster/2014-oklahoma-senate-inhofe-vs-silverstein.csv',\n",
       " u'http://elections.huffingtonpost.com/pollster/2014-new-mexico-senate-weh-vs-udall.csv',\n",
       " u'http://elections.huffingtonpost.com/pollster/2014-new-jersey-senate-bell-vs-booker.csv',\n",
       " u'http://elections.huffingtonpost.com/pollster/2014-idaho-senate-risch-vs-mitchell.csv',\n",
       " u'http://elections.huffingtonpost.com/pollster/2014-tennessee-senate-alexander-vs-ball.csv',\n",
       " u'http://elections.huffingtonpost.com/pollster/2014-wyoming-senate.csv',\n",
       " u'http://elections.huffingtonpost.com/pollster/2014-kansas-senate-roberts-vs-orman-vs-taylor.csv',\n",
       " u'http://elections.huffingtonpost.com/pollster/2014-hawaii-senate-cavasso-vs-schatz.csv',\n",
       " u'http://elections.huffingtonpost.com/pollster/2014-oklahoma-senate-lankford-vs-johnson.csv',\n",
       " u'http://elections.huffingtonpost.com/pollster/2014-montana-senate-daines-vs-curtis.csv',\n",
       " u'http://elections.huffingtonpost.com/pollster/2014-rhode-island-senate-zaccaria-vs-reed.csv',\n",
       " u'http://elections.huffingtonpost.com/pollster/2014-massachusetts-senate-herr-vs-markey.csv',\n",
       " u'http://elections.huffingtonpost.com/pollster/2014-delaware-senate-wade-vs-coons.csv']"
      ]
     },
     "execution_count": 126,
     "metadata": {},
     "output_type": "execute_result"
    }
   ],
   "source": [
    "election_urls = [election['url'] + '.csv' for election in requests.get(url_str).json()]\n",
    "election_urls"
=======
      "image/png": "iVBORw0KGgoAAAANSUhEUgAAAnMAAAJfCAYAAAAU3lBDAAAABHNCSVQICAgIfAhkiAAAAAlwSFlz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\n",
      "text/plain": [
       "<matplotlib.figure.Figure at 0x112222b90>"
      ]
     },
     "metadata": {},
     "output_type": "display_data"
    }
   ],
   "source": [
    "#your code here\n",
    "pollster_map = {}\n",
    "\n",
    "polls = list(set(filtered.Pollster))\n",
    "\n",
    "for i, p in enumerate(polls):\n",
    "    pollster_map[p] = i\n",
    "\n",
    "plt.scatter(map(lambda x: pollster_map[x],filtered.Pollster), filtered.Diff, \\\n",
    "            c = map(lambda x: color_map[x],filtered.Pollster),s=60)\n",
    "plt.xticks(range(len(polls)), polls, rotation = 90)\n",
    "plt.xlabel(\"Pollsters\")\n",
    "plt.ylabel(\"Difference (Obama - Romney)\")\n",
    "plt.title(\"Plot of the difference between Obama and Romney by different pollsters\")\n",
    "plt.show()"
>>>>>>> 78f754b2a7dcc64bee2906766889a9cea64d03b3
   ]
  },
  {
   "cell_type": "markdown",
   "metadata": {},
   "source": [
<<<<<<< HEAD
    "Because there so many Senate races, we can create a dictionary of pandas DataFrames that will be keyed by the name of the election (a string). "
   ]
  },
  {
   "cell_type": "code",
   "execution_count": 127,
   "metadata": {
    "collapsed": false
   },
   "outputs": [],
   "source": [
    "def build_frame(url):\n",
    "    \"\"\"\n",
    "    Returns a pandas DataFrame object containing\n",
    "    the data returned from the given url\n",
    "    \"\"\"\n",
    "    source = requests.get(url).text\n",
    "    \n",
    "    # Use StringIO because pd.DataFrame.from_csv requires .read() method\n",
    "    s = StringIO(source)\n",
    "    \n",
    "    return pd.DataFrame.from_csv(s, index_col=None).convert_objects(\n",
    "            convert_dates=\"coerce\", convert_numeric=True)"
=======
    "Is the *across poll* difference larger than the *between pollster* difference? "
   ]
  },
  {
   "cell_type": "markdown",
   "metadata": {},
   "source": [
    "Answer: For this question, we can compare the variability *within* each pollster (*across* a set of polls) compared to the variability *between* each pollster.  From these two visualization it is clear that the *between* pollster difference is larger. "
   ]
  },
  {
   "cell_type": "markdown",
   "metadata": {},
   "source": [
    "#### Problem 3(d)\n",
    "\n",
    "Take the average for each pollster and then compute the average of that. Given this difference how confident would you have been of an Obama victory?\n",
    "\n",
    "**Hint**: Compute an estimate of the SE of this average based exclusively on the observed data. "
>>>>>>> 78f754b2a7dcc64bee2906766889a9cea64d03b3
   ]
  },
  {
   "cell_type": "code",
<<<<<<< HEAD
   "execution_count": 128,
=======
   "execution_count": 113,
>>>>>>> 78f754b2a7dcc64bee2906766889a9cea64d03b3
   "metadata": {
    "collapsed": false
   },
   "outputs": [
    {
<<<<<<< HEAD
     "name": "stderr",
     "output_type": "stream",
     "text": [
      "/usr/local/lib/python2.7/site-packages/ipykernel/__main__.py:12: FutureWarning: convert_objects is deprecated.  Use the data-type specific converters pd.to_datetime, pd.to_timedelta and pd.to_numeric.\n"
=======
     "name": "stdout",
     "output_type": "stream",
     "text": [
      "Average across pollsters: 0.0124\n",
      "Standard error: 0.0129669\n"
>>>>>>> 78f754b2a7dcc64bee2906766889a9cea64d03b3
     ]
    }
   ],
   "source": [
<<<<<<< HEAD
=======
    "#your code here\n",
    "aggr  = filtered.groupby(\"Pollster\").mean()\n",
    "print \"Average across pollsters: %g\" % np.round(np.mean(aggr.Diff),4)\n",
    "print \"Standard error: %g\" % np.std(aggr.Diff, ddof = 0)\n"
   ]
  },
  {
   "cell_type": "markdown",
   "metadata": {},
   "source": [
    "Answer: Given the large standard error, I would not have been very confident in the Obama victory. "
   ]
  },
  {
   "cell_type": "markdown",
   "metadata": {},
   "source": [
    "#### Problem 3(e)\n",
    "\n",
    "**For AC209 Students**: Show the difference against time and see if you can detect a trend towards the end. Use this trend to see if it improves the final estimate."
   ]
  },
  {
   "cell_type": "code",
   "execution_count": 114,
   "metadata": {
    "collapsed": false
   },
   "outputs": [
    {
     "data": {
      "image/png": "iVBORw0KGgoAAAANSUhEUgAAAnoAAAGRCAYAAADywR7QAAAABHNCSVQICAgIfAhkiAAAAAlwSFlz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\n",
      "text/plain": [
       "<matplotlib.figure.Figure at 0x1126f7950>"
      ]
     },
     "metadata": {},
     "output_type": "display_data"
    }
   ],
   "source": [
    "#your code here\n",
    "three_months = dt.datetime(2012,8,15,0,0)\n",
    "\n",
    "new_data = election [map(lambda x: x >= three_months , election[\"Start Date\"]) ]\n",
    "new_data = new_data.sort(\"Start Date\")\n",
    "new_data[\"days\"]= map(lambda x: (x - three_months).days , new_data[\"Start Date\"])\n",
    "\n",
    "new_data[\"Diff\"] = (new_data.Obama/100) - (new_data.Romney/100)\n",
    "new_data = new_data.groupby([\"days\"], as_index=False).mean()\n",
    "\n",
    "plt.figure()\n",
    "plt.plot(new_data.days, new_data.Diff )\n",
    "plt.xlabel(\"Days from three month before the election\")\n",
    "plt.ylabel(\"Difference (Obama - Romney)\")\n",
    "plt.title(\"Difference between Obama and Romney across time\")\n",
    "plt.show()"
   ]
  },
  {
   "cell_type": "markdown",
   "metadata": {},
   "source": [
    "Answer: Around fifty days before the election, there was a change resulting a positive difference between Obama and Romney in the polls. "
   ]
  },
  {
   "cell_type": "markdown",
   "metadata": {},
   "source": [
    "## Discussion for Problem 3\n",
    "\n",
    "*Write a brief discussion of your conclusions to the questions and tasks above in 100 words or less.*\n",
    "\n",
    "Yes, the average of polls is better than just one poll because there can be a large amount of variability between pollsters.  \n",
    "\n",
    "---\n"
   ]
  },
  {
   "cell_type": "markdown",
   "metadata": {},
   "source": [
    "## Problem 4\n",
    "\n",
    "In this last problem, we will use the polls from the [2014 Senate Midterm Elections](http://elections.huffingtonpost.com/pollster) from the [HuffPost Pollster API](http://elections.huffingtonpost.com/pollster/api) to create a preliminary prediction of the result of each state. \n",
    "\n",
    "The HuffPost Pollster API allows you to access the data as a CSV or a JSON response by tacking \".csv\" or \".json\" at the end of the URLs. For example the 2012 Presidential Election could be accessed as a [.json](http://elections.huffingtonpost.com/pollster/2012-general-election-romney-vs-obama.json) instead of a [.csv](http://elections.huffingtonpost.com/pollster/2012-general-election-romney-vs-obama.csv)"
   ]
  },
  {
   "cell_type": "markdown",
   "metadata": {},
   "source": [
    "#### Problem 4(a)\n",
    "\n",
    "Read in the polls for **all** of the 2014 Senate Elections using the HuffPost API. For example, we can consider the [2014 Senate race in Kentucky between Mitch McConnell and Alison Grimes](http://elections.huffingtonpost.com/pollster/2014-kentucky-senate-mcconnell-vs-grimes). \n",
    "\n",
    "To search for the 2014 Senate races, use the `topics` parameter in the API [[read more about topics here](http://elections.huffingtonpost.com/pollster/api)].  "
   ]
  },
  {
   "cell_type": "code",
   "execution_count": 115,
   "metadata": {
    "collapsed": false
   },
   "outputs": [],
   "source": [
    "url_str = \"http://elections.huffingtonpost.com/pollster/api/charts/?topic=2014-senate\""
   ]
  },
  {
   "cell_type": "markdown",
   "metadata": {},
   "source": [
    "To list all the URLs related to the 2014 Senate races using the pollster API, we can use a list comprehension:"
   ]
  },
  {
   "cell_type": "code",
   "execution_count": 116,
   "metadata": {
    "collapsed": false
   },
   "outputs": [
    {
     "data": {
      "text/plain": [
       "[u'http://elections.huffingtonpost.com/pollster/2014-kentucky-senate-mcconnell-vs-grimes.csv',\n",
       " u'http://elections.huffingtonpost.com/pollster/2014-arkansas-senate-cotton-vs-pryor.csv',\n",
       " u'http://elections.huffingtonpost.com/pollster/2014-michigan-senate-land-vs-peters.csv',\n",
       " u'http://elections.huffingtonpost.com/pollster/2014-louisiana-senate-cassidy-vs-landrieu.csv',\n",
       " u'http://elections.huffingtonpost.com/pollster/2014-new-hampshire-senate-brown-vs-shaheen.csv',\n",
       " u'http://elections.huffingtonpost.com/pollster/2014-west-virginia-senate-capito-vs-tennant.csv',\n",
       " u'http://elections.huffingtonpost.com/pollster/2014-new-hampshire-senate-bass-vs-shaheen.csv',\n",
       " u'http://elections.huffingtonpost.com/pollster/2014-north-carolina-senate-tillis-vs-hagan.csv',\n",
       " u'http://elections.huffingtonpost.com/pollster/2014-virginia-senate-gillespie-vs-warner.csv',\n",
       " u'http://elections.huffingtonpost.com/pollster/2014-colorado-senate-gardner-vs-udall.csv',\n",
       " u'http://elections.huffingtonpost.com/pollster/2014-illinois-senate-oberweis-vs-durbin.csv',\n",
       " u'http://elections.huffingtonpost.com/pollster/2014-alaska-senate-sullivan-vs-begich.csv',\n",
       " u'http://elections.huffingtonpost.com/pollster/2014-iowa-senate-ernst-vs-braley.csv',\n",
       " u'http://elections.huffingtonpost.com/pollster/2014-mississippi-senate-cochran-vs-childers.csv',\n",
       " u'http://elections.huffingtonpost.com/pollster/2014-oregon-senate-wehby-vs-merkley.csv',\n",
       " u'http://elections.huffingtonpost.com/pollster/2014-georgia-senate-perdue-vs-nunn.csv',\n",
       " u'http://elections.huffingtonpost.com/pollster/2014-nebraska-senate-sasse-vs-domina.csv',\n",
       " u'http://elections.huffingtonpost.com/pollster/2014-south-dakota-senate-rounds-vs-weiland.csv',\n",
       " u'http://elections.huffingtonpost.com/pollster/2014-maine-senate-collins-vs-bellows.csv',\n",
       " u'http://elections.huffingtonpost.com/pollster/2014-minnesota-senate-mcfadden-vs-franken.csv',\n",
       " u'http://elections.huffingtonpost.com/pollster/2014-texas-senate-cornyn-vs-alameel.csv',\n",
       " u'http://elections.huffingtonpost.com/pollster/2014-south-carolina-senate-graham-vs-hutto.csv',\n",
       " u'http://elections.huffingtonpost.com/pollster/2014-south-carolina-senate-scott-vs-dickerson.csv',\n",
       " u'http://elections.huffingtonpost.com/pollster/2014-oklahoma-senate-inhofe-vs-silverstein.csv',\n",
       " u'http://elections.huffingtonpost.com/pollster/2014-new-mexico-senate-weh-vs-udall.csv',\n",
       " u'http://elections.huffingtonpost.com/pollster/2014-new-jersey-senate-bell-vs-booker.csv',\n",
       " u'http://elections.huffingtonpost.com/pollster/2014-idaho-senate-risch-vs-mitchell.csv',\n",
       " u'http://elections.huffingtonpost.com/pollster/2014-tennessee-senate-alexander-vs-ball.csv',\n",
       " u'http://elections.huffingtonpost.com/pollster/2014-wyoming-senate.csv',\n",
       " u'http://elections.huffingtonpost.com/pollster/2014-kansas-senate-roberts-vs-orman-vs-taylor.csv',\n",
       " u'http://elections.huffingtonpost.com/pollster/2014-hawaii-senate-cavasso-vs-schatz.csv',\n",
       " u'http://elections.huffingtonpost.com/pollster/2014-oklahoma-senate-lankford-vs-johnson.csv',\n",
       " u'http://elections.huffingtonpost.com/pollster/2014-montana-senate-daines-vs-curtis.csv',\n",
       " u'http://elections.huffingtonpost.com/pollster/2014-rhode-island-senate-zaccaria-vs-reed.csv',\n",
       " u'http://elections.huffingtonpost.com/pollster/2014-massachusetts-senate-herr-vs-markey.csv',\n",
       " u'http://elections.huffingtonpost.com/pollster/2014-delaware-senate-wade-vs-coons.csv']"
      ]
     },
     "execution_count": 116,
     "metadata": {},
     "output_type": "execute_result"
    }
   ],
   "source": [
    "election_urls = [election['url'] + '.csv' for election in requests.get(url_str).json()]\n",
    "election_urls"
   ]
  },
  {
   "cell_type": "markdown",
   "metadata": {},
   "source": [
    "Because there so many Senate races, we can create a dictionary of pandas DataFrames that will be keyed by the name of the election (a string). "
   ]
  },
  {
   "cell_type": "code",
   "execution_count": 117,
   "metadata": {
    "collapsed": false
   },
   "outputs": [],
   "source": [
    "def build_frame(url):\n",
    "    \"\"\"\n",
    "    Returns a pandas DataFrame object containing\n",
    "    the data returned from the given url\n",
    "    \"\"\"\n",
    "    source = requests.get(url).text\n",
    "    \n",
    "    # Use StringIO because pd.DataFrame.from_csv requires .read() method\n",
    "    s = StringIO(source)\n",
    "    \n",
    "    return pd.DataFrame.from_csv(s, index_col=None).convert_objects(\n",
    "            convert_dates=\"coerce\", convert_numeric=True)"
   ]
  },
  {
   "cell_type": "code",
   "execution_count": 118,
   "metadata": {
    "collapsed": false
   },
   "outputs": [],
   "source": [
>>>>>>> 78f754b2a7dcc64bee2906766889a9cea64d03b3
    "# Makes a dictionary of pandas DataFrames keyed on election string.\n",
    "dfs = dict((election.split(\"/\")[-1][:-4], build_frame(election)) for election in election_urls)"
   ]
  },
  {
   "cell_type": "markdown",
   "metadata": {},
   "source": [
    "Show the head of the DataFrame containing the polls for the 2014 Senate race in Kentucky between McConnell and Grimes."
   ]
  },
  {
   "cell_type": "code",
<<<<<<< HEAD
   "execution_count": 129,
=======
   "execution_count": 119,
>>>>>>> 78f754b2a7dcc64bee2906766889a9cea64d03b3
   "metadata": {
    "collapsed": false
   },
   "outputs": [
    {
     "data": {
      "text/html": [
<<<<<<< HEAD
       "<div>\n",
=======
       "<div style=\"max-height:1000px;max-width:1500px;overflow:auto;\">\n",
>>>>>>> 78f754b2a7dcc64bee2906766889a9cea64d03b3
       "<table border=\"1\" class=\"dataframe\">\n",
       "  <thead>\n",
       "    <tr style=\"text-align: right;\">\n",
       "      <th></th>\n",
       "      <th>Pollster</th>\n",
       "      <th>Start Date</th>\n",
       "      <th>End Date</th>\n",
       "      <th>Entry Date/Time (ET)</th>\n",
       "      <th>Number of Observations</th>\n",
       "      <th>Population</th>\n",
       "      <th>Mode</th>\n",
       "      <th>McConnell</th>\n",
       "      <th>Grimes</th>\n",
       "      <th>Undecided</th>\n",
       "      <th>Pollster URL</th>\n",
       "      <th>Source URL</th>\n",
       "      <th>Partisan</th>\n",
       "      <th>Affiliation</th>\n",
       "    </tr>\n",
       "  </thead>\n",
       "  <tbody>\n",
       "    <tr>\n",
       "      <th>0</th>\n",
<<<<<<< HEAD
       "      <td>PPP (D)</td>\n",
       "      <td>2014-10-30</td>\n",
       "      <td>2014-11-01</td>\n",
       "      <td>2014-11-02 2000-01-01 01:44:58 UTC</td>\n",
       "      <td>1503</td>\n",
       "      <td>Likely Voters</td>\n",
       "      <td>IVR/Online</td>\n",
       "      <td>50</td>\n",
       "      <td>42</td>\n",
       "      <td>NaN</td>\n",
       "      <td>http://elections.huffingtonpost.com/pollster/p...</td>\n",
       "      <td>http://www.publicpolicypolling.com/pdf/2014/PP...</td>\n",
       "      <td>Pollster</td>\n",
       "      <td>Dem</td>\n",
       "    </tr>\n",
       "    <tr>\n",
       "      <th>1</th>\n",
       "      <td>NBC/Marist</td>\n",
       "      <td>2014-10-27</td>\n",
       "      <td>2014-10-30</td>\n",
       "      <td>2014-11-02 2000-01-01 14:37:22 UTC</td>\n",
       "      <td>556</td>\n",
       "      <td>Likely Voters</td>\n",
       "      <td>Live Phone</td>\n",
       "      <td>50</td>\n",
       "      <td>41</td>\n",
       "      <td>3</td>\n",
       "      <td>http://elections.huffingtonpost.com/pollster/p...</td>\n",
       "      <td>http://newscms.nbcnews.com/sites/newscms/files...</td>\n",
       "      <td>Nonpartisan</td>\n",
       "      <td>None</td>\n",
       "    </tr>\n",
       "    <tr>\n",
       "      <th>2</th>\n",
       "      <td>SurveyUSA/Courier-Journal/Herald-Leader/WHAS/WKYT</td>\n",
       "      <td>2014-10-25</td>\n",
       "      <td>2014-10-29</td>\n",
       "      <td>2014-10-30 2000-01-01 23:33:59 UTC</td>\n",
       "      <td>597</td>\n",
       "      <td>Likely Voters</td>\n",
       "      <td>IVR/Online</td>\n",
       "      <td>48</td>\n",
       "      <td>43</td>\n",
       "      <td>6</td>\n",
       "      <td>http://elections.huffingtonpost.com/pollster/p...</td>\n",
       "      <td>http://www.surveyusa.com/client/PollReport.asp...</td>\n",
       "      <td>Nonpartisan</td>\n",
       "      <td>None</td>\n",
       "    </tr>\n",
       "    <tr>\n",
       "      <th>3</th>\n",
       "      <td>POS (R-Crossroads GPS)</td>\n",
       "      <td>2014-10-25</td>\n",
       "      <td>2014-10-27</td>\n",
       "      <td>2014-10-30 2000-01-01 20:56:18 UTC</td>\n",
       "      <td>600</td>\n",
       "      <td>Likely Voters</td>\n",
       "      <td>Live Phone</td>\n",
       "      <td>50</td>\n",
       "      <td>43</td>\n",
       "      <td>NaN</td>\n",
       "      <td>http://elections.huffingtonpost.com/pollster/p...</td>\n",
       "      <td>https://www.crossroadsgps.org/wp-content/uploa...</td>\n",
       "      <td>Sponsor</td>\n",
       "      <td>Rep</td>\n",
       "    </tr>\n",
       "    <tr>\n",
       "      <th>4</th>\n",
       "      <td>CBS/NYT/YouGov</td>\n",
       "      <td>2014-10-16</td>\n",
       "      <td>2014-10-23</td>\n",
       "      <td>2014-10-26 2000-01-01 15:00:07 UTC</td>\n",
       "      <td>1502</td>\n",
       "      <td>Likely Voters</td>\n",
       "      <td>Internet</td>\n",
       "      <td>45</td>\n",
       "      <td>39</td>\n",
       "      <td>14</td>\n",
       "      <td>http://elections.huffingtonpost.com/pollster/p...</td>\n",
       "      <td>https://today.yougov.com/news/2014/09/07/battl...</td>\n",
       "      <td>Nonpartisan</td>\n",
       "      <td>None</td>\n",
=======
       "      <td> SurveyUSA/Courier-Journal/Herald-Leader/WHAS/WKYT</td>\n",
       "      <td>2014-09-29</td>\n",
       "      <td>2014-10-02</td>\n",
       "      <td>2014-10-06 15:54:36</td>\n",
       "      <td>  632</td>\n",
       "      <td> Likely Voters</td>\n",
       "      <td>      IVR/Online</td>\n",
       "      <td> 44</td>\n",
       "      <td> 46</td>\n",
       "      <td>  7</td>\n",
       "      <td> http://elections.huffingtonpost.com/pollster/p...</td>\n",
       "      <td> http://www.courier-journal.com/story/news/poli...</td>\n",
       "      <td> Nonpartisan</td>\n",
       "      <td> None</td>\n",
       "    </tr>\n",
       "    <tr>\n",
       "      <th>1</th>\n",
       "      <td>                                    CBS/NYT/YouGov</td>\n",
       "      <td>2014-09-20</td>\n",
       "      <td>2014-10-01</td>\n",
       "      <td>2014-10-05 15:42:23</td>\n",
       "      <td> 1689</td>\n",
       "      <td> Likely Voters</td>\n",
       "      <td>        Internet</td>\n",
       "      <td> 47</td>\n",
       "      <td> 41</td>\n",
       "      <td>  9</td>\n",
       "      <td> http://elections.huffingtonpost.com/pollster/p...</td>\n",
       "      <td> https://today.yougov.com/news/2014/09/07/battl...</td>\n",
       "      <td> Nonpartisan</td>\n",
       "      <td> None</td>\n",
       "    </tr>\n",
       "    <tr>\n",
       "      <th>2</th>\n",
       "      <td>                                Mellman (D-Grimes)</td>\n",
       "      <td>2014-09-19</td>\n",
       "      <td>2014-09-27</td>\n",
       "      <td>2014-10-01 15:13:47</td>\n",
       "      <td> 1800</td>\n",
       "      <td> Likely Voters</td>\n",
       "      <td>      Live Phone</td>\n",
       "      <td> 40</td>\n",
       "      <td> 42</td>\n",
       "      <td> 16</td>\n",
       "      <td> http://elections.huffingtonpost.com/pollster/p...</td>\n",
       "      <td> http://images.politico.com/global/2014/09/30/m...</td>\n",
       "      <td>     Sponsor</td>\n",
       "      <td>  Dem</td>\n",
       "    </tr>\n",
       "    <tr>\n",
       "      <th>3</th>\n",
       "      <td>                           Gravis/Human Events (R)</td>\n",
       "      <td>2014-09-13</td>\n",
       "      <td>2014-09-16</td>\n",
       "      <td>2014-09-19 14:57:03</td>\n",
       "      <td>  839</td>\n",
       "      <td> Likely Voters</td>\n",
       "      <td> Automated Phone</td>\n",
       "      <td> 51</td>\n",
       "      <td> 41</td>\n",
       "      <td>  8</td>\n",
       "      <td> http://elections.huffingtonpost.com/pollster/p...</td>\n",
       "      <td> http://gravismarketing.com/polling-and-market-...</td>\n",
       "      <td>     Sponsor</td>\n",
       "      <td>  Rep</td>\n",
       "    </tr>\n",
       "    <tr>\n",
       "      <th>4</th>\n",
       "      <td>                                     Ipsos/Reuters</td>\n",
       "      <td>2014-09-08</td>\n",
       "      <td>2014-09-12</td>\n",
       "      <td>2014-09-22 15:23:23</td>\n",
       "      <td>  944</td>\n",
       "      <td> Likely Voters</td>\n",
       "      <td>        Internet</td>\n",
       "      <td> 46</td>\n",
       "      <td> 42</td>\n",
       "      <td>  6</td>\n",
       "      <td> http://elections.huffingtonpost.com/pollster/p...</td>\n",
       "      <td>     http://ipsos-na.com/download/pr.aspx?id=13904</td>\n",
       "      <td> Nonpartisan</td>\n",
       "      <td> None</td>\n",
>>>>>>> 78f754b2a7dcc64bee2906766889a9cea64d03b3
       "    </tr>\n",
       "  </tbody>\n",
       "</table>\n",
       "</div>"
      ],
      "text/plain": [
       "                                            Pollster Start Date   End Date  \\\n",
<<<<<<< HEAD
       "0                                            PPP (D) 2014-10-30 2014-11-01   \n",
       "1                                         NBC/Marist 2014-10-27 2014-10-30   \n",
       "2  SurveyUSA/Courier-Journal/Herald-Leader/WHAS/WKYT 2014-10-25 2014-10-29   \n",
       "3                             POS (R-Crossroads GPS) 2014-10-25 2014-10-27   \n",
       "4                                     CBS/NYT/YouGov 2014-10-16 2014-10-23   \n",
       "\n",
       "                 Entry Date/Time (ET)  Number of Observations     Population  \\\n",
       "0  2014-11-02 2000-01-01 01:44:58 UTC                    1503  Likely Voters   \n",
       "1  2014-11-02 2000-01-01 14:37:22 UTC                     556  Likely Voters   \n",
       "2  2014-10-30 2000-01-01 23:33:59 UTC                     597  Likely Voters   \n",
       "3  2014-10-30 2000-01-01 20:56:18 UTC                     600  Likely Voters   \n",
       "4  2014-10-26 2000-01-01 15:00:07 UTC                    1502  Likely Voters   \n",
       "\n",
       "         Mode  McConnell  Grimes  Undecided  \\\n",
       "0  IVR/Online         50      42        NaN   \n",
       "1  Live Phone         50      41          3   \n",
       "2  IVR/Online         48      43          6   \n",
       "3  Live Phone         50      43        NaN   \n",
       "4    Internet         45      39         14   \n",
=======
       "0  SurveyUSA/Courier-Journal/Herald-Leader/WHAS/WKYT 2014-09-29 2014-10-02   \n",
       "1                                     CBS/NYT/YouGov 2014-09-20 2014-10-01   \n",
       "2                                 Mellman (D-Grimes) 2014-09-19 2014-09-27   \n",
       "3                            Gravis/Human Events (R) 2014-09-13 2014-09-16   \n",
       "4                                      Ipsos/Reuters 2014-09-08 2014-09-12   \n",
       "\n",
       "  Entry Date/Time (ET)  Number of Observations     Population  \\\n",
       "0  2014-10-06 15:54:36                     632  Likely Voters   \n",
       "1  2014-10-05 15:42:23                    1689  Likely Voters   \n",
       "2  2014-10-01 15:13:47                    1800  Likely Voters   \n",
       "3  2014-09-19 14:57:03                     839  Likely Voters   \n",
       "4  2014-09-22 15:23:23                     944  Likely Voters   \n",
       "\n",
       "              Mode  McConnell  Grimes  Undecided  \\\n",
       "0       IVR/Online         44      46          7   \n",
       "1         Internet         47      41          9   \n",
       "2       Live Phone         40      42         16   \n",
       "3  Automated Phone         51      41          8   \n",
       "4         Internet         46      42          6   \n",
>>>>>>> 78f754b2a7dcc64bee2906766889a9cea64d03b3
       "\n",
       "                                        Pollster URL  \\\n",
       "0  http://elections.huffingtonpost.com/pollster/p...   \n",
       "1  http://elections.huffingtonpost.com/pollster/p...   \n",
       "2  http://elections.huffingtonpost.com/pollster/p...   \n",
       "3  http://elections.huffingtonpost.com/pollster/p...   \n",
       "4  http://elections.huffingtonpost.com/pollster/p...   \n",
       "\n",
       "                                          Source URL     Partisan Affiliation  \n",
<<<<<<< HEAD
       "0  http://www.publicpolicypolling.com/pdf/2014/PP...     Pollster         Dem  \n",
       "1  http://newscms.nbcnews.com/sites/newscms/files...  Nonpartisan        None  \n",
       "2  http://www.surveyusa.com/client/PollReport.asp...  Nonpartisan        None  \n",
       "3  https://www.crossroadsgps.org/wp-content/uploa...      Sponsor         Rep  \n",
       "4  https://today.yougov.com/news/2014/09/07/battl...  Nonpartisan        None  "
      ]
     },
     "execution_count": 129,
=======
       "0  http://www.courier-journal.com/story/news/poli...  Nonpartisan        None  \n",
       "1  https://today.yougov.com/news/2014/09/07/battl...  Nonpartisan        None  \n",
       "2  http://images.politico.com/global/2014/09/30/m...      Sponsor         Dem  \n",
       "3  http://gravismarketing.com/polling-and-market-...      Sponsor         Rep  \n",
       "4      http://ipsos-na.com/download/pr.aspx?id=13904  Nonpartisan        None  "
      ]
     },
     "execution_count": 119,
>>>>>>> 78f754b2a7dcc64bee2906766889a9cea64d03b3
     "metadata": {},
     "output_type": "execute_result"
    }
   ],
   "source": [
    "#your code here\n",
    "dfs['2014-kentucky-senate-mcconnell-vs-grimes'].head()"
   ]
  },
  {
   "cell_type": "markdown",
   "metadata": {},
   "source": [
    "#### Problem 4(b)\n",
    "\n",
    "For each 2014 Senate race, create a preliminary prediction of the result for that state.\n",
    "\n",
    "This is a very crude way of making a preliminary prediction: compute the difference between each candidate using all the polls in each race and predict the winner based on if the differences is positive or negative.  We want you to be creative and use the tools you are learning in class to make more accurate predictions. "
   ]
  },
  {
   "cell_type": "code",
<<<<<<< HEAD
   "execution_count": 131,
=======
   "execution_count": 120,
>>>>>>> 78f754b2a7dcc64bee2906766889a9cea64d03b3
   "metadata": {
    "collapsed": false
   },
   "outputs": [
    {
     "data": {
      "text/html": [
<<<<<<< HEAD
       "<div>\n",
=======
       "<div style=\"max-height:1000px;max-width:1500px;overflow:auto;\">\n",
>>>>>>> 78f754b2a7dcc64bee2906766889a9cea64d03b3
       "<table border=\"1\" class=\"dataframe\">\n",
       "  <thead>\n",
       "    <tr style=\"text-align: right;\">\n",
       "      <th></th>\n",
       "      <th>Candidate1</th>\n",
       "      <th>Candidate2</th>\n",
       "      <th>Difference</th>\n",
       "      <th>Winner</th>\n",
       "    </tr>\n",
       "  </thead>\n",
       "  <tbody>\n",
       "    <tr>\n",
       "      <th>2014-alaska-senate-sullivan-vs-begich</th>\n",
<<<<<<< HEAD
       "      <td>Sullivan</td>\n",
       "      <td>Begich</td>\n",
       "      <td>-0.003</td>\n",
       "      <td>Begich</td>\n",
       "    </tr>\n",
       "    <tr>\n",
       "      <th>2014-arkansas-senate-cotton-vs-pryor</th>\n",
       "      <td>Cotton</td>\n",
       "      <td>Pryor</td>\n",
       "      <td>0.015</td>\n",
       "      <td>Cotton</td>\n",
       "    </tr>\n",
       "    <tr>\n",
       "      <th>2014-colorado-senate-gardner-vs-udall</th>\n",
       "      <td>Gardner</td>\n",
       "      <td>Udall</td>\n",
       "      <td>0.006</td>\n",
       "      <td>Gardner</td>\n",
       "    </tr>\n",
       "    <tr>\n",
       "      <th>2014-delaware-senate-wade-vs-coons</th>\n",
       "      <td>Coons</td>\n",
       "      <td>Wade</td>\n",
       "      <td>0.174</td>\n",
       "      <td>Coons</td>\n",
       "    </tr>\n",
       "    <tr>\n",
       "      <th>2014-georgia-senate-perdue-vs-nunn</th>\n",
       "      <td>Perdue</td>\n",
       "      <td>Nunn</td>\n",
       "      <td>0.017</td>\n",
       "      <td>Perdue</td>\n",
       "    </tr>\n",
       "    <tr>\n",
       "      <th>2014-hawaii-senate-cavasso-vs-schatz</th>\n",
       "      <td>Schatz</td>\n",
       "      <td>Cavasso</td>\n",
       "      <td>0.404</td>\n",
       "      <td>Schatz</td>\n",
       "    </tr>\n",
       "    <tr>\n",
       "      <th>2014-idaho-senate-risch-vs-mitchell</th>\n",
       "      <td>Risch</td>\n",
       "      <td>Mitchell</td>\n",
       "      <td>0.298</td>\n",
       "      <td>Risch</td>\n",
       "    </tr>\n",
       "    <tr>\n",
       "      <th>2014-illinois-senate-oberweis-vs-durbin</th>\n",
       "      <td>Durbin</td>\n",
       "      <td>Oberweis</td>\n",
       "      <td>0.124</td>\n",
       "      <td>Durbin</td>\n",
       "    </tr>\n",
       "    <tr>\n",
       "      <th>2014-iowa-senate-ernst-vs-braley</th>\n",
       "      <td>Ernst</td>\n",
       "      <td>Braley</td>\n",
       "      <td>-0</td>\n",
       "      <td>Ernst</td>\n",
       "    </tr>\n",
       "    <tr>\n",
       "      <th>2014-kansas-senate-roberts-vs-orman-vs-taylor</th>\n",
       "      <td>Roberts</td>\n",
       "      <td>Orman</td>\n",
       "      <td>0.014</td>\n",
       "      <td>Roberts</td>\n",
       "    </tr>\n",
       "    <tr>\n",
       "      <th>2014-kentucky-senate-mcconnell-vs-grimes</th>\n",
       "      <td>McConnell</td>\n",
       "      <td>Grimes</td>\n",
       "      <td>0.03</td>\n",
       "      <td>McConnell</td>\n",
       "    </tr>\n",
       "    <tr>\n",
       "      <th>2014-louisiana-senate-cassidy-vs-landrieu</th>\n",
       "      <td>Cassidy</td>\n",
       "      <td>Landrieu</td>\n",
       "      <td>0.039</td>\n",
       "      <td>Cassidy</td>\n",
       "    </tr>\n",
       "    <tr>\n",
       "      <th>2014-maine-senate-collins-vs-bellows</th>\n",
       "      <td>Collins</td>\n",
       "      <td>Bellows</td>\n",
       "      <td>0.324</td>\n",
       "      <td>Collins</td>\n",
       "    </tr>\n",
       "    <tr>\n",
       "      <th>2014-massachusetts-senate-herr-vs-markey</th>\n",
       "      <td>Markey</td>\n",
       "      <td>Herr</td>\n",
       "      <td>0.225</td>\n",
       "      <td>Markey</td>\n",
       "    </tr>\n",
       "    <tr>\n",
       "      <th>2014-michigan-senate-land-vs-peters</th>\n",
       "      <td>Peters</td>\n",
       "      <td>Land</td>\n",
       "      <td>0.056</td>\n",
       "      <td>Peters</td>\n",
       "    </tr>\n",
       "    <tr>\n",
       "      <th>2014-minnesota-senate-mcfadden-vs-franken</th>\n",
       "      <td>Franken</td>\n",
       "      <td>McFadden</td>\n",
       "      <td>0.108</td>\n",
       "      <td>Franken</td>\n",
       "    </tr>\n",
       "    <tr>\n",
       "      <th>2014-mississippi-senate-cochran-vs-childers</th>\n",
       "      <td>Cochran</td>\n",
       "      <td>Childers</td>\n",
       "      <td>0.155</td>\n",
       "      <td>Cochran</td>\n",
       "    </tr>\n",
       "    <tr>\n",
       "      <th>2014-montana-senate-daines-vs-curtis</th>\n",
       "      <td>Daines</td>\n",
       "      <td>Curtis</td>\n",
       "      <td>0.171</td>\n",
       "      <td>Daines</td>\n",
       "    </tr>\n",
       "    <tr>\n",
       "      <th>2014-nebraska-senate-sasse-vs-domina</th>\n",
       "      <td>Sasse</td>\n",
       "      <td>Domina</td>\n",
       "      <td>0.245</td>\n",
       "      <td>Sasse</td>\n",
       "    </tr>\n",
       "    <tr>\n",
       "      <th>2014-new-hampshire-senate-bass-vs-shaheen</th>\n",
       "      <td>Shaheen</td>\n",
       "      <td>Bass</td>\n",
       "      <td>0.153</td>\n",
       "      <td>Shaheen</td>\n",
       "    </tr>\n",
       "    <tr>\n",
       "      <th>2014-new-hampshire-senate-brown-vs-shaheen</th>\n",
       "      <td>Shaheen</td>\n",
       "      <td>Brown</td>\n",
       "      <td>0.054</td>\n",
       "      <td>Shaheen</td>\n",
       "    </tr>\n",
       "    <tr>\n",
       "      <th>2014-new-jersey-senate-bell-vs-booker</th>\n",
       "      <td>Booker</td>\n",
       "      <td>Bell</td>\n",
       "      <td>0.137</td>\n",
       "      <td>Booker</td>\n",
       "    </tr>\n",
       "    <tr>\n",
       "      <th>2014-new-mexico-senate-weh-vs-udall</th>\n",
       "      <td>Udall</td>\n",
       "      <td>Weh</td>\n",
       "      <td>0.146</td>\n",
       "      <td>Udall</td>\n",
       "    </tr>\n",
       "    <tr>\n",
       "      <th>2014-north-carolina-senate-tillis-vs-hagan</th>\n",
       "      <td>Hagan</td>\n",
       "      <td>Tillis</td>\n",
       "      <td>0.026</td>\n",
       "      <td>Hagan</td>\n",
       "    </tr>\n",
       "    <tr>\n",
       "      <th>2014-oklahoma-senate-inhofe-vs-silverstein</th>\n",
       "      <td>Inhofe</td>\n",
       "      <td>Silverstein</td>\n",
       "      <td>0.32</td>\n",
       "      <td>Inhofe</td>\n",
       "    </tr>\n",
       "    <tr>\n",
       "      <th>2014-oklahoma-senate-lankford-vs-johnson</th>\n",
       "      <td>Lankford</td>\n",
       "      <td>Johnson</td>\n",
       "      <td>0.311</td>\n",
       "      <td>Lankford</td>\n",
       "    </tr>\n",
       "    <tr>\n",
       "      <th>2014-oregon-senate-wehby-vs-merkley</th>\n",
       "      <td>Merkley</td>\n",
       "      <td>Wehby</td>\n",
       "      <td>0.133</td>\n",
       "      <td>Merkley</td>\n",
       "    </tr>\n",
       "    <tr>\n",
       "      <th>2014-rhode-island-senate-zaccaria-vs-reed</th>\n",
       "      <td>Reed</td>\n",
       "      <td>Zaccaria</td>\n",
       "      <td>0.355</td>\n",
       "      <td>Reed</td>\n",
       "    </tr>\n",
       "    <tr>\n",
       "      <th>2014-south-carolina-senate-graham-vs-hutto</th>\n",
       "      <td>Graham</td>\n",
       "      <td>Hutto</td>\n",
       "      <td>0.15</td>\n",
       "      <td>Graham</td>\n",
       "    </tr>\n",
       "    <tr>\n",
       "      <th>2014-south-carolina-senate-scott-vs-dickerson</th>\n",
       "      <td>Scott</td>\n",
       "      <td>Dickerson</td>\n",
       "      <td>0.215</td>\n",
       "      <td>Scott</td>\n",
       "    </tr>\n",
       "    <tr>\n",
       "      <th>2014-south-dakota-senate-rounds-vs-weiland</th>\n",
       "      <td>Rounds</td>\n",
       "      <td>Weiland</td>\n",
       "      <td>0.13</td>\n",
       "      <td>Rounds</td>\n",
       "    </tr>\n",
       "    <tr>\n",
       "      <th>2014-tennessee-senate-alexander-vs-ball</th>\n",
       "      <td>Alexander</td>\n",
       "      <td>Ball</td>\n",
       "      <td>0.19</td>\n",
       "      <td>Alexander</td>\n",
       "    </tr>\n",
       "    <tr>\n",
       "      <th>2014-texas-senate-cornyn-vs-alameel</th>\n",
       "      <td>Cornyn</td>\n",
       "      <td>Alameel</td>\n",
       "      <td>0.191</td>\n",
       "      <td>Cornyn</td>\n",
       "    </tr>\n",
       "    <tr>\n",
       "      <th>2014-virginia-senate-gillespie-vs-warner</th>\n",
       "      <td>Warner</td>\n",
       "      <td>Gillespie</td>\n",
       "      <td>0.155</td>\n",
       "      <td>Warner</td>\n",
       "    </tr>\n",
       "    <tr>\n",
       "      <th>2014-west-virginia-senate-capito-vs-tennant</th>\n",
       "      <td>Capito</td>\n",
       "      <td>Tennant</td>\n",
       "      <td>0.141</td>\n",
       "      <td>Capito</td>\n",
       "    </tr>\n",
       "    <tr>\n",
       "      <th>2014-wyoming-senate</th>\n",
       "      <td>Enzi</td>\n",
       "      <td>Hardy</td>\n",
       "      <td>0.448</td>\n",
       "      <td>Enzi</td>\n",
=======
       "      <td>  Sullivan</td>\n",
       "      <td>      Begich</td>\n",
       "      <td>-0.013</td>\n",
       "      <td>    Begich</td>\n",
       "    </tr>\n",
       "    <tr>\n",
       "      <th>2014-arkansas-senate-cotton-vs-pryor</th>\n",
       "      <td>    Cotton</td>\n",
       "      <td>       Pryor</td>\n",
       "      <td> 0.008</td>\n",
       "      <td>    Cotton</td>\n",
       "    </tr>\n",
       "    <tr>\n",
       "      <th>2014-colorado-senate-gardner-vs-udall</th>\n",
       "      <td>   Gardner</td>\n",
       "      <td>       Udall</td>\n",
       "      <td>-0.011</td>\n",
       "      <td>     Udall</td>\n",
       "    </tr>\n",
       "    <tr>\n",
       "      <th>2014-delaware-senate-wade-vs-coons</th>\n",
       "      <td>     Coons</td>\n",
       "      <td>        Wade</td>\n",
       "      <td> 0.173</td>\n",
       "      <td>     Coons</td>\n",
       "    </tr>\n",
       "    <tr>\n",
       "      <th>2014-georgia-senate-perdue-vs-nunn</th>\n",
       "      <td>    Perdue</td>\n",
       "      <td>        Nunn</td>\n",
       "      <td> 0.022</td>\n",
       "      <td>    Perdue</td>\n",
       "    </tr>\n",
       "    <tr>\n",
       "      <th>2014-hawaii-senate-cavasso-vs-schatz</th>\n",
       "      <td>    Schatz</td>\n",
       "      <td>     Cavasso</td>\n",
       "      <td> 0.388</td>\n",
       "      <td>    Schatz</td>\n",
       "    </tr>\n",
       "    <tr>\n",
       "      <th>2014-idaho-senate-risch-vs-mitchell</th>\n",
       "      <td>     Risch</td>\n",
       "      <td>    Mitchell</td>\n",
       "      <td> 0.325</td>\n",
       "      <td>     Risch</td>\n",
       "    </tr>\n",
       "    <tr>\n",
       "      <th>2014-illinois-senate-oberweis-vs-durbin</th>\n",
       "      <td>    Durbin</td>\n",
       "      <td>    Oberweis</td>\n",
       "      <td> 0.121</td>\n",
       "      <td>    Durbin</td>\n",
       "    </tr>\n",
       "    <tr>\n",
       "      <th>2014-iowa-senate-ernst-vs-braley</th>\n",
       "      <td>     Ernst</td>\n",
       "      <td>      Braley</td>\n",
       "      <td>-0.011</td>\n",
       "      <td>    Braley</td>\n",
       "    </tr>\n",
       "    <tr>\n",
       "      <th>2014-kansas-senate-roberts-vs-orman-vs-taylor</th>\n",
       "      <td>     Orman</td>\n",
       "      <td>     Roberts</td>\n",
       "      <td>-0.044</td>\n",
       "      <td>   Roberts</td>\n",
       "    </tr>\n",
       "    <tr>\n",
       "      <th>2014-kentucky-senate-mcconnell-vs-grimes</th>\n",
       "      <td> McConnell</td>\n",
       "      <td>      Grimes</td>\n",
       "      <td> 0.024</td>\n",
       "      <td> McConnell</td>\n",
       "    </tr>\n",
       "    <tr>\n",
       "      <th>2014-louisiana-senate-cassidy-vs-landrieu</th>\n",
       "      <td>   Cassidy</td>\n",
       "      <td>    Landrieu</td>\n",
       "      <td> 0.001</td>\n",
       "      <td>   Cassidy</td>\n",
       "    </tr>\n",
       "    <tr>\n",
       "      <th>2014-maine-senate-collins-vs-bellows</th>\n",
       "      <td>   Collins</td>\n",
       "      <td>     Bellows</td>\n",
       "      <td> 0.342</td>\n",
       "      <td>   Collins</td>\n",
       "    </tr>\n",
       "    <tr>\n",
       "      <th>2014-massachusetts-senate-herr-vs-markey</th>\n",
       "      <td>    Markey</td>\n",
       "      <td>        Herr</td>\n",
       "      <td>  0.24</td>\n",
       "      <td>    Markey</td>\n",
       "    </tr>\n",
       "    <tr>\n",
       "      <th>2014-michigan-senate-land-vs-peters</th>\n",
       "      <td>    Peters</td>\n",
       "      <td>        Land</td>\n",
       "      <td> 0.036</td>\n",
       "      <td>    Peters</td>\n",
       "    </tr>\n",
       "    <tr>\n",
       "      <th>2014-minnesota-senate-mcfadden-vs-franken</th>\n",
       "      <td>   Franken</td>\n",
       "      <td>    McFadden</td>\n",
       "      <td> 0.105</td>\n",
       "      <td>   Franken</td>\n",
       "    </tr>\n",
       "    <tr>\n",
       "      <th>2014-mississippi-senate-cochran-vs-childers</th>\n",
       "      <td>   Cochran</td>\n",
       "      <td>    Childers</td>\n",
       "      <td> 0.146</td>\n",
       "      <td>   Cochran</td>\n",
       "    </tr>\n",
       "    <tr>\n",
       "      <th>2014-montana-senate-daines-vs-curtis</th>\n",
       "      <td>    Daines</td>\n",
       "      <td>      Curtis</td>\n",
       "      <td> 0.197</td>\n",
       "      <td>    Daines</td>\n",
       "    </tr>\n",
       "    <tr>\n",
       "      <th>2014-nebraska-senate-sasse-vs-domina</th>\n",
       "      <td>     Sasse</td>\n",
       "      <td>      Domina</td>\n",
       "      <td> 0.236</td>\n",
       "      <td>     Sasse</td>\n",
       "    </tr>\n",
       "    <tr>\n",
       "      <th>2014-new-hampshire-senate-bass-vs-shaheen</th>\n",
       "      <td>   Shaheen</td>\n",
       "      <td>        Bass</td>\n",
       "      <td> 0.153</td>\n",
       "      <td>   Shaheen</td>\n",
       "    </tr>\n",
       "    <tr>\n",
       "      <th>2014-new-hampshire-senate-brown-vs-shaheen</th>\n",
       "      <td>   Shaheen</td>\n",
       "      <td>       Brown</td>\n",
       "      <td>  0.07</td>\n",
       "      <td>   Shaheen</td>\n",
       "    </tr>\n",
       "    <tr>\n",
       "      <th>2014-new-jersey-senate-bell-vs-booker</th>\n",
       "      <td>    Booker</td>\n",
       "      <td>        Bell</td>\n",
       "      <td> 0.131</td>\n",
       "      <td>    Booker</td>\n",
       "    </tr>\n",
       "    <tr>\n",
       "      <th>2014-new-mexico-senate-weh-vs-udall</th>\n",
       "      <td>     Udall</td>\n",
       "      <td>         Weh</td>\n",
       "      <td> 0.161</td>\n",
       "      <td>     Udall</td>\n",
       "    </tr>\n",
       "    <tr>\n",
       "      <th>2014-north-carolina-senate-tillis-vs-hagan</th>\n",
       "      <td>     Hagan</td>\n",
       "      <td>      Tillis</td>\n",
       "      <td> 0.034</td>\n",
       "      <td>     Hagan</td>\n",
       "    </tr>\n",
       "    <tr>\n",
       "      <th>2014-oklahoma-senate-inhofe-vs-silverstein</th>\n",
       "      <td>    Inhofe</td>\n",
       "      <td> Silverstein</td>\n",
       "      <td> 0.322</td>\n",
       "      <td>    Inhofe</td>\n",
       "    </tr>\n",
       "    <tr>\n",
       "      <th>2014-oklahoma-senate-lankford-vs-johnson</th>\n",
       "      <td>  Lankford</td>\n",
       "      <td>     Johnson</td>\n",
       "      <td> 0.315</td>\n",
       "      <td>  Lankford</td>\n",
       "    </tr>\n",
       "    <tr>\n",
       "      <th>2014-oregon-senate-wehby-vs-merkley</th>\n",
       "      <td>   Merkley</td>\n",
       "      <td>       Wehby</td>\n",
       "      <td>  0.12</td>\n",
       "      <td>   Merkley</td>\n",
       "    </tr>\n",
       "    <tr>\n",
       "      <th>2014-rhode-island-senate-zaccaria-vs-reed</th>\n",
       "      <td>      Reed</td>\n",
       "      <td>    Zaccaria</td>\n",
       "      <td> 0.323</td>\n",
       "      <td>      Reed</td>\n",
       "    </tr>\n",
       "    <tr>\n",
       "      <th>2014-south-carolina-senate-graham-vs-hutto</th>\n",
       "      <td>    Graham</td>\n",
       "      <td>       Hutto</td>\n",
       "      <td>  0.15</td>\n",
       "      <td>    Graham</td>\n",
       "    </tr>\n",
       "    <tr>\n",
       "      <th>2014-south-carolina-senate-scott-vs-dickerson</th>\n",
       "      <td>     Scott</td>\n",
       "      <td>   Dickerson</td>\n",
       "      <td>   0.2</td>\n",
       "      <td>     Scott</td>\n",
       "    </tr>\n",
       "    <tr>\n",
       "      <th>2014-south-dakota-senate-rounds-vs-weiland</th>\n",
       "      <td>    Rounds</td>\n",
       "      <td>     Weiland</td>\n",
       "      <td> 0.134</td>\n",
       "      <td>    Rounds</td>\n",
       "    </tr>\n",
       "    <tr>\n",
       "      <th>2014-tennessee-senate-alexander-vs-ball</th>\n",
       "      <td> Alexander</td>\n",
       "      <td>        Ball</td>\n",
       "      <td> 0.184</td>\n",
       "      <td> Alexander</td>\n",
       "    </tr>\n",
       "    <tr>\n",
       "      <th>2014-texas-senate-cornyn-vs-alameel</th>\n",
       "      <td>    Cornyn</td>\n",
       "      <td>     Alameel</td>\n",
       "      <td> 0.173</td>\n",
       "      <td>    Cornyn</td>\n",
       "    </tr>\n",
       "    <tr>\n",
       "      <th>2014-virginia-senate-gillespie-vs-warner</th>\n",
       "      <td>    Warner</td>\n",
       "      <td>   Gillespie</td>\n",
       "      <td>  0.17</td>\n",
       "      <td>    Warner</td>\n",
       "    </tr>\n",
       "    <tr>\n",
       "      <th>2014-west-virginia-senate-capito-vs-tennant</th>\n",
       "      <td>    Capito</td>\n",
       "      <td>     Tennant</td>\n",
       "      <td> 0.135</td>\n",
       "      <td>    Capito</td>\n",
       "    </tr>\n",
       "    <tr>\n",
       "      <th>2014-wyoming-senate</th>\n",
       "      <td>      Enzi</td>\n",
       "      <td>       Hardy</td>\n",
       "      <td>  0.46</td>\n",
       "      <td>      Enzi</td>\n",
>>>>>>> 78f754b2a7dcc64bee2906766889a9cea64d03b3
       "    </tr>\n",
       "  </tbody>\n",
       "</table>\n",
       "</div>"
      ],
      "text/plain": [
       "                                              Candidate1   Candidate2  \\\n",
       "2014-alaska-senate-sullivan-vs-begich           Sullivan       Begich   \n",
       "2014-arkansas-senate-cotton-vs-pryor              Cotton        Pryor   \n",
       "2014-colorado-senate-gardner-vs-udall            Gardner        Udall   \n",
       "2014-delaware-senate-wade-vs-coons                 Coons         Wade   \n",
       "2014-georgia-senate-perdue-vs-nunn                Perdue         Nunn   \n",
       "2014-hawaii-senate-cavasso-vs-schatz              Schatz      Cavasso   \n",
       "2014-idaho-senate-risch-vs-mitchell                Risch     Mitchell   \n",
       "2014-illinois-senate-oberweis-vs-durbin           Durbin     Oberweis   \n",
       "2014-iowa-senate-ernst-vs-braley                   Ernst       Braley   \n",
<<<<<<< HEAD
       "2014-kansas-senate-roberts-vs-orman-vs-taylor    Roberts        Orman   \n",
=======
       "2014-kansas-senate-roberts-vs-orman-vs-taylor      Orman      Roberts   \n",
>>>>>>> 78f754b2a7dcc64bee2906766889a9cea64d03b3
       "2014-kentucky-senate-mcconnell-vs-grimes       McConnell       Grimes   \n",
       "2014-louisiana-senate-cassidy-vs-landrieu        Cassidy     Landrieu   \n",
       "2014-maine-senate-collins-vs-bellows             Collins      Bellows   \n",
       "2014-massachusetts-senate-herr-vs-markey          Markey         Herr   \n",
       "2014-michigan-senate-land-vs-peters               Peters         Land   \n",
       "2014-minnesota-senate-mcfadden-vs-franken        Franken     McFadden   \n",
       "2014-mississippi-senate-cochran-vs-childers      Cochran     Childers   \n",
       "2014-montana-senate-daines-vs-curtis              Daines       Curtis   \n",
       "2014-nebraska-senate-sasse-vs-domina               Sasse       Domina   \n",
       "2014-new-hampshire-senate-bass-vs-shaheen        Shaheen         Bass   \n",
       "2014-new-hampshire-senate-brown-vs-shaheen       Shaheen        Brown   \n",
       "2014-new-jersey-senate-bell-vs-booker             Booker         Bell   \n",
       "2014-new-mexico-senate-weh-vs-udall                Udall          Weh   \n",
       "2014-north-carolina-senate-tillis-vs-hagan         Hagan       Tillis   \n",
       "2014-oklahoma-senate-inhofe-vs-silverstein        Inhofe  Silverstein   \n",
       "2014-oklahoma-senate-lankford-vs-johnson        Lankford      Johnson   \n",
       "2014-oregon-senate-wehby-vs-merkley              Merkley        Wehby   \n",
       "2014-rhode-island-senate-zaccaria-vs-reed           Reed     Zaccaria   \n",
       "2014-south-carolina-senate-graham-vs-hutto        Graham        Hutto   \n",
       "2014-south-carolina-senate-scott-vs-dickerson      Scott    Dickerson   \n",
       "2014-south-dakota-senate-rounds-vs-weiland        Rounds      Weiland   \n",
       "2014-tennessee-senate-alexander-vs-ball        Alexander         Ball   \n",
       "2014-texas-senate-cornyn-vs-alameel               Cornyn      Alameel   \n",
       "2014-virginia-senate-gillespie-vs-warner          Warner    Gillespie   \n",
       "2014-west-virginia-senate-capito-vs-tennant       Capito      Tennant   \n",
       "2014-wyoming-senate                                 Enzi        Hardy   \n",
       "\n",
       "                                              Difference     Winner  \n",
<<<<<<< HEAD
       "2014-alaska-senate-sullivan-vs-begich             -0.003     Begich  \n",
       "2014-arkansas-senate-cotton-vs-pryor               0.015     Cotton  \n",
       "2014-colorado-senate-gardner-vs-udall              0.006    Gardner  \n",
       "2014-delaware-senate-wade-vs-coons                 0.174      Coons  \n",
       "2014-georgia-senate-perdue-vs-nunn                 0.017     Perdue  \n",
       "2014-hawaii-senate-cavasso-vs-schatz               0.404     Schatz  \n",
       "2014-idaho-senate-risch-vs-mitchell                0.298      Risch  \n",
       "2014-illinois-senate-oberweis-vs-durbin            0.124     Durbin  \n",
       "2014-iowa-senate-ernst-vs-braley                      -0      Ernst  \n",
       "2014-kansas-senate-roberts-vs-orman-vs-taylor      0.014    Roberts  \n",
       "2014-kentucky-senate-mcconnell-vs-grimes            0.03  McConnell  \n",
       "2014-louisiana-senate-cassidy-vs-landrieu          0.039    Cassidy  \n",
       "2014-maine-senate-collins-vs-bellows               0.324    Collins  \n",
       "2014-massachusetts-senate-herr-vs-markey           0.225     Markey  \n",
       "2014-michigan-senate-land-vs-peters                0.056     Peters  \n",
       "2014-minnesota-senate-mcfadden-vs-franken          0.108    Franken  \n",
       "2014-mississippi-senate-cochran-vs-childers        0.155    Cochran  \n",
       "2014-montana-senate-daines-vs-curtis               0.171     Daines  \n",
       "2014-nebraska-senate-sasse-vs-domina               0.245      Sasse  \n",
       "2014-new-hampshire-senate-bass-vs-shaheen          0.153    Shaheen  \n",
       "2014-new-hampshire-senate-brown-vs-shaheen         0.054    Shaheen  \n",
       "2014-new-jersey-senate-bell-vs-booker              0.137     Booker  \n",
       "2014-new-mexico-senate-weh-vs-udall                0.146      Udall  \n",
       "2014-north-carolina-senate-tillis-vs-hagan         0.026      Hagan  \n",
       "2014-oklahoma-senate-inhofe-vs-silverstein          0.32     Inhofe  \n",
       "2014-oklahoma-senate-lankford-vs-johnson           0.311   Lankford  \n",
       "2014-oregon-senate-wehby-vs-merkley                0.133    Merkley  \n",
       "2014-rhode-island-senate-zaccaria-vs-reed          0.355       Reed  \n",
       "2014-south-carolina-senate-graham-vs-hutto          0.15     Graham  \n",
       "2014-south-carolina-senate-scott-vs-dickerson      0.215      Scott  \n",
       "2014-south-dakota-senate-rounds-vs-weiland          0.13     Rounds  \n",
       "2014-tennessee-senate-alexander-vs-ball             0.19  Alexander  \n",
       "2014-texas-senate-cornyn-vs-alameel                0.191     Cornyn  \n",
       "2014-virginia-senate-gillespie-vs-warner           0.155     Warner  \n",
       "2014-west-virginia-senate-capito-vs-tennant        0.141     Capito  \n",
       "2014-wyoming-senate                                0.448       Enzi  "
      ]
     },
     "execution_count": 131,
=======
       "2014-alaska-senate-sullivan-vs-begich             -0.013     Begich  \n",
       "2014-arkansas-senate-cotton-vs-pryor               0.008     Cotton  \n",
       "2014-colorado-senate-gardner-vs-udall             -0.011      Udall  \n",
       "2014-delaware-senate-wade-vs-coons                 0.173      Coons  \n",
       "2014-georgia-senate-perdue-vs-nunn                 0.022     Perdue  \n",
       "2014-hawaii-senate-cavasso-vs-schatz               0.388     Schatz  \n",
       "2014-idaho-senate-risch-vs-mitchell                0.325      Risch  \n",
       "2014-illinois-senate-oberweis-vs-durbin            0.121     Durbin  \n",
       "2014-iowa-senate-ernst-vs-braley                  -0.011     Braley  \n",
       "2014-kansas-senate-roberts-vs-orman-vs-taylor     -0.044    Roberts  \n",
       "2014-kentucky-senate-mcconnell-vs-grimes           0.024  McConnell  \n",
       "2014-louisiana-senate-cassidy-vs-landrieu          0.001    Cassidy  \n",
       "2014-maine-senate-collins-vs-bellows               0.342    Collins  \n",
       "2014-massachusetts-senate-herr-vs-markey            0.24     Markey  \n",
       "2014-michigan-senate-land-vs-peters                0.036     Peters  \n",
       "2014-minnesota-senate-mcfadden-vs-franken          0.105    Franken  \n",
       "2014-mississippi-senate-cochran-vs-childers        0.146    Cochran  \n",
       "2014-montana-senate-daines-vs-curtis               0.197     Daines  \n",
       "2014-nebraska-senate-sasse-vs-domina               0.236      Sasse  \n",
       "2014-new-hampshire-senate-bass-vs-shaheen          0.153    Shaheen  \n",
       "2014-new-hampshire-senate-brown-vs-shaheen          0.07    Shaheen  \n",
       "2014-new-jersey-senate-bell-vs-booker              0.131     Booker  \n",
       "2014-new-mexico-senate-weh-vs-udall                0.161      Udall  \n",
       "2014-north-carolina-senate-tillis-vs-hagan         0.034      Hagan  \n",
       "2014-oklahoma-senate-inhofe-vs-silverstein         0.322     Inhofe  \n",
       "2014-oklahoma-senate-lankford-vs-johnson           0.315   Lankford  \n",
       "2014-oregon-senate-wehby-vs-merkley                 0.12    Merkley  \n",
       "2014-rhode-island-senate-zaccaria-vs-reed          0.323       Reed  \n",
       "2014-south-carolina-senate-graham-vs-hutto          0.15     Graham  \n",
       "2014-south-carolina-senate-scott-vs-dickerson        0.2      Scott  \n",
       "2014-south-dakota-senate-rounds-vs-weiland         0.134     Rounds  \n",
       "2014-tennessee-senate-alexander-vs-ball            0.184  Alexander  \n",
       "2014-texas-senate-cornyn-vs-alameel                0.173     Cornyn  \n",
       "2014-virginia-senate-gillespie-vs-warner            0.17     Warner  \n",
       "2014-west-virginia-senate-capito-vs-tennant        0.135     Capito  \n",
       "2014-wyoming-senate                                 0.46       Enzi  "
      ]
     },
     "execution_count": 120,
>>>>>>> 78f754b2a7dcc64bee2906766889a9cea64d03b3
     "metadata": {},
     "output_type": "execute_result"
    }
   ],
   "source": [
    "#your code here\n",
    "x = {}\n",
    "for keys in dfs:\n",
    "    dat = dfs[keys]\n",
    "    candidate1 = dat.columns[7] \n",
    "    candidate2 = dat.columns[8] \n",
    "    dat.Diff = (dat[candidate1]/100) - (dat[candidate2]/100)\n",
    "    x[keys] = [candidate1, candidate2, np.round(np.mean(dat.Diff), 3)]\n",
    "\n",
    "predictions = pd.DataFrame(x).T  \n",
    "predictions.columns = ['Candidate1', 'Candidate2', 'Difference']\n",
    "predictions['Winner'] = np.where(predictions.Difference >=0, \n",
    "                                 predictions.Candidate1, predictions.Candidate2)\n",
    "predictions"
   ]
  },
  {
   "cell_type": "markdown",
   "metadata": {},
   "source": [
    "# Submission Instructions\n",
    "\n",
    "To submit your homework, create a folder named **lastname_firstinitial_hw#** and place your IPython notebooks, data files, and any other files in this folder. Your IPython Notebooks should be completely executed with the results visible in the notebook. We should not have to run any code.  Compress the folder (please use .zip compression) and submit to the CS109 dropbox in the appropriate folder. *If we cannot access your work because these directions are not followed correctly, we will not grade your work.*\n"
   ]
  },
  {
   "cell_type": "code",
   "execution_count": 120,
   "metadata": {
    "collapsed": false
   },
   "outputs": [],
   "source": []
  }
 ],
 "metadata": {
  "kernelspec": {
   "display_name": "Python 2",
   "language": "python",
   "name": "python2"
  },
  "language_info": {
   "codemirror_mode": {
    "name": "ipython",
    "version": 2
   },
   "file_extension": ".py",
   "mimetype": "text/x-python",
   "name": "python",
   "nbconvert_exporter": "python",
   "pygments_lexer": "ipython2",
<<<<<<< HEAD
   "version": "2.7.10"
=======
   "version": "2.7.11"
>>>>>>> 78f754b2a7dcc64bee2906766889a9cea64d03b3
  }
 },
 "nbformat": 4,
 "nbformat_minor": 0
}
