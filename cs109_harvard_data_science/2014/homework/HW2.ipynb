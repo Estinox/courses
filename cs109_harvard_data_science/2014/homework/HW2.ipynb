{
 "cells": [
  {
   "cell_type": "markdown",
   "metadata": {},
   "source": [
    "# Homework 2: More Exploratory Data Analysis\n",
    "## Gene Expression Data and Election Polls \n",
    "\n",
    "Due: Thursday, October 2, 2014 11:59 PM\n",
    "\n",
    "<a href=https://raw.githubusercontent.com/cs109/2014/master/homework/HW2.ipynb download=HW2.ipynb> Download this assignment</a>\n",
    "\n",
    "#### Submission Instructions\n",
    "To submit your homework, create a folder named lastname_firstinitial_hw# and place your IPython notebooks, data files, and any other files in this folder. Your IPython Notebooks should be completely executed with the results visible in the notebook. We should not have to run any code. Compress the folder (please use .zip compression) and submit to the CS109 dropbox in the appropriate folder. If we cannot access your work because these directions are not followed correctly, we will not grade your work.\n",
    "\n",
    "\n",
    "---"
   ]
  },
  {
   "cell_type": "markdown",
   "metadata": {},
   "source": [
    "## Introduction\n",
    "\n",
    "John Tukey wrote in [Exploratory Data Analysis, 1977](http://www.amazon.com/Exploratory-Data-Analysis-Wilder-Tukey/dp/0201076160/ref=pd_bbs_sr_2/103-4466654-5303007?ie=UTF8&s=books&qid=1189739816&sr=8-2): \"The greatest value of a picture is when it forces us to notice what we never expected to see.\" In this assignment we will continue using our exploratory data analysis tools, but apply it to new sets of data: [gene expression](http://en.wikipedia.org/wiki/Gene_expression) and polls from the [2012 Presidental Election](http://en.wikipedia.org/wiki/United_States_presidential_election,_2012) and from the [2014 Senate Midterm Elections](http://en.wikipedia.org/wiki/United_States_Senate_elections,_2014).   \n",
    "\n",
    "**First**: You will use exploratory data analysis and apply the [singular value decomposition](http://en.wikipedia.org/wiki/Singular_value_decomposition) (SVD) to a gene expression data matrix to determine if the the date that the gene expression samples are processed has large effect on the variability seen in the data.  \n",
    "\n",
    "**Second**: You will use the polls from the 2012 Presidential Elections to determine (1) Is there a pollster bias in presidential election polls? and (2) Is the average of polls better than just one poll?\n",
    "\n",
    "**Finally**: You will use the [HuffPost Pollster API](http://elections.huffingtonpost.com/pollster/api) to extract the polls for the current 2014 Senate Midterm Elections and provide a preliminary prediction of the result of each state.\n",
    "\n",
    "#### Data\n",
    "\n",
    "We will use the following data sets: \n",
    "\n",
    "1. A gene expression data set called `exprs_GSE5859.csv` and sample annotation table called `sampleinfo_GSE5859.csv` which are both available on Github in the 2014_data repository: [expression data set](https://github.com/cs109/2014_data/blob/master/exprs_GSE5859.csv) and [sample annotation table](https://github.com/cs109/2014_data/blob/master/sampleinfo_GSE5859.csv).  \n",
    "\n",
    "2. Polls from the [2012 Presidential Election: Barack Obama vs Mitt Romney](http://elections.huffingtonpost.com/pollster/2012-general-election-romney-vs-obama). The polls we will use are from the [Huffington Post Pollster](http://elections.huffingtonpost.com/pollster).  \n",
    "\n",
    "3. Polls from the [2014 Senate Midterm Elections](http://elections.huffingtonpost.com/pollster) from the [HuffPost Pollster API](http://elections.huffingtonpost.com/pollster/api). \n",
    "\n",
    "---"
   ]
  },
  {
   "cell_type": "markdown",
   "metadata": {},
   "source": [
    "## Load Python modules"
   ]
  },
  {
   "cell_type": "code",
<<<<<<< HEAD
   "execution_count": 2,
=======
   "execution_count": 7,
>>>>>>> 78f754b2a7dcc64bee2906766889a9cea64d03b3
   "metadata": {
    "collapsed": false
   },
   "outputs": [],
   "source": [
    "# special IPython command to prepare the notebook for matplotlib\n",
    "%matplotlib inline \n",
    "\n",
    "import requests \n",
<<<<<<< HEAD
    "from StringIO import StringIO\n",
=======
    "#from StringIO import StringIO\n",
    "import io\n",
>>>>>>> 78f754b2a7dcc64bee2906766889a9cea64d03b3
    "import numpy as np\n",
    "import pandas as pd # pandas\n",
    "import matplotlib.pyplot as plt # module for plotting \n",
    "import datetime as dt # module for manipulating dates and times\n",
<<<<<<< HEAD
    "import numpy.linalg as lin # module for performing linear algebra operations"
=======
    "import numpy.linalg as lin # module for performing linear algebra operations\n",
    "\n",
    "import os"
>>>>>>> 78f754b2a7dcc64bee2906766889a9cea64d03b3
   ]
  },
  {
   "cell_type": "markdown",
   "metadata": {},
   "source": [
    "## Problem 1\n",
    "\n",
    "In this problem we will be using a [gene expression](http://en.wikipedia.org/wiki/Gene_expression) data set obtained from a [microarray](http://en.wikipedia.org/wiki/DNA_microarray) experiement [Read more about the specific experiment here](http://www.ncbi.nlm.nih.gov/geo/query/acc.cgi?acc=GSE5859).  There are two data sets we will use:  \n",
    "\n",
    "1. The gene expression intensities where the rows represent the features on the microarray (e.g. genes) and the columsns represent the different microarray samples.  \n",
    "\n",
    "2. A table that contains the information about each of the samples (columns in the gene expression data set) such as the sex, the age, the treatment status, the date the samples were processed.  Each row represents one sample. "
   ]
  },
  {
   "cell_type": "markdown",
   "metadata": {},
   "source": [
    "#### Problem 1(a) \n",
    "Read in the two files from Github: [exprs_GSE5859.csv](https://github.com/cs109/2014_data/blob/master/exprs_GSE5859.csv) and [sampleinfo_GSE5859.csv](https://github.com/cs109/2014_data/blob/master/sampleinfo_GSE5859.csv) as pandas DataFrames called `exprs` and `sampleinfo`. Use the gene names as the index of the `exprs` DataFrame."
   ]
  },
  {
   "cell_type": "code",
   "execution_count": 2,
   "metadata": {
    "collapsed": false
   },
   "outputs": [],
   "source": [
<<<<<<< HEAD
    "#your code here"
   ]
  },
  {
   "cell_type": "markdown",
   "metadata": {},
   "source": [
    "Make sure the order of the columns in the gene expression DataFrame match the order of file names in the sample annotation DataFrame. If the order of the columns the `exprs` DataFrame do not match the order of the file names in the `sampleinfo` DataFrame, reorder the columns in the `exprs` DataFrame. \n",
    "\n",
    "**Note**: The column names of the gene expression DataFrame are the filenames of the orignal files from which these data were obtained.  \n",
    "\n",
    "**Hint**: The method `list.index(x)` [[read here](https://docs.python.org/2/tutorial/datastructures.html)] can be used to return the index in the list of the first item whose value is x. It is an error if there is no such item. To check if the order of the columns in `exprs` matches the order of the rows in `sampleinfo`, you can check using the method `.all()` on a Boolean or list of Booleans: \n",
    "\n",
    "Example code: `(exprs.columns == sampleinfo.filename).all()`"
=======
    "# pd_sample_info = pd.read_csv(\"~/Projects/cs109_2015/2014_data/sampleinfo_GSE5859.csv\")\n",
    "pd_sample_info = pd.read_csv(r\"C:/cygwin/home/kyuan/cs109/2014_data/sampleinfo_GSE5859.csv\")"
>>>>>>> 78f754b2a7dcc64bee2906766889a9cea64d03b3
   ]
  },
  {
   "cell_type": "code",
   "execution_count": 3,
   "metadata": {
    "collapsed": false
   },
   "outputs": [],
   "source": [
<<<<<<< HEAD
    "#your code here"
   ]
  },
  {
   "cell_type": "markdown",
   "metadata": {},
   "source": [
    "Show the head of the two tables: `exprs` and `sampleinfo`. "
   ]
  },
  {
   "cell_type": "code",
   "execution_count": null,
   "metadata": {
    "collapsed": false
   },
   "outputs": [],
   "source": [
    "#your code here"
   ]
  },
  {
   "cell_type": "markdown",
   "metadata": {},
   "source": [
    "#### Problem 1(b)\n",
    "\n",
    "Extract the year and month as integers from the `sampleinfo` table. \n",
    "\n",
    "**Hint**: To convert a Series or a column of a pandas DataFrame that contains a date-like object, you can use the `to_datetime` function [[read here](http://pandas.pydata.org/pandas-docs/stable/timeseries.html)].  This will create a `DatetimeIndex` which can be used to extract the month and year for each row in the DataFrame. "
   ]
  },
  {
   "cell_type": "code",
   "execution_count": 4,
   "metadata": {
    "collapsed": false
   },
   "outputs": [],
   "source": [
    "#your code here"
   ]
  },
  {
   "cell_type": "markdown",
   "metadata": {},
   "source": [
    "#### Problem 1(c)\n",
    "\n",
    "Convert the dates in the `date` column from the `sampleinfo` table into days since October 31, 2002. Add a column to the `sampleinfo` DataFrame titled `elapsedInDays` containing the days since October 31, 2002.  Show the head of the `sampleinfo` DataFrame which includes the new column.  \n",
    "\n",
    "**Hint**: Use the `datetime` module to create a new `datetime` object for the specific date October 31, 2002. Then, subtract the October 31, 2002 date from each date from the `date` column in the `sampleinfo` DataFrame. "
   ]
  },
  {
   "cell_type": "code",
   "execution_count": 5,
   "metadata": {
    "collapsed": false
   },
   "outputs": [],
   "source": [
    "#your code here"
=======
    "#pd_expr = pd.read_csv(\"~/Projects/cs109_2015/2014_data/exprs_GSE5859.csv\", index_col=0)\n",
    "pd_expr = pd.read_csv(\"C:/cygwin/home/kyuan/cs109/2014_data/exprs_GSE5859.csv\", index_col=0)"
>>>>>>> 78f754b2a7dcc64bee2906766889a9cea64d03b3
   ]
  },
  {
   "cell_type": "markdown",
   "metadata": {},
   "source": [
<<<<<<< HEAD
    "#### Problem 1(d)\n",
    "\n",
    "Use exploratory analysis and the singular value decomposition (SVD) of the gene expression data matrix to determine if the date the samples were processed has large effect on the variability seen in the data or if it is just ethnicity (which is confounded with date). \n",
    "\n",
    "**Hint**: See the end of the [lecture from 9/23/2014 for help with SVD](http://nbviewer.ipython.org/github/cs109/2014/blob/master/lectures/lecture07/data_scraping_transcript.ipynb). \n",
    "\n",
    "First subset the the `sampleinfo` DataFrame to include only the CEU ethnicity.  Call this new subsetted DataFrame `sampleinfoCEU`.  Show the head of `sampleinfoCEU` DataFrame. "
   ]
  },
  {
   "cell_type": "code",
   "execution_count": 6,
   "metadata": {
    "collapsed": false
   },
   "outputs": [],
   "source": [
    "#your code here"
   ]
  },
  {
   "cell_type": "markdown",
   "metadata": {},
   "source": [
    "Next, subset the `exprs` DataFrame to only include the samples with the CEU ethnicity. Name this new subsetted DataFrame `exprsCEU`. Show the head of the `exprsCEU` DataFrame. "
   ]
  },
  {
   "cell_type": "code",
   "execution_count": 7,
   "metadata": {
    "collapsed": false
   },
   "outputs": [],
   "source": [
    "#your code here"
   ]
  },
  {
   "cell_type": "markdown",
   "metadata": {},
   "source": [
    "Check to make sure the order of the columns in the `exprsCEU` DataFrame matches the rows in the `sampleinfoCEU` DataFrame.  "
=======
    "Make sure the order of the columns in the gene expression DataFrame match the order of file names in the sample annotation DataFrame. If the order of the columns the `exprs` DataFrame do not match the order of the file names in the `sampleinfo` DataFrame, reorder the columns in the `exprs` DataFrame. \n",
    "\n",
    "**Note**: The column names of the gene expression DataFrame are the filenames of the orignal files from which these data were obtained.  \n",
    "\n",
    "**Hint**: The method `list.index(x)` [[read here](https://docs.python.org/2/tutorial/datastructures.html)] can be used to return the index in the list of the first item whose value is x. It is an error if there is no such item. To check if the order of the columns in `exprs` matches the order of the rows in `sampleinfo`, you can check using the method `.all()` on a Boolean or list of Booleans: \n",
    "\n",
    "Example code: `(exprs.columns == sampleinfo.filename).all()`"
>>>>>>> 78f754b2a7dcc64bee2906766889a9cea64d03b3
   ]
  },
  {
   "cell_type": "code",
   "execution_count": 8,
   "metadata": {
    "collapsed": false
   },
   "outputs": [],
   "source": [
<<<<<<< HEAD
    "#your code here"
   ]
  },
  {
   "cell_type": "markdown",
   "metadata": {},
   "source": [
    "Compute the average gene expression intensity in the `exprsCEU` DataFrame across all the samples. For each sample in the `exprsCEU` DataFrame, subtract the average gene expression intensity from each of the samples. Show the head of the mean normalized gene expression data.  "
=======
    "list_exprs = list(pd_expr.columns)\n",
    "expr_filter = [list_exprs.index(x) for x in pd_sample_info.filename]\n",
    "exprs = pd_expr[expr_filter]"
>>>>>>> 78f754b2a7dcc64bee2906766889a9cea64d03b3
   ]
  },
  {
   "cell_type": "code",
   "execution_count": 9,
   "metadata": {
    "collapsed": false
   },
<<<<<<< HEAD
   "outputs": [],
   "source": [
    "#your code here"
   ]
  },
  {
   "cell_type": "markdown",
   "metadata": {},
   "source": [
    "Using this mean normalized gene expression data, compute the projection to the first Principal Component (PC1).  \n",
    "\n",
    "**Hint**: Use the `numpy.linalg.svd()` function in the `numpy.linalg` module (or the `scipy.linalg.svd()` function in the `scipy.linalg` module) to apply an [singular value decomposition](http://en.wikipedia.org/wiki/Singular_value_decomposition) to a matrix.  "
   ]
  },
  {
   "cell_type": "code",
   "execution_count": 10,
   "metadata": {
    "collapsed": false
   },
   "outputs": [],
   "source": [
    "#your code here"
   ]
  },
  {
   "cell_type": "markdown",
   "metadata": {},
   "source": [
    "Create a histogram using the values from PC1.  Use a bin size of 25.  "
   ]
  },
  {
   "cell_type": "code",
   "execution_count": 11,
   "metadata": {
    "collapsed": false
   },
   "outputs": [],
   "source": [
    "#your code here"
   ]
  },
  {
   "cell_type": "markdown",
   "metadata": {},
   "source": [
    "Create a scatter plot with the days since October 31, 2002 on the x-axis and PC1 on the y-axis."
   ]
  },
  {
   "cell_type": "code",
   "execution_count": 12,
   "metadata": {
    "collapsed": false
   },
   "outputs": [],
   "source": [
    "#your code here"
   ]
  },
  {
   "cell_type": "markdown",
   "metadata": {},
   "source": [
    "Around what day do you notice a difference in the way the samples were processed?"
   ]
  },
  {
   "cell_type": "code",
   "execution_count": 13,
   "metadata": {
    "collapsed": false
   },
   "outputs": [],
   "source": [
    "#your code here"
   ]
  },
  {
   "cell_type": "markdown",
   "metadata": {},
   "source": [
    "Answer:"
   ]
  },
  {
   "cell_type": "markdown",
   "metadata": {},
   "source": [
    "## Discussion for Problem 1\n",
    "\n",
    "*Write a brief discussion of your conclusions to the questions and tasks above in 100 words or less.*\n",
    "\n",
    "---\n"
   ]
  },
  {
   "cell_type": "markdown",
   "metadata": {},
   "source": [
    "## Problem 2: Is there a pollster bias in presidential election polls?"
   ]
  },
  {
   "cell_type": "markdown",
   "metadata": {},
   "source": [
    "#### Problem 2(a)\n",
    "\n",
    "The [HuffPost Pollster](http://elections.huffingtonpost.com/pollster) contains many political polls. You can access these polls from individual races as a CSV but you can also access polls through the [HuffPost Pollster API](http://elections.huffingtonpost.com/pollster/api) to access the data.  \n",
    "\n",
    "Read in the polls from the [2012 Presidential Election: Barack Obama vs Mitt Romney](http://elections.huffingtonpost.com/pollster/2012-general-election-romney-vs-obama) into a pandas DataFrame called `election`. For this problem, you may read in the polls for this race directly using [the CSV file](http://elections.huffingtonpost.com/pollster/2012-general-election-romney-vs-obama.csv) available from the HuffPost Pollster page."
   ]
  },
  {
   "cell_type": "code",
   "execution_count": 4,
   "metadata": {
    "collapsed": false
   },
   "outputs": [
    {
     "name": "stderr",
     "output_type": "stream",
     "text": [
      "/usr/local/lib/python2.7/site-packages/ipykernel/__main__.py:6: FutureWarning: convert_objects is deprecated.  Use the data-type specific converters pd.to_datetime, pd.to_timedelta and pd.to_numeric.\n"
     ]
    }
   ],
   "source": [
    "#your code here\n",
    "url = \"http://elections.huffingtonpost.com/pollster/2012-general-election-romney-vs-obama.csv\"\n",
    "source = requests.get(url).text\n",
    "s = StringIO(source)\n",
    "election = pd.DataFrame.from_csv(s, index_col=None).convert_objects(\n",
    "            convert_dates=\"coerce\", convert_numeric=True) # Access polls as a CSV file"
   ]
  },
  {
   "cell_type": "markdown",
   "metadata": {},
   "source": [
    "Show the head of the `election` DataFrame. "
=======
   "outputs": [
    {
     "data": {
      "text/plain": [
       "<pandas.core.indexing._IXIndexer at 0x3bbc320>"
      ]
     },
     "execution_count": 9,
     "metadata": {},
     "output_type": "execute_result"
    }
   ],
   "source": [
    "pd_expr.ix(204)"
>>>>>>> 78f754b2a7dcc64bee2906766889a9cea64d03b3
   ]
  },
  {
   "cell_type": "code",
<<<<<<< HEAD
   "execution_count": 5,
   "metadata": {
    "collapsed": false
   },
   "outputs": [
    {
     "data": {
      "text/html": [
       "<div>\n",
       "<table border=\"1\" class=\"dataframe\">\n",
       "  <thead>\n",
       "    <tr style=\"text-align: right;\">\n",
       "      <th></th>\n",
       "      <th>Pollster</th>\n",
       "      <th>Start Date</th>\n",
       "      <th>End Date</th>\n",
       "      <th>Entry Date/Time (ET)</th>\n",
       "      <th>Number of Observations</th>\n",
       "      <th>Population</th>\n",
       "      <th>Mode</th>\n",
       "      <th>Obama</th>\n",
       "      <th>Romney</th>\n",
       "      <th>Undecided</th>\n",
       "      <th>Pollster URL</th>\n",
       "      <th>Source URL</th>\n",
       "      <th>Partisan</th>\n",
       "      <th>Affiliation</th>\n",
       "    </tr>\n",
       "  </thead>\n",
       "  <tbody>\n",
       "    <tr>\n",
       "      <th>0</th>\n",
       "      <td>Politico/GWU/Battleground</td>\n",
       "      <td>2012-11-04</td>\n",
       "      <td>2012-11-05</td>\n",
       "      <td>2012-11-06 2000-01-01 08:40:26 UTC</td>\n",
       "      <td>1000</td>\n",
       "      <td>Likely Voters</td>\n",
       "      <td>Live Phone</td>\n",
       "      <td>47</td>\n",
       "      <td>47</td>\n",
       "      <td>6</td>\n",
       "      <td>http://elections.huffingtonpost.com/pollster/p...</td>\n",
       "      <td>NaN</td>\n",
       "      <td>Nonpartisan</td>\n",
       "      <td>None</td>\n",
       "    </tr>\n",
       "    <tr>\n",
       "      <th>1</th>\n",
       "      <td>UPI/CVOTER</td>\n",
       "      <td>2012-11-03</td>\n",
       "      <td>2012-11-05</td>\n",
       "      <td>2012-11-05 2000-01-01 18:30:15 UTC</td>\n",
       "      <td>3000</td>\n",
       "      <td>Likely Voters</td>\n",
       "      <td>Live Phone</td>\n",
       "      <td>49</td>\n",
       "      <td>48</td>\n",
       "      <td>NaN</td>\n",
       "      <td>http://elections.huffingtonpost.com/pollster/p...</td>\n",
       "      <td>NaN</td>\n",
       "      <td>Nonpartisan</td>\n",
       "      <td>None</td>\n",
       "    </tr>\n",
       "    <tr>\n",
       "      <th>2</th>\n",
       "      <td>Gravis Marketing</td>\n",
       "      <td>2012-11-03</td>\n",
       "      <td>2012-11-05</td>\n",
       "      <td>2012-11-06 2000-01-01 09:22:02 UTC</td>\n",
       "      <td>872</td>\n",
       "      <td>Likely Voters</td>\n",
       "      <td>Automated Phone</td>\n",
       "      <td>48</td>\n",
       "      <td>48</td>\n",
       "      <td>4</td>\n",
       "      <td>http://elections.huffingtonpost.com/pollster/p...</td>\n",
       "      <td>NaN</td>\n",
       "      <td>Nonpartisan</td>\n",
       "      <td>None</td>\n",
       "    </tr>\n",
       "    <tr>\n",
       "      <th>3</th>\n",
       "      <td>JZ Analytics/Newsmax</td>\n",
       "      <td>2012-11-03</td>\n",
       "      <td>2012-11-05</td>\n",
       "      <td>2012-11-06 2000-01-01 07:38:41 UTC</td>\n",
       "      <td>1041</td>\n",
       "      <td>Likely Voters</td>\n",
       "      <td>Internet</td>\n",
       "      <td>47</td>\n",
       "      <td>47</td>\n",
       "      <td>6</td>\n",
       "      <td>http://elections.huffingtonpost.com/pollster/p...</td>\n",
       "      <td>NaN</td>\n",
       "      <td>Sponsor</td>\n",
       "      <td>Rep</td>\n",
       "    </tr>\n",
       "    <tr>\n",
       "      <th>4</th>\n",
       "      <td>Rasmussen</td>\n",
       "      <td>2012-11-03</td>\n",
       "      <td>2012-11-05</td>\n",
       "      <td>2012-11-06 2000-01-01 08:47:50 UTC</td>\n",
       "      <td>1500</td>\n",
       "      <td>Likely Voters</td>\n",
       "      <td>Automated Phone</td>\n",
       "      <td>48</td>\n",
       "      <td>49</td>\n",
       "      <td>NaN</td>\n",
       "      <td>http://elections.huffingtonpost.com/pollster/p...</td>\n",
       "      <td>NaN</td>\n",
       "      <td>Nonpartisan</td>\n",
       "      <td>None</td>\n",
       "    </tr>\n",
       "  </tbody>\n",
       "</table>\n",
       "</div>"
      ],
      "text/plain": [
       "                    Pollster Start Date   End Date  \\\n",
       "0  Politico/GWU/Battleground 2012-11-04 2012-11-05   \n",
       "1                 UPI/CVOTER 2012-11-03 2012-11-05   \n",
       "2           Gravis Marketing 2012-11-03 2012-11-05   \n",
       "3       JZ Analytics/Newsmax 2012-11-03 2012-11-05   \n",
       "4                  Rasmussen 2012-11-03 2012-11-05   \n",
       "\n",
       "                 Entry Date/Time (ET)  Number of Observations     Population  \\\n",
       "0  2012-11-06 2000-01-01 08:40:26 UTC                    1000  Likely Voters   \n",
       "1  2012-11-05 2000-01-01 18:30:15 UTC                    3000  Likely Voters   \n",
       "2  2012-11-06 2000-01-01 09:22:02 UTC                     872  Likely Voters   \n",
       "3  2012-11-06 2000-01-01 07:38:41 UTC                    1041  Likely Voters   \n",
       "4  2012-11-06 2000-01-01 08:47:50 UTC                    1500  Likely Voters   \n",
       "\n",
       "              Mode  Obama  Romney  Undecided  \\\n",
       "0       Live Phone     47      47          6   \n",
       "1       Live Phone     49      48        NaN   \n",
       "2  Automated Phone     48      48          4   \n",
       "3         Internet     47      47          6   \n",
       "4  Automated Phone     48      49        NaN   \n",
       "\n",
       "                                        Pollster URL  Source URL     Partisan  \\\n",
       "0  http://elections.huffingtonpost.com/pollster/p...         NaN  Nonpartisan   \n",
       "1  http://elections.huffingtonpost.com/pollster/p...         NaN  Nonpartisan   \n",
       "2  http://elections.huffingtonpost.com/pollster/p...         NaN  Nonpartisan   \n",
       "3  http://elections.huffingtonpost.com/pollster/p...         NaN      Sponsor   \n",
       "4  http://elections.huffingtonpost.com/pollster/p...         NaN  Nonpartisan   \n",
       "\n",
       "  Affiliation  \n",
       "0        None  \n",
       "1        None  \n",
       "2        None  \n",
       "3         Rep  \n",
       "4        None  "
      ]
     },
     "execution_count": 5,
     "metadata": {},
     "output_type": "execute_result"
    }
   ],
   "source": [
    "election.head()"
   ]
  },
  {
   "cell_type": "markdown",
   "metadata": {},
   "source": [
    "How many polls were conducted in November? Define this number as M.  \n",
    "\n",
    "**Hint**: Subset the `election` DataFrame for only dates in the `Start Date` column that are in November 2012.  "
   ]
  },
  {
   "cell_type": "code",
   "execution_count": 12,
   "metadata": {
    "collapsed": false
   },
   "outputs": [
    {
     "data": {
      "text/plain": [
       "Pollster                          object\n",
       "Start Date                datetime64[ns]\n",
       "End Date                  datetime64[ns]\n",
       "Entry Date/Time (ET)              object\n",
       "Number of Observations           float64\n",
       "Population                        object\n",
       "Mode                              object\n",
       "Obama                              int64\n",
       "Romney                             int64\n",
       "Undecided                        float64\n",
       "Pollster URL                      object\n",
       "Source URL                       float64\n",
       "Partisan                          object\n",
       "Affiliation                       object\n",
       "dtype: object"
      ]
     },
     "execution_count": 12,
     "metadata": {},
     "output_type": "execute_result"
    }
   ],
   "source": [
    "election.dtypes"
   ]
  },
  {
   "cell_type": "code",
   "execution_count": 18,
   "metadata": {
    "collapsed": false
   },
   "outputs": [
    {
     "data": {
      "text/plain": [
       "pandas.core.series.Series"
      ]
     },
     "execution_count": 18,
     "metadata": {},
     "output_type": "execute_result"
    }
   ],
   "source": [
    "type(election[\"Start Date\"])"
   ]
  },
  {
   "cell_type": "code",
   "execution_count": 22,
   "metadata": {
    "collapsed": false
   },
   "outputs": [
    {
     "data": {
      "text/plain": [
       "list"
      ]
     },
     "execution_count": 22,
     "metadata": {},
     "output_type": "execute_result"
    }
   ],
   "source": [
    "type(map(lambda x: x.month == 11 and x.year == 2012 ,election[\"Start Date\"]))"
   ]
  },
  {
   "cell_type": "code",
   "execution_count": 71,
   "metadata": {
    "collapsed": false
   },
   "outputs": [
    {
     "name": "stderr",
     "output_type": "stream",
     "text": [
      "/usr/local/lib/python2.7/site-packages/pandas/util/decorators.py:89: SettingWithCopyWarning: \n",
      "A value is trying to be set on a copy of a slice from a DataFrame\n",
      "\n",
      "See the caveats in the documentation: http://pandas.pydata.org/pandas-docs/stable/indexing.html#indexing-view-versus-copy\n",
      "  return func(*args, **kwargs)\n"
     ]
    },
    {
     "ename": "NameError",
     "evalue": "name 'm' is not defined",
     "output_type": "error",
     "traceback": [
      "\u001b[0;31m---------------------------------------------------------------------------\u001b[0m",
      "\u001b[0;31mNameError\u001b[0m                                 Traceback (most recent call last)",
      "\u001b[0;32m<ipython-input-71-1c0944b9204d>\u001b[0m in \u001b[0;36m<module>\u001b[0;34m()\u001b[0m\n\u001b[1;32m      2\u001b[0m \u001b[0mfiltered\u001b[0m\u001b[0;34m.\u001b[0m\u001b[0mdrop_duplicates\u001b[0m\u001b[0;34m(\u001b[0m\u001b[0;34m'Pollster'\u001b[0m\u001b[0;34m,\u001b[0m \u001b[0minplace\u001b[0m \u001b[0;34m=\u001b[0m \u001b[0mTrue\u001b[0m\u001b[0;34m)\u001b[0m \u001b[0;31m# Removes duplicate pollsters\u001b[0m\u001b[0;34m\u001b[0m\u001b[0m\n\u001b[1;32m      3\u001b[0m \u001b[0mM\u001b[0m \u001b[0;34m=\u001b[0m \u001b[0mlen\u001b[0m\u001b[0;34m(\u001b[0m\u001b[0mfiltered\u001b[0m\u001b[0;34m)\u001b[0m\u001b[0;34m\u001b[0m\u001b[0m\n\u001b[0;32m----> 4\u001b[0;31m \u001b[0;32mprint\u001b[0m \u001b[0mm\u001b[0m\u001b[0;34m\u001b[0m\u001b[0m\n\u001b[0m",
      "\u001b[0;31mNameError\u001b[0m: name 'm' is not defined"
     ]
    }
   ],
   "source": [
    "filtered = election[map(lambda x: x.month == 11 and x.year == 2012 ,election[\"Start Date\"])]\n",
    "filtered.drop_duplicates('Pollster', inplace = True) # Removes duplicate pollsters\n",
    "M = len(filtered)"
   ]
  },
  {
   "cell_type": "code",
   "execution_count": 72,
   "metadata": {
    "collapsed": false
   },
   "outputs": [
    {
     "name": "stdout",
     "output_type": "stream",
     "text": [
      "18\n"
     ]
    }
   ],
   "source": [
    "print M"
   ]
  },
  {
   "cell_type": "markdown",
   "metadata": {},
   "source": [
    "Answer:"
   ]
  },
  {
   "cell_type": "markdown",
   "metadata": {},
   "source": [
    "What was the median of the number of observations in the November polls? Define this quantity as N. "
   ]
  },
  {
   "cell_type": "code",
   "execution_count": 108,
   "metadata": {
    "collapsed": false
   },
   "outputs": [
    {
     "name": "stdout",
     "output_type": "stream",
     "text": [
      "1200 <type 'int'>\n"
     ]
    }
   ],
   "source": [
    "N = int(np.median(filtered[\"Number of Observations\"]))\n",
    "print N, type(N)"
   ]
  },
  {
   "cell_type": "markdown",
   "metadata": {},
   "source": [
    "Answer: "
   ]
  },
  {
   "cell_type": "markdown",
   "metadata": {},
   "source": [
    "#### Problem 2(b)\n",
    "\n",
    "Using the median sample size $N$ from Problem 1(a), simulate the results from a **single poll**:  simulate the number of votes for Obama out of a sample size $N$ where $p$ = 0.53 is the percent of voters who are voting for Obama.  \n",
    "\n",
    "**Hint**: Use the binomial distribution with parameters $N$ and $p$ = 0.53. "
   ]
  },
  {
   "cell_type": "code",
   "execution_count": 196,
   "metadata": {
    "collapsed": false
   },
   "outputs": [
    {
     "data": {
      "text/plain": [
       "array([ 0.54583333])"
      ]
     },
     "execution_count": 196,
     "metadata": {},
     "output_type": "execute_result"
    }
   ],
   "source": [
    "np.random.binomial(N, p, 1)/float(N)"
   ]
  },
  {
   "cell_type": "markdown",
   "metadata": {},
   "source": [
    "Now, perform a Monte Carlo simulation to obtain the estimated percentage of Obama votes with a sample size $N$ where $N$ is the median sample size calculated in Problem 2(a). Let $p$=0.53 be the percent of voters are voting for Obama. \n",
    "\n",
    "**Hint**: You will repeat the simulation above 1,000 times and plot the distribution of the estimated *percent* of Obama votes from a single poll.  The results from the single poll you simulate is random variable and will be different every time you sample. "
   ]
  },
  {
   "cell_type": "code",
   "execution_count": 125,
   "metadata": {
    "collapsed": false
   },
   "outputs": [],
   "source": [
    "#result = map(lambda x: np.random.binomial(1, p, N), xrange(N))\n",
    "obs = np.random.binomial(N,p,B)/float(N)"
   ]
  },
  {
   "cell_type": "markdown",
   "metadata": {},
   "source": [
    "Plot the distribution of the estimated percentage of Obama votes from your single poll. What is the distribution of the estimated percentage of Obama votes? "
   ]
  },
  {
   "cell_type": "code",
   "execution_count": 126,
   "metadata": {
    "collapsed": false
   },
   "outputs": [
    {
     "data": {
      "text/plain": [
       "(array([   3.,    9.,   41.,  123.,  212.,  235.,  217.,  121.,   32.,    7.]),\n",
       " array([ 0.47833333,  0.48775   ,  0.49716667,  0.50658333,  0.516     ,\n",
       "         0.52541667,  0.53483333,  0.54425   ,  0.55366667,  0.56308333,\n",
       "         0.5725    ]),\n",
       " <a list of 10 Patch objects>)"
      ]
     },
     "execution_count": 126,
     "metadata": {},
     "output_type": "execute_result"
    },
    {
     "data": {
      "image/png": "iVBORw0KGgoAAAANSUhEUgAAAX8AAAEACAYAAABbMHZzAAAABHNCSVQICAgIfAhkiAAAAAlwSFlz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\nw1+SGmT4S1KDDH9JapDhL0kN+n+gR/8wKZt+8QAAAABJRU5ErkJggg==\n",
      "text/plain": [
       "<matplotlib.figure.Figure at 0x14700e710>"
      ]
     },
     "metadata": {},
     "output_type": "display_data"
    }
   ],
   "source": [
    "plt.hist(obs)"
   ]
  },
  {
   "cell_type": "markdown",
   "metadata": {},
   "source": [
    "Answer: "
   ]
  },
  {
   "cell_type": "code",
   "execution_count": 132,
   "metadata": {
    "collapsed": false
   },
   "outputs": [
    {
     "data": {
      "image/png": "iVBORw0KGgoAAAANSUhEUgAAAYIAAAEZCAYAAACaWyIJAAAABHNCSVQICAgIfAhkiAAAAAlwSFlz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\ngTHGBLj/B/uY8l1BxDi5AAAAAElFTkSuQmCC\n",
      "text/plain": [
       "<matplotlib.figure.Figure at 0x10bbb2d10>"
      ]
     },
     "metadata": {},
     "output_type": "display_data"
    }
   ],
   "source": [
    "import scipy.stats as stats\n",
    "stats.probplot((obs - np.mean(obs)) / np.std(obs, ddof=1), dist=\"norm\", plot = plt)\n",
    "plt.show()"
   ]
  },
  {
   "cell_type": "markdown",
   "metadata": {},
   "source": [
    "What is the standard error (SE) of the estimated percentage from the poll. \n",
    "\n",
    "**Hint**: Remember the SE is the standard deviation (SD) of the distribution of a random variable. "
   ]
  },
  {
   "cell_type": "code",
   "execution_count": 133,
   "metadata": {
    "collapsed": false
   },
   "outputs": [
    {
     "name": "stdout",
     "output_type": "stream",
     "text": [
      "0.0144052028895\n"
     ]
    }
   ],
   "source": [
    "print np.std(obs, ddof=1)"
   ]
  },
  {
   "cell_type": "code",
   "execution_count": 136,
   "metadata": {
    "collapsed": false
   },
   "outputs": [
    {
     "data": {
      "text/plain": [
       "'analytically it should be: 0.014408'"
      ]
     },
     "execution_count": 136,
     "metadata": {},
     "output_type": "execute_result"
    }
   ],
   "source": [
    "\"analytically it should be: %f\" % math.sqrt(p*(1-p)/N)"
   ]
  },
  {
   "cell_type": "markdown",
   "metadata": {},
   "source": [
    "#### Problem 2(c)\n",
    "\n",
    "Now suppose we run M polls where M is the number of polls that happened in November (calculated in Problem 2(a)). Run 1,000 simulations and compute the mean of the M polls for each simulation. "
   ]
  },
  {
   "cell_type": "code",
   "execution_count": 162,
   "metadata": {
    "collapsed": false
   },
   "outputs": [
    {
     "name": "stdout",
     "output_type": "stream",
     "text": [
      "[ 0.53916667  0.51416667  0.55333333  0.53        0.5225      0.51666667\n",
      "  0.53083333  0.5125      0.5525      0.5575      0.535       0.53416667\n",
      "  0.51333333  0.53333333  0.54333333  0.5325      0.5125      0.5275    ]\n"
     ]
    }
   ],
   "source": [
    "# Represents the percentage of Obama votes from M polls\n",
    "def simulatePolls(p, N, M):\n",
    "    \"\"\" Function to simulate the results \n",
    "    of M polls each measuring the percent\n",
    "    of Obama votes out of a sample size of N\n",
    "    with probability p of voting for Obama\n",
    "    \n",
    "    M = Number of polls to simulate\n",
    "    N = Sample size of each poll\n",
    "    p = Probability of voting for Obama \"\"\"\n",
    "    \n",
    "    #return map(lambda x: np.mean(np.random.binomial(1, p, size = N)), xrange(M))\n",
    "    #return [np.mean(np.random.binomial(1, p, N)) for x in xrange(M)]\n",
    "    \n",
    "    return np.random.binomial(N, p, M)/float(N)\n",
    "\n",
    "\n",
    "print simulatePolls(p, N, M) "
   ]
  },
  {
   "cell_type": "markdown",
   "metadata": {},
   "source": [
    "What is the distribution of the average of polls?\n",
    "\n",
    "**Hint**: Show a plot. "
   ]
  },
  {
   "cell_type": "code",
   "execution_count": 163,
   "metadata": {
    "collapsed": false
   },
   "outputs": [
    {
     "data": {
      "text/plain": [
       "(array([   2.,    6.,   30.,   96.,  207.,  265.,  224.,  116.,   44.,   10.]),\n",
       " array([ 0.51703704,  0.51934722,  0.52165741,  0.52396759,  0.52627778,\n",
       "         0.52858796,  0.53089815,  0.53320833,  0.53551852,  0.5378287 ,\n",
       "         0.54013889]),\n",
       " <a list of 10 Patch objects>)"
      ]
     },
     "execution_count": 163,
     "metadata": {},
     "output_type": "execute_result"
    },
    {
     "data": {
      "image/png": "iVBORw0KGgoAAAANSUhEUgAAAYIAAAEACAYAAAC+gnFaAAAABHNCSVQICAgIfAhkiAAAAAlwSFlz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\n5AAAAABJRU5ErkJggg==\n",
      "text/plain": [
       "<matplotlib.figure.Figure at 0x10be3f250>"
      ]
     },
     "metadata": {},
     "output_type": "display_data"
    }
   ],
   "source": [
    "B = 1000\n",
    "mom = [np.mean(simulatePolls(p, N, M)) for x in xrange(B)]\n",
    "plt.hist(mom)"
=======
   "execution_count": 10,
   "metadata": {
    "collapsed": false
   },
   "outputs": [
    {
     "data": {
      "text/plain": [
       "[204,\n",
       " 115,\n",
       " 26,\n",
       " 46,\n",
       " 185,\n",
       " 131,\n",
       " 91,\n",
       " 195,\n",
       " 180,\n",
       " 117,\n",
       " 54,\n",
       " 68,\n",
       " 9,\n",
       " 106,\n",
       " 87,\n",
       " 55,\n",
       " 127,\n",
       " 89,\n",
       " 37,\n",
       " 202,\n",
       " 162,\n",
       " 105,\n",
       " 177,\n",
       " 23,\n",
       " 85,\n",
       " 203,\n",
       " 179,\n",
       " 154,\n",
       " 90,\n",
       " 88,\n",
       " 172,\n",
       " 151,\n",
       " 33,\n",
       " 183,\n",
       " 11,\n",
       " 139,\n",
       " 65,\n",
       " 53,\n",
       " 164,\n",
       " 21,\n",
       " 10,\n",
       " 4,\n",
       " 161,\n",
       " 61,\n",
       " 130,\n",
       " 73,\n",
       " 70,\n",
       " 72,\n",
       " 56,\n",
       " 24,\n",
       " 82,\n",
       " 77,\n",
       " 197,\n",
       " 156,\n",
       " 190,\n",
       " 0,\n",
       " 119,\n",
       " 163,\n",
       " 206,\n",
       " 109,\n",
       " 29,\n",
       " 159,\n",
       " 168,\n",
       " 74,\n",
       " 186,\n",
       " 99,\n",
       " 169,\n",
       " 62,\n",
       " 52,\n",
       " 27,\n",
       " 25,\n",
       " 141,\n",
       " 18,\n",
       " 138,\n",
       " 13,\n",
       " 50,\n",
       " 47,\n",
       " 1,\n",
       " 57,\n",
       " 152,\n",
       " 143,\n",
       " 200,\n",
       " 137,\n",
       " 199,\n",
       " 198,\n",
       " 30,\n",
       " 32,\n",
       " 120,\n",
       " 94,\n",
       " 98,\n",
       " 81,\n",
       " 43,\n",
       " 108,\n",
       " 64,\n",
       " 118,\n",
       " 110,\n",
       " 15,\n",
       " 193,\n",
       " 191,\n",
       " 58,\n",
       " 93,\n",
       " 78,\n",
       " 184,\n",
       " 116,\n",
       " 103,\n",
       " 145,\n",
       " 31,\n",
       " 111,\n",
       " 41,\n",
       " 136,\n",
       " 49,\n",
       " 194,\n",
       " 155,\n",
       " 171,\n",
       " 76,\n",
       " 35,\n",
       " 148,\n",
       " 48,\n",
       " 2,\n",
       " 175,\n",
       " 123,\n",
       " 22,\n",
       " 153,\n",
       " 38,\n",
       " 113,\n",
       " 8,\n",
       " 95,\n",
       " 178,\n",
       " 45,\n",
       " 42,\n",
       " 149,\n",
       " 133,\n",
       " 7,\n",
       " 124,\n",
       " 12,\n",
       " 51,\n",
       " 36,\n",
       " 16,\n",
       " 135,\n",
       " 201,\n",
       " 104,\n",
       " 144,\n",
       " 196,\n",
       " 34,\n",
       " 107,\n",
       " 66,\n",
       " 19,\n",
       " 129,\n",
       " 176,\n",
       " 14,\n",
       " 167,\n",
       " 63,\n",
       " 142,\n",
       " 146,\n",
       " 101,\n",
       " 134,\n",
       " 28,\n",
       " 166,\n",
       " 147,\n",
       " 102,\n",
       " 181,\n",
       " 157,\n",
       " 158,\n",
       " 86,\n",
       " 187,\n",
       " 114,\n",
       " 67,\n",
       " 140,\n",
       " 150,\n",
       " 79,\n",
       " 128,\n",
       " 189,\n",
       " 71,\n",
       " 84,\n",
       " 188,\n",
       " 20,\n",
       " 125,\n",
       " 126,\n",
       " 59,\n",
       " 60,\n",
       " 39,\n",
       " 132,\n",
       " 5,\n",
       " 160,\n",
       " 170,\n",
       " 69,\n",
       " 3,\n",
       " 44,\n",
       " 121,\n",
       " 17,\n",
       " 6,\n",
       " 40,\n",
       " 182,\n",
       " 192,\n",
       " 92,\n",
       " 97,\n",
       " 112,\n",
       " 83,\n",
       " 174,\n",
       " 96,\n",
       " 165,\n",
       " 173,\n",
       " 100,\n",
       " 122,\n",
       " 207,\n",
       " 75,\n",
       " 205,\n",
       " 80]"
      ]
     },
     "execution_count": 10,
     "metadata": {},
     "output_type": "execute_result"
    }
   ],
   "source": [
    "expr_filter"
>>>>>>> 78f754b2a7dcc64bee2906766889a9cea64d03b3
   ]
  },
  {
   "cell_type": "code",
<<<<<<< HEAD
   "execution_count": 165,
=======
   "execution_count": 11,
>>>>>>> 78f754b2a7dcc64bee2906766889a9cea64d03b3
   "metadata": {
    "collapsed": false
   },
   "outputs": [
    {
     "data": {
<<<<<<< HEAD
      "image/png": "iVBORw0KGgoAAAANSUhEUgAAAYIAAAEZCAYAAACaWyIJAAAABHNCSVQICAgIfAhkiAAAAAlwSFlz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\nsTQilQAAAABJRU5ErkJggg==\n",
      "text/plain": [
       "<matplotlib.figure.Figure at 0x10be4c650>"
      ]
     },
     "metadata": {},
     "output_type": "display_data"
    }
   ],
   "source": [
    "stats.probplot((mom - np.mean(mom)) / np.std(mom, ddof=1), dist=\"norm\", plot = plt)\n",
    "plt.show()"
   ]
  },
  {
   "cell_type": "markdown",
   "metadata": {},
   "source": [
    "Answer: "
=======
      "text/plain": [
       "True"
      ]
     },
     "execution_count": 11,
     "metadata": {},
     "output_type": "execute_result"
    }
   ],
   "source": [
    "(exprs.columns == pd_sample_info.filename).all()"
>>>>>>> 78f754b2a7dcc64bee2906766889a9cea64d03b3
   ]
  },
  {
   "cell_type": "markdown",
   "metadata": {},
   "source": [
<<<<<<< HEAD
    "What is the standard error (SE) of the average of polls? "
=======
    "Show the head of the two tables: `exprs` and `sampleinfo`. "
>>>>>>> 78f754b2a7dcc64bee2906766889a9cea64d03b3
   ]
  },
  {
   "cell_type": "code",
<<<<<<< HEAD
   "execution_count": 164,
=======
   "execution_count": 12,
>>>>>>> 78f754b2a7dcc64bee2906766889a9cea64d03b3
   "metadata": {
    "collapsed": false
   },
   "outputs": [
    {
     "data": {
<<<<<<< HEAD
      "text/plain": [
       "0.0034031512253615316"
      ]
     },
     "execution_count": 164,
=======
      "text/html": [
       "<div>\n",
       "<table border=\"1\" class=\"dataframe\">\n",
       "  <thead>\n",
       "    <tr style=\"text-align: right;\">\n",
       "      <th></th>\n",
       "      <th>GSM25349.CEL.gz</th>\n",
       "      <th>GSM25350.CEL.gz</th>\n",
       "      <th>GSM25356.CEL.gz</th>\n",
       "      <th>GSM25357.CEL.gz</th>\n",
       "      <th>GSM25358.CEL.gz</th>\n",
       "      <th>GSM25359.CEL.gz</th>\n",
       "      <th>GSM25360.CEL.gz</th>\n",
       "      <th>GSM25361.CEL.gz</th>\n",
       "      <th>GSM25377.CEL.gz</th>\n",
       "      <th>GSM25378.CEL.gz</th>\n",
       "      <th>...</th>\n",
       "      <th>GSM136719.CEL.gz</th>\n",
       "      <th>GSM136720.CEL.gz</th>\n",
       "      <th>GSM136721.CEL.gz</th>\n",
       "      <th>GSM136722.CEL.gz</th>\n",
       "      <th>GSM136723.CEL.gz</th>\n",
       "      <th>GSM136724.CEL.gz</th>\n",
       "      <th>GSM136725.CEL.gz</th>\n",
       "      <th>GSM136726.CEL.gz</th>\n",
       "      <th>GSM136727.CEL.gz</th>\n",
       "      <th>GSM136729.CEL.gz</th>\n",
       "    </tr>\n",
       "  </thead>\n",
       "  <tbody>\n",
       "    <tr>\n",
       "      <th>1007_s_at</th>\n",
       "      <td>6.627014</td>\n",
       "      <td>6.249807</td>\n",
       "      <td>5.934128</td>\n",
       "      <td>6.145268</td>\n",
       "      <td>6.091270</td>\n",
       "      <td>6.041186</td>\n",
       "      <td>6.050375</td>\n",
       "      <td>6.063847</td>\n",
       "      <td>6.226106</td>\n",
       "      <td>6.358282</td>\n",
       "      <td>...</td>\n",
       "      <td>6.466445</td>\n",
       "      <td>6.533592</td>\n",
       "      <td>6.631492</td>\n",
       "      <td>6.513362</td>\n",
       "      <td>6.440706</td>\n",
       "      <td>6.704324</td>\n",
       "      <td>6.488579</td>\n",
       "      <td>6.809481</td>\n",
       "      <td>6.133068</td>\n",
       "      <td>6.155473</td>\n",
       "    </tr>\n",
       "    <tr>\n",
       "      <th>1053_at</th>\n",
       "      <td>6.939184</td>\n",
       "      <td>6.818038</td>\n",
       "      <td>7.047962</td>\n",
       "      <td>7.422477</td>\n",
       "      <td>7.272361</td>\n",
       "      <td>7.128216</td>\n",
       "      <td>6.750719</td>\n",
       "      <td>6.836287</td>\n",
       "      <td>6.738022</td>\n",
       "      <td>7.367895</td>\n",
       "      <td>...</td>\n",
       "      <td>7.032885</td>\n",
       "      <td>7.156344</td>\n",
       "      <td>7.018025</td>\n",
       "      <td>6.973322</td>\n",
       "      <td>6.884738</td>\n",
       "      <td>7.120898</td>\n",
       "      <td>7.517410</td>\n",
       "      <td>7.200596</td>\n",
       "      <td>7.280781</td>\n",
       "      <td>7.111583</td>\n",
       "    </tr>\n",
       "    <tr>\n",
       "      <th>117_at</th>\n",
       "      <td>5.113570</td>\n",
       "      <td>5.074096</td>\n",
       "      <td>5.371201</td>\n",
       "      <td>5.266550</td>\n",
       "      <td>5.342047</td>\n",
       "      <td>5.063876</td>\n",
       "      <td>5.315898</td>\n",
       "      <td>5.483652</td>\n",
       "      <td>6.689444</td>\n",
       "      <td>6.482782</td>\n",
       "      <td>...</td>\n",
       "      <td>5.661112</td>\n",
       "      <td>5.127260</td>\n",
       "      <td>5.151840</td>\n",
       "      <td>5.505602</td>\n",
       "      <td>5.687689</td>\n",
       "      <td>4.942651</td>\n",
       "      <td>5.247190</td>\n",
       "      <td>5.237239</td>\n",
       "      <td>5.401876</td>\n",
       "      <td>5.302628</td>\n",
       "    </tr>\n",
       "    <tr>\n",
       "      <th>121_at</th>\n",
       "      <td>7.833862</td>\n",
       "      <td>7.780682</td>\n",
       "      <td>7.458197</td>\n",
       "      <td>7.655948</td>\n",
       "      <td>7.546555</td>\n",
       "      <td>7.072670</td>\n",
       "      <td>7.092984</td>\n",
       "      <td>6.954225</td>\n",
       "      <td>7.489785</td>\n",
       "      <td>7.388539</td>\n",
       "      <td>...</td>\n",
       "      <td>7.769734</td>\n",
       "      <td>7.815864</td>\n",
       "      <td>7.683279</td>\n",
       "      <td>7.883231</td>\n",
       "      <td>7.913621</td>\n",
       "      <td>7.834196</td>\n",
       "      <td>7.331864</td>\n",
       "      <td>7.357102</td>\n",
       "      <td>7.607461</td>\n",
       "      <td>7.456453</td>\n",
       "    </tr>\n",
       "    <tr>\n",
       "      <th>1255_g_at</th>\n",
       "      <td>3.152269</td>\n",
       "      <td>3.111747</td>\n",
       "      <td>3.018932</td>\n",
       "      <td>3.154545</td>\n",
       "      <td>3.107954</td>\n",
       "      <td>3.224284</td>\n",
       "      <td>3.114241</td>\n",
       "      <td>3.044975</td>\n",
       "      <td>3.304038</td>\n",
       "      <td>2.887919</td>\n",
       "      <td>...</td>\n",
       "      <td>3.257484</td>\n",
       "      <td>3.339234</td>\n",
       "      <td>3.298384</td>\n",
       "      <td>3.150654</td>\n",
       "      <td>3.344501</td>\n",
       "      <td>3.230285</td>\n",
       "      <td>3.175846</td>\n",
       "      <td>3.105092</td>\n",
       "      <td>3.225123</td>\n",
       "      <td>3.090149</td>\n",
       "    </tr>\n",
       "  </tbody>\n",
       "</table>\n",
       "<p>5 rows × 208 columns</p>\n",
       "</div>"
      ],
      "text/plain": [
       "           GSM25349.CEL.gz  GSM25350.CEL.gz  GSM25356.CEL.gz  GSM25357.CEL.gz  \\\n",
       "1007_s_at         6.627014         6.249807         5.934128         6.145268   \n",
       "1053_at           6.939184         6.818038         7.047962         7.422477   \n",
       "117_at            5.113570         5.074096         5.371201         5.266550   \n",
       "121_at            7.833862         7.780682         7.458197         7.655948   \n",
       "1255_g_at         3.152269         3.111747         3.018932         3.154545   \n",
       "\n",
       "           GSM25358.CEL.gz  GSM25359.CEL.gz  GSM25360.CEL.gz  GSM25361.CEL.gz  \\\n",
       "1007_s_at         6.091270         6.041186         6.050375         6.063847   \n",
       "1053_at           7.272361         7.128216         6.750719         6.836287   \n",
       "117_at            5.342047         5.063876         5.315898         5.483652   \n",
       "121_at            7.546555         7.072670         7.092984         6.954225   \n",
       "1255_g_at         3.107954         3.224284         3.114241         3.044975   \n",
       "\n",
       "           GSM25377.CEL.gz  GSM25378.CEL.gz        ...         \\\n",
       "1007_s_at         6.226106         6.358282        ...          \n",
       "1053_at           6.738022         7.367895        ...          \n",
       "117_at            6.689444         6.482782        ...          \n",
       "121_at            7.489785         7.388539        ...          \n",
       "1255_g_at         3.304038         2.887919        ...          \n",
       "\n",
       "           GSM136719.CEL.gz  GSM136720.CEL.gz  GSM136721.CEL.gz  \\\n",
       "1007_s_at          6.466445          6.533592          6.631492   \n",
       "1053_at            7.032885          7.156344          7.018025   \n",
       "117_at             5.661112          5.127260          5.151840   \n",
       "121_at             7.769734          7.815864          7.683279   \n",
       "1255_g_at          3.257484          3.339234          3.298384   \n",
       "\n",
       "           GSM136722.CEL.gz  GSM136723.CEL.gz  GSM136724.CEL.gz  \\\n",
       "1007_s_at          6.513362          6.440706          6.704324   \n",
       "1053_at            6.973322          6.884738          7.120898   \n",
       "117_at             5.505602          5.687689          4.942651   \n",
       "121_at             7.883231          7.913621          7.834196   \n",
       "1255_g_at          3.150654          3.344501          3.230285   \n",
       "\n",
       "           GSM136725.CEL.gz  GSM136726.CEL.gz  GSM136727.CEL.gz  \\\n",
       "1007_s_at          6.488579          6.809481          6.133068   \n",
       "1053_at            7.517410          7.200596          7.280781   \n",
       "117_at             5.247190          5.237239          5.401876   \n",
       "121_at             7.331864          7.357102          7.607461   \n",
       "1255_g_at          3.175846          3.105092          3.225123   \n",
       "\n",
       "           GSM136729.CEL.gz  \n",
       "1007_s_at          6.155473  \n",
       "1053_at            7.111583  \n",
       "117_at             5.302628  \n",
       "121_at             7.456453  \n",
       "1255_g_at          3.090149  \n",
       "\n",
       "[5 rows x 208 columns]"
      ]
     },
     "execution_count": 12,
>>>>>>> 78f754b2a7dcc64bee2906766889a9cea64d03b3
     "metadata": {},
     "output_type": "execute_result"
    }
   ],
   "source": [
<<<<<<< HEAD
    "import math\n",
    "np.std(mom, ddof=1)"
=======
    "exprs.head()"
>>>>>>> 78f754b2a7dcc64bee2906766889a9cea64d03b3
   ]
  },
  {
   "cell_type": "code",
<<<<<<< HEAD
   "execution_count": 91,
=======
   "execution_count": 13,
>>>>>>> 78f754b2a7dcc64bee2906766889a9cea64d03b3
   "metadata": {
    "collapsed": false
   },
   "outputs": [
    {
     "data": {
<<<<<<< HEAD
      "image/png": "iVBORw0KGgoAAAANSUhEUgAAAYIAAAEZCAYAAACaWyIJAAAABHNCSVQICAgIfAhkiAAAAAlwSFlz\nAAALEgAACxIB0t1+/AAAIABJREFUeJzt3Xd4FPXWwPHvSaEjvXeEUJMQIk24ELtergqI106TYhe7\nIkqx93rvKzVBpVhQ1GunhKYgxAQQlKL0jhhagGTZ8/4xG4wYwgY2mU32fJ4nD7uzszNnl2TO/Lqo\nKsYYY0JXmNsBGGOMcZclAmOMCXGWCIwxJsRZIjDGmBBnicAYY0KcJQJjjAlxlghMsSUiI0TkndN8\nb18RmZ/H61+IyE257SsiB0Sk4emcN58xzhGRAQV9HlP8WSIwQUVENohIhojsF5HtIpIoImXO4JBn\nMlDmpO9V1X+q6ju57auq5VV1A4Av/tGnG0Agvg8RaSAiXhGxv3eTK/vFMMFGge6qehbQFjgHGJ7b\njiIihRmYS/z+PvIgvuOEwvdlToMlAhOMBEBVtwNfAq3heFXIkyKyQEQOAY1EpJaIfCIiv4vIGhEZ\neMKxSovINN8d9VIRiTl+EpGHRGSd77WfRKTHCe8NE5E3RCRdRFaJyPk53nvSahnf3XdjERkE3AA8\n6DvHJyJyv4h8eML+r4vIK/n9Pk44hojIcF8JYoeIJIlIed/Lc33/pvvi6JDHuUwIskRggpaI1AP+\nCfyYY/ONwECgPLAJmOb7tyZwNfC0iCTk2P8K4D2gEjAVmCEi4b7X1gGdfXfbo4B3RaRGjvd2ANYC\nVYCRwEciUtGP0BVAVccBk4HnVfUsVb0SeBe4RETO8n3GcOAaYNJpfh/Z+gN9gG5AY5zv5z++17r6\n/j3LF8diPz6DCSGWCEwwmiEie4F5wBzgmRyvJanqL6rqxbn4nws8pKpZqroMGI9zQcyWoqofq+ox\n4GWgFNARQFWnq+pO3+MPcC767XO8d6eqvq6qx1T1fWA10N2P+E9aBaOqO4D5OEkL4DJgt6qm5XG8\nvL6PbNcDL6vqRlXNAB4BrvW1C2THY1VDJlcRbgdgTC6uVNU5J3ltc47HtYG9vgtfto1AfG77q6qK\nyBbf+xCRPsA9QEPfLmWBqjneu/WEc2/Mfu8ZehsYAkzAqTo6Vc+mvL6PbLVx4su2EefvuwZn1mBu\nQoCVCEwwyuvONedFbRtQWUTK5thWn79ewOsdP6jTuFwX2CYi9YGxwG2qWklVKwErTzh3nRPOXd93\nzvzI7SI8A4gRkVbAv3Cqj/Liz538NqBBjucNgCxg50liMOY4SwSmyFLVLcB3wDMiUtLXEHwzf73D\njheRHr66+HuAI8AinLt/L7BHRMJEpD9/b4StISJ3ikiEiFwNNAc+z2eYO3Hq7HPGfQT4CJgCLPZ9\njjM1FbhHRBqKSDngKWCarwptN85nPTsA5zHFkCUCE2zyunvN7bXrgEY4d8TTgcdOqEb5BKcx9g+c\napievjr/n4GXcJLCDqAVsOCEYy8CmgJ7gCeAq1Q1PZ9xTgBaicheEfkox/ZJQDRONVFe/D3PRJwE\nOA/4FcgA7gJQ1cM4iWGhL472Jx7IhDYJhoVpfA1aS4EtqnqF2/EYU9BEpC7wC1BTVQ+6HY8JbcFS\nIrgbWOV2EMYUBt+Nz/04VTeWBIzrXE8Evjujf+J0+zOmWPNND7EPOB8Y4XI4xgDB0X30FeABoILb\ngRhT0HxdXcufckdjCpGrJQIR6Y4zaCcNp4ucDXgxxphC5mpjsYg8jTNlgAcojXOn9JGq9jlhP/db\ntI0xpghS1VPeYLtaIlDVYapaX1UbA9cCs09MAjn2DfqfESNGuB6DxWkxWpwWZ/aPv1xvLDbGGOOu\nYGgsBkBV5/LndLnGGGMKiZUIAighIcHtEPxicQZOUYgRLM5AKypx+isoRhafiohoUYjTGGOCiYig\nwd5YbIwxxn2WCIwxJsRZIjDGmBBnicAYY0KcJQJjjAlxlgiMMSbEWSIwxpgQZ4nAGGNCnCUCY4wJ\ncZYIjDEmxFkiMMaYEGeJwBhjQpwlAmOMCXGWCIwxJsRZIjDGmBBnicAYYwLE6/Xy63PPsfXWW/F6\nvW6H4zdLBMYYkwev10tKSgopKSl5XtxXzJ7PzCrN8DzyOjckNiA+fiipqSsLMdLT52oiEJGSIrJY\nRFJFZKWIPO1mPMYYk1Nq6kri44fStetGunbdeNKLu/f996l5yaUsS7+SNrqOuUcfJi3tVQYMGFMk\nSgauL1UpImVUNUNEwoGFwH2quvCEfWypSmNMofJ6vcTHDyUt7VX+vGf20qbNUFJSXiUsLAx274Y7\n7uDI4sVctmMIyUcf+csxypSZzrx5DYmPjy/0+KEILVWpqhm+hyVx4vnDxXCMMQaA1NRU1qxJ4K+X\nyTDWrOlGamoqTJ8OMTFQrx6rJk/mh/BmLkV65iLcDkBEwoAU4GzgLVVd5XJIxpgQ5PV6nQs8EBcX\nd9L9quh+Gj3yCGzc6CSDc8+ljddLVNRQ0tJ6kLP0EBU1l7i4ngUf/BkKhhKBV1XjgLpAVxHp5nZM\nxpjQkltbAJQgKioZ+LOOvycfkpJ1J5WioyEtDc49F4CwsDAmThxCmzZDKVNmOmXKTCc29m4mThzi\nVCEFOdfbCHISkceADFV96YTtOmLEiOPPExISSEhIKOTojDHFUV5tAePHD2LgwHH8vjqOlzIn0D78\nJ46+9QZR/W866bFylioKOwkkJyeTnJx8/PmoUaP8aiNwNRGISFUgS1X3iUhp4GtglKrOOmE/ayw2\nxhSIlJQUunbdSEZGr79sz27ojduwAc8tt/DHxRdTbcwYwsqVcynS/PO3sdjtNoJawCQREZxU/M6J\nScAYY9xQWQ/Q6NFHCfvtN0p8/DE1unRxO6QC42rllaquUNW2qhqnqrGq+qKb8RhjQk9cXNzf2gJ6\nMJ0fs+6gUosWTltAMU4CEGRtBCdjVUPGmIKUmrqSAQPGsGd1W17MnECn8BUc+b83iBqQe1tAUeFv\n1ZAlAmOMAbwff4xnyBD+uPBCqo0dW6TaAk6mqLQRGGNMochtnEBqairh6enETphA2JIllJg+nRr/\n+IebYbrCSgTGmGIvu+rHGSkMdevOAEoRu6Eyr2aNY06VerT6ZDxtzj3H1TgDzUoExpiQlz1z6I03\njmHNmrE4/WO87F7zJa+RQSdmcy0fM39PF9rcPpSUlLZFYgBYoIXeJzbGFHter5fJkz+gRYvBdO06\nhzVrLib7cnc5r7KCj9hLFWJZxny68pc5hEKQlQiMMcWG1+tl6tTpjBr1FevWZaGaBKQCG6nEXl7j\nbs5lDtcxlPk85nK0wcNKBMaYYiE1dSVt297NTTd9xtq1t6CaPQFcHP8ikRVE8weViOFn5rOLnOMG\n/pwg7uSTzRVnViIwxhR5Ho+Ha699hTVrhgCbyb7HrcgfvMbddCaN6+nIPDpTqtSXNK23D5Fb2LLl\nEgCaNk1m4sRbQrJ9ACwRGGOKuNTUlVx77ROsWdOLPys54ujOSN7iLj6mJzH8QgYliYq6kXffvY/4\n+CTfe7O7k74WskkArPuoMaYI+3Pm0JtwSgI9qMgtvMoRujCHm2nHXK5HJJOYmO9ITLyVuLhWbodd\naIrMCmXGGHO6/lxFLB5I5p98zgo+5QBpxPI0c+lF06bv8847Efz44+shlQTyw6qGjDFFSvYIYa/X\ny6pVq/B4SlOB/bzKJrpyIzdxL8lEUa/eNMY8cwPXXTctpKt9/GGJwBhTJGSPDRg+/DO2bz+HrKy5\nQFkuYztjuI9PuYIYNnOI1URFvcTKldOJiLBLnD/sWzLGBK3su/9Vq9YxbNiHbNmSCUwH7qEC1XiF\nTBJYTV/aMYfzEPkfsTHfkZj4mCWBfLBvyhgTdHLe/W/b1haPJxkoDfQBlnEpGYzlEz7j30TzC4co\nA6QSGfkt48b1tbaAfLJEYIwJKikpK+jRY3SOu/8bgS6AUIEMXmYU57GAvtzNHEbkeGc8YWG/WnvA\nabBvzBgTNFJSVtC58+Ns2RJG9t2/0yNIuJR0VnAbR6lFDFczhz2cODq4WbP5ITs6+ExYicAYExS8\nXi+9ej3O0aOdAPH9wFlU52We4wK20I+Xmc0K4GwgGSdZXI7IMZo2nUNi4lArEZwGVxOBiNQF3gZq\n4KT2car6upsxGWPcsWTJEjZtOgcnATQCkrmYSxnHHXzBZUQTy0HmA5cBv1K3rpennupOWFgWzZo1\nIz7+WksCp8nVkcUiUhOoqappIlIOSAGuVNVfTtjPRhYbU0xlNwzfeedz7Nv3ILCQszjKS+zhQmYy\nkBuZxUHgIiIjt1Cz5myefnog119/tV34T6FILEyjqjuAHb7HB0XkZ6AO8EuebzTGFAt/NgwfBZoA\nX3Ax5zKO+/iCOkTzKgfZRo0aC3jxxRK0aHExcXEPWQIIsKCZa0hEGuJU+rVW1YMnvGYlAmOKmcWL\nU+nceTjHjpUD4ilPTV7iCS5mJwO5m5mUBWZRvbqydetXNi7gNBSJEkE2X7XQh8DdJyaBbCNHjjz+\nOCEhgYSEhEKJzRgTWB6Ph9tvf5CxY3/Aqe8vwUWsYRwv8BXnEU0lDlDet3cNXn75SksCfkpOTiY5\nOTnf73O9RCAiEcD/gC9V9bWT7GMlAmOKMK/Xy5IlS3jhhf8wffoWIAuIozyVeYkFXMwPDOQ8ZvKx\n7x2pgJeYmEmkpr5uVUGnqSiVCCYCq06WBIwxRZfH4+Gpp57n+ee/IiMjEigFhAMXcyHrGM9EvqYB\n0XzNAf4P6Ad0Bzw0bTqHpKR7LAkUArd7DXUG5gErAPX9DFPVr07Yz0oExhQxkyfP4KabXkK1LM70\nEAeBCyjPBl5gHZexmEF04Btq+95xGbCO8PCPmDjxQW688RpLAmeoSJQIVHUhzu2BMaaYyMzM5Lbb\nhjJhwgacS0xjoD6wnQtZy3g+5RvKEs3X7OctnPu/5sA86tbdxowZbxMfH+3eBwhBwVA1ZIwp4rxe\nL4sXL+auu4azdOlh4BDQ9fjr5TjKi6zkMr5jEBfyDQOAF4Grgd+ADxk16nqGD/+PlQJcYInAGHNG\nfvghjfPOu42MDC9QGWeSgDa+V2txAbMYz/fMpBHRjGM/b+NMJncVMI8qVVbw5ZdJtGsX69InMJZ6\njTGn7YknXqdDh4fIyKgE7MOZA6g10IVy/Mb/MY6JLOIW2jCI2uznK5z5gcpSocILTJrUlV275lkS\ncJnr3Uf9YY3FxgSfxYtT6djxTqAWUBPYBVQHanE+c5jAMmYRxr20YD91gGZAGhUqrOP11x+2xuBC\n4G9jsSUCY0y+ZWZmUrFiGw4fvoA/E0AHyvEOz7OGf7GLwVzAV9wAzAfmUKlSOF98MZb27dtbAigk\n/iYC+98wxvjN4/EwcODdlCwZz+HDLXFKAxHAb5zHGJazlJJkEE07vuIsnIbgmtSv35ZZs6bSsWNH\nSwJByP5HjDGn5PV6GTXqBSIj2zJhwhrAA/QAvqMsXv7DcibxA7fTlJt5kX1UBWbSs2caixZdxPr1\nk2z5yCBmVUPGmDylpq7kkkvuZvfucGAn8A+cvv/7SaAiExjHXGpzD1ezj8WEh//CY4/dzqOPPmxz\nBLnM2giMMWfM4/FQrdrVpKdvAKridA+tTlnieI6RXMlehnAbX7ARWAmU5ujRhZQoUcLNsI2PtREY\nY87IDz+kUaZMG9LTw4Eo39ZourGU5dxJWZoQTTe+oBLOuIH6vP32I5YEiiBLBMaY47xeLwsXLqRZ\ns/Z06HA/WVkHcGaBiaYsYbzBeN4ljTtpRH/Kk871wFbgPZKSBnDTTb3c/QDmtFjVkDEGgCVLlpGQ\nMJiMjAygPFAb514xkm78xgSWs4BSDKUl6dQHKgCrKVNmH8nJE2xQWBCyqiFjjF88Hg8DBtxB+/b3\n+kYIHwXKAuGU4WJeZx7vksrdnE0/LiWdVsCPlCjxKRMn9ufAgR8sCRRxlgiMCWFTp35KZGQsiYkp\nvi3HgAZAJbryO8u5mwrUIppufM5VOL2GPmfgwIs5fHgT/fvfaOMCioF8VQ2JSCWgnqouL7iQcj2v\nVQ0ZE2AZGRmULdsT2IEzMthRhg48wztcxQ5uoSX/ow5wDfAZkMpjjw1m9OgH3Ana5EvAqoZEJFlE\nzhKRysCPwDgReTkQQRpj3DFq1KuULdsESMdJApWAavyDfSznFSqRRTSt+B+1gXbA20Aqjz9+qyWB\nYsif0R4VVHW/iAwE3lbVESJSqCUCY0xgZGRkEBXVia1bawKRvq1RlOFXnmYlvdnFrdTmMxrhTCR3\nFHiPkiWVuXPfp0OHONdiNwXHn8q9CBGpBfwbZ5F5Y0wR4/V66datN2XLtmXr1gycksC/gCp0IYVl\nzKUKh4mmK5/RB2dK6Rk0b76GhQvHk5Gx0pJAMeZPiWA08DWwUFWXiEhjYG3BhmWMCZSUlBW0b38N\nXm89IANnojgoQzxPM4Or2cWtNOFTmgB1ga+A/SQlvU3fvr3dC9wUGtfHEYjIBJxbk52qGnOSfayx\n2JjTsGjRj3TqdB/wC866wQDxdGEpE1nJYs7hLsryB/WAb4Df6dPnWiZM+K/NE1QMBLKxOEpEZonI\nT77nMSIyPBBB+iQClwTweMaEPI/HwxVX3ESnTkNwunw6SaA0F/IyX/IeaTxAVW6iPH9wA057wVn0\n7HkdkyaNtSQQYvxpIxgHPAJkAfi6jl4bqABUdQHwR6COZ0yoS0x8n8jIFnz22TrfljDgVjqjLONV\nqnOIaNrwCdE4CeAh4APGjn2Ijz4a41rcxj3+pP0yqvqDyF9KF54CiscYc5qOHDlC06bnsmVLFd+W\nA0BNStOApxjNNezkNqrwCU2AGjgri/1GiRLVWLDAFo8PZf4kgj0icjbOBOSISG9ge4FGlYuRI0ce\nf5yQkEBCQkJhh2BM0Lr11uG89dZUoAzOn2dJoAznIiTyBUspRTSd2ct1wBvAAipUqMDnn8+gU6dO\nNjq4mEhOTiY5OTnf7ztlY7Gvl9BY4FycKpz1wI2quiHfZzv5ORoAn1ljsTH5N27cFAYPTgKW46wZ\nAKVpwpOkcS3buYOz+ZhGQFtgCvAH/fr1JzHxJddiNoXD38biU5YIVPU34EIRKQuEqeqBQAR4AvH9\nGGPyITHxPQYPfghnJtCqQA06cYgkviWFUsTQmN9pBJyD0y00kyuv7GVJwPyFPyWCx3PbrqqjAxKA\nyBQgAaiC071hhKomnrCPlQiMOcHw4c/x1FPv4owNKE0pruBJpnA927id6nxMLZzkUApYAmTx2GP3\n2xQRISRgJQLgUI7HpXD6/P98uoGdSFWvD9SxjAkFGRkZVK8ezaFDZXCa7trQic0k8jqplCSaKH6n\nPs7gsM+AdOLj4/nuu9m2epjJVb4HlIlISeBrVU0okIhyP6eVCEzI83g8tGt3GWlpq4ESgFKKejzB\nJm5gM3dQnY9ohjOJ3FpgE2FhpViwYAadOsW7GrtxR0EuTFMG51bDGFNI3nlnOpGRTUlLA9gPKB0p\nQSpLqcd+YojhI6Jx1hP4ClhLv369ycraaEnAnNIpq4ZEZAW+rqM4i5dWw5l/yBhTCEaMeInRo7/E\naQv4jVJUYjRZ3MQW7qAh0ymLMy6gAc5M8VW5+eZejB//vJthmyLEn8biBjmeenDmBCrUAWVWNWRC\n0f79+2nUKIa9e8vjJIGjdEBJwstylNupyR6OAfVwppBYAOzjyisvYcaM8W6GboLEGVcNiUhl32I0\nB3L8HAayF6kxxgSY1+tl1qxZiNSiQoUY9u6NADIoiZfnKMMM9vAYtbmG9uwBnFrakjgzxO9m8OAb\nLAmYfMuraigFp0oot2yiQOMCiciYEDV37vckJNwAZAKtgA3AEdpTniQ28xPliKExu9mPM5X07cCT\nwDYqVarJtm0bKVWqlGvxm6LL9Wmo/WFVQ6a4a948gdWrPfzZ5788JVFGcYy+/MFdNOQDFGfgWGWc\nITdrgAgeffQRnnzyEfeCN0ErkOMIshetb4rzWwqAqs47/fCMMQCZmZnUqBFLenp5YAtObW152pFJ\nEgdYxVnE0ILdx9sC6gAfAQeJimrJihWLbWyAOWP+rEcwEJiHs0rZKN+/Iws2LGOKv+HDX6Bkycak\np2/BqQYKoyTKMzTgU/Yxiiiupp4vCWS3BXwJRHD55TewenWqJQETEP6UCO4G2gGLVPU8EWkOPF2w\nYRlTfGVmZlK9eiz79tXGGRNQAVDa0ZwkvudnfiWWxuziIFAapyTw5zQRPXtewUcfjXPvA5hix58B\nZUdU9Qg4o4pV9RegWcGGZUzxNHLkK5Qs2ZB9+7KA1UApSvAITxPJZ8xjNBXpTRl2UQuIx5nw9yvg\nU7p0acKhQ+stCZiA86dEsEVEKgIzgG9F5A9gY8GGZUzx4vV66dKlB99/fxCnFOABSnAOnUniYVZT\nmhhqsYvWQBucNQMOEB5ekpkz59C1a1dbM8AUmHz1GhKRbjjl2K9UNbPAovr7ea3XkCmyFi5cQpcu\nvXDq+PcDUIJKjOQoA9jOUCozjbbAFcCjwO9AOLt376Bq1aquxW2KvjPuNSQiX+CsYjFDVQ8CqOrc\nwIVoTPGWnp5O1arRHDtWH2dswFEAzuFfJPE+q4kkhprsoi7OHEHP49xnxTJlyt2WBEyhOWmJQESu\nxFmk/kJgDjAV+LwwSwI5YrESgSkyMjMzqVWrLXv3pgO1cRb1E0pQicc5ykC2cw9VmEp5nHGZkcAs\nwENUVDQrVy4iIsKvnt3G5OmMp5hQ1U9U9TqcmaymA32ATSKSKCIXBS5UY4oPp0toQ/burYEzP9AG\nQIinHilspRX7iKUGU2kOxOAM4P8KKMG8efNYvXqpJQFT6PLbRhADTAJiVDW8wKL6+3mtRGCCWnp6\nOpUqtcLpULcYKAtACSJ4nAoM5DfupRpTKItTCogAZgJeoqM7kZY22xqDTcAFbD0CEakhIneKyEKc\nnkNf46yCbUzIO3LkCBUqRFGpUgucvv4/4SwaA21pxVL204o9xFKHKVQFGgI7gGSgFIMGDWX58mRL\nAsZVebURDAKuw7nFmQ5MU9XvCjG2nLFYicAEncGDH2bcuElAS+B7nF5BkZTgXzzGbAaznXupwmRK\nAS2AWJxuoRmUK1eV3bttkjhTsAJRIugEPAPUU9W7CioJiMilIvKLiKwRkYcK4hzGBNo//nEV48b9\ngNMddAVQDqhAHA1ZygfEsJtYajCZOkATnMFjLwLHGDZsNAcO7LQkYIKGq7OPikgYzhSKFwDbcMbQ\nX+sbvZxzPysRmKDgtAU0x+npc9C3NZJIHucxXmYIm7mXSkymCVAeWArsBcLp3v1yPvroPZsfyBSa\ngM4+WoDaA2tVdSOAiEwDrgR+yfNdxrigefPzWL16Nc6YAK9va2/iWEYSw9hABLHUZQfNcf60vgWO\nUbdua9avT7XeQCZouf2bWQfYnOP5FpzkYEzQ8Hg8VKjQgoyMejilgHCgHpGUZzhzuIX13Edl3qU9\n8C/gYWA/ERGl+f33XZx11lluhm/MKeU1sjjP5ShVdW/gwzm5kSNHHn+ckJBAQkJCYZ7ehKixYycz\nZMj9OCu17gFfw28bMkliMZsQ2tCW7VQGFuGMCYjkzTcTuf32fu4FbkJScnIyycnJ+X5fXr2G1vPn\nUpX1caZBFKAisElVG51usDnO0REYqaqX+p4/DKiqPnfCftZGYAqV0xbQGmc9pkU49f1ZRNKLR5nL\nrWzgfmryDq1wSgmLAYiJ6UhKSrJVA5mgEIiRxY1UtTHOqJfLVbWqqlbBKft+E6A4lwBNRKSBiJTA\nmdLi0wAd25h883g81KwZ5xsXUAFYiVMKGEwsTfiBD4hnO3E04x1a4owcXg5U4uab72PZsgWWBEyR\n488olo6q+kX2E1X9Ejg3ECdX1WPAHTiJZSXOWIWfA3FsY/Jr6tRPiYysz86dlYF9OB3ZIJIhjOA9\nviGVVyjJ5cSyjXo4XUK3AeWZOPE/jB//3MkPbkwQO2X3URH5GpgPvOvbdAPQVVUvKeDYcsZgVUOm\nQHk8HiIjL8GpBirr2xpBLA1IYiVbOcZg2rCN2jgTxP0BhPHAAw/x9NOjrRRggpK/VUP+JILKwAig\nK06bwTxgdGE2FlsiMAXJ6/VSvXpTfv/9AJAFRBLBCIbxErezmQepyCRaA1WAuTiLyjRk6dK3iY+P\ndjN0Y/IUsESQ44BlVfXQGUd2GiwRmIKSnPwd553XG0jHGR18JTEsI4nVbCecQZRnG62AWsB7QBZ1\n67Zg48YfbX4gE/QCNqBMRM4FxuP8ldQXkVhgiKreduZhGuOO/fv3U7FiK1Tr4/T6qUEEZ/MIydzJ\nbzxIZZKOjwt4iOxlI/fs2UnFihVdjd2YQPPnluYV4BKc9fNQ1WU41UTGFElt23anQoVmqNbCmeEk\nnGj6sphFdGIrccSRRFuc9oI7gEzefDMRj+eIJQFTLPnVwqWqm0X+Uro4VjDhGFNwPB4P1arFkJ5e\nC6dX0DEigIepyV08w0O0IJFaOKuKTQMyKV26Ovv3b7bGYFOs+VMi2OyrHlIRiRSR+wHr4mmKlEmT\nPiQysj7p6VvJni00GliEh87soS21SaQu0AtnrYAIoBbp6RstCZhiz59EcAtwO868QFuBNr7nxhQJ\nN9/8AP36/QdnyujyRKAMpyOzSOe/1OAyKrKFqjiLyz/re9c5PPXUQzZTqAkJed7qiEg4cJOq3lBI\n8RgTUDExl7BixTZgJ1CG1nQniansZhFtiWULe4HmOIvGvAlkUKlSbXbs+NKSgAkZ/owjWKKq7Qop\nnpPFYN1HTb5kZGRQtmxTnEKvEsFRHqQVQ/meR6jKBEoArYDu/LVX0A5rEDbFRiAHlL2CswrHe8Dx\ncQSq+uOZBukvSwTGXx6Ph3POuZRly1bh/LqWpBXlmMQefqckA6nAZuoDVYEFwC4ggm+++ZqLLurm\nZujGBFwgE8GcXDarqp5/usHllyUC44/ExPcZMOB+IAr4jnAq8RDKUPYwjPqM5xjQCGeE8Hc4C8zU\nZ+nSJBshbIqlgI8sdpMlApOXzMxMWrdOYO3aUjhzF0bSkgySKMUfZDKQ6mzGCzQm5wjh1q07sWzZ\nbBshbIo+M/u9AAAbNklEQVStQCxen32gGiIyQUS+9D1vKSI3ByJIY86E1+tlwIB7KFmyCWvXHgDW\nEE4ED3OAZLIYRxUuoSabCQMa4lQVfQSU4Morb2TFimRLAsbgX9XQl0Ai8KiqxopIBJCqqoVWlrYS\ngTnRwoVL6NLlaqAJzriASFqSRRKZpBPGQGLZRCZQAqc9YBHOCmNlWbDgCzp3drX/gzGFImAlAqCq\nqr6Pb7VuVfVgI4uNS7xeL3Fxl9Kly704vZ9/IZyyPEwmyfzBOOpwMbXYxEacxfSuBuYAO6lduwnH\nju20JGDMCfxJBIdEpArOFNTZy0vuK9CojMnFkiXLCA9vSlpaOvAroLQgi+84yAUc4xyiGcdhoDRO\nSWEzcA9wiGHDHmfr1uVWFWRMLvwZO38vzvKRZ4vIQqAa0LtAozImh8zMTHr37sNnn23DmS4awhHu\nB+7jD4YTxVjAaQNohjNX0PvAYerWbcKvvy6zwWHG5MGvXkO+doFmOIvXr1bVrIIO7ITzWxtBCMrM\nzOSii65i3rxVOPX8u4AwWiAk8gcHgIHUYSOHgJo4awxvB9YBEYwd+x8GDbretfiNcdsZdx8VkV55\nvVFVPzrN2PLNEkFo8Xg8XHXVAD799Huc3j47gAzCUe6jEQ8wn+E0YgyCs7B8LZwxj7MAD926XcDM\nmZ/aZHEm5AViYZrLff9Wx1msfrbv+Xk4o3HOKBGISG9gJNACaFeYI5VNcDpy5AiXXNKLefPW4gz8\nAvgNKE1zhCTSOcgyzqEpGzkGnI0zB+L/AfupWbMe69f/TKlSpVz6BMYUTSdtOVPV/qraH+dWq6Wq\nXqWqV+FM0BIZgHOvAHriLAJrQlhmZiZt215I6dIxzJuXhdMvYRtQkjCUBzjCfDaRRFUuoiYbqYEz\nSdxanHWTlHnzFrJ9+3pLAsacBn+6UNRT1e05nu8E6p/piVV1taquxWl3MCHqiSdeo2TJGFJTw3Cq\nebbj66BGM2qzkN+5lD9oRzRvEYbSAKeAugDYSmxsB44d+51//KODa5/BmKLOn0rUWSLyNTDV9/wa\nYGbBhWRCwZEjR+jY8WKWLSuN09tnG1AWOEQY9bmXrTxEMo9Tm7eIRI/PE1QHSAIOM2jQHYwd+5xr\nn8GY4uKUiUBV7xCRnvy5TvFYVf3Yn4OLyLdAjZybcG73HlXVz/IT6MiRI48/TkhIICEhIT9vN0Hk\nlluGMWbMx4AHqIzT2wegPs3YQSKpHMFLe+qxnso4PYZK4DRTHSEuri3ffTfXqoGMOUFycjLJycn5\nfl+e3Ud9C9PMVNXzTj+0UwTgzG56X16NxdZrqPgYNOhhxo9PxWkELolTCmhLGOu4h808zK+MoAr/\nRw2U2r595gMZxMefw3ffzbIxAcb4KRC9hlDVYyLiFZEKqlqQo4mtnaCY83g8DBx4N5MmfYbT3bMy\nUA84QBQrSeRHMvHSnhaspy5QF2cc4x+0bduGhQutBGBMQfGnjeAgsMJXzZNzYZq7zuTEItIDeAOn\n3P8/EUlT1cvO5JgmOE2a9CH9+o3GGRVcy7c1njB+Yyg/8wjbGEl9/ktzlEM4DcFZXHHFv/jgg8lW\nAjCmgPkz+2jf3Lar6qQCiSj3GKxqqIgaMuQRxo79Eac3UA2gM/A9URxmIql4EAYQx29UBhYDB7ni\nisuYPn2yDQgz5gwFcoWyUjgzeAGsU9UjAYgvXywRFD0ej4cePfrw+ec/4SSA/cDthDGNofzCI2xi\nFPX5Dy1QSgGrgaMkJT1D3742lZUxgRCIKSYigKeBAcBGnHr8evy5NkGhzTdkiaBoeeed6fTpMwpn\nktqawFlARZqyl0TW4OEAA+jCb06tI5DF8OH3MWLEo1YKMCaAApEIXgHKA/eo6gHftrOAF4HDqnp3\nAOPNO0hLBEWC1+vlllseZNy4FcB6oAFQkTAOcRfreZR1jKYlbzIUZTKwCqjC4cNLrCHYmAIQiF5D\n/wKicl6BVXW/iNwK/AIUWiIwwS8lZQUXXHA7+/btw5meqgFwE00Zz0TS8OKlI835lTpACtAciOSp\np/5lScAYl+WVCDS323Bfl1K7PTeA0xYwevQzPPHEPHLOPhJGZ+7iWR5lA09QlTdo5ZseYi6wgISE\nc/n660+tR5AxQSCvRLBKRPqo6ts5N4rIjTglAhPinLaAZ4FwnH7/9YEozmYlibwOKJ3owDr6AZOA\naZQuXYm9e3dZKcCYIJJXG0EdnKmmD+OU5QHOwVkHsKeqbi2UCLE2gmDj8Xjo3XsAn3yyC2eYSSmg\nCkIL7uR9HmMtT1KD12mKUgtnKgkvFSseY/bsJ4mLa+Vq/MaEikB2Hz0fZ+ppgFWqOisA8eWLJYLg\n4ZQCnsa5uDf3bVXO5giJLEBQ+tOYddTGmSBuPrCH4cPvZtSoh23NYGMKUcASQTCwROCuzMxMnnrq\nKaZN+4I1a6rizBNUH6iMUJU7WcRjrOApGvE6tfFSC8gENlKunDB79jjatYt19TMYE4osEZgz5vV6\nue22RxgzZgFwFDgGRPlercrZrGIiywhD6U9L1lERaI9TCljNwIFXMWbMy1YKMMYl/iYC+ws1uUpJ\nWUGNGv9kzJgVONNBHQC6ACB0506SWcQCZlCebrRgHVVwksACYDNJSa8wbtyrlgSMKQKsRGCO83q9\nLFmyhPHj32b8+N+ADcCFwC7fHlfSmIlMJJUIKjCAiqyhDk6PoaXAZgYPvpr//OcVGyFsTBAIyDTU\nJnQsWbKMyy67n99/Pwx4cRaFP+v460J3budpRrCJp6nEa7TAy7XAJ8DH9OhxAR988L0lAGOKICsR\nhDCv10tKSgrjx09h7NifcbqB7gNa4IwN6ABMpRFHmUgqJahAfxqwhoE4VUAfk5DQxgaGGROkrLHY\nnJTX62Xy5A948MEp7NhxCDgCxOBc/MFZM2AVwiFuI4KRzOAZavEq0b5SwGdAGiNG3MrIkfe49CmM\nMadiVUMmV6mpK/n3v59l3bq9QEOcNQA65dijFvAzjTjEBBZQimN05inW8AMwl/j4PVx++T955JF3\nrRRgTDFhJYIQ4vF4aNy4H5s3ZwKxOI3AXrJLAHAQAW5lO6NYxrO04hWuwMtPhIevY+HCiXToEOfi\nJzDG5Id1HzXHeb1e3nnnPWrUOJ/Nm5vjXPizq4E6AUuAMBqSwSySuZHVdOEiXqIXXnZQs+YhFi9+\n25KAMcWUJYJiLiVlBQ0aXEOfPm+zd29JnNrA2sBKnGkiPkS4iVtZwhLm8QUd6MJ5bC7zM4MHb2XR\non5s3fo/4uOjXf0cxpiC41rVkIg8D1yOM2T1V6C/qu4/yb5WNXQaUlJW0KXL4xw5EolTFRQB/ARU\nwFk6Ehqyngn8Qhkq0J92rAlLY8SIAQwffp8NBjOmiCsKVUPfAK1UtQ2wFnjExViKHa/Xy/XXP8WR\nI534syrobJwVR/cj7OcWfmEJP/IVjbm8YnmuHx3D0aMrePzxBywJGBNCXOs1pKozczxdBFzlVizF\nUWpqKps2tcW58NfGKQlsBR6gAS8ygZ8oxwHOC6vPA4lD2XnjNXbxNyZEBUv30QHANLeDKC68Xi+f\nf/4NR47Uw+keqoAgpDOEgTzBKl7gXF4Lz2D+92/azKDGhLgCTQQi8i1QI+cmnKvSo6r6mW+fR4Es\nVZ2S17FGjhx5/HFCQgIJCQmBDrdYSElZQY8eo9my5SiwDRgMvEB9djKB5ZxFOF3pzsF6R1j48YvW\nCGxMMZKcnExycnK+3+fqOAIR6QcMAs5X1aN57GeNxX5YsmQZnTs/TlZWKeDfOAvHvMVgjvIkU3iJ\nKuwf1J3+g/oTHx9vVUHGFHNBP7JYRC4FHgC65pUEjH9SUlbwj38MJSvrMpyCl1CfcoznZyqynQQm\n8mtJLwuHNCU+Pt7tcI0xQcTNW8I3gHLAtyLyo4j818VYijSPx0PPno9x9Gh2EmjIYN4khXhmcwGd\nWMYqetOgwUzi4mxQmDHmr2yKiSIuNXUlPXo8yKZN5wLNqMf/GM9sKnEW/YllJb0ApVSpySxYMNra\nBIwJIUFfNWROj9frJTU1Fa/Xi8fj4Zpr3mTz5nJAUwbyX54mjVdowPO04hjdgZ+pV28pH3/8hCUB\nY0yurERQhKSkrOD6619j/frWZGXNxRmU3ZV6VGA8z1CZ8vSjDSvpAawjPPxDJk68nxttjIAxIako\njCw2fsqeNO7ccx9jzZq3yMr6FWd5yJEMZCkpPMxcetCJBF8SWA/MJzHxQfr0uc6SgDEmT1YiCHKp\nqSvp3/8tli37DWfcXUNgNvU4i3FMpwpp9ONCVvJu9jsALzExk0hNfd2SgDEhzEoExYDX62XAgDEs\nW9YHSCB7PN7NLCaFB5lPVzrxDSuJAPoBHyCymqiosSQl3WpJwBjjFysRBLElS5bQtesGjhxpDKyn\nLp8zjm1UI5X+XMAKJuPkci+whHr1hvPBB0/Srl07SwLGGFuzuKjJ2RsIYM2aDYwa9SFr114FXMUA\nLuZZUnmNZjzH1XiYD5QFLkfkGE2bzmHatKHExbVy82MYY4KIJYIgl33hd5Rg4MBx/PxzEzIzl6J6\nCSJfozqROgxmHNuowSb60YYV9ADW0qRJGo891ouwsGM0a9bMpowwxvyNJYIglpq6kgEDxrBmTQKq\nXmAKhw+/D9wLvIrT4LuB/uzjOe7nDaJ4hnvw4KVevWk888wNXHddb7vwG2PyZIkgSHm9XuLjh5KW\n9ipO/X4KsAGnN9BGoBd1+IKxDKcWSj+SWE40kEqpUrOYN+882rVr51r8xpiiw3oNBanU1FTWrEng\nr1999v+T0o9EUunLIkrQnkUsJ9a3bxzNm2+xCeOMMQFnU0y4Lg6YRG3uYyxXUZtKXMhMlhMB3I9I\nJ0qXLkHTpnOZOPEWqw4yxgScXVUKWVxcHFFRyThdPgGEvlQnlSh+DG9OR1qyQlZSqtQqYmKUd96J\nYN68Rvz442vWI8gYUyCsjcAF2Y3FB35pzZuZY2hUYhPHJvyXw80aH+8+GhYWRlxcnJUAjDGnzRqL\ng5kq3qQkjt13H7t796bm668TVqqU21EZY4oZm4Y6WG3bBoMHE7Z5M2GzZlHbFooxxrjM6h0Kiyq8\n/Ta0aQPx8bBkCVgSMMYEASsRFIZt22DIENi4Eb7+2hKAMSaouFYiEJHRIrJMRNJEZKaI1HUrlgKj\nCu+8A23aoG3a8OPYsaR4vccbhI0xJhi41lgsIuVU9aDv8Z1ArKoOPMm+Ra+xePt2pxSwYQO/PPwY\n170w3zeQDKKikpk4cYh1BzXGFKigH1mcnQR8ygJ73IoloLJLAbGxEBuL94cfuO6F+aSlvUpGRi8y\nMnqRlvYqAwaMsZKBMSYouNpGICJPAn2ADKCDm7EExPbtcMst8Ntv8OWXEB9PakpKLlNKhLFmTTdS\nU1NtyghjjOsKtEQgIt+KyPIcPyt8/14OoKrDVbU+kIgz7WbRpAqTJzs9gqKjYelSp2eQMcYUAQVa\nIlDVi/zcdQrwRV47jBw58vjjhIQEEhISTjuugNqxw2kL+PVX+PxzOOecv7zsTCkxibS0HvyZd71E\nRc0lLq5noYdrjCm+kpOTSU5Ozvf73GwsbqKq63yP7wTaq+pNJ9k3+BqLVWHKFLj3Xhg4EB5/HEqW\nzHXXP9cf6AZA06bJJCbeYo3FxpgCFfRTTIjIh0AUcAz4DbhVVXedZN/gSgQ7dsCtt8LatZCU9LdS\nQG5yrkhmcwiZ4mDp0qUcOnSIxYsX8+CDD7odjslF0E8xoaq93Tr3aVOFqVPhnnvg5pth2rSTlgJO\nFBYWZg3Dpkh65plnmDhxIg8//DAHDhxg9erVvPzyy6SkpNCvXz8+//xzDh06RNmyZfN97CeeeILY\n2Fh++uknhg0b9rfXvV4vzz77LI0aNeLgwYMMGjTI723+HN847LbUXzt3Qq9e8NRT8L//wdNP+50E\njCnK2rVrR69evbj55psZOnQoO3bsYObMmQwZMoTIyEiOHTt2Wklg1qxZAFxxxRVkZWWxYMGCv+0z\ndepU6tevz3XXXce6devYtGmTX9s2b97s1/GNwxKBP44cgQ4doHlzSEkBWyrShJDFixcf75yxa9cu\n9u7dS+fOnQF47733GDZsGFlZWfk+7sKFC4nzTbcSFxfH7Nmzc92nbl1n0oEGDRowf/58v7bNmzfP\nr+Mbh8015I9SpZwuoVWruh2JMYVu6dKltGzZkv/7v/9j06ZNfPXVV5QuXZpJkyYxf/585syZw1tv\nvZXv4+7atet4SaJcuXLs2LHjb/uUL18ej8cDgKqydetWv7ft3r37lMc3DksE/rIkYELU3r176dnT\n6ercrVs3SvqqRPv27Uvfvn3/tv+qVav49ttvEfl7G2Xfvn2pUKEC4NT/h4eHA3Ds2LHjj3O68cYb\nmT9/PhdeeCHLly8nKirK723+HN84LBEYY05q06ZN1KxZ8y/Pjx49SunSpU/6npYtW9KyZctTHrtG\njRocOnQIgP3791OtWrW/7RMdHc3vv//Ol19+SZ06dWjduvUpt9WtW5fWrVtz6NChUx7fOCwRBJh1\nEzXFyeLFi4mNjQUgMzOT7du3U7p0aXbt2kX16tVzfU92ieBEIkKfPn2oWLEiAF26dGHp0qVcdtll\n/PDDD1xwwQUAbNy4kQYNGgDwzTffsGXLFgYMGMBXX33FBRdc4Pe2iIiIXI9v/s6WqvSDvxf3PweO\nJQA2y6gp2ubNm8eoUaOoW7cuL774ItWqVePqq6/m3//+Ny1atKB169ZndHxV5YEHHqBjx44sXbqU\nZ599lvT0dLp3787ChQsBWL9+PZ9++iklS5YkOjqazp07+70tt+OHmqAfUJYfbiYCfy/uXq+X+Pih\npKW9Ss6pJNq0GUpKyqtWMjDGFDpLBAGQn4t7SkoKXbtuJCOj11+OUabMdObNa2iDyYwxhS7o1yMo\nClJTU/OcQtoYY4oDSwQB4swymgzkXGwme5ZRW6PYGBO8LBHkIT8X97CwMCZOHEKbNkMpU2Y6ZcpM\nJzb2biZOHGLtA8aYoGZtBKeQ3ymkrfuoMSZYWGNxANnF3RhTFFkiMMaYEGe9howxxvjFEoExxoQ4\nSwTGGBPiLBEYY0yIcz0RiMh9IuIVkcpux2KMMaHI1UQgInWBi4CNbsYRKMnJyW6H4BeLM3CKQoxg\ncQZaUYnTX26XCF4BHnA5hoApKr8cFmfgFIUYweIMtKISp79cSwQicgWwWVVXuBWDMcaYAl6hTES+\nBWrk3AQoMBwYhlMtlPM1Y4wxhcyVkcUi0hqYCWTgJIC6wFagvaruymV/G1ZsjDGnochMMSEi64G2\nqvqH27EYY0yocbuxOJtiVUPGGOOKoCgRGGOMcU+wlAj8FuwD0ERktIgsE5E0EZnpGysRVETkeRH5\n2RfjdBE5y+2YciMivUXkJxE5JiJt3Y7nRCJyqYj8IiJrROQht+PJjYhMEJGdIrLc7VjyIiJ1RWS2\niKwUkRUicpfbMZ1IREqKyGIRSfXF+bTbMeVFRMJE5EcR+fRU+xapRFBEBqA9r6qxqtoG+AQY6XI8\nufkGaOWLcS3wiMvxnMwKoCcw1+1ATiQiYcCbwCVAK+A6EWnublS5SsSJMdh5gHtVtRXQCbg92L5P\nVT0KnKeqcUAMcL6IdHY5rLzcDazyZ8cilQgoAgPQVPVgjqdlgT1uxXIyqjpTVbPX31yE02sr6Kjq\nalVdS3C2H7UH1qrqRlXNAqYBV7oc09+o6gIg6DthqOoOVU3zPT4I/AzUcTeqv1PVDN/DkjjXz6D8\nbn03zf8Exvuzf5FJBEVpAJqIPCkim4B+wDMuh3MqA4Av3Q6iCKoDbM7xfAtBeOEqikSkIdAGWOxu\nJH/nq25JBXYAyarq1x23C7Jvmv1qBC7QAWX5VVQGoOUR56Oq+pmqDgeG++qNXwX6B1uMvn0eBbJU\ndUphx3c8KD/iNKFDRMoBHwJ3n1C6Dgq+knScr13tGxHppqpBVXUpIt2BnaqaJiIJ+HGtDKpEoKoX\n5bbdNwCtIbBMRLIHoKWISK4D0ArayeLMxRTgi4KM5WROFaOI9MMpOp5fKAGdRD6+y2CzFaif43n2\noEhzmkQkAicJvKOqn7gdT15Udb+IfA6cQ/C1YXUGrhCRfwKlgfIi8raq9jnZG4pE1ZCq/qSqNVW1\nsao2wimGx7mRBE5FRJrkeNoDSHMrlpMRkUtxio1X+BrAioJgaydYAjQRkQYiUgK4Fjhl7wyXCMH3\n/eVmIrBKVV9zO5DciEhVEange1wap4Yi6P6+VXWYqtZX1cY4v5ez80oCUEQSQS6CeQDasyKy3FeP\nmADc53I8uXkDKAd86+te9l+3A8qNiPQQkc1AR+B/IhI0bRmqegy4A6cH1kpgmqr+7G5UfyciU4Dv\ngCgR2SQihV5N6Q9f75sbcHripPp+Ly91O64T1ALm+P62FwGfquosl2MKCBtQZowxIa6olgiMMcYE\niCUCY4wJcZYIjDEmxFkiMMaYEGeJwBhjQpwlAmOMCXGWCExIEJE6IjLDN2X0WhF5xTeSNZDn6CYi\nnXI8HyIiN/oeJ4pIr0Cez5hAsURgQsVHwEeqGgVEAeWBQM8nnwCcm/1EVceo6rsBPocxAWeJwBR7\nInI+cFhV3wZQZxTlPcAAEblVRN7Ise9nItLV9/i/IvKDb6GUETn2WS8iI0UkxbcIUZSINABuAYb6\nRsV2FpERInJvLvG0FZFkEVkiIl+KSA3f9rt8C56k+UYEG1MogmrSOWMKSCsgJecGVT3gmyo8jJNP\n1TtMVdN9i9DMEpHpqvqT77VdqhovIrcC96vqYBF5Czigqi8DiMiFJx7QVx31Bs48T7+LyL9xSiY3\nAw8BDVU1K1hXjTPFkyUCE+oi83jtWhEZhPN3UhNoCWQngo99/6bgrKLmr2ZAa5x5ngQnEW3zvbYM\nmCIiM4AZ+TimMWfEEoEJBauA3jk3+O646wG7gZwzxpbyvd4QZ8LAeN+Uw4nZr/lkz9p6jPz9HQnw\nk6rmtsRhd6ArcAXwqIi0zrGSnDEFxtoITLHnmyGydI4ePOHAi8BkYAPOQiMiIvVwlqAEOAs4CBzw\n1eFf5sepDvjel5fVQDUR6eiLJUJEWvpeq+9b5ORh33HK+fkRjTkjViIwoaIn8F8ReRyoBnwN3O6r\nj1+PM5X0z/jaElR1uYik+bZtBhbkONbJ2hQ+Az70Lat65wn7qe+4WSLSG3jDN7d9OPCqiKwB3vWV\nVAR4TVX3B+KDG3MqNg21CTm+u/FxwL+DcQ0BYwqbJQJjjAlx1kZgjDEhzhKBMcaEOEsExhgT4iwR\nGGNMiLNEYIwxIc4SgTHGhDhLBMYYE+L+H0JQx19/6wgEAAAAAElFTkSuQmCC\n",
      "text/plain": [
       "<matplotlib.figure.Figure at 0x138b84550>"
      ]
     },
     "metadata": {},
     "output_type": "display_data"
    }
   ],
   "source": [
    "stats.probplot((mom - np.mean(mom)) / np.std(mom, ddof=1), plot = plt)\n",
    "plt.show()"
=======
      "text/html": [
       "<div>\n",
       "<table border=\"1\" class=\"dataframe\">\n",
       "  <thead>\n",
       "    <tr style=\"text-align: right;\">\n",
       "      <th></th>\n",
       "      <th>ethnicity</th>\n",
       "      <th>date</th>\n",
       "      <th>filename</th>\n",
       "      <th>sex</th>\n",
       "    </tr>\n",
       "  </thead>\n",
       "  <tbody>\n",
       "    <tr>\n",
       "      <th>0</th>\n",
       "      <td>CEU</td>\n",
       "      <td>2003-02-04</td>\n",
       "      <td>GSM25349.CEL.gz</td>\n",
       "      <td>M</td>\n",
       "    </tr>\n",
       "    <tr>\n",
       "      <th>1</th>\n",
       "      <td>CEU</td>\n",
       "      <td>2003-02-04</td>\n",
       "      <td>GSM25350.CEL.gz</td>\n",
       "      <td>M</td>\n",
       "    </tr>\n",
       "    <tr>\n",
       "      <th>2</th>\n",
       "      <td>CEU</td>\n",
       "      <td>2002-12-17</td>\n",
       "      <td>GSM25356.CEL.gz</td>\n",
       "      <td>M</td>\n",
       "    </tr>\n",
       "    <tr>\n",
       "      <th>3</th>\n",
       "      <td>CEU</td>\n",
       "      <td>2003-01-30</td>\n",
       "      <td>GSM25357.CEL.gz</td>\n",
       "      <td>M</td>\n",
       "    </tr>\n",
       "    <tr>\n",
       "      <th>4</th>\n",
       "      <td>CEU</td>\n",
       "      <td>2003-01-03</td>\n",
       "      <td>GSM25358.CEL.gz</td>\n",
       "      <td>M</td>\n",
       "    </tr>\n",
       "  </tbody>\n",
       "</table>\n",
       "</div>"
      ],
      "text/plain": [
       "  ethnicity        date         filename sex\n",
       "0       CEU  2003-02-04  GSM25349.CEL.gz   M\n",
       "1       CEU  2003-02-04  GSM25350.CEL.gz   M\n",
       "2       CEU  2002-12-17  GSM25356.CEL.gz   M\n",
       "3       CEU  2003-01-30  GSM25357.CEL.gz   M\n",
       "4       CEU  2003-01-03  GSM25358.CEL.gz   M"
      ]
     },
     "execution_count": 13,
     "metadata": {},
     "output_type": "execute_result"
    }
   ],
   "source": [
    "pd_sample_info.head()"
>>>>>>> 78f754b2a7dcc64bee2906766889a9cea64d03b3
   ]
  },
  {
   "cell_type": "markdown",
   "metadata": {},
   "source": [
<<<<<<< HEAD
    "Answer: "
=======
    "#### Problem 1(b)\n",
    "\n",
    "Extract the year and month as integers from the `sampleinfo` table. \n",
    "\n",
    "**Hint**: To convert a Series or a column of a pandas DataFrame that contains a date-like object, you can use the `to_datetime` function [[read here](http://pandas.pydata.org/pandas-docs/stable/timeseries.html)].  This will create a `DatetimeIndex` which can be used to extract the month and year for each row in the DataFrame. "
>>>>>>> 78f754b2a7dcc64bee2906766889a9cea64d03b3
   ]
  },
  {
   "cell_type": "markdown",
   "metadata": {},
   "source": [
<<<<<<< HEAD
    "Is the SE of the average of polls larger, the same, or smaller than that the SD of a single poll (calculated in Problem 2(b))? By how much?\n",
    "\n",
    "**Hint**: Compute a ratio of the two quantities.  "
=======
    "#### Problem 1(c)\n",
    "\n",
    "Convert the dates in the `date` column from the `sampleinfo` table into days since October 31, 2002. Add a column to the `sampleinfo` DataFrame titled `elapsedInDays` containing the days since October 31, 2002.  Show the head of the `sampleinfo` DataFrame which includes the new column.  \n",
    "\n",
    "**Hint**: Use the `datetime` module to create a new `datetime` object for the specific date October 31, 2002. Then, subtract the October 31, 2002 date from each date from the `date` column in the `sampleinfo` DataFrame. "
>>>>>>> 78f754b2a7dcc64bee2906766889a9cea64d03b3
   ]
  },
  {
   "cell_type": "code",
<<<<<<< HEAD
   "execution_count": 170,
   "metadata": {
    "collapsed": false
   },
   "outputs": [
    {
     "name": "stdout",
     "output_type": "stream",
     "text": [
      "0.0144052028895 0.00340315122536\n",
      "4.23290119526\n"
     ]
    }
   ],
   "source": [
    "two_b_se = np.std(obs, ddof=1)\n",
    "two_c_se = np.std(mom, ddof=1)\n",
    "\n",
    "print two_b_se, two_c_se\n",
    "print two_b_se/two_c_se"
   ]
  },
  {
   "cell_type": "markdown",
   "metadata": {},
   "source": [
    "Answer: it's about 4 times smaller in 2c, with B=1000 simulations"
   ]
  },
  {
   "cell_type": "markdown",
   "metadata": {},
   "source": [
    "#### Problem 2(d) \n",
    "\n",
    "Repeat Problem 2(c) but now record the *across poll* standard deviation in each simulation. "
=======
   "execution_count": 14,
   "metadata": {
    "collapsed": false
   },
   "outputs": [],
   "source": [
    "pd_sample_info['date'] = pd.to_datetime(pd_sample_info.date)"
>>>>>>> 78f754b2a7dcc64bee2906766889a9cea64d03b3
   ]
  },
  {
   "cell_type": "code",
<<<<<<< HEAD
   "execution_count": 183,
=======
   "execution_count": 15,
>>>>>>> 78f754b2a7dcc64bee2906766889a9cea64d03b3
   "metadata": {
    "collapsed": false
   },
   "outputs": [],
   "source": [
<<<<<<< HEAD
    "obs_sd = [np.std(np.random.binomial(N, p, M)/float(N), ddof=0) for x in xrange(B)]"
   ]
  },
  {
   "cell_type": "markdown",
   "metadata": {},
   "source": [
    "What is the distribution of the *across M polls* standard deviation?\n",
    "\n",
    "**Hint**: Show a plot. "
=======
    "pd_sample_info['month'] = [x.month for x in pd_sample_info.date]"
   ]
  },
  {
   "cell_type": "code",
   "execution_count": 16,
   "metadata": {
    "collapsed": true
   },
   "outputs": [],
   "source": [
    "# map(function, iterable) - applies the function to each of the elements of the iterable\n",
    "pd_sample_info['year'] = list(map(lambda x: x.year, pd_sample_info.date))"
>>>>>>> 78f754b2a7dcc64bee2906766889a9cea64d03b3
   ]
  },
  {
   "cell_type": "code",
<<<<<<< HEAD
   "execution_count": 184,
=======
   "execution_count": 17,
>>>>>>> 78f754b2a7dcc64bee2906766889a9cea64d03b3
   "metadata": {
    "collapsed": false
   },
   "outputs": [
    {
     "data": {
      "text/plain": [
<<<<<<< HEAD
       "(array([   8.,   29.,  103.,  211.,  240.,  198.,  121.,   58.,   28.,    4.]),\n",
       " array([ 0.00671169,  0.00821266,  0.00971364,  0.01121462,  0.01271559,\n",
       "         0.01421657,  0.01571754,  0.01721852,  0.0187195 ,  0.02022047,\n",
       "         0.02172145]),\n",
       " <a list of 10 Patch objects>)"
      ]
     },
     "execution_count": 184,
     "metadata": {},
     "output_type": "execute_result"
    },
    {
     "data": {
      "image/png": "iVBORw0KGgoAAAANSUhEUgAAAYIAAAEACAYAAAC+gnFaAAAABHNCSVQICAgIfAhkiAAAAAlwSFlz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\n6JEAAAAASUVORK5CYII=\n",
      "text/plain": [
       "<matplotlib.figure.Figure at 0x1475b20d0>"
      ]
     },
     "metadata": {},
     "output_type": "display_data"
    }
   ],
   "source": [
    "plt.hist(obs_sd)"
   ]
  },
  {
   "cell_type": "markdown",
   "metadata": {},
   "source": [
    "Answer: "
=======
       "datetime.datetime(2002, 10, 31, 0, 0)"
      ]
     },
     "execution_count": 17,
     "metadata": {},
     "output_type": "execute_result"
    }
   ],
   "source": [
    "oct31_2012 = dt.datetime(2002, 10, 31)\n",
    "oct31_2012"
   ]
  },
  {
   "cell_type": "code",
   "execution_count": 18,
   "metadata": {
    "collapsed": false
   },
   "outputs": [],
   "source": [
    "pd_sample_info['elapsedInDays'] = [x - oct31_2012 for x in pd_sample_info.date]"
>>>>>>> 78f754b2a7dcc64bee2906766889a9cea64d03b3
   ]
  },
  {
   "cell_type": "code",
<<<<<<< HEAD
   "execution_count": 185,
=======
   "execution_count": 19,
>>>>>>> 78f754b2a7dcc64bee2906766889a9cea64d03b3
   "metadata": {
    "collapsed": false
   },
   "outputs": [
    {
     "data": {
<<<<<<< HEAD
      "image/png": "iVBORw0KGgoAAAANSUhEUgAAAYIAAAEZCAYAAACaWyIJAAAABHNCSVQICAgIfAhkiAAAAAlwSFlz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\nCGeJwBhjIpwlAmOMiXD/DwyQYHYKA1WTAAAAAElFTkSuQmCC\n",
      "text/plain": [
       "<matplotlib.figure.Figure at 0x14775e810>"
      ]
     },
     "metadata": {},
     "output_type": "display_data"
    }
   ],
   "source": [
    "stats.probplot((obs_sd - np.mean(obs_sd)) / np.std(obs_sd, ddof=1), dist=\"norm\", plot = plt)\n",
    "plt.show()"
=======
      "text/html": [
       "<div>\n",
       "<table border=\"1\" class=\"dataframe\">\n",
       "  <thead>\n",
       "    <tr style=\"text-align: right;\">\n",
       "      <th></th>\n",
       "      <th>ethnicity</th>\n",
       "      <th>date</th>\n",
       "      <th>filename</th>\n",
       "      <th>sex</th>\n",
       "      <th>month</th>\n",
       "      <th>year</th>\n",
       "      <th>elapsedInDays</th>\n",
       "    </tr>\n",
       "  </thead>\n",
       "  <tbody>\n",
       "    <tr>\n",
       "      <th>0</th>\n",
       "      <td>CEU</td>\n",
       "      <td>2003-02-04</td>\n",
       "      <td>GSM25349.CEL.gz</td>\n",
       "      <td>M</td>\n",
       "      <td>2</td>\n",
       "      <td>2003</td>\n",
       "      <td>96 days</td>\n",
       "    </tr>\n",
       "    <tr>\n",
       "      <th>1</th>\n",
       "      <td>CEU</td>\n",
       "      <td>2003-02-04</td>\n",
       "      <td>GSM25350.CEL.gz</td>\n",
       "      <td>M</td>\n",
       "      <td>2</td>\n",
       "      <td>2003</td>\n",
       "      <td>96 days</td>\n",
       "    </tr>\n",
       "    <tr>\n",
       "      <th>2</th>\n",
       "      <td>CEU</td>\n",
       "      <td>2002-12-17</td>\n",
       "      <td>GSM25356.CEL.gz</td>\n",
       "      <td>M</td>\n",
       "      <td>12</td>\n",
       "      <td>2002</td>\n",
       "      <td>47 days</td>\n",
       "    </tr>\n",
       "    <tr>\n",
       "      <th>3</th>\n",
       "      <td>CEU</td>\n",
       "      <td>2003-01-30</td>\n",
       "      <td>GSM25357.CEL.gz</td>\n",
       "      <td>M</td>\n",
       "      <td>1</td>\n",
       "      <td>2003</td>\n",
       "      <td>91 days</td>\n",
       "    </tr>\n",
       "    <tr>\n",
       "      <th>4</th>\n",
       "      <td>CEU</td>\n",
       "      <td>2003-01-03</td>\n",
       "      <td>GSM25358.CEL.gz</td>\n",
       "      <td>M</td>\n",
       "      <td>1</td>\n",
       "      <td>2003</td>\n",
       "      <td>64 days</td>\n",
       "    </tr>\n",
       "  </tbody>\n",
       "</table>\n",
       "</div>"
      ],
      "text/plain": [
       "  ethnicity       date         filename sex  month  year  elapsedInDays\n",
       "0       CEU 2003-02-04  GSM25349.CEL.gz   M      2  2003        96 days\n",
       "1       CEU 2003-02-04  GSM25350.CEL.gz   M      2  2003        96 days\n",
       "2       CEU 2002-12-17  GSM25356.CEL.gz   M     12  2002        47 days\n",
       "3       CEU 2003-01-30  GSM25357.CEL.gz   M      1  2003        91 days\n",
       "4       CEU 2003-01-03  GSM25358.CEL.gz   M      1  2003        64 days"
      ]
     },
     "execution_count": 19,
     "metadata": {},
     "output_type": "execute_result"
    }
   ],
   "source": [
    "pd_sample_info.head()"
>>>>>>> 78f754b2a7dcc64bee2906766889a9cea64d03b3
   ]
  },
  {
   "cell_type": "markdown",
   "metadata": {},
   "source": [
<<<<<<< HEAD
    "#### Problem 2(e) \n",
    "\n",
    "What is the standard deviation of M polls in our real (not simulated) 2012 presidential election data ? "
   ]
  },
  {
   "cell_type": "code",
   "execution_count": 197,
   "metadata": {
    "collapsed": false
   },
   "outputs": [],
   "source": [
    "poll_sd = np.std(filtered.Obama/100, ddof=1)"
   ]
  },
  {
   "cell_type": "markdown",
   "metadata": {},
   "source": [
    "Is this larger, the same, or smaller than what we expeced if polls were not biased."
=======
    "#### Problem 1(d)\n",
    "\n",
    "Use exploratory analysis and the singular value decomposition (SVD) of the gene expression data matrix to determine if the date the samples were processed has large effect on the variability seen in the data or if it is just ethnicity (which is confounded with date). \n",
    "\n",
    "**Hint**: See the end of the [lecture from 9/23/2014 for help with SVD](http://nbviewer.ipython.org/github/cs109/2014/blob/master/lectures/lecture07/data_scraping_transcript.ipynb). \n",
    "\n",
    "First subset the the `sampleinfo` DataFrame to include only the CEU ethnicity.  Call this new subsetted DataFrame `sampleinfoCEU`.  Show the head of `sampleinfoCEU` DataFrame. "
>>>>>>> 78f754b2a7dcc64bee2906766889a9cea64d03b3
   ]
  },
  {
   "cell_type": "code",
<<<<<<< HEAD
   "execution_count": 198,
   "metadata": {
    "collapsed": false
=======
   "execution_count": 24,
   "metadata": {
    "collapsed": false,
    "scrolled": true
>>>>>>> 78f754b2a7dcc64bee2906766889a9cea64d03b3
   },
   "outputs": [
    {
     "data": {
<<<<<<< HEAD
      "text/plain": [
       "0.80737165856637605"
      ]
     },
     "execution_count": 198,
=======
      "text/html": [
       "<div>\n",
       "<table border=\"1\" class=\"dataframe\">\n",
       "  <thead>\n",
       "    <tr style=\"text-align: right;\">\n",
       "      <th></th>\n",
       "      <th>ethnicity</th>\n",
       "      <th>date</th>\n",
       "      <th>filename</th>\n",
       "      <th>sex</th>\n",
       "      <th>month</th>\n",
       "      <th>year</th>\n",
       "      <th>elapsedInDays</th>\n",
       "    </tr>\n",
       "  </thead>\n",
       "  <tbody>\n",
       "    <tr>\n",
       "      <th>0</th>\n",
       "      <td>CEU</td>\n",
       "      <td>2003-02-04</td>\n",
       "      <td>GSM25349.CEL.gz</td>\n",
       "      <td>M</td>\n",
       "      <td>2</td>\n",
       "      <td>2003</td>\n",
       "      <td>96 days</td>\n",
       "    </tr>\n",
       "    <tr>\n",
       "      <th>1</th>\n",
       "      <td>CEU</td>\n",
       "      <td>2003-02-04</td>\n",
       "      <td>GSM25350.CEL.gz</td>\n",
       "      <td>M</td>\n",
       "      <td>2</td>\n",
       "      <td>2003</td>\n",
       "      <td>96 days</td>\n",
       "    </tr>\n",
       "    <tr>\n",
       "      <th>2</th>\n",
       "      <td>CEU</td>\n",
       "      <td>2002-12-17</td>\n",
       "      <td>GSM25356.CEL.gz</td>\n",
       "      <td>M</td>\n",
       "      <td>12</td>\n",
       "      <td>2002</td>\n",
       "      <td>47 days</td>\n",
       "    </tr>\n",
       "    <tr>\n",
       "      <th>3</th>\n",
       "      <td>CEU</td>\n",
       "      <td>2003-01-30</td>\n",
       "      <td>GSM25357.CEL.gz</td>\n",
       "      <td>M</td>\n",
       "      <td>1</td>\n",
       "      <td>2003</td>\n",
       "      <td>91 days</td>\n",
       "    </tr>\n",
       "    <tr>\n",
       "      <th>4</th>\n",
       "      <td>CEU</td>\n",
       "      <td>2003-01-03</td>\n",
       "      <td>GSM25358.CEL.gz</td>\n",
       "      <td>M</td>\n",
       "      <td>1</td>\n",
       "      <td>2003</td>\n",
       "      <td>64 days</td>\n",
       "    </tr>\n",
       "  </tbody>\n",
       "</table>\n",
       "</div>"
      ],
      "text/plain": [
       "  ethnicity       date         filename sex  month  year  elapsedInDays\n",
       "0       CEU 2003-02-04  GSM25349.CEL.gz   M      2  2003        96 days\n",
       "1       CEU 2003-02-04  GSM25350.CEL.gz   M      2  2003        96 days\n",
       "2       CEU 2002-12-17  GSM25356.CEL.gz   M     12  2002        47 days\n",
       "3       CEU 2003-01-30  GSM25357.CEL.gz   M      1  2003        91 days\n",
       "4       CEU 2003-01-03  GSM25358.CEL.gz   M      1  2003        64 days"
      ]
     },
     "execution_count": 24,
>>>>>>> 78f754b2a7dcc64bee2906766889a9cea64d03b3
     "metadata": {},
     "output_type": "execute_result"
    }
   ],
   "source": [
<<<<<<< HEAD
    "poll_sd / np.mean(obs_sd)"
=======
    "sampleinfoCEU = pd_sample_info[pd_sample_info.ethnicity == 'CEU']\n",
    "sampleinfoCEU.head()"
   ]
  },
  {
   "cell_type": "markdown",
   "metadata": {},
   "source": [
    "Next, subset the `exprs` DataFrame to only include the samples with the CEU ethnicity. Name this new subsetted DataFrame `exprsCEU`. Show the head of the `exprsCEU` DataFrame. "
>>>>>>> 78f754b2a7dcc64bee2906766889a9cea64d03b3
   ]
  },
  {
   "cell_type": "code",
<<<<<<< HEAD
   "execution_count": 199,
=======
   "execution_count": 25,
>>>>>>> 78f754b2a7dcc64bee2906766889a9cea64d03b3
   "metadata": {
    "collapsed": false
   },
   "outputs": [
    {
     "data": {
<<<<<<< HEAD
      "text/plain": [
       "0.128"
      ]
     },
     "execution_count": 199,
=======
      "text/html": [
       "<div>\n",
       "<table border=\"1\" class=\"dataframe\">\n",
       "  <thead>\n",
       "    <tr style=\"text-align: right;\">\n",
       "      <th></th>\n",
       "      <th>GSM25349.CEL.gz</th>\n",
       "      <th>GSM25350.CEL.gz</th>\n",
       "      <th>GSM25356.CEL.gz</th>\n",
       "      <th>GSM25357.CEL.gz</th>\n",
       "      <th>GSM25358.CEL.gz</th>\n",
       "      <th>GSM25359.CEL.gz</th>\n",
       "      <th>GSM25360.CEL.gz</th>\n",
       "      <th>GSM25361.CEL.gz</th>\n",
       "      <th>GSM25377.CEL.gz</th>\n",
       "      <th>GSM25378.CEL.gz</th>\n",
       "      <th>...</th>\n",
       "      <th>GSM48658.CEL.gz</th>\n",
       "      <th>GSM48660.CEL.gz</th>\n",
       "      <th>GSM48661.CEL.gz</th>\n",
       "      <th>GSM48662.CEL.gz</th>\n",
       "      <th>GSM48663.CEL.gz</th>\n",
       "      <th>GSM48664.CEL.gz</th>\n",
       "      <th>GSM48665.CEL.gz</th>\n",
       "      <th>GSM136725.CEL.gz</th>\n",
       "      <th>GSM136726.CEL.gz</th>\n",
       "      <th>GSM136727.CEL.gz</th>\n",
       "    </tr>\n",
       "  </thead>\n",
       "  <tbody>\n",
       "    <tr>\n",
       "      <th>1007_s_at</th>\n",
       "      <td>6.627014</td>\n",
       "      <td>6.249807</td>\n",
       "      <td>5.934128</td>\n",
       "      <td>6.145268</td>\n",
       "      <td>6.091270</td>\n",
       "      <td>6.041186</td>\n",
       "      <td>6.050375</td>\n",
       "      <td>6.063847</td>\n",
       "      <td>6.226106</td>\n",
       "      <td>6.358282</td>\n",
       "      <td>...</td>\n",
       "      <td>6.501510</td>\n",
       "      <td>6.558100</td>\n",
       "      <td>6.618286</td>\n",
       "      <td>6.869995</td>\n",
       "      <td>5.981000</td>\n",
       "      <td>6.403285</td>\n",
       "      <td>6.248702</td>\n",
       "      <td>6.488579</td>\n",
       "      <td>6.809481</td>\n",
       "      <td>6.133068</td>\n",
       "    </tr>\n",
       "    <tr>\n",
       "      <th>1053_at</th>\n",
       "      <td>6.939184</td>\n",
       "      <td>6.818038</td>\n",
       "      <td>7.047962</td>\n",
       "      <td>7.422477</td>\n",
       "      <td>7.272361</td>\n",
       "      <td>7.128216</td>\n",
       "      <td>6.750719</td>\n",
       "      <td>6.836287</td>\n",
       "      <td>6.738022</td>\n",
       "      <td>7.367895</td>\n",
       "      <td>...</td>\n",
       "      <td>7.066686</td>\n",
       "      <td>7.386702</td>\n",
       "      <td>6.407958</td>\n",
       "      <td>7.089180</td>\n",
       "      <td>7.120923</td>\n",
       "      <td>7.018998</td>\n",
       "      <td>7.155419</td>\n",
       "      <td>7.517410</td>\n",
       "      <td>7.200596</td>\n",
       "      <td>7.280781</td>\n",
       "    </tr>\n",
       "    <tr>\n",
       "      <th>117_at</th>\n",
       "      <td>5.113570</td>\n",
       "      <td>5.074096</td>\n",
       "      <td>5.371201</td>\n",
       "      <td>5.266550</td>\n",
       "      <td>5.342047</td>\n",
       "      <td>5.063876</td>\n",
       "      <td>5.315898</td>\n",
       "      <td>5.483652</td>\n",
       "      <td>6.689444</td>\n",
       "      <td>6.482782</td>\n",
       "      <td>...</td>\n",
       "      <td>5.600514</td>\n",
       "      <td>5.232676</td>\n",
       "      <td>5.630720</td>\n",
       "      <td>4.944748</td>\n",
       "      <td>5.275577</td>\n",
       "      <td>5.770358</td>\n",
       "      <td>5.616842</td>\n",
       "      <td>5.247190</td>\n",
       "      <td>5.237239</td>\n",
       "      <td>5.401876</td>\n",
       "    </tr>\n",
       "    <tr>\n",
       "      <th>121_at</th>\n",
       "      <td>7.833862</td>\n",
       "      <td>7.780682</td>\n",
       "      <td>7.458197</td>\n",
       "      <td>7.655948</td>\n",
       "      <td>7.546555</td>\n",
       "      <td>7.072670</td>\n",
       "      <td>7.092984</td>\n",
       "      <td>6.954225</td>\n",
       "      <td>7.489785</td>\n",
       "      <td>7.388539</td>\n",
       "      <td>...</td>\n",
       "      <td>7.437535</td>\n",
       "      <td>7.714650</td>\n",
       "      <td>7.416252</td>\n",
       "      <td>7.746448</td>\n",
       "      <td>8.001434</td>\n",
       "      <td>7.626723</td>\n",
       "      <td>7.452299</td>\n",
       "      <td>7.331864</td>\n",
       "      <td>7.357102</td>\n",
       "      <td>7.607461</td>\n",
       "    </tr>\n",
       "    <tr>\n",
       "      <th>1255_g_at</th>\n",
       "      <td>3.152269</td>\n",
       "      <td>3.111747</td>\n",
       "      <td>3.018932</td>\n",
       "      <td>3.154545</td>\n",
       "      <td>3.107954</td>\n",
       "      <td>3.224284</td>\n",
       "      <td>3.114241</td>\n",
       "      <td>3.044975</td>\n",
       "      <td>3.304038</td>\n",
       "      <td>2.887919</td>\n",
       "      <td>...</td>\n",
       "      <td>3.009983</td>\n",
       "      <td>3.151203</td>\n",
       "      <td>3.199709</td>\n",
       "      <td>3.159496</td>\n",
       "      <td>3.149710</td>\n",
       "      <td>3.242780</td>\n",
       "      <td>3.433125</td>\n",
       "      <td>3.175846</td>\n",
       "      <td>3.105092</td>\n",
       "      <td>3.225123</td>\n",
       "    </tr>\n",
       "  </tbody>\n",
       "</table>\n",
       "<p>5 rows × 102 columns</p>\n",
       "</div>"
      ],
      "text/plain": [
       "           GSM25349.CEL.gz  GSM25350.CEL.gz  GSM25356.CEL.gz  GSM25357.CEL.gz  \\\n",
       "1007_s_at         6.627014         6.249807         5.934128         6.145268   \n",
       "1053_at           6.939184         6.818038         7.047962         7.422477   \n",
       "117_at            5.113570         5.074096         5.371201         5.266550   \n",
       "121_at            7.833862         7.780682         7.458197         7.655948   \n",
       "1255_g_at         3.152269         3.111747         3.018932         3.154545   \n",
       "\n",
       "           GSM25358.CEL.gz  GSM25359.CEL.gz  GSM25360.CEL.gz  GSM25361.CEL.gz  \\\n",
       "1007_s_at         6.091270         6.041186         6.050375         6.063847   \n",
       "1053_at           7.272361         7.128216         6.750719         6.836287   \n",
       "117_at            5.342047         5.063876         5.315898         5.483652   \n",
       "121_at            7.546555         7.072670         7.092984         6.954225   \n",
       "1255_g_at         3.107954         3.224284         3.114241         3.044975   \n",
       "\n",
       "           GSM25377.CEL.gz  GSM25378.CEL.gz        ...         \\\n",
       "1007_s_at         6.226106         6.358282        ...          \n",
       "1053_at           6.738022         7.367895        ...          \n",
       "117_at            6.689444         6.482782        ...          \n",
       "121_at            7.489785         7.388539        ...          \n",
       "1255_g_at         3.304038         2.887919        ...          \n",
       "\n",
       "           GSM48658.CEL.gz  GSM48660.CEL.gz  GSM48661.CEL.gz  GSM48662.CEL.gz  \\\n",
       "1007_s_at         6.501510         6.558100         6.618286         6.869995   \n",
       "1053_at           7.066686         7.386702         6.407958         7.089180   \n",
       "117_at            5.600514         5.232676         5.630720         4.944748   \n",
       "121_at            7.437535         7.714650         7.416252         7.746448   \n",
       "1255_g_at         3.009983         3.151203         3.199709         3.159496   \n",
       "\n",
       "           GSM48663.CEL.gz  GSM48664.CEL.gz  GSM48665.CEL.gz  \\\n",
       "1007_s_at         5.981000         6.403285         6.248702   \n",
       "1053_at           7.120923         7.018998         7.155419   \n",
       "117_at            5.275577         5.770358         5.616842   \n",
       "121_at            8.001434         7.626723         7.452299   \n",
       "1255_g_at         3.149710         3.242780         3.433125   \n",
       "\n",
       "           GSM136725.CEL.gz  GSM136726.CEL.gz  GSM136727.CEL.gz  \n",
       "1007_s_at          6.488579          6.809481          6.133068  \n",
       "1053_at            7.517410          7.200596          7.280781  \n",
       "117_at             5.247190          5.237239          5.401876  \n",
       "121_at             7.331864          7.357102          7.607461  \n",
       "1255_g_at          3.175846          3.105092          3.225123  \n",
       "\n",
       "[5 rows x 102 columns]"
      ]
     },
     "execution_count": 25,
>>>>>>> 78f754b2a7dcc64bee2906766889a9cea64d03b3
     "metadata": {},
     "output_type": "execute_result"
    }
   ],
   "source": [
<<<<<<< HEAD
    "np.mean(poll_sd > obs_sd)"
   ]
  },
  {
   "cell_type": "markdown",
   "metadata": {},
   "source": [
    "Answer: "
   ]
  },
  {
   "cell_type": "markdown",
   "metadata": {},
   "source": [
    "#### Problem 2(f)\n",
    "\n",
    "**For AC209 Students**: Learn about the normal approximation for the binomial distribution and derive the results of Problem 2(b) and 2(c) analytically (using this approximation). Compare the results obtained analytically to those obtained from simulations."
=======
    "exprsCEU = exprs[sampleinfoCEU.filename]\n",
    "exprsCEU.head()"
>>>>>>> 78f754b2a7dcc64bee2906766889a9cea64d03b3
   ]
  },
  {
   "cell_type": "code",
<<<<<<< HEAD
   "execution_count": 211,
=======
   "execution_count": 32,
>>>>>>> 78f754b2a7dcc64bee2906766889a9cea64d03b3
   "metadata": {
    "collapsed": false
   },
   "outputs": [
    {
     "name": "stdout",
     "output_type": "stream",
     "text": [
<<<<<<< HEAD
      "binomial from sample:  529.625833333 0.000207509870287\n",
      "analytically from normal:  636.0 0.000207583333333\n"
=======
      "(8793, 102)\n",
      "(102, 7)\n"
>>>>>>> 78f754b2a7dcc64bee2906766889a9cea64d03b3
     ]
    }
   ],
   "source": [
<<<<<<< HEAD
    "print \"binomial from sample: \", np.sum(obs), np.var(obs, ddof=1)\n",
    "print \"analytically from normal: \", N*p, p*(1-p)/N"
=======
    "print(exprsCEU.shape)\n",
    "print(sampleinfoCEU.shape)"
>>>>>>> 78f754b2a7dcc64bee2906766889a9cea64d03b3
   ]
  },
  {
   "cell_type": "markdown",
   "metadata": {},
   "source": [
<<<<<<< HEAD
    "Answer: "
   ]
  },
  {
   "cell_type": "markdown",
   "metadata": {},
   "source": [
    "## Discussion for Problem 2\n",
    "\n",
    "*Write a brief discussion of your conclusions to the questions and tasks above in 100 words or less.*\n",
    "\n",
    "---\n"
=======
    "Check to make sure the order of the columns in the `exprsCEU` DataFrame matches the rows in the `sampleinfoCEU` DataFrame.  "
   ]
  },
  {
   "cell_type": "code",
   "execution_count": 33,
   "metadata": {
    "collapsed": false
   },
   "outputs": [
    {
     "data": {
      "text/plain": [
       "True"
      ]
     },
     "execution_count": 33,
     "metadata": {},
     "output_type": "execute_result"
    }
   ],
   "source": [
    "(sampleinfoCEU.filename == exprsCEU.columns).all()"
>>>>>>> 78f754b2a7dcc64bee2906766889a9cea64d03b3
   ]
  },
  {
   "cell_type": "markdown",
   "metadata": {},
   "source": [
<<<<<<< HEAD
    "## Problem 3: Is the average of polls better than just one poll?"
   ]
  },
  {
   "cell_type": "markdown",
   "metadata": {},
   "source": [
    "#### Problem 3(a)\n",
    "\n",
    "Most undecided voters vote for one of the two candidates at the election. Therefore, the reported percentages underestimate the final value of both candidates. However, if we assume the undecided will split evenly, then the observed difference should be an unbiased estimate of the final difference. \n",
    "\n",
    "Add a new column to the `election` DataFrame containg the difference between Obama and Romeny called `Diff`. "
=======
    "Compute the average gene expression intensity in the `exprsCEU` DataFrame across all the samples. For each sample in the `exprsCEU` DataFrame, subtract the average gene expression intensity from each of the samples. Show the head of the mean normalized gene expression data.  "
   ]
  },
  {
   "cell_type": "code",
   "execution_count": 34,
   "metadata": {
    "collapsed": false
   },
   "outputs": [
    {
     "data": {
      "text/html": [
       "<div>\n",
       "<table border=\"1\" class=\"dataframe\">\n",
       "  <thead>\n",
       "    <tr style=\"text-align: right;\">\n",
       "      <th></th>\n",
       "      <th>GSM25349.CEL.gz</th>\n",
       "      <th>GSM25350.CEL.gz</th>\n",
       "      <th>GSM25356.CEL.gz</th>\n",
       "      <th>GSM25357.CEL.gz</th>\n",
       "      <th>GSM25358.CEL.gz</th>\n",
       "      <th>GSM25359.CEL.gz</th>\n",
       "      <th>GSM25360.CEL.gz</th>\n",
       "      <th>GSM25361.CEL.gz</th>\n",
       "      <th>GSM25377.CEL.gz</th>\n",
       "      <th>GSM25378.CEL.gz</th>\n",
       "      <th>...</th>\n",
       "      <th>GSM48658.CEL.gz</th>\n",
       "      <th>GSM48660.CEL.gz</th>\n",
       "      <th>GSM48661.CEL.gz</th>\n",
       "      <th>GSM48662.CEL.gz</th>\n",
       "      <th>GSM48663.CEL.gz</th>\n",
       "      <th>GSM48664.CEL.gz</th>\n",
       "      <th>GSM48665.CEL.gz</th>\n",
       "      <th>GSM136725.CEL.gz</th>\n",
       "      <th>GSM136726.CEL.gz</th>\n",
       "      <th>GSM136727.CEL.gz</th>\n",
       "    </tr>\n",
       "  </thead>\n",
       "  <tbody>\n",
       "    <tr>\n",
       "      <th>1007_s_at</th>\n",
       "      <td>6.627014</td>\n",
       "      <td>6.249807</td>\n",
       "      <td>5.934128</td>\n",
       "      <td>6.145268</td>\n",
       "      <td>6.091270</td>\n",
       "      <td>6.041186</td>\n",
       "      <td>6.050375</td>\n",
       "      <td>6.063847</td>\n",
       "      <td>6.226106</td>\n",
       "      <td>6.358282</td>\n",
       "      <td>...</td>\n",
       "      <td>6.501510</td>\n",
       "      <td>6.558100</td>\n",
       "      <td>6.618286</td>\n",
       "      <td>6.869995</td>\n",
       "      <td>5.981000</td>\n",
       "      <td>6.403285</td>\n",
       "      <td>6.248702</td>\n",
       "      <td>6.488579</td>\n",
       "      <td>6.809481</td>\n",
       "      <td>6.133068</td>\n",
       "    </tr>\n",
       "    <tr>\n",
       "      <th>1053_at</th>\n",
       "      <td>6.939184</td>\n",
       "      <td>6.818038</td>\n",
       "      <td>7.047962</td>\n",
       "      <td>7.422477</td>\n",
       "      <td>7.272361</td>\n",
       "      <td>7.128216</td>\n",
       "      <td>6.750719</td>\n",
       "      <td>6.836287</td>\n",
       "      <td>6.738022</td>\n",
       "      <td>7.367895</td>\n",
       "      <td>...</td>\n",
       "      <td>7.066686</td>\n",
       "      <td>7.386702</td>\n",
       "      <td>6.407958</td>\n",
       "      <td>7.089180</td>\n",
       "      <td>7.120923</td>\n",
       "      <td>7.018998</td>\n",
       "      <td>7.155419</td>\n",
       "      <td>7.517410</td>\n",
       "      <td>7.200596</td>\n",
       "      <td>7.280781</td>\n",
       "    </tr>\n",
       "    <tr>\n",
       "      <th>117_at</th>\n",
       "      <td>5.113570</td>\n",
       "      <td>5.074096</td>\n",
       "      <td>5.371201</td>\n",
       "      <td>5.266550</td>\n",
       "      <td>5.342047</td>\n",
       "      <td>5.063876</td>\n",
       "      <td>5.315898</td>\n",
       "      <td>5.483652</td>\n",
       "      <td>6.689444</td>\n",
       "      <td>6.482782</td>\n",
       "      <td>...</td>\n",
       "      <td>5.600514</td>\n",
       "      <td>5.232676</td>\n",
       "      <td>5.630720</td>\n",
       "      <td>4.944748</td>\n",
       "      <td>5.275577</td>\n",
       "      <td>5.770358</td>\n",
       "      <td>5.616842</td>\n",
       "      <td>5.247190</td>\n",
       "      <td>5.237239</td>\n",
       "      <td>5.401876</td>\n",
       "    </tr>\n",
       "    <tr>\n",
       "      <th>121_at</th>\n",
       "      <td>7.833862</td>\n",
       "      <td>7.780682</td>\n",
       "      <td>7.458197</td>\n",
       "      <td>7.655948</td>\n",
       "      <td>7.546555</td>\n",
       "      <td>7.072670</td>\n",
       "      <td>7.092984</td>\n",
       "      <td>6.954225</td>\n",
       "      <td>7.489785</td>\n",
       "      <td>7.388539</td>\n",
       "      <td>...</td>\n",
       "      <td>7.437535</td>\n",
       "      <td>7.714650</td>\n",
       "      <td>7.416252</td>\n",
       "      <td>7.746448</td>\n",
       "      <td>8.001434</td>\n",
       "      <td>7.626723</td>\n",
       "      <td>7.452299</td>\n",
       "      <td>7.331864</td>\n",
       "      <td>7.357102</td>\n",
       "      <td>7.607461</td>\n",
       "    </tr>\n",
       "    <tr>\n",
       "      <th>1255_g_at</th>\n",
       "      <td>3.152269</td>\n",
       "      <td>3.111747</td>\n",
       "      <td>3.018932</td>\n",
       "      <td>3.154545</td>\n",
       "      <td>3.107954</td>\n",
       "      <td>3.224284</td>\n",
       "      <td>3.114241</td>\n",
       "      <td>3.044975</td>\n",
       "      <td>3.304038</td>\n",
       "      <td>2.887919</td>\n",
       "      <td>...</td>\n",
       "      <td>3.009983</td>\n",
       "      <td>3.151203</td>\n",
       "      <td>3.199709</td>\n",
       "      <td>3.159496</td>\n",
       "      <td>3.149710</td>\n",
       "      <td>3.242780</td>\n",
       "      <td>3.433125</td>\n",
       "      <td>3.175846</td>\n",
       "      <td>3.105092</td>\n",
       "      <td>3.225123</td>\n",
       "    </tr>\n",
       "  </tbody>\n",
       "</table>\n",
       "<p>5 rows × 102 columns</p>\n",
       "</div>"
      ],
      "text/plain": [
       "           GSM25349.CEL.gz  GSM25350.CEL.gz  GSM25356.CEL.gz  GSM25357.CEL.gz  \\\n",
       "1007_s_at         6.627014         6.249807         5.934128         6.145268   \n",
       "1053_at           6.939184         6.818038         7.047962         7.422477   \n",
       "117_at            5.113570         5.074096         5.371201         5.266550   \n",
       "121_at            7.833862         7.780682         7.458197         7.655948   \n",
       "1255_g_at         3.152269         3.111747         3.018932         3.154545   \n",
       "\n",
       "           GSM25358.CEL.gz  GSM25359.CEL.gz  GSM25360.CEL.gz  GSM25361.CEL.gz  \\\n",
       "1007_s_at         6.091270         6.041186         6.050375         6.063847   \n",
       "1053_at           7.272361         7.128216         6.750719         6.836287   \n",
       "117_at            5.342047         5.063876         5.315898         5.483652   \n",
       "121_at            7.546555         7.072670         7.092984         6.954225   \n",
       "1255_g_at         3.107954         3.224284         3.114241         3.044975   \n",
       "\n",
       "           GSM25377.CEL.gz  GSM25378.CEL.gz        ...         \\\n",
       "1007_s_at         6.226106         6.358282        ...          \n",
       "1053_at           6.738022         7.367895        ...          \n",
       "117_at            6.689444         6.482782        ...          \n",
       "121_at            7.489785         7.388539        ...          \n",
       "1255_g_at         3.304038         2.887919        ...          \n",
       "\n",
       "           GSM48658.CEL.gz  GSM48660.CEL.gz  GSM48661.CEL.gz  GSM48662.CEL.gz  \\\n",
       "1007_s_at         6.501510         6.558100         6.618286         6.869995   \n",
       "1053_at           7.066686         7.386702         6.407958         7.089180   \n",
       "117_at            5.600514         5.232676         5.630720         4.944748   \n",
       "121_at            7.437535         7.714650         7.416252         7.746448   \n",
       "1255_g_at         3.009983         3.151203         3.199709         3.159496   \n",
       "\n",
       "           GSM48663.CEL.gz  GSM48664.CEL.gz  GSM48665.CEL.gz  \\\n",
       "1007_s_at         5.981000         6.403285         6.248702   \n",
       "1053_at           7.120923         7.018998         7.155419   \n",
       "117_at            5.275577         5.770358         5.616842   \n",
       "121_at            8.001434         7.626723         7.452299   \n",
       "1255_g_at         3.149710         3.242780         3.433125   \n",
       "\n",
       "           GSM136725.CEL.gz  GSM136726.CEL.gz  GSM136727.CEL.gz  \n",
       "1007_s_at          6.488579          6.809481          6.133068  \n",
       "1053_at            7.517410          7.200596          7.280781  \n",
       "117_at             5.247190          5.237239          5.401876  \n",
       "121_at             7.331864          7.357102          7.607461  \n",
       "1255_g_at          3.175846          3.105092          3.225123  \n",
       "\n",
       "[5 rows x 102 columns]"
      ]
     },
     "execution_count": 34,
     "metadata": {},
     "output_type": "execute_result"
    }
   ],
   "source": [
    "exprsCEU.head()"
>>>>>>> 78f754b2a7dcc64bee2906766889a9cea64d03b3
   ]
  },
  {
   "cell_type": "code",
<<<<<<< HEAD
   "execution_count": 213,
   "metadata": {
    "collapsed": false
   },
   "outputs": [],
   "source": [
    "election[\"Diff\"] = election.Obama - election.Romney"
=======
   "execution_count": 35,
   "metadata": {
    "collapsed": false
   },
   "outputs": [
    {
     "data": {
      "text/plain": [
       "GSM25349.CEL.gz    5.737331\n",
       "GSM25350.CEL.gz    5.745487\n",
       "GSM25356.CEL.gz    5.694217\n",
       "GSM25357.CEL.gz    5.730586\n",
       "GSM25358.CEL.gz    5.715433\n",
       "dtype: float64"
      ]
     },
     "execution_count": 35,
     "metadata": {},
     "output_type": "execute_result"
    }
   ],
   "source": [
    "exprsCEU.mean().head()"
   ]
  },
  {
   "cell_type": "code",
   "execution_count": 36,
   "metadata": {
    "collapsed": false
   },
   "outputs": [
    {
     "data": {
      "text/plain": [
       "1007_s_at    6.261955\n",
       "1053_at      7.075217\n",
       "117_at       5.604127\n",
       "121_at       7.415835\n",
       "1255_g_at    3.133934\n",
       "dtype: float64"
      ]
     },
     "execution_count": 36,
     "metadata": {},
     "output_type": "execute_result"
    }
   ],
   "source": [
    "exprsCEU.mean(axis=1).head()"
>>>>>>> 78f754b2a7dcc64bee2906766889a9cea64d03b3
   ]
  },
  {
   "cell_type": "code",
<<<<<<< HEAD
   "execution_count": 214,
=======
   "execution_count": 37,
>>>>>>> 78f754b2a7dcc64bee2906766889a9cea64d03b3
   "metadata": {
    "collapsed": false
   },
   "outputs": [
    {
     "data": {
      "text/html": [
       "<div>\n",
       "<table border=\"1\" class=\"dataframe\">\n",
       "  <thead>\n",
       "    <tr style=\"text-align: right;\">\n",
       "      <th></th>\n",
<<<<<<< HEAD
       "      <th>Pollster</th>\n",
       "      <th>Start Date</th>\n",
       "      <th>End Date</th>\n",
       "      <th>Entry Date/Time (ET)</th>\n",
       "      <th>Number of Observations</th>\n",
       "      <th>Population</th>\n",
       "      <th>Mode</th>\n",
       "      <th>Obama</th>\n",
       "      <th>Romney</th>\n",
       "      <th>Undecided</th>\n",
       "      <th>Pollster URL</th>\n",
       "      <th>Source URL</th>\n",
       "      <th>Partisan</th>\n",
       "      <th>Affiliation</th>\n",
       "      <th>Diff</th>\n",
=======
       "      <th>1007_s_at</th>\n",
       "      <th>1053_at</th>\n",
       "      <th>117_at</th>\n",
       "      <th>121_at</th>\n",
       "      <th>1255_g_at</th>\n",
       "      <th>1294_at</th>\n",
       "      <th>1316_at</th>\n",
       "      <th>1320_at</th>\n",
       "      <th>1431_at</th>\n",
       "      <th>1438_at</th>\n",
       "      <th>...</th>\n",
       "      <th>AFFX-r2-Bs-thr-M_s_at</th>\n",
       "      <th>AFFX-r2-Ec-bioB-3_at</th>\n",
       "      <th>AFFX-r2-Ec-bioB-5_at</th>\n",
       "      <th>AFFX-r2-Ec-bioB-M_at</th>\n",
       "      <th>AFFX-r2-Ec-bioC-3_at</th>\n",
       "      <th>AFFX-r2-Ec-bioC-5_at</th>\n",
       "      <th>AFFX-r2-Ec-bioD-3_at</th>\n",
       "      <th>AFFX-r2-Ec-bioD-5_at</th>\n",
       "      <th>AFFX-r2-P1-cre-3_at</th>\n",
       "      <th>AFFX-r2-P1-cre-5_at</th>\n",
>>>>>>> 78f754b2a7dcc64bee2906766889a9cea64d03b3
       "    </tr>\n",
       "  </thead>\n",
       "  <tbody>\n",
       "    <tr>\n",
<<<<<<< HEAD
       "      <th>0</th>\n",
       "      <td>Politico/GWU/Battleground</td>\n",
       "      <td>2012-11-04</td>\n",
       "      <td>2012-11-05</td>\n",
       "      <td>2012-11-06 2000-01-01 08:40:26 UTC</td>\n",
       "      <td>1000</td>\n",
       "      <td>Likely Voters</td>\n",
       "      <td>Live Phone</td>\n",
       "      <td>47</td>\n",
       "      <td>47</td>\n",
       "      <td>6</td>\n",
       "      <td>http://elections.huffingtonpost.com/pollster/p...</td>\n",
       "      <td>NaN</td>\n",
       "      <td>Nonpartisan</td>\n",
       "      <td>None</td>\n",
       "      <td>0</td>\n",
       "    </tr>\n",
       "    <tr>\n",
       "      <th>1</th>\n",
       "      <td>UPI/CVOTER</td>\n",
       "      <td>2012-11-03</td>\n",
       "      <td>2012-11-05</td>\n",
       "      <td>2012-11-05 2000-01-01 18:30:15 UTC</td>\n",
       "      <td>3000</td>\n",
       "      <td>Likely Voters</td>\n",
       "      <td>Live Phone</td>\n",
       "      <td>49</td>\n",
       "      <td>48</td>\n",
       "      <td>NaN</td>\n",
       "      <td>http://elections.huffingtonpost.com/pollster/p...</td>\n",
       "      <td>NaN</td>\n",
       "      <td>Nonpartisan</td>\n",
       "      <td>None</td>\n",
       "      <td>1</td>\n",
       "    </tr>\n",
       "    <tr>\n",
       "      <th>2</th>\n",
       "      <td>Gravis Marketing</td>\n",
       "      <td>2012-11-03</td>\n",
       "      <td>2012-11-05</td>\n",
       "      <td>2012-11-06 2000-01-01 09:22:02 UTC</td>\n",
       "      <td>872</td>\n",
       "      <td>Likely Voters</td>\n",
       "      <td>Automated Phone</td>\n",
       "      <td>48</td>\n",
       "      <td>48</td>\n",
       "      <td>4</td>\n",
       "      <td>http://elections.huffingtonpost.com/pollster/p...</td>\n",
       "      <td>NaN</td>\n",
       "      <td>Nonpartisan</td>\n",
       "      <td>None</td>\n",
       "      <td>0</td>\n",
       "    </tr>\n",
       "    <tr>\n",
       "      <th>3</th>\n",
       "      <td>JZ Analytics/Newsmax</td>\n",
       "      <td>2012-11-03</td>\n",
       "      <td>2012-11-05</td>\n",
       "      <td>2012-11-06 2000-01-01 07:38:41 UTC</td>\n",
       "      <td>1041</td>\n",
       "      <td>Likely Voters</td>\n",
       "      <td>Internet</td>\n",
       "      <td>47</td>\n",
       "      <td>47</td>\n",
       "      <td>6</td>\n",
       "      <td>http://elections.huffingtonpost.com/pollster/p...</td>\n",
       "      <td>NaN</td>\n",
       "      <td>Sponsor</td>\n",
       "      <td>Rep</td>\n",
       "      <td>0</td>\n",
       "    </tr>\n",
       "    <tr>\n",
       "      <th>4</th>\n",
       "      <td>Rasmussen</td>\n",
       "      <td>2012-11-03</td>\n",
       "      <td>2012-11-05</td>\n",
       "      <td>2012-11-06 2000-01-01 08:47:50 UTC</td>\n",
       "      <td>1500</td>\n",
       "      <td>Likely Voters</td>\n",
       "      <td>Automated Phone</td>\n",
       "      <td>48</td>\n",
       "      <td>49</td>\n",
       "      <td>NaN</td>\n",
       "      <td>http://elections.huffingtonpost.com/pollster/p...</td>\n",
       "      <td>NaN</td>\n",
       "      <td>Nonpartisan</td>\n",
       "      <td>None</td>\n",
       "      <td>-1</td>\n",
       "    </tr>\n",
       "  </tbody>\n",
       "</table>\n",
       "</div>"
      ],
      "text/plain": [
       "                    Pollster Start Date   End Date  \\\n",
       "0  Politico/GWU/Battleground 2012-11-04 2012-11-05   \n",
       "1                 UPI/CVOTER 2012-11-03 2012-11-05   \n",
       "2           Gravis Marketing 2012-11-03 2012-11-05   \n",
       "3       JZ Analytics/Newsmax 2012-11-03 2012-11-05   \n",
       "4                  Rasmussen 2012-11-03 2012-11-05   \n",
       "\n",
       "                 Entry Date/Time (ET)  Number of Observations     Population  \\\n",
       "0  2012-11-06 2000-01-01 08:40:26 UTC                    1000  Likely Voters   \n",
       "1  2012-11-05 2000-01-01 18:30:15 UTC                    3000  Likely Voters   \n",
       "2  2012-11-06 2000-01-01 09:22:02 UTC                     872  Likely Voters   \n",
       "3  2012-11-06 2000-01-01 07:38:41 UTC                    1041  Likely Voters   \n",
       "4  2012-11-06 2000-01-01 08:47:50 UTC                    1500  Likely Voters   \n",
       "\n",
       "              Mode  Obama  Romney  Undecided  \\\n",
       "0       Live Phone     47      47          6   \n",
       "1       Live Phone     49      48        NaN   \n",
       "2  Automated Phone     48      48          4   \n",
       "3         Internet     47      47          6   \n",
       "4  Automated Phone     48      49        NaN   \n",
       "\n",
       "                                        Pollster URL  Source URL     Partisan  \\\n",
       "0  http://elections.huffingtonpost.com/pollster/p...         NaN  Nonpartisan   \n",
       "1  http://elections.huffingtonpost.com/pollster/p...         NaN  Nonpartisan   \n",
       "2  http://elections.huffingtonpost.com/pollster/p...         NaN  Nonpartisan   \n",
       "3  http://elections.huffingtonpost.com/pollster/p...         NaN      Sponsor   \n",
       "4  http://elections.huffingtonpost.com/pollster/p...         NaN  Nonpartisan   \n",
       "\n",
       "  Affiliation  Diff  \n",
       "0        None     0  \n",
       "1        None     1  \n",
       "2        None     0  \n",
       "3         Rep     0  \n",
       "4        None    -1  "
      ]
     },
     "execution_count": 214,
=======
       "      <th>GSM25349.CEL.gz</th>\n",
       "      <td>6.627014</td>\n",
       "      <td>6.939184</td>\n",
       "      <td>5.113570</td>\n",
       "      <td>7.833862</td>\n",
       "      <td>3.152269</td>\n",
       "      <td>7.410882</td>\n",
       "      <td>4.297712</td>\n",
       "      <td>3.628234</td>\n",
       "      <td>2.770336</td>\n",
       "      <td>5.421081</td>\n",
       "      <td>...</td>\n",
       "      <td>3.648708</td>\n",
       "      <td>6.435939</td>\n",
       "      <td>5.892205</td>\n",
       "      <td>5.922541</td>\n",
       "      <td>8.282216</td>\n",
       "      <td>8.243135</td>\n",
       "      <td>10.265151</td>\n",
       "      <td>9.569521</td>\n",
       "      <td>10.901787</td>\n",
       "      <td>11.396429</td>\n",
       "    </tr>\n",
       "    <tr>\n",
       "      <th>GSM25350.CEL.gz</th>\n",
       "      <td>6.249807</td>\n",
       "      <td>6.818038</td>\n",
       "      <td>5.074096</td>\n",
       "      <td>7.780682</td>\n",
       "      <td>3.111747</td>\n",
       "      <td>7.557979</td>\n",
       "      <td>4.183178</td>\n",
       "      <td>3.632977</td>\n",
       "      <td>2.792908</td>\n",
       "      <td>5.152743</td>\n",
       "      <td>...</td>\n",
       "      <td>3.598298</td>\n",
       "      <td>6.405243</td>\n",
       "      <td>5.161318</td>\n",
       "      <td>5.577605</td>\n",
       "      <td>8.004813</td>\n",
       "      <td>7.697354</td>\n",
       "      <td>9.594506</td>\n",
       "      <td>9.055461</td>\n",
       "      <td>10.156066</td>\n",
       "      <td>11.071175</td>\n",
       "    </tr>\n",
       "    <tr>\n",
       "      <th>GSM25356.CEL.gz</th>\n",
       "      <td>5.934128</td>\n",
       "      <td>7.047962</td>\n",
       "      <td>5.371201</td>\n",
       "      <td>7.458197</td>\n",
       "      <td>3.018932</td>\n",
       "      <td>7.299338</td>\n",
       "      <td>4.262169</td>\n",
       "      <td>3.697666</td>\n",
       "      <td>2.613063</td>\n",
       "      <td>4.966595</td>\n",
       "      <td>...</td>\n",
       "      <td>3.012417</td>\n",
       "      <td>7.618211</td>\n",
       "      <td>7.144916</td>\n",
       "      <td>7.291932</td>\n",
       "      <td>9.119983</td>\n",
       "      <td>9.041328</td>\n",
       "      <td>11.083347</td>\n",
       "      <td>10.474606</td>\n",
       "      <td>11.567609</td>\n",
       "      <td>11.979098</td>\n",
       "    </tr>\n",
       "    <tr>\n",
       "      <th>GSM25357.CEL.gz</th>\n",
       "      <td>6.145268</td>\n",
       "      <td>7.422477</td>\n",
       "      <td>5.266550</td>\n",
       "      <td>7.655948</td>\n",
       "      <td>3.154545</td>\n",
       "      <td>7.085593</td>\n",
       "      <td>4.339762</td>\n",
       "      <td>3.792282</td>\n",
       "      <td>2.644105</td>\n",
       "      <td>5.314540</td>\n",
       "      <td>...</td>\n",
       "      <td>3.315521</td>\n",
       "      <td>5.193288</td>\n",
       "      <td>4.566599</td>\n",
       "      <td>4.582005</td>\n",
       "      <td>6.950373</td>\n",
       "      <td>6.395946</td>\n",
       "      <td>8.953406</td>\n",
       "      <td>8.048332</td>\n",
       "      <td>9.875967</td>\n",
       "      <td>10.479750</td>\n",
       "    </tr>\n",
       "    <tr>\n",
       "      <th>GSM25358.CEL.gz</th>\n",
       "      <td>6.091270</td>\n",
       "      <td>7.272361</td>\n",
       "      <td>5.342047</td>\n",
       "      <td>7.546555</td>\n",
       "      <td>3.107954</td>\n",
       "      <td>7.591942</td>\n",
       "      <td>4.122669</td>\n",
       "      <td>3.506593</td>\n",
       "      <td>2.754759</td>\n",
       "      <td>4.924525</td>\n",
       "      <td>...</td>\n",
       "      <td>3.325716</td>\n",
       "      <td>6.424013</td>\n",
       "      <td>6.190578</td>\n",
       "      <td>5.904906</td>\n",
       "      <td>8.081023</td>\n",
       "      <td>7.927271</td>\n",
       "      <td>9.923315</td>\n",
       "      <td>9.402478</td>\n",
       "      <td>10.954622</td>\n",
       "      <td>11.313716</td>\n",
       "    </tr>\n",
       "  </tbody>\n",
       "</table>\n",
       "<p>5 rows × 8793 columns</p>\n",
       "</div>"
      ],
      "text/plain": [
       "                 1007_s_at   1053_at    117_at    121_at  1255_g_at   1294_at  \\\n",
       "GSM25349.CEL.gz   6.627014  6.939184  5.113570  7.833862   3.152269  7.410882   \n",
       "GSM25350.CEL.gz   6.249807  6.818038  5.074096  7.780682   3.111747  7.557979   \n",
       "GSM25356.CEL.gz   5.934128  7.047962  5.371201  7.458197   3.018932  7.299338   \n",
       "GSM25357.CEL.gz   6.145268  7.422477  5.266550  7.655948   3.154545  7.085593   \n",
       "GSM25358.CEL.gz   6.091270  7.272361  5.342047  7.546555   3.107954  7.591942   \n",
       "\n",
       "                  1316_at   1320_at   1431_at   1438_at         ...           \\\n",
       "GSM25349.CEL.gz  4.297712  3.628234  2.770336  5.421081         ...            \n",
       "GSM25350.CEL.gz  4.183178  3.632977  2.792908  5.152743         ...            \n",
       "GSM25356.CEL.gz  4.262169  3.697666  2.613063  4.966595         ...            \n",
       "GSM25357.CEL.gz  4.339762  3.792282  2.644105  5.314540         ...            \n",
       "GSM25358.CEL.gz  4.122669  3.506593  2.754759  4.924525         ...            \n",
       "\n",
       "                 AFFX-r2-Bs-thr-M_s_at  AFFX-r2-Ec-bioB-3_at  \\\n",
       "GSM25349.CEL.gz               3.648708              6.435939   \n",
       "GSM25350.CEL.gz               3.598298              6.405243   \n",
       "GSM25356.CEL.gz               3.012417              7.618211   \n",
       "GSM25357.CEL.gz               3.315521              5.193288   \n",
       "GSM25358.CEL.gz               3.325716              6.424013   \n",
       "\n",
       "                 AFFX-r2-Ec-bioB-5_at  AFFX-r2-Ec-bioB-M_at  \\\n",
       "GSM25349.CEL.gz              5.892205              5.922541   \n",
       "GSM25350.CEL.gz              5.161318              5.577605   \n",
       "GSM25356.CEL.gz              7.144916              7.291932   \n",
       "GSM25357.CEL.gz              4.566599              4.582005   \n",
       "GSM25358.CEL.gz              6.190578              5.904906   \n",
       "\n",
       "                 AFFX-r2-Ec-bioC-3_at  AFFX-r2-Ec-bioC-5_at  \\\n",
       "GSM25349.CEL.gz              8.282216              8.243135   \n",
       "GSM25350.CEL.gz              8.004813              7.697354   \n",
       "GSM25356.CEL.gz              9.119983              9.041328   \n",
       "GSM25357.CEL.gz              6.950373              6.395946   \n",
       "GSM25358.CEL.gz              8.081023              7.927271   \n",
       "\n",
       "                 AFFX-r2-Ec-bioD-3_at  AFFX-r2-Ec-bioD-5_at  \\\n",
       "GSM25349.CEL.gz             10.265151              9.569521   \n",
       "GSM25350.CEL.gz              9.594506              9.055461   \n",
       "GSM25356.CEL.gz             11.083347             10.474606   \n",
       "GSM25357.CEL.gz              8.953406              8.048332   \n",
       "GSM25358.CEL.gz              9.923315              9.402478   \n",
       "\n",
       "                 AFFX-r2-P1-cre-3_at  AFFX-r2-P1-cre-5_at  \n",
       "GSM25349.CEL.gz            10.901787            11.396429  \n",
       "GSM25350.CEL.gz            10.156066            11.071175  \n",
       "GSM25356.CEL.gz            11.567609            11.979098  \n",
       "GSM25357.CEL.gz             9.875967            10.479750  \n",
       "GSM25358.CEL.gz            10.954622            11.313716  \n",
       "\n",
       "[5 rows x 8793 columns]"
      ]
     },
     "execution_count": 37,
>>>>>>> 78f754b2a7dcc64bee2906766889a9cea64d03b3
     "metadata": {},
     "output_type": "execute_result"
    }
   ],
   "source": [
<<<<<<< HEAD
    "election.head()"
   ]
  },
  {
   "cell_type": "markdown",
   "metadata": {},
   "source": [
    "#### Problem 3(b)\n",
    "\n",
    "Make a plot of the differences for the week before the election (e.g. 5 days) where the days are on the x-axis and the differences are on the y-axis.  Add a horizontal line showing 3.9%: the difference between Obama and Romney on election day."
=======
    "exprsCEU.T.head()"
   ]
  },
  {
   "cell_type": "code",
   "execution_count": 38,
   "metadata": {
    "collapsed": false
   },
   "outputs": [
    {
     "data": {
      "text/html": [
       "<div>\n",
       "<table border=\"1\" class=\"dataframe\">\n",
       "  <thead>\n",
       "    <tr style=\"text-align: right;\">\n",
       "      <th></th>\n",
       "      <th>GSM25349.CEL.gz</th>\n",
       "      <th>GSM25350.CEL.gz</th>\n",
       "      <th>GSM25356.CEL.gz</th>\n",
       "      <th>GSM25357.CEL.gz</th>\n",
       "      <th>GSM25358.CEL.gz</th>\n",
       "      <th>GSM25359.CEL.gz</th>\n",
       "      <th>GSM25360.CEL.gz</th>\n",
       "      <th>GSM25361.CEL.gz</th>\n",
       "      <th>GSM25377.CEL.gz</th>\n",
       "      <th>GSM25378.CEL.gz</th>\n",
       "      <th>...</th>\n",
       "      <th>GSM48658.CEL.gz</th>\n",
       "      <th>GSM48660.CEL.gz</th>\n",
       "      <th>GSM48661.CEL.gz</th>\n",
       "      <th>GSM48662.CEL.gz</th>\n",
       "      <th>GSM48663.CEL.gz</th>\n",
       "      <th>GSM48664.CEL.gz</th>\n",
       "      <th>GSM48665.CEL.gz</th>\n",
       "      <th>GSM136725.CEL.gz</th>\n",
       "      <th>GSM136726.CEL.gz</th>\n",
       "      <th>GSM136727.CEL.gz</th>\n",
       "    </tr>\n",
       "  </thead>\n",
       "  <tbody>\n",
       "    <tr>\n",
       "      <th>1007_s_at</th>\n",
       "      <td>0.365059</td>\n",
       "      <td>-0.012149</td>\n",
       "      <td>-0.327827</td>\n",
       "      <td>-0.116687</td>\n",
       "      <td>-0.170685</td>\n",
       "      <td>-0.220769</td>\n",
       "      <td>-0.211580</td>\n",
       "      <td>-0.198109</td>\n",
       "      <td>-0.035849</td>\n",
       "      <td>0.096327</td>\n",
       "      <td>...</td>\n",
       "      <td>0.239554</td>\n",
       "      <td>0.296144</td>\n",
       "      <td>0.356331</td>\n",
       "      <td>0.608040</td>\n",
       "      <td>-0.280956</td>\n",
       "      <td>0.141330</td>\n",
       "      <td>-0.013254</td>\n",
       "      <td>0.226624</td>\n",
       "      <td>0.547526</td>\n",
       "      <td>-0.128887</td>\n",
       "    </tr>\n",
       "    <tr>\n",
       "      <th>1053_at</th>\n",
       "      <td>-0.136032</td>\n",
       "      <td>-0.257178</td>\n",
       "      <td>-0.027254</td>\n",
       "      <td>0.347260</td>\n",
       "      <td>0.197144</td>\n",
       "      <td>0.053000</td>\n",
       "      <td>-0.324497</td>\n",
       "      <td>-0.238930</td>\n",
       "      <td>-0.337195</td>\n",
       "      <td>0.292678</td>\n",
       "      <td>...</td>\n",
       "      <td>-0.008531</td>\n",
       "      <td>0.311485</td>\n",
       "      <td>-0.667259</td>\n",
       "      <td>0.013964</td>\n",
       "      <td>0.045706</td>\n",
       "      <td>-0.056219</td>\n",
       "      <td>0.080203</td>\n",
       "      <td>0.442193</td>\n",
       "      <td>0.125379</td>\n",
       "      <td>0.205564</td>\n",
       "    </tr>\n",
       "    <tr>\n",
       "      <th>117_at</th>\n",
       "      <td>-0.490556</td>\n",
       "      <td>-0.530031</td>\n",
       "      <td>-0.232926</td>\n",
       "      <td>-0.337577</td>\n",
       "      <td>-0.262080</td>\n",
       "      <td>-0.540250</td>\n",
       "      <td>-0.288228</td>\n",
       "      <td>-0.120475</td>\n",
       "      <td>1.085317</td>\n",
       "      <td>0.878655</td>\n",
       "      <td>...</td>\n",
       "      <td>-0.003613</td>\n",
       "      <td>-0.371451</td>\n",
       "      <td>0.026594</td>\n",
       "      <td>-0.659379</td>\n",
       "      <td>-0.328549</td>\n",
       "      <td>0.166231</td>\n",
       "      <td>0.012716</td>\n",
       "      <td>-0.356936</td>\n",
       "      <td>-0.366887</td>\n",
       "      <td>-0.202251</td>\n",
       "    </tr>\n",
       "    <tr>\n",
       "      <th>121_at</th>\n",
       "      <td>0.418026</td>\n",
       "      <td>0.364847</td>\n",
       "      <td>0.042362</td>\n",
       "      <td>0.240113</td>\n",
       "      <td>0.130720</td>\n",
       "      <td>-0.343165</td>\n",
       "      <td>-0.322852</td>\n",
       "      <td>-0.461611</td>\n",
       "      <td>0.073949</td>\n",
       "      <td>-0.027296</td>\n",
       "      <td>...</td>\n",
       "      <td>0.021700</td>\n",
       "      <td>0.298814</td>\n",
       "      <td>0.000417</td>\n",
       "      <td>0.330612</td>\n",
       "      <td>0.585598</td>\n",
       "      <td>0.210887</td>\n",
       "      <td>0.036463</td>\n",
       "      <td>-0.083972</td>\n",
       "      <td>-0.058733</td>\n",
       "      <td>0.191626</td>\n",
       "    </tr>\n",
       "    <tr>\n",
       "      <th>1255_g_at</th>\n",
       "      <td>0.018335</td>\n",
       "      <td>-0.022187</td>\n",
       "      <td>-0.115002</td>\n",
       "      <td>0.020611</td>\n",
       "      <td>-0.025980</td>\n",
       "      <td>0.090351</td>\n",
       "      <td>-0.019693</td>\n",
       "      <td>-0.088959</td>\n",
       "      <td>0.170104</td>\n",
       "      <td>-0.246015</td>\n",
       "      <td>...</td>\n",
       "      <td>-0.123951</td>\n",
       "      <td>0.017269</td>\n",
       "      <td>0.065775</td>\n",
       "      <td>0.025562</td>\n",
       "      <td>0.015776</td>\n",
       "      <td>0.108846</td>\n",
       "      <td>0.299192</td>\n",
       "      <td>0.041912</td>\n",
       "      <td>-0.028842</td>\n",
       "      <td>0.091189</td>\n",
       "    </tr>\n",
       "  </tbody>\n",
       "</table>\n",
       "<p>5 rows × 102 columns</p>\n",
       "</div>"
      ],
      "text/plain": [
       "           GSM25349.CEL.gz  GSM25350.CEL.gz  GSM25356.CEL.gz  GSM25357.CEL.gz  \\\n",
       "1007_s_at         0.365059        -0.012149        -0.327827        -0.116687   \n",
       "1053_at          -0.136032        -0.257178        -0.027254         0.347260   \n",
       "117_at           -0.490556        -0.530031        -0.232926        -0.337577   \n",
       "121_at            0.418026         0.364847         0.042362         0.240113   \n",
       "1255_g_at         0.018335        -0.022187        -0.115002         0.020611   \n",
       "\n",
       "           GSM25358.CEL.gz  GSM25359.CEL.gz  GSM25360.CEL.gz  GSM25361.CEL.gz  \\\n",
       "1007_s_at        -0.170685        -0.220769        -0.211580        -0.198109   \n",
       "1053_at           0.197144         0.053000        -0.324497        -0.238930   \n",
       "117_at           -0.262080        -0.540250        -0.288228        -0.120475   \n",
       "121_at            0.130720        -0.343165        -0.322852        -0.461611   \n",
       "1255_g_at        -0.025980         0.090351        -0.019693        -0.088959   \n",
       "\n",
       "           GSM25377.CEL.gz  GSM25378.CEL.gz        ...         \\\n",
       "1007_s_at        -0.035849         0.096327        ...          \n",
       "1053_at          -0.337195         0.292678        ...          \n",
       "117_at            1.085317         0.878655        ...          \n",
       "121_at            0.073949        -0.027296        ...          \n",
       "1255_g_at         0.170104        -0.246015        ...          \n",
       "\n",
       "           GSM48658.CEL.gz  GSM48660.CEL.gz  GSM48661.CEL.gz  GSM48662.CEL.gz  \\\n",
       "1007_s_at         0.239554         0.296144         0.356331         0.608040   \n",
       "1053_at          -0.008531         0.311485        -0.667259         0.013964   \n",
       "117_at           -0.003613        -0.371451         0.026594        -0.659379   \n",
       "121_at            0.021700         0.298814         0.000417         0.330612   \n",
       "1255_g_at        -0.123951         0.017269         0.065775         0.025562   \n",
       "\n",
       "           GSM48663.CEL.gz  GSM48664.CEL.gz  GSM48665.CEL.gz  \\\n",
       "1007_s_at        -0.280956         0.141330        -0.013254   \n",
       "1053_at           0.045706        -0.056219         0.080203   \n",
       "117_at           -0.328549         0.166231         0.012716   \n",
       "121_at            0.585598         0.210887         0.036463   \n",
       "1255_g_at         0.015776         0.108846         0.299192   \n",
       "\n",
       "           GSM136725.CEL.gz  GSM136726.CEL.gz  GSM136727.CEL.gz  \n",
       "1007_s_at          0.226624          0.547526         -0.128887  \n",
       "1053_at            0.442193          0.125379          0.205564  \n",
       "117_at            -0.356936         -0.366887         -0.202251  \n",
       "121_at            -0.083972         -0.058733          0.191626  \n",
       "1255_g_at          0.041912         -0.028842          0.091189  \n",
       "\n",
       "[5 rows x 102 columns]"
      ]
     },
     "execution_count": 38,
     "metadata": {},
     "output_type": "execute_result"
    }
   ],
   "source": [
    "(exprsCEU.T - exprsCEU.mean(axis=1)).T.head()"
   ]
  },
  {
   "cell_type": "code",
   "execution_count": 39,
   "metadata": {
    "collapsed": false
   },
   "outputs": [
    {
     "data": {
      "text/html": [
       "<div>\n",
       "<table border=\"1\" class=\"dataframe\">\n",
       "  <thead>\n",
       "    <tr style=\"text-align: right;\">\n",
       "      <th></th>\n",
       "      <th>GSM25349.CEL.gz</th>\n",
       "      <th>GSM25350.CEL.gz</th>\n",
       "      <th>GSM25356.CEL.gz</th>\n",
       "      <th>GSM25357.CEL.gz</th>\n",
       "      <th>GSM25358.CEL.gz</th>\n",
       "      <th>GSM25359.CEL.gz</th>\n",
       "      <th>GSM25360.CEL.gz</th>\n",
       "      <th>GSM25361.CEL.gz</th>\n",
       "      <th>GSM25377.CEL.gz</th>\n",
       "      <th>GSM25378.CEL.gz</th>\n",
       "      <th>...</th>\n",
       "      <th>GSM48658.CEL.gz</th>\n",
       "      <th>GSM48660.CEL.gz</th>\n",
       "      <th>GSM48661.CEL.gz</th>\n",
       "      <th>GSM48662.CEL.gz</th>\n",
       "      <th>GSM48663.CEL.gz</th>\n",
       "      <th>GSM48664.CEL.gz</th>\n",
       "      <th>GSM48665.CEL.gz</th>\n",
       "      <th>GSM136725.CEL.gz</th>\n",
       "      <th>GSM136726.CEL.gz</th>\n",
       "      <th>GSM136727.CEL.gz</th>\n",
       "    </tr>\n",
       "  </thead>\n",
       "  <tbody>\n",
       "    <tr>\n",
       "      <th>1007_s_at</th>\n",
       "      <td>0.889683</td>\n",
       "      <td>0.504320</td>\n",
       "      <td>0.239911</td>\n",
       "      <td>0.414682</td>\n",
       "      <td>0.375837</td>\n",
       "      <td>0.318789</td>\n",
       "      <td>0.330471</td>\n",
       "      <td>0.313837</td>\n",
       "      <td>0.601632</td>\n",
       "      <td>0.630257</td>\n",
       "      <td>...</td>\n",
       "      <td>0.781012</td>\n",
       "      <td>0.849726</td>\n",
       "      <td>0.880097</td>\n",
       "      <td>1.157170</td>\n",
       "      <td>0.289480</td>\n",
       "      <td>0.753281</td>\n",
       "      <td>0.567560</td>\n",
       "      <td>0.744457</td>\n",
       "      <td>1.075995</td>\n",
       "      <td>0.393314</td>\n",
       "    </tr>\n",
       "    <tr>\n",
       "      <th>1053_at</th>\n",
       "      <td>1.201854</td>\n",
       "      <td>1.072552</td>\n",
       "      <td>1.353745</td>\n",
       "      <td>1.691891</td>\n",
       "      <td>1.556928</td>\n",
       "      <td>1.405819</td>\n",
       "      <td>1.030815</td>\n",
       "      <td>1.086277</td>\n",
       "      <td>1.113548</td>\n",
       "      <td>1.639870</td>\n",
       "      <td>...</td>\n",
       "      <td>1.346188</td>\n",
       "      <td>1.678328</td>\n",
       "      <td>0.669769</td>\n",
       "      <td>1.376355</td>\n",
       "      <td>1.429403</td>\n",
       "      <td>1.368994</td>\n",
       "      <td>1.474277</td>\n",
       "      <td>1.773287</td>\n",
       "      <td>1.467110</td>\n",
       "      <td>1.541026</td>\n",
       "    </tr>\n",
       "    <tr>\n",
       "      <th>117_at</th>\n",
       "      <td>-0.623760</td>\n",
       "      <td>-0.671391</td>\n",
       "      <td>-0.323016</td>\n",
       "      <td>-0.464036</td>\n",
       "      <td>-0.373386</td>\n",
       "      <td>-0.658521</td>\n",
       "      <td>-0.404006</td>\n",
       "      <td>-0.266358</td>\n",
       "      <td>1.064970</td>\n",
       "      <td>0.754757</td>\n",
       "      <td>...</td>\n",
       "      <td>-0.119984</td>\n",
       "      <td>-0.475697</td>\n",
       "      <td>-0.107469</td>\n",
       "      <td>-0.768077</td>\n",
       "      <td>-0.415942</td>\n",
       "      <td>0.120354</td>\n",
       "      <td>-0.064300</td>\n",
       "      <td>-0.496932</td>\n",
       "      <td>-0.496247</td>\n",
       "      <td>-0.337878</td>\n",
       "    </tr>\n",
       "    <tr>\n",
       "      <th>121_at</th>\n",
       "      <td>2.096531</td>\n",
       "      <td>2.035195</td>\n",
       "      <td>1.763980</td>\n",
       "      <td>1.925362</td>\n",
       "      <td>1.831122</td>\n",
       "      <td>1.350273</td>\n",
       "      <td>1.373079</td>\n",
       "      <td>1.204215</td>\n",
       "      <td>1.865310</td>\n",
       "      <td>1.660514</td>\n",
       "      <td>...</td>\n",
       "      <td>1.717037</td>\n",
       "      <td>2.006276</td>\n",
       "      <td>1.678063</td>\n",
       "      <td>2.033623</td>\n",
       "      <td>2.309914</td>\n",
       "      <td>1.976719</td>\n",
       "      <td>1.771157</td>\n",
       "      <td>1.587741</td>\n",
       "      <td>1.623616</td>\n",
       "      <td>1.867707</td>\n",
       "    </tr>\n",
       "    <tr>\n",
       "      <th>1255_g_at</th>\n",
       "      <td>-2.585061</td>\n",
       "      <td>-2.633739</td>\n",
       "      <td>-2.675285</td>\n",
       "      <td>-2.576041</td>\n",
       "      <td>-2.607479</td>\n",
       "      <td>-2.498112</td>\n",
       "      <td>-2.605663</td>\n",
       "      <td>-2.705035</td>\n",
       "      <td>-2.320436</td>\n",
       "      <td>-2.840106</td>\n",
       "      <td>...</td>\n",
       "      <td>-2.710515</td>\n",
       "      <td>-2.557171</td>\n",
       "      <td>-2.538480</td>\n",
       "      <td>-2.553329</td>\n",
       "      <td>-2.541810</td>\n",
       "      <td>-2.407224</td>\n",
       "      <td>-2.248017</td>\n",
       "      <td>-2.568276</td>\n",
       "      <td>-2.628394</td>\n",
       "      <td>-2.514631</td>\n",
       "    </tr>\n",
       "  </tbody>\n",
       "</table>\n",
       "<p>5 rows × 102 columns</p>\n",
       "</div>"
      ],
      "text/plain": [
       "           GSM25349.CEL.gz  GSM25350.CEL.gz  GSM25356.CEL.gz  GSM25357.CEL.gz  \\\n",
       "1007_s_at         0.889683         0.504320         0.239911         0.414682   \n",
       "1053_at           1.201854         1.072552         1.353745         1.691891   \n",
       "117_at           -0.623760        -0.671391        -0.323016        -0.464036   \n",
       "121_at            2.096531         2.035195         1.763980         1.925362   \n",
       "1255_g_at        -2.585061        -2.633739        -2.675285        -2.576041   \n",
       "\n",
       "           GSM25358.CEL.gz  GSM25359.CEL.gz  GSM25360.CEL.gz  GSM25361.CEL.gz  \\\n",
       "1007_s_at         0.375837         0.318789         0.330471         0.313837   \n",
       "1053_at           1.556928         1.405819         1.030815         1.086277   \n",
       "117_at           -0.373386        -0.658521        -0.404006        -0.266358   \n",
       "121_at            1.831122         1.350273         1.373079         1.204215   \n",
       "1255_g_at        -2.607479        -2.498112        -2.605663        -2.705035   \n",
       "\n",
       "           GSM25377.CEL.gz  GSM25378.CEL.gz        ...         \\\n",
       "1007_s_at         0.601632         0.630257        ...          \n",
       "1053_at           1.113548         1.639870        ...          \n",
       "117_at            1.064970         0.754757        ...          \n",
       "121_at            1.865310         1.660514        ...          \n",
       "1255_g_at        -2.320436        -2.840106        ...          \n",
       "\n",
       "           GSM48658.CEL.gz  GSM48660.CEL.gz  GSM48661.CEL.gz  GSM48662.CEL.gz  \\\n",
       "1007_s_at         0.781012         0.849726         0.880097         1.157170   \n",
       "1053_at           1.346188         1.678328         0.669769         1.376355   \n",
       "117_at           -0.119984        -0.475697        -0.107469        -0.768077   \n",
       "121_at            1.717037         2.006276         1.678063         2.033623   \n",
       "1255_g_at        -2.710515        -2.557171        -2.538480        -2.553329   \n",
       "\n",
       "           GSM48663.CEL.gz  GSM48664.CEL.gz  GSM48665.CEL.gz  \\\n",
       "1007_s_at         0.289480         0.753281         0.567560   \n",
       "1053_at           1.429403         1.368994         1.474277   \n",
       "117_at           -0.415942         0.120354        -0.064300   \n",
       "121_at            2.309914         1.976719         1.771157   \n",
       "1255_g_at        -2.541810        -2.407224        -2.248017   \n",
       "\n",
       "           GSM136725.CEL.gz  GSM136726.CEL.gz  GSM136727.CEL.gz  \n",
       "1007_s_at          0.744457          1.075995          0.393314  \n",
       "1053_at            1.773287          1.467110          1.541026  \n",
       "117_at            -0.496932         -0.496247         -0.337878  \n",
       "121_at             1.587741          1.623616          1.867707  \n",
       "1255_g_at         -2.568276         -2.628394         -2.514631  \n",
       "\n",
       "[5 rows x 102 columns]"
      ]
     },
     "execution_count": 39,
     "metadata": {},
     "output_type": "execute_result"
    }
   ],
   "source": [
    "exprsCEU_norm = exprsCEU - exprsCEU.mean()\n",
    "exprsCEU_norm.head()"
>>>>>>> 78f754b2a7dcc64bee2906766889a9cea64d03b3
   ]
  },
  {
   "cell_type": "code",
<<<<<<< HEAD
   "execution_count": 215,
=======
   "execution_count": 40,
>>>>>>> 78f754b2a7dcc64bee2906766889a9cea64d03b3
   "metadata": {
    "collapsed": false
   },
   "outputs": [
    {
     "data": {
<<<<<<< HEAD
      "text/plain": [
       "(589, 15)"
      ]
     },
     "execution_count": 215,
=======
      "text/html": [
       "<div>\n",
       "<table border=\"1\" class=\"dataframe\">\n",
       "  <thead>\n",
       "    <tr style=\"text-align: right;\">\n",
       "      <th></th>\n",
       "      <th>GSM25349.CEL.gz</th>\n",
       "      <th>GSM25350.CEL.gz</th>\n",
       "      <th>GSM25356.CEL.gz</th>\n",
       "      <th>GSM25357.CEL.gz</th>\n",
       "      <th>GSM25358.CEL.gz</th>\n",
       "      <th>GSM25359.CEL.gz</th>\n",
       "      <th>GSM25360.CEL.gz</th>\n",
       "      <th>GSM25361.CEL.gz</th>\n",
       "      <th>GSM25377.CEL.gz</th>\n",
       "      <th>GSM25378.CEL.gz</th>\n",
       "      <th>...</th>\n",
       "      <th>GSM48658.CEL.gz</th>\n",
       "      <th>GSM48660.CEL.gz</th>\n",
       "      <th>GSM48661.CEL.gz</th>\n",
       "      <th>GSM48662.CEL.gz</th>\n",
       "      <th>GSM48663.CEL.gz</th>\n",
       "      <th>GSM48664.CEL.gz</th>\n",
       "      <th>GSM48665.CEL.gz</th>\n",
       "      <th>GSM136725.CEL.gz</th>\n",
       "      <th>GSM136726.CEL.gz</th>\n",
       "      <th>GSM136727.CEL.gz</th>\n",
       "    </tr>\n",
       "  </thead>\n",
       "  <tbody>\n",
       "    <tr>\n",
       "      <th>1007_s_at</th>\n",
       "      <td>0.365059</td>\n",
       "      <td>-0.012149</td>\n",
       "      <td>-0.327827</td>\n",
       "      <td>-0.116687</td>\n",
       "      <td>-0.170685</td>\n",
       "      <td>-0.220769</td>\n",
       "      <td>-0.211580</td>\n",
       "      <td>-0.198109</td>\n",
       "      <td>-0.035849</td>\n",
       "      <td>0.096327</td>\n",
       "      <td>...</td>\n",
       "      <td>0.239554</td>\n",
       "      <td>0.296144</td>\n",
       "      <td>0.356331</td>\n",
       "      <td>0.608040</td>\n",
       "      <td>-0.280956</td>\n",
       "      <td>0.141330</td>\n",
       "      <td>-0.013254</td>\n",
       "      <td>0.226624</td>\n",
       "      <td>0.547526</td>\n",
       "      <td>-0.128887</td>\n",
       "    </tr>\n",
       "    <tr>\n",
       "      <th>1053_at</th>\n",
       "      <td>-0.136032</td>\n",
       "      <td>-0.257178</td>\n",
       "      <td>-0.027254</td>\n",
       "      <td>0.347260</td>\n",
       "      <td>0.197144</td>\n",
       "      <td>0.053000</td>\n",
       "      <td>-0.324497</td>\n",
       "      <td>-0.238930</td>\n",
       "      <td>-0.337195</td>\n",
       "      <td>0.292678</td>\n",
       "      <td>...</td>\n",
       "      <td>-0.008531</td>\n",
       "      <td>0.311485</td>\n",
       "      <td>-0.667259</td>\n",
       "      <td>0.013964</td>\n",
       "      <td>0.045706</td>\n",
       "      <td>-0.056219</td>\n",
       "      <td>0.080203</td>\n",
       "      <td>0.442193</td>\n",
       "      <td>0.125379</td>\n",
       "      <td>0.205564</td>\n",
       "    </tr>\n",
       "    <tr>\n",
       "      <th>117_at</th>\n",
       "      <td>-0.490556</td>\n",
       "      <td>-0.530031</td>\n",
       "      <td>-0.232926</td>\n",
       "      <td>-0.337577</td>\n",
       "      <td>-0.262080</td>\n",
       "      <td>-0.540250</td>\n",
       "      <td>-0.288228</td>\n",
       "      <td>-0.120475</td>\n",
       "      <td>1.085317</td>\n",
       "      <td>0.878655</td>\n",
       "      <td>...</td>\n",
       "      <td>-0.003613</td>\n",
       "      <td>-0.371451</td>\n",
       "      <td>0.026594</td>\n",
       "      <td>-0.659379</td>\n",
       "      <td>-0.328549</td>\n",
       "      <td>0.166231</td>\n",
       "      <td>0.012716</td>\n",
       "      <td>-0.356936</td>\n",
       "      <td>-0.366887</td>\n",
       "      <td>-0.202251</td>\n",
       "    </tr>\n",
       "    <tr>\n",
       "      <th>121_at</th>\n",
       "      <td>0.418026</td>\n",
       "      <td>0.364847</td>\n",
       "      <td>0.042362</td>\n",
       "      <td>0.240113</td>\n",
       "      <td>0.130720</td>\n",
       "      <td>-0.343165</td>\n",
       "      <td>-0.322852</td>\n",
       "      <td>-0.461611</td>\n",
       "      <td>0.073949</td>\n",
       "      <td>-0.027296</td>\n",
       "      <td>...</td>\n",
       "      <td>0.021700</td>\n",
       "      <td>0.298814</td>\n",
       "      <td>0.000417</td>\n",
       "      <td>0.330612</td>\n",
       "      <td>0.585598</td>\n",
       "      <td>0.210887</td>\n",
       "      <td>0.036463</td>\n",
       "      <td>-0.083972</td>\n",
       "      <td>-0.058733</td>\n",
       "      <td>0.191626</td>\n",
       "    </tr>\n",
       "    <tr>\n",
       "      <th>1255_g_at</th>\n",
       "      <td>0.018335</td>\n",
       "      <td>-0.022187</td>\n",
       "      <td>-0.115002</td>\n",
       "      <td>0.020611</td>\n",
       "      <td>-0.025980</td>\n",
       "      <td>0.090351</td>\n",
       "      <td>-0.019693</td>\n",
       "      <td>-0.088959</td>\n",
       "      <td>0.170104</td>\n",
       "      <td>-0.246015</td>\n",
       "      <td>...</td>\n",
       "      <td>-0.123951</td>\n",
       "      <td>0.017269</td>\n",
       "      <td>0.065775</td>\n",
       "      <td>0.025562</td>\n",
       "      <td>0.015776</td>\n",
       "      <td>0.108846</td>\n",
       "      <td>0.299192</td>\n",
       "      <td>0.041912</td>\n",
       "      <td>-0.028842</td>\n",
       "      <td>0.091189</td>\n",
       "    </tr>\n",
       "  </tbody>\n",
       "</table>\n",
       "<p>5 rows × 102 columns</p>\n",
       "</div>"
      ],
      "text/plain": [
       "           GSM25349.CEL.gz  GSM25350.CEL.gz  GSM25356.CEL.gz  GSM25357.CEL.gz  \\\n",
       "1007_s_at         0.365059        -0.012149        -0.327827        -0.116687   \n",
       "1053_at          -0.136032        -0.257178        -0.027254         0.347260   \n",
       "117_at           -0.490556        -0.530031        -0.232926        -0.337577   \n",
       "121_at            0.418026         0.364847         0.042362         0.240113   \n",
       "1255_g_at         0.018335        -0.022187        -0.115002         0.020611   \n",
       "\n",
       "           GSM25358.CEL.gz  GSM25359.CEL.gz  GSM25360.CEL.gz  GSM25361.CEL.gz  \\\n",
       "1007_s_at        -0.170685        -0.220769        -0.211580        -0.198109   \n",
       "1053_at           0.197144         0.053000        -0.324497        -0.238930   \n",
       "117_at           -0.262080        -0.540250        -0.288228        -0.120475   \n",
       "121_at            0.130720        -0.343165        -0.322852        -0.461611   \n",
       "1255_g_at        -0.025980         0.090351        -0.019693        -0.088959   \n",
       "\n",
       "           GSM25377.CEL.gz  GSM25378.CEL.gz        ...         \\\n",
       "1007_s_at        -0.035849         0.096327        ...          \n",
       "1053_at          -0.337195         0.292678        ...          \n",
       "117_at            1.085317         0.878655        ...          \n",
       "121_at            0.073949        -0.027296        ...          \n",
       "1255_g_at         0.170104        -0.246015        ...          \n",
       "\n",
       "           GSM48658.CEL.gz  GSM48660.CEL.gz  GSM48661.CEL.gz  GSM48662.CEL.gz  \\\n",
       "1007_s_at         0.239554         0.296144         0.356331         0.608040   \n",
       "1053_at          -0.008531         0.311485        -0.667259         0.013964   \n",
       "117_at           -0.003613        -0.371451         0.026594        -0.659379   \n",
       "121_at            0.021700         0.298814         0.000417         0.330612   \n",
       "1255_g_at        -0.123951         0.017269         0.065775         0.025562   \n",
       "\n",
       "           GSM48663.CEL.gz  GSM48664.CEL.gz  GSM48665.CEL.gz  \\\n",
       "1007_s_at        -0.280956         0.141330        -0.013254   \n",
       "1053_at           0.045706        -0.056219         0.080203   \n",
       "117_at           -0.328549         0.166231         0.012716   \n",
       "121_at            0.585598         0.210887         0.036463   \n",
       "1255_g_at         0.015776         0.108846         0.299192   \n",
       "\n",
       "           GSM136725.CEL.gz  GSM136726.CEL.gz  GSM136727.CEL.gz  \n",
       "1007_s_at          0.226624          0.547526         -0.128887  \n",
       "1053_at            0.442193          0.125379          0.205564  \n",
       "117_at            -0.356936         -0.366887         -0.202251  \n",
       "121_at            -0.083972         -0.058733          0.191626  \n",
       "1255_g_at          0.041912         -0.028842          0.091189  \n",
       "\n",
       "[5 rows x 102 columns]"
      ]
     },
     "execution_count": 40,
>>>>>>> 78f754b2a7dcc64bee2906766889a9cea64d03b3
     "metadata": {},
     "output_type": "execute_result"
    }
   ],
   "source": [
<<<<<<< HEAD
    "election.shape"
=======
    "data = exprsCEU.apply(lambda x: x - exprsCEU.mean(axis=1), axis = 0)\n",
    "data.head()"
   ]
  },
  {
   "cell_type": "markdown",
   "metadata": {},
   "source": [
    "Using this mean normalized gene expression data, compute the projection to the first Principal Component (PC1).  \n",
    "\n",
    "**Hint**: Use the `numpy.linalg.svd()` function in the `numpy.linalg` module (or the `scipy.linalg.svd()` function in the `scipy.linalg` module) to apply an [singular value decomposition](http://en.wikipedia.org/wiki/Singular_value_decomposition) to a matrix.  "
   ]
  },
  {
   "cell_type": "code",
   "execution_count": 41,
   "metadata": {
    "collapsed": false
   },
   "outputs": [],
   "source": [
    "U, s, Vh = np.linalg.svd(data)\n",
    "V = Vh.T"
   ]
  },
  {
   "cell_type": "code",
   "execution_count": 42,
   "metadata": {
    "collapsed": false
   },
   "outputs": [
    {
     "data": {
      "text/plain": [
       "array([[ -4.12011443e-02,   1.39056054e-01,  -1.20154373e-02, ...,\n",
       "          5.32149743e-02,  -2.11188883e-03,  -9.90147543e-02],\n",
       "       [ -4.66791649e-02,   1.31566110e-01,  -3.00833169e-02, ...,\n",
       "         -4.82552635e-02,   9.42426142e-03,  -9.90147543e-02],\n",
       "       [  2.32303488e-02,   1.07607285e-01,   1.38915004e-01, ...,\n",
       "          9.32259148e-04,  -6.25695856e-03,  -9.90147543e-02],\n",
       "       ..., \n",
       "       [ -1.27439157e-01,  -9.90924019e-02,  -8.81361622e-02, ...,\n",
       "          1.23520692e-02,  -1.44346151e-02,  -9.90147543e-02],\n",
       "       [ -1.94764682e-01,  -9.77550944e-02,  -1.06797188e-01, ...,\n",
       "          6.82929581e-03,  -6.90918521e-03,  -9.90147543e-02],\n",
       "       [ -1.86414500e-01,   1.19369341e-01,  -3.20355087e-02, ...,\n",
       "         -1.09586858e-02,  -1.25395225e-04,  -9.90147543e-02]])"
      ]
     },
     "execution_count": 42,
     "metadata": {},
     "output_type": "execute_result"
    }
   ],
   "source": [
    "V"
   ]
  },
  {
   "cell_type": "markdown",
   "metadata": {},
   "source": [
    "Create a histogram using the values from PC1.  Use a bin size of 25.  "
   ]
  },
  {
   "cell_type": "code",
   "execution_count": 43,
   "metadata": {
    "collapsed": false
   },
   "outputs": [
    {
     "data": {
      "text/plain": [
       "<matplotlib.text.Text at 0xdc92be0>"
      ]
     },
     "execution_count": 43,
     "metadata": {},
     "output_type": "execute_result"
    },
    {
     "data": {
      "image/png": "iVBORw0KGgoAAAANSUhEUgAAAYgAAAEZCAYAAACNebLAAAAABHNCSVQICAgIfAhkiAAAAAlwSFlz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\n",
      "text/plain": [
       "<matplotlib.figure.Figure at 0x8301eb8>"
      ]
     },
     "metadata": {},
     "output_type": "display_data"
    }
   ],
   "source": [
    "plt.hist(V[:,0], bins = 25)\n",
    "plt.xlabel('PC1')\n",
    "plt.ylabel('Frequency')\n",
    "plt.title('Distribution of the values from PC1')"
   ]
  },
  {
   "cell_type": "markdown",
   "metadata": {},
   "source": [
    "Create a scatter plot with the days since October 31, 2002 on the x-axis and PC1 on the y-axis."
   ]
  },
  {
   "cell_type": "code",
   "execution_count": 12,
   "metadata": {
    "collapsed": false
   },
   "outputs": [],
   "source": [
    "#your code here"
   ]
  },
  {
   "cell_type": "markdown",
   "metadata": {},
   "source": [
    "Around what day do you notice a difference in the way the samples were processed?"
   ]
  },
  {
   "cell_type": "code",
   "execution_count": 13,
   "metadata": {
    "collapsed": false
   },
   "outputs": [],
   "source": [
    "#your code here"
   ]
  },
  {
   "cell_type": "markdown",
   "metadata": {},
   "source": [
    "Answer:"
   ]
  },
  {
   "cell_type": "markdown",
   "metadata": {},
   "source": [
    "## Discussion for Problem 1\n",
    "\n",
    "*Write a brief discussion of your conclusions to the questions and tasks above in 100 words or less.*\n",
    "\n",
    "---\n"
   ]
  },
  {
   "cell_type": "markdown",
   "metadata": {},
   "source": [
    "## Problem 2: Is there a pollster bias in presidential election polls?"
   ]
  },
  {
   "cell_type": "markdown",
   "metadata": {},
   "source": [
    "#### Problem 2(a)\n",
    "\n",
    "The [HuffPost Pollster](http://elections.huffingtonpost.com/pollster) contains many political polls. You can access these polls from individual races as a CSV but you can also access polls through the [HuffPost Pollster API](http://elections.huffingtonpost.com/pollster/api) to access the data.  \n",
    "\n",
    "Read in the polls from the [2012 Presidential Election: Barack Obama vs Mitt Romney](http://elections.huffingtonpost.com/pollster/2012-general-election-romney-vs-obama) into a pandas DataFrame called `election`. For this problem, you may read in the polls for this race directly using [the CSV file](http://elections.huffingtonpost.com/pollster/2012-general-election-romney-vs-obama.csv) available from the HuffPost Pollster page."
   ]
  },
  {
   "cell_type": "code",
   "execution_count": 14,
   "metadata": {
    "collapsed": false
   },
   "outputs": [],
   "source": [
    "#your code here"
   ]
  },
  {
   "cell_type": "markdown",
   "metadata": {},
   "source": [
    "Show the head of the `election` DataFrame. "
   ]
  },
  {
   "cell_type": "code",
   "execution_count": 15,
   "metadata": {
    "collapsed": false
   },
   "outputs": [],
   "source": [
    "#your code here"
   ]
  },
  {
   "cell_type": "markdown",
   "metadata": {},
   "source": [
    "How many polls were conducted in November? Define this number as M.  \n",
    "\n",
    "**Hint**: Subset the `election` DataFrame for only dates in the `Start Date` column that are in November 2012.  "
   ]
  },
  {
   "cell_type": "code",
   "execution_count": 16,
   "metadata": {
    "collapsed": false
   },
   "outputs": [],
   "source": [
    "#your code here"
   ]
  },
  {
   "cell_type": "markdown",
   "metadata": {},
   "source": [
    "Answer:"
   ]
  },
  {
   "cell_type": "markdown",
   "metadata": {},
   "source": [
    "What was the median of the number of observations in the November polls? Define this quantity as N. "
   ]
  },
  {
   "cell_type": "code",
   "execution_count": 17,
   "metadata": {
    "collapsed": false
   },
   "outputs": [],
   "source": [
    "#your code here"
   ]
  },
  {
   "cell_type": "markdown",
   "metadata": {},
   "source": [
    "Answer: "
   ]
  },
  {
   "cell_type": "markdown",
   "metadata": {},
   "source": [
    "#### Problem 2(b)\n",
    "\n",
    "Using the median sample size $N$ from Problem 1(a), simulate the results from a single poll:  simulate the number of votes for Obama out of a sample size $N$ where $p$ = 0.53 is the percent of voters who are voting for Obama.  \n",
    "\n",
    "**Hint**: Use the binomial distribution with parameters $N$ and $p$ = 0.53. "
   ]
  },
  {
   "cell_type": "code",
   "execution_count": 18,
   "metadata": {
    "collapsed": false
   },
   "outputs": [],
   "source": [
    "#your code here"
   ]
  },
  {
   "cell_type": "markdown",
   "metadata": {},
   "source": [
    "Now, perform a Monte Carlo simulation to obtain the estimated percentage of Obama votes with a sample size $N$ where $N$ is the median sample size calculated in Problem 2(a). Let $p$=0.53 be the percent of voters are voting for Obama. \n",
    "\n",
    "**Hint**: You will repeat the simulation above 1,000 times and plot the distribution of the estimated *percent* of Obama votes from a single poll.  The results from the single poll you simulate is random variable and will be different every time you sample. "
   ]
  },
  {
   "cell_type": "code",
   "execution_count": 19,
   "metadata": {
    "collapsed": false
   },
   "outputs": [],
   "source": [
    "#your code here"
   ]
  },
  {
   "cell_type": "markdown",
   "metadata": {},
   "source": [
    "Plot the distribution of the estimated percentage of Obama votes from your single poll. What is the distribution of the estimated percentage of Obama votes? "
   ]
  },
  {
   "cell_type": "code",
   "execution_count": 20,
   "metadata": {
    "collapsed": false
   },
   "outputs": [],
   "source": [
    "#your code here"
   ]
  },
  {
   "cell_type": "markdown",
   "metadata": {},
   "source": [
    "Answer: "
   ]
  },
  {
   "cell_type": "markdown",
   "metadata": {},
   "source": [
    "What is the standard error (SE) of the estimated percentage from the poll. \n",
    "\n",
    "**Hint**: Remember the SE is the standard deviation (SD) of the distribution of a random variable. "
   ]
  },
  {
   "cell_type": "code",
   "execution_count": 21,
   "metadata": {
    "collapsed": false
   },
   "outputs": [],
   "source": [
    "#your code here"
   ]
  },
  {
   "cell_type": "markdown",
   "metadata": {},
   "source": [
    "#### Problem 2(c)\n",
    "\n",
    "Now suppose we run M polls where M is the number of polls that happened in November (calculated in Problem 2(a)). Run 1,000 simulations and compute the mean of the M polls for each simulation. "
   ]
  },
  {
   "cell_type": "code",
   "execution_count": 22,
   "metadata": {
    "collapsed": false
   },
   "outputs": [],
   "source": [
    "#your code here"
   ]
  },
  {
   "cell_type": "markdown",
   "metadata": {},
   "source": [
    "What is the distribution of the average of polls?\n",
    "\n",
    "**Hint**: Show a plot. "
   ]
  },
  {
   "cell_type": "code",
   "execution_count": 23,
   "metadata": {
    "collapsed": false
   },
   "outputs": [],
   "source": [
    "#your code here"
   ]
  },
  {
   "cell_type": "markdown",
   "metadata": {},
   "source": [
    "Answer: "
   ]
  },
  {
   "cell_type": "markdown",
   "metadata": {},
   "source": [
    "What is the standard error (SE) of the average of polls? "
   ]
  },
  {
   "cell_type": "code",
   "execution_count": 24,
   "metadata": {
    "collapsed": false
   },
   "outputs": [],
   "source": [
    "#your code here"
   ]
  },
  {
   "cell_type": "markdown",
   "metadata": {},
   "source": [
    "Answer: "
   ]
  },
  {
   "cell_type": "markdown",
   "metadata": {},
   "source": [
    "Is the SE of the average of polls larger, the same, or smaller than that the SD of a single poll (calculated in Problem 2(b))? By how much?\n",
    "\n",
    "**Hint**: Compute a ratio of the two quantities.  "
   ]
  },
  {
   "cell_type": "code",
   "execution_count": 25,
   "metadata": {
    "collapsed": false
   },
   "outputs": [],
   "source": [
    "#your code here"
   ]
  },
  {
   "cell_type": "markdown",
   "metadata": {},
   "source": [
    "Answer: "
   ]
  },
  {
   "cell_type": "markdown",
   "metadata": {},
   "source": [
    "#### Problem 2(d) \n",
    "\n",
    "Repeat Problem 2(c) but now record the *across poll* standard deviation in each simulation. "
   ]
  },
  {
   "cell_type": "code",
   "execution_count": 26,
   "metadata": {
    "collapsed": false
   },
   "outputs": [],
   "source": [
    "#your code here"
   ]
  },
  {
   "cell_type": "markdown",
   "metadata": {},
   "source": [
    "What is the distribution of the *across M polls* standard deviation?\n",
    "\n",
    "**Hint**: Show a plot. "
   ]
  },
  {
   "cell_type": "code",
   "execution_count": 27,
   "metadata": {
    "collapsed": false
   },
   "outputs": [],
   "source": [
    "#your code here"
   ]
  },
  {
   "cell_type": "markdown",
   "metadata": {},
   "source": [
    "Answer: "
   ]
  },
  {
   "cell_type": "markdown",
   "metadata": {},
   "source": [
    "#### Problem 2(e) \n",
    "\n",
    "What is the standard deviation of M polls in our real (not simulated) 2012 presidential election data ? "
   ]
  },
  {
   "cell_type": "code",
   "execution_count": 28,
   "metadata": {
    "collapsed": false
   },
   "outputs": [],
   "source": [
    "#your code here"
   ]
  },
  {
   "cell_type": "markdown",
   "metadata": {},
   "source": [
    "Is this larger, the same, or smaller than what we expeced if polls were not biased."
   ]
  },
  {
   "cell_type": "code",
   "execution_count": 29,
   "metadata": {
    "collapsed": false
   },
   "outputs": [],
   "source": [
    "#your code here"
   ]
  },
  {
   "cell_type": "markdown",
   "metadata": {},
   "source": [
    "Answer: "
   ]
  },
  {
   "cell_type": "markdown",
   "metadata": {},
   "source": [
    "#### Problem 2(f)\n",
    "\n",
    "**For AC209 Students**: Learn about the normal approximation for the binomial distribution and derive the results of Problem 2(b) and 2(c) analytically (using this approximation). Compare the results obtained analytically to those obtained from simulations."
   ]
  },
  {
   "cell_type": "code",
   "execution_count": 30,
   "metadata": {
    "collapsed": false
   },
   "outputs": [],
   "source": [
    "#your code here"
   ]
  },
  {
   "cell_type": "markdown",
   "metadata": {},
   "source": [
    "Answer: "
   ]
  },
  {
   "cell_type": "markdown",
   "metadata": {},
   "source": [
    "## Discussion for Problem 2\n",
    "\n",
    "*Write a brief discussion of your conclusions to the questions and tasks above in 100 words or less.*\n",
    "\n",
    "---\n"
   ]
  },
  {
   "cell_type": "markdown",
   "metadata": {},
   "source": [
    "## Problem 3: Is the average of polls better than just one poll?"
   ]
  },
  {
   "cell_type": "markdown",
   "metadata": {},
   "source": [
    "#### Problem 3(a)\n",
    "\n",
    "Most undecided voters vote for one of the two candidates at the election. Therefore, the reported percentages underestimate the final value of both candidates. However, if we assume the undecided will split evenly, then the observed difference should be an unbiased estimate of the final difference. \n",
    "\n",
    "Add a new column to the `election` DataFrame containg the difference between Obama and Romeny called `Diff`. "
   ]
  },
  {
   "cell_type": "code",
   "execution_count": 31,
   "metadata": {
    "collapsed": false
   },
   "outputs": [],
   "source": [
    "#your code here"
   ]
  },
  {
   "cell_type": "markdown",
   "metadata": {},
   "source": [
    "#### Problem 3(b)\n",
    "\n",
    "Make a plot of the differences for the week before the election (e.g. 5 days) where the days are on the x-axis and the differences are on the y-axis.  Add a horizontal line showing 3.9%: the difference between Obama and Romney on election day."
   ]
  },
  {
   "cell_type": "code",
   "execution_count": 32,
   "metadata": {
    "collapsed": false
   },
   "outputs": [],
   "source": [
    "#your code here"
>>>>>>> 78f754b2a7dcc64bee2906766889a9cea64d03b3
   ]
  },
  {
   "cell_type": "markdown",
   "metadata": {},
   "source": [
    "#### Problem 3(c) \n",
    "\n",
    "Make a plot showing the differences by pollster where the pollsters are on the x-axis and the differences on the y-axis. "
   ]
  },
  {
   "cell_type": "code",
   "execution_count": 33,
   "metadata": {
    "collapsed": false
   },
   "outputs": [],
   "source": [
    "#your code here"
   ]
  },
  {
   "cell_type": "markdown",
   "metadata": {},
   "source": [
    "Is the *across poll* difference larger than the *between pollster* difference? "
   ]
  },
  {
   "cell_type": "markdown",
   "metadata": {},
   "source": [
    "Answer: "
   ]
  },
  {
   "cell_type": "markdown",
   "metadata": {},
   "source": [
    "#### Problem 3(d)\n",
    "\n",
    "Take the average for each pollster and then compute the average of that. Given this difference how confident would you have been of an Obama victory?\n",
    "\n",
    "**Hint**: Compute an estimate of the SE of this average based exclusively on the observed data. "
   ]
  },
  {
   "cell_type": "code",
   "execution_count": 34,
   "metadata": {
    "collapsed": false
   },
   "outputs": [],
   "source": [
    "#your code here"
   ]
  },
  {
   "cell_type": "markdown",
   "metadata": {},
   "source": [
    "Answer: "
   ]
  },
  {
   "cell_type": "markdown",
   "metadata": {},
   "source": [
    "#### Problem 3(e)\n",
    "\n",
    "**For AC209 Students**: Show the difference against time and see if you can detect a trend towards the end. Use this trend to see if it improves the final estimate."
   ]
  },
  {
   "cell_type": "code",
   "execution_count": 35,
   "metadata": {
    "collapsed": false
   },
   "outputs": [],
   "source": [
    "#your code here"
   ]
  },
  {
   "cell_type": "markdown",
   "metadata": {},
   "source": [
    "Answer: "
   ]
  },
  {
   "cell_type": "markdown",
   "metadata": {},
   "source": [
    "## Discussion for Problem 3\n",
    "\n",
    "*Write a brief discussion of your conclusions to the questions and tasks above in 100 words or less.*\n",
    "\n",
    "---\n"
   ]
  },
  {
   "cell_type": "markdown",
   "metadata": {},
   "source": [
    "## Problem 4\n",
    "\n",
    "In this last problem, we will use the polls from the [2014 Senate Midterm Elections](http://elections.huffingtonpost.com/pollster) from the [HuffPost Pollster API](http://elections.huffingtonpost.com/pollster/api) to create a preliminary prediction of the result of each state. \n",
    "\n",
    "The HuffPost Pollster API allows you to access the data as a CSV or a JSON response by tacking \".csv\" or \".json\" at the end of the URLs. For example the 2012 Presidential Election could be accessed as a [.json](http://elections.huffingtonpost.com/pollster/2012-general-election-romney-vs-obama.json) instead of a [.csv](http://elections.huffingtonpost.com/pollster/2012-general-election-romney-vs-obama.csv)"
   ]
  },
  {
   "cell_type": "markdown",
   "metadata": {},
   "source": [
    "#### Problem 4(a)\n",
    "\n",
    "Read in the polls for **all** of the 2014 Senate Elections using the HuffPost API. For example, we can consider the [2014 Senate race in Kentucky between Mitch McConnell and Alison Grimes](http://elections.huffingtonpost.com/pollster/2014-kentucky-senate-mcconnell-vs-grimes). \n",
    "\n",
    "To search for the 2014 Senate races, use the `topics` parameter in the API [[read more about topics here](http://elections.huffingtonpost.com/pollster/api)].  "
   ]
  },
  {
   "cell_type": "code",
   "execution_count": 36,
   "metadata": {
    "collapsed": false
   },
   "outputs": [],
   "source": [
    "url_str = \"http://elections.huffingtonpost.com/pollster/api/charts/?topic=2014-senate\""
   ]
  },
  {
   "cell_type": "markdown",
   "metadata": {},
   "source": [
    "To list all the URLs related to the 2014 Senate races using the pollster API, we can use a list comprehension:"
   ]
  },
  {
   "cell_type": "code",
   "execution_count": 37,
   "metadata": {
    "collapsed": false
   },
   "outputs": [
    {
     "data": {
      "text/plain": [
       "[u'http://elections.huffingtonpost.com/pollster/2014-kentucky-senate-mcconnell-vs-grimes.csv',\n",
       " u'http://elections.huffingtonpost.com/pollster/2014-arkansas-senate-cotton-vs-pryor.csv',\n",
       " u'http://elections.huffingtonpost.com/pollster/2014-michigan-senate-land-vs-peters.csv',\n",
       " u'http://elections.huffingtonpost.com/pollster/2014-louisiana-senate-cassidy-vs-landrieu.csv',\n",
       " u'http://elections.huffingtonpost.com/pollster/2014-new-hampshire-senate-brown-vs-shaheen.csv',\n",
       " u'http://elections.huffingtonpost.com/pollster/2014-west-virginia-senate-capito-vs-tennant.csv',\n",
       " u'http://elections.huffingtonpost.com/pollster/2014-new-hampshire-senate-bass-vs-shaheen.csv',\n",
       " u'http://elections.huffingtonpost.com/pollster/2014-north-carolina-senate-tillis-vs-hagan.csv',\n",
       " u'http://elections.huffingtonpost.com/pollster/2014-virginia-senate-gillespie-vs-warner.csv',\n",
       " u'http://elections.huffingtonpost.com/pollster/2014-colorado-senate-gardner-vs-udall.csv',\n",
       " u'http://elections.huffingtonpost.com/pollster/2014-illinois-senate-oberweis-vs-durbin.csv',\n",
       " u'http://elections.huffingtonpost.com/pollster/2014-alaska-senate-sullivan-vs-begich.csv',\n",
       " u'http://elections.huffingtonpost.com/pollster/2014-iowa-senate-ernst-vs-braley.csv',\n",
       " u'http://elections.huffingtonpost.com/pollster/2014-mississippi-senate-cochran-vs-childers.csv',\n",
       " u'http://elections.huffingtonpost.com/pollster/2014-oregon-senate-wehby-vs-merkley.csv',\n",
       " u'http://elections.huffingtonpost.com/pollster/2014-georgia-senate-perdue-vs-nunn.csv',\n",
       " u'http://elections.huffingtonpost.com/pollster/2014-louisiana-senate-sasse-vs-domina.csv',\n",
       " u'http://elections.huffingtonpost.com/pollster/2014-south-dakota-senate-rounds-vs-weiland.csv',\n",
       " u'http://elections.huffingtonpost.com/pollster/2014-maine-senate-collins-vs-bellows.csv',\n",
       " u'http://elections.huffingtonpost.com/pollster/2014-minnesota-senate-mcfadden-vs-franken.csv',\n",
       " u'http://elections.huffingtonpost.com/pollster/2014-texas-senate-cornyn-vs-alameel.csv',\n",
       " u'http://elections.huffingtonpost.com/pollster/2014-south-carolina-senate-graham-vs-hutto.csv',\n",
       " u'http://elections.huffingtonpost.com/pollster/2014-south-carolina-senate-scott-vs-dickerson.csv',\n",
       " u'http://elections.huffingtonpost.com/pollster/2014-oklahoma-senate-inhofe-vs-silverstein.csv',\n",
       " u'http://elections.huffingtonpost.com/pollster/2014-new-mexico-senate-weh-vs-udall.csv',\n",
       " u'http://elections.huffingtonpost.com/pollster/2014-new-jersey-senate-bell-vs-booker.csv',\n",
       " u'http://elections.huffingtonpost.com/pollster/2014-idaho-senate-risch-vs-mitchell.csv',\n",
       " u'http://elections.huffingtonpost.com/pollster/2014-tennessee-senate-alexander-vs-ball.csv',\n",
       " u'http://elections.huffingtonpost.com/pollster/2014-wyoming-senate.csv',\n",
       " u'http://elections.huffingtonpost.com/pollster/2014-kansas-senate-roberts-vs-orman-vs-taylor.csv',\n",
       " u'http://elections.huffingtonpost.com/pollster/2014-hawaii-senate-cavasso-vs-schatz.csv',\n",
       " u'http://elections.huffingtonpost.com/pollster/2014-oklahoma-senate-lankford-vs-johnson.csv',\n",
       " u'http://elections.huffingtonpost.com/pollster/2014-montana-senate-daines-vs-curtis.csv',\n",
       " u'http://elections.huffingtonpost.com/pollster/2014-rhode-island-senate-zaccaria-vs-reed.csv',\n",
       " u'http://elections.huffingtonpost.com/pollster/2014-massachusetts-senate-herr-vs-markey.csv',\n",
       " u'http://elections.huffingtonpost.com/pollster/2014-delaware-senate-wade-vs-coons.csv']"
      ]
     },
     "execution_count": 37,
     "metadata": {},
     "output_type": "execute_result"
    }
   ],
   "source": [
    "election_urls = [election['url'] + '.csv' for election in requests.get(url_str).json()]\n",
    "election_urls"
   ]
  },
  {
   "cell_type": "markdown",
   "metadata": {},
   "source": [
    "Because there so many Senate races, we can create a dictionary of pandas DataFrames that will be keyed by the name of the election (a string). "
   ]
  },
  {
   "cell_type": "code",
   "execution_count": 38,
   "metadata": {
    "collapsed": false
   },
   "outputs": [],
   "source": [
    "def build_frame(url):\n",
    "    \"\"\"\n",
    "    Returns a pandas DataFrame object containing\n",
    "    the data returned from the given url\n",
    "    \"\"\"\n",
    "    source = requests.get(url).text\n",
    "    \n",
    "    # Use StringIO because pd.DataFrame.from_csv requires .read() method\n",
    "    s = StringIO(source)\n",
    "    \n",
    "    return pd.DataFrame.from_csv(s, index_col=None).convert_objects(\n",
    "            convert_dates=\"coerce\", convert_numeric=True)"
   ]
  },
  {
   "cell_type": "code",
   "execution_count": 39,
   "metadata": {
    "collapsed": false
   },
   "outputs": [],
   "source": [
    "# Makes a dictionary of pandas DataFrames keyed on election string.\n",
    "dfs = dict((election.split(\"/\")[-1][:-4], build_frame(election)) for election in election_urls)"
   ]
  },
  {
   "cell_type": "markdown",
   "metadata": {},
   "source": [
    "Show the head of the DataFrame containing the polls for the 2014 Senate race in Kentucky between McConnell and Grimes."
   ]
  },
  {
   "cell_type": "code",
   "execution_count": 40,
   "metadata": {
    "collapsed": false
   },
   "outputs": [],
   "source": [
    "#your code here"
   ]
  },
  {
   "cell_type": "markdown",
   "metadata": {},
   "source": [
    "#### Problem 4(b)\n",
    "\n",
    "For each 2014 Senate race, create a preliminary prediction of the result for that state."
   ]
  },
  {
   "cell_type": "code",
   "execution_count": 42,
   "metadata": {
    "collapsed": false
   },
   "outputs": [],
   "source": [
    "#your code here"
   ]
  },
  {
   "cell_type": "markdown",
   "metadata": {},
   "source": [
    "# Submission Instructions\n",
    "\n",
    "To submit your homework, create a folder named **lastname_firstinitial_hw#** and place your IPython notebooks, data files, and any other files in this folder. Your IPython Notebooks should be completely executed with the results visible in the notebook. We should not have to run any code.  Compress the folder (please use .zip compression) and submit to the CS109 dropbox in the appropriate folder. *If we cannot access your work because these directions are not followed correctly, we will not grade your work.*\n"
   ]
  },
  {
   "cell_type": "code",
   "execution_count": null,
   "metadata": {
    "collapsed": false
   },
   "outputs": [],
   "source": []
  }
 ],
 "metadata": {
  "kernelspec": {
   "display_name": "Python 2",
   "language": "python",
   "name": "python2"
  },
  "language_info": {
   "codemirror_mode": {
    "name": "ipython",
    "version": 2
   },
   "file_extension": ".py",
   "mimetype": "text/x-python",
   "name": "python",
   "nbconvert_exporter": "python",
   "pygments_lexer": "ipython2",
<<<<<<< HEAD
   "version": "2.7.10"
=======
   "version": "2.7.11"
>>>>>>> 78f754b2a7dcc64bee2906766889a9cea64d03b3
  }
 },
 "nbformat": 4,
 "nbformat_minor": 0
}
