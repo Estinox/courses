{
 "cells": [
  {
   "cell_type": "markdown",
   "metadata": {},
   "source": [
    "# The many faces of the Reverend Bayes: Face 1 Revisited\n",
    "\n",
    "---\n",
    "\n",
    "## ...starting from Face 2 and seeing the  connection...\n",
    "\n",
    "$$\n",
    "\\renewcommand{\\like}{{\\cal L}}\n",
    "\\renewcommand{\\loglike}{{\\ell}}\n",
    "\\renewcommand{\\err}{{\\cal E}}\n",
    "\\renewcommand{\\dat}{{\\cal D}}\n",
    "\\renewcommand{\\hyp}{{\\cal H}}\n",
    "\\renewcommand{\\Ex}[2]{E_{#1}[#2]}\n",
    "\\renewcommand{\\x}{{\\mathbf x}}\n",
    "\\renewcommand{\\v}[1]{{\\mathbf #1}}\n",
    "$$"
   ]
  },
  {
   "cell_type": "code",
   "execution_count": null,
   "metadata": {
    "collapsed": false
   },
   "outputs": [],
   "source": [
    "%matplotlib inline\n",
    "import numpy as np\n",
    "import scipy as sp\n",
    "import matplotlib as mpl\n",
    "import matplotlib.cm as cm\n",
    "import matplotlib.pyplot as plt\n",
    "import pandas as pd\n",
    "pd.set_option('display.width', 500)\n",
    "pd.set_option('display.max_columns', 100)\n",
    "pd.set_option('display.notebook_repr_html', True)\n",
    "import seaborn as sns\n",
    "sns.set_style(\"whitegrid\")\n",
    "sns.set_context(\"poster\")"
   ]
  },
  {
   "cell_type": "markdown",
   "metadata": {},
   "source": [
    "## Linear regression in 1D\n",
    "\n",
    "The goal is to fit a straight line: \n",
    "\n",
    "$$ y = ax+b+\\epsilon$$\n",
    "\n",
    "where $\\epsilon \\sim N(0, \\sigma)$\n",
    "and predict $y$ at various $x$'s. \n",
    "\n",
    "Let ${\\bf x} =(x_1, x_2, \\ldots, x_n)$  and\n",
    "$ {\\bf y} =(y_1, y_2, \\ldots, y_n)$ are the actual data. \n",
    "\n",
    "Using Bayesian formalism, we want to estimate the posteriors of the parameter\n",
    "$\\theta =a$ assuming $b=0$. \n",
    "\n",
    "We use  priors $a \\sim N(0, \\sigma_a)$.\n",
    "\n",
    " \n",
    "The implementation below estimates the posterior using Bayes rule  and also samples \n",
    "directly from the product of the likelihood (same as the one in the MLE section above) and prior using the rejection method. \n",
    "\n",
    "Using priors with mean 0 and $\\sigma_a^2=4$. $a \\sim N(0, \\sigma_a)$"
   ]
  },
  {
   "cell_type": "code",
   "execution_count": null,
   "metadata": {
    "collapsed": false
   },
   "outputs": [],
   "source": [
    "## GENERATE SYNTHETIC DATA\n",
    "n=9\n",
    "a = 1.2 # SLOPE\n",
    "b = 0 # INTERSECTION \n",
    "\n",
    "s = 1.5 # STD OF ERROR \n",
    "\n",
    "x = np.random.uniform(low=-3, high=7, size=n) \n",
    "y = a*x+ b + s*np.random.randn(n)\n",
    "\n",
    "#plt.subplot(2,2,2) \n",
    "plt.errorbar(x,y, yerr=s, fmt='o')\n",
    "plt.xlabel('x')\n",
    "plt.ylabel('y')\n",
    "\n",
    "xr = np.linspace(-3, 7, 100) \n",
    "plt.plot(xr, a*xr)"
   ]
  },
  {
   "cell_type": "markdown",
   "metadata": {},
   "source": [
    "We plot the prior and the likelihood."
   ]
  },
  {
   "cell_type": "code",
   "execution_count": null,
   "metadata": {
    "collapsed": false
   },
   "outputs": [],
   "source": [
    "# ======================================\n",
    "## PLOT THE PDF OF THE PRIOR\n",
    "# ======================================\n",
    "I = np.eye(2)\n",
    "\n",
    "## PRIOR \n",
    "sig2 = 4   # WIDTH OF THE PRIOR\n",
    "\n",
    "p_w = lambda (w) : (1/np.sqrt(2*np.pi*sig2))*np.exp( - (w**2)/(2*sig2))\n",
    "\n",
    "asp = np.linspace(-5,5, 100)\n",
    "\n",
    "P=p_w(asp)\n",
    "\n",
    "plt.plot(asp, P)\n",
    "plt.xlabel('slope (a)')\n",
    "plt.title('Prior for a')"
   ]
  },
  {
   "cell_type": "markdown",
   "metadata": {},
   "source": [
    "Note that the product in the gaussians is taken into the exponential as a sum."
   ]
  },
  {
   "cell_type": "code",
   "execution_count": null,
   "metadata": {
    "collapsed": false
   },
   "outputs": [],
   "source": []
  },
  {
   "cell_type": "code",
   "execution_count": null,
   "metadata": {
    "collapsed": false
   },
   "outputs": [],
   "source": [
    "N=1000\n",
    "asp = np.linspace(-1,3, N)\n",
    "\n",
    "p_l = lambda (asp) : (1/np.sqrt(2*np.pi*s**2))*np.exp( - (np.sum( x*x*(y/x-asp)**2)/(2*s**2)))\n",
    "\n",
    "P=np.zeros(N)\n",
    "\n",
    "for k in np.arange(0, asp.size):\n",
    "    P[k] = p_l(asp[k])\n",
    "\n",
    "\n",
    "plt.subplot(2,2,1)\n",
    "plt.plot(asp, P)\n",
    "plt.xlabel('slope')\n",
    "plt.ylabel('Likelihood')\n",
    "\n",
    "plt.title('Likelihood');"
   ]
  },
  {
   "cell_type": "markdown",
   "metadata": {},
   "source": [
    "###Sampling for posterior\n",
    "\n",
    "We use a Monte-Carlo method, rejection sampling, to sample from the posterior..we sample a box around it and reject all those samples that dont fall below the curve."
   ]
  },
  {
   "cell_type": "code",
   "execution_count": null,
   "metadata": {
    "collapsed": false
   },
   "outputs": [],
   "source": [
    "ysp"
   ]
  },
  {
   "cell_type": "code",
   "execution_count": null,
   "metadata": {
    "collapsed": false
   },
   "outputs": [],
   "source": [
    "N=30000\n",
    "asp = np.random.uniform(low=-10, high=10, size=N)\n",
    "\n",
    "post = lambda(wsp): p_l(wsp) * p_w(wsp) \n",
    "\n",
    "ptr = np.zeros(N)\n",
    "\n",
    "for k in np.arange(0, N):\n",
    "    ptr[k]= post(asp[k]) \n",
    "\n",
    "ysp =  np.random.uniform(low=0, high=np.max(ptr), size=N)\n",
    "    \n",
    "idx = (ysp<ptr)\n",
    "\n",
    "g=plt.hist(asp[idx], 20);\n",
    "\n",
    "plt.title('Posterior');"
   ]
  },
  {
   "cell_type": "markdown",
   "metadata": {},
   "source": [
    "We didnt need to do this here because the posterior is a gaussian, but in real life, most posteriors are not conjugates. And they dont have closed forms. We then need to sample in some fashion. Here we used rejection sampling, but we could equally well use MCMC, etc."
   ]
  },
  {
   "cell_type": "markdown",
   "metadata": {},
   "source": [
    "## The Bayesian formulation of regression and the posterior predictive distribution"
   ]
  },
  {
   "cell_type": "markdown",
   "metadata": {},
   "source": [
    "(taken from Am207 class notes)\n",
    "\n",
    "In the linear regression model we have data $D$, of $n$ observations  \n",
    "$D=\\left\\{ ({\\bf x}_1, y_1), ({\\bf x}_2,y_2), \\ldots, ({\\bf x}_n, y_n) \\right\\} $ where ${\\bf x}$ \n",
    "denotes an input vector of dimension $D$ and $y$ denotes a scalar output (dependent variable). \n",
    "All data points are combined into a $D \\times n$ matrix $X$. \n",
    "The model that determines the relationship between inputs and \n",
    "output is given by\n",
    "\n",
    "$$ y   = \\bf x^{T} {\\bf w} + \\epsilon $$\n",
    "\n",
    "where ${\\bf w}$ is a vector of parameters of the linear model. Usually there is \n",
    "a bias or offset is included, but for now we ignore it. \n",
    "\n",
    "We assume that the additive noise  $\\epsilon$ is iid Gaussian with\n",
    "zero mean and variance $\\sigma_n^2$ \n",
    "\n",
    "$$ \\epsilon \\sim N(0, \\sigma^2_n) $$\n",
    "\n",
    "###Likelihood\n",
    "\n",
    "The likelihood is, because we assume independency, the product \n",
    "\n",
    "\\begin{eqnarray} L &=& p(\\bf y|X,\\bf w) = \\prod_{i=1}^{n} p(y_i|\\bf X_i, \\bf w) = \\frac{1}{\\sqrt{2\\pi}\\sigma_n}  \\prod_{i=1}^{n} \n",
    "   \\exp{ \\left( -\\frac{(y_i-\\bf X_i^T \\bf w)^2}{2\\sigma_n^2} \\right)}  \\nonumber \\\\ \n",
    "   &=& \\frac{1}{\\sqrt{2\\pi}\\sigma_n} \\exp{\\left( -\\frac{| \\bf y-X^T \\bf w|^2 }{2\\sigma_n^2} \\right)} = N(X^T \\bf w,  \\sigma_n^2 I)\n",
    "   \\end{eqnarray}\n",
    "   \n",
    "where $|x|$ denotes the Euclidean length of vector $\\bf x$. \n",
    "\n",
    "An alternative way of expressing the likelihood, which is convenient\n",
    "when sampling ${\\bf w}$'s:\n",
    "\n",
    "\\begin{eqnarray} \n",
    "p(\\bf y|\\bf X,\\bf w) &=& \\frac{1}{\\sqrt{2\\pi}\\sigma_n} \\exp{\\left( -\\frac{| X^{-1} \\bf y- \\bf w|^2 \\,\\, (X^{-1} (X^{-1})^{T}) }{2\\sigma_n^2} \\right)} = N(X^{-1} \\bf y,  \\sigma_n^2 (X^{-1} (X^{-1})^{T}) )\n",
    "   \\end{eqnarray}\n",
    "\n",
    "###Prior\n",
    "\n",
    "In the Bayesian framework inference we need to specify a prior\n",
    "over the parameters that expresses our belief about the parameters\n",
    "before we take any measurements. A wise choice is a zero mean \n",
    "Gaussian with covariance matrix $\\Sigma$ \n",
    "\n",
    "\\begin{equation}\n",
    " \\bf w \\sim N(0, \\Sigma) \n",
    "\\end{equation}\n",
    "\n",
    "\n",
    "###Posterior\n",
    "We can now continue with the standard Bayesian formalism \n",
    "\n",
    "\\begin{eqnarray}\n",
    " p(\\bf w| \\bf y,X) &\\propto& p(\\bf y | X, \\bf w) \\, p(\\bf w) \\nonumber \\\\\n",
    "                       &\\propto& \\exp{ \\left(- \\frac{1}{2 \\sigma_n^2}(\\bf y-X^T \\bf w)^T(\\bf y - X^T \\bf w) \\right)}\n",
    "                        \\exp{\\left( -\\frac{1}{2} \\bf w^T \\Sigma^{-1} \\bf w \\right)}  \\nonumber \\\\ \n",
    " \\end{eqnarray}\n",
    " \n",
    "In the next step we `complete the square' and obtain \n",
    "\n",
    "\\begin{equation}\n",
    "p(\\bf w| \\bf y,X)  \\propto  \\exp \\left( -\\frac{1}{2} (\\bf w - \\bar{\\bf w})^T  (\\frac{1}{\\sigma_n^2} X X^T + \\Sigma^{-1})(\\bf w - \\bar{\\bf w} )  \\right)\n",
    "\\end{equation}\n",
    "\n",
    "where $\\bar{\\bf w} = \\sigma_n^{-2}( \\sigma_n^{-2}XX^T +\\Sigma^{-1})^{-1} X \\bf y $\n",
    "\n",
    "This looks like a Gaussian and therefore the posterior is\n",
    "\n",
    "$$ p(\\bf w| X, {\\bf y}) \\sim {\\cal N}( \\frac{1}{\\sigma_n^2} A^{-1}Xy , A^{-1} ) $$ \n",
    "\n",
    "where $A= \\sigma_n^{-2}XX^T +\\Sigma^{-1}$\n",
    "\n",
    "To make predictions for a test case we average over all possible parameter predictive distribution\n",
    "values, weighted by their posterior probability. This is in contrast to non Bayesian schemes, where a single parameter is typically chosen by some criterion. \n",
    "\n",
    "###Regularization\n",
    "\n",
    "If we assume that $\\Sigma$ is a diagonal covariance matrix so that\n",
    "\n",
    "$$\\bf w \\sim N(0, \\alpha \\bf I)$$\n",
    "\n",
    "then we get back alpha as the regularization parameter from ridge regression, since our \"estimation risk\" is just the log of the gaussian, and terms in exponents add!!\n",
    "\n",
    "Similarly Lasso comes from a laplace prior.\n",
    "\n",
    "###Posterior Predictive Distribution\n",
    "\n",
    "Thus the predictive distribution at some $x^{*}$ is given by averaging the output of all possible linear models w.r.t. the  posterior\n",
    "\n",
    "\\begin{eqnarray} \n",
    "p(y^{*} | x^{*}, {\\bf x,y}) &=& \\int p({\\bf y}^{*}| {\\bf x}^{*}, {\\bf w} ) p(\\bf w| X, y)dw \\nonumber \\\\\n",
    "                                    &=& {\\cal N} \\left(\\frac{1}{\\sigma_n^2} x^{*^{T}} A^{-1} X {\\bf y}, x^{*^T}A^{-1}x^{*} \\right),\n",
    "\\end{eqnarray}\n",
    "\n",
    "which is again Gaussian, with a mean given by the posterior mean multiplied by the test input\n",
    "and the variance is a quadratic\n",
    "form of the test input with the posterior covariance matrix, showing that the\n",
    "predictive uncertainties grow with the magnitude of the test input, as one would\n",
    "expect for a linear model. "
   ]
  },
  {
   "cell_type": "code",
   "execution_count": null,
   "metadata": {
    "collapsed": false
   },
   "outputs": [],
   "source": [
    "a0=-0.3\n",
    "a1=0.5\n",
    "N=20\n",
    "noiseSD=0.2\n",
    "priorPrecision=2.0\n",
    "u=np.random.rand(20)\n",
    "x=2.*u -1.\n",
    "def randnms(mu, sigma, n):\n",
    "    return sigma*np.random.randn(n) + mu\n",
    "y=a0+a1*x+randnms(0.,noiseSD,N)\n",
    "plt.scatter(x,y)"
   ]
  },
  {
   "cell_type": "code",
   "execution_count": null,
   "metadata": {
    "collapsed": true
   },
   "outputs": [],
   "source": [
    "from scipy.stats import norm\n",
    "from scipy.stats import multivariate_normal\n",
    "def cplot(f, ax=None):\n",
    "    if not ax:\n",
    "        plt.figure()\n",
    "        ax=plt.gca()\n",
    "    xx,yy=np.mgrid[-1:1:.01,-1:1:.01]\n",
    "    pos = np.empty(xx.shape + (2,))\n",
    "    pos[:, :, 0] = xx\n",
    "    pos[:, :, 1] = yy\n",
    "    ax.contourf(xx, yy, f(pos))\n",
    "    #data = [x, y]\n",
    "    return ax\n",
    "def plotSampleLines(mu, sigma, numberOfLines, dataPoints=None, ax=None):\n",
    "    #Plot the specified number of lines of the form y = w0 + w1*x in [-1,1]x[-1,1] by\n",
    "    # drawing w0, w1 from a bivariate normal distribution with specified values\n",
    "    # for mu = mean and sigma = covariance Matrix. Also plot the data points as\n",
    "    # blue circles. \n",
    "    #print \"datap\",dataPoints\n",
    "    if not ax:\n",
    "        plt.figure()\n",
    "        ax=plt.gca()\n",
    "    for i in range(numberOfLines):\n",
    "        w = np.random.multivariate_normal(mu,sigma)\n",
    "        func = lambda x: w[0] + w[1]*x\n",
    "        xx=np.array([-1,1])\n",
    "        ax.plot(xx,func(xx),'r', alpha=0.5)\n",
    "    if dataPoints:\n",
    "        ax.scatter(dataPoints[0],dataPoints[1])\n",
    "    ax.set_xlim([-1,1])\n",
    "    ax.set_ylim([-1,1])\n"
   ]
  },
  {
   "cell_type": "code",
   "execution_count": null,
   "metadata": {
    "collapsed": false
   },
   "outputs": [],
   "source": [
    "likelihoodSD = noiseSD # Assume the likelihood precision, beta, is known.\n",
    "likelihoodPrecision = 1./(likelihoodSD*likelihoodSD)\n",
    "priorMean = np.zeros(2)\n",
    "priorSigma = np.eye(2)/priorPrecision #Covariance Matrix\n",
    "priorPDF = lambda w: multivariate_normal.pdf(w,priorMean,priorSigma)\n",
    "priorPDF([1,2])"
   ]
  },
  {
   "cell_type": "code",
   "execution_count": null,
   "metadata": {
    "collapsed": false
   },
   "outputs": [],
   "source": [
    "cplot(priorPDF);"
   ]
  },
  {
   "cell_type": "code",
   "execution_count": null,
   "metadata": {
    "collapsed": false
   },
   "outputs": [],
   "source": [
    "plotSampleLines(priorMean,priorSigma,6)"
   ]
  },
  {
   "cell_type": "code",
   "execution_count": null,
   "metadata": {
    "collapsed": true
   },
   "outputs": [],
   "source": [
    "# Given the mean = priorMu and covarianceMatrix = priorSigma of a prior\n",
    "# Gaussian distribution over regression parameters; observed data, xtrain\n",
    "# and ytrain; and the likelihood precision, generate the posterior\n",
    "# distribution, postW via Bayesian updating and return the updated values\n",
    "# for mu and sigma. xtrain is a design matrix whose first column is the all\n",
    "# ones vector.\n",
    "def update(x,y,likelihoodPrecision,priorMu,priorSigma): \n",
    "    postSigmaInv  = np.linalg.inv(priorSigma) + likelihoodPrecision*np.outer(x.T,x)\n",
    "    postSigma = np.linalg.inv(postSigmaInv)\n",
    "    postMu = np.dot(np.dot(postSigma,np.linalg.inv(priorSigma)),priorMu) + likelihoodPrecision*np.dot(postSigma,np.outer(x.T,y)).flatten()\n",
    "    postW = lambda w: multivariate_normal.pdf(w,postMu,postSigma)\n",
    "    return postW,postMu,postSigma"
   ]
  },
  {
   "cell_type": "code",
   "execution_count": null,
   "metadata": {
    "collapsed": false
   },
   "outputs": [],
   "source": [
    "# For each iteration plot  the\n",
    "# posterior over the first i data points and sample lines whose\n",
    "# parameters are drawn from the corresponding posterior. \n",
    "fig, axes=plt.subplots(figsize=(12,30), nrows=5, ncols=2);\n",
    "mu = priorMean\n",
    "sigma = priorSigma\n",
    "iterations=2\n",
    "muhash={}\n",
    "sigmahash={}\n",
    "k=0\n",
    "for i in [1,2,3,4,5,6,7,8,9,10,11,12,13,14,15,16,17,18,19]:\n",
    "    postW,mu,sigma = update(np.array([1,x[i]]),y[i],likelihoodPrecision,mu,sigma)\n",
    "    muhash[i]=mu\n",
    "    sigmahash[i]=sigma\n",
    "    if i in [1,4,7,10,19]:\n",
    "        cplot(postW, axes[k][0])\n",
    "        plotSampleLines(muhash[i],sigmahash[i],6, (x[0:i],y[0:i]), axes[k][1])\n",
    "        k=k+1\n"
   ]
  },
  {
   "cell_type": "markdown",
   "metadata": {},
   "source": [
    "### The multiple risks\n",
    "\n",
    "We learned earlier that there are *two risks in learning* that we must consider, one to *estimate probabilities*, which we call **estimation risk**, and one to *make decisions*, which we call **decision risk**. We motivated these by the different processes needed to estimate probabilities and make decisions, but deferred a further discussion of them. Now's the time to have that discussion.\n",
    "\n",
    "What do we mean by a \"decision\" exactly? We'll use the letter $g$ here to indicate a decision, in both the regression and classification problems. In the classification problem, one example of a decision is the process used to choose the class of a sample, given the probability of being in that class. As another example, consider the cancer story from before. The decision may be: ought we biopsy, or ought we not biopsy. By minimizing the estimation risk, we obtain a probability that the patient has cancer. We must mix these probabilities with \"business knowledge\" or \"domain knowledge\" to make a decision. \n",
    "\n",
    "What we must additionally supply is the **decision loss** $l(y,g)$ or **utility** $u(l,g)$ (profit, or benefit) in making a decision $g$ when the predicted variable has value $y$. For example, we must provide all of the losses $l$(no-cancer, biopsy), $l$(cancer, biopsy), $l$(no-cancer, no-biopsy), and $l$(cancer, no-biopsy). One set of choices for these losses may be 20, 0, 0, 200 respectively.\n",
    "\n",
    "To simplify matters though, lets presently insist that the **decision space** from which the decision $g$is chosen is the same as the space from which $y$ is chosen. In other words, the decision to be made is a classification. Then we can use these losses to penalize mis-classification asymmetrically if we desire. In the cancer example, we then set $l$(observed-no-cancer, predicted cancer) to be 20 and $l$(observed-cancer, predicted-no-cancer) to be 200. This is the situation we encountered before where we penalize the false negative(observed cancer not predicted to be cancer) much more than the false positive(observed non-cancer predicted to be cancer)."
   ]
  },
  {
   "cell_type": "markdown",
   "metadata": {},
   "source": [
    "## Circling the wagons: Learning uses average risk\n",
    "\n",
    "What is this process? The idea is quite simple, and you have probably already thought about it intuitively even without knowing it. We simply weigh each combinations loss by the probability that that combination can happen:\n",
    "\n",
    "$$R_{g}(x) = \\sum_y l(y,g(x)) p(y|x).$$\n",
    "\n",
    "That is, we calculate the **average risk** over all choices y, of making choice g for a given sample.\n",
    "\n",
    "Then, if we want to calculate the overall risk, given all the samples in our set, we calculate:\n",
    "\n",
    "\\begin{eqnarray*}\n",
    "R(g) &=& \\sum_x p(x) R_{g}(x) = \\sum_x p(x) \\sum_y l(y,g(x)) p(y|x) \\\\\n",
    "&=& \\sum_x \\sum_y l(y,g(x)) p(x) p(y|x) = \\sum_x \\sum_y l(y,g(x)) p(x,y)\n",
    "\\end{eqnarray*}\n",
    "\n",
    "To make the best decision, we then minimize over all possible decisions $g(x)$:\n",
    "\n",
    "$$g^* = \\arg\\min_{g} R(g).$$\n",
    "\n",
    "for which it is enough to do the minimization on a per-sample basis:\n",
    "\n",
    "$$g^*(x) = \\arg\\min_{g(x) \\in y} R_{g}(x).$$\n",
    "\n",
    "For example, if there are two classes $1$ and $0$ we can classify data into, we have:\n",
    "\n",
    "$$R_g(x) = l(1, g)p(1|x) + l(0, g)p(0|x).$$\n",
    "\n",
    "Then for the \"decision\" $g=1$ we have:\n",
    "\n",
    "$$R_1(x) = l(1,1)p(1|x) + l(0,1)p(0|x),$$\n",
    "\n",
    "and for the \"decision\" $g=0$ we have:\n",
    "\n",
    "$$R_0(x) = l(1,0)p(1|x) + l(0,0)p(0|x).$$\n",
    "\n",
    "Now, we'd choose $1$ for the sample at $x$ if:\n",
    "\n",
    "$$R_1(x) \\le R_0(x).$$\n",
    "\n",
    "This process is illustrated in the diagram below."
   ]
  },
  {
   "cell_type": "markdown",
   "metadata": {},
   "source": [
    "####The symmetric case with 1-0 risk\n",
    "\n",
    "For the 1-0 loss, $l(1,1) = l(0,0) =0$ and $l(1,0) = l(0,1) = 1$, and we get:\n",
    "\n",
    "$$R_1(x) = p(0|x), R_0(x) = p(1|x).$$\n",
    "\n",
    "We'd choose $1$ if:\n",
    "\n",
    "$$R_1(x) \\le R_0(x)$$\n",
    "\n",
    "for a given sample $x$. Thus we get back the \"intuitive\" prescrription for classification we have been using so far: **choose $1$ if**:\n",
    "\n",
    "$$p(1|x) \\ge p(0|x).$$\n",
    "\n",
    "Since these add to 1, this is equivalent to saying **choose $1$ if $p(1|x) \\ge 0.5$**\n",
    "\n",
    "This risk is one you cant do better than, and is called the **Bayes Risk**."
   ]
  },
  {
   "cell_type": "markdown",
   "metadata": {},
   "source": [
    "Where in the machine learning process ought one to do this risk penalization? Remember again that there are two risks in learning. The first risk is the estimation risk, and we use this to *estimate the model on the training set*. We then cross-validate by calculating a score, or risk, on the validation set, and minimizing it. What is this risk that we minimize on the validation set? Is this the estimation risk, or is this the decision risk?\n",
    "\n",
    "Remember that ERM is actually a special case of the risk minimization rule introduced here. Lets see this again (wee saw it before in Bayes 1). Basically we choose as the joint probability $p(x, y)$ a special kind of function which has the value $1/N$ at every sample and zero elsewhere: this is called the **empirical probability distribution** and is written like this:\n",
    "\n",
    "$$p(x,y) = \\frac{1}{N}\\sum_{i \\in \\dat} \\delta(x - x_i) \\delta(y - y_i).$$\n",
    "\n",
    "The function $\\delta(x - x_i)$ is a very simple function, called the **Dirac Delta** function, which has value 1 at $x=x_i$ and 0 elsewhere. Thus\n",
    "\n",
    "$$\\sum_x f(x) \\delta(x - x_i) = f(x_i)$$\n",
    "\n",
    "\\begin{eqnarray*}\n",
    "R(g) = \\sum_x \\sum_y l(y,g(x)) p(x,y) &=& \\sum_x \\sum_y l(y, g(x)) \\frac{1}{N}\\sum_{i \\in \\dat} \\delta(x - x_i) \\delta(y - y_i)\\\\\n",
    "&=& \\frac{1}{N}\\sum_{i \\in \\dat} \\left(\\sum_x \\delta(x - x_i) \\sum_y  \\delta(y - y_i) l(y, g(x)) \\right)\\\\\n",
    "&=& \\frac{1}{N}\\sum_{i \\in \\dat} \\left(\\sum_x \\delta(x - x_i) l(y_i, g(x)) \\right)\\\\\n",
    "&=& \\frac{1}{N}\\sum_{i \\in \\dat} l(y_i, g(x_i))\n",
    "\\end{eqnarray*}\n",
    "\n",
    "Models like SVM which do not give us probabilities are learned directly with the ERM risk both as estimation and decision risk. "
   ]
  },
  {
   "cell_type": "markdown",
   "metadata": {},
   "source": [
    "###The regression case\n",
    "\n",
    "####The use of the posterior predictive\n",
    "\n",
    "This is exactly the risk we use in ERM. For regression we use $l(y_i, g(x_i)) = (y_i - g(x_i)^2$, where we interpret $g$ to be a **point-estimate** from a distribution of possible $y$'s at a given x. Where did this distribution arise from? In the Bayesian scenario this distribution arises naturally as the *posterior predictive*. In the frequentist scenario, we get them from different samples of our true population. Well, each set gives us a different $y$ and thus we get a distribution at a given x. Now, whow do we choose g? We can use decision loss $l(y,g) = (g-y)^2$ or even $l(y,g) = | g- y |$. The former one leads to the mean as the point estimate, the latter the median. \n",
    "\n",
    "This is why in beginning stats courses, the regression line is $E[y|x]$. It didnt have to be, but the choice of the squared loss makes it so.\n",
    "\n",
    "Remember that the idea we used in empirical risk minimization (ERM) is that validation or cross-validation risk is a proxy that estimates the risk on the population, the out-of-sample risk. But, notice from above that ERM minimizes decision risk, having **already estimated the probability distribution by the empirical probability distribution**. Thus, the model with the lowest cross-validation risk minimizes the population or out of sample error, leading to a model which generalizes well in the sense that the model that **will best minimize decision risk on future samples**. Or to put it another way, minimize the decision risk in your c-val process. Thats why standard `sklearn` uses accuracy, and cross-validation routines allow us to specify different scores, such as the F1-score, etc. And this is why you should be calculating ROC curves on the validation set, rather than the test set as we did on the homework. (The other reason for doing that is that it gives us an inference on the ROC curve, AUC, or associated metric)."
   ]
  },
  {
   "cell_type": "markdown",
   "metadata": {},
   "source": [
    "###Back to classification\n",
    "\n",
    "Typically, in a probabilistic classification model, say for example, when we do logistic regression with a log-loss, we have used this log-loss as an estimation loss to obtain the probability density $p(y|x)$. Two things now need to happen in the validation process: (a) we need to estimate the regularization parameter $C$, and (b) we need to make classification decisions using our decision risk.\n",
    "\n",
    "####Setting the hyperparameters\n",
    "But remember that we also set hyperparameters like $C$ based on our validation process. At first glance, this might seem wierd, since the regularization term is part of the estimation loss. But if you think about *choosing hyperparameters as choosing between different models, as opposed to choosing parameters of a model*, the wierdness goes away. What you do is you choose a value of $C$ on the grid, and *then train* the models other parameters using *estimation risk* on the training data. We then calculate the *decision risk* on the validation data. We compare all these decision risks and choose the $C$ with the lowest decision risk; that is, we choose the *model* with the smallest validation-set decision risk:\n",
    "\n",
    "$$R_{decision}(g_C) = \\frac{1}{N} \\sum_{i \\in \\dat_{validation}} l(y_i,g_C(x_i)).$$\n",
    "\n",
    "$$g_{C^*} = \\arg\\min_{g_C} R_{decision}(g_C).$$\n",
    "\n",
    "Here $g_C$ indicates that the model is chosen for a particular value of $C$, and $C^*$ is the final value we settle on as part of the minimization process.If our decision loss is different, such as in the asymmetric case, it is this asymmetric loss we must use at the validation stage, since *generalization means finding a model that will best minimize decision risk on future samples*. \n",
    "\n",
    "Note that validation sets are typically smaller than training sets, since we are fitting less hyperparameters like $C$ in this model selection process on the validation set than model parameters like logistic regression coefficients on the training sets.\n",
    "\n",
    "####Validation is ERM on decision risk\n",
    "\n",
    "Something else might be bothering you now. When we trained our model on the training set for a given value of $C$, we did two things: we estimated the parameters of the model, and we estimated $p(y|x)$. Why not use this probability directly in the equation for overall risk to calculate it? Why are we doing the sum over validation points above? The answer is that we dont have an estimate of $p(x)$, which is needed in the calculation of the overall risk. So instead we must use an approximation to $p(x)$:\n",
    "\n",
    "$$p(x) = \\frac{1}{N_{validation}} \\sum_{i \\in \\dat_{validation}} \\delta(x - x_i)$$\n",
    "\n",
    "which then gives us the equation we used above.\n",
    "\n",
    "####Recap of the process of learning\n",
    "\n",
    "With these loose ends tied up, lets recap what we did: we used the estimation loss (log-loss in Logistic Regression) to estimate the probabilities. Then we were faced with the problem of converting the probabilities into classification decisions. For this we used the decision loss on the validation data set, which might be identical to the estimation loss, a 1-0 loss in the symmetric case, or even an asymmetric loss like the one used above. The validation process provides a second service: model selection, helping us pick the best validation parameter. Furthermore, the validation risk is  an unbiased estimate of the out-of-sample risk, and by using the decision risk as the validation risk, we ensure that \"good generalization\" means choosing a model which makes the \"right\" decisions on future data.\n",
    "\n",
    "In ERM only models like SVM (where we use a regularized hinge loss), there is no probability estimation. Typically we'lll use the same loss for parameter estimation (rather than likelihood or probability estimation) in the estimation phase on the training data, as we use in the decision phase on the validation data. Of-course if we directly want to make a decision like biopsy|no-biopsy or an asymmetric classification, we alter the decision risk to take care of this, having trained the parameters of our model (such as the SVM line/plane coefficients)."
   ]
  }
 ],
 "metadata": {
  "kernelspec": {
   "display_name": "Python 2",
   "language": "python",
   "name": "python2"
  },
  "language_info": {
   "codemirror_mode": {
    "name": "ipython",
    "version": 2
   },
   "file_extension": ".py",
   "mimetype": "text/x-python",
   "name": "python",
   "nbconvert_exporter": "python",
   "pygments_lexer": "ipython2",
   "version": "2.7.10"
  }
 },
 "nbformat": 4,
 "nbformat_minor": 0
}
