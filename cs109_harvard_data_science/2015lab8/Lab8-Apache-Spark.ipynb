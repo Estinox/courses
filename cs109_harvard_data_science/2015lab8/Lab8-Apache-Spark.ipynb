{
 "cells": [
  {
   "cell_type": "markdown",
   "metadata": {},
   "source": [
    "# CS-109: Fall 2015  -- Lab 8"
   ]
  },
  {
   "cell_type": "markdown",
   "metadata": {},
   "source": [
    "## Apache Spark\n",
    "![Alt apache spark](img/spark-logo.png)"
   ]
  },
  {
   "cell_type": "markdown",
   "metadata": {
    "collapsed": true
   },
   "source": [
    "Apache Spark is an open source cloud computing framework that was original developed in AMPLab at UC Berkley and later donated to Apache Software Foundation. By loading data into cluster's memory's, Spark is able to achieve nearly 100x speed up compared to MapReduce for certain applications."
   ]
  },
  {
   "cell_type": "code",
   "execution_count": null,
   "metadata": {
    "collapsed": false
   },
   "outputs": [],
   "source": [
    "%matplotlib inline\n",
    "import numpy as np\n",
    "import seaborn as sns\n",
    "import matplotlib.pyplot as plt"
   ]
  },
  {
   "cell_type": "markdown",
   "metadata": {},
   "source": [
    "### Finding SparkContext"
   ]
  },
  {
   "cell_type": "markdown",
   "metadata": {},
   "source": [
    "`findspark` library enables ipython notebook to interact with SparkContext "
   ]
  },
  {
   "cell_type": "code",
   "execution_count": null,
   "metadata": {
    "collapsed": false
   },
   "outputs": [],
   "source": [
    "import findspark\n",
    "findspark.init() \n",
    "\n",
    "import pyspark\n",
    "sc = pyspark.SparkContext()"
   ]
  },
  {
   "cell_type": "markdown",
   "metadata": {},
   "source": [
    "### Example: Estimating $\\pi$"
   ]
  },
  {
   "cell_type": "markdown",
   "metadata": {},
   "source": [
    "Let us start by estimating $\\pi$ using Monte Carlo simulation with Spark.  \n",
    "\n",
    "Imagine that we throw 1 million sand particles into a unit square box.  We obtain fraction of particles that land within the area of under $x^2 + y^2$, and after multiplying this fraction by four, we arrive at a rough approximation of $\\pi$."
   ]
  },
  {
   "cell_type": "markdown",
   "metadata": {},
   "source": [
    "![Alt estimate Pi](img/estimate_pi.gif)"
   ]
  },
  {
   "cell_type": "code",
   "execution_count": null,
   "metadata": {
    "collapsed": true
   },
   "outputs": [],
   "source": [
    "# Function to sample a point\n",
    "def sample(d):  # Ignore d\n",
    "    x = np.random.uniform(0,1); y = np.random.uniform(0,1);\n",
    "    return x*x + y*y < 1."
   ]
  },
  {
   "cell_type": "code",
   "execution_count": null,
   "metadata": {
    "collapsed": false
   },
   "outputs": [],
   "source": [
    "import time\n",
    "N = int(10e6)\n",
    "start = time.time()\n",
    "total = sc.parallelize(range(N)).map(sample).reduce(lambda a,b: a+b)\n",
    "print(\"Pi estimate:\", (total / float(N) * 4))\n",
    "print(\"Duration: %.5f Seconds\" % (time.time() - start))"
   ]
  },
  {
   "cell_type": "code",
   "execution_count": null,
   "metadata": {
    "collapsed": false
   },
   "outputs": [],
   "source": [
    "print(\"Numpy Estimate:\", np.pi)"
   ]
  },
  {
   "cell_type": "markdown",
   "metadata": {},
   "source": [
    "Our estimate is fairly close to the Numpy's $\\pi$.  However, if we increase the number of samples ($N$), we can achieve even greater accuracy at the cost of run time."
   ]
  },
  {
   "cell_type": "markdown",
   "metadata": {},
   "source": [
    "### Example: Zipf's Law\n",
    "\n",
    "Named after the American linguist George Kingsley Zipf (1902-1950), Zipf's Law describes an empirical law that describes the phenomenon in the physical and social sciences where many types of data can be approximated by Zipf distribution - a family of discrete power law probability distributions.\n",
    "\n",
    "In linguistics, Zipf's law states that given some text of natural language, the frequency of any word is inversely proportional to its rank in the frequency table.  The most frequent word will occur approximately twice as often as the second most frequent word, three times as often as the third most frequent word, etc. \n",
    "\n",
    "Zipf's law then predicts that frequency of element of rank $k$ can be approximated by,\n",
    "\n",
    "$$f(k; s, N) = \\frac{1/k^s}{\\sum_{n=1}^N (1/n^s)}$$\n",
    "\n",
    "where $N$ is the number of elements, and $s$ is the value of the exponent characterizing the distribution.  Normally, $s$ is defined to be $1$."
   ]
  },
  {
   "cell_type": "code",
   "execution_count": null,
   "metadata": {
    "collapsed": false
   },
   "outputs": [],
   "source": [
    "f = lambda rank,elements,s: 1/(np.sum(1./(np.arange(1,elements+1)**s)) * rank**s)"
   ]
  },
  {
   "cell_type": "code",
   "execution_count": null,
   "metadata": {
    "collapsed": false
   },
   "outputs": [],
   "source": [
    "ranks = np.arange(1,51)\n",
    "N = 5000\n",
    "s = 1.0\n",
    "\n",
    "plt.figure(figsize=(12,6))\n",
    "plt.plot(ranks,f(ranks,N,s), 'o-')\n",
    "plt.title(\"Zipfian Distribution PMF\")\n",
    "plt.xlabel(\"k: rank\")\n",
    "plt.ylabel(\"p: probability\")\n",
    "plt.show()"
   ]
  },
  {
   "cell_type": "markdown",
   "metadata": {},
   "source": [
    "Although primarily studied in ranking of words in natural language, Zipf's law has been found to be true in the ranking of cities by population size (Gabaix 1999) and the ranking of US firms (Axtell 2001). "
   ]
  },
  {
   "cell_type": "markdown",
   "metadata": {},
   "source": [
    "### wordcount.org"
   ]
  },
  {
   "cell_type": "markdown",
   "metadata": {},
   "source": [
    "http://www.wordcount.org/main.php"
   ]
  },
  {
   "cell_type": "markdown",
   "metadata": {},
   "source": [
    "Developed in 2003 by Jonathan Harris, wordcount.org keeps count of over 100 million collection of words from the <a href=\"http://www.natcorp.ox.ac.uk/\">British National Corpus</a> (BNC), which includes spoken and written sources. It keeps track of words that occurs at least twice in the BNC."
   ]
  },
  {
   "cell_type": "markdown",
   "metadata": {},
   "source": [
    "<img src=\"img/wordcountorg.png\" width=\"600px\">"
   ]
  },
  {
   "cell_type": "markdown",
   "metadata": {},
   "source": [
    "### Word Count from Project Gutenberg Texts"
   ]
  },
  {
   "cell_type": "markdown",
   "metadata": {
    "collapsed": true
   },
   "source": [
    "In this example, we will attempt to replicate the results from wordcount.org by processing a large volume of sample texts.  We'll use Spark to read the text data, process the texts, and examine the total number of unique words.  \n",
    "\n",
    "We will sample 16 texts from [Project Gutenberg](https://www.gutenberg.org/ \"Title\").  We should note that while these texts represent some of the most popular classic English literature, many of them are over 100 years old and therefore may not be representative of lexicon of English language today."
   ]
  },
  {
   "cell_type": "code",
   "execution_count": null,
   "metadata": {
    "collapsed": false
   },
   "outputs": [],
   "source": [
    "import os\n",
    "os.listdir('data')"
   ]
  },
  {
   "cell_type": "markdown",
   "metadata": {},
   "source": [
    "#### Parsing a String\n",
    "\n",
    "We'll begin by writing a function that will parse long string of text into individual words.  This function must also eliminate any punctuation marks including \",\" and \".\".  In addition, all the words must be in lowercase characters such that, for example, \"Bank\" and \"bank\" are not captured as separate words."
   ]
  },
  {
   "cell_type": "code",
   "execution_count": null,
   "metadata": {
    "collapsed": false
   },
   "outputs": [],
   "source": [
    "import re\n",
    "\n",
    "def parsewords(sentence):\n",
    "    # Convert all non-alphanumeric characters into empty string\n",
    "    sentence_clean = re.sub(r'([^A-Za-z0-9\\s+])', '', sentence)  \n",
    "    words = sentence_clean.split(' ')\n",
    "    # Convert to lowercase and eliminate empty string words\n",
    "    return [word.lower() for word in words if word != ''] "
   ]
  },
  {
   "cell_type": "markdown",
   "metadata": {},
   "source": [
    "Let's test out this function using a test string."
   ]
  },
  {
   "cell_type": "code",
   "execution_count": null,
   "metadata": {
    "collapsed": true
   },
   "outputs": [],
   "source": [
    "sample_sentence = \"Alice was beginning to get very tired of sitting by her sister on the \\\n",
    "bank, and of having nothing to do: once or twice she had peeped into the \\\n",
    "book her sister was reading, but it had no pictures or conversations in \\\n",
    "it, 'and what is the use of a book,' thought Alice 'without pictures or \\\n",
    "conversations?'\""
   ]
  },
  {
   "cell_type": "code",
   "execution_count": null,
   "metadata": {
    "collapsed": false,
    "scrolled": true
   },
   "outputs": [],
   "source": [
    "parsewords(sample_sentence)[:20]"
   ]
  },
  {
   "cell_type": "markdown",
   "metadata": {},
   "source": [
    "#### Load Text Files"
   ]
  },
  {
   "cell_type": "markdown",
   "metadata": {},
   "source": [
    "Next, we'll load up the text files and create a text file RDD.  Spark provides `textFile` method to read a text file and return it as a RDD."
   ]
  },
  {
   "cell_type": "code",
   "execution_count": null,
   "metadata": {
    "collapsed": false
   },
   "outputs": [],
   "source": [
    "textsRDD = sc.textFile('data/'+os.listdir('data')[0])\n",
    "for txt in os.listdir('data')[1:]:\n",
    "    file_dir = 'data/' + txt\n",
    "    textRDD = sc.textFile(file_dir)\n",
    "    textsRDD = textsRDD.union(textRDD)"
   ]
  },
  {
   "cell_type": "code",
   "execution_count": null,
   "metadata": {
    "collapsed": false
   },
   "outputs": [],
   "source": [
    "textsRDD.take(20)"
   ]
  },
  {
   "cell_type": "markdown",
   "metadata": {},
   "source": [
    "We have a a RDD that is a collection of strings.  We'll start by mapping the function `parsewords` to each of the line of strings in `textsRDD`."
   ]
  },
  {
   "cell_type": "code",
   "execution_count": null,
   "metadata": {
    "collapsed": false
   },
   "outputs": [],
   "source": [
    "textsRDD.map(parsewords).take(5)  # Not quite what we want!"
   ]
  },
  {
   "cell_type": "markdown",
   "metadata": {},
   "source": [
    "Unfortunately, the result of mapping `parsewords` to `textsRDD` did not yield the result that we want. \n",
    "\n",
    "RDD has `flatMap` method that will map a function that has been passed in as a parameter to elements of the RDD and flatten the result.  We'll use `flatMap` method and apply `parsewords` function to create a new RDD of words. "
   ]
  },
  {
   "cell_type": "code",
   "execution_count": null,
   "metadata": {
    "collapsed": false
   },
   "outputs": [],
   "source": [
    "wordRDD = textsRDD.flatMap(parsewords)\n",
    "wordRDD.take(20)"
   ]
  },
  {
   "cell_type": "markdown",
   "metadata": {},
   "source": [
    "Now that we have an RDD of words, let's examine how many words are in our sample texts."
   ]
  },
  {
   "cell_type": "code",
   "execution_count": null,
   "metadata": {
    "collapsed": false
   },
   "outputs": [],
   "source": [
    "# Total Number of Words in our Sample\n",
    "total_count = wordRDD.count()\n",
    "print \"Total Word Count:\", total_count"
   ]
  },
  {
   "cell_type": "markdown",
   "metadata": {},
   "source": [
    "We will use `map` method of the RDD to convert each occurance of word into a (key,value) pair and create a new RDD called `wordPairRDD`.  If you saw the word count example in MapReduce, you should be familiar with this pattern. "
   ]
  },
  {
   "cell_type": "code",
   "execution_count": null,
   "metadata": {
    "collapsed": false,
    "scrolled": true
   },
   "outputs": [],
   "source": [
    "# Convert individual word into a pair of (word,1) tuple \n",
    "wordPairRDD = wordRDD.map(lambda word: (word,1))\n",
    "wordPairRDD.take(20)"
   ]
  },
  {
   "cell_type": "markdown",
   "metadata": {},
   "source": [
    "We have converted wordRDD into a a new RDD that holds each instance of word into a (key,value) pair.  Let's use reduceByKey method to sum up the counts and create a new RDD, `wordCountRDD`. "
   ]
  },
  {
   "cell_type": "code",
   "execution_count": null,
   "metadata": {
    "collapsed": false
   },
   "outputs": [],
   "source": [
    "wordCountRDD = wordPairRDD.reduceByKey(lambda x,y: x+y)\n",
    "wordCountRDD.take(20)"
   ]
  },
  {
   "cell_type": "code",
   "execution_count": null,
   "metadata": {
    "collapsed": false
   },
   "outputs": [],
   "source": [
    "# Number of Unique Words\n",
    "unique_count = wordCountRDD.count()\n",
    "print \"Total Unique Words:\", unique_count"
   ]
  },
  {
   "cell_type": "markdown",
   "metadata": {},
   "source": [
    "Since `wordCountRDD` contains unique words and their counts, we sort them by `takeOrdered` method of RDD specifying the the ordering function to order by the values in (key,value) pairs.  We will only select top 50 words."
   ]
  },
  {
   "cell_type": "code",
   "execution_count": null,
   "metadata": {
    "collapsed": false
   },
   "outputs": [],
   "source": [
    "# Select Top 50 words in descending order of frequency\n",
    "top50Words = wordCountRDD.takeOrdered(50, key=lambda x: -x[1]) # Use '-' to sort in descending order\n",
    "top50Words"
   ]
  },
  {
   "cell_type": "markdown",
   "metadata": {},
   "source": [
    "### Chaining\n",
    "\n",
    "<img src=\"img/word_count_RDD_transformation.jpeg\" width=\"600px\">\n",
    "\n",
    "Although we have performed each transformation in separate steps, Spark enables us to perform these four steps in one line of code by chaining them together.\n",
    "\n",
    "Although Python is strict about indentation, we use a convenient trick of wrapping a chain of RDD methods inside a parenthesis.  This trick enables us to chain multiple RDD methods in several lines of code, which enhances readability of your code. "
   ]
  },
  {
   "cell_type": "code",
   "execution_count": null,
   "metadata": {
    "collapsed": false
   },
   "outputs": [],
   "source": [
    "top50Words = (textsRDD.flatMap(parsewords)\n",
    "                      .map(lambda word: (word,1))\n",
    "                      .reduceByKey(lambda x,y: x+y)\n",
    "                      .takeOrdered(50, key=lambda x: -x[1]))"
   ]
  },
  {
   "cell_type": "code",
   "execution_count": null,
   "metadata": {
    "collapsed": false
   },
   "outputs": [],
   "source": [
    "words = list()\n",
    "counts = list()\n",
    "for pair in top50Words:\n",
    "    words.append(pair[0])\n",
    "    counts.append(pair[1])\n",
    "\n",
    "plt.figure(figsize=(14,6))\n",
    "plt.bar(range(1,51), np.array(counts) / float(total_count), label=\"Word Frequency\", align='center')\n",
    "plt.plot(ranks, f(ranks,N,s), c='r', label=\"$f(k,s,N)$\")\n",
    "plt.xticks(range(1,51), words[:50], rotation=60, fontsize=14)\n",
    "plt.title(\"Frequency of Top 50 Words\",fontsize=18)\n",
    "plt.legend(fontsize=14)\n",
    "plt.xlim(0.5,50.5)\n",
    "plt.show()"
   ]
  },
  {
   "cell_type": "markdown",
   "metadata": {},
   "source": [
    "Although not exact, the word frequency from our sample of texts follows the Zipf distribution closely.  We also see that in our sample texts, \"and\" is the second most frequently occuring word.  This is in contrast to the word frequency ordering of BNC in which \"of\" is ranked second and \"and\" is ranked third.    "
   ]
  },
  {
   "cell_type": "markdown",
   "metadata": {},
   "source": [
    "For those who are proficient in another language besides English, we encourage you to perform this exercise in another language and share the result with your classmates on Piazza.  "
   ]
  },
  {
   "cell_type": "markdown",
   "metadata": {
    "collapsed": true
   },
   "source": [
    "For more examples of Spark in Python, please take a look at various examples in [Apache Spark official github repository](https://github.com/apache/spark/tree/master/examples/src/main/python).  \n",
    "\n",
    "For detailed discussions about transformations and actions in Spark RDD instance, read through [Apache Spark's official pyspark documentation](http://spark.apache.org/docs/latest/api/python/pyspark.html)."
   ]
  },
  {
   "cell_type": "code",
   "execution_count": null,
   "metadata": {
    "collapsed": true
   },
   "outputs": [],
   "source": []
  }
 ],
 "metadata": {
  "kernelspec": {
   "display_name": "Python 2",
   "language": "python",
   "name": "python2"
  },
  "language_info": {
   "codemirror_mode": {
    "name": "ipython",
    "version": 2
   },
   "file_extension": ".py",
   "mimetype": "text/x-python",
   "name": "python",
   "nbconvert_exporter": "python",
   "pygments_lexer": "ipython2",
   "version": "2.7.10"
  }
 },
 "nbformat": 4,
 "nbformat_minor": 0
}
